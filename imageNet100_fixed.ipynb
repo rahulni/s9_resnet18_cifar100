{
 "cells": [
  {
   "cell_type": "code",
   "execution_count": 1,
   "metadata": {
    "colab": {
     "base_uri": "https://localhost:8080/",
     "height": 1000,
     "referenced_widgets": [
      "7160cf393ff34c49ba62da0c75335f0e",
      "007747358f5248c99d8c4e291523014e",
      "d7e33dbdca5545e6a11b60af8a4096b8",
      "d4353b7c69644cb4b3252e37b5b0ad7e",
      "1d568819a8224615963544b8f5c9a000",
      "0d615e7c272442a288177a69edb2c75d",
      "b38039551f9a4379bfd26aed649884cd",
      "9471e9b51c1d43d182ce511af802d961",
      "b510fd631e424ece83d53a729e54d975",
      "50c501a7afc74b3e889632371c40c76a",
      "5679d03cf4494bb782aa4f22d8152600",
      "d7fdb5f7fc3d4a22b24789ad83473e71",
      "19eea7bafd68491e9b1fc6021a9d1c6e",
      "4be387b8feab483fb78dc8a582641560",
      "2e4a4348993a49d1b48a4b3fc8f5eb65",
      "2db811dd54544f40b838693053e4d239",
      "5ab4ed87804f4c70bfd98b9bac26f718",
      "2323e4841ac64b71a01e52679913922b",
      "032f722e47f64a76ada10d22f49be6c9",
      "76ea677b988c4b0f942b1d5e3e4b694d",
      "d4f57b72b44d4d9dbc068ef3cbd31b9d",
      "f02ffe8d0070467eb1ff19561e6754cd",
      "19c6424dc22644d8a74013ce23acba51",
      "1c6102e50071419583828d5700ab2b2e",
      "137e6c6fb4014498b7d1d0bb519c6e3d",
      "1618717cc722441f82ff76522cf85bcc",
      "1c9e1580c64e429395bf7df0c7bc8ebe",
      "0645604006774363883cba7a0857736b",
      "14ea410848704a8a92776b432ac503de",
      "9fed3eb42ade417687210ffec6c3bc2e",
      "4d41a2c7df6843ebaa814ae9c4ab91bf",
      "8b079f5a51634e60acb30aa2f80f8c84",
      "ce9fc5be27b444f18f2d9be23fbd604e",
      "137c8358465943e591aa0aa32abc12df",
      "b33a0637dcf943a99121ae91e7fd027f",
      "8c6c099d6ead4baaa1b0548e8384827c",
      "58748d49bf284800b2ff6ba3d6ecd274",
      "c92914e95f1b46908709540d40826083",
      "d81d4a20273044f99689951d35f6facb",
      "fe13f29250ee42908078e4ccb7b4ac9f",
      "94c7677607244185bc6b94b0dc844ef6",
      "67ea6070ce9c4890977612b4ba1b9c9a",
      "d38ed0aac71a4a5786daace189351fe6",
      "1000874b185b47aeab08113009a9d459",
      "a79f27332f0d49eda38eca418508eb47",
      "65d8294526b94b798cf7e19cd703090c",
      "0c6a5f9ae7444ae6bcbe0615082270c2",
      "d4beffac939b47eba0ef0eda76d6cda4",
      "fd362b6bd4bd4bf88ae1438a301baba6",
      "7abb22fd7d2b4acbb32170db4f09db77",
      "58c0d9d1354543ba86ca8f70f320bdd3",
      "b5c2d7a962ca48b3bdf87178bd6c933c",
      "a9eb0e92261243fe84160a259e4d8e63",
      "8940cbab2b82470983e742fd6dc5d9b5",
      "70006e241f6d4e3782c3233fbf31df3b",
      "399e840b96ed40dd8cb456a8448a825d",
      "15019c2b5a7b4cdfaf8be44a819c8df3",
      "42ff8f38cfa740e1b38fac9e415bc96f",
      "a86eb39772de4d8a936cde5b14589453",
      "38b46fb7b0c94270bfe20083d400fb1b",
      "ac5fecfcfdd845df8f23bb301e7380b2",
      "9f0e42ed517f4bfd8c4dffa3cf64fd21",
      "93b5487de03d44d59b62cca537fe853f",
      "af96e34092b5480c872cd11064e22f7a",
      "7726c58f54c1455a8993d2ffad51b129",
      "d424f0e731e14bf9b7b9b6e6a5e9d2ed",
      "f9616ee8ed22494fbbcbb2435d93bc3d",
      "63155f3fb8f74b28839b5a7f55297445",
      "4a6bd2e8da7a4e05a6bb5ec4f16b7861",
      "ddfb5fca0d3045aa8d4b0e93e15980ee",
      "6dacd81f571b4e8c89fdc8962f443e52",
      "7f8dd43561354302a65e36bffbe80850",
      "68a703e917914284be30e5640b306639",
      "8139e2ea57264637a2682a164b05c275",
      "73caf0579760479d883d3b2a1556815e",
      "bc17d2a1a7b64a0e9e531d532a5f6a08",
      "f6cc33d9d4ea436699db5eaa8b1f0510",
      "a66d814e1a0b470c98398532b00ee68e",
      "8a36842e8e1741c896bfc4700d4824e1",
      "7b7d78dbd0f24a63bf8c479f893eb149",
      "ae99f9fd5f124fb6abb8862594e5d8ae",
      "41cf74ae16d54736a50c0a5a77fc16eb",
      "cd955378ebbe46fa80f2485e85343a42",
      "8542ce877cd94f20aca83c3bfae45e6f",
      "99246b84e2e442b6bd4a4b4e1e5f1d60",
      "4ba583bbdfc948668f7e7764b5ffaa45",
      "08e3ec8cfee848e9b4781bc938528856",
      "3564d83f87de46319d3a448d75b08c94",
      "72a740510aa84dbf894b06476ea5d7cf",
      "809ce72bfcea4050aac31cf420466f70",
      "5e9ddbdcebea425d9b9a6295777a7522",
      "9371f4a41c9041d8924206d7e843e005",
      "32cc380e8ffa4882945e7d8a71ae78c2",
      "ef0cf08351914d019646299b66570ba1",
      "4548f9b583e0407fb9a20ba109a341eb",
      "7ca7e40141e54c73b8534213ef6c509a",
      "30220c22ec9f488b809e7282e9c12ba6",
      "924fb295b39a437bbffc9d122036d569",
      "dfe6278abe5c4bf9a7c6737c475e9fa4",
      "33e2aaf19cc6470c8de24a999c092d3d",
      "7b3e0f26826a48619cfa8f56f3dac0b2",
      "78597307e09b490687255c83241ce2a2",
      "df40e293ff6141bdaac289f2c2b0636f",
      "2bfae66fc43e4cd1a94b892c8356183a",
      "13daa8190cad4affbad5bf65f5f22827",
      "f052135abbda4bb79b99c66a0460723b",
      "845ac19c480f4a728e6e69255a96ddfd",
      "6c812a0bb5944691b55abd6e16aa85cb",
      "54eed88ec22d4173991c90d9050b471c",
      "43ff80c003cf4617b452faead481fb7e",
      "c1f3c0346f6d48348cdb05b5562f3032",
      "9c5dfc28eb66421aa89767aa69c87408",
      "8b28e500df0f46b1b64c364e91b9066e",
      "7b579b2d6fc54bd48b0c3aec83c83587",
      "2c2d282efe8d4a24b25a09a48a8949bf",
      "4dba99875c934cbb95e8691fd72430c4",
      "fea923ed724a46ed8d96ce5bf3ba24b8",
      "17aa1c58a83b49bfafe5e0b5abd75073",
      "55b7a7656cf84ab5bf0dddcca07861d7",
      "c117ebd22dec4287b63ea4ee16e8a91d",
      "c65aa1a9838d4e648ca5531ea9346a25",
      "69f12bdc4e7d49fc99e5e3e395643fad",
      "0f1a86f06e9f4095a7d59549fcc3b69b",
      "2e61ff6ae47846a98696274a06207187",
      "3591a44abaae4d4bbc68e1ea504ca2dd",
      "1262a2a300cd4d8fafbb0516ad74b3d6",
      "18a8c6167ac944f1964554de28493890",
      "d27857e75ae9474a857b8142509ed489",
      "731329b2eba442b9ad780d0f3fbacc9e",
      "2f41238be3934d059875fbec6d59adb9",
      "2c9b2288143749a4aef81484ca5fc4ac",
      "eae5188429534a8dab4b3ed6b81c3caf",
      "5127d75b1940498bbd0b5ca8d4436bec",
      "14cc184f528f460c9c38faca119737c1",
      "0c3347133dec4ce5955059a7dd00a7b2",
      "71f0adae3e66447fa76b006213d98562",
      "e0c32379f64a4af38e5a1ba656366e52",
      "f7ea24deadb54f6d902ef741ef546d15",
      "739d83b12de84f70a29b5902b0a33f92",
      "4ea9097ae8274237b463c8cca1962cd7",
      "93772741af814828bddfe4d370078a04",
      "d6a5f55372bc4e559f63d8060c538885",
      "9da35fc0f36042ce87ce9ac843292ed0",
      "07bf4c70596f47a28fd18952e772023e",
      "2c2fb9a504184e3a849dfa5685026686",
      "4953bcdb7bca4d4f9b689411eaef825e",
      "a175cfe4c5a3443f84c70775ac31afbd",
      "693765c17a2047fe8279bad3e1eaeb01",
      "ae83079a6483486bb6e187a2d56d2de7",
      "850e4a676532465d9b9a6948f782fbbf",
      "bff5f600a3ac49869316beb26cead3d0",
      "402bce810f074a0aa84778a030b662fa",
      "e6f66bb906944718ae3f4b16276f2fef",
      "c34ca5195057439880171c1af4f6d505",
      "cd53a5aaebd34cb398059786ec4e90a2",
      "1bd9d554c29a4eba9eefd816f42d993e",
      "a3933b14cfa74dc6912ebf0ed46e0564",
      "76c33e9007e8403499d177c8ddbc04d4",
      "f907629a4bbf476ca668831bbfcbdd66",
      "cc9c694b8952455ca72e681fb524e9fd",
      "59531bd7fcb04ab282b6adcbecb8b53f",
      "5c7bb9b79f3e46bba5f625e4b042cf5d",
      "b5851bec3482455f94e6277b8ee806bb",
      "77a9a459be0e49ae86935ed180b91a76",
      "f00dc28994204f69b5107d004daf9959",
      "1215a7b5352c4ffea6af93939a99b00d",
      "3a382e3f85434aef9069c050bb99c5cf",
      "b17e84e52cad4ab2b55ebaceb8fd1893",
      "af0f92ae19f24951ad266c1ce04d6422",
      "eb97de4a7eee47e88ad6b27a7d97371d",
      "2bbb63c69536438dba09e9c62293fd0e",
      "7de66f7c9d194e9fa60402ac8c12f8a5",
      "8e226f89800343a78a4692f68807a954",
      "8fd245b9298f404b84ef464cd2f7770a",
      "5d12ea3f347f439f85b2fa809f04258f",
      "9a860bdb248342b6aa66de2a8003a66c",
      "50f9e457d9ea4b2c8dd3c637bb5adf7d",
      "5d8dd04893a448cdbb0951de3282d02f",
      "49eab3d122004137a8393056d6213a2b",
      "6a714cb0839e49e59672a589dc0069cc",
      "a3e527c904554505b899bb06698f917a",
      "7da5c6e7bde943718c45124aea170254",
      "01524afa60394a9891c48a76fd27e40b",
      "1552dbd2ba5d4f8ea7e2fdcaa25a771a",
      "63bbf3a6bee94a998648c5eb33a0278b",
      "63414eafd41f4e2d906706a1d113234a",
      "69e42ba23d2d471ea3869a2b138f14fe",
      "0714b91711d744df95c4565917284514",
      "81ce1b27e0c5444a95a4587ec9db2ded",
      "43ef784942634e1095200141fa6b8a87",
      "847781e1a006475a81ba041fd4ffd390",
      "affacb55fbe1463ab5c2235239a4dfd5",
      "c712545c1f32466f978d2668eceb6873",
      "12191fbdefdd47e9a386e6414beb8643",
      "6593152c57c4447e97d4699336e05370",
      "3b91cb9c07e64afba40586b65ec85209",
      "fa6f3e71e348424a844a21c24cd5b535",
      "ccc3d21e641a47dc84012b2bbd7db731",
      "ce8ab17b67324cb6b56bbe97cad5cdee",
      "1837bcc84c8c454aa8be4e1b5f3c4caa",
      "ef3e6731ed654a599fefa128b7c8648e",
      "2edc6698168040daa6814c1c379ce287",
      "03c5225c5cc449379ebefbfcfd533784",
      "872c8748d91a458aa14ee11cc0e58bc8",
      "89e010b8a4264ceeaddd42d680c4b52c",
      "a6181fd66ec74a7eaa2be8fa54630c45",
      "d27c345d046a4db4be7c9127243ee17f",
      "1e83ef2393ad44bb80e046281b9ecfcb",
      "78159a49255d436e9292369509580634",
      "0add886fcc084e618a6cd154f01feca2",
      "64aed29e12bc41e48804a0308f174b67",
      "83a33967af494715a32c133cdb8056c3",
      "d1f102dc933745e1bf6f3935ff982851",
      "1238f31806704576a8a73f0c0e03b1d4",
      "098e19abda46458e81a1f0cc4abc42c1",
      "778dc90f88774085b2872dcd93d6159b",
      "43d5fd2ad5274af3923bfe2139fc01f3",
      "648c6d8dffbb429db219feaa0f03cd21",
      "27495688084e460da24a1c4fbc2480bc",
      "f04183e17dae4ba0a5b148d45b8d9118",
      "a7495d291a7749519738c4b9213a0cba",
      "e5fb715788674c3097a1733f930a988d",
      "cee8a121f55d4cfb8aa07611fa1d55d6",
      "4c017640c0ec41709ad2a88b6e519231",
      "18621c5f284c47d4a5a208c6194705b1",
      "78341cff7f0c4235988cdda8388a47b5",
      "a0b80cddf2224658a3cafa31b7d8ff30",
      "a446ee8b2ac9426e8f82fe1801787b1e",
      "251e3657ba154fc2820300f92bd183ba",
      "fad7e8ee48884175a49b2583d8073cfe",
      "beb4f40043464ecfaecf198945ad61a1",
      "cef1101573cb4a75a8c53e9a61bb40fb",
      "77f5d1a012e749f8b8ed780895fc3cd2",
      "6575660270c943d39b85823743e1570f",
      "4823106a32bc4feaa5333bf22c5d5924",
      "e054465e23d44b0bb35ff2d2abf77f6b",
      "a3f95e7510f8481bb2e3fc5bea9e0f01",
      "da3695794a0747a28fcc89465aabda18",
      "672b8a37c90c4b15957094d518e8f439",
      "bc14bd1a13ce419d9dadccc23eaed0a4",
      "5a70c1ce559e43bead3070b16b545b59",
      "5999bc0212eb4825824890288306012d",
      "5cc71d51f9f140f1b9829c593a133bbc",
      "0ed08e4bd39145d39595df22ba3dc930",
      "d2cdc9262e194808b5cedf444081994d",
      "aee77e71113d4b9392d21605a21cdcdb",
      "322b6ba39d9644a2bc56a310a893d616",
      "f3e6235648db458683f934dc59ca8bde",
      "54183c738e77416c9b31dbc4ef3f2396",
      "8d28cadc986546f6ba2a4b9f68516019",
      "8f30adc6fd7343a2b8934f6935afca2f",
      "f4f2773bc37648518e6117195398db34",
      "1134bd2dc8f04ff89f8b2e25ad43cf56",
      "c069d10bb3a142cd9004e36610dc785a",
      "f243897ad41443e8be37c3a145e2c9ff",
      "2b263b209caa432fbd61735df777783f",
      "8ab5bc10835d48edacf99bfa433ffb5e",
      "83d94f813265493fa23ce48a3e759d92",
      "4c2077c85a8e449eb7876274732d9f4c",
      "2a9086d8d1bc403b9d612ecf582f9c8f",
      "fcbe0ba492124535892d5ae35c752127",
      "fbe2e7a7fe2d43b6af2b05e1882007b5",
      "c8856b045be845cea5328be679cf3766",
      "178ef7f9ea7a49f7b32e79b85912a316",
      "80a356d66fda48b882137a6ad73e7f0d",
      "5ff866dbcd9b4f05bb184e4fd96bc77d",
      "9c758a0fd74c4ef8a6aea37e61fed0ca",
      "c78511508fdc4efeaee9fd76861474e5",
      "8b982e96932d43499cdb7cbad202260c",
      "1a21259ba40f4c20baf7d112300ebad2",
      "55d3b2c1dc9148dc8d50f63b866bb2a6",
      "67b8beb7d2a94158b8180311cc656c79",
      "675bfb271bd9469f9265959801554e63",
      "33164dd7b8cd4bda8542014e4a6b7de7",
      "98e38fcd22db4ef1992d52faeeb1726a"
     ]
    },
    "id": "C1QbAabEiK3-",
    "outputId": "b3bb0449-59de-4a5b-e9d8-ad398e195c5a"
   },
   "outputs": [
    {
     "name": "stdout",
     "output_type": "stream",
     "text": [
      "Requirement already satisfied: pip in e:\\ml\\era\\s9\\venv_resnet\\lib\\site-packages (25.1.1)\n",
      "Collecting pip\n",
      "  Using cached pip-25.2-py3-none-any.whl.metadata (4.7 kB)\n",
      "Using cached pip-25.2-py3-none-any.whl (1.8 MB)\n"
     ]
    },
    {
     "name": "stderr",
     "output_type": "stream",
     "text": [
      "\n",
      "[notice] A new release of pip is available: 25.1.1 -> 25.2\n",
      "[notice] To update, run: python.exe -m pip install --upgrade pip\n",
      "ERROR: To modify pip, please run the following command:\n",
      "E:\\ML\\ERA\\s9\\venv_RESNET\\Scripts\\python.exe -m pip install --upgrade pip\n",
      "\n",
      "[notice] A new release of pip is available: 25.1.1 -> 25.2\n",
      "[notice] To update, run: python.exe -m pip install --upgrade pip\n"
     ]
    },
    {
     "name": "stdout",
     "output_type": "stream",
     "text": [
      "Loading HuggingFace dataset...\n"
     ]
    },
    {
     "data": {
      "application/vnd.jupyter.widget-view+json": {
       "model_id": "edf65383d7834c0f88b3720e81e1c21c",
       "version_major": 2,
       "version_minor": 0
      },
      "text/plain": [
       "Resolving data files:   0%|          | 0/17 [00:00<?, ?it/s]"
      ]
     },
     "metadata": {},
     "output_type": "display_data"
    },
    {
     "data": {
      "application/vnd.jupyter.widget-view+json": {
       "model_id": "7464eb0a417c4dd98b968924a1d42092",
       "version_major": 2,
       "version_minor": 0
      },
      "text/plain": [
       "Resolving data files:   0%|          | 0/17 [00:00<?, ?it/s]"
      ]
     },
     "metadata": {},
     "output_type": "display_data"
    },
    {
     "data": {
      "application/vnd.jupyter.widget-view+json": {
       "model_id": "f48bdef4fccd40e09aa8789655115bbd",
       "version_major": 2,
       "version_minor": 0
      },
      "text/plain": [
       "Loading dataset shards:   0%|          | 0/17 [00:00<?, ?it/s]"
      ]
     },
     "metadata": {},
     "output_type": "display_data"
    },
    {
     "name": "stdout",
     "output_type": "stream",
     "text": [
      "Converting train, num_samples=126689 -> imagenet100_hf\\train\n",
      "Converting validation, num_samples=5000 -> imagenet100_hf\\val\n",
      "Dataset conversion done.\n"
     ]
    }
   ],
   "source": [
    "# Advanced PyTorch ResNet-50 Training Pipeline (From-scratch, >78% recipe)\n",
    "# -----------------------------------------------------------\n",
    "# Pure PyTorch implementation with full recipe to reach >78% Top-1 on ImageNet-100\n",
    "# Features included:\n",
    "# - Full customizable ResNet-50 (all classes visible and editable)\n",
    "# - Stochastic Depth (DropPath) in Bottleneck blocks\n",
    "# - Strong augmentations: RandomResizedCrop, RandAugment, MixUp, CutMix, ColorJitter, RandomErasing\n",
    "# - Label smoothing\n",
    "# - AMP (torch.amp) mixed precision training\n",
    "# - Gradient accumulation to simulate large global batch\n",
    "# - EMA (Exponential Moving Average) of model weights\n",
    "# - Cosine LR scheduler with linear warmup\n",
    "# - Checkpointing and resume support\n",
    "# - Designed to run on single GPU (RTX 3070 / Colab Free) with sensible defaults\n",
    "\n",
    "# %%\n",
    "# 0) Install dependencies (run in Colab/local once)\n",
    "!pip install --upgrade pip\n",
    "!pip install torch torchvision datasets --quiet\n",
    "\n",
    "# %%\n",
    "# 1) Imports\n",
    "import os\n",
    "import math\n",
    "import time\n",
    "from pathlib import Path\n",
    "from typing import Optional\n",
    "\n",
    "import torch\n",
    "import torch.nn as nn\n",
    "import torch.nn.functional as F\n",
    "import torch.optim as optim\n",
    "from torch.utils.data import Dataset, DataLoader\n",
    "from torchvision import transforms\n",
    "from PIL import Image\n",
    "from datasets import load_dataset\n",
    "\n",
    "# %%\n",
    "# 2) Configuration / Hyperparameters (tweakable)\n",
    "CFG = {\n",
    "    'data_hf_repo': 'clane9/imagenet-100',\n",
    "    'data_dir': './imagenet100_hf',\n",
    "    'num_classes': 100,\n",
    "    'img_size': 224,\n",
    "    'batch_size': 32,                # per-step batch size\n",
    "    'accum_steps': 8,                # accumulation to simulate effective batch (32*8=256)\n",
    "    'epochs': 120,\n",
    "    'base_lr': 0.002,                # good starting LR for AdamW with effective batch 256\n",
    "    'weight_decay': 0.05,\n",
    "    'opt': 'adamw',                  # 'sgd' or 'adamw'\n",
    "    'momentum': 0.9,\n",
    "    'warmup_epochs': 5,\n",
    "    'min_lr': 1e-6,\n",
    "    'label_smoothing': 0.1,\n",
    "    'mixup_alpha': 0.8,\n",
    "    'cutmix_alpha': 1.0,\n",
    "    'use_mixup': True,\n",
    "    'use_cutmix': True,\n",
    "    'randaugment_n': 2,\n",
    "    'randaugment_m': 9,\n",
    "    'reprob': 0.25,                  # random erase prob\n",
    "    'drop_path_prob': 0.2,           # stochastic depth max probability\n",
    "    'ema_decay': 0.9999,\n",
    "    'device': 'cuda' if torch.cuda.is_available() else 'cpu',\n",
    "    'save_dir': './checkpoints',\n",
    "    'save_every': 5,\n",
    "}\n",
    "\n",
    "os.makedirs(CFG['data_dir'], exist_ok=True)\n",
    "os.makedirs(CFG['save_dir'], exist_ok=True)\n",
    "\n",
    "# %%\n",
    "# 3) Prepare dataset from Hugging Face (robust conversion)\n",
    "print('Loading HuggingFace dataset...')\n",
    "dataset = load_dataset(CFG['data_hf_repo'])\n",
    "\n",
    "TRAIN_DIR = Path(CFG['data_dir']) / 'train'\n",
    "VAL_DIR = Path(CFG['data_dir']) / 'val'\n",
    "\n",
    "for split_name, split_path in [('train', TRAIN_DIR), ('validation', VAL_DIR)]:\n",
    "    split_path.mkdir(parents=True, exist_ok=True)\n",
    "    split_data = dataset[split_name]\n",
    "    print(f'Converting {split_name}, num_samples={len(split_data)} ->', split_path)\n",
    "    for idx, item in enumerate(split_data):\n",
    "        label = item['label']\n",
    "        label_dir = split_path / str(label)\n",
    "        label_dir.mkdir(parents=True, exist_ok=True)\n",
    "        img = item['image']\n",
    "        # ensure PIL Image\n",
    "        if not isinstance(img, Image.Image):\n",
    "            img = Image.fromarray(img)\n",
    "        img.save(label_dir / f'{idx}.jpg')\n",
    "\n",
    "print('Dataset conversion done.')\n"
   ]
  },
  {
   "cell_type": "code",
   "execution_count": 2,
   "metadata": {
    "colab": {
     "base_uri": "https://localhost:8080/"
    },
    "id": "Q8S3juB_iNNz",
    "outputId": "e7648800-9af9-4cc8-8387-9c9bd823f3fb"
   },
   "outputs": [
    {
     "name": "stdout",
     "output_type": "stream",
     "text": [
      "GPU Device: NVIDIA GeForce RTX 3070 Laptop GPU\n"
     ]
    }
   ],
   "source": [
    "import torch\n",
    "\n",
    "# Check if a CUDA-enabled GPU is available\n",
    "if torch.cuda.is_available():\n",
    "    # Get the name of the GPU\n",
    "    gpu_name = torch.cuda.get_device_name(0)\n",
    "    print(f\"GPU Device: {gpu_name}\")\n",
    "else:\n",
    "    print(\"No GPU available.\")"
   ]
  },
  {
   "cell_type": "code",
   "execution_count": 3,
   "metadata": {
    "colab": {
     "base_uri": "https://localhost:8080/"
    },
    "id": "oSI2Db1siQt5",
    "outputId": "04803e12-b13e-4fa3-e045-654a7b7c30fd"
   },
   "outputs": [
    {
     "name": "stdout",
     "output_type": "stream",
     "text": [
      "Train samples: 126689 Val samples: 5000\n"
     ]
    }
   ],
   "source": [
    "\n",
    "# %%\n",
    "# 4) Transforms & Dataloaders\n",
    "train_transform = transforms.Compose([\n",
    "    transforms.RandomResizedCrop(CFG['img_size']),\n",
    "    transforms.RandomHorizontalFlip(),\n",
    "    transforms.ColorJitter(0.4, 0.4, 0.4, 0.1),\n",
    "    transforms.RandAugment(num_ops=CFG['randaugment_n'], magnitude=CFG['randaugment_m']),\n",
    "    transforms.ToTensor(),\n",
    "    transforms.Normalize(mean=[0.485, 0.456, 0.406], std=[0.229, 0.224, 0.225]),\n",
    "    transforms.RandomErasing(p=CFG['reprob']),\n",
    "])\n",
    "\n",
    "val_transform = transforms.Compose([\n",
    "    transforms.Resize(int(CFG['img_size'] * 256 / 224)),\n",
    "    transforms.CenterCrop(CFG['img_size']),\n",
    "    transforms.ToTensor(),\n",
    "    transforms.Normalize(mean=[0.485, 0.456, 0.406], std=[0.229, 0.224, 0.225]),\n",
    "])\n",
    "\n",
    "class ImageFolderFromHF(Dataset):\n",
    "    def __init__(self, root, transform=None):\n",
    "        self.root = Path(root)\n",
    "        self.transform = transform\n",
    "        self.samples = []\n",
    "        for class_dir in sorted([p for p in self.root.iterdir() if p.is_dir()], key=lambda x: int(x.name)):\n",
    "            label = int(class_dir.name)\n",
    "            for img_path in class_dir.glob('*.*'):\n",
    "                self.samples.append((img_path, label))\n",
    "    def __len__(self):\n",
    "        return len(self.samples)\n",
    "    def __getitem__(self, idx):\n",
    "        p, label = self.samples[idx]\n",
    "        img = Image.open(p).convert('RGB')\n",
    "        if self.transform:\n",
    "            img = self.transform(img)\n",
    "        return img, label\n",
    "\n",
    "train_ds = ImageFolderFromHF(TRAIN_DIR, transform=train_transform)\n",
    "val_ds = ImageFolderFromHF(VAL_DIR, transform=val_transform)\n",
    "\n",
    "train_loader = DataLoader(train_ds, batch_size=CFG['batch_size'], shuffle=True, num_workers=4, pin_memory=True)\n",
    "val_loader = DataLoader(val_ds, batch_size=CFG['batch_size'], shuffle=False, num_workers=4, pin_memory=True)\n",
    "\n",
    "print('Train samples:', len(train_ds), 'Val samples:', len(val_ds))\n"
   ]
  },
  {
   "cell_type": "code",
   "execution_count": 4,
   "metadata": {
    "id": "Mvfyb8ohiTAS"
   },
   "outputs": [],
   "source": [
    "\n",
    "# %%\n",
    "# 5) Utilities: Mixup / CutMix / Label Smoothing\n",
    "import random\n",
    "from torch.distributions.beta import Beta\n",
    "\n",
    "def rand_bbox(size, lam):\n",
    "    W = size[2]\n",
    "    H = size[3]\n",
    "    cut_rat = math.sqrt(1. - lam)\n",
    "    cut_w = int(W * cut_rat)\n",
    "    cut_h = int(H * cut_rat)\n",
    "\n",
    "    # uniform\n",
    "    cx = random.randint(0, W)\n",
    "    cy = random.randint(0, H)\n",
    "\n",
    "    bbx1 = max(0, cx - cut_w // 2)\n",
    "    bby1 = max(0, cy - cut_h // 2)\n",
    "    bbx2 = min(W, cx + cut_w // 2)\n",
    "    bby2 = min(H, cy + cut_h // 2)\n",
    "\n",
    "    return bbx1, bby1, bbx2, bby2\n",
    "\n",
    "\n",
    "def mixup_data(x, y, alpha=0.8):\n",
    "    if alpha > 0:\n",
    "        lam = Beta(alpha, alpha).sample().item()\n",
    "    else:\n",
    "        lam = 1\n",
    "    batch_size = x.size()[0]\n",
    "    index = torch.randperm(batch_size).to(x.device)\n",
    "    mixed_x = lam * x + (1 - lam) * x[index, :]\n",
    "    y_a, y_b = y, y[index]\n",
    "    return mixed_x, y_a, y_b, lam\n",
    "\n",
    "\n",
    "def cutmix_data(x, y, alpha=1.0):\n",
    "    if alpha > 0:\n",
    "        lam = Beta(alpha, alpha).sample().item()\n",
    "    else:\n",
    "        lam = 1\n",
    "    index = torch.randperm(x.size(0)).to(x.device)\n",
    "    bbx1, bby1, bbx2, bby2 = rand_bbox(x.size(), lam)\n",
    "    x[:, :, bby1:bby2, bbx1:bbx2] = x[index, :, bby1:bby2, bbx1:bbx2]\n",
    "    # adjust lambda to exactly match pixel ratio\n",
    "    lam = 1 - ((bbx2 - bbx1) * (bby2 - bby1) / (x.size()[-1] * x.size()[-2]))\n",
    "    y_a, y_b = y, y[index]\n",
    "    return x, y_a, y_b, lam\n",
    "\n",
    "class LabelSmoothingLoss(nn.Module):\n",
    "    def __init__(self, classes, smoothing=0.0):\n",
    "        super(LabelSmoothingLoss, self).__init__()\n",
    "        self.confidence = 1.0 - smoothing\n",
    "        self.smoothing = smoothing\n",
    "        self.cls = classes\n",
    "    def forward(self, x, target):\n",
    "        logprobs = F.log_softmax(x, dim=-1)\n",
    "        with torch.no_grad():\n",
    "            true_dist = torch.zeros_like(logprobs)\n",
    "            true_dist.fill_(self.smoothing / (self.cls - 1))\n",
    "            true_dist.scatter_(1, target.data.unsqueeze(1), self.confidence)\n",
    "        return torch.mean(torch.sum(-true_dist * logprobs, dim=-1))\n"
   ]
  },
  {
   "cell_type": "code",
   "execution_count": 5,
   "metadata": {
    "id": "SKQ75rbUiViC"
   },
   "outputs": [],
   "source": [
    "\n",
    "# %%\n",
    "# 6) Model: ResNet-50 with Stochastic Depth (DropPath)\n",
    "class DropPath(nn.Module):\n",
    "    \"\"\"Drop paths (Stochastic Depth) per sample  (as in https://arxiv.org/abs/1603.09382)\n",
    "    \"\"\"\n",
    "    def __init__(self, drop_prob: float = 0.0):\n",
    "        super(DropPath, self).__init__()\n",
    "        self.drop_prob = drop_prob\n",
    "    def forward(self, x):\n",
    "        if self.drop_prob == 0. or not self.training:\n",
    "            return x\n",
    "        keep_prob = 1 - self.drop_prob\n",
    "        shape = (x.shape[0],) + (1,) * (x.ndim - 1)\n",
    "        random_tensor = keep_prob + torch.rand(shape, dtype=x.dtype, device=x.device)\n",
    "        random_tensor.floor_()\n",
    "        return x.div(keep_prob) * random_tensor\n",
    "\n",
    "class Bottleneck(nn.Module):\n",
    "    expansion = 4\n",
    "    def __init__(self, in_planes, planes, stride=1, downsample=None, drop_prob=0.0):\n",
    "        super(Bottleneck, self).__init__()\n",
    "        self.conv1 = nn.Conv2d(in_planes, planes, kernel_size=1, bias=False)\n",
    "        self.bn1 = nn.BatchNorm2d(planes)\n",
    "        self.conv2 = nn.Conv2d(planes, planes, kernel_size=3, stride=stride, padding=1, bias=False)\n",
    "        self.bn2 = nn.BatchNorm2d(planes)\n",
    "        self.conv3 = nn.Conv2d(planes, planes * self.expansion, kernel_size=1, bias=False)\n",
    "        self.bn3 = nn.BatchNorm2d(planes * self.expansion)\n",
    "        self.relu = nn.ReLU(inplace=True)\n",
    "        self.downsample = downsample\n",
    "        self.drop_path = DropPath(drop_prob) if drop_prob > 0.0 else nn.Identity()\n",
    "    def forward(self, x):\n",
    "        identity = x\n",
    "        out = self.conv1(x)\n",
    "        out = self.bn1(out)\n",
    "        out = self.relu(out)\n",
    "        out = self.conv2(out)\n",
    "        out = self.bn2(out)\n",
    "        out = self.relu(out)\n",
    "        out = self.conv3(out)\n",
    "        out = self.bn3(out)\n",
    "        if self.downsample is not None:\n",
    "            identity = self.downsample(x)\n",
    "        out = self.drop_path(out)\n",
    "        out += identity\n",
    "        out = self.relu(out)\n",
    "        return out\n",
    "\n",
    "class ResNet50Custom(nn.Module):\n",
    "    def __init__(self, num_classes=100, drop_path_prob=0.0):\n",
    "        super(ResNet50Custom, self).__init__()\n",
    "        self.in_planes = 64\n",
    "        self.conv1 = nn.Conv2d(3, 64, kernel_size=7, stride=2, padding=3, bias=False)\n",
    "        self.bn1 = nn.BatchNorm2d(64)\n",
    "        self.relu = nn.ReLU(inplace=True)\n",
    "        self.maxpool = nn.MaxPool2d(kernel_size=3, stride=2, padding=1)\n",
    "        # layers\n",
    "        self.layer1 = self._make_layer(64, 3, drop_path_prob)\n",
    "        self.layer2 = self._make_layer(128, 4, drop_path_prob, stride=2)\n",
    "        self.layer3 = self._make_layer(256, 6, drop_path_prob, stride=2)\n",
    "        self.layer4 = self._make_layer(512, 3, drop_path_prob, stride=2)\n",
    "        self.avgpool = nn.AdaptiveAvgPool2d((1,1))\n",
    "        self.fc = nn.Linear(512 * Bottleneck.expansion, num_classes)\n",
    "    def _make_layer(self, planes, blocks, drop_path_prob, stride=1):\n",
    "        downsample = None\n",
    "        if stride != 1 or self.in_planes != planes * Bottleneck.expansion:\n",
    "            downsample = nn.Sequential(\n",
    "                nn.Conv2d(self.in_planes, planes * Bottleneck.expansion, kernel_size=1, stride=stride, bias=False),\n",
    "                nn.BatchNorm2d(planes * Bottleneck.expansion),\n",
    "            )\n",
    "        layers = []\n",
    "        # linearly scale drop path probability across blocks\n",
    "        for i in range(blocks):\n",
    "            prob = drop_path_prob * (i / max(1, blocks - 1))\n",
    "            if i == 0:\n",
    "                layers.append(Bottleneck(self.in_planes, planes, stride, downsample, drop_prob=prob))\n",
    "            else:\n",
    "                layers.append(Bottleneck(self.in_planes, planes, 1, None, drop_prob=prob))\n",
    "            self.in_planes = planes * Bottleneck.expansion\n",
    "        return nn.Sequential(*layers)\n",
    "    def forward(self, x):\n",
    "        x = self.conv1(x)\n",
    "        x = self.bn1(x)\n",
    "        x = self.relu(x)\n",
    "        x = self.maxpool(x)\n",
    "        x = self.layer1(x)\n",
    "        x = self.layer2(x)\n",
    "        x = self.layer3(x)\n",
    "        x = self.layer4(x)\n",
    "        x = self.avgpool(x)\n",
    "        x = torch.flatten(x, 1)\n",
    "        x = self.fc(x)\n",
    "        return x\n",
    "\n",
    "# %%\n",
    "# 7) EMA Helper\n",
    "class ModelEMA:\n",
    "    \"\"\"Simple EMA of model parameters\"\"\"\n",
    "    def __init__(self, model, decay=0.9999, device=None):\n",
    "        self.ema_model = self._clone_model(model)\n",
    "        self.decay = decay\n",
    "        self.device = device\n",
    "        if device:\n",
    "            self.ema_model.to(device)\n",
    "        for p in self.ema_model.parameters():\n",
    "            p.requires_grad_(False)\n",
    "    def _clone_model(self, model):\n",
    "        import copy\n",
    "        m = copy.deepcopy(model)\n",
    "        return m\n",
    "    def update(self, model):\n",
    "        with torch.no_grad():\n",
    "            msd = model.state_dict()\n",
    "            for k, ema_v in self.ema_model.state_dict().items():\n",
    "                model_v = msd[k].detach()\n",
    "                ema_v.copy_(ema_v * self.decay + (1. - self.decay) * model_v)\n",
    "    def state_dict(self):\n",
    "        return self.ema_model.state_dict()\n",
    "    def load_state_dict(self, sd):\n",
    "        self.ema_model.load_state_dict(sd)\n",
    "\n",
    "# %%\n"
   ]
  },
  {
   "cell_type": "code",
   "execution_count": 6,
   "metadata": {
    "colab": {
     "base_uri": "https://localhost:8080/"
    },
    "id": "eLEfHMBuiYHN",
    "outputId": "9cc0af0f-e72c-456b-fd61-f9226c32e848"
   },
   "outputs": [
    {
     "name": "stderr",
     "output_type": "stream",
     "text": [
      "C:\\Users\\uniya\\AppData\\Local\\Temp\\ipykernel_26320\\2033529693.py:12: FutureWarning: `torch.cuda.amp.GradScaler(args...)` is deprecated. Please use `torch.amp.GradScaler('cuda', args...)` instead.\n",
      "  scaler = torch.cuda.amp.GradScaler()\n"
     ]
    },
    {
     "name": "stdout",
     "output_type": "stream",
     "text": [
      "Loading checkpoint ./checkpoints\\last_checkpoint.pth\n"
     ]
    }
   ],
   "source": [
    "# 8) Create model, optimizer, criterion, scaler, scheduler\n",
    "device = torch.device(CFG['device'])\n",
    "model = ResNet50Custom(num_classes=CFG['num_classes'], drop_path_prob=CFG['drop_path_prob']).to(device)\n",
    "\n",
    "if CFG['opt'] == 'adamw':\n",
    "    optimizer = optim.AdamW(model.parameters(), lr=CFG['base_lr'], weight_decay=CFG['weight_decay'])\n",
    "else:\n",
    "    optimizer = optim.SGD(model.parameters(), lr=CFG['base_lr'], momentum=CFG['momentum'], weight_decay=CFG['weight_decay'])\n",
    "\n",
    "# label smoothing criterion\n",
    "criterion = LabelSmoothingLoss(CFG['num_classes'], smoothing=CFG['label_smoothing'])\n",
    "scaler = torch.cuda.amp.GradScaler()\n",
    "\n",
    "# LR scheduler: cosine with linear warmup\n",
    "total_steps = math.ceil(len(train_loader) / 1) * CFG['epochs']  # approximate steps\n",
    "warmup_steps = max(1, int(len(train_loader) * CFG['warmup_epochs']))\n",
    "\n",
    "def get_lr(step):\n",
    "    if step < warmup_steps:\n",
    "        return float(step) / float(max(1, warmup_steps))\n",
    "    # cosine decay after warmup\n",
    "    progress = float(step - warmup_steps) / float(max(1, total_steps - warmup_steps))\n",
    "    return 0.5 * (1. + math.cos(math.pi * progress))\n",
    "\n",
    "# EMA\n",
    "ema = ModelEMA(model, decay=CFG['ema_decay'], device=device)\n",
    "\n",
    "# optionally load checkpoint\n",
    "start_epoch = 0\n",
    "ckpt_path = os.path.join(CFG['save_dir'], 'last_checkpoint.pth')\n",
    "if os.path.exists(ckpt_path):\n",
    "    print('Loading checkpoint', ckpt_path)\n",
    "    ckpt = torch.load(ckpt_path, map_location=device)\n",
    "    model.load_state_dict(ckpt['model_state'])\n",
    "    optimizer.load_state_dict(ckpt['opt_state'])\n",
    "    start_epoch = ckpt.get('epoch', 0) + 1\n",
    "    ema.load_state_dict(ckpt.get('ema_state', ema.state_dict()))\n"
   ]
  },
  {
   "cell_type": "code",
   "execution_count": 7,
   "metadata": {
    "id": "T8b7vQK7iaTg"
   },
   "outputs": [],
   "source": [
    "\n",
    "\n",
    "# %%\n",
    "# 9) Training loop (with AMP, accumulation, mixup/cutmix, dynamic LR)\n",
    "# Phase 2 fixes applied:\n",
    "# - LR warmup logging & per-step lr set\n",
    "# - Disable MixUp/CutMix during warmup_epochs\n",
    "# - EMA decay ramp (start smaller during warmup, then increase)\\# - Log both EMA and raw model validation accuracies\n",
    "# - Ensure correct GradScaler usage order and gradient clipping\n",
    "\n",
    "def get_ema_decay(epoch, base_decay=CFG['ema_decay'], warmup_epochs=CFG['warmup_epochs']):\n",
    "    # Ramp EMA decay from a smaller value to base_decay over warmup_epochs\n",
    "    if epoch < warmup_epochs:\n",
    "        # start with weaker EMA (so it doesn't dominate early noisy weights)\n",
    "        start = 0.9\n",
    "        return start + (base_decay - start) * (epoch / max(1, warmup_epochs))\n",
    "    return base_decay\n",
    "\n",
    "\n",
    "def train_one_epoch(epoch):\n",
    "    import sys\n",
    "    print(f\"  [DEBUG] Entered train_one_epoch function\", flush=True)\n",
    "    sys.stdout.flush()\n",
    "    \n",
    "    model.train()\n",
    "    print(f\"  [DEBUG] Set model to train mode\", flush=True)\n",
    "    sys.stdout.flush()\n",
    "    \n",
    "    running_loss = 0.0\n",
    "    running_correct = 0\n",
    "    running_total = 0\n",
    "\n",
    "    from tqdm.auto import tqdm\n",
    "    print(f\"  [DEBUG] Imported tqdm\", flush=True)\n",
    "    sys.stdout.flush()\n",
    "    \n",
    "    print(f\"  Training epoch {epoch+1}...\", flush=True)\n",
    "    print(f\"  Loading first batch (this may take 10-30 seconds)...\", flush=True)\n",
    "    print(f\"  [DEBUG] About to create iterator from train_loader...\", flush=True)\n",
    "    sys.stdout.flush()\n",
    "    \n",
    "    # Test: Try to get first batch without tqdm\n",
    "    try:\n",
    "        print(f\"  [DEBUG] Calling iter(train_loader)...\", flush=True)\n",
    "        sys.stdout.flush()\n",
    "        train_iter = iter(train_loader)\n",
    "        print(f\"  [DEBUG] Iterator created successfully!\", flush=True)\n",
    "        sys.stdout.flush()\n",
    "        \n",
    "        print(f\"  [DEBUG] Calling next(train_iter)...\", flush=True)\n",
    "        sys.stdout.flush()\n",
    "        first_images, first_labels = next(train_iter)\n",
    "        print(f\"  ✓ First batch loaded! Shape: {first_images.shape}, Labels: {first_labels.shape}\", flush=True)\n",
    "        print(f\"  Batch size actual: {first_images.size(0)}, Expected: {CFG['batch_size']}\", flush=True)\n",
    "        del train_iter  # Clean up\n",
    "    except Exception as e:\n",
    "        print(f\"  ✗ ERROR loading first batch: {e}\", flush=True)\n",
    "        import traceback\n",
    "        traceback.print_exc()\n",
    "        return\n",
    "    \n",
    "    sys.stdout.flush()\n",
    "    \n",
    "    pbar = tqdm(train_loader, desc=f'Epoch {epoch+1}/{CFG[\"epochs\"]}', ncols=100, mininterval=2.0)\n",
    "    for i, (images, labels) in enumerate(pbar):\n",
    "        \n",
    "        step = epoch * len(train_loader) + i\n",
    "        # compute LR multiplier (cosine schedule with warmup)\n",
    "        lr_scale = get_lr(step)\n",
    "        for param_group in optimizer.param_groups:\n",
    "            param_group['lr'] = max(CFG['min_lr'], CFG['base_lr'] * lr_scale)\n",
    "        current_lr = optimizer.param_groups[0]['lr']\n",
    "\n",
    "        images = images.to(device, non_blocking=True)\n",
    "        labels = labels.to(device, non_blocking=True)\n",
    "\n",
    "        # Disable heavy regularization (mixup/cutmix) during warmup epochs\n",
    "        use_mix = (CFG['use_mixup'] and (epoch >= CFG['warmup_epochs']) and random.random() < 0.5)\n",
    "        use_cut = (CFG['use_cutmix'] and (epoch >= CFG['warmup_epochs']) and random.random() < 0.5)\n",
    "\n",
    "        if use_mix:\n",
    "            images, y_a, y_b, lam = mixup_data(images, labels, alpha=CFG['mixup_alpha'])\n",
    "        elif use_cut:\n",
    "            images, y_a, y_b, lam = cutmix_data(images, labels, alpha=CFG['cutmix_alpha'])\n",
    "        else:\n",
    "            y_a, y_b, lam = labels, None, None\n",
    "\n",
    "        with torch.amp.autocast(device_type='cuda' if device.type=='cuda' else None):\n",
    "            outputs = model(images)\n",
    "            if use_mix or use_cut:\n",
    "                loss = lam * criterion(outputs, y_a) + (1 - lam) * criterion(outputs, y_b)\n",
    "            else:\n",
    "                loss = criterion(outputs, labels)\n",
    "            loss = loss / CFG['accum_steps']\n",
    "\n",
    "        # Backward + optimization (correct scaler order)\n",
    "        scaler.scale(loss).backward()\n",
    "\n",
    "        if (i + 1) % CFG['accum_steps'] == 0:\n",
    "            # unscale before clipping\n",
    "            scaler.unscale_(optimizer)\n",
    "            torch.nn.utils.clip_grad_norm_(model.parameters(), max_norm=5.0)\n",
    "            scaler.step(optimizer)       # scaler steps the optimizer\n",
    "            scaler.update()              # then scaler updates\n",
    "            optimizer.zero_grad()\n",
    "\n",
    "            # update EMA with ramped decay\n",
    "            ema.decay = get_ema_decay(epoch)\n",
    "            ema.update(model)\n",
    "\n",
    "        running_loss += loss.item() * images.size(0) * CFG['accum_steps']\n",
    "        _, preds = outputs.max(1)\n",
    "        running_total += labels.size(0)\n",
    "        running_correct += (preds == labels).sum().item()\n",
    "        \n",
    "        # Update progress bar and print status\n",
    "        if i % 10 == 0:\n",
    "            pbar.set_postfix({\n",
    "                'loss': f'{running_loss/running_total:.4f}',\n",
    "                'acc': f'{running_correct/running_total:.4f}',\n",
    "                'lr': f'{current_lr:.6f}'\n",
    "            })\n",
    "        \n",
    "        # Print every 100 batches for extra visibility\n",
    "        if i > 0 and i % 100 == 0:\n",
    "            print(f\"    Batch {i}/{len(train_loader)}: loss={running_loss/running_total:.4f}, acc={running_correct/running_total:.4f}\", flush=True)\n",
    "            sys.stdout.flush()\n",
    "\n",
    "    epoch_loss = running_loss / running_total\n",
    "    epoch_acc = running_correct / running_total\n",
    "    print(f'Epoch {epoch+1} Train Loss: {epoch_loss:.4f} Acc: {epoch_acc:.4f} LR: {current_lr:.6f}', flush=True)\n",
    "\n",
    "\n",
    "def validate(epoch, use_ema=True):\n",
    "    # Evaluate both EMA-weighted model and raw model for debugging\n",
    "    import sys\n",
    "    from tqdm.auto import tqdm\n",
    "    print(f\"  Starting validation...\", flush=True)\n",
    "    results = {}\n",
    "    for name, model_to_eval in [('raw', model), ('ema', ema.ema_model)]:\n",
    "        model_to_eval.eval()\n",
    "        total = 0\n",
    "        correct = 0\n",
    "        with torch.no_grad():\n",
    "            val_pbar = tqdm(val_loader, desc=f'Validation ({name})', leave=False)\n",
    "            for images, labels in val_pbar:\n",
    "                images = images.to(device, non_blocking=True)\n",
    "                labels = labels.to(device, non_blocking=True)\n",
    "                with torch.amp.autocast(device_type='cuda' if device.type=='cuda' else None):\n",
    "                    outputs = model_to_eval(images)\n",
    "                _, preds = outputs.max(1)\n",
    "                total += labels.size(0)\n",
    "                correct += (preds == labels).sum().item()\n",
    "                \n",
    "                # Update validation progress\n",
    "                val_pbar.set_postfix({'acc': f'{correct/total:.4f}'})\n",
    "        acc = correct / total\n",
    "        print(f'Validation Acc ({name}): {acc:.4f}', flush=True)\n",
    "        results[name] = acc\n",
    "    return results\n"
   ]
  },
  {
   "cell_type": "markdown",
   "metadata": {},
   "source": [
    "### PATCH: Fix DataLoader for Windows (Run this cell before training!)\n"
   ]
  },
  {
   "cell_type": "code",
   "execution_count": 8,
   "metadata": {},
   "outputs": [
    {
     "name": "stdout",
     "output_type": "stream",
     "text": [
      "Recreating DataLoaders with num_workers=0 for Windows compatibility...\n",
      "✓ DataLoaders recreated successfully\n",
      "  Train batches: 3960\n",
      "  Val batches: 157\n",
      "  Num workers: 0\n",
      "Now run the training cell!\n"
     ]
    }
   ],
   "source": [
    "# CRITICAL FIX: Recreate DataLoaders with num_workers=0 for Windows\n",
    "print(\"Recreating DataLoaders with num_workers=0 for Windows compatibility...\", flush=True)\n",
    "\n",
    "train_loader = DataLoader(\n",
    "    train_ds, \n",
    "    batch_size=CFG['batch_size'], \n",
    "    shuffle=True, \n",
    "    num_workers=0,  # CHANGED FROM 4 TO 0\n",
    "    pin_memory=True\n",
    ")\n",
    "\n",
    "val_loader = DataLoader(\n",
    "    val_ds, \n",
    "    batch_size=CFG['batch_size'], \n",
    "    shuffle=False, \n",
    "    num_workers=0,  # CHANGED FROM 4 TO 0\n",
    "    pin_memory=True\n",
    ")\n",
    "\n",
    "print(f\"✓ DataLoaders recreated successfully\", flush=True)\n",
    "print(f\"  Train batches: {len(train_loader)}\", flush=True)\n",
    "print(f\"  Val batches: {len(val_loader)}\", flush=True)\n",
    "print(f\"  Num workers: {train_loader.num_workers}\", flush=True)\n",
    "print(\"Now run the training cell!\", flush=True)\n"
   ]
  },
  {
   "cell_type": "code",
   "execution_count": null,
   "metadata": {
    "colab": {
     "base_uri": "https://localhost:8080/"
    },
    "id": "ej-ZZDG9icqT",
    "outputId": "a2735f5d-6dd0-480e-a62b-7830f201a9a8"
   },
   "outputs": [
    {
     "name": "stdout",
     "output_type": "stream",
     "text": [
      "============================================================\n",
      "Training Started - Outputs will appear in real-time\n",
      "============================================================\n",
      "Device: cuda\n",
      "Model on device: cuda:0\n",
      "Total epochs to run: 120\n",
      "Start epoch: 15\n",
      "Train loader batches: 3960\n",
      "Train loader num_workers: 0\n",
      "Train dataset length: 126689\n",
      "\n",
      "[DEBUG] Testing dataset access...\n",
      "  ✓ Dataset[0] accessible, type: <class 'tuple'>\n",
      "Starting training loop...\n",
      "\n",
      ">>> Starting Epoch 16/120 <<<\n",
      "  [DEBUG] Entered train_one_epoch function\n",
      "  [DEBUG] Set model to train mode\n",
      "  [DEBUG] Imported tqdm\n",
      "  Training epoch 16...\n",
      "  Loading first batch (this may take 10-30 seconds)...\n",
      "  [DEBUG] About to create iterator from train_loader...\n",
      "  [DEBUG] Calling iter(train_loader)...\n",
      "  [DEBUG] Iterator created successfully!\n",
      "  [DEBUG] Calling next(train_iter)...\n",
      "  ✓ First batch loaded! Shape: torch.Size([32, 3, 224, 224]), Labels: torch.Size([32])\n",
      "  Batch size actual: 32, Expected: 32\n"
     ]
    },
    {
     "data": {
      "application/vnd.jupyter.widget-view+json": {
       "model_id": "de1090a3739c4d38b701a1a0d4a8a903",
       "version_major": 2,
       "version_minor": 0
      },
      "text/plain": [
       "Epoch 16/120:   0%|                                                        | 0/3960 [00:00<?, ?it/s]"
      ]
     },
     "metadata": {},
     "output_type": "display_data"
    },
    {
     "name": "stdout",
     "output_type": "stream",
     "text": [
      "    Batch 100/3960: loss=3.0444, acc=0.3530\n",
      "    Batch 200/3960: loss=3.0807, acc=0.3134\n",
      "    Batch 300/3960: loss=3.1121, acc=0.3173\n",
      "    Batch 400/3960: loss=3.0747, acc=0.3321\n",
      "    Batch 500/3960: loss=3.0763, acc=0.3379\n",
      "    Batch 600/3960: loss=3.0734, acc=0.3396\n",
      "    Batch 700/3960: loss=3.0764, acc=0.3361\n",
      "    Batch 800/3960: loss=3.0825, acc=0.3333\n",
      "    Batch 900/3960: loss=3.0905, acc=0.3345\n",
      "    Batch 1000/3960: loss=3.0917, acc=0.3313\n",
      "    Batch 1100/3960: loss=3.0892, acc=0.3349\n",
      "    Batch 1200/3960: loss=3.0901, acc=0.3336\n",
      "    Batch 1300/3960: loss=3.0887, acc=0.3325\n",
      "    Batch 1400/3960: loss=3.0899, acc=0.3308\n",
      "    Batch 1500/3960: loss=3.0900, acc=0.3303\n",
      "    Batch 1600/3960: loss=3.0891, acc=0.3309\n",
      "    Batch 1700/3960: loss=3.0935, acc=0.3284\n",
      "    Batch 1800/3960: loss=3.0961, acc=0.3274\n",
      "    Batch 1900/3960: loss=3.0934, acc=0.3254\n",
      "    Batch 2000/3960: loss=3.0905, acc=0.3263\n",
      "    Batch 2100/3960: loss=3.0887, acc=0.3263\n",
      "    Batch 2200/3960: loss=3.0918, acc=0.3256\n",
      "    Batch 2300/3960: loss=3.0926, acc=0.3264\n",
      "    Batch 2400/3960: loss=3.1004, acc=0.3252\n",
      "    Batch 2500/3960: loss=3.1048, acc=0.3247\n",
      "    Batch 2600/3960: loss=3.1101, acc=0.3227\n",
      "    Batch 2700/3960: loss=3.1093, acc=0.3227\n",
      "    Batch 2800/3960: loss=3.1098, acc=0.3232\n",
      "    Batch 2900/3960: loss=3.1131, acc=0.3234\n",
      "    Batch 3000/3960: loss=3.1122, acc=0.3233\n",
      "    Batch 3100/3960: loss=3.1099, acc=0.3236\n",
      "    Batch 3200/3960: loss=3.1086, acc=0.3227\n",
      "    Batch 3300/3960: loss=3.1095, acc=0.3233\n",
      "    Batch 3400/3960: loss=3.1121, acc=0.3227\n",
      "    Batch 3500/3960: loss=3.1129, acc=0.3223\n",
      "    Batch 3600/3960: loss=3.1115, acc=0.3230\n",
      "    Batch 3700/3960: loss=3.1122, acc=0.3238\n",
      "    Batch 3800/3960: loss=3.1112, acc=0.3241\n",
      "    Batch 3900/3960: loss=3.1112, acc=0.3242\n",
      "Epoch 16 Train Loss: 3.1128 Acc: 0.3237 LR: 0.001955\n",
      ">>> Training epoch 16 completed <<<\n",
      "  Starting validation...\n"
     ]
    },
    {
     "data": {
      "application/vnd.jupyter.widget-view+json": {
       "model_id": "dfa9998fe417425dbbf90a64fcbc77e9",
       "version_major": 2,
       "version_minor": 0
      },
      "text/plain": [
       "Validation (raw):   0%|          | 0/157 [00:00<?, ?it/s]"
      ]
     },
     "metadata": {},
     "output_type": "display_data"
    },
    {
     "name": "stdout",
     "output_type": "stream",
     "text": [
      "Validation Acc (raw): 0.6324\n"
     ]
    },
    {
     "data": {
      "application/vnd.jupyter.widget-view+json": {
       "model_id": "e1678f0d758943478e65a74c4ac62f1f",
       "version_major": 2,
       "version_minor": 0
      },
      "text/plain": [
       "Validation (ema):   0%|          | 0/157 [00:00<?, ?it/s]"
      ]
     },
     "metadata": {},
     "output_type": "display_data"
    },
    {
     "name": "stdout",
     "output_type": "stream",
     "text": [
      "Validation Acc (ema): 0.4898\n",
      ">>> Validation completed <<<\n",
      "Epoch time: 45.37 mins\n",
      "Saved checkpoint\n",
      "\n",
      ">>> Starting Epoch 17/120 <<<\n",
      "  [DEBUG] Entered train_one_epoch function\n",
      "  [DEBUG] Set model to train mode\n",
      "  [DEBUG] Imported tqdm\n",
      "  Training epoch 17...\n",
      "  Loading first batch (this may take 10-30 seconds)...\n",
      "  [DEBUG] About to create iterator from train_loader...\n",
      "  [DEBUG] Calling iter(train_loader)...\n",
      "  [DEBUG] Iterator created successfully!\n",
      "  [DEBUG] Calling next(train_iter)...\n",
      "  ✓ First batch loaded! Shape: torch.Size([32, 3, 224, 224]), Labels: torch.Size([32])\n",
      "  Batch size actual: 32, Expected: 32\n"
     ]
    },
    {
     "data": {
      "application/vnd.jupyter.widget-view+json": {
       "model_id": "c93186a5eae54c7481a02d4426d4f519",
       "version_major": 2,
       "version_minor": 0
      },
      "text/plain": [
       "Epoch 17/120:   0%|                                                        | 0/3960 [00:00<?, ?it/s]"
      ]
     },
     "metadata": {},
     "output_type": "display_data"
    },
    {
     "name": "stdout",
     "output_type": "stream",
     "text": [
      "    Batch 100/3960: loss=3.1769, acc=0.3048\n",
      "    Batch 200/3960: loss=3.1629, acc=0.3066\n",
      "    Batch 300/3960: loss=3.1491, acc=0.3129\n",
      "    Batch 400/3960: loss=3.1431, acc=0.3164\n",
      "    Batch 500/3960: loss=3.1483, acc=0.3180\n",
      "    Batch 600/3960: loss=3.1381, acc=0.3159\n",
      "    Batch 700/3960: loss=3.1350, acc=0.3141\n",
      "    Batch 800/3960: loss=3.1370, acc=0.3097\n",
      "    Batch 900/3960: loss=3.1298, acc=0.3139\n",
      "    Batch 1000/3960: loss=3.1233, acc=0.3174\n",
      "    Batch 1100/3960: loss=3.1248, acc=0.3184\n",
      "    Batch 1200/3960: loss=3.1215, acc=0.3218\n",
      "    Batch 1300/3960: loss=3.1150, acc=0.3240\n",
      "    Batch 1400/3960: loss=3.1175, acc=0.3234\n",
      "    Batch 1500/3960: loss=3.1121, acc=0.3246\n",
      "    Batch 1600/3960: loss=3.1095, acc=0.3266\n",
      "    Batch 1700/3960: loss=3.1142, acc=0.3261\n",
      "    Batch 1800/3960: loss=3.1149, acc=0.3262\n",
      "    Batch 1900/3960: loss=3.1124, acc=0.3258\n",
      "    Batch 2000/3960: loss=3.1098, acc=0.3256\n",
      "    Batch 2100/3960: loss=3.1081, acc=0.3257\n",
      "    Batch 2200/3960: loss=3.1067, acc=0.3264\n",
      "    Batch 2300/3960: loss=3.1055, acc=0.3261\n",
      "    Batch 2400/3960: loss=3.1031, acc=0.3262\n",
      "    Batch 2500/3960: loss=3.1035, acc=0.3264\n",
      "    Batch 2600/3960: loss=3.1007, acc=0.3267\n",
      "    Batch 2700/3960: loss=3.1022, acc=0.3258\n",
      "    Batch 2800/3960: loss=3.1020, acc=0.3263\n",
      "    Batch 2900/3960: loss=3.1028, acc=0.3261\n",
      "    Batch 3000/3960: loss=3.1051, acc=0.3258\n",
      "    Batch 3100/3960: loss=3.1035, acc=0.3265\n",
      "    Batch 3200/3960: loss=3.1035, acc=0.3270\n",
      "    Batch 3300/3960: loss=3.1000, acc=0.3287\n",
      "    Batch 3400/3960: loss=3.0980, acc=0.3289\n",
      "    Batch 3500/3960: loss=3.0951, acc=0.3299\n",
      "    Batch 3600/3960: loss=3.0945, acc=0.3287\n",
      "    Batch 3700/3960: loss=3.0925, acc=0.3296\n",
      "    Batch 3800/3960: loss=3.0938, acc=0.3291\n",
      "    Batch 3900/3960: loss=3.0937, acc=0.3290\n",
      "Epoch 17 Train Loss: 3.0931 Acc: 0.3295 LR: 0.001947\n",
      ">>> Training epoch 17 completed <<<\n",
      "  Starting validation...\n"
     ]
    },
    {
     "data": {
      "application/vnd.jupyter.widget-view+json": {
       "model_id": "b851db703d894ae8b5da496e2f34db1e",
       "version_major": 2,
       "version_minor": 0
      },
      "text/plain": [
       "Validation (raw):   0%|          | 0/157 [00:00<?, ?it/s]"
      ]
     },
     "metadata": {},
     "output_type": "display_data"
    },
    {
     "name": "stdout",
     "output_type": "stream",
     "text": [
      "Validation Acc (raw): 0.6580\n"
     ]
    },
    {
     "data": {
      "application/vnd.jupyter.widget-view+json": {
       "model_id": "d366a29541af4ab8b5dae5aac3107843",
       "version_major": 2,
       "version_minor": 0
      },
      "text/plain": [
       "Validation (ema):   0%|          | 0/157 [00:00<?, ?it/s]"
      ]
     },
     "metadata": {},
     "output_type": "display_data"
    },
    {
     "name": "stdout",
     "output_type": "stream",
     "text": [
      "Validation Acc (ema): 0.4932\n",
      ">>> Validation completed <<<\n",
      "Epoch time: 44.44 mins\n",
      "Saved checkpoint\n",
      "\n",
      ">>> Starting Epoch 18/120 <<<\n",
      "  [DEBUG] Entered train_one_epoch function\n",
      "  [DEBUG] Set model to train mode\n",
      "  [DEBUG] Imported tqdm\n",
      "  Training epoch 18...\n",
      "  Loading first batch (this may take 10-30 seconds)...\n",
      "  [DEBUG] About to create iterator from train_loader...\n",
      "  [DEBUG] Calling iter(train_loader)...\n",
      "  [DEBUG] Iterator created successfully!\n",
      "  [DEBUG] Calling next(train_iter)...\n",
      "  ✓ First batch loaded! Shape: torch.Size([32, 3, 224, 224]), Labels: torch.Size([32])\n",
      "  Batch size actual: 32, Expected: 32\n"
     ]
    },
    {
     "data": {
      "application/vnd.jupyter.widget-view+json": {
       "model_id": "22089a9e460149288395bedab1990462",
       "version_major": 2,
       "version_minor": 0
      },
      "text/plain": [
       "Epoch 18/120:   0%|                                                        | 0/3960 [00:00<?, ?it/s]"
      ]
     },
     "metadata": {},
     "output_type": "display_data"
    },
    {
     "name": "stdout",
     "output_type": "stream",
     "text": [
      "    Batch 100/3960: loss=3.1261, acc=0.3326\n",
      "    Batch 200/3960: loss=3.0792, acc=0.3419\n",
      "    Batch 300/3960: loss=3.0874, acc=0.3316\n",
      "    Batch 400/3960: loss=3.1065, acc=0.3275\n",
      "    Batch 500/3960: loss=3.0841, acc=0.3331\n",
      "    Batch 600/3960: loss=3.0788, acc=0.3319\n",
      "    Batch 700/3960: loss=3.0796, acc=0.3300\n",
      "    Batch 800/3960: loss=3.0716, acc=0.3353\n",
      "    Batch 900/3960: loss=3.0751, acc=0.3349\n",
      "    Batch 1000/3960: loss=3.0745, acc=0.3379\n",
      "    Batch 1100/3960: loss=3.0717, acc=0.3377\n",
      "    Batch 1200/3960: loss=3.0697, acc=0.3397\n",
      "    Batch 1300/3960: loss=3.0675, acc=0.3406\n",
      "    Batch 1400/3960: loss=3.0638, acc=0.3397\n",
      "    Batch 1500/3960: loss=3.0691, acc=0.3385\n",
      "    Batch 1600/3960: loss=3.0670, acc=0.3409\n",
      "    Batch 1700/3960: loss=3.0671, acc=0.3413\n",
      "    Batch 1800/3960: loss=3.0652, acc=0.3403\n",
      "    Batch 1900/3960: loss=3.0657, acc=0.3402\n",
      "    Batch 2000/3960: loss=3.0645, acc=0.3413\n",
      "    Batch 2100/3960: loss=3.0665, acc=0.3404\n",
      "    Batch 2200/3960: loss=3.0661, acc=0.3398\n",
      "    Batch 2300/3960: loss=3.0638, acc=0.3392\n",
      "    Batch 2400/3960: loss=3.0619, acc=0.3399\n",
      "    Batch 2500/3960: loss=3.0594, acc=0.3405\n",
      "    Batch 2600/3960: loss=3.0579, acc=0.3414\n",
      "    Batch 2700/3960: loss=3.0608, acc=0.3404\n",
      "    Batch 2800/3960: loss=3.0619, acc=0.3397\n",
      "    Batch 2900/3960: loss=3.0588, acc=0.3398\n",
      "    Batch 3000/3960: loss=3.0589, acc=0.3400\n",
      "    Batch 3100/3960: loss=3.0558, acc=0.3402\n",
      "    Batch 3200/3960: loss=3.0569, acc=0.3404\n",
      "    Batch 3300/3960: loss=3.0568, acc=0.3403\n",
      "    Batch 3400/3960: loss=3.0572, acc=0.3394\n",
      "    Batch 3500/3960: loss=3.0581, acc=0.3384\n",
      "    Batch 3600/3960: loss=3.0593, acc=0.3384\n",
      "    Batch 3700/3960: loss=3.0557, acc=0.3389\n",
      "    Batch 3800/3960: loss=3.0579, acc=0.3387\n",
      "    Batch 3900/3960: loss=3.0575, acc=0.3385\n",
      "Epoch 18 Train Loss: 3.0583 Acc: 0.3379 LR: 0.001938\n",
      ">>> Training epoch 18 completed <<<\n",
      "  Starting validation...\n"
     ]
    },
    {
     "data": {
      "application/vnd.jupyter.widget-view+json": {
       "model_id": "ce5ade07810f46779cb0385153aea6a2",
       "version_major": 2,
       "version_minor": 0
      },
      "text/plain": [
       "Validation (raw):   0%|          | 0/157 [00:00<?, ?it/s]"
      ]
     },
     "metadata": {},
     "output_type": "display_data"
    },
    {
     "name": "stdout",
     "output_type": "stream",
     "text": [
      "Validation Acc (raw): 0.6590\n"
     ]
    },
    {
     "data": {
      "application/vnd.jupyter.widget-view+json": {
       "model_id": "f5f21b9ee87d4177930526a968aa3fbb",
       "version_major": 2,
       "version_minor": 0
      },
      "text/plain": [
       "Validation (ema):   0%|          | 0/157 [00:00<?, ?it/s]"
      ]
     },
     "metadata": {},
     "output_type": "display_data"
    },
    {
     "name": "stdout",
     "output_type": "stream",
     "text": [
      "Validation Acc (ema): 0.4962\n",
      ">>> Validation completed <<<\n",
      "Epoch time: 44.41 mins\n",
      "Saved checkpoint\n",
      "\n",
      ">>> Starting Epoch 19/120 <<<\n",
      "  [DEBUG] Entered train_one_epoch function\n",
      "  [DEBUG] Set model to train mode\n",
      "  [DEBUG] Imported tqdm\n",
      "  Training epoch 19...\n",
      "  Loading first batch (this may take 10-30 seconds)...\n",
      "  [DEBUG] About to create iterator from train_loader...\n",
      "  [DEBUG] Calling iter(train_loader)...\n",
      "  [DEBUG] Iterator created successfully!\n",
      "  [DEBUG] Calling next(train_iter)...\n",
      "  ✓ First batch loaded! Shape: torch.Size([32, 3, 224, 224]), Labels: torch.Size([32])\n",
      "  Batch size actual: 32, Expected: 32\n"
     ]
    },
    {
     "data": {
      "application/vnd.jupyter.widget-view+json": {
       "model_id": "35f23617499044b0b882a0468dd8012b",
       "version_major": 2,
       "version_minor": 0
      },
      "text/plain": [
       "Epoch 19/120:   0%|                                                        | 0/3960 [00:00<?, ?it/s]"
      ]
     },
     "metadata": {},
     "output_type": "display_data"
    },
    {
     "name": "stdout",
     "output_type": "stream",
     "text": [
      "    Batch 100/3960: loss=3.0717, acc=0.3428\n",
      "    Batch 200/3960: loss=3.0499, acc=0.3372\n",
      "    Batch 300/3960: loss=3.0326, acc=0.3511\n",
      "    Batch 400/3960: loss=3.0457, acc=0.3529\n",
      "    Batch 500/3960: loss=3.0304, acc=0.3534\n",
      "    Batch 600/3960: loss=3.0201, acc=0.3585\n",
      "    Batch 700/3960: loss=3.0236, acc=0.3569\n",
      "    Batch 800/3960: loss=3.0343, acc=0.3558\n",
      "    Batch 900/3960: loss=3.0322, acc=0.3539\n",
      "    Batch 1000/3960: loss=3.0388, acc=0.3506\n",
      "    Batch 1100/3960: loss=3.0452, acc=0.3516\n",
      "    Batch 1200/3960: loss=3.0422, acc=0.3514\n",
      "    Batch 1300/3960: loss=3.0402, acc=0.3483\n",
      "    Batch 1400/3960: loss=3.0331, acc=0.3497\n",
      "    Batch 1500/3960: loss=3.0249, acc=0.3482\n",
      "    Batch 1600/3960: loss=3.0198, acc=0.3502\n",
      "    Batch 1700/3960: loss=3.0192, acc=0.3513\n",
      "    Batch 1800/3960: loss=3.0206, acc=0.3516\n",
      "    Batch 1900/3960: loss=3.0191, acc=0.3502\n",
      "    Batch 2000/3960: loss=3.0203, acc=0.3512\n",
      "    Batch 2100/3960: loss=3.0196, acc=0.3501\n",
      "    Batch 2200/3960: loss=3.0212, acc=0.3489\n",
      "    Batch 2300/3960: loss=3.0208, acc=0.3478\n",
      "    Batch 2400/3960: loss=3.0211, acc=0.3483\n",
      "    Batch 2500/3960: loss=3.0229, acc=0.3485\n",
      "    Batch 2600/3960: loss=3.0246, acc=0.3484\n",
      "    Batch 2700/3960: loss=3.0220, acc=0.3493\n",
      "    Batch 2800/3960: loss=3.0242, acc=0.3484\n",
      "    Batch 2900/3960: loss=3.0237, acc=0.3484\n",
      "    Batch 3000/3960: loss=3.0234, acc=0.3486\n",
      "    Batch 3100/3960: loss=3.0212, acc=0.3498\n",
      "    Batch 3200/3960: loss=3.0200, acc=0.3496\n",
      "    Batch 3300/3960: loss=3.0195, acc=0.3484\n",
      "    Batch 3400/3960: loss=3.0209, acc=0.3473\n",
      "    Batch 3500/3960: loss=3.0207, acc=0.3474\n",
      "    Batch 3600/3960: loss=3.0202, acc=0.3476\n",
      "    Batch 3700/3960: loss=3.0177, acc=0.3475\n",
      "    Batch 3800/3960: loss=3.0170, acc=0.3466\n",
      "    Batch 3900/3960: loss=3.0154, acc=0.3467\n",
      "Epoch 19 Train Loss: 3.0161 Acc: 0.3467 LR: 0.001928\n",
      ">>> Training epoch 19 completed <<<\n",
      "  Starting validation...\n"
     ]
    },
    {
     "data": {
      "application/vnd.jupyter.widget-view+json": {
       "model_id": "b3576ac3107c42efb0fd29beda900a15",
       "version_major": 2,
       "version_minor": 0
      },
      "text/plain": [
       "Validation (raw):   0%|          | 0/157 [00:00<?, ?it/s]"
      ]
     },
     "metadata": {},
     "output_type": "display_data"
    },
    {
     "name": "stdout",
     "output_type": "stream",
     "text": [
      "Validation Acc (raw): 0.6606\n"
     ]
    },
    {
     "data": {
      "application/vnd.jupyter.widget-view+json": {
       "model_id": "31b5648bb0684b5c95cfbba67e480246",
       "version_major": 2,
       "version_minor": 0
      },
      "text/plain": [
       "Validation (ema):   0%|          | 0/157 [00:00<?, ?it/s]"
      ]
     },
     "metadata": {},
     "output_type": "display_data"
    },
    {
     "name": "stdout",
     "output_type": "stream",
     "text": [
      "Validation Acc (ema): 0.4986\n",
      ">>> Validation completed <<<\n",
      "Epoch time: 43.87 mins\n",
      "Saved checkpoint\n",
      "\n",
      ">>> Starting Epoch 20/120 <<<\n",
      "  [DEBUG] Entered train_one_epoch function\n",
      "  [DEBUG] Set model to train mode\n",
      "  [DEBUG] Imported tqdm\n",
      "  Training epoch 20...\n",
      "  Loading first batch (this may take 10-30 seconds)...\n",
      "  [DEBUG] About to create iterator from train_loader...\n",
      "  [DEBUG] Calling iter(train_loader)...\n",
      "  [DEBUG] Iterator created successfully!\n",
      "  [DEBUG] Calling next(train_iter)...\n",
      "  ✓ First batch loaded! Shape: torch.Size([32, 3, 224, 224]), Labels: torch.Size([32])\n",
      "  Batch size actual: 32, Expected: 32\n"
     ]
    },
    {
     "data": {
      "application/vnd.jupyter.widget-view+json": {
       "model_id": "0e4ce300063a445ea02642e463e08d0f",
       "version_major": 2,
       "version_minor": 0
      },
      "text/plain": [
       "Epoch 20/120:   0%|                                                        | 0/3960 [00:00<?, ?it/s]"
      ]
     },
     "metadata": {},
     "output_type": "display_data"
    },
    {
     "name": "stdout",
     "output_type": "stream",
     "text": [
      "    Batch 100/3960: loss=3.0426, acc=0.3255\n",
      "    Batch 200/3960: loss=2.9575, acc=0.3507\n",
      "    Batch 300/3960: loss=2.9434, acc=0.3483\n",
      "    Batch 400/3960: loss=2.9471, acc=0.3570\n",
      "    Batch 500/3960: loss=2.9704, acc=0.3510\n",
      "    Batch 600/3960: loss=2.9937, acc=0.3518\n",
      "    Batch 700/3960: loss=2.9930, acc=0.3532\n",
      "    Batch 800/3960: loss=3.0024, acc=0.3537\n",
      "    Batch 900/3960: loss=3.0069, acc=0.3508\n",
      "    Batch 1000/3960: loss=3.0016, acc=0.3533\n",
      "    Batch 1100/3960: loss=3.0046, acc=0.3522\n",
      "    Batch 1200/3960: loss=3.0090, acc=0.3512\n",
      "    Batch 1300/3960: loss=3.0091, acc=0.3511\n",
      "    Batch 1400/3960: loss=3.0160, acc=0.3492\n",
      "    Batch 1500/3960: loss=3.0163, acc=0.3494\n",
      "    Batch 1600/3960: loss=3.0175, acc=0.3476\n",
      "    Batch 1700/3960: loss=3.0191, acc=0.3467\n",
      "    Batch 1800/3960: loss=3.0152, acc=0.3468\n",
      "    Batch 1900/3960: loss=3.0131, acc=0.3485\n",
      "    Batch 2000/3960: loss=3.0114, acc=0.3476\n",
      "    Batch 2100/3960: loss=3.0161, acc=0.3458\n",
      "    Batch 2200/3960: loss=3.0199, acc=0.3453\n",
      "    Batch 2300/3960: loss=3.0196, acc=0.3457\n",
      "    Batch 2400/3960: loss=3.0211, acc=0.3452\n",
      "    Batch 2500/3960: loss=3.0175, acc=0.3458\n",
      "    Batch 2600/3960: loss=3.0183, acc=0.3453\n",
      "    Batch 2700/3960: loss=3.0199, acc=0.3451\n",
      "    Batch 2800/3960: loss=3.0173, acc=0.3455\n",
      "    Batch 2900/3960: loss=3.0212, acc=0.3445\n",
      "    Batch 3000/3960: loss=3.0201, acc=0.3450\n",
      "    Batch 3100/3960: loss=3.0188, acc=0.3458\n",
      "    Batch 3200/3960: loss=3.0193, acc=0.3450\n",
      "    Batch 3300/3960: loss=3.0167, acc=0.3452\n",
      "    Batch 3400/3960: loss=3.0156, acc=0.3458\n",
      "    Batch 3500/3960: loss=3.0160, acc=0.3467\n",
      "    Batch 3600/3960: loss=3.0166, acc=0.3468\n",
      "    Batch 3700/3960: loss=3.0158, acc=0.3465\n",
      "    Batch 3800/3960: loss=3.0133, acc=0.3463\n",
      "    Batch 3900/3960: loss=3.0133, acc=0.3457\n",
      "Epoch 20 Train Loss: 3.0137 Acc: 0.3456 LR: 0.001917\n",
      ">>> Training epoch 20 completed <<<\n",
      "  Starting validation...\n"
     ]
    },
    {
     "data": {
      "application/vnd.jupyter.widget-view+json": {
       "model_id": "98fc5f4a62b24328833e4b678b3a3103",
       "version_major": 2,
       "version_minor": 0
      },
      "text/plain": [
       "Validation (raw):   0%|          | 0/157 [00:00<?, ?it/s]"
      ]
     },
     "metadata": {},
     "output_type": "display_data"
    },
    {
     "name": "stdout",
     "output_type": "stream",
     "text": [
      "Validation Acc (raw): 0.6754\n"
     ]
    },
    {
     "data": {
      "application/vnd.jupyter.widget-view+json": {
       "model_id": "b8b4460ffc634200857245543433a499",
       "version_major": 2,
       "version_minor": 0
      },
      "text/plain": [
       "Validation (ema):   0%|          | 0/157 [00:00<?, ?it/s]"
      ]
     },
     "metadata": {},
     "output_type": "display_data"
    },
    {
     "name": "stdout",
     "output_type": "stream",
     "text": [
      "Validation Acc (ema): 0.5044\n",
      ">>> Validation completed <<<\n",
      "Epoch time: 38.82 mins\n",
      "Saved checkpoint\n",
      "\n",
      ">>> Starting Epoch 21/120 <<<\n",
      "  [DEBUG] Entered train_one_epoch function\n",
      "  [DEBUG] Set model to train mode\n",
      "  [DEBUG] Imported tqdm\n",
      "  Training epoch 21...\n",
      "  Loading first batch (this may take 10-30 seconds)...\n",
      "  [DEBUG] About to create iterator from train_loader...\n",
      "  [DEBUG] Calling iter(train_loader)...\n",
      "  [DEBUG] Iterator created successfully!\n",
      "  [DEBUG] Calling next(train_iter)...\n",
      "  ✓ First batch loaded! Shape: torch.Size([32, 3, 224, 224]), Labels: torch.Size([32])\n",
      "  Batch size actual: 32, Expected: 32\n"
     ]
    },
    {
     "data": {
      "application/vnd.jupyter.widget-view+json": {
       "model_id": "c3073c8ee87c42728b0d2a6e87bc9899",
       "version_major": 2,
       "version_minor": 0
      },
      "text/plain": [
       "Epoch 21/120:   0%|                                                        | 0/3960 [00:00<?, ?it/s]"
      ]
     },
     "metadata": {},
     "output_type": "display_data"
    },
    {
     "name": "stdout",
     "output_type": "stream",
     "text": [
      "    Batch 100/3960: loss=3.1116, acc=0.3456\n",
      "    Batch 200/3960: loss=3.0993, acc=0.3329\n",
      "    Batch 300/3960: loss=3.0565, acc=0.3419\n",
      "    Batch 400/3960: loss=3.0428, acc=0.3453\n",
      "    Batch 500/3960: loss=3.0351, acc=0.3467\n",
      "    Batch 600/3960: loss=3.0309, acc=0.3480\n",
      "    Batch 700/3960: loss=3.0204, acc=0.3467\n",
      "    Batch 800/3960: loss=3.0121, acc=0.3496\n",
      "    Batch 900/3960: loss=3.0180, acc=0.3479\n",
      "    Batch 1000/3960: loss=3.0043, acc=0.3496\n",
      "    Batch 1100/3960: loss=3.0062, acc=0.3476\n",
      "    Batch 1200/3960: loss=3.0013, acc=0.3494\n",
      "    Batch 1300/3960: loss=3.0000, acc=0.3487\n",
      "    Batch 1400/3960: loss=3.0014, acc=0.3480\n",
      "    Batch 1500/3960: loss=2.9927, acc=0.3506\n",
      "    Batch 1600/3960: loss=2.9953, acc=0.3489\n",
      "    Batch 1700/3960: loss=2.9977, acc=0.3493\n",
      "    Batch 1800/3960: loss=2.9968, acc=0.3511\n",
      "    Batch 1900/3960: loss=2.9937, acc=0.3526\n",
      "    Batch 2000/3960: loss=2.9940, acc=0.3510\n",
      "    Batch 2100/3960: loss=2.9931, acc=0.3511\n",
      "    Batch 2200/3960: loss=2.9955, acc=0.3523\n",
      "    Batch 2300/3960: loss=2.9955, acc=0.3526\n",
      "    Batch 2400/3960: loss=2.9924, acc=0.3527\n",
      "    Batch 2500/3960: loss=2.9938, acc=0.3524\n",
      "    Batch 2600/3960: loss=2.9929, acc=0.3523\n",
      "    Batch 2700/3960: loss=2.9906, acc=0.3529\n",
      "    Batch 2800/3960: loss=2.9884, acc=0.3538\n",
      "    Batch 2900/3960: loss=2.9930, acc=0.3518\n",
      "    Batch 3000/3960: loss=2.9951, acc=0.3509\n",
      "    Batch 3100/3960: loss=2.9947, acc=0.3521\n",
      "    Batch 3200/3960: loss=2.9960, acc=0.3526\n",
      "    Batch 3300/3960: loss=2.9933, acc=0.3532\n",
      "    Batch 3400/3960: loss=2.9932, acc=0.3535\n",
      "    Batch 3500/3960: loss=2.9940, acc=0.3530\n",
      "    Batch 3600/3960: loss=2.9923, acc=0.3530\n",
      "    Batch 3700/3960: loss=2.9929, acc=0.3530\n",
      "    Batch 3800/3960: loss=2.9926, acc=0.3527\n",
      "    Batch 3900/3960: loss=2.9935, acc=0.3525\n",
      "Epoch 21 Train Loss: 2.9936 Acc: 0.3529 LR: 0.001906\n",
      ">>> Training epoch 21 completed <<<\n",
      "  Starting validation...\n"
     ]
    },
    {
     "data": {
      "application/vnd.jupyter.widget-view+json": {
       "model_id": "f828d75ea9884c1fbf8e27e2599c40eb",
       "version_major": 2,
       "version_minor": 0
      },
      "text/plain": [
       "Validation (raw):   0%|          | 0/157 [00:00<?, ?it/s]"
      ]
     },
     "metadata": {},
     "output_type": "display_data"
    },
    {
     "name": "stdout",
     "output_type": "stream",
     "text": [
      "Validation Acc (raw): 0.6856\n"
     ]
    },
    {
     "data": {
      "application/vnd.jupyter.widget-view+json": {
       "model_id": "fcf7da2d507a4949b2c3ee8bfb547b4d",
       "version_major": 2,
       "version_minor": 0
      },
      "text/plain": [
       "Validation (ema):   0%|          | 0/157 [00:00<?, ?it/s]"
      ]
     },
     "metadata": {},
     "output_type": "display_data"
    },
    {
     "name": "stdout",
     "output_type": "stream",
     "text": [
      "Validation Acc (ema): 0.5098\n",
      ">>> Validation completed <<<\n",
      "Epoch time: 38.09 mins\n",
      "Saved checkpoint\n",
      "\n",
      ">>> Starting Epoch 22/120 <<<\n",
      "  [DEBUG] Entered train_one_epoch function\n",
      "  [DEBUG] Set model to train mode\n",
      "  [DEBUG] Imported tqdm\n",
      "  Training epoch 22...\n",
      "  Loading first batch (this may take 10-30 seconds)...\n",
      "  [DEBUG] About to create iterator from train_loader...\n",
      "  [DEBUG] Calling iter(train_loader)...\n",
      "  [DEBUG] Iterator created successfully!\n",
      "  [DEBUG] Calling next(train_iter)...\n",
      "  ✓ First batch loaded! Shape: torch.Size([32, 3, 224, 224]), Labels: torch.Size([32])\n",
      "  Batch size actual: 32, Expected: 32\n"
     ]
    },
    {
     "data": {
      "application/vnd.jupyter.widget-view+json": {
       "model_id": "35f6262bfa0447e887f1fa7b9b1da62e",
       "version_major": 2,
       "version_minor": 0
      },
      "text/plain": [
       "Epoch 22/120:   0%|                                                        | 0/3960 [00:00<?, ?it/s]"
      ]
     },
     "metadata": {},
     "output_type": "display_data"
    },
    {
     "name": "stdout",
     "output_type": "stream",
     "text": [
      "    Batch 100/3960: loss=2.9985, acc=0.3394\n",
      "    Batch 200/3960: loss=2.9566, acc=0.3573\n",
      "    Batch 300/3960: loss=2.9697, acc=0.3526\n",
      "    Batch 400/3960: loss=2.9663, acc=0.3541\n",
      "    Batch 500/3960: loss=2.9507, acc=0.3600\n",
      "    Batch 600/3960: loss=2.9594, acc=0.3562\n",
      "    Batch 700/3960: loss=2.9747, acc=0.3520\n",
      "    Batch 800/3960: loss=2.9781, acc=0.3505\n",
      "    Batch 900/3960: loss=2.9732, acc=0.3508\n",
      "    Batch 1000/3960: loss=2.9671, acc=0.3538\n",
      "    Batch 1100/3960: loss=2.9680, acc=0.3549\n",
      "    Batch 1200/3960: loss=2.9743, acc=0.3525\n",
      "    Batch 1300/3960: loss=2.9786, acc=0.3527\n",
      "    Batch 1400/3960: loss=2.9818, acc=0.3519\n",
      "    Batch 1500/3960: loss=2.9867, acc=0.3521\n",
      "    Batch 1600/3960: loss=2.9857, acc=0.3528\n",
      "    Batch 1700/3960: loss=2.9848, acc=0.3523\n",
      "    Batch 1800/3960: loss=2.9875, acc=0.3510\n",
      "    Batch 1900/3960: loss=2.9826, acc=0.3531\n",
      "    Batch 2000/3960: loss=2.9835, acc=0.3527\n",
      "    Batch 2100/3960: loss=2.9816, acc=0.3525\n",
      "    Batch 2200/3960: loss=2.9827, acc=0.3526\n",
      "    Batch 2300/3960: loss=2.9831, acc=0.3527\n",
      "    Batch 2400/3960: loss=2.9847, acc=0.3528\n",
      "    Batch 2500/3960: loss=2.9841, acc=0.3536\n",
      "    Batch 2600/3960: loss=2.9837, acc=0.3534\n",
      "    Batch 2700/3960: loss=2.9856, acc=0.3528\n",
      "    Batch 2800/3960: loss=2.9823, acc=0.3538\n",
      "    Batch 2900/3960: loss=2.9853, acc=0.3529\n",
      "    Batch 3000/3960: loss=2.9869, acc=0.3527\n",
      "    Batch 3100/3960: loss=2.9844, acc=0.3529\n",
      "    Batch 3200/3960: loss=2.9849, acc=0.3536\n",
      "    Batch 3300/3960: loss=2.9874, acc=0.3533\n",
      "    Batch 3400/3960: loss=2.9855, acc=0.3535\n",
      "    Batch 3500/3960: loss=2.9842, acc=0.3532\n",
      "    Batch 3600/3960: loss=2.9847, acc=0.3536\n",
      "    Batch 3700/3960: loss=2.9850, acc=0.3541\n",
      "    Batch 3800/3960: loss=2.9826, acc=0.3546\n",
      "    Batch 3900/3960: loss=2.9826, acc=0.3546\n",
      "Epoch 22 Train Loss: 2.9825 Acc: 0.3542 LR: 0.001894\n",
      ">>> Training epoch 22 completed <<<\n",
      "  Starting validation...\n"
     ]
    },
    {
     "data": {
      "application/vnd.jupyter.widget-view+json": {
       "model_id": "c022aa3fcd514f80805772c602635cd6",
       "version_major": 2,
       "version_minor": 0
      },
      "text/plain": [
       "Validation (raw):   0%|          | 0/157 [00:00<?, ?it/s]"
      ]
     },
     "metadata": {},
     "output_type": "display_data"
    },
    {
     "name": "stdout",
     "output_type": "stream",
     "text": [
      "Validation Acc (raw): 0.6996\n"
     ]
    },
    {
     "data": {
      "application/vnd.jupyter.widget-view+json": {
       "model_id": "de3fb2d6b9104f029a861b328b54faca",
       "version_major": 2,
       "version_minor": 0
      },
      "text/plain": [
       "Validation (ema):   0%|          | 0/157 [00:00<?, ?it/s]"
      ]
     },
     "metadata": {},
     "output_type": "display_data"
    },
    {
     "name": "stdout",
     "output_type": "stream",
     "text": [
      "Validation Acc (ema): 0.5102\n",
      ">>> Validation completed <<<\n",
      "Epoch time: 28.01 mins\n",
      "Saved checkpoint\n",
      "\n",
      ">>> Starting Epoch 23/120 <<<\n",
      "  [DEBUG] Entered train_one_epoch function\n",
      "  [DEBUG] Set model to train mode\n",
      "  [DEBUG] Imported tqdm\n",
      "  Training epoch 23...\n",
      "  Loading first batch (this may take 10-30 seconds)...\n",
      "  [DEBUG] About to create iterator from train_loader...\n",
      "  [DEBUG] Calling iter(train_loader)...\n",
      "  [DEBUG] Iterator created successfully!\n",
      "  [DEBUG] Calling next(train_iter)...\n",
      "  ✓ First batch loaded! Shape: torch.Size([32, 3, 224, 224]), Labels: torch.Size([32])\n",
      "  Batch size actual: 32, Expected: 32\n"
     ]
    },
    {
     "data": {
      "application/vnd.jupyter.widget-view+json": {
       "model_id": "b480389176144876ae884e203361de85",
       "version_major": 2,
       "version_minor": 0
      },
      "text/plain": [
       "Epoch 23/120:   0%|                                                        | 0/3960 [00:00<?, ?it/s]"
      ]
     },
     "metadata": {},
     "output_type": "display_data"
    },
    {
     "name": "stdout",
     "output_type": "stream",
     "text": [
      "    Batch 100/3960: loss=2.9432, acc=0.3886\n",
      "    Batch 200/3960: loss=2.9616, acc=0.3669\n",
      "    Batch 300/3960: loss=2.9677, acc=0.3656\n",
      "    Batch 400/3960: loss=2.9463, acc=0.3662\n",
      "    Batch 500/3960: loss=2.9498, acc=0.3678\n",
      "    Batch 600/3960: loss=2.9539, acc=0.3622\n",
      "    Batch 700/3960: loss=2.9381, acc=0.3717\n",
      "    Batch 800/3960: loss=2.9318, acc=0.3718\n",
      "    Batch 900/3960: loss=2.9252, acc=0.3731\n",
      "    Batch 1000/3960: loss=2.9224, acc=0.3723\n",
      "    Batch 1100/3960: loss=2.9215, acc=0.3698\n",
      "    Batch 1200/3960: loss=2.9290, acc=0.3672\n",
      "    Batch 1300/3960: loss=2.9256, acc=0.3655\n",
      "    Batch 1400/3960: loss=2.9276, acc=0.3657\n",
      "    Batch 1500/3960: loss=2.9294, acc=0.3645\n",
      "    Batch 1600/3960: loss=2.9287, acc=0.3660\n",
      "    Batch 1700/3960: loss=2.9296, acc=0.3661\n",
      "    Batch 1800/3960: loss=2.9265, acc=0.3666\n",
      "    Batch 1900/3960: loss=2.9246, acc=0.3670\n",
      "    Batch 2000/3960: loss=2.9287, acc=0.3669\n",
      "    Batch 2100/3960: loss=2.9277, acc=0.3686\n",
      "    Batch 2200/3960: loss=2.9290, acc=0.3685\n",
      "    Batch 2300/3960: loss=2.9281, acc=0.3693\n",
      "    Batch 2400/3960: loss=2.9270, acc=0.3686\n",
      "    Batch 2500/3960: loss=2.9280, acc=0.3687\n",
      "    Batch 2600/3960: loss=2.9312, acc=0.3688\n",
      "    Batch 2700/3960: loss=2.9330, acc=0.3684\n",
      "    Batch 2800/3960: loss=2.9311, acc=0.3691\n",
      "    Batch 2900/3960: loss=2.9319, acc=0.3700\n",
      "    Batch 3000/3960: loss=2.9351, acc=0.3682\n",
      "    Batch 3100/3960: loss=2.9342, acc=0.3677\n",
      "    Batch 3200/3960: loss=2.9314, acc=0.3681\n",
      "    Batch 3300/3960: loss=2.9305, acc=0.3687\n",
      "    Batch 3400/3960: loss=2.9293, acc=0.3682\n",
      "    Batch 3500/3960: loss=2.9302, acc=0.3674\n",
      "    Batch 3600/3960: loss=2.9286, acc=0.3676\n",
      "    Batch 3700/3960: loss=2.9254, acc=0.3682\n",
      "    Batch 3800/3960: loss=2.9282, acc=0.3674\n",
      "    Batch 3900/3960: loss=2.9289, acc=0.3675\n",
      "Epoch 23 Train Loss: 2.9285 Acc: 0.3679 LR: 0.001882\n",
      ">>> Training epoch 23 completed <<<\n",
      "  Starting validation...\n"
     ]
    },
    {
     "data": {
      "application/vnd.jupyter.widget-view+json": {
       "model_id": "a5237849bc844821bf1a49d3bee614d0",
       "version_major": 2,
       "version_minor": 0
      },
      "text/plain": [
       "Validation (raw):   0%|          | 0/157 [00:00<?, ?it/s]"
      ]
     },
     "metadata": {},
     "output_type": "display_data"
    },
    {
     "name": "stdout",
     "output_type": "stream",
     "text": [
      "Validation Acc (raw): 0.7070\n"
     ]
    },
    {
     "data": {
      "application/vnd.jupyter.widget-view+json": {
       "model_id": "1b0d956ae1524e70b7943c9463823a14",
       "version_major": 2,
       "version_minor": 0
      },
      "text/plain": [
       "Validation (ema):   0%|          | 0/157 [00:00<?, ?it/s]"
      ]
     },
     "metadata": {},
     "output_type": "display_data"
    },
    {
     "name": "stdout",
     "output_type": "stream",
     "text": [
      "Validation Acc (ema): 0.5142\n",
      ">>> Validation completed <<<\n",
      "Epoch time: 26.57 mins\n",
      "Saved checkpoint\n",
      "\n",
      ">>> Starting Epoch 24/120 <<<\n",
      "  [DEBUG] Entered train_one_epoch function\n",
      "  [DEBUG] Set model to train mode\n",
      "  [DEBUG] Imported tqdm\n",
      "  Training epoch 24...\n",
      "  Loading first batch (this may take 10-30 seconds)...\n",
      "  [DEBUG] About to create iterator from train_loader...\n",
      "  [DEBUG] Calling iter(train_loader)...\n",
      "  [DEBUG] Iterator created successfully!\n",
      "  [DEBUG] Calling next(train_iter)...\n",
      "  ✓ First batch loaded! Shape: torch.Size([32, 3, 224, 224]), Labels: torch.Size([32])\n",
      "  Batch size actual: 32, Expected: 32\n"
     ]
    },
    {
     "data": {
      "application/vnd.jupyter.widget-view+json": {
       "model_id": "2ff14aac39fd4fbea64ea8cb3764b385",
       "version_major": 2,
       "version_minor": 0
      },
      "text/plain": [
       "Epoch 24/120:   0%|                                                        | 0/3960 [00:00<?, ?it/s]"
      ]
     },
     "metadata": {},
     "output_type": "display_data"
    },
    {
     "name": "stdout",
     "output_type": "stream",
     "text": [
      "    Batch 100/3960: loss=2.8741, acc=0.3756\n",
      "    Batch 200/3960: loss=2.8731, acc=0.3706\n",
      "    Batch 300/3960: loss=2.9030, acc=0.3576\n",
      "    Batch 400/3960: loss=2.9338, acc=0.3530\n",
      "    Batch 500/3960: loss=2.9288, acc=0.3608\n",
      "    Batch 600/3960: loss=2.9170, acc=0.3687\n",
      "    Batch 700/3960: loss=2.9045, acc=0.3709\n",
      "    Batch 800/3960: loss=2.9163, acc=0.3668\n",
      "    Batch 900/3960: loss=2.9193, acc=0.3681\n",
      "    Batch 1000/3960: loss=2.9118, acc=0.3698\n",
      "    Batch 1100/3960: loss=2.9003, acc=0.3714\n",
      "    Batch 1200/3960: loss=2.9116, acc=0.3663\n",
      "    Batch 1300/3960: loss=2.9054, acc=0.3670\n",
      "    Batch 1400/3960: loss=2.9087, acc=0.3671\n",
      "    Batch 1500/3960: loss=2.9070, acc=0.3672\n",
      "    Batch 1600/3960: loss=2.9047, acc=0.3668\n",
      "    Batch 1700/3960: loss=2.9061, acc=0.3679\n",
      "    Batch 1800/3960: loss=2.9115, acc=0.3676\n",
      "    Batch 1900/3960: loss=2.9115, acc=0.3680\n",
      "    Batch 2000/3960: loss=2.9159, acc=0.3676\n",
      "    Batch 2100/3960: loss=2.9175, acc=0.3671\n",
      "    Batch 2200/3960: loss=2.9131, acc=0.3666\n",
      "    Batch 2300/3960: loss=2.9109, acc=0.3676\n",
      "    Batch 2400/3960: loss=2.9129, acc=0.3673\n",
      "    Batch 2500/3960: loss=2.9148, acc=0.3675\n",
      "    Batch 2600/3960: loss=2.9143, acc=0.3685\n",
      "    Batch 2700/3960: loss=2.9112, acc=0.3677\n",
      "    Batch 2800/3960: loss=2.9112, acc=0.3677\n",
      "    Batch 2900/3960: loss=2.9101, acc=0.3689\n",
      "    Batch 3000/3960: loss=2.9079, acc=0.3687\n",
      "    Batch 3100/3960: loss=2.9133, acc=0.3685\n",
      "    Batch 3200/3960: loss=2.9129, acc=0.3691\n",
      "    Batch 3300/3960: loss=2.9164, acc=0.3683\n",
      "    Batch 3400/3960: loss=2.9172, acc=0.3681\n",
      "    Batch 3500/3960: loss=2.9160, acc=0.3683\n",
      "    Batch 3600/3960: loss=2.9178, acc=0.3693\n",
      "    Batch 3700/3960: loss=2.9174, acc=0.3686\n",
      "    Batch 3800/3960: loss=2.9161, acc=0.3694\n",
      "    Batch 3900/3960: loss=2.9145, acc=0.3705\n",
      "Epoch 24 Train Loss: 2.9131 Acc: 0.3710 LR: 0.001868\n",
      ">>> Training epoch 24 completed <<<\n",
      "  Starting validation...\n"
     ]
    },
    {
     "data": {
      "application/vnd.jupyter.widget-view+json": {
       "model_id": "9abd0b84bb034616b76aed772cd6f3b2",
       "version_major": 2,
       "version_minor": 0
      },
      "text/plain": [
       "Validation (raw):   0%|          | 0/157 [00:00<?, ?it/s]"
      ]
     },
     "metadata": {},
     "output_type": "display_data"
    },
    {
     "name": "stdout",
     "output_type": "stream",
     "text": [
      "Validation Acc (raw): 0.7068\n"
     ]
    },
    {
     "data": {
      "application/vnd.jupyter.widget-view+json": {
       "model_id": "e3aaa3ba270d4ce6bf2a56253d7757bf",
       "version_major": 2,
       "version_minor": 0
      },
      "text/plain": [
       "Validation (ema):   0%|          | 0/157 [00:00<?, ?it/s]"
      ]
     },
     "metadata": {},
     "output_type": "display_data"
    },
    {
     "name": "stdout",
     "output_type": "stream",
     "text": [
      "Validation Acc (ema): 0.5174\n",
      ">>> Validation completed <<<\n",
      "Epoch time: 34.39 mins\n",
      "Saved checkpoint\n",
      "\n",
      ">>> Starting Epoch 25/120 <<<\n",
      "  [DEBUG] Entered train_one_epoch function\n",
      "  [DEBUG] Set model to train mode\n",
      "  [DEBUG] Imported tqdm\n",
      "  Training epoch 25...\n",
      "  Loading first batch (this may take 10-30 seconds)...\n",
      "  [DEBUG] About to create iterator from train_loader...\n",
      "  [DEBUG] Calling iter(train_loader)...\n",
      "  [DEBUG] Iterator created successfully!\n",
      "  [DEBUG] Calling next(train_iter)...\n",
      "  ✓ First batch loaded! Shape: torch.Size([32, 3, 224, 224]), Labels: torch.Size([32])\n",
      "  Batch size actual: 32, Expected: 32\n"
     ]
    },
    {
     "data": {
      "application/vnd.jupyter.widget-view+json": {
       "model_id": "1dd05404e5b942e5b9d79c3036cca572",
       "version_major": 2,
       "version_minor": 0
      },
      "text/plain": [
       "Epoch 25/120:   0%|                                                        | 0/3960 [00:00<?, ?it/s]"
      ]
     },
     "metadata": {},
     "output_type": "display_data"
    },
    {
     "name": "stdout",
     "output_type": "stream",
     "text": [
      "    Batch 100/3960: loss=2.8922, acc=0.3834\n",
      "    Batch 200/3960: loss=2.8841, acc=0.3682\n",
      "    Batch 300/3960: loss=2.9171, acc=0.3726\n",
      "    Batch 400/3960: loss=2.8799, acc=0.3833\n",
      "    Batch 500/3960: loss=2.8783, acc=0.3789\n",
      "    Batch 600/3960: loss=2.8829, acc=0.3803\n",
      "    Batch 700/3960: loss=2.8817, acc=0.3815\n",
      "    Batch 800/3960: loss=2.8785, acc=0.3809\n",
      "    Batch 900/3960: loss=2.8878, acc=0.3780\n",
      "    Batch 1000/3960: loss=2.8910, acc=0.3797\n",
      "    Batch 1100/3960: loss=2.8990, acc=0.3799\n",
      "    Batch 1200/3960: loss=2.9024, acc=0.3786\n",
      "    Batch 1300/3960: loss=2.9079, acc=0.3780\n",
      "    Batch 1400/3960: loss=2.9138, acc=0.3742\n",
      "    Batch 1500/3960: loss=2.9126, acc=0.3751\n",
      "    Batch 1600/3960: loss=2.9110, acc=0.3751\n",
      "    Batch 1700/3960: loss=2.9127, acc=0.3732\n",
      "    Batch 1800/3960: loss=2.9128, acc=0.3751\n",
      "    Batch 1900/3960: loss=2.9086, acc=0.3756\n",
      "    Batch 2000/3960: loss=2.9141, acc=0.3743\n",
      "    Batch 2100/3960: loss=2.9134, acc=0.3756\n",
      "    Batch 2200/3960: loss=2.9120, acc=0.3757\n",
      "    Batch 2300/3960: loss=2.9099, acc=0.3756\n",
      "    Batch 2400/3960: loss=2.9068, acc=0.3760\n",
      "    Batch 2500/3960: loss=2.9101, acc=0.3748\n",
      "    Batch 2600/3960: loss=2.9110, acc=0.3756\n",
      "    Batch 2700/3960: loss=2.9095, acc=0.3758\n",
      "    Batch 2800/3960: loss=2.9077, acc=0.3756\n",
      "    Batch 2900/3960: loss=2.9101, acc=0.3751\n",
      "    Batch 3000/3960: loss=2.9087, acc=0.3759\n",
      "    Batch 3100/3960: loss=2.9114, acc=0.3763\n",
      "    Batch 3200/3960: loss=2.9129, acc=0.3761\n",
      "    Batch 3300/3960: loss=2.9132, acc=0.3761\n",
      "    Batch 3400/3960: loss=2.9143, acc=0.3755\n",
      "    Batch 3500/3960: loss=2.9132, acc=0.3748\n",
      "    Batch 3600/3960: loss=2.9143, acc=0.3745\n",
      "    Batch 3700/3960: loss=2.9172, acc=0.3740\n",
      "    Batch 3800/3960: loss=2.9146, acc=0.3746\n",
      "    Batch 3900/3960: loss=2.9148, acc=0.3748\n",
      "Epoch 25 Train Loss: 2.9128 Acc: 0.3752 LR: 0.001854\n",
      ">>> Training epoch 25 completed <<<\n",
      "  Starting validation...\n"
     ]
    },
    {
     "data": {
      "application/vnd.jupyter.widget-view+json": {
       "model_id": "909d051adadd4658b03b994427cab73c",
       "version_major": 2,
       "version_minor": 0
      },
      "text/plain": [
       "Validation (raw):   0%|          | 0/157 [00:00<?, ?it/s]"
      ]
     },
     "metadata": {},
     "output_type": "display_data"
    },
    {
     "name": "stdout",
     "output_type": "stream",
     "text": [
      "Validation Acc (raw): 0.7062\n"
     ]
    },
    {
     "data": {
      "application/vnd.jupyter.widget-view+json": {
       "model_id": "990ab2c309f84944b18452df0189e5f3",
       "version_major": 2,
       "version_minor": 0
      },
      "text/plain": [
       "Validation (ema):   0%|          | 0/157 [00:00<?, ?it/s]"
      ]
     },
     "metadata": {},
     "output_type": "display_data"
    },
    {
     "name": "stdout",
     "output_type": "stream",
     "text": [
      "Validation Acc (ema): 0.5168\n",
      ">>> Validation completed <<<\n",
      "Epoch time: 42.21 mins\n",
      "Saved checkpoint\n",
      "\n",
      ">>> Starting Epoch 26/120 <<<\n",
      "  [DEBUG] Entered train_one_epoch function\n",
      "  [DEBUG] Set model to train mode\n",
      "  [DEBUG] Imported tqdm\n",
      "  Training epoch 26...\n",
      "  Loading first batch (this may take 10-30 seconds)...\n",
      "  [DEBUG] About to create iterator from train_loader...\n",
      "  [DEBUG] Calling iter(train_loader)...\n",
      "  [DEBUG] Iterator created successfully!\n",
      "  [DEBUG] Calling next(train_iter)...\n",
      "  ✓ First batch loaded! Shape: torch.Size([32, 3, 224, 224]), Labels: torch.Size([32])\n",
      "  Batch size actual: 32, Expected: 32\n"
     ]
    },
    {
     "data": {
      "application/vnd.jupyter.widget-view+json": {
       "model_id": "f485cf4f0b59498ea27fe3c37fcb56d0",
       "version_major": 2,
       "version_minor": 0
      },
      "text/plain": [
       "Epoch 26/120:   0%|                                                        | 0/3960 [00:00<?, ?it/s]"
      ]
     },
     "metadata": {},
     "output_type": "display_data"
    },
    {
     "name": "stdout",
     "output_type": "stream",
     "text": [
      "    Batch 100/3960: loss=2.9715, acc=0.3533\n",
      "    Batch 200/3960: loss=2.9393, acc=0.3850\n",
      "    Batch 300/3960: loss=2.9255, acc=0.3833\n",
      "    Batch 400/3960: loss=2.9134, acc=0.3852\n",
      "    Batch 500/3960: loss=2.9055, acc=0.3860\n",
      "    Batch 600/3960: loss=2.9026, acc=0.3858\n",
      "    Batch 700/3960: loss=2.8939, acc=0.3871\n",
      "    Batch 800/3960: loss=2.8973, acc=0.3879\n",
      "    Batch 900/3960: loss=2.8950, acc=0.3884\n",
      "    Batch 1000/3960: loss=2.8851, acc=0.3874\n",
      "    Batch 1100/3960: loss=2.8861, acc=0.3871\n",
      "    Batch 1200/3960: loss=2.8697, acc=0.3888\n",
      "    Batch 1300/3960: loss=2.8735, acc=0.3884\n",
      "    Batch 1400/3960: loss=2.8798, acc=0.3862\n",
      "    Batch 1500/3960: loss=2.8808, acc=0.3857\n",
      "    Batch 1600/3960: loss=2.8825, acc=0.3856\n",
      "    Batch 1700/3960: loss=2.8781, acc=0.3875\n",
      "    Batch 1800/3960: loss=2.8814, acc=0.3873\n",
      "    Batch 1900/3960: loss=2.8859, acc=0.3862\n",
      "    Batch 2000/3960: loss=2.8925, acc=0.3828\n",
      "    Batch 2100/3960: loss=2.8957, acc=0.3824\n",
      "    Batch 2200/3960: loss=2.9017, acc=0.3795\n",
      "    Batch 2300/3960: loss=2.8975, acc=0.3785\n",
      "    Batch 2400/3960: loss=2.8980, acc=0.3788\n",
      "    Batch 2500/3960: loss=2.8976, acc=0.3791\n",
      "    Batch 2600/3960: loss=2.9011, acc=0.3789\n",
      "    Batch 2700/3960: loss=2.9065, acc=0.3786\n",
      "    Batch 2800/3960: loss=2.9080, acc=0.3787\n",
      "    Batch 2900/3960: loss=2.9080, acc=0.3790\n",
      "    Batch 3000/3960: loss=2.9089, acc=0.3792\n",
      "    Batch 3100/3960: loss=2.9070, acc=0.3796\n",
      "    Batch 3200/3960: loss=2.9057, acc=0.3792\n",
      "    Batch 3300/3960: loss=2.9044, acc=0.3787\n",
      "    Batch 3400/3960: loss=2.9042, acc=0.3786\n",
      "    Batch 3500/3960: loss=2.9038, acc=0.3786\n",
      "    Batch 3600/3960: loss=2.9049, acc=0.3781\n",
      "    Batch 3700/3960: loss=2.9011, acc=0.3795\n",
      "    Batch 3800/3960: loss=2.8999, acc=0.3793\n",
      "    Batch 3900/3960: loss=2.9003, acc=0.3797\n",
      "Epoch 26 Train Loss: 2.9005 Acc: 0.3792 LR: 0.001840\n",
      ">>> Training epoch 26 completed <<<\n",
      "  Starting validation...\n"
     ]
    },
    {
     "data": {
      "application/vnd.jupyter.widget-view+json": {
       "model_id": "40084077b4634fadbbfec8158c070349",
       "version_major": 2,
       "version_minor": 0
      },
      "text/plain": [
       "Validation (raw):   0%|          | 0/157 [00:00<?, ?it/s]"
      ]
     },
     "metadata": {},
     "output_type": "display_data"
    },
    {
     "name": "stdout",
     "output_type": "stream",
     "text": [
      "Validation Acc (raw): 0.7046\n"
     ]
    },
    {
     "data": {
      "application/vnd.jupyter.widget-view+json": {
       "model_id": "e96bef880c6b4d1889b90f43b98209b1",
       "version_major": 2,
       "version_minor": 0
      },
      "text/plain": [
       "Validation (ema):   0%|          | 0/157 [00:00<?, ?it/s]"
      ]
     },
     "metadata": {},
     "output_type": "display_data"
    },
    {
     "name": "stdout",
     "output_type": "stream",
     "text": [
      "Validation Acc (ema): 0.5184\n",
      ">>> Validation completed <<<\n",
      "Epoch time: 30.32 mins\n",
      "Saved checkpoint\n",
      "\n",
      ">>> Starting Epoch 27/120 <<<\n",
      "  [DEBUG] Entered train_one_epoch function\n",
      "  [DEBUG] Set model to train mode\n",
      "  [DEBUG] Imported tqdm\n",
      "  Training epoch 27...\n",
      "  Loading first batch (this may take 10-30 seconds)...\n",
      "  [DEBUG] About to create iterator from train_loader...\n",
      "  [DEBUG] Calling iter(train_loader)...\n",
      "  [DEBUG] Iterator created successfully!\n",
      "  [DEBUG] Calling next(train_iter)...\n",
      "  ✓ First batch loaded! Shape: torch.Size([32, 3, 224, 224]), Labels: torch.Size([32])\n",
      "  Batch size actual: 32, Expected: 32\n"
     ]
    },
    {
     "data": {
      "application/vnd.jupyter.widget-view+json": {
       "model_id": "3062196efa2849b9babaa06433766973",
       "version_major": 2,
       "version_minor": 0
      },
      "text/plain": [
       "Epoch 27/120:   0%|                                                        | 0/3960 [00:00<?, ?it/s]"
      ]
     },
     "metadata": {},
     "output_type": "display_data"
    },
    {
     "name": "stdout",
     "output_type": "stream",
     "text": [
      "    Batch 100/3960: loss=2.8252, acc=0.3998\n",
      "    Batch 200/3960: loss=2.8799, acc=0.4003\n",
      "    Batch 300/3960: loss=2.8859, acc=0.3831\n",
      "    Batch 400/3960: loss=2.8777, acc=0.3825\n",
      "    Batch 500/3960: loss=2.8849, acc=0.3786\n",
      "    Batch 600/3960: loss=2.8852, acc=0.3811\n",
      "    Batch 700/3960: loss=2.8904, acc=0.3830\n",
      "    Batch 800/3960: loss=2.8801, acc=0.3860\n",
      "    Batch 900/3960: loss=2.8707, acc=0.3834\n",
      "    Batch 1000/3960: loss=2.8871, acc=0.3790\n",
      "    Batch 1100/3960: loss=2.8821, acc=0.3804\n",
      "    Batch 1200/3960: loss=2.8895, acc=0.3797\n",
      "    Batch 1300/3960: loss=2.8905, acc=0.3795\n",
      "    Batch 1400/3960: loss=2.8850, acc=0.3783\n",
      "    Batch 1500/3960: loss=2.8864, acc=0.3779\n",
      "    Batch 1600/3960: loss=2.8915, acc=0.3789\n",
      "    Batch 1700/3960: loss=2.8888, acc=0.3784\n",
      "    Batch 1800/3960: loss=2.8910, acc=0.3800\n",
      "    Batch 1900/3960: loss=2.8871, acc=0.3810\n",
      "    Batch 2000/3960: loss=2.8857, acc=0.3811\n",
      "    Batch 2100/3960: loss=2.8857, acc=0.3806\n",
      "    Batch 2200/3960: loss=2.8874, acc=0.3804\n",
      "    Batch 2300/3960: loss=2.8860, acc=0.3807\n",
      "    Batch 2400/3960: loss=2.8839, acc=0.3805\n",
      "    Batch 2500/3960: loss=2.8897, acc=0.3789\n",
      "    Batch 2600/3960: loss=2.8876, acc=0.3796\n",
      "    Batch 2700/3960: loss=2.8887, acc=0.3790\n",
      "    Batch 2800/3960: loss=2.8881, acc=0.3791\n",
      "    Batch 2900/3960: loss=2.8904, acc=0.3780\n",
      "    Batch 3000/3960: loss=2.8896, acc=0.3782\n",
      "    Batch 3100/3960: loss=2.8891, acc=0.3790\n",
      "    Batch 3200/3960: loss=2.8887, acc=0.3795\n",
      "    Batch 3300/3960: loss=2.8902, acc=0.3777\n",
      "    Batch 3400/3960: loss=2.8886, acc=0.3783\n",
      "    Batch 3500/3960: loss=2.8876, acc=0.3783\n",
      "    Batch 3600/3960: loss=2.8860, acc=0.3785\n",
      "    Batch 3700/3960: loss=2.8836, acc=0.3787\n",
      "    Batch 3800/3960: loss=2.8832, acc=0.3790\n",
      "    Batch 3900/3960: loss=2.8836, acc=0.3791\n",
      "Epoch 27 Train Loss: 2.8846 Acc: 0.3791 LR: 0.001825\n",
      ">>> Training epoch 27 completed <<<\n",
      "  Starting validation...\n"
     ]
    },
    {
     "data": {
      "application/vnd.jupyter.widget-view+json": {
       "model_id": "2ea81545a9b14e9d95c957a02c24d070",
       "version_major": 2,
       "version_minor": 0
      },
      "text/plain": [
       "Validation (raw):   0%|          | 0/157 [00:00<?, ?it/s]"
      ]
     },
     "metadata": {},
     "output_type": "display_data"
    },
    {
     "name": "stdout",
     "output_type": "stream",
     "text": [
      "Validation Acc (raw): 0.7186\n"
     ]
    },
    {
     "data": {
      "application/vnd.jupyter.widget-view+json": {
       "model_id": "075fe05793d94fafb1ef91adc9dd20ab",
       "version_major": 2,
       "version_minor": 0
      },
      "text/plain": [
       "Validation (ema):   0%|          | 0/157 [00:00<?, ?it/s]"
      ]
     },
     "metadata": {},
     "output_type": "display_data"
    },
    {
     "name": "stdout",
     "output_type": "stream",
     "text": [
      "Validation Acc (ema): 0.5226\n",
      ">>> Validation completed <<<\n",
      "Epoch time: 37.58 mins\n",
      "Saved checkpoint\n",
      "\n",
      ">>> Starting Epoch 28/120 <<<\n",
      "  [DEBUG] Entered train_one_epoch function\n",
      "  [DEBUG] Set model to train mode\n",
      "  [DEBUG] Imported tqdm\n",
      "  Training epoch 28...\n",
      "  Loading first batch (this may take 10-30 seconds)...\n",
      "  [DEBUG] About to create iterator from train_loader...\n",
      "  [DEBUG] Calling iter(train_loader)...\n",
      "  [DEBUG] Iterator created successfully!\n",
      "  [DEBUG] Calling next(train_iter)...\n",
      "  ✓ First batch loaded! Shape: torch.Size([32, 3, 224, 224]), Labels: torch.Size([32])\n",
      "  Batch size actual: 32, Expected: 32\n"
     ]
    },
    {
     "data": {
      "application/vnd.jupyter.widget-view+json": {
       "model_id": "a0c3afaad4a34c1fa3aeee14e7cdb860",
       "version_major": 2,
       "version_minor": 0
      },
      "text/plain": [
       "Epoch 28/120:   0%|                                                        | 0/3960 [00:00<?, ?it/s]"
      ]
     },
     "metadata": {},
     "output_type": "display_data"
    },
    {
     "name": "stdout",
     "output_type": "stream",
     "text": [
      "    Batch 100/3960: loss=2.7884, acc=0.3462\n",
      "    Batch 200/3960: loss=2.7809, acc=0.3750\n",
      "    Batch 300/3960: loss=2.8079, acc=0.3819\n",
      "    Batch 400/3960: loss=2.8387, acc=0.3780\n",
      "    Batch 500/3960: loss=2.8492, acc=0.3827\n",
      "    Batch 600/3960: loss=2.8465, acc=0.3857\n",
      "    Batch 700/3960: loss=2.8481, acc=0.3854\n",
      "    Batch 800/3960: loss=2.8527, acc=0.3871\n",
      "    Batch 900/3960: loss=2.8580, acc=0.3893\n",
      "    Batch 1000/3960: loss=2.8684, acc=0.3884\n",
      "    Batch 1100/3960: loss=2.8611, acc=0.3910\n",
      "    Batch 1200/3960: loss=2.8525, acc=0.3922\n",
      "    Batch 1300/3960: loss=2.8470, acc=0.3926\n",
      "    Batch 1400/3960: loss=2.8469, acc=0.3916\n",
      "    Batch 1500/3960: loss=2.8490, acc=0.3920\n",
      "    Batch 1600/3960: loss=2.8478, acc=0.3925\n",
      "    Batch 1700/3960: loss=2.8511, acc=0.3911\n",
      "    Batch 1800/3960: loss=2.8523, acc=0.3916\n",
      "    Batch 1900/3960: loss=2.8585, acc=0.3891\n",
      "    Batch 2000/3960: loss=2.8589, acc=0.3891\n",
      "    Batch 2100/3960: loss=2.8603, acc=0.3872\n",
      "    Batch 2200/3960: loss=2.8603, acc=0.3873\n",
      "    Batch 2300/3960: loss=2.8624, acc=0.3862\n",
      "    Batch 2400/3960: loss=2.8635, acc=0.3853\n",
      "    Batch 2500/3960: loss=2.8686, acc=0.3832\n",
      "    Batch 2600/3960: loss=2.8707, acc=0.3825\n",
      "    Batch 2700/3960: loss=2.8696, acc=0.3831\n",
      "    Batch 2800/3960: loss=2.8707, acc=0.3828\n",
      "    Batch 2900/3960: loss=2.8678, acc=0.3824\n",
      "    Batch 3000/3960: loss=2.8684, acc=0.3827\n",
      "    Batch 3100/3960: loss=2.8659, acc=0.3840\n",
      "    Batch 3200/3960: loss=2.8656, acc=0.3845\n",
      "    Batch 3300/3960: loss=2.8633, acc=0.3851\n",
      "    Batch 3400/3960: loss=2.8622, acc=0.3859\n",
      "    Batch 3500/3960: loss=2.8616, acc=0.3865\n",
      "    Batch 3600/3960: loss=2.8602, acc=0.3863\n",
      "    Batch 3700/3960: loss=2.8597, acc=0.3866\n",
      "    Batch 3800/3960: loss=2.8600, acc=0.3867\n",
      "    Batch 3900/3960: loss=2.8606, acc=0.3877\n",
      "Epoch 28 Train Loss: 2.8601 Acc: 0.3874 LR: 0.001809\n",
      ">>> Training epoch 28 completed <<<\n",
      "  Starting validation...\n"
     ]
    },
    {
     "data": {
      "application/vnd.jupyter.widget-view+json": {
       "model_id": "db29a98bd06e4ce286e420c36488f506",
       "version_major": 2,
       "version_minor": 0
      },
      "text/plain": [
       "Validation (raw):   0%|          | 0/157 [00:00<?, ?it/s]"
      ]
     },
     "metadata": {},
     "output_type": "display_data"
    },
    {
     "name": "stdout",
     "output_type": "stream",
     "text": [
      "Validation Acc (raw): 0.7234\n"
     ]
    },
    {
     "data": {
      "application/vnd.jupyter.widget-view+json": {
       "model_id": "8eae926b68174a6e92db6e7c5a785167",
       "version_major": 2,
       "version_minor": 0
      },
      "text/plain": [
       "Validation (ema):   0%|          | 0/157 [00:00<?, ?it/s]"
      ]
     },
     "metadata": {},
     "output_type": "display_data"
    },
    {
     "name": "stdout",
     "output_type": "stream",
     "text": [
      "Validation Acc (ema): 0.5222\n",
      ">>> Validation completed <<<\n",
      "Epoch time: 48.95 mins\n",
      "\n",
      ">>> Starting Epoch 29/120 <<<\n",
      "  [DEBUG] Entered train_one_epoch function\n",
      "  [DEBUG] Set model to train mode\n",
      "  [DEBUG] Imported tqdm\n",
      "  Training epoch 29...\n",
      "  Loading first batch (this may take 10-30 seconds)...\n",
      "  [DEBUG] About to create iterator from train_loader...\n",
      "  [DEBUG] Calling iter(train_loader)...\n",
      "  [DEBUG] Iterator created successfully!\n",
      "  [DEBUG] Calling next(train_iter)...\n",
      "  ✓ First batch loaded! Shape: torch.Size([32, 3, 224, 224]), Labels: torch.Size([32])\n",
      "  Batch size actual: 32, Expected: 32\n"
     ]
    },
    {
     "data": {
      "application/vnd.jupyter.widget-view+json": {
       "model_id": "81b853b123544596bf3e169855c24d2e",
       "version_major": 2,
       "version_minor": 0
      },
      "text/plain": [
       "Epoch 29/120:   0%|                                                        | 0/3960 [00:00<?, ?it/s]"
      ]
     },
     "metadata": {},
     "output_type": "display_data"
    },
    {
     "name": "stdout",
     "output_type": "stream",
     "text": [
      "    Batch 100/3960: loss=2.8678, acc=0.3895\n",
      "    Batch 200/3960: loss=2.8942, acc=0.3752\n",
      "    Batch 300/3960: loss=2.8821, acc=0.3753\n",
      "    Batch 400/3960: loss=2.9057, acc=0.3683\n",
      "    Batch 500/3960: loss=2.9077, acc=0.3691\n",
      "    Batch 600/3960: loss=2.9071, acc=0.3748\n",
      "    Batch 700/3960: loss=2.8900, acc=0.3738\n",
      "    Batch 800/3960: loss=2.8858, acc=0.3731\n",
      "    Batch 900/3960: loss=2.8873, acc=0.3765\n",
      "    Batch 1000/3960: loss=2.8786, acc=0.3788\n",
      "    Batch 1100/3960: loss=2.8734, acc=0.3834\n",
      "    Batch 1200/3960: loss=2.8760, acc=0.3853\n",
      "    Batch 1300/3960: loss=2.8788, acc=0.3831\n",
      "    Batch 1400/3960: loss=2.8755, acc=0.3817\n",
      "    Batch 1500/3960: loss=2.8683, acc=0.3853\n",
      "    Batch 1600/3960: loss=2.8636, acc=0.3876\n",
      "    Batch 1700/3960: loss=2.8658, acc=0.3848\n",
      "    Batch 1800/3960: loss=2.8649, acc=0.3848\n",
      "    Batch 1900/3960: loss=2.8612, acc=0.3840\n",
      "    Batch 2000/3960: loss=2.8650, acc=0.3831\n",
      "    Batch 2100/3960: loss=2.8617, acc=0.3859\n",
      "    Batch 2200/3960: loss=2.8597, acc=0.3862\n",
      "    Batch 2300/3960: loss=2.8636, acc=0.3859\n",
      "    Batch 2400/3960: loss=2.8632, acc=0.3856\n",
      "    Batch 2500/3960: loss=2.8640, acc=0.3858\n",
      "    Batch 2600/3960: loss=2.8638, acc=0.3856\n",
      "    Batch 2700/3960: loss=2.8657, acc=0.3854\n",
      "    Batch 2800/3960: loss=2.8662, acc=0.3863\n",
      "    Batch 2900/3960: loss=2.8702, acc=0.3858\n",
      "    Batch 3000/3960: loss=2.8712, acc=0.3860\n",
      "    Batch 3100/3960: loss=2.8727, acc=0.3858\n",
      "    Batch 3200/3960: loss=2.8732, acc=0.3850\n",
      "    Batch 3300/3960: loss=2.8671, acc=0.3861\n",
      "    Batch 3400/3960: loss=2.8660, acc=0.3868\n",
      "    Batch 3500/3960: loss=2.8659, acc=0.3867\n",
      "    Batch 3600/3960: loss=2.8649, acc=0.3862\n",
      "    Batch 3700/3960: loss=2.8661, acc=0.3861\n",
      "    Batch 3800/3960: loss=2.8655, acc=0.3859\n",
      "    Batch 3900/3960: loss=2.8642, acc=0.3863\n",
      "Epoch 29 Train Loss: 2.8658 Acc: 0.3860 LR: 0.001793\n",
      ">>> Training epoch 29 completed <<<\n",
      "  Starting validation...\n"
     ]
    },
    {
     "data": {
      "application/vnd.jupyter.widget-view+json": {
       "model_id": "70acfb5f322b43e987448cb2aac2f886",
       "version_major": 2,
       "version_minor": 0
      },
      "text/plain": [
       "Validation (raw):   0%|          | 0/157 [00:00<?, ?it/s]"
      ]
     },
     "metadata": {},
     "output_type": "display_data"
    },
    {
     "name": "stdout",
     "output_type": "stream",
     "text": [
      "Validation Acc (raw): 0.7204\n"
     ]
    },
    {
     "data": {
      "application/vnd.jupyter.widget-view+json": {
       "model_id": "20b69a4a7568444eba523477dc30ff44",
       "version_major": 2,
       "version_minor": 0
      },
      "text/plain": [
       "Validation (ema):   0%|          | 0/157 [00:00<?, ?it/s]"
      ]
     },
     "metadata": {},
     "output_type": "display_data"
    },
    {
     "name": "stdout",
     "output_type": "stream",
     "text": [
      "Validation Acc (ema): 0.5208\n",
      ">>> Validation completed <<<\n",
      "Epoch time: 37.21 mins\n",
      "\n",
      ">>> Starting Epoch 30/120 <<<\n",
      "  [DEBUG] Entered train_one_epoch function\n",
      "  [DEBUG] Set model to train mode\n",
      "  [DEBUG] Imported tqdm\n",
      "  Training epoch 30...\n",
      "  Loading first batch (this may take 10-30 seconds)...\n",
      "  [DEBUG] About to create iterator from train_loader...\n",
      "  [DEBUG] Calling iter(train_loader)...\n",
      "  [DEBUG] Iterator created successfully!\n",
      "  [DEBUG] Calling next(train_iter)...\n",
      "  ✓ First batch loaded! Shape: torch.Size([32, 3, 224, 224]), Labels: torch.Size([32])\n",
      "  Batch size actual: 32, Expected: 32\n"
     ]
    },
    {
     "data": {
      "application/vnd.jupyter.widget-view+json": {
       "model_id": "4755bdf0e5ec4190b719ede8fd72c7e9",
       "version_major": 2,
       "version_minor": 0
      },
      "text/plain": [
       "Epoch 30/120:   0%|                                                        | 0/3960 [00:00<?, ?it/s]"
      ]
     },
     "metadata": {},
     "output_type": "display_data"
    },
    {
     "name": "stdout",
     "output_type": "stream",
     "text": [
      "    Batch 100/3960: loss=2.8392, acc=0.3515\n",
      "    Batch 200/3960: loss=2.8634, acc=0.3711\n",
      "    Batch 300/3960: loss=2.8367, acc=0.3785\n",
      "    Batch 400/3960: loss=2.8294, acc=0.3836\n",
      "    Batch 500/3960: loss=2.8387, acc=0.3814\n",
      "    Batch 600/3960: loss=2.8253, acc=0.3919\n",
      "    Batch 700/3960: loss=2.8194, acc=0.3964\n",
      "    Batch 800/3960: loss=2.8296, acc=0.3944\n",
      "    Batch 900/3960: loss=2.8384, acc=0.3914\n",
      "    Batch 1000/3960: loss=2.8454, acc=0.3910\n",
      "    Batch 1100/3960: loss=2.8396, acc=0.3950\n",
      "    Batch 1200/3960: loss=2.8488, acc=0.3936\n",
      "    Batch 1300/3960: loss=2.8514, acc=0.3947\n",
      "    Batch 1400/3960: loss=2.8563, acc=0.3929\n",
      "    Batch 1500/3960: loss=2.8559, acc=0.3931\n",
      "    Batch 1600/3960: loss=2.8495, acc=0.3947\n",
      "    Batch 1700/3960: loss=2.8512, acc=0.3947\n",
      "    Batch 1800/3960: loss=2.8551, acc=0.3941\n",
      "    Batch 1900/3960: loss=2.8489, acc=0.3947\n",
      "    Batch 2000/3960: loss=2.8455, acc=0.3974\n",
      "    Batch 2100/3960: loss=2.8451, acc=0.3950\n",
      "    Batch 2200/3960: loss=2.8460, acc=0.3947\n",
      "    Batch 2300/3960: loss=2.8461, acc=0.3958\n",
      "    Batch 2400/3960: loss=2.8506, acc=0.3942\n",
      "    Batch 2500/3960: loss=2.8524, acc=0.3936\n",
      "    Batch 2600/3960: loss=2.8516, acc=0.3932\n",
      "    Batch 2700/3960: loss=2.8507, acc=0.3925\n",
      "    Batch 2800/3960: loss=2.8503, acc=0.3918\n",
      "    Batch 2900/3960: loss=2.8464, acc=0.3927\n",
      "    Batch 3000/3960: loss=2.8472, acc=0.3921\n",
      "    Batch 3100/3960: loss=2.8457, acc=0.3923\n",
      "    Batch 3200/3960: loss=2.8476, acc=0.3919\n",
      "    Batch 3300/3960: loss=2.8462, acc=0.3920\n",
      "    Batch 3400/3960: loss=2.8471, acc=0.3917\n",
      "    Batch 3500/3960: loss=2.8455, acc=0.3917\n",
      "    Batch 3600/3960: loss=2.8469, acc=0.3918\n",
      "    Batch 3700/3960: loss=2.8491, acc=0.3917\n",
      "    Batch 3800/3960: loss=2.8506, acc=0.3914\n",
      "    Batch 3900/3960: loss=2.8489, acc=0.3909\n",
      "Epoch 30 Train Loss: 2.8483 Acc: 0.3913 LR: 0.001776\n",
      ">>> Training epoch 30 completed <<<\n",
      "  Starting validation...\n"
     ]
    },
    {
     "data": {
      "application/vnd.jupyter.widget-view+json": {
       "model_id": "61fc0255a4484132a1b6eae01531281f",
       "version_major": 2,
       "version_minor": 0
      },
      "text/plain": [
       "Validation (raw):   0%|          | 0/157 [00:00<?, ?it/s]"
      ]
     },
     "metadata": {},
     "output_type": "display_data"
    },
    {
     "name": "stdout",
     "output_type": "stream",
     "text": [
      "Validation Acc (raw): 0.7290\n"
     ]
    },
    {
     "data": {
      "application/vnd.jupyter.widget-view+json": {
       "model_id": "4f083b35799f41a89dbec48af542cf89",
       "version_major": 2,
       "version_minor": 0
      },
      "text/plain": [
       "Validation (ema):   0%|          | 0/157 [00:00<?, ?it/s]"
      ]
     },
     "metadata": {},
     "output_type": "display_data"
    },
    {
     "name": "stdout",
     "output_type": "stream",
     "text": [
      "Validation Acc (ema): 0.5196\n",
      ">>> Validation completed <<<\n",
      "Epoch time: 31.97 mins\n",
      "Saved checkpoint\n",
      "\n",
      ">>> Starting Epoch 31/120 <<<\n",
      "  [DEBUG] Entered train_one_epoch function\n",
      "  [DEBUG] Set model to train mode\n",
      "  [DEBUG] Imported tqdm\n",
      "  Training epoch 31...\n",
      "  Loading first batch (this may take 10-30 seconds)...\n",
      "  [DEBUG] About to create iterator from train_loader...\n",
      "  [DEBUG] Calling iter(train_loader)...\n",
      "  [DEBUG] Iterator created successfully!\n",
      "  [DEBUG] Calling next(train_iter)...\n",
      "  ✓ First batch loaded! Shape: torch.Size([32, 3, 224, 224]), Labels: torch.Size([32])\n",
      "  Batch size actual: 32, Expected: 32\n"
     ]
    },
    {
     "data": {
      "application/vnd.jupyter.widget-view+json": {
       "model_id": "7f4de287b0ba4c37971364b3a0a738c9",
       "version_major": 2,
       "version_minor": 0
      },
      "text/plain": [
       "Epoch 31/120:   0%|                                                        | 0/3960 [00:00<?, ?it/s]"
      ]
     },
     "metadata": {},
     "output_type": "display_data"
    },
    {
     "name": "stdout",
     "output_type": "stream",
     "text": [
      "    Batch 100/3960: loss=2.9470, acc=0.3530\n",
      "    Batch 200/3960: loss=2.9118, acc=0.3638\n",
      "    Batch 300/3960: loss=2.9083, acc=0.3665\n",
      "    Batch 400/3960: loss=2.8824, acc=0.3720\n",
      "    Batch 500/3960: loss=2.8647, acc=0.3810\n",
      "    Batch 600/3960: loss=2.8578, acc=0.3886\n",
      "    Batch 700/3960: loss=2.8572, acc=0.3888\n",
      "    Batch 800/3960: loss=2.8506, acc=0.3886\n",
      "    Batch 900/3960: loss=2.8526, acc=0.3918\n",
      "    Batch 1000/3960: loss=2.8489, acc=0.3910\n",
      "    Batch 1100/3960: loss=2.8436, acc=0.3931\n",
      "    Batch 1200/3960: loss=2.8447, acc=0.3936\n",
      "    Batch 1300/3960: loss=2.8431, acc=0.3910\n",
      "    Batch 1400/3960: loss=2.8487, acc=0.3922\n",
      "    Batch 1500/3960: loss=2.8515, acc=0.3932\n",
      "    Batch 1600/3960: loss=2.8468, acc=0.3946\n",
      "    Batch 1700/3960: loss=2.8479, acc=0.3940\n",
      "    Batch 1800/3960: loss=2.8515, acc=0.3935\n",
      "    Batch 1900/3960: loss=2.8470, acc=0.3941\n",
      "    Batch 2000/3960: loss=2.8486, acc=0.3956\n",
      "    Batch 2100/3960: loss=2.8425, acc=0.3952\n",
      "    Batch 2200/3960: loss=2.8385, acc=0.3945\n",
      "    Batch 2300/3960: loss=2.8404, acc=0.3943\n",
      "    Batch 2400/3960: loss=2.8363, acc=0.3953\n",
      "    Batch 2500/3960: loss=2.8344, acc=0.3953\n",
      "    Batch 2600/3960: loss=2.8359, acc=0.3954\n",
      "    Batch 2700/3960: loss=2.8372, acc=0.3948\n",
      "    Batch 2800/3960: loss=2.8337, acc=0.3945\n",
      "    Batch 2900/3960: loss=2.8304, acc=0.3956\n",
      "    Batch 3000/3960: loss=2.8371, acc=0.3941\n",
      "    Batch 3100/3960: loss=2.8342, acc=0.3938\n",
      "    Batch 3200/3960: loss=2.8334, acc=0.3940\n",
      "    Batch 3300/3960: loss=2.8345, acc=0.3935\n",
      "    Batch 3400/3960: loss=2.8339, acc=0.3940\n",
      "    Batch 3500/3960: loss=2.8317, acc=0.3938\n",
      "    Batch 3600/3960: loss=2.8341, acc=0.3932\n",
      "    Batch 3700/3960: loss=2.8329, acc=0.3932\n",
      "    Batch 3800/3960: loss=2.8320, acc=0.3932\n",
      "    Batch 3900/3960: loss=2.8309, acc=0.3939\n",
      "Epoch 31 Train Loss: 2.8305 Acc: 0.3944 LR: 0.001758\n",
      ">>> Training epoch 31 completed <<<\n",
      "  Starting validation...\n"
     ]
    },
    {
     "data": {
      "application/vnd.jupyter.widget-view+json": {
       "model_id": "4086410670e74ce4b30b619d75cbe595",
       "version_major": 2,
       "version_minor": 0
      },
      "text/plain": [
       "Validation (raw):   0%|          | 0/157 [00:00<?, ?it/s]"
      ]
     },
     "metadata": {},
     "output_type": "display_data"
    },
    {
     "name": "stdout",
     "output_type": "stream",
     "text": [
      "Validation Acc (raw): 0.7282\n"
     ]
    },
    {
     "data": {
      "application/vnd.jupyter.widget-view+json": {
       "model_id": "e401e52fe4364f868b64c37a7f9b9fe1",
       "version_major": 2,
       "version_minor": 0
      },
      "text/plain": [
       "Validation (ema):   0%|          | 0/157 [00:00<?, ?it/s]"
      ]
     },
     "metadata": {},
     "output_type": "display_data"
    },
    {
     "name": "stdout",
     "output_type": "stream",
     "text": [
      "Validation Acc (ema): 0.5206\n",
      ">>> Validation completed <<<\n",
      "Epoch time: 40.78 mins\n",
      "\n",
      ">>> Starting Epoch 32/120 <<<\n",
      "  [DEBUG] Entered train_one_epoch function\n",
      "  [DEBUG] Set model to train mode\n",
      "  [DEBUG] Imported tqdm\n",
      "  Training epoch 32...\n",
      "  Loading first batch (this may take 10-30 seconds)...\n",
      "  [DEBUG] About to create iterator from train_loader...\n",
      "  [DEBUG] Calling iter(train_loader)...\n",
      "  [DEBUG] Iterator created successfully!\n",
      "  [DEBUG] Calling next(train_iter)...\n",
      "  ✓ First batch loaded! Shape: torch.Size([32, 3, 224, 224]), Labels: torch.Size([32])\n",
      "  Batch size actual: 32, Expected: 32\n"
     ]
    },
    {
     "data": {
      "application/vnd.jupyter.widget-view+json": {
       "model_id": "27629539b35e48d787fe43bcfe88f329",
       "version_major": 2,
       "version_minor": 0
      },
      "text/plain": [
       "Epoch 32/120:   0%|                                                        | 0/3960 [00:00<?, ?it/s]"
      ]
     },
     "metadata": {},
     "output_type": "display_data"
    },
    {
     "name": "stdout",
     "output_type": "stream",
     "text": [
      "    Batch 100/3960: loss=2.9061, acc=0.3889\n",
      "    Batch 200/3960: loss=2.8333, acc=0.3896\n",
      "    Batch 300/3960: loss=2.8344, acc=0.3985\n",
      "    Batch 400/3960: loss=2.8483, acc=0.3999\n",
      "    Batch 500/3960: loss=2.8156, acc=0.4071\n",
      "    Batch 600/3960: loss=2.8240, acc=0.3975\n",
      "    Batch 700/3960: loss=2.8113, acc=0.4029\n",
      "    Batch 800/3960: loss=2.8083, acc=0.4012\n",
      "    Batch 900/3960: loss=2.8243, acc=0.3973\n",
      "    Batch 1000/3960: loss=2.8330, acc=0.3954\n",
      "    Batch 1100/3960: loss=2.8349, acc=0.3962\n",
      "    Batch 1200/3960: loss=2.8441, acc=0.3938\n",
      "    Batch 1300/3960: loss=2.8392, acc=0.3952\n",
      "    Batch 1400/3960: loss=2.8413, acc=0.3937\n",
      "    Batch 1500/3960: loss=2.8325, acc=0.3944\n",
      "    Batch 1600/3960: loss=2.8281, acc=0.3937\n",
      "    Batch 1700/3960: loss=2.8232, acc=0.3933\n",
      "    Batch 1800/3960: loss=2.8155, acc=0.3942\n",
      "    Batch 1900/3960: loss=2.8173, acc=0.3940\n",
      "    Batch 2000/3960: loss=2.8242, acc=0.3937\n",
      "    Batch 2100/3960: loss=2.8299, acc=0.3921\n",
      "    Batch 2200/3960: loss=2.8316, acc=0.3922\n",
      "    Batch 2300/3960: loss=2.8348, acc=0.3896\n",
      "    Batch 2400/3960: loss=2.8403, acc=0.3898\n",
      "    Batch 2500/3960: loss=2.8394, acc=0.3900\n",
      "    Batch 2600/3960: loss=2.8354, acc=0.3909\n",
      "    Batch 2700/3960: loss=2.8355, acc=0.3919\n",
      "    Batch 2800/3960: loss=2.8348, acc=0.3928\n",
      "    Batch 2900/3960: loss=2.8345, acc=0.3926\n",
      "    Batch 3000/3960: loss=2.8316, acc=0.3937\n",
      "    Batch 3100/3960: loss=2.8329, acc=0.3947\n",
      "    Batch 3200/3960: loss=2.8325, acc=0.3951\n",
      "    Batch 3300/3960: loss=2.8328, acc=0.3946\n",
      "    Batch 3400/3960: loss=2.8367, acc=0.3939\n",
      "    Batch 3500/3960: loss=2.8334, acc=0.3950\n",
      "    Batch 3600/3960: loss=2.8323, acc=0.3959\n",
      "    Batch 3700/3960: loss=2.8286, acc=0.3974\n",
      "    Batch 3800/3960: loss=2.8258, acc=0.3976\n",
      "    Batch 3900/3960: loss=2.8266, acc=0.3973\n",
      "Epoch 32 Train Loss: 2.8254 Acc: 0.3980 LR: 0.001740\n",
      ">>> Training epoch 32 completed <<<\n",
      "  Starting validation...\n"
     ]
    },
    {
     "data": {
      "application/vnd.jupyter.widget-view+json": {
       "model_id": "56ecdeb1ec944031b444400fbcb23fbd",
       "version_major": 2,
       "version_minor": 0
      },
      "text/plain": [
       "Validation (raw):   0%|          | 0/157 [00:00<?, ?it/s]"
      ]
     },
     "metadata": {},
     "output_type": "display_data"
    },
    {
     "name": "stdout",
     "output_type": "stream",
     "text": [
      "Validation Acc (raw): 0.7408\n"
     ]
    },
    {
     "data": {
      "application/vnd.jupyter.widget-view+json": {
       "model_id": "89e30a79f1ac47a0b88e7f11a6ab105f",
       "version_major": 2,
       "version_minor": 0
      },
      "text/plain": [
       "Validation (ema):   0%|          | 0/157 [00:00<?, ?it/s]"
      ]
     },
     "metadata": {},
     "output_type": "display_data"
    },
    {
     "name": "stdout",
     "output_type": "stream",
     "text": [
      "Validation Acc (ema): 0.5234\n",
      ">>> Validation completed <<<\n",
      "Epoch time: 43.40 mins\n",
      "Saved checkpoint\n",
      "\n",
      ">>> Starting Epoch 33/120 <<<\n",
      "  [DEBUG] Entered train_one_epoch function\n",
      "  [DEBUG] Set model to train mode\n",
      "  [DEBUG] Imported tqdm\n",
      "  Training epoch 33...\n",
      "  Loading first batch (this may take 10-30 seconds)...\n",
      "  [DEBUG] About to create iterator from train_loader...\n",
      "  [DEBUG] Calling iter(train_loader)...\n",
      "  [DEBUG] Iterator created successfully!\n",
      "  [DEBUG] Calling next(train_iter)...\n",
      "  ✓ First batch loaded! Shape: torch.Size([32, 3, 224, 224]), Labels: torch.Size([32])\n",
      "  Batch size actual: 32, Expected: 32\n"
     ]
    },
    {
     "data": {
      "application/vnd.jupyter.widget-view+json": {
       "model_id": "46e12b22753142ee99923a5f82006548",
       "version_major": 2,
       "version_minor": 0
      },
      "text/plain": [
       "Epoch 33/120:   0%|                                                        | 0/3960 [00:00<?, ?it/s]"
      ]
     },
     "metadata": {},
     "output_type": "display_data"
    },
    {
     "name": "stdout",
     "output_type": "stream",
     "text": [
      "    Batch 100/3960: loss=2.8298, acc=0.4032\n",
      "    Batch 200/3960: loss=2.8407, acc=0.4047\n",
      "    Batch 300/3960: loss=2.8462, acc=0.4011\n",
      "    Batch 400/3960: loss=2.8355, acc=0.4108\n",
      "    Batch 500/3960: loss=2.8340, acc=0.4122\n",
      "    Batch 600/3960: loss=2.8399, acc=0.4122\n",
      "    Batch 700/3960: loss=2.8333, acc=0.4111\n",
      "    Batch 800/3960: loss=2.8287, acc=0.4136\n",
      "    Batch 900/3960: loss=2.8244, acc=0.4123\n",
      "    Batch 1000/3960: loss=2.8151, acc=0.4111\n",
      "    Batch 1100/3960: loss=2.8131, acc=0.4116\n",
      "    Batch 1200/3960: loss=2.8130, acc=0.4110\n",
      "    Batch 1300/3960: loss=2.8146, acc=0.4105\n",
      "    Batch 1400/3960: loss=2.8211, acc=0.4089\n",
      "    Batch 1500/3960: loss=2.8196, acc=0.4080\n",
      "    Batch 1600/3960: loss=2.8296, acc=0.4049\n",
      "    Batch 1700/3960: loss=2.8258, acc=0.4044\n",
      "    Batch 1800/3960: loss=2.8238, acc=0.4057\n",
      "    Batch 1900/3960: loss=2.8238, acc=0.4065\n",
      "    Batch 2000/3960: loss=2.8202, acc=0.4071\n",
      "    Batch 2100/3960: loss=2.8202, acc=0.4053\n",
      "    Batch 2200/3960: loss=2.8179, acc=0.4051\n",
      "    Batch 2300/3960: loss=2.8170, acc=0.4050\n",
      "    Batch 2400/3960: loss=2.8195, acc=0.4044\n",
      "    Batch 2500/3960: loss=2.8200, acc=0.4050\n",
      "    Batch 2600/3960: loss=2.8191, acc=0.4050\n",
      "    Batch 2700/3960: loss=2.8176, acc=0.4045\n",
      "    Batch 2800/3960: loss=2.8158, acc=0.4047\n",
      "    Batch 2900/3960: loss=2.8156, acc=0.4046\n",
      "    Batch 3000/3960: loss=2.8145, acc=0.4050\n",
      "    Batch 3100/3960: loss=2.8157, acc=0.4059\n",
      "    Batch 3200/3960: loss=2.8174, acc=0.4045\n",
      "    Batch 3300/3960: loss=2.8188, acc=0.4038\n",
      "    Batch 3400/3960: loss=2.8210, acc=0.4031\n",
      "    Batch 3500/3960: loss=2.8224, acc=0.4021\n",
      "    Batch 3600/3960: loss=2.8225, acc=0.4019\n",
      "    Batch 3700/3960: loss=2.8231, acc=0.4015\n",
      "    Batch 3800/3960: loss=2.8221, acc=0.4026\n",
      "    Batch 3900/3960: loss=2.8205, acc=0.4025\n",
      "Epoch 33 Train Loss: 2.8209 Acc: 0.4029 LR: 0.001721\n",
      ">>> Training epoch 33 completed <<<\n",
      "  Starting validation...\n"
     ]
    },
    {
     "data": {
      "application/vnd.jupyter.widget-view+json": {
       "model_id": "6a4a2507becd4e06a292dc4cf75d89c9",
       "version_major": 2,
       "version_minor": 0
      },
      "text/plain": [
       "Validation (raw):   0%|          | 0/157 [00:00<?, ?it/s]"
      ]
     },
     "metadata": {},
     "output_type": "display_data"
    },
    {
     "name": "stdout",
     "output_type": "stream",
     "text": [
      "Validation Acc (raw): 0.7342\n"
     ]
    },
    {
     "data": {
      "application/vnd.jupyter.widget-view+json": {
       "model_id": "9379473f9c494cc8915b0773c189b4b6",
       "version_major": 2,
       "version_minor": 0
      },
      "text/plain": [
       "Validation (ema):   0%|          | 0/157 [00:00<?, ?it/s]"
      ]
     },
     "metadata": {},
     "output_type": "display_data"
    },
    {
     "name": "stdout",
     "output_type": "stream",
     "text": [
      "Validation Acc (ema): 0.5256\n",
      ">>> Validation completed <<<\n",
      "Epoch time: 38.55 mins\n",
      "Saved checkpoint\n",
      "\n",
      ">>> Starting Epoch 34/120 <<<\n",
      "  [DEBUG] Entered train_one_epoch function\n",
      "  [DEBUG] Set model to train mode\n",
      "  [DEBUG] Imported tqdm\n",
      "  Training epoch 34...\n",
      "  Loading first batch (this may take 10-30 seconds)...\n",
      "  [DEBUG] About to create iterator from train_loader...\n",
      "  [DEBUG] Calling iter(train_loader)...\n",
      "  [DEBUG] Iterator created successfully!\n",
      "  [DEBUG] Calling next(train_iter)...\n",
      "  ✓ First batch loaded! Shape: torch.Size([32, 3, 224, 224]), Labels: torch.Size([32])\n",
      "  Batch size actual: 32, Expected: 32\n"
     ]
    },
    {
     "data": {
      "application/vnd.jupyter.widget-view+json": {
       "model_id": "45db5ef5e0a5420bb053c5b4c771032b",
       "version_major": 2,
       "version_minor": 0
      },
      "text/plain": [
       "Epoch 34/120:   0%|                                                        | 0/3960 [00:00<?, ?it/s]"
      ]
     },
     "metadata": {},
     "output_type": "display_data"
    },
    {
     "name": "stdout",
     "output_type": "stream",
     "text": [
      "    Batch 100/3960: loss=2.8764, acc=0.3834\n",
      "    Batch 200/3960: loss=2.8501, acc=0.3966\n",
      "    Batch 300/3960: loss=2.8409, acc=0.3988\n",
      "    Batch 400/3960: loss=2.8205, acc=0.4006\n",
      "    Batch 500/3960: loss=2.8056, acc=0.4038\n",
      "    Batch 600/3960: loss=2.8223, acc=0.3979\n",
      "    Batch 700/3960: loss=2.8309, acc=0.3924\n",
      "    Batch 800/3960: loss=2.8195, acc=0.3948\n",
      "    Batch 900/3960: loss=2.8150, acc=0.3948\n",
      "    Batch 1000/3960: loss=2.8177, acc=0.3958\n",
      "    Batch 1100/3960: loss=2.8132, acc=0.3948\n",
      "    Batch 1200/3960: loss=2.8108, acc=0.3992\n",
      "    Batch 1300/3960: loss=2.8065, acc=0.3999\n",
      "    Batch 1400/3960: loss=2.8053, acc=0.4009\n",
      "    Batch 1500/3960: loss=2.8071, acc=0.4023\n",
      "    Batch 1600/3960: loss=2.8066, acc=0.4021\n",
      "    Batch 1700/3960: loss=2.8007, acc=0.4035\n",
      "    Batch 1800/3960: loss=2.7944, acc=0.4045\n",
      "    Batch 1900/3960: loss=2.7937, acc=0.4041\n",
      "    Batch 2000/3960: loss=2.7915, acc=0.4035\n",
      "    Batch 2100/3960: loss=2.7915, acc=0.4026\n",
      "    Batch 2200/3960: loss=2.7896, acc=0.4018\n",
      "    Batch 2300/3960: loss=2.7921, acc=0.4021\n",
      "    Batch 2400/3960: loss=2.7949, acc=0.4014\n",
      "    Batch 2500/3960: loss=2.7966, acc=0.4018\n",
      "    Batch 2600/3960: loss=2.7996, acc=0.4013\n",
      "    Batch 2700/3960: loss=2.8017, acc=0.4003\n",
      "    Batch 2800/3960: loss=2.8065, acc=0.4003\n",
      "    Batch 2900/3960: loss=2.8056, acc=0.4000\n",
      "    Batch 3000/3960: loss=2.8061, acc=0.4001\n",
      "    Batch 3100/3960: loss=2.8042, acc=0.4006\n",
      "    Batch 3200/3960: loss=2.8020, acc=0.4012\n",
      "    Batch 3300/3960: loss=2.8046, acc=0.4003\n",
      "    Batch 3400/3960: loss=2.8023, acc=0.4010\n",
      "    Batch 3500/3960: loss=2.8019, acc=0.4001\n",
      "    Batch 3600/3960: loss=2.8011, acc=0.4007\n",
      "    Batch 3700/3960: loss=2.8035, acc=0.4007\n",
      "    Batch 3800/3960: loss=2.8027, acc=0.4010\n",
      "    Batch 3900/3960: loss=2.8020, acc=0.4021\n",
      "Epoch 34 Train Loss: 2.8015 Acc: 0.4017 LR: 0.001702\n",
      ">>> Training epoch 34 completed <<<\n",
      "  Starting validation...\n"
     ]
    },
    {
     "data": {
      "application/vnd.jupyter.widget-view+json": {
       "model_id": "d54ce3ccd782469f982b8638008791d2",
       "version_major": 2,
       "version_minor": 0
      },
      "text/plain": [
       "Validation (raw):   0%|          | 0/157 [00:00<?, ?it/s]"
      ]
     },
     "metadata": {},
     "output_type": "display_data"
    },
    {
     "name": "stdout",
     "output_type": "stream",
     "text": [
      "Validation Acc (raw): 0.7320\n"
     ]
    },
    {
     "data": {
      "application/vnd.jupyter.widget-view+json": {
       "model_id": "a5df7f6a374d461793d2903e51d2a8d7",
       "version_major": 2,
       "version_minor": 0
      },
      "text/plain": [
       "Validation (ema):   0%|          | 0/157 [00:00<?, ?it/s]"
      ]
     },
     "metadata": {},
     "output_type": "display_data"
    },
    {
     "name": "stdout",
     "output_type": "stream",
     "text": [
      "Validation Acc (ema): 0.5246\n",
      ">>> Validation completed <<<\n",
      "Epoch time: 38.74 mins\n",
      "\n",
      ">>> Starting Epoch 35/120 <<<\n",
      "  [DEBUG] Entered train_one_epoch function\n",
      "  [DEBUG] Set model to train mode\n",
      "  [DEBUG] Imported tqdm\n",
      "  Training epoch 35...\n",
      "  Loading first batch (this may take 10-30 seconds)...\n",
      "  [DEBUG] About to create iterator from train_loader...\n",
      "  [DEBUG] Calling iter(train_loader)...\n",
      "  [DEBUG] Iterator created successfully!\n",
      "  [DEBUG] Calling next(train_iter)...\n",
      "  ✓ First batch loaded! Shape: torch.Size([32, 3, 224, 224]), Labels: torch.Size([32])\n",
      "  Batch size actual: 32, Expected: 32\n"
     ]
    },
    {
     "data": {
      "application/vnd.jupyter.widget-view+json": {
       "model_id": "d07c6cba03344490909ab027763e4824",
       "version_major": 2,
       "version_minor": 0
      },
      "text/plain": [
       "Epoch 35/120:   0%|                                                        | 0/3960 [00:00<?, ?it/s]"
      ]
     },
     "metadata": {},
     "output_type": "display_data"
    },
    {
     "name": "stdout",
     "output_type": "stream",
     "text": [
      "    Batch 100/3960: loss=2.7813, acc=0.3537\n",
      "    Batch 200/3960: loss=2.8118, acc=0.3618\n",
      "    Batch 300/3960: loss=2.7940, acc=0.3794\n",
      "    Batch 400/3960: loss=2.8026, acc=0.3758\n",
      "    Batch 500/3960: loss=2.8103, acc=0.3805\n",
      "    Batch 600/3960: loss=2.7898, acc=0.3899\n",
      "    Batch 700/3960: loss=2.8026, acc=0.3908\n",
      "    Batch 800/3960: loss=2.7981, acc=0.3892\n",
      "    Batch 900/3960: loss=2.8130, acc=0.3867\n",
      "    Batch 1000/3960: loss=2.8087, acc=0.3906\n",
      "    Batch 1100/3960: loss=2.8099, acc=0.3912\n",
      "    Batch 1200/3960: loss=2.8043, acc=0.3941\n",
      "    Batch 1300/3960: loss=2.8006, acc=0.3972\n",
      "    Batch 1400/3960: loss=2.7962, acc=0.4015\n",
      "    Batch 1500/3960: loss=2.7952, acc=0.3998\n",
      "    Batch 1600/3960: loss=2.8016, acc=0.3995\n",
      "    Batch 1700/3960: loss=2.8001, acc=0.4006\n",
      "    Batch 1800/3960: loss=2.7999, acc=0.3993\n",
      "    Batch 1900/3960: loss=2.7956, acc=0.4013\n",
      "    Batch 2000/3960: loss=2.7982, acc=0.4000\n",
      "    Batch 2100/3960: loss=2.7922, acc=0.4017\n",
      "    Batch 2200/3960: loss=2.7955, acc=0.4017\n",
      "    Batch 2300/3960: loss=2.7952, acc=0.4020\n",
      "    Batch 2400/3960: loss=2.7957, acc=0.4041\n",
      "    Batch 2500/3960: loss=2.7950, acc=0.4054\n",
      "    Batch 2600/3960: loss=2.7930, acc=0.4059\n",
      "    Batch 2700/3960: loss=2.7930, acc=0.4059\n",
      "    Batch 2800/3960: loss=2.7945, acc=0.4054\n",
      "    Batch 2900/3960: loss=2.7925, acc=0.4048\n",
      "    Batch 3000/3960: loss=2.7921, acc=0.4049\n",
      "    Batch 3100/3960: loss=2.7925, acc=0.4057\n",
      "    Batch 3200/3960: loss=2.7914, acc=0.4063\n",
      "    Batch 3300/3960: loss=2.7910, acc=0.4067\n",
      "    Batch 3400/3960: loss=2.7901, acc=0.4069\n",
      "    Batch 3500/3960: loss=2.7918, acc=0.4065\n",
      "    Batch 3600/3960: loss=2.7935, acc=0.4062\n",
      "    Batch 3700/3960: loss=2.7954, acc=0.4054\n",
      "    Batch 3800/3960: loss=2.7959, acc=0.4055\n",
      "    Batch 3900/3960: loss=2.7950, acc=0.4055\n",
      "Epoch 35 Train Loss: 2.7977 Acc: 0.4045 LR: 0.001683\n",
      ">>> Training epoch 35 completed <<<\n",
      "  Starting validation...\n"
     ]
    },
    {
     "data": {
      "application/vnd.jupyter.widget-view+json": {
       "model_id": "8484efa0b13a48febf7714f7e0fa5465",
       "version_major": 2,
       "version_minor": 0
      },
      "text/plain": [
       "Validation (raw):   0%|          | 0/157 [00:00<?, ?it/s]"
      ]
     },
     "metadata": {},
     "output_type": "display_data"
    },
    {
     "name": "stdout",
     "output_type": "stream",
     "text": [
      "Validation Acc (raw): 0.7400\n"
     ]
    },
    {
     "data": {
      "application/vnd.jupyter.widget-view+json": {
       "model_id": "cc6efe8924614780a1b899ef7fb8745f",
       "version_major": 2,
       "version_minor": 0
      },
      "text/plain": [
       "Validation (ema):   0%|          | 0/157 [00:00<?, ?it/s]"
      ]
     },
     "metadata": {},
     "output_type": "display_data"
    },
    {
     "name": "stdout",
     "output_type": "stream",
     "text": [
      "Validation Acc (ema): 0.5282\n",
      ">>> Validation completed <<<\n",
      "Epoch time: 47.27 mins\n",
      "Saved checkpoint\n",
      "\n",
      ">>> Starting Epoch 36/120 <<<\n",
      "  [DEBUG] Entered train_one_epoch function\n",
      "  [DEBUG] Set model to train mode\n",
      "  [DEBUG] Imported tqdm\n",
      "  Training epoch 36...\n",
      "  Loading first batch (this may take 10-30 seconds)...\n",
      "  [DEBUG] About to create iterator from train_loader...\n",
      "  [DEBUG] Calling iter(train_loader)...\n",
      "  [DEBUG] Iterator created successfully!\n",
      "  [DEBUG] Calling next(train_iter)...\n",
      "  ✓ First batch loaded! Shape: torch.Size([32, 3, 224, 224]), Labels: torch.Size([32])\n",
      "  Batch size actual: 32, Expected: 32\n"
     ]
    },
    {
     "data": {
      "application/vnd.jupyter.widget-view+json": {
       "model_id": "97def4156a0e420db863776f32207b03",
       "version_major": 2,
       "version_minor": 0
      },
      "text/plain": [
       "Epoch 36/120:   0%|                                                        | 0/3960 [00:00<?, ?it/s]"
      ]
     },
     "metadata": {},
     "output_type": "display_data"
    },
    {
     "name": "stdout",
     "output_type": "stream",
     "text": [
      "    Batch 100/3960: loss=2.7281, acc=0.4353\n",
      "    Batch 200/3960: loss=2.7220, acc=0.4213\n",
      "    Batch 300/3960: loss=2.7548, acc=0.4136\n",
      "    Batch 400/3960: loss=2.7707, acc=0.4129\n",
      "    Batch 500/3960: loss=2.7877, acc=0.4002\n",
      "    Batch 600/3960: loss=2.7809, acc=0.4080\n",
      "    Batch 700/3960: loss=2.7809, acc=0.4097\n",
      "    Batch 800/3960: loss=2.7947, acc=0.4065\n",
      "    Batch 900/3960: loss=2.7851, acc=0.4115\n",
      "    Batch 1000/3960: loss=2.7874, acc=0.4092\n",
      "    Batch 1100/3960: loss=2.7924, acc=0.4061\n",
      "    Batch 1200/3960: loss=2.7926, acc=0.4056\n",
      "    Batch 1300/3960: loss=2.7969, acc=0.4048\n",
      "    Batch 1400/3960: loss=2.7987, acc=0.4036\n",
      "    Batch 1500/3960: loss=2.7908, acc=0.4069\n",
      "    Batch 1600/3960: loss=2.7910, acc=0.4061\n",
      "    Batch 1700/3960: loss=2.7870, acc=0.4065\n",
      "    Batch 1800/3960: loss=2.7894, acc=0.4062\n",
      "    Batch 1900/3960: loss=2.7941, acc=0.4047\n",
      "    Batch 2000/3960: loss=2.7923, acc=0.4053\n",
      "    Batch 2100/3960: loss=2.7938, acc=0.4035\n",
      "    Batch 2200/3960: loss=2.7958, acc=0.4052\n",
      "    Batch 2300/3960: loss=2.7950, acc=0.4061\n",
      "    Batch 2400/3960: loss=2.7908, acc=0.4056\n",
      "    Batch 2500/3960: loss=2.7921, acc=0.4047\n",
      "    Batch 2600/3960: loss=2.7910, acc=0.4052\n",
      "    Batch 2700/3960: loss=2.7862, acc=0.4062\n",
      "    Batch 2800/3960: loss=2.7855, acc=0.4053\n",
      "    Batch 2900/3960: loss=2.7843, acc=0.4045\n",
      "    Batch 3000/3960: loss=2.7860, acc=0.4042\n",
      "    Batch 3100/3960: loss=2.7882, acc=0.4025\n",
      "    Batch 3200/3960: loss=2.7883, acc=0.4022\n",
      "    Batch 3300/3960: loss=2.7871, acc=0.4032\n",
      "    Batch 3400/3960: loss=2.7865, acc=0.4025\n",
      "    Batch 3500/3960: loss=2.7859, acc=0.4039\n",
      "    Batch 3600/3960: loss=2.7859, acc=0.4032\n",
      "    Batch 3700/3960: loss=2.7873, acc=0.4022\n",
      "    Batch 3800/3960: loss=2.7851, acc=0.4027\n",
      "    Batch 3900/3960: loss=2.7845, acc=0.4027\n",
      "Epoch 36 Train Loss: 2.7861 Acc: 0.4019 LR: 0.001662\n",
      ">>> Training epoch 36 completed <<<\n",
      "  Starting validation...\n"
     ]
    },
    {
     "data": {
      "application/vnd.jupyter.widget-view+json": {
       "model_id": "a45a57f335bb48d8837baed9f7173a6a",
       "version_major": 2,
       "version_minor": 0
      },
      "text/plain": [
       "Validation (raw):   0%|          | 0/157 [00:00<?, ?it/s]"
      ]
     },
     "metadata": {},
     "output_type": "display_data"
    },
    {
     "name": "stdout",
     "output_type": "stream",
     "text": [
      "Validation Acc (raw): 0.7328\n"
     ]
    },
    {
     "data": {
      "application/vnd.jupyter.widget-view+json": {
       "model_id": "3e031587a98140a586bcd800aeab77f0",
       "version_major": 2,
       "version_minor": 0
      },
      "text/plain": [
       "Validation (ema):   0%|          | 0/157 [00:00<?, ?it/s]"
      ]
     },
     "metadata": {},
     "output_type": "display_data"
    },
    {
     "name": "stdout",
     "output_type": "stream",
     "text": [
      "Validation Acc (ema): 0.5282\n",
      ">>> Validation completed <<<\n",
      "Epoch time: 35.66 mins\n",
      "\n",
      ">>> Starting Epoch 37/120 <<<\n",
      "  [DEBUG] Entered train_one_epoch function\n",
      "  [DEBUG] Set model to train mode\n",
      "  [DEBUG] Imported tqdm\n",
      "  Training epoch 37...\n",
      "  Loading first batch (this may take 10-30 seconds)...\n",
      "  [DEBUG] About to create iterator from train_loader...\n",
      "  [DEBUG] Calling iter(train_loader)...\n",
      "  [DEBUG] Iterator created successfully!\n",
      "  [DEBUG] Calling next(train_iter)...\n",
      "  ✓ First batch loaded! Shape: torch.Size([32, 3, 224, 224]), Labels: torch.Size([32])\n",
      "  Batch size actual: 32, Expected: 32\n"
     ]
    },
    {
     "data": {
      "application/vnd.jupyter.widget-view+json": {
       "model_id": "165dd1e1075c40309a1d18b1f1400c12",
       "version_major": 2,
       "version_minor": 0
      },
      "text/plain": [
       "Epoch 37/120:   0%|                                                        | 0/3960 [00:00<?, ?it/s]"
      ]
     },
     "metadata": {},
     "output_type": "display_data"
    },
    {
     "name": "stdout",
     "output_type": "stream",
     "text": [
      "    Batch 100/3960: loss=2.7633, acc=0.3994\n",
      "    Batch 200/3960: loss=2.7651, acc=0.4036\n",
      "    Batch 300/3960: loss=2.7910, acc=0.3978\n",
      "    Batch 400/3960: loss=2.7852, acc=0.4051\n",
      "    Batch 500/3960: loss=2.7739, acc=0.4065\n",
      "    Batch 600/3960: loss=2.7821, acc=0.4053\n",
      "    Batch 700/3960: loss=2.7857, acc=0.4040\n",
      "    Batch 800/3960: loss=2.7746, acc=0.4086\n",
      "    Batch 900/3960: loss=2.7684, acc=0.4110\n",
      "    Batch 1000/3960: loss=2.7753, acc=0.4138\n",
      "    Batch 1100/3960: loss=2.7776, acc=0.4116\n",
      "    Batch 1200/3960: loss=2.7648, acc=0.4134\n",
      "    Batch 1300/3960: loss=2.7585, acc=0.4134\n",
      "    Batch 1400/3960: loss=2.7507, acc=0.4144\n",
      "    Batch 1500/3960: loss=2.7481, acc=0.4161\n",
      "    Batch 1600/3960: loss=2.7461, acc=0.4181\n",
      "    Batch 1700/3960: loss=2.7460, acc=0.4187\n",
      "    Batch 1800/3960: loss=2.7479, acc=0.4184\n",
      "    Batch 1900/3960: loss=2.7481, acc=0.4179\n",
      "    Batch 2000/3960: loss=2.7472, acc=0.4158\n",
      "    Batch 2100/3960: loss=2.7508, acc=0.4142\n",
      "    Batch 2200/3960: loss=2.7512, acc=0.4145\n",
      "    Batch 2300/3960: loss=2.7520, acc=0.4154\n",
      "    Batch 2400/3960: loss=2.7544, acc=0.4160\n",
      "    Batch 2500/3960: loss=2.7511, acc=0.4162\n",
      "    Batch 2600/3960: loss=2.7534, acc=0.4157\n",
      "    Batch 2700/3960: loss=2.7513, acc=0.4149\n",
      "    Batch 2800/3960: loss=2.7502, acc=0.4150\n",
      "    Batch 2900/3960: loss=2.7475, acc=0.4162\n",
      "    Batch 3000/3960: loss=2.7485, acc=0.4152\n",
      "    Batch 3100/3960: loss=2.7492, acc=0.4150\n",
      "    Batch 3200/3960: loss=2.7530, acc=0.4141\n",
      "    Batch 3300/3960: loss=2.7525, acc=0.4132\n",
      "    Batch 3400/3960: loss=2.7532, acc=0.4126\n",
      "    Batch 3500/3960: loss=2.7537, acc=0.4122\n",
      "    Batch 3600/3960: loss=2.7546, acc=0.4120\n",
      "    Batch 3700/3960: loss=2.7543, acc=0.4118\n",
      "    Batch 3800/3960: loss=2.7513, acc=0.4115\n",
      "    Batch 3900/3960: loss=2.7493, acc=0.4124\n",
      "Epoch 37 Train Loss: 2.7500 Acc: 0.4120 LR: 0.001642\n",
      ">>> Training epoch 37 completed <<<\n",
      "  Starting validation...\n"
     ]
    },
    {
     "data": {
      "application/vnd.jupyter.widget-view+json": {
       "model_id": "2257834524d44955ac3472873a492876",
       "version_major": 2,
       "version_minor": 0
      },
      "text/plain": [
       "Validation (raw):   0%|          | 0/157 [00:00<?, ?it/s]"
      ]
     },
     "metadata": {},
     "output_type": "display_data"
    },
    {
     "name": "stdout",
     "output_type": "stream",
     "text": [
      "Validation Acc (raw): 0.7386\n"
     ]
    },
    {
     "data": {
      "application/vnd.jupyter.widget-view+json": {
       "model_id": "c62cba53f1d4412d8521e89e203806b6",
       "version_major": 2,
       "version_minor": 0
      },
      "text/plain": [
       "Validation (ema):   0%|          | 0/157 [00:00<?, ?it/s]"
      ]
     },
     "metadata": {},
     "output_type": "display_data"
    },
    {
     "name": "stdout",
     "output_type": "stream",
     "text": [
      "Validation Acc (ema): 0.5284\n",
      ">>> Validation completed <<<\n",
      "Epoch time: 26.50 mins\n",
      "Saved checkpoint\n",
      "\n",
      ">>> Starting Epoch 38/120 <<<\n",
      "  [DEBUG] Entered train_one_epoch function\n",
      "  [DEBUG] Set model to train mode\n",
      "  [DEBUG] Imported tqdm\n",
      "  Training epoch 38...\n",
      "  Loading first batch (this may take 10-30 seconds)...\n",
      "  [DEBUG] About to create iterator from train_loader...\n",
      "  [DEBUG] Calling iter(train_loader)...\n",
      "  [DEBUG] Iterator created successfully!\n",
      "  [DEBUG] Calling next(train_iter)...\n",
      "  ✓ First batch loaded! Shape: torch.Size([32, 3, 224, 224]), Labels: torch.Size([32])\n",
      "  Batch size actual: 32, Expected: 32\n"
     ]
    },
    {
     "data": {
      "application/vnd.jupyter.widget-view+json": {
       "model_id": "7be5fedcde344c2d8e0c1cb99109da8f",
       "version_major": 2,
       "version_minor": 0
      },
      "text/plain": [
       "Epoch 38/120:   0%|                                                        | 0/3960 [00:00<?, ?it/s]"
      ]
     },
     "metadata": {},
     "output_type": "display_data"
    },
    {
     "name": "stdout",
     "output_type": "stream",
     "text": [
      "    Batch 100/3960: loss=2.6819, acc=0.4251\n",
      "    Batch 200/3960: loss=2.7401, acc=0.4014\n",
      "    Batch 300/3960: loss=2.7506, acc=0.4018\n",
      "    Batch 400/3960: loss=2.7638, acc=0.4021\n",
      "    Batch 500/3960: loss=2.7659, acc=0.4074\n",
      "    Batch 600/3960: loss=2.7834, acc=0.4042\n",
      "    Batch 700/3960: loss=2.7764, acc=0.3988\n",
      "    Batch 800/3960: loss=2.7688, acc=0.4060\n",
      "    Batch 900/3960: loss=2.7659, acc=0.4062\n",
      "    Batch 1000/3960: loss=2.7735, acc=0.4049\n",
      "    Batch 1100/3960: loss=2.7656, acc=0.4049\n",
      "    Batch 1200/3960: loss=2.7715, acc=0.4058\n",
      "    Batch 1300/3960: loss=2.7769, acc=0.4058\n",
      "    Batch 1400/3960: loss=2.7739, acc=0.4058\n",
      "    Batch 1500/3960: loss=2.7729, acc=0.4045\n",
      "    Batch 1600/3960: loss=2.7767, acc=0.4047\n",
      "    Batch 1700/3960: loss=2.7713, acc=0.4066\n",
      "    Batch 1800/3960: loss=2.7692, acc=0.4063\n",
      "    Batch 1900/3960: loss=2.7702, acc=0.4055\n",
      "    Batch 2000/3960: loss=2.7689, acc=0.4071\n",
      "    Batch 2100/3960: loss=2.7640, acc=0.4074\n",
      "    Batch 2200/3960: loss=2.7626, acc=0.4070\n",
      "    Batch 2300/3960: loss=2.7601, acc=0.4080\n",
      "    Batch 2400/3960: loss=2.7562, acc=0.4083\n",
      "    Batch 2500/3960: loss=2.7587, acc=0.4075\n",
      "    Batch 2600/3960: loss=2.7612, acc=0.4082\n",
      "    Batch 2700/3960: loss=2.7615, acc=0.4076\n",
      "    Batch 2800/3960: loss=2.7609, acc=0.4084\n",
      "    Batch 2900/3960: loss=2.7611, acc=0.4086\n",
      "    Batch 3000/3960: loss=2.7635, acc=0.4084\n",
      "    Batch 3100/3960: loss=2.7607, acc=0.4081\n",
      "    Batch 3200/3960: loss=2.7606, acc=0.4087\n",
      "    Batch 3300/3960: loss=2.7589, acc=0.4093\n",
      "    Batch 3400/3960: loss=2.7595, acc=0.4096\n",
      "    Batch 3500/3960: loss=2.7598, acc=0.4087\n",
      "    Batch 3600/3960: loss=2.7572, acc=0.4094\n",
      "    Batch 3700/3960: loss=2.7562, acc=0.4102\n",
      "    Batch 3800/3960: loss=2.7600, acc=0.4102\n",
      "    Batch 3900/3960: loss=2.7606, acc=0.4099\n",
      "Epoch 38 Train Loss: 2.7598 Acc: 0.4102 LR: 0.001620\n",
      ">>> Training epoch 38 completed <<<\n",
      "  Starting validation...\n"
     ]
    },
    {
     "data": {
      "application/vnd.jupyter.widget-view+json": {
       "model_id": "25bd7a3090354fa5bf7275f24a4d5803",
       "version_major": 2,
       "version_minor": 0
      },
      "text/plain": [
       "Validation (raw):   0%|          | 0/157 [00:00<?, ?it/s]"
      ]
     },
     "metadata": {},
     "output_type": "display_data"
    },
    {
     "name": "stdout",
     "output_type": "stream",
     "text": [
      "Validation Acc (raw): 0.7568\n"
     ]
    },
    {
     "data": {
      "application/vnd.jupyter.widget-view+json": {
       "model_id": "e57d22961ee845a5bee76277eeb77f1a",
       "version_major": 2,
       "version_minor": 0
      },
      "text/plain": [
       "Validation (ema):   0%|          | 0/157 [00:00<?, ?it/s]"
      ]
     },
     "metadata": {},
     "output_type": "display_data"
    },
    {
     "name": "stdout",
     "output_type": "stream",
     "text": [
      "Validation Acc (ema): 0.5302\n",
      ">>> Validation completed <<<\n",
      "Epoch time: 38.43 mins\n",
      "Saved checkpoint\n",
      "\n",
      ">>> Starting Epoch 39/120 <<<\n",
      "  [DEBUG] Entered train_one_epoch function\n",
      "  [DEBUG] Set model to train mode\n",
      "  [DEBUG] Imported tqdm\n",
      "  Training epoch 39...\n",
      "  Loading first batch (this may take 10-30 seconds)...\n",
      "  [DEBUG] About to create iterator from train_loader...\n",
      "  [DEBUG] Calling iter(train_loader)...\n",
      "  [DEBUG] Iterator created successfully!\n",
      "  [DEBUG] Calling next(train_iter)...\n",
      "  ✓ First batch loaded! Shape: torch.Size([32, 3, 224, 224]), Labels: torch.Size([32])\n",
      "  Batch size actual: 32, Expected: 32\n"
     ]
    },
    {
     "data": {
      "application/vnd.jupyter.widget-view+json": {
       "model_id": "88ff908283374d1da1340d5119644fbc",
       "version_major": 2,
       "version_minor": 0
      },
      "text/plain": [
       "Epoch 39/120:   0%|                                                        | 0/3960 [00:00<?, ?it/s]"
      ]
     },
     "metadata": {},
     "output_type": "display_data"
    },
    {
     "name": "stdout",
     "output_type": "stream",
     "text": [
      "    Batch 100/3960: loss=2.6953, acc=0.3756\n",
      "    Batch 200/3960: loss=2.7021, acc=0.4072\n",
      "    Batch 300/3960: loss=2.7144, acc=0.4128\n",
      "    Batch 400/3960: loss=2.7157, acc=0.4052\n",
      "    Batch 500/3960: loss=2.7506, acc=0.4062\n",
      "    Batch 600/3960: loss=2.7365, acc=0.4047\n",
      "    Batch 700/3960: loss=2.7386, acc=0.4108\n",
      "    Batch 800/3960: loss=2.7338, acc=0.4131\n",
      "    Batch 900/3960: loss=2.7423, acc=0.4094\n",
      "    Batch 1000/3960: loss=2.7442, acc=0.4065\n",
      "    Batch 1100/3960: loss=2.7435, acc=0.4068\n",
      "    Batch 1200/3960: loss=2.7478, acc=0.4062\n",
      "    Batch 1300/3960: loss=2.7497, acc=0.4055\n",
      "    Batch 1400/3960: loss=2.7523, acc=0.4071\n",
      "    Batch 1500/3960: loss=2.7603, acc=0.4067\n",
      "    Batch 1600/3960: loss=2.7645, acc=0.4049\n",
      "    Batch 1700/3960: loss=2.7644, acc=0.4039\n",
      "    Batch 1800/3960: loss=2.7618, acc=0.4039\n",
      "    Batch 1900/3960: loss=2.7613, acc=0.4057\n",
      "    Batch 2000/3960: loss=2.7673, acc=0.4050\n",
      "    Batch 2100/3960: loss=2.7649, acc=0.4053\n",
      "    Batch 2200/3960: loss=2.7620, acc=0.4057\n",
      "    Batch 2300/3960: loss=2.7603, acc=0.4064\n",
      "    Batch 2400/3960: loss=2.7611, acc=0.4060\n",
      "    Batch 2500/3960: loss=2.7633, acc=0.4077\n",
      "    Batch 2600/3960: loss=2.7652, acc=0.4069\n",
      "    Batch 2700/3960: loss=2.7650, acc=0.4088\n",
      "    Batch 2800/3960: loss=2.7651, acc=0.4099\n",
      "    Batch 2900/3960: loss=2.7629, acc=0.4112\n",
      "    Batch 3000/3960: loss=2.7644, acc=0.4107\n",
      "    Batch 3100/3960: loss=2.7643, acc=0.4109\n",
      "    Batch 3200/3960: loss=2.7667, acc=0.4110\n",
      "    Batch 3300/3960: loss=2.7645, acc=0.4119\n",
      "    Batch 3400/3960: loss=2.7663, acc=0.4105\n",
      "    Batch 3500/3960: loss=2.7655, acc=0.4104\n",
      "    Batch 3600/3960: loss=2.7624, acc=0.4119\n",
      "    Batch 3700/3960: loss=2.7608, acc=0.4111\n",
      "    Batch 3800/3960: loss=2.7597, acc=0.4115\n",
      "    Batch 3900/3960: loss=2.7572, acc=0.4117\n",
      "Epoch 39 Train Loss: 2.7549 Acc: 0.4122 LR: 0.001599\n",
      ">>> Training epoch 39 completed <<<\n",
      "  Starting validation...\n"
     ]
    },
    {
     "data": {
      "application/vnd.jupyter.widget-view+json": {
       "model_id": "8dc8eab75df042c8b1c76f4e62e83378",
       "version_major": 2,
       "version_minor": 0
      },
      "text/plain": [
       "Validation (raw):   0%|          | 0/157 [00:00<?, ?it/s]"
      ]
     },
     "metadata": {},
     "output_type": "display_data"
    },
    {
     "name": "stdout",
     "output_type": "stream",
     "text": [
      "Validation Acc (raw): 0.7510\n"
     ]
    },
    {
     "data": {
      "application/vnd.jupyter.widget-view+json": {
       "model_id": "5de9a0be15414934a04d48282841f717",
       "version_major": 2,
       "version_minor": 0
      },
      "text/plain": [
       "Validation (ema):   0%|          | 0/157 [00:00<?, ?it/s]"
      ]
     },
     "metadata": {},
     "output_type": "display_data"
    },
    {
     "name": "stdout",
     "output_type": "stream",
     "text": [
      "Validation Acc (ema): 0.5302\n",
      ">>> Validation completed <<<\n",
      "Epoch time: 40.09 mins\n",
      "\n",
      ">>> Starting Epoch 40/120 <<<\n",
      "  [DEBUG] Entered train_one_epoch function\n",
      "  [DEBUG] Set model to train mode\n",
      "  [DEBUG] Imported tqdm\n",
      "  Training epoch 40...\n",
      "  Loading first batch (this may take 10-30 seconds)...\n",
      "  [DEBUG] About to create iterator from train_loader...\n",
      "  [DEBUG] Calling iter(train_loader)...\n",
      "  [DEBUG] Iterator created successfully!\n",
      "  [DEBUG] Calling next(train_iter)...\n",
      "  ✓ First batch loaded! Shape: torch.Size([32, 3, 224, 224]), Labels: torch.Size([32])\n",
      "  Batch size actual: 32, Expected: 32\n"
     ]
    },
    {
     "data": {
      "application/vnd.jupyter.widget-view+json": {
       "model_id": "3e3bc616fd1e4ef38d31343ee1534d51",
       "version_major": 2,
       "version_minor": 0
      },
      "text/plain": [
       "Epoch 40/120:   0%|                                                        | 0/3960 [00:00<?, ?it/s]"
      ]
     },
     "metadata": {},
     "output_type": "display_data"
    },
    {
     "name": "stdout",
     "output_type": "stream",
     "text": [
      "    Batch 100/3960: loss=2.7423, acc=0.4270\n",
      "    Batch 200/3960: loss=2.7645, acc=0.4188\n",
      "    Batch 300/3960: loss=2.7697, acc=0.4279\n",
      "    Batch 400/3960: loss=2.7601, acc=0.4244\n",
      "    Batch 500/3960: loss=2.7568, acc=0.4260\n",
      "    Batch 600/3960: loss=2.7481, acc=0.4277\n",
      "    Batch 700/3960: loss=2.7603, acc=0.4241\n",
      "    Batch 800/3960: loss=2.7529, acc=0.4235\n",
      "    Batch 900/3960: loss=2.7650, acc=0.4211\n",
      "    Batch 1000/3960: loss=2.7682, acc=0.4188\n",
      "    Batch 1100/3960: loss=2.7605, acc=0.4199\n",
      "    Batch 1200/3960: loss=2.7675, acc=0.4187\n",
      "    Batch 1300/3960: loss=2.7587, acc=0.4208\n",
      "    Batch 1400/3960: loss=2.7590, acc=0.4199\n",
      "    Batch 1500/3960: loss=2.7562, acc=0.4190\n",
      "    Batch 1600/3960: loss=2.7591, acc=0.4181\n",
      "    Batch 1700/3960: loss=2.7562, acc=0.4193\n",
      "    Batch 1800/3960: loss=2.7524, acc=0.4210\n",
      "    Batch 1900/3960: loss=2.7526, acc=0.4186\n",
      "    Batch 2000/3960: loss=2.7542, acc=0.4183\n",
      "    Batch 2100/3960: loss=2.7485, acc=0.4200\n",
      "    Batch 2200/3960: loss=2.7527, acc=0.4197\n",
      "    Batch 2300/3960: loss=2.7489, acc=0.4193\n",
      "    Batch 2400/3960: loss=2.7519, acc=0.4187\n",
      "    Batch 2500/3960: loss=2.7532, acc=0.4187\n",
      "    Batch 2600/3960: loss=2.7500, acc=0.4194\n",
      "    Batch 2700/3960: loss=2.7497, acc=0.4192\n",
      "    Batch 2800/3960: loss=2.7522, acc=0.4193\n",
      "    Batch 2900/3960: loss=2.7516, acc=0.4181\n",
      "    Batch 3000/3960: loss=2.7544, acc=0.4173\n",
      "    Batch 3100/3960: loss=2.7571, acc=0.4161\n",
      "    Batch 3200/3960: loss=2.7564, acc=0.4157\n",
      "    Batch 3300/3960: loss=2.7557, acc=0.4156\n",
      "    Batch 3400/3960: loss=2.7540, acc=0.4157\n",
      "    Batch 3500/3960: loss=2.7555, acc=0.4157\n",
      "    Batch 3600/3960: loss=2.7569, acc=0.4155\n",
      "    Batch 3700/3960: loss=2.7584, acc=0.4154\n",
      "    Batch 3800/3960: loss=2.7578, acc=0.4161\n",
      "    Batch 3900/3960: loss=2.7620, acc=0.4154\n",
      "Epoch 40 Train Loss: 2.7631 Acc: 0.4156 LR: 0.001577\n",
      ">>> Training epoch 40 completed <<<\n",
      "  Starting validation...\n"
     ]
    },
    {
     "data": {
      "application/vnd.jupyter.widget-view+json": {
       "model_id": "3212edca51664b07aa10ede9146efdab",
       "version_major": 2,
       "version_minor": 0
      },
      "text/plain": [
       "Validation (raw):   0%|          | 0/157 [00:00<?, ?it/s]"
      ]
     },
     "metadata": {},
     "output_type": "display_data"
    },
    {
     "name": "stdout",
     "output_type": "stream",
     "text": [
      "Validation Acc (raw): 0.7606\n"
     ]
    },
    {
     "data": {
      "application/vnd.jupyter.widget-view+json": {
       "model_id": "9135e51b384c40cfa2d76fba1cf2bc8a",
       "version_major": 2,
       "version_minor": 0
      },
      "text/plain": [
       "Validation (ema):   0%|          | 0/157 [00:00<?, ?it/s]"
      ]
     },
     "metadata": {},
     "output_type": "display_data"
    },
    {
     "name": "stdout",
     "output_type": "stream",
     "text": [
      "Validation Acc (ema): 0.5318\n",
      ">>> Validation completed <<<\n",
      "Epoch time: 30.17 mins\n",
      "Saved checkpoint\n",
      "\n",
      ">>> Starting Epoch 41/120 <<<\n",
      "  [DEBUG] Entered train_one_epoch function\n",
      "  [DEBUG] Set model to train mode\n",
      "  [DEBUG] Imported tqdm\n",
      "  Training epoch 41...\n",
      "  Loading first batch (this may take 10-30 seconds)...\n",
      "  [DEBUG] About to create iterator from train_loader...\n",
      "  [DEBUG] Calling iter(train_loader)...\n",
      "  [DEBUG] Iterator created successfully!\n",
      "  [DEBUG] Calling next(train_iter)...\n",
      "  ✓ First batch loaded! Shape: torch.Size([32, 3, 224, 224]), Labels: torch.Size([32])\n",
      "  Batch size actual: 32, Expected: 32\n"
     ]
    },
    {
     "data": {
      "application/vnd.jupyter.widget-view+json": {
       "model_id": "f241e8edc5384ab7af945c5e209f713f",
       "version_major": 2,
       "version_minor": 0
      },
      "text/plain": [
       "Epoch 41/120:   0%|                                                        | 0/3960 [00:00<?, ?it/s]"
      ]
     },
     "metadata": {},
     "output_type": "display_data"
    },
    {
     "name": "stdout",
     "output_type": "stream",
     "text": [
      "    Batch 100/3960: loss=2.7496, acc=0.4028\n",
      "    Batch 200/3960: loss=2.7685, acc=0.4008\n",
      "    Batch 300/3960: loss=2.7596, acc=0.4083\n",
      "    Batch 400/3960: loss=2.7532, acc=0.4031\n",
      "    Batch 500/3960: loss=2.7404, acc=0.4034\n",
      "    Batch 600/3960: loss=2.7498, acc=0.4058\n",
      "    Batch 700/3960: loss=2.7559, acc=0.4109\n",
      "    Batch 800/3960: loss=2.7523, acc=0.4119\n",
      "    Batch 900/3960: loss=2.7434, acc=0.4143\n",
      "    Batch 1000/3960: loss=2.7434, acc=0.4129\n",
      "    Batch 1100/3960: loss=2.7449, acc=0.4141\n",
      "    Batch 1200/3960: loss=2.7444, acc=0.4146\n",
      "    Batch 1300/3960: loss=2.7460, acc=0.4176\n",
      "    Batch 1400/3960: loss=2.7410, acc=0.4185\n",
      "    Batch 1500/3960: loss=2.7377, acc=0.4204\n",
      "    Batch 1600/3960: loss=2.7358, acc=0.4209\n",
      "    Batch 1700/3960: loss=2.7362, acc=0.4204\n",
      "    Batch 1800/3960: loss=2.7464, acc=0.4162\n",
      "    Batch 1900/3960: loss=2.7486, acc=0.4141\n",
      "    Batch 2000/3960: loss=2.7451, acc=0.4163\n",
      "    Batch 2100/3960: loss=2.7482, acc=0.4164\n",
      "    Batch 2200/3960: loss=2.7446, acc=0.4163\n",
      "    Batch 2300/3960: loss=2.7405, acc=0.4172\n",
      "    Batch 2400/3960: loss=2.7372, acc=0.4192\n",
      "    Batch 2500/3960: loss=2.7359, acc=0.4193\n",
      "    Batch 2600/3960: loss=2.7354, acc=0.4198\n",
      "    Batch 2700/3960: loss=2.7359, acc=0.4191\n",
      "    Batch 2800/3960: loss=2.7363, acc=0.4181\n",
      "    Batch 2900/3960: loss=2.7326, acc=0.4186\n",
      "    Batch 3000/3960: loss=2.7290, acc=0.4206\n",
      "    Batch 3100/3960: loss=2.7321, acc=0.4204\n",
      "    Batch 3200/3960: loss=2.7337, acc=0.4191\n",
      "    Batch 3300/3960: loss=2.7343, acc=0.4188\n",
      "    Batch 3400/3960: loss=2.7343, acc=0.4188\n",
      "    Batch 3500/3960: loss=2.7316, acc=0.4199\n",
      "    Batch 3600/3960: loss=2.7322, acc=0.4199\n",
      "    Batch 3700/3960: loss=2.7313, acc=0.4207\n",
      "    Batch 3800/3960: loss=2.7342, acc=0.4201\n",
      "    Batch 3900/3960: loss=2.7320, acc=0.4202\n",
      "Epoch 41 Train Loss: 2.7321 Acc: 0.4200 LR: 0.001554\n",
      ">>> Training epoch 41 completed <<<\n",
      "  Starting validation...\n"
     ]
    },
    {
     "data": {
      "application/vnd.jupyter.widget-view+json": {
       "model_id": "dd586240c12f490eb4a3c50ce3dcc630",
       "version_major": 2,
       "version_minor": 0
      },
      "text/plain": [
       "Validation (raw):   0%|          | 0/157 [00:00<?, ?it/s]"
      ]
     },
     "metadata": {},
     "output_type": "display_data"
    },
    {
     "name": "stdout",
     "output_type": "stream",
     "text": [
      "Validation Acc (raw): 0.7640\n"
     ]
    },
    {
     "data": {
      "application/vnd.jupyter.widget-view+json": {
       "model_id": "7b4b39eaccf6472e9bff7977dbfb2dcc",
       "version_major": 2,
       "version_minor": 0
      },
      "text/plain": [
       "Validation (ema):   0%|          | 0/157 [00:00<?, ?it/s]"
      ]
     },
     "metadata": {},
     "output_type": "display_data"
    },
    {
     "name": "stdout",
     "output_type": "stream",
     "text": [
      "Validation Acc (ema): 0.5318\n",
      ">>> Validation completed <<<\n",
      "Epoch time: 32.25 mins\n",
      "\n",
      ">>> Starting Epoch 42/120 <<<\n",
      "  [DEBUG] Entered train_one_epoch function\n",
      "  [DEBUG] Set model to train mode\n",
      "  [DEBUG] Imported tqdm\n",
      "  Training epoch 42...\n",
      "  Loading first batch (this may take 10-30 seconds)...\n",
      "  [DEBUG] About to create iterator from train_loader...\n",
      "  [DEBUG] Calling iter(train_loader)...\n",
      "  [DEBUG] Iterator created successfully!\n",
      "  [DEBUG] Calling next(train_iter)...\n",
      "  ✓ First batch loaded! Shape: torch.Size([32, 3, 224, 224]), Labels: torch.Size([32])\n",
      "  Batch size actual: 32, Expected: 32\n"
     ]
    },
    {
     "data": {
      "application/vnd.jupyter.widget-view+json": {
       "model_id": "9a7ebfbbb1c0461b9501332d07ca4d04",
       "version_major": 2,
       "version_minor": 0
      },
      "text/plain": [
       "Epoch 42/120:   0%|                                                        | 0/3960 [00:00<?, ?it/s]"
      ]
     },
     "metadata": {},
     "output_type": "display_data"
    },
    {
     "name": "stdout",
     "output_type": "stream",
     "text": [
      "    Batch 100/3960: loss=2.6069, acc=0.4325\n",
      "    Batch 200/3960: loss=2.6424, acc=0.4403\n",
      "    Batch 300/3960: loss=2.6847, acc=0.4353\n",
      "    Batch 400/3960: loss=2.7035, acc=0.4298\n",
      "    Batch 500/3960: loss=2.7164, acc=0.4191\n",
      "    Batch 600/3960: loss=2.7197, acc=0.4203\n",
      "    Batch 700/3960: loss=2.7066, acc=0.4245\n",
      "    Batch 800/3960: loss=2.7131, acc=0.4261\n",
      "    Batch 900/3960: loss=2.7253, acc=0.4235\n",
      "    Batch 1000/3960: loss=2.7317, acc=0.4234\n",
      "    Batch 1100/3960: loss=2.7283, acc=0.4226\n",
      "    Batch 1200/3960: loss=2.7354, acc=0.4234\n",
      "    Batch 1300/3960: loss=2.7408, acc=0.4200\n",
      "    Batch 1400/3960: loss=2.7389, acc=0.4202\n",
      "    Batch 1500/3960: loss=2.7357, acc=0.4204\n",
      "    Batch 1600/3960: loss=2.7351, acc=0.4209\n",
      "    Batch 1700/3960: loss=2.7391, acc=0.4196\n",
      "    Batch 1800/3960: loss=2.7358, acc=0.4190\n",
      "    Batch 1900/3960: loss=2.7357, acc=0.4201\n",
      "    Batch 2000/3960: loss=2.7355, acc=0.4211\n",
      "    Batch 2100/3960: loss=2.7351, acc=0.4203\n",
      "    Batch 2200/3960: loss=2.7353, acc=0.4212\n",
      "    Batch 2300/3960: loss=2.7325, acc=0.4222\n",
      "    Batch 2400/3960: loss=2.7346, acc=0.4219\n",
      "    Batch 2500/3960: loss=2.7339, acc=0.4217\n",
      "    Batch 2600/3960: loss=2.7390, acc=0.4206\n",
      "    Batch 2700/3960: loss=2.7370, acc=0.4211\n",
      "    Batch 2800/3960: loss=2.7383, acc=0.4210\n",
      "    Batch 2900/3960: loss=2.7380, acc=0.4196\n",
      "    Batch 3000/3960: loss=2.7366, acc=0.4202\n",
      "    Batch 3100/3960: loss=2.7382, acc=0.4208\n",
      "    Batch 3200/3960: loss=2.7389, acc=0.4209\n",
      "    Batch 3300/3960: loss=2.7406, acc=0.4215\n",
      "    Batch 3400/3960: loss=2.7397, acc=0.4219\n",
      "    Batch 3500/3960: loss=2.7408, acc=0.4218\n",
      "    Batch 3600/3960: loss=2.7434, acc=0.4219\n",
      "    Batch 3700/3960: loss=2.7437, acc=0.4212\n",
      "    Batch 3800/3960: loss=2.7443, acc=0.4212\n",
      "    Batch 3900/3960: loss=2.7462, acc=0.4205\n",
      "Epoch 42 Train Loss: 2.7454 Acc: 0.4212 LR: 0.001531\n",
      ">>> Training epoch 42 completed <<<\n",
      "  Starting validation...\n"
     ]
    },
    {
     "data": {
      "application/vnd.jupyter.widget-view+json": {
       "model_id": "5b53492838b34a3f9f816b3aaebf402e",
       "version_major": 2,
       "version_minor": 0
      },
      "text/plain": [
       "Validation (raw):   0%|          | 0/157 [00:00<?, ?it/s]"
      ]
     },
     "metadata": {},
     "output_type": "display_data"
    },
    {
     "name": "stdout",
     "output_type": "stream",
     "text": [
      "Validation Acc (raw): 0.7652\n"
     ]
    },
    {
     "data": {
      "application/vnd.jupyter.widget-view+json": {
       "model_id": "bbabf0815b114ef2a911f23c54e53a7b",
       "version_major": 2,
       "version_minor": 0
      },
      "text/plain": [
       "Validation (ema):   0%|          | 0/157 [00:00<?, ?it/s]"
      ]
     },
     "metadata": {},
     "output_type": "display_data"
    },
    {
     "name": "stdout",
     "output_type": "stream",
     "text": [
      "Validation Acc (ema): 0.5300\n",
      ">>> Validation completed <<<\n",
      "Epoch time: 24.52 mins\n",
      "\n",
      ">>> Starting Epoch 43/120 <<<\n",
      "  [DEBUG] Entered train_one_epoch function\n",
      "  [DEBUG] Set model to train mode\n",
      "  [DEBUG] Imported tqdm\n",
      "  Training epoch 43...\n",
      "  Loading first batch (this may take 10-30 seconds)...\n",
      "  [DEBUG] About to create iterator from train_loader...\n",
      "  [DEBUG] Calling iter(train_loader)...\n",
      "  [DEBUG] Iterator created successfully!\n",
      "  [DEBUG] Calling next(train_iter)...\n",
      "  ✓ First batch loaded! Shape: torch.Size([32, 3, 224, 224]), Labels: torch.Size([32])\n",
      "  Batch size actual: 32, Expected: 32\n"
     ]
    },
    {
     "data": {
      "application/vnd.jupyter.widget-view+json": {
       "model_id": "333045cb94dc4ab98624a52a8ab264f3",
       "version_major": 2,
       "version_minor": 0
      },
      "text/plain": [
       "Epoch 43/120:   0%|                                                        | 0/3960 [00:00<?, ?it/s]"
      ]
     },
     "metadata": {},
     "output_type": "display_data"
    },
    {
     "name": "stdout",
     "output_type": "stream",
     "text": [
      "    Batch 100/3960: loss=2.7249, acc=0.4548\n",
      "    Batch 200/3960: loss=2.7747, acc=0.4244\n",
      "    Batch 300/3960: loss=2.7470, acc=0.4329\n",
      "    Batch 400/3960: loss=2.7392, acc=0.4361\n",
      "    Batch 500/3960: loss=2.7345, acc=0.4357\n",
      "    Batch 600/3960: loss=2.7355, acc=0.4301\n",
      "    Batch 700/3960: loss=2.7403, acc=0.4246\n",
      "    Batch 800/3960: loss=2.7430, acc=0.4223\n",
      "    Batch 900/3960: loss=2.7406, acc=0.4271\n",
      "    Batch 1000/3960: loss=2.7280, acc=0.4307\n",
      "    Batch 1100/3960: loss=2.7233, acc=0.4345\n",
      "    Batch 1200/3960: loss=2.7239, acc=0.4326\n",
      "    Batch 1300/3960: loss=2.7276, acc=0.4317\n",
      "    Batch 1400/3960: loss=2.7340, acc=0.4269\n",
      "    Batch 1500/3960: loss=2.7311, acc=0.4252\n",
      "    Batch 1600/3960: loss=2.7291, acc=0.4249\n",
      "    Batch 1700/3960: loss=2.7239, acc=0.4268\n",
      "    Batch 1800/3960: loss=2.7260, acc=0.4266\n",
      "    Batch 1900/3960: loss=2.7276, acc=0.4258\n",
      "    Batch 2000/3960: loss=2.7308, acc=0.4247\n",
      "    Batch 2100/3960: loss=2.7314, acc=0.4260\n",
      "    Batch 2200/3960: loss=2.7288, acc=0.4261\n",
      "    Batch 2300/3960: loss=2.7303, acc=0.4265\n",
      "    Batch 2400/3960: loss=2.7288, acc=0.4256\n",
      "    Batch 2500/3960: loss=2.7270, acc=0.4255\n",
      "    Batch 2600/3960: loss=2.7295, acc=0.4246\n",
      "    Batch 2700/3960: loss=2.7316, acc=0.4240\n",
      "    Batch 2800/3960: loss=2.7293, acc=0.4236\n",
      "    Batch 2900/3960: loss=2.7282, acc=0.4237\n",
      "    Batch 3000/3960: loss=2.7316, acc=0.4233\n",
      "    Batch 3100/3960: loss=2.7322, acc=0.4220\n",
      "    Batch 3200/3960: loss=2.7331, acc=0.4223\n",
      "    Batch 3300/3960: loss=2.7322, acc=0.4217\n",
      "    Batch 3400/3960: loss=2.7328, acc=0.4215\n",
      "    Batch 3500/3960: loss=2.7351, acc=0.4212\n",
      "    Batch 3600/3960: loss=2.7359, acc=0.4207\n",
      "    Batch 3700/3960: loss=2.7363, acc=0.4211\n",
      "    Batch 3800/3960: loss=2.7342, acc=0.4214\n",
      "    Batch 3900/3960: loss=2.7350, acc=0.4214\n",
      "Epoch 43 Train Loss: 2.7364 Acc: 0.4213 LR: 0.001508\n",
      ">>> Training epoch 43 completed <<<\n",
      "  Starting validation...\n"
     ]
    },
    {
     "data": {
      "application/vnd.jupyter.widget-view+json": {
       "model_id": "a761b1d3ec1e4d5095dee3ba940f989d",
       "version_major": 2,
       "version_minor": 0
      },
      "text/plain": [
       "Validation (raw):   0%|          | 0/157 [00:00<?, ?it/s]"
      ]
     },
     "metadata": {},
     "output_type": "display_data"
    },
    {
     "name": "stdout",
     "output_type": "stream",
     "text": [
      "Validation Acc (raw): 0.7600\n"
     ]
    },
    {
     "data": {
      "application/vnd.jupyter.widget-view+json": {
       "model_id": "05766ded056249009de8e37286b2d007",
       "version_major": 2,
       "version_minor": 0
      },
      "text/plain": [
       "Validation (ema):   0%|          | 0/157 [00:00<?, ?it/s]"
      ]
     },
     "metadata": {},
     "output_type": "display_data"
    },
    {
     "name": "stdout",
     "output_type": "stream",
     "text": [
      "Validation Acc (ema): 0.5304\n",
      ">>> Validation completed <<<\n",
      "Epoch time: 33.81 mins\n",
      "\n",
      ">>> Starting Epoch 44/120 <<<\n",
      "  [DEBUG] Entered train_one_epoch function\n",
      "  [DEBUG] Set model to train mode\n",
      "  [DEBUG] Imported tqdm\n",
      "  Training epoch 44...\n",
      "  Loading first batch (this may take 10-30 seconds)...\n",
      "  [DEBUG] About to create iterator from train_loader...\n",
      "  [DEBUG] Calling iter(train_loader)...\n",
      "  [DEBUG] Iterator created successfully!\n",
      "  [DEBUG] Calling next(train_iter)...\n",
      "  ✓ First batch loaded! Shape: torch.Size([32, 3, 224, 224]), Labels: torch.Size([32])\n",
      "  Batch size actual: 32, Expected: 32\n"
     ]
    },
    {
     "data": {
      "application/vnd.jupyter.widget-view+json": {
       "model_id": "f3b4014c651b44e283f4e1646e611d78",
       "version_major": 2,
       "version_minor": 0
      },
      "text/plain": [
       "Epoch 44/120:   0%|                                                        | 0/3960 [00:00<?, ?it/s]"
      ]
     },
     "metadata": {},
     "output_type": "display_data"
    },
    {
     "name": "stdout",
     "output_type": "stream",
     "text": [
      "    Batch 100/3960: loss=2.7078, acc=0.3883\n",
      "    Batch 200/3960: loss=2.7135, acc=0.3750\n",
      "    Batch 300/3960: loss=2.7294, acc=0.3885\n",
      "    Batch 400/3960: loss=2.7039, acc=0.4038\n",
      "    Batch 500/3960: loss=2.6973, acc=0.4169\n",
      "    Batch 600/3960: loss=2.7017, acc=0.4235\n",
      "    Batch 700/3960: loss=2.6931, acc=0.4301\n",
      "    Batch 800/3960: loss=2.6874, acc=0.4315\n",
      "    Batch 900/3960: loss=2.6871, acc=0.4376\n",
      "    Batch 1000/3960: loss=2.6870, acc=0.4411\n",
      "    Batch 1100/3960: loss=2.6901, acc=0.4397\n",
      "    Batch 1200/3960: loss=2.6765, acc=0.4432\n",
      "    Batch 1300/3960: loss=2.6807, acc=0.4404\n",
      "    Batch 1400/3960: loss=2.6848, acc=0.4401\n",
      "    Batch 1500/3960: loss=2.6889, acc=0.4407\n",
      "    Batch 1600/3960: loss=2.6856, acc=0.4392\n",
      "    Batch 1700/3960: loss=2.6849, acc=0.4377\n",
      "    Batch 1800/3960: loss=2.6883, acc=0.4369\n",
      "    Batch 1900/3960: loss=2.6880, acc=0.4352\n",
      "    Batch 2000/3960: loss=2.6888, acc=0.4325\n",
      "    Batch 2100/3960: loss=2.6899, acc=0.4316\n",
      "    Batch 2200/3960: loss=2.6921, acc=0.4308\n",
      "    Batch 2300/3960: loss=2.6946, acc=0.4303\n",
      "    Batch 2400/3960: loss=2.6940, acc=0.4298\n",
      "    Batch 2500/3960: loss=2.6964, acc=0.4297\n",
      "    Batch 2600/3960: loss=2.6980, acc=0.4300\n",
      "    Batch 2700/3960: loss=2.6973, acc=0.4313\n",
      "    Batch 2800/3960: loss=2.6957, acc=0.4317\n",
      "    Batch 2900/3960: loss=2.6999, acc=0.4300\n",
      "    Batch 3000/3960: loss=2.6979, acc=0.4306\n",
      "    Batch 3100/3960: loss=2.6978, acc=0.4300\n",
      "    Batch 3200/3960: loss=2.6959, acc=0.4306\n",
      "    Batch 3300/3960: loss=2.6972, acc=0.4302\n",
      "    Batch 3400/3960: loss=2.6965, acc=0.4306\n",
      "    Batch 3500/3960: loss=2.6994, acc=0.4293\n",
      "    Batch 3600/3960: loss=2.7003, acc=0.4283\n",
      "    Batch 3700/3960: loss=2.7002, acc=0.4277\n",
      "    Batch 3800/3960: loss=2.6993, acc=0.4277\n",
      "    Batch 3900/3960: loss=2.7016, acc=0.4277\n",
      "Epoch 44 Train Loss: 2.7026 Acc: 0.4273 LR: 0.001484\n",
      ">>> Training epoch 44 completed <<<\n",
      "  Starting validation...\n"
     ]
    },
    {
     "data": {
      "application/vnd.jupyter.widget-view+json": {
       "model_id": "7885bb15823146539e43f1495dcd72c9",
       "version_major": 2,
       "version_minor": 0
      },
      "text/plain": [
       "Validation (raw):   0%|          | 0/157 [00:00<?, ?it/s]"
      ]
     },
     "metadata": {},
     "output_type": "display_data"
    },
    {
     "name": "stdout",
     "output_type": "stream",
     "text": [
      "Validation Acc (raw): 0.7634\n"
     ]
    },
    {
     "data": {
      "application/vnd.jupyter.widget-view+json": {
       "model_id": "938b7fc7c8f34dbcb6b6a2a4c4461f8f",
       "version_major": 2,
       "version_minor": 0
      },
      "text/plain": [
       "Validation (ema):   0%|          | 0/157 [00:00<?, ?it/s]"
      ]
     },
     "metadata": {},
     "output_type": "display_data"
    },
    {
     "name": "stdout",
     "output_type": "stream",
     "text": [
      "Validation Acc (ema): 0.5276\n",
      ">>> Validation completed <<<\n",
      "Epoch time: 36.82 mins\n",
      "\n",
      ">>> Starting Epoch 45/120 <<<\n",
      "  [DEBUG] Entered train_one_epoch function\n",
      "  [DEBUG] Set model to train mode\n",
      "  [DEBUG] Imported tqdm\n",
      "  Training epoch 45...\n",
      "  Loading first batch (this may take 10-30 seconds)...\n",
      "  [DEBUG] About to create iterator from train_loader...\n",
      "  [DEBUG] Calling iter(train_loader)...\n",
      "  [DEBUG] Iterator created successfully!\n",
      "  [DEBUG] Calling next(train_iter)...\n",
      "  ✓ First batch loaded! Shape: torch.Size([32, 3, 224, 224]), Labels: torch.Size([32])\n",
      "  Batch size actual: 32, Expected: 32\n"
     ]
    },
    {
     "data": {
      "application/vnd.jupyter.widget-view+json": {
       "model_id": "32132e4e80a34e96a55319615f3fe734",
       "version_major": 2,
       "version_minor": 0
      },
      "text/plain": [
       "Epoch 45/120:   0%|                                                        | 0/3960 [00:00<?, ?it/s]"
      ]
     },
     "metadata": {},
     "output_type": "display_data"
    },
    {
     "name": "stdout",
     "output_type": "stream",
     "text": [
      "    Batch 100/3960: loss=2.6779, acc=0.4186\n",
      "    Batch 200/3960: loss=2.6840, acc=0.3954\n",
      "    Batch 300/3960: loss=2.7230, acc=0.3958\n",
      "    Batch 400/3960: loss=2.7304, acc=0.3957\n",
      "    Batch 500/3960: loss=2.7115, acc=0.4001\n",
      "    Batch 600/3960: loss=2.7035, acc=0.4051\n",
      "    Batch 700/3960: loss=2.6917, acc=0.4116\n",
      "    Batch 800/3960: loss=2.7065, acc=0.4028\n",
      "    Batch 900/3960: loss=2.6994, acc=0.4082\n",
      "    Batch 1000/3960: loss=2.6986, acc=0.4049\n",
      "    Batch 1100/3960: loss=2.6966, acc=0.4030\n",
      "    Batch 1200/3960: loss=2.6897, acc=0.4048\n",
      "    Batch 1300/3960: loss=2.6868, acc=0.4108\n",
      "    Batch 1400/3960: loss=2.6933, acc=0.4115\n",
      "    Batch 1500/3960: loss=2.6902, acc=0.4125\n",
      "    Batch 1600/3960: loss=2.6934, acc=0.4153\n",
      "    Batch 1700/3960: loss=2.6968, acc=0.4156\n",
      "    Batch 1800/3960: loss=2.6938, acc=0.4184\n",
      "    Batch 1900/3960: loss=2.6918, acc=0.4191\n",
      "    Batch 2000/3960: loss=2.6952, acc=0.4174\n",
      "    Batch 2100/3960: loss=2.6937, acc=0.4195\n",
      "    Batch 2200/3960: loss=2.6934, acc=0.4197\n",
      "    Batch 2300/3960: loss=2.6929, acc=0.4205\n",
      "    Batch 2400/3960: loss=2.6959, acc=0.4201\n",
      "    Batch 2500/3960: loss=2.6978, acc=0.4195\n",
      "    Batch 2600/3960: loss=2.6979, acc=0.4202\n",
      "    Batch 2700/3960: loss=2.6957, acc=0.4203\n",
      "    Batch 2800/3960: loss=2.6981, acc=0.4188\n",
      "    Batch 2900/3960: loss=2.6976, acc=0.4189\n",
      "    Batch 3000/3960: loss=2.6982, acc=0.4187\n",
      "    Batch 3100/3960: loss=2.6967, acc=0.4184\n",
      "    Batch 3200/3960: loss=2.6987, acc=0.4197\n",
      "    Batch 3300/3960: loss=2.6979, acc=0.4199\n",
      "    Batch 3400/3960: loss=2.6996, acc=0.4200\n",
      "    Batch 3500/3960: loss=2.7015, acc=0.4196\n",
      "    Batch 3600/3960: loss=2.7030, acc=0.4197\n",
      "    Batch 3700/3960: loss=2.7029, acc=0.4204\n",
      "    Batch 3800/3960: loss=2.7031, acc=0.4211\n",
      "    Batch 3900/3960: loss=2.7025, acc=0.4216\n",
      "Epoch 45 Train Loss: 2.7014 Acc: 0.4220 LR: 0.001460\n",
      ">>> Training epoch 45 completed <<<\n",
      "  Starting validation...\n"
     ]
    },
    {
     "data": {
      "application/vnd.jupyter.widget-view+json": {
       "model_id": "0ccc30a417da42fb81884daca72ad7a7",
       "version_major": 2,
       "version_minor": 0
      },
      "text/plain": [
       "Validation (raw):   0%|          | 0/157 [00:00<?, ?it/s]"
      ]
     },
     "metadata": {},
     "output_type": "display_data"
    },
    {
     "name": "stdout",
     "output_type": "stream",
     "text": [
      "Validation Acc (raw): 0.7796\n"
     ]
    },
    {
     "data": {
      "application/vnd.jupyter.widget-view+json": {
       "model_id": "2ba9275c744f4b12930fa070e7696066",
       "version_major": 2,
       "version_minor": 0
      },
      "text/plain": [
       "Validation (ema):   0%|          | 0/157 [00:00<?, ?it/s]"
      ]
     },
     "metadata": {},
     "output_type": "display_data"
    },
    {
     "name": "stdout",
     "output_type": "stream",
     "text": [
      "Validation Acc (ema): 0.5280\n",
      ">>> Validation completed <<<\n",
      "Epoch time: 25.27 mins\n",
      "Saved checkpoint\n",
      "\n",
      ">>> Starting Epoch 46/120 <<<\n",
      "  [DEBUG] Entered train_one_epoch function\n",
      "  [DEBUG] Set model to train mode\n",
      "  [DEBUG] Imported tqdm\n",
      "  Training epoch 46...\n",
      "  Loading first batch (this may take 10-30 seconds)...\n",
      "  [DEBUG] About to create iterator from train_loader...\n",
      "  [DEBUG] Calling iter(train_loader)...\n",
      "  [DEBUG] Iterator created successfully!\n",
      "  [DEBUG] Calling next(train_iter)...\n",
      "  ✓ First batch loaded! Shape: torch.Size([32, 3, 224, 224]), Labels: torch.Size([32])\n",
      "  Batch size actual: 32, Expected: 32\n"
     ]
    },
    {
     "data": {
      "application/vnd.jupyter.widget-view+json": {
       "model_id": "01a6bf1189584e97b6d9035565be73a7",
       "version_major": 2,
       "version_minor": 0
      },
      "text/plain": [
       "Epoch 46/120:   0%|                                                        | 0/3960 [00:00<?, ?it/s]"
      ]
     },
     "metadata": {},
     "output_type": "display_data"
    },
    {
     "name": "stdout",
     "output_type": "stream",
     "text": [
      "    Batch 100/3960: loss=2.7275, acc=0.4288\n",
      "    Batch 200/3960: loss=2.7424, acc=0.4213\n",
      "    Batch 300/3960: loss=2.6985, acc=0.4282\n",
      "    Batch 400/3960: loss=2.7091, acc=0.4251\n",
      "    Batch 500/3960: loss=2.7224, acc=0.4187\n",
      "    Batch 600/3960: loss=2.7125, acc=0.4224\n",
      "    Batch 700/3960: loss=2.7162, acc=0.4200\n",
      "    Batch 800/3960: loss=2.7184, acc=0.4196\n",
      "    Batch 900/3960: loss=2.7076, acc=0.4186\n",
      "    Batch 1000/3960: loss=2.7083, acc=0.4197\n",
      "    Batch 1100/3960: loss=2.7093, acc=0.4184\n",
      "    Batch 1200/3960: loss=2.7176, acc=0.4149\n",
      "    Batch 1300/3960: loss=2.7226, acc=0.4138\n",
      "    Batch 1400/3960: loss=2.7288, acc=0.4141\n",
      "    Batch 1500/3960: loss=2.7194, acc=0.4149\n",
      "    Batch 1600/3960: loss=2.7237, acc=0.4128\n",
      "    Batch 1700/3960: loss=2.7213, acc=0.4139\n",
      "    Batch 1800/3960: loss=2.7184, acc=0.4143\n",
      "    Batch 1900/3960: loss=2.7179, acc=0.4142\n",
      "    Batch 2000/3960: loss=2.7223, acc=0.4130\n",
      "    Batch 2100/3960: loss=2.7242, acc=0.4136\n",
      "    Batch 2200/3960: loss=2.7282, acc=0.4122\n",
      "    Batch 2300/3960: loss=2.7276, acc=0.4099\n",
      "    Batch 2400/3960: loss=2.7281, acc=0.4101\n",
      "    Batch 2500/3960: loss=2.7257, acc=0.4099\n",
      "    Batch 2600/3960: loss=2.7231, acc=0.4104\n",
      "    Batch 2700/3960: loss=2.7210, acc=0.4101\n",
      "    Batch 2800/3960: loss=2.7171, acc=0.4118\n",
      "    Batch 2900/3960: loss=2.7156, acc=0.4130\n",
      "    Batch 3000/3960: loss=2.7157, acc=0.4127\n",
      "    Batch 3100/3960: loss=2.7108, acc=0.4137\n",
      "    Batch 3200/3960: loss=2.7086, acc=0.4133\n",
      "    Batch 3300/3960: loss=2.7083, acc=0.4141\n",
      "    Batch 3400/3960: loss=2.7104, acc=0.4129\n",
      "    Batch 3500/3960: loss=2.7128, acc=0.4131\n",
      "    Batch 3600/3960: loss=2.7145, acc=0.4135\n",
      "    Batch 3700/3960: loss=2.7128, acc=0.4140\n",
      "    Batch 3800/3960: loss=2.7105, acc=0.4142\n",
      "    Batch 3900/3960: loss=2.7093, acc=0.4127\n",
      "Epoch 46 Train Loss: 2.7090 Acc: 0.4134 LR: 0.001436\n",
      ">>> Training epoch 46 completed <<<\n",
      "  Starting validation...\n"
     ]
    },
    {
     "data": {
      "application/vnd.jupyter.widget-view+json": {
       "model_id": "5800f4e4bd0e4e0baa8d948fe82e7bd6",
       "version_major": 2,
       "version_minor": 0
      },
      "text/plain": [
       "Validation (raw):   0%|          | 0/157 [00:00<?, ?it/s]"
      ]
     },
     "metadata": {},
     "output_type": "display_data"
    },
    {
     "name": "stdout",
     "output_type": "stream",
     "text": [
      "Validation Acc (raw): 0.7720\n"
     ]
    },
    {
     "data": {
      "application/vnd.jupyter.widget-view+json": {
       "model_id": "148e56183c354ca78fe74de94a7dcb49",
       "version_major": 2,
       "version_minor": 0
      },
      "text/plain": [
       "Validation (ema):   0%|          | 0/157 [00:00<?, ?it/s]"
      ]
     },
     "metadata": {},
     "output_type": "display_data"
    },
    {
     "name": "stdout",
     "output_type": "stream",
     "text": [
      "Validation Acc (ema): 0.5284\n",
      ">>> Validation completed <<<\n",
      "Epoch time: 34.88 mins\n",
      "\n",
      ">>> Starting Epoch 47/120 <<<\n",
      "  [DEBUG] Entered train_one_epoch function\n",
      "  [DEBUG] Set model to train mode\n",
      "  [DEBUG] Imported tqdm\n",
      "  Training epoch 47...\n",
      "  Loading first batch (this may take 10-30 seconds)...\n",
      "  [DEBUG] About to create iterator from train_loader...\n",
      "  [DEBUG] Calling iter(train_loader)...\n",
      "  [DEBUG] Iterator created successfully!\n",
      "  [DEBUG] Calling next(train_iter)...\n",
      "  ✓ First batch loaded! Shape: torch.Size([32, 3, 224, 224]), Labels: torch.Size([32])\n",
      "  Batch size actual: 32, Expected: 32\n"
     ]
    },
    {
     "data": {
      "application/vnd.jupyter.widget-view+json": {
       "model_id": "5c7874c10c1e45d2bf8a699509e154d7",
       "version_major": 2,
       "version_minor": 0
      },
      "text/plain": [
       "Epoch 47/120:   0%|                                                        | 0/3960 [00:00<?, ?it/s]"
      ]
     },
     "metadata": {},
     "output_type": "display_data"
    },
    {
     "name": "stdout",
     "output_type": "stream",
     "text": [
      "    Batch 100/3960: loss=2.6414, acc=0.4675\n",
      "    Batch 200/3960: loss=2.7111, acc=0.4303\n",
      "    Batch 300/3960: loss=2.6875, acc=0.4309\n",
      "    Batch 400/3960: loss=2.6814, acc=0.4314\n",
      "    Batch 500/3960: loss=2.6954, acc=0.4264\n",
      "    Batch 600/3960: loss=2.6868, acc=0.4306\n",
      "    Batch 700/3960: loss=2.6805, acc=0.4285\n",
      "    Batch 800/3960: loss=2.6826, acc=0.4330\n",
      "    Batch 900/3960: loss=2.6828, acc=0.4320\n",
      "    Batch 1000/3960: loss=2.6887, acc=0.4274\n",
      "    Batch 1100/3960: loss=2.6908, acc=0.4276\n",
      "    Batch 1200/3960: loss=2.6891, acc=0.4291\n",
      "    Batch 1300/3960: loss=2.6876, acc=0.4308\n",
      "    Batch 1400/3960: loss=2.6793, acc=0.4336\n",
      "    Batch 1500/3960: loss=2.6729, acc=0.4368\n",
      "    Batch 1600/3960: loss=2.6805, acc=0.4346\n",
      "    Batch 1700/3960: loss=2.6776, acc=0.4351\n",
      "    Batch 1800/3960: loss=2.6782, acc=0.4344\n",
      "    Batch 1900/3960: loss=2.6809, acc=0.4322\n",
      "    Batch 2000/3960: loss=2.6811, acc=0.4321\n",
      "    Batch 2100/3960: loss=2.6890, acc=0.4317\n",
      "    Batch 2200/3960: loss=2.6909, acc=0.4303\n",
      "    Batch 2300/3960: loss=2.6876, acc=0.4304\n",
      "    Batch 2400/3960: loss=2.6882, acc=0.4313\n",
      "    Batch 2500/3960: loss=2.6892, acc=0.4305\n",
      "    Batch 2600/3960: loss=2.6920, acc=0.4299\n",
      "    Batch 2700/3960: loss=2.6879, acc=0.4302\n",
      "    Batch 2800/3960: loss=2.6913, acc=0.4300\n",
      "    Batch 2900/3960: loss=2.6899, acc=0.4311\n",
      "    Batch 3000/3960: loss=2.6917, acc=0.4309\n",
      "    Batch 3100/3960: loss=2.6936, acc=0.4315\n",
      "    Batch 3200/3960: loss=2.6935, acc=0.4303\n",
      "    Batch 3300/3960: loss=2.6952, acc=0.4297\n",
      "    Batch 3400/3960: loss=2.6954, acc=0.4294\n",
      "    Batch 3500/3960: loss=2.6980, acc=0.4279\n",
      "    Batch 3600/3960: loss=2.6981, acc=0.4276\n",
      "    Batch 3700/3960: loss=2.6987, acc=0.4281\n",
      "    Batch 3800/3960: loss=2.6974, acc=0.4290\n",
      "    Batch 3900/3960: loss=2.6973, acc=0.4289\n",
      "Epoch 47 Train Loss: 2.6980 Acc: 0.4288 LR: 0.001411\n",
      ">>> Training epoch 47 completed <<<\n",
      "  Starting validation...\n"
     ]
    },
    {
     "data": {
      "application/vnd.jupyter.widget-view+json": {
       "model_id": "87e587aee672482396594261bf3045f1",
       "version_major": 2,
       "version_minor": 0
      },
      "text/plain": [
       "Validation (raw):   0%|          | 0/157 [00:00<?, ?it/s]"
      ]
     },
     "metadata": {},
     "output_type": "display_data"
    },
    {
     "name": "stdout",
     "output_type": "stream",
     "text": [
      "Validation Acc (raw): 0.7710\n"
     ]
    },
    {
     "data": {
      "application/vnd.jupyter.widget-view+json": {
       "model_id": "7ce955d00927484ca2552737b50f202c",
       "version_major": 2,
       "version_minor": 0
      },
      "text/plain": [
       "Validation (ema):   0%|          | 0/157 [00:00<?, ?it/s]"
      ]
     },
     "metadata": {},
     "output_type": "display_data"
    },
    {
     "name": "stdout",
     "output_type": "stream",
     "text": [
      "Validation Acc (ema): 0.5282\n",
      ">>> Validation completed <<<\n",
      "Epoch time: 24.36 mins\n",
      "\n",
      ">>> Starting Epoch 48/120 <<<\n",
      "  [DEBUG] Entered train_one_epoch function\n",
      "  [DEBUG] Set model to train mode\n",
      "  [DEBUG] Imported tqdm\n",
      "  Training epoch 48...\n",
      "  Loading first batch (this may take 10-30 seconds)...\n",
      "  [DEBUG] About to create iterator from train_loader...\n",
      "  [DEBUG] Calling iter(train_loader)...\n",
      "  [DEBUG] Iterator created successfully!\n",
      "  [DEBUG] Calling next(train_iter)...\n",
      "  ✓ First batch loaded! Shape: torch.Size([32, 3, 224, 224]), Labels: torch.Size([32])\n",
      "  Batch size actual: 32, Expected: 32\n"
     ]
    },
    {
     "data": {
      "application/vnd.jupyter.widget-view+json": {
       "model_id": "c1f7596d03d94026940ecbcf5e3f1380",
       "version_major": 2,
       "version_minor": 0
      },
      "text/plain": [
       "Epoch 48/120:   0%|                                                        | 0/3960 [00:00<?, ?it/s]"
      ]
     },
     "metadata": {},
     "output_type": "display_data"
    },
    {
     "name": "stdout",
     "output_type": "stream",
     "text": [
      "    Batch 100/3960: loss=2.6904, acc=0.4189\n",
      "    Batch 200/3960: loss=2.6908, acc=0.4142\n",
      "    Batch 300/3960: loss=2.7077, acc=0.4200\n",
      "    Batch 400/3960: loss=2.7102, acc=0.4101\n",
      "    Batch 500/3960: loss=2.7041, acc=0.4174\n",
      "    Batch 600/3960: loss=2.7037, acc=0.4151\n",
      "    Batch 700/3960: loss=2.7056, acc=0.4151\n",
      "    Batch 800/3960: loss=2.6975, acc=0.4186\n",
      "    Batch 900/3960: loss=2.6931, acc=0.4218\n",
      "    Batch 1000/3960: loss=2.6917, acc=0.4255\n",
      "    Batch 1100/3960: loss=2.7001, acc=0.4236\n",
      "    Batch 1200/3960: loss=2.6976, acc=0.4258\n",
      "    Batch 1300/3960: loss=2.6970, acc=0.4261\n",
      "    Batch 1400/3960: loss=2.7006, acc=0.4282\n",
      "    Batch 1500/3960: loss=2.7044, acc=0.4285\n",
      "    Batch 1600/3960: loss=2.6987, acc=0.4283\n",
      "    Batch 1700/3960: loss=2.6957, acc=0.4295\n",
      "    Batch 1800/3960: loss=2.6918, acc=0.4306\n",
      "    Batch 1900/3960: loss=2.6909, acc=0.4298\n",
      "    Batch 2000/3960: loss=2.6850, acc=0.4307\n",
      "    Batch 2100/3960: loss=2.6860, acc=0.4291\n",
      "    Batch 2200/3960: loss=2.6832, acc=0.4300\n",
      "    Batch 2300/3960: loss=2.6840, acc=0.4294\n",
      "    Batch 2400/3960: loss=2.6881, acc=0.4283\n",
      "    Batch 2500/3960: loss=2.6880, acc=0.4283\n",
      "    Batch 2600/3960: loss=2.6864, acc=0.4284\n",
      "    Batch 2700/3960: loss=2.6809, acc=0.4306\n",
      "    Batch 2800/3960: loss=2.6805, acc=0.4302\n",
      "    Batch 2900/3960: loss=2.6810, acc=0.4310\n",
      "    Batch 3000/3960: loss=2.6812, acc=0.4307\n",
      "    Batch 3100/3960: loss=2.6811, acc=0.4310\n",
      "    Batch 3200/3960: loss=2.6804, acc=0.4314\n",
      "    Batch 3300/3960: loss=2.6804, acc=0.4316\n",
      "    Batch 3400/3960: loss=2.6822, acc=0.4318\n",
      "    Batch 3500/3960: loss=2.6805, acc=0.4328\n",
      "    Batch 3600/3960: loss=2.6827, acc=0.4328\n",
      "    Batch 3700/3960: loss=2.6802, acc=0.4342\n",
      "    Batch 3800/3960: loss=2.6841, acc=0.4337\n",
      "    Batch 3900/3960: loss=2.6837, acc=0.4332\n",
      "Epoch 48 Train Loss: 2.6836 Acc: 0.4335 LR: 0.001386\n",
      ">>> Training epoch 48 completed <<<\n",
      "  Starting validation...\n"
     ]
    },
    {
     "data": {
      "application/vnd.jupyter.widget-view+json": {
       "model_id": "5f38688fcf50452bbf81e957b111e99b",
       "version_major": 2,
       "version_minor": 0
      },
      "text/plain": [
       "Validation (raw):   0%|          | 0/157 [00:00<?, ?it/s]"
      ]
     },
     "metadata": {},
     "output_type": "display_data"
    },
    {
     "name": "stdout",
     "output_type": "stream",
     "text": [
      "Validation Acc (raw): 0.7732\n"
     ]
    },
    {
     "data": {
      "application/vnd.jupyter.widget-view+json": {
       "model_id": "8d42cb1b57914f338d7c2c7701ed92ba",
       "version_major": 2,
       "version_minor": 0
      },
      "text/plain": [
       "Validation (ema):   0%|          | 0/157 [00:00<?, ?it/s]"
      ]
     },
     "metadata": {},
     "output_type": "display_data"
    },
    {
     "name": "stdout",
     "output_type": "stream",
     "text": [
      "Validation Acc (ema): 0.5262\n",
      ">>> Validation completed <<<\n",
      "Epoch time: 24.27 mins\n",
      "\n",
      ">>> Starting Epoch 49/120 <<<\n",
      "  [DEBUG] Entered train_one_epoch function\n",
      "  [DEBUG] Set model to train mode\n",
      "  [DEBUG] Imported tqdm\n",
      "  Training epoch 49...\n",
      "  Loading first batch (this may take 10-30 seconds)...\n",
      "  [DEBUG] About to create iterator from train_loader...\n",
      "  [DEBUG] Calling iter(train_loader)...\n",
      "  [DEBUG] Iterator created successfully!\n",
      "  [DEBUG] Calling next(train_iter)...\n",
      "  ✓ First batch loaded! Shape: torch.Size([32, 3, 224, 224]), Labels: torch.Size([32])\n",
      "  Batch size actual: 32, Expected: 32\n"
     ]
    },
    {
     "data": {
      "application/vnd.jupyter.widget-view+json": {
       "model_id": "8071ecfa1c874bbdad2e3e2108d13425",
       "version_major": 2,
       "version_minor": 0
      },
      "text/plain": [
       "Epoch 49/120:   0%|                                                        | 0/3960 [00:00<?, ?it/s]"
      ]
     },
     "metadata": {},
     "output_type": "display_data"
    },
    {
     "name": "stdout",
     "output_type": "stream",
     "text": [
      "    Batch 100/3960: loss=2.7119, acc=0.4319\n",
      "    Batch 200/3960: loss=2.7093, acc=0.4297\n",
      "    Batch 300/3960: loss=2.6275, acc=0.4338\n",
      "    Batch 400/3960: loss=2.6218, acc=0.4428\n",
      "    Batch 500/3960: loss=2.6494, acc=0.4335\n",
      "    Batch 600/3960: loss=2.6744, acc=0.4252\n",
      "    Batch 700/3960: loss=2.6772, acc=0.4288\n",
      "    Batch 800/3960: loss=2.6618, acc=0.4345\n",
      "    Batch 900/3960: loss=2.6603, acc=0.4322\n",
      "    Batch 1000/3960: loss=2.6581, acc=0.4320\n",
      "    Batch 1100/3960: loss=2.6632, acc=0.4314\n",
      "    Batch 1200/3960: loss=2.6687, acc=0.4304\n",
      "    Batch 1300/3960: loss=2.6798, acc=0.4270\n",
      "    Batch 1400/3960: loss=2.6865, acc=0.4255\n",
      "    Batch 1500/3960: loss=2.6908, acc=0.4249\n",
      "    Batch 1600/3960: loss=2.6910, acc=0.4262\n",
      "    Batch 1700/3960: loss=2.6888, acc=0.4265\n",
      "    Batch 1800/3960: loss=2.6851, acc=0.4278\n",
      "    Batch 1900/3960: loss=2.6806, acc=0.4301\n",
      "    Batch 2000/3960: loss=2.6814, acc=0.4311\n",
      "    Batch 2100/3960: loss=2.6802, acc=0.4322\n",
      "    Batch 2200/3960: loss=2.6797, acc=0.4292\n",
      "    Batch 2300/3960: loss=2.6799, acc=0.4295\n",
      "    Batch 2400/3960: loss=2.6749, acc=0.4305\n",
      "    Batch 2500/3960: loss=2.6773, acc=0.4299\n",
      "    Batch 2600/3960: loss=2.6772, acc=0.4301\n",
      "    Batch 2700/3960: loss=2.6768, acc=0.4302\n",
      "    Batch 2800/3960: loss=2.6773, acc=0.4299\n",
      "    Batch 2900/3960: loss=2.6770, acc=0.4304\n",
      "    Batch 3000/3960: loss=2.6771, acc=0.4306\n",
      "    Batch 3100/3960: loss=2.6765, acc=0.4315\n",
      "    Batch 3200/3960: loss=2.6777, acc=0.4309\n",
      "    Batch 3300/3960: loss=2.6790, acc=0.4303\n",
      "    Batch 3400/3960: loss=2.6779, acc=0.4305\n",
      "    Batch 3500/3960: loss=2.6782, acc=0.4297\n",
      "    Batch 3600/3960: loss=2.6803, acc=0.4297\n",
      "    Batch 3700/3960: loss=2.6812, acc=0.4302\n",
      "    Batch 3800/3960: loss=2.6825, acc=0.4294\n",
      "    Batch 3900/3960: loss=2.6840, acc=0.4292\n",
      "Epoch 49 Train Loss: 2.6842 Acc: 0.4289 LR: 0.001360\n",
      ">>> Training epoch 49 completed <<<\n",
      "  Starting validation...\n"
     ]
    },
    {
     "data": {
      "application/vnd.jupyter.widget-view+json": {
       "model_id": "2dbcff038b8d4634bcb9aec3454917f7",
       "version_major": 2,
       "version_minor": 0
      },
      "text/plain": [
       "Validation (raw):   0%|          | 0/157 [00:00<?, ?it/s]"
      ]
     },
     "metadata": {},
     "output_type": "display_data"
    },
    {
     "name": "stdout",
     "output_type": "stream",
     "text": [
      "Validation Acc (raw): 0.7776\n"
     ]
    },
    {
     "data": {
      "application/vnd.jupyter.widget-view+json": {
       "model_id": "0ef0f0b6427c44af9cff93115b83fb02",
       "version_major": 2,
       "version_minor": 0
      },
      "text/plain": [
       "Validation (ema):   0%|          | 0/157 [00:00<?, ?it/s]"
      ]
     },
     "metadata": {},
     "output_type": "display_data"
    },
    {
     "name": "stdout",
     "output_type": "stream",
     "text": [
      "Validation Acc (ema): 0.5224\n",
      ">>> Validation completed <<<\n",
      "Epoch time: 36.85 mins\n",
      "\n",
      ">>> Starting Epoch 50/120 <<<\n",
      "  [DEBUG] Entered train_one_epoch function\n",
      "  [DEBUG] Set model to train mode\n",
      "  [DEBUG] Imported tqdm\n",
      "  Training epoch 50...\n",
      "  Loading first batch (this may take 10-30 seconds)...\n",
      "  [DEBUG] About to create iterator from train_loader...\n",
      "  [DEBUG] Calling iter(train_loader)...\n",
      "  [DEBUG] Iterator created successfully!\n",
      "  [DEBUG] Calling next(train_iter)...\n",
      "  ✓ First batch loaded! Shape: torch.Size([32, 3, 224, 224]), Labels: torch.Size([32])\n",
      "  Batch size actual: 32, Expected: 32\n"
     ]
    },
    {
     "data": {
      "application/vnd.jupyter.widget-view+json": {
       "model_id": "c22413ba7854458daf49788b8770b855",
       "version_major": 2,
       "version_minor": 0
      },
      "text/plain": [
       "Epoch 50/120:   0%|                                                        | 0/3960 [00:00<?, ?it/s]"
      ]
     },
     "metadata": {},
     "output_type": "display_data"
    },
    {
     "name": "stdout",
     "output_type": "stream",
     "text": [
      "    Batch 100/3960: loss=2.6192, acc=0.4511\n",
      "    Batch 200/3960: loss=2.6593, acc=0.4414\n",
      "    Batch 300/3960: loss=2.6304, acc=0.4349\n",
      "    Batch 400/3960: loss=2.6251, acc=0.4332\n",
      "    Batch 500/3960: loss=2.6482, acc=0.4260\n",
      "    Batch 600/3960: loss=2.6516, acc=0.4235\n",
      "    Batch 700/3960: loss=2.6580, acc=0.4217\n",
      "    Batch 800/3960: loss=2.6411, acc=0.4251\n",
      "    Batch 900/3960: loss=2.6444, acc=0.4257\n",
      "    Batch 1000/3960: loss=2.6501, acc=0.4271\n",
      "    Batch 1100/3960: loss=2.6461, acc=0.4284\n",
      "    Batch 1200/3960: loss=2.6447, acc=0.4313\n",
      "    Batch 1300/3960: loss=2.6465, acc=0.4327\n",
      "    Batch 1400/3960: loss=2.6473, acc=0.4331\n",
      "    Batch 1500/3960: loss=2.6457, acc=0.4305\n",
      "    Batch 1600/3960: loss=2.6429, acc=0.4328\n",
      "    Batch 1700/3960: loss=2.6473, acc=0.4297\n",
      "    Batch 1800/3960: loss=2.6448, acc=0.4310\n",
      "    Batch 1900/3960: loss=2.6374, acc=0.4333\n",
      "    Batch 2000/3960: loss=2.6384, acc=0.4330\n",
      "    Batch 2100/3960: loss=2.6386, acc=0.4334\n",
      "    Batch 2200/3960: loss=2.6432, acc=0.4313\n",
      "    Batch 2300/3960: loss=2.6457, acc=0.4304\n",
      "    Batch 2400/3960: loss=2.6427, acc=0.4313\n",
      "    Batch 2500/3960: loss=2.6450, acc=0.4303\n",
      "    Batch 2600/3960: loss=2.6482, acc=0.4295\n",
      "    Batch 2700/3960: loss=2.6523, acc=0.4288\n",
      "    Batch 2800/3960: loss=2.6485, acc=0.4291\n",
      "    Batch 2900/3960: loss=2.6506, acc=0.4285\n",
      "    Batch 3000/3960: loss=2.6539, acc=0.4279\n",
      "    Batch 3100/3960: loss=2.6526, acc=0.4275\n",
      "    Batch 3200/3960: loss=2.6509, acc=0.4270\n",
      "    Batch 3300/3960: loss=2.6496, acc=0.4277\n",
      "    Batch 3400/3960: loss=2.6485, acc=0.4286\n",
      "    Batch 3500/3960: loss=2.6513, acc=0.4275\n",
      "    Batch 3600/3960: loss=2.6510, acc=0.4277\n",
      "    Batch 3700/3960: loss=2.6522, acc=0.4277\n",
      "    Batch 3800/3960: loss=2.6508, acc=0.4286\n",
      "    Batch 3900/3960: loss=2.6487, acc=0.4296\n",
      "Epoch 50 Train Loss: 2.6485 Acc: 0.4305 LR: 0.001335\n",
      ">>> Training epoch 50 completed <<<\n",
      "  Starting validation...\n"
     ]
    },
    {
     "data": {
      "application/vnd.jupyter.widget-view+json": {
       "model_id": "0810506d198248ef91ef3f17a78ce067",
       "version_major": 2,
       "version_minor": 0
      },
      "text/plain": [
       "Validation (raw):   0%|          | 0/157 [00:00<?, ?it/s]"
      ]
     },
     "metadata": {},
     "output_type": "display_data"
    },
    {
     "name": "stdout",
     "output_type": "stream",
     "text": [
      "Validation Acc (raw): 0.7828\n"
     ]
    },
    {
     "data": {
      "application/vnd.jupyter.widget-view+json": {
       "model_id": "d2c1e3b739504076949ecd195855f910",
       "version_major": 2,
       "version_minor": 0
      },
      "text/plain": [
       "Validation (ema):   0%|          | 0/157 [00:00<?, ?it/s]"
      ]
     },
     "metadata": {},
     "output_type": "display_data"
    },
    {
     "name": "stdout",
     "output_type": "stream",
     "text": [
      "Validation Acc (ema): 0.5204\n",
      ">>> Validation completed <<<\n",
      "Epoch time: 32.90 mins\n",
      "Saved checkpoint\n",
      "\n",
      ">>> Starting Epoch 51/120 <<<\n",
      "  [DEBUG] Entered train_one_epoch function\n",
      "  [DEBUG] Set model to train mode\n",
      "  [DEBUG] Imported tqdm\n",
      "  Training epoch 51...\n",
      "  Loading first batch (this may take 10-30 seconds)...\n",
      "  [DEBUG] About to create iterator from train_loader...\n",
      "  [DEBUG] Calling iter(train_loader)...\n",
      "  [DEBUG] Iterator created successfully!\n",
      "  [DEBUG] Calling next(train_iter)...\n",
      "  ✓ First batch loaded! Shape: torch.Size([32, 3, 224, 224]), Labels: torch.Size([32])\n",
      "  Batch size actual: 32, Expected: 32\n"
     ]
    },
    {
     "data": {
      "application/vnd.jupyter.widget-view+json": {
       "model_id": "9c2b69d5c6c1407fa081fc0f1db4a400",
       "version_major": 2,
       "version_minor": 0
      },
      "text/plain": [
       "Epoch 51/120:   0%|                                                        | 0/3960 [00:00<?, ?it/s]"
      ]
     },
     "metadata": {},
     "output_type": "display_data"
    },
    {
     "name": "stdout",
     "output_type": "stream",
     "text": [
      "    Batch 100/3960: loss=2.6638, acc=0.4672\n",
      "    Batch 200/3960: loss=2.6290, acc=0.4540\n",
      "    Batch 300/3960: loss=2.6356, acc=0.4471\n",
      "    Batch 400/3960: loss=2.6552, acc=0.4384\n",
      "    Batch 500/3960: loss=2.6508, acc=0.4336\n",
      "    Batch 600/3960: loss=2.6562, acc=0.4305\n",
      "    Batch 700/3960: loss=2.6591, acc=0.4364\n",
      "    Batch 800/3960: loss=2.6651, acc=0.4406\n",
      "    Batch 900/3960: loss=2.6568, acc=0.4393\n",
      "    Batch 1000/3960: loss=2.6576, acc=0.4409\n",
      "    Batch 1100/3960: loss=2.6533, acc=0.4412\n",
      "    Batch 1200/3960: loss=2.6563, acc=0.4358\n",
      "    Batch 1300/3960: loss=2.6538, acc=0.4352\n",
      "    Batch 1400/3960: loss=2.6573, acc=0.4348\n",
      "    Batch 1500/3960: loss=2.6515, acc=0.4359\n",
      "    Batch 1600/3960: loss=2.6503, acc=0.4340\n",
      "    Batch 1700/3960: loss=2.6555, acc=0.4329\n",
      "    Batch 1800/3960: loss=2.6542, acc=0.4325\n",
      "    Batch 1900/3960: loss=2.6518, acc=0.4340\n",
      "    Batch 2000/3960: loss=2.6550, acc=0.4332\n",
      "    Batch 2100/3960: loss=2.6536, acc=0.4323\n",
      "    Batch 2200/3960: loss=2.6507, acc=0.4336\n",
      "    Batch 2300/3960: loss=2.6486, acc=0.4349\n",
      "    Batch 2400/3960: loss=2.6518, acc=0.4340\n",
      "    Batch 2500/3960: loss=2.6518, acc=0.4337\n",
      "    Batch 2600/3960: loss=2.6506, acc=0.4325\n",
      "    Batch 2700/3960: loss=2.6521, acc=0.4334\n",
      "    Batch 2800/3960: loss=2.6550, acc=0.4333\n",
      "    Batch 2900/3960: loss=2.6577, acc=0.4324\n",
      "    Batch 3000/3960: loss=2.6592, acc=0.4332\n",
      "    Batch 3100/3960: loss=2.6634, acc=0.4332\n",
      "    Batch 3200/3960: loss=2.6625, acc=0.4332\n",
      "    Batch 3300/3960: loss=2.6626, acc=0.4322\n",
      "    Batch 3400/3960: loss=2.6621, acc=0.4335\n",
      "    Batch 3500/3960: loss=2.6626, acc=0.4340\n",
      "    Batch 3600/3960: loss=2.6638, acc=0.4342\n",
      "    Batch 3700/3960: loss=2.6640, acc=0.4342\n",
      "    Batch 3800/3960: loss=2.6641, acc=0.4338\n",
      "    Batch 3900/3960: loss=2.6655, acc=0.4335\n",
      "Epoch 51 Train Loss: 2.6686 Acc: 0.4330 LR: 0.001309\n",
      ">>> Training epoch 51 completed <<<\n",
      "  Starting validation...\n"
     ]
    },
    {
     "data": {
      "application/vnd.jupyter.widget-view+json": {
       "model_id": "70adecf749004e9db85b6c46a43b7b2f",
       "version_major": 2,
       "version_minor": 0
      },
      "text/plain": [
       "Validation (raw):   0%|          | 0/157 [00:00<?, ?it/s]"
      ]
     },
     "metadata": {},
     "output_type": "display_data"
    },
    {
     "name": "stdout",
     "output_type": "stream",
     "text": [
      "Validation Acc (raw): 0.7728\n"
     ]
    },
    {
     "data": {
      "application/vnd.jupyter.widget-view+json": {
       "model_id": "12a6faafd9604fd3b1948b595cf87fea",
       "version_major": 2,
       "version_minor": 0
      },
      "text/plain": [
       "Validation (ema):   0%|          | 0/157 [00:00<?, ?it/s]"
      ]
     },
     "metadata": {},
     "output_type": "display_data"
    },
    {
     "name": "stdout",
     "output_type": "stream",
     "text": [
      "Validation Acc (ema): 0.5170\n",
      ">>> Validation completed <<<\n",
      "Epoch time: 39.41 mins\n",
      "\n",
      ">>> Starting Epoch 52/120 <<<\n",
      "  [DEBUG] Entered train_one_epoch function\n",
      "  [DEBUG] Set model to train mode\n",
      "  [DEBUG] Imported tqdm\n",
      "  Training epoch 52...\n",
      "  Loading first batch (this may take 10-30 seconds)...\n",
      "  [DEBUG] About to create iterator from train_loader...\n",
      "  [DEBUG] Calling iter(train_loader)...\n",
      "  [DEBUG] Iterator created successfully!\n",
      "  [DEBUG] Calling next(train_iter)...\n",
      "  ✓ First batch loaded! Shape: torch.Size([32, 3, 224, 224]), Labels: torch.Size([32])\n",
      "  Batch size actual: 32, Expected: 32\n"
     ]
    },
    {
     "data": {
      "application/vnd.jupyter.widget-view+json": {
       "model_id": "6f394cc331a3413c9ba5aebc6860c056",
       "version_major": 2,
       "version_minor": 0
      },
      "text/plain": [
       "Epoch 52/120:   0%|                                                        | 0/3960 [00:00<?, ?it/s]"
      ]
     },
     "metadata": {},
     "output_type": "display_data"
    },
    {
     "name": "stdout",
     "output_type": "stream",
     "text": [
      "    Batch 100/3960: loss=2.6825, acc=0.4613\n",
      "    Batch 200/3960: loss=2.6686, acc=0.4445\n",
      "    Batch 300/3960: loss=2.7046, acc=0.4433\n",
      "    Batch 400/3960: loss=2.6932, acc=0.4416\n",
      "    Batch 500/3960: loss=2.6794, acc=0.4467\n",
      "    Batch 600/3960: loss=2.6539, acc=0.4504\n",
      "    Batch 700/3960: loss=2.6439, acc=0.4494\n",
      "    Batch 800/3960: loss=2.6458, acc=0.4498\n",
      "    Batch 900/3960: loss=2.6304, acc=0.4492\n",
      "    Batch 1000/3960: loss=2.6359, acc=0.4472\n",
      "    Batch 1100/3960: loss=2.6365, acc=0.4447\n",
      "    Batch 1200/3960: loss=2.6328, acc=0.4460\n",
      "    Batch 1300/3960: loss=2.6303, acc=0.4467\n",
      "    Batch 1400/3960: loss=2.6335, acc=0.4436\n",
      "    Batch 1500/3960: loss=2.6297, acc=0.4471\n",
      "    Batch 1600/3960: loss=2.6351, acc=0.4461\n",
      "    Batch 1700/3960: loss=2.6323, acc=0.4467\n",
      "    Batch 1800/3960: loss=2.6379, acc=0.4456\n",
      "    Batch 1900/3960: loss=2.6396, acc=0.4450\n",
      "    Batch 2000/3960: loss=2.6437, acc=0.4452\n",
      "    Batch 2100/3960: loss=2.6410, acc=0.4441\n",
      "    Batch 2200/3960: loss=2.6458, acc=0.4430\n",
      "    Batch 2300/3960: loss=2.6446, acc=0.4439\n",
      "    Batch 2400/3960: loss=2.6442, acc=0.4439\n",
      "    Batch 2500/3960: loss=2.6447, acc=0.4434\n",
      "    Batch 2600/3960: loss=2.6469, acc=0.4421\n",
      "    Batch 2700/3960: loss=2.6459, acc=0.4425\n",
      "    Batch 2800/3960: loss=2.6458, acc=0.4429\n",
      "    Batch 2900/3960: loss=2.6456, acc=0.4422\n",
      "    Batch 3000/3960: loss=2.6437, acc=0.4428\n",
      "    Batch 3100/3960: loss=2.6438, acc=0.4428\n",
      "    Batch 3200/3960: loss=2.6409, acc=0.4434\n",
      "    Batch 3300/3960: loss=2.6392, acc=0.4433\n",
      "    Batch 3400/3960: loss=2.6365, acc=0.4444\n",
      "    Batch 3500/3960: loss=2.6373, acc=0.4435\n",
      "    Batch 3600/3960: loss=2.6360, acc=0.4439\n",
      "    Batch 3700/3960: loss=2.6365, acc=0.4441\n",
      "    Batch 3800/3960: loss=2.6392, acc=0.4436\n",
      "    Batch 3900/3960: loss=2.6378, acc=0.4435\n",
      "Epoch 52 Train Loss: 2.6368 Acc: 0.4440 LR: 0.001283\n",
      ">>> Training epoch 52 completed <<<\n",
      "  Starting validation...\n"
     ]
    },
    {
     "data": {
      "application/vnd.jupyter.widget-view+json": {
       "model_id": "ad2a7c246e4b4d539b86bd724388a7d9",
       "version_major": 2,
       "version_minor": 0
      },
      "text/plain": [
       "Validation (raw):   0%|          | 0/157 [00:00<?, ?it/s]"
      ]
     },
     "metadata": {},
     "output_type": "display_data"
    },
    {
     "name": "stdout",
     "output_type": "stream",
     "text": [
      "Validation Acc (raw): 0.7832\n"
     ]
    },
    {
     "data": {
      "application/vnd.jupyter.widget-view+json": {
       "model_id": "1277eca800e0446aaf4e11d141fe9961",
       "version_major": 2,
       "version_minor": 0
      },
      "text/plain": [
       "Validation (ema):   0%|          | 0/157 [00:00<?, ?it/s]"
      ]
     },
     "metadata": {},
     "output_type": "display_data"
    },
    {
     "name": "stdout",
     "output_type": "stream",
     "text": [
      "Validation Acc (ema): 0.5148\n",
      ">>> Validation completed <<<\n",
      "Epoch time: 35.31 mins\n",
      "\n",
      ">>> Starting Epoch 53/120 <<<\n",
      "  [DEBUG] Entered train_one_epoch function\n",
      "  [DEBUG] Set model to train mode\n",
      "  [DEBUG] Imported tqdm\n",
      "  Training epoch 53...\n",
      "  Loading first batch (this may take 10-30 seconds)...\n",
      "  [DEBUG] About to create iterator from train_loader...\n",
      "  [DEBUG] Calling iter(train_loader)...\n",
      "  [DEBUG] Iterator created successfully!\n",
      "  [DEBUG] Calling next(train_iter)...\n",
      "  ✓ First batch loaded! Shape: torch.Size([32, 3, 224, 224]), Labels: torch.Size([32])\n",
      "  Batch size actual: 32, Expected: 32\n"
     ]
    },
    {
     "data": {
      "application/vnd.jupyter.widget-view+json": {
       "model_id": "7401baeee83849748cfd2b13f1b857d5",
       "version_major": 2,
       "version_minor": 0
      },
      "text/plain": [
       "Epoch 53/120:   0%|                                                        | 0/3960 [00:00<?, ?it/s]"
      ]
     },
     "metadata": {},
     "output_type": "display_data"
    },
    {
     "name": "stdout",
     "output_type": "stream",
     "text": [
      "    Batch 100/3960: loss=2.6498, acc=0.4127\n",
      "    Batch 200/3960: loss=2.6798, acc=0.4052\n",
      "    Batch 300/3960: loss=2.6640, acc=0.4259\n",
      "    Batch 400/3960: loss=2.6578, acc=0.4320\n",
      "    Batch 500/3960: loss=2.6714, acc=0.4249\n",
      "    Batch 600/3960: loss=2.6706, acc=0.4273\n",
      "    Batch 700/3960: loss=2.6856, acc=0.4298\n",
      "    Batch 800/3960: loss=2.6873, acc=0.4310\n",
      "    Batch 900/3960: loss=2.6860, acc=0.4278\n",
      "    Batch 1000/3960: loss=2.6896, acc=0.4286\n",
      "    Batch 1100/3960: loss=2.6830, acc=0.4305\n",
      "    Batch 1200/3960: loss=2.6818, acc=0.4290\n",
      "    Batch 1300/3960: loss=2.6671, acc=0.4328\n",
      "    Batch 1400/3960: loss=2.6625, acc=0.4354\n",
      "    Batch 1500/3960: loss=2.6675, acc=0.4345\n",
      "    Batch 1600/3960: loss=2.6713, acc=0.4332\n",
      "    Batch 1700/3960: loss=2.6713, acc=0.4333\n",
      "    Batch 1800/3960: loss=2.6675, acc=0.4339\n",
      "    Batch 1900/3960: loss=2.6669, acc=0.4351\n",
      "    Batch 2000/3960: loss=2.6700, acc=0.4363\n",
      "    Batch 2100/3960: loss=2.6631, acc=0.4374\n",
      "    Batch 2200/3960: loss=2.6604, acc=0.4388\n",
      "    Batch 2300/3960: loss=2.6607, acc=0.4380\n",
      "    Batch 2400/3960: loss=2.6623, acc=0.4370\n",
      "    Batch 2500/3960: loss=2.6608, acc=0.4371\n",
      "    Batch 2600/3960: loss=2.6616, acc=0.4370\n",
      "    Batch 2700/3960: loss=2.6640, acc=0.4359\n",
      "    Batch 2800/3960: loss=2.6661, acc=0.4357\n",
      "    Batch 2900/3960: loss=2.6640, acc=0.4359\n",
      "    Batch 3000/3960: loss=2.6598, acc=0.4366\n",
      "    Batch 3100/3960: loss=2.6585, acc=0.4375\n",
      "    Batch 3200/3960: loss=2.6596, acc=0.4378\n",
      "    Batch 3300/3960: loss=2.6593, acc=0.4377\n",
      "    Batch 3400/3960: loss=2.6567, acc=0.4373\n",
      "    Batch 3500/3960: loss=2.6564, acc=0.4376\n",
      "    Batch 3600/3960: loss=2.6565, acc=0.4363\n",
      "    Batch 3700/3960: loss=2.6584, acc=0.4360\n",
      "    Batch 3800/3960: loss=2.6582, acc=0.4363\n",
      "    Batch 3900/3960: loss=2.6588, acc=0.4351\n",
      "Epoch 53 Train Loss: 2.6590 Acc: 0.4348 LR: 0.001257\n",
      ">>> Training epoch 53 completed <<<\n",
      "  Starting validation...\n"
     ]
    },
    {
     "data": {
      "application/vnd.jupyter.widget-view+json": {
       "model_id": "226b659b1e95433f956f7cbd1a2d7828",
       "version_major": 2,
       "version_minor": 0
      },
      "text/plain": [
       "Validation (raw):   0%|          | 0/157 [00:00<?, ?it/s]"
      ]
     },
     "metadata": {},
     "output_type": "display_data"
    },
    {
     "name": "stdout",
     "output_type": "stream",
     "text": [
      "Validation Acc (raw): 0.7856\n"
     ]
    },
    {
     "data": {
      "application/vnd.jupyter.widget-view+json": {
       "model_id": "97124e36260b4ab786f363273ab3f6ec",
       "version_major": 2,
       "version_minor": 0
      },
      "text/plain": [
       "Validation (ema):   0%|          | 0/157 [00:00<?, ?it/s]"
      ]
     },
     "metadata": {},
     "output_type": "display_data"
    },
    {
     "name": "stdout",
     "output_type": "stream",
     "text": [
      "Validation Acc (ema): 0.5106\n",
      ">>> Validation completed <<<\n",
      "Epoch time: 26.28 mins\n",
      "\n",
      ">>> Starting Epoch 54/120 <<<\n",
      "  [DEBUG] Entered train_one_epoch function\n",
      "  [DEBUG] Set model to train mode\n",
      "  [DEBUG] Imported tqdm\n",
      "  Training epoch 54...\n",
      "  Loading first batch (this may take 10-30 seconds)...\n",
      "  [DEBUG] About to create iterator from train_loader...\n",
      "  [DEBUG] Calling iter(train_loader)...\n",
      "  [DEBUG] Iterator created successfully!\n",
      "  [DEBUG] Calling next(train_iter)...\n",
      "  ✓ First batch loaded! Shape: torch.Size([32, 3, 224, 224]), Labels: torch.Size([32])\n",
      "  Batch size actual: 32, Expected: 32\n"
     ]
    },
    {
     "data": {
      "application/vnd.jupyter.widget-view+json": {
       "model_id": "edb1c19b46ef4fa68eaf0e1f88402831",
       "version_major": 2,
       "version_minor": 0
      },
      "text/plain": [
       "Epoch 54/120:   0%|                                                        | 0/3960 [00:00<?, ?it/s]"
      ]
     },
     "metadata": {},
     "output_type": "display_data"
    },
    {
     "name": "stdout",
     "output_type": "stream",
     "text": [
      "    Batch 100/3960: loss=2.6241, acc=0.4180\n",
      "    Batch 200/3960: loss=2.6245, acc=0.4209\n",
      "    Batch 300/3960: loss=2.6189, acc=0.4218\n",
      "    Batch 400/3960: loss=2.6138, acc=0.4256\n",
      "    Batch 500/3960: loss=2.6235, acc=0.4346\n",
      "    Batch 600/3960: loss=2.6192, acc=0.4418\n",
      "    Batch 700/3960: loss=2.6224, acc=0.4443\n",
      "    Batch 800/3960: loss=2.6417, acc=0.4426\n",
      "    Batch 900/3960: loss=2.6373, acc=0.4425\n",
      "    Batch 1000/3960: loss=2.6313, acc=0.4419\n",
      "    Batch 1100/3960: loss=2.6297, acc=0.4392\n",
      "    Batch 1200/3960: loss=2.6288, acc=0.4403\n",
      "    Batch 1300/3960: loss=2.6347, acc=0.4384\n",
      "    Batch 1400/3960: loss=2.6413, acc=0.4361\n",
      "    Batch 1500/3960: loss=2.6403, acc=0.4378\n",
      "    Batch 1600/3960: loss=2.6357, acc=0.4390\n",
      "    Batch 1700/3960: loss=2.6293, acc=0.4430\n",
      "    Batch 1800/3960: loss=2.6289, acc=0.4433\n",
      "    Batch 1900/3960: loss=2.6247, acc=0.4446\n",
      "    Batch 2000/3960: loss=2.6172, acc=0.4464\n",
      "    Batch 2100/3960: loss=2.6142, acc=0.4459\n",
      "    Batch 2200/3960: loss=2.6121, acc=0.4476\n",
      "    Batch 2300/3960: loss=2.6146, acc=0.4470\n",
      "    Batch 2400/3960: loss=2.6167, acc=0.4457\n",
      "    Batch 2500/3960: loss=2.6226, acc=0.4450\n",
      "    Batch 2600/3960: loss=2.6267, acc=0.4440\n",
      "    Batch 2700/3960: loss=2.6249, acc=0.4447\n",
      "    Batch 2800/3960: loss=2.6260, acc=0.4445\n",
      "    Batch 2900/3960: loss=2.6264, acc=0.4452\n",
      "    Batch 3000/3960: loss=2.6270, acc=0.4454\n",
      "    Batch 3100/3960: loss=2.6279, acc=0.4447\n",
      "    Batch 3200/3960: loss=2.6269, acc=0.4438\n",
      "    Batch 3300/3960: loss=2.6285, acc=0.4428\n",
      "    Batch 3400/3960: loss=2.6291, acc=0.4440\n",
      "    Batch 3500/3960: loss=2.6274, acc=0.4433\n",
      "    Batch 3600/3960: loss=2.6284, acc=0.4436\n",
      "    Batch 3700/3960: loss=2.6297, acc=0.4434\n",
      "    Batch 3800/3960: loss=2.6270, acc=0.4442\n",
      "    Batch 3900/3960: loss=2.6256, acc=0.4443\n",
      "Epoch 54 Train Loss: 2.6277 Acc: 0.4431 LR: 0.001230\n",
      ">>> Training epoch 54 completed <<<\n",
      "  Starting validation...\n"
     ]
    },
    {
     "data": {
      "application/vnd.jupyter.widget-view+json": {
       "model_id": "7e91704e7971429fba8613d514afb187",
       "version_major": 2,
       "version_minor": 0
      },
      "text/plain": [
       "Validation (raw):   0%|          | 0/157 [00:00<?, ?it/s]"
      ]
     },
     "metadata": {},
     "output_type": "display_data"
    },
    {
     "name": "stdout",
     "output_type": "stream",
     "text": [
      "Validation Acc (raw): 0.7864\n"
     ]
    },
    {
     "data": {
      "application/vnd.jupyter.widget-view+json": {
       "model_id": "917f1430aed24c8bb02cf2a4071b4066",
       "version_major": 2,
       "version_minor": 0
      },
      "text/plain": [
       "Validation (ema):   0%|          | 0/157 [00:00<?, ?it/s]"
      ]
     },
     "metadata": {},
     "output_type": "display_data"
    },
    {
     "name": "stdout",
     "output_type": "stream",
     "text": [
      "Validation Acc (ema): 0.5048\n",
      ">>> Validation completed <<<\n",
      "Epoch time: 26.86 mins\n",
      "\n",
      ">>> Starting Epoch 55/120 <<<\n",
      "  [DEBUG] Entered train_one_epoch function\n",
      "  [DEBUG] Set model to train mode\n",
      "  [DEBUG] Imported tqdm\n",
      "  Training epoch 55...\n",
      "  Loading first batch (this may take 10-30 seconds)...\n",
      "  [DEBUG] About to create iterator from train_loader...\n",
      "  [DEBUG] Calling iter(train_loader)...\n",
      "  [DEBUG] Iterator created successfully!\n",
      "  [DEBUG] Calling next(train_iter)...\n",
      "  ✓ First batch loaded! Shape: torch.Size([32, 3, 224, 224]), Labels: torch.Size([32])\n",
      "  Batch size actual: 32, Expected: 32\n"
     ]
    },
    {
     "data": {
      "application/vnd.jupyter.widget-view+json": {
       "model_id": "666097d93acc4f11a078c95607a2283b",
       "version_major": 2,
       "version_minor": 0
      },
      "text/plain": [
       "Epoch 55/120:   0%|                                                        | 0/3960 [00:00<?, ?it/s]"
      ]
     },
     "metadata": {},
     "output_type": "display_data"
    },
    {
     "name": "stdout",
     "output_type": "stream",
     "text": [
      "    Batch 100/3960: loss=2.6635, acc=0.3976\n",
      "    Batch 200/3960: loss=2.6444, acc=0.4153\n",
      "    Batch 300/3960: loss=2.6775, acc=0.4215\n",
      "    Batch 400/3960: loss=2.6482, acc=0.4200\n",
      "    Batch 500/3960: loss=2.6371, acc=0.4204\n",
      "    Batch 600/3960: loss=2.6255, acc=0.4244\n",
      "    Batch 700/3960: loss=2.6251, acc=0.4289\n",
      "    Batch 800/3960: loss=2.6290, acc=0.4328\n",
      "    Batch 900/3960: loss=2.6337, acc=0.4315\n",
      "    Batch 1000/3960: loss=2.6301, acc=0.4356\n",
      "    Batch 1100/3960: loss=2.6340, acc=0.4326\n",
      "    Batch 1200/3960: loss=2.6322, acc=0.4335\n",
      "    Batch 1300/3960: loss=2.6265, acc=0.4356\n",
      "    Batch 1400/3960: loss=2.6292, acc=0.4352\n",
      "    Batch 1500/3960: loss=2.6224, acc=0.4371\n",
      "    Batch 1600/3960: loss=2.6241, acc=0.4392\n",
      "    Batch 1700/3960: loss=2.6181, acc=0.4442\n",
      "    Batch 1800/3960: loss=2.6219, acc=0.4433\n",
      "    Batch 1900/3960: loss=2.6309, acc=0.4417\n",
      "    Batch 2000/3960: loss=2.6274, acc=0.4400\n",
      "    Batch 2100/3960: loss=2.6232, acc=0.4414\n",
      "    Batch 2200/3960: loss=2.6265, acc=0.4406\n",
      "    Batch 2300/3960: loss=2.6256, acc=0.4401\n",
      "    Batch 2400/3960: loss=2.6240, acc=0.4389\n",
      "    Batch 2500/3960: loss=2.6280, acc=0.4368\n",
      "    Batch 2600/3960: loss=2.6283, acc=0.4371\n",
      "    Batch 2700/3960: loss=2.6286, acc=0.4377\n",
      "    Batch 2800/3960: loss=2.6283, acc=0.4380\n",
      "    Batch 2900/3960: loss=2.6251, acc=0.4383\n",
      "    Batch 3000/3960: loss=2.6231, acc=0.4389\n",
      "    Batch 3100/3960: loss=2.6196, acc=0.4394\n",
      "    Batch 3200/3960: loss=2.6243, acc=0.4381\n",
      "    Batch 3300/3960: loss=2.6230, acc=0.4391\n",
      "    Batch 3400/3960: loss=2.6240, acc=0.4377\n",
      "    Batch 3500/3960: loss=2.6231, acc=0.4386\n",
      "    Batch 3600/3960: loss=2.6208, acc=0.4386\n",
      "    Batch 3700/3960: loss=2.6206, acc=0.4399\n",
      "    Batch 3800/3960: loss=2.6198, acc=0.4399\n",
      "    Batch 3900/3960: loss=2.6225, acc=0.4396\n",
      "Epoch 55 Train Loss: 2.6230 Acc: 0.4391 LR: 0.001203\n",
      ">>> Training epoch 55 completed <<<\n",
      "  Starting validation...\n"
     ]
    },
    {
     "data": {
      "application/vnd.jupyter.widget-view+json": {
       "model_id": "caf9b9b5c30744b18bd421499345da60",
       "version_major": 2,
       "version_minor": 0
      },
      "text/plain": [
       "Validation (raw):   0%|          | 0/157 [00:00<?, ?it/s]"
      ]
     },
     "metadata": {},
     "output_type": "display_data"
    },
    {
     "name": "stdout",
     "output_type": "stream",
     "text": [
      "Validation Acc (raw): 0.7874\n"
     ]
    },
    {
     "data": {
      "application/vnd.jupyter.widget-view+json": {
       "model_id": "0ddc7830811c4da9b48c8de917e1c5ba",
       "version_major": 2,
       "version_minor": 0
      },
      "text/plain": [
       "Validation (ema):   0%|          | 0/157 [00:00<?, ?it/s]"
      ]
     },
     "metadata": {},
     "output_type": "display_data"
    },
    {
     "name": "stdout",
     "output_type": "stream",
     "text": [
      "Validation Acc (ema): 0.5012\n",
      ">>> Validation completed <<<\n",
      "Epoch time: 28.92 mins\n",
      "Saved checkpoint\n",
      "\n",
      ">>> Starting Epoch 56/120 <<<\n",
      "  [DEBUG] Entered train_one_epoch function\n",
      "  [DEBUG] Set model to train mode\n",
      "  [DEBUG] Imported tqdm\n",
      "  Training epoch 56...\n",
      "  Loading first batch (this may take 10-30 seconds)...\n",
      "  [DEBUG] About to create iterator from train_loader...\n",
      "  [DEBUG] Calling iter(train_loader)...\n",
      "  [DEBUG] Iterator created successfully!\n",
      "  [DEBUG] Calling next(train_iter)...\n",
      "  ✓ First batch loaded! Shape: torch.Size([32, 3, 224, 224]), Labels: torch.Size([32])\n",
      "  Batch size actual: 32, Expected: 32\n"
     ]
    },
    {
     "data": {
      "application/vnd.jupyter.widget-view+json": {
       "model_id": "8d39760500134010b6437bcb0dc00edb",
       "version_major": 2,
       "version_minor": 0
      },
      "text/plain": [
       "Epoch 56/120:   0%|                                                        | 0/3960 [00:00<?, ?it/s]"
      ]
     },
     "metadata": {},
     "output_type": "display_data"
    },
    {
     "name": "stdout",
     "output_type": "stream",
     "text": [
      "    Batch 100/3960: loss=2.6370, acc=0.4115\n",
      "    Batch 200/3960: loss=2.6080, acc=0.4285\n",
      "    Batch 300/3960: loss=2.6049, acc=0.4385\n",
      "    Batch 400/3960: loss=2.5952, acc=0.4504\n",
      "    Batch 500/3960: loss=2.6078, acc=0.4537\n",
      "    Batch 600/3960: loss=2.5940, acc=0.4537\n",
      "    Batch 700/3960: loss=2.5857, acc=0.4595\n",
      "    Batch 800/3960: loss=2.5906, acc=0.4581\n",
      "    Batch 900/3960: loss=2.5956, acc=0.4567\n",
      "    Batch 1000/3960: loss=2.5984, acc=0.4582\n",
      "    Batch 1100/3960: loss=2.6003, acc=0.4586\n",
      "    Batch 1200/3960: loss=2.6001, acc=0.4572\n",
      "    Batch 1300/3960: loss=2.6060, acc=0.4578\n",
      "    Batch 1400/3960: loss=2.6146, acc=0.4566\n",
      "    Batch 1500/3960: loss=2.6089, acc=0.4535\n",
      "    Batch 1600/3960: loss=2.6095, acc=0.4522\n",
      "    Batch 1700/3960: loss=2.6150, acc=0.4498\n",
      "    Batch 1800/3960: loss=2.6130, acc=0.4494\n",
      "    Batch 1900/3960: loss=2.6127, acc=0.4490\n",
      "    Batch 2000/3960: loss=2.6133, acc=0.4499\n",
      "    Batch 2100/3960: loss=2.6105, acc=0.4500\n",
      "    Batch 2200/3960: loss=2.6078, acc=0.4496\n",
      "    Batch 2300/3960: loss=2.6081, acc=0.4500\n",
      "    Batch 2400/3960: loss=2.6063, acc=0.4490\n",
      "    Batch 2500/3960: loss=2.6032, acc=0.4497\n",
      "    Batch 2600/3960: loss=2.6037, acc=0.4482\n",
      "    Batch 2700/3960: loss=2.6049, acc=0.4482\n",
      "    Batch 2800/3960: loss=2.6023, acc=0.4481\n",
      "    Batch 2900/3960: loss=2.6025, acc=0.4482\n",
      "    Batch 3000/3960: loss=2.6023, acc=0.4484\n",
      "    Batch 3100/3960: loss=2.6028, acc=0.4472\n",
      "    Batch 3200/3960: loss=2.6029, acc=0.4482\n",
      "    Batch 3300/3960: loss=2.6053, acc=0.4481\n",
      "    Batch 3400/3960: loss=2.6032, acc=0.4492\n",
      "    Batch 3500/3960: loss=2.6039, acc=0.4499\n",
      "    Batch 3600/3960: loss=2.6036, acc=0.4495\n",
      "    Batch 3700/3960: loss=2.6062, acc=0.4494\n",
      "    Batch 3800/3960: loss=2.6081, acc=0.4495\n",
      "    Batch 3900/3960: loss=2.6096, acc=0.4497\n",
      "Epoch 56 Train Loss: 2.6105 Acc: 0.4504 LR: 0.001177\n",
      ">>> Training epoch 56 completed <<<\n",
      "  Starting validation...\n"
     ]
    },
    {
     "data": {
      "application/vnd.jupyter.widget-view+json": {
       "model_id": "0b8f9a002a74440fb001e34d235b210b",
       "version_major": 2,
       "version_minor": 0
      },
      "text/plain": [
       "Validation (raw):   0%|          | 0/157 [00:00<?, ?it/s]"
      ]
     },
     "metadata": {},
     "output_type": "display_data"
    },
    {
     "name": "stdout",
     "output_type": "stream",
     "text": [
      "Validation Acc (raw): 0.7904\n"
     ]
    },
    {
     "data": {
      "application/vnd.jupyter.widget-view+json": {
       "model_id": "add5e4c9b3e4427bbf9646e5525eb9d7",
       "version_major": 2,
       "version_minor": 0
      },
      "text/plain": [
       "Validation (ema):   0%|          | 0/157 [00:00<?, ?it/s]"
      ]
     },
     "metadata": {},
     "output_type": "display_data"
    },
    {
     "name": "stdout",
     "output_type": "stream",
     "text": [
      "Validation Acc (ema): 0.4946\n",
      ">>> Validation completed <<<\n",
      "Epoch time: 38.53 mins\n",
      "\n",
      ">>> Starting Epoch 57/120 <<<\n",
      "  [DEBUG] Entered train_one_epoch function\n",
      "  [DEBUG] Set model to train mode\n",
      "  [DEBUG] Imported tqdm\n",
      "  Training epoch 57...\n",
      "  Loading first batch (this may take 10-30 seconds)...\n",
      "  [DEBUG] About to create iterator from train_loader...\n",
      "  [DEBUG] Calling iter(train_loader)...\n",
      "  [DEBUG] Iterator created successfully!\n",
      "  [DEBUG] Calling next(train_iter)...\n",
      "  ✓ First batch loaded! Shape: torch.Size([32, 3, 224, 224]), Labels: torch.Size([32])\n",
      "  Batch size actual: 32, Expected: 32\n"
     ]
    },
    {
     "data": {
      "application/vnd.jupyter.widget-view+json": {
       "model_id": "b1ef994eb55544e6a7492827e8231e08",
       "version_major": 2,
       "version_minor": 0
      },
      "text/plain": [
       "Epoch 57/120:   0%|                                                        | 0/3960 [00:00<?, ?it/s]"
      ]
     },
     "metadata": {},
     "output_type": "display_data"
    },
    {
     "name": "stdout",
     "output_type": "stream",
     "text": [
      "    Batch 100/3960: loss=2.6710, acc=0.4678\n",
      "    Batch 200/3960: loss=2.6291, acc=0.4723\n",
      "    Batch 300/3960: loss=2.6171, acc=0.4600\n",
      "    Batch 400/3960: loss=2.6243, acc=0.4525\n",
      "    Batch 500/3960: loss=2.6211, acc=0.4512\n",
      "    Batch 600/3960: loss=2.6061, acc=0.4574\n",
      "    Batch 700/3960: loss=2.6034, acc=0.4541\n",
      "    Batch 800/3960: loss=2.6034, acc=0.4579\n",
      "    Batch 900/3960: loss=2.5990, acc=0.4570\n",
      "    Batch 1000/3960: loss=2.6082, acc=0.4521\n",
      "    Batch 1100/3960: loss=2.6023, acc=0.4532\n",
      "    Batch 1200/3960: loss=2.6081, acc=0.4507\n",
      "    Batch 1300/3960: loss=2.6110, acc=0.4510\n",
      "    Batch 1400/3960: loss=2.6166, acc=0.4492\n",
      "    Batch 1500/3960: loss=2.6210, acc=0.4481\n",
      "    Batch 1600/3960: loss=2.6113, acc=0.4530\n",
      "    Batch 1700/3960: loss=2.6057, acc=0.4520\n",
      "    Batch 1800/3960: loss=2.6091, acc=0.4517\n",
      "    Batch 1900/3960: loss=2.6105, acc=0.4527\n",
      "    Batch 2000/3960: loss=2.6119, acc=0.4513\n",
      "    Batch 2100/3960: loss=2.6123, acc=0.4490\n",
      "    Batch 2200/3960: loss=2.6111, acc=0.4498\n",
      "    Batch 2300/3960: loss=2.6103, acc=0.4499\n",
      "    Batch 2400/3960: loss=2.6119, acc=0.4501\n",
      "    Batch 2500/3960: loss=2.6127, acc=0.4496\n",
      "    Batch 2600/3960: loss=2.6130, acc=0.4484\n",
      "    Batch 2700/3960: loss=2.6119, acc=0.4495\n",
      "    Batch 2800/3960: loss=2.6126, acc=0.4505\n",
      "    Batch 2900/3960: loss=2.6096, acc=0.4519\n",
      "    Batch 3000/3960: loss=2.6078, acc=0.4513\n",
      "    Batch 3100/3960: loss=2.6060, acc=0.4510\n",
      "    Batch 3200/3960: loss=2.6056, acc=0.4511\n",
      "    Batch 3300/3960: loss=2.6068, acc=0.4500\n",
      "    Batch 3400/3960: loss=2.6038, acc=0.4506\n",
      "    Batch 3500/3960: loss=2.6062, acc=0.4515\n",
      "    Batch 3600/3960: loss=2.6066, acc=0.4503\n",
      "    Batch 3700/3960: loss=2.6019, acc=0.4516\n",
      "    Batch 3800/3960: loss=2.5995, acc=0.4514\n",
      "    Batch 3900/3960: loss=2.5997, acc=0.4515\n",
      "Epoch 57 Train Loss: 2.6007 Acc: 0.4514 LR: 0.001150\n",
      ">>> Training epoch 57 completed <<<\n",
      "  Starting validation...\n"
     ]
    },
    {
     "data": {
      "application/vnd.jupyter.widget-view+json": {
       "model_id": "2eadec5dcb4d44be9507e820358ef9a7",
       "version_major": 2,
       "version_minor": 0
      },
      "text/plain": [
       "Validation (raw):   0%|          | 0/157 [00:00<?, ?it/s]"
      ]
     },
     "metadata": {},
     "output_type": "display_data"
    },
    {
     "name": "stdout",
     "output_type": "stream",
     "text": [
      "Validation Acc (raw): 0.7896\n"
     ]
    },
    {
     "data": {
      "application/vnd.jupyter.widget-view+json": {
       "model_id": "9efd1ff47ebf4434a59867386599961d",
       "version_major": 2,
       "version_minor": 0
      },
      "text/plain": [
       "Validation (ema):   0%|          | 0/157 [00:00<?, ?it/s]"
      ]
     },
     "metadata": {},
     "output_type": "display_data"
    },
    {
     "name": "stdout",
     "output_type": "stream",
     "text": [
      "Validation Acc (ema): 0.4840\n",
      ">>> Validation completed <<<\n",
      "Epoch time: 23.57 mins\n",
      "\n",
      ">>> Starting Epoch 58/120 <<<\n",
      "  [DEBUG] Entered train_one_epoch function\n",
      "  [DEBUG] Set model to train mode\n",
      "  [DEBUG] Imported tqdm\n",
      "  Training epoch 58...\n",
      "  Loading first batch (this may take 10-30 seconds)...\n",
      "  [DEBUG] About to create iterator from train_loader...\n",
      "  [DEBUG] Calling iter(train_loader)...\n",
      "  [DEBUG] Iterator created successfully!\n",
      "  [DEBUG] Calling next(train_iter)...\n",
      "  ✓ First batch loaded! Shape: torch.Size([32, 3, 224, 224]), Labels: torch.Size([32])\n",
      "  Batch size actual: 32, Expected: 32\n"
     ]
    },
    {
     "data": {
      "application/vnd.jupyter.widget-view+json": {
       "model_id": "3bdceadd08b34a11a18062431c61d055",
       "version_major": 2,
       "version_minor": 0
      },
      "text/plain": [
       "Epoch 58/120:   0%|                                                        | 0/3960 [00:00<?, ?it/s]"
      ]
     },
     "metadata": {},
     "output_type": "display_data"
    },
    {
     "name": "stdout",
     "output_type": "stream",
     "text": [
      "    Batch 100/3960: loss=2.6046, acc=0.4452\n",
      "    Batch 200/3960: loss=2.5765, acc=0.4555\n",
      "    Batch 300/3960: loss=2.5712, acc=0.4540\n",
      "    Batch 400/3960: loss=2.5977, acc=0.4454\n",
      "    Batch 500/3960: loss=2.5658, acc=0.4530\n",
      "    Batch 600/3960: loss=2.5777, acc=0.4487\n",
      "    Batch 700/3960: loss=2.5788, acc=0.4507\n",
      "    Batch 800/3960: loss=2.5865, acc=0.4492\n",
      "    Batch 900/3960: loss=2.5865, acc=0.4461\n",
      "    Batch 1000/3960: loss=2.5841, acc=0.4481\n",
      "    Batch 1100/3960: loss=2.5830, acc=0.4492\n",
      "    Batch 1200/3960: loss=2.5811, acc=0.4498\n",
      "    Batch 1300/3960: loss=2.5822, acc=0.4492\n",
      "    Batch 1400/3960: loss=2.5816, acc=0.4490\n",
      "    Batch 1500/3960: loss=2.5840, acc=0.4475\n",
      "    Batch 1600/3960: loss=2.5877, acc=0.4453\n",
      "    Batch 1700/3960: loss=2.5914, acc=0.4443\n",
      "    Batch 1800/3960: loss=2.5943, acc=0.4417\n",
      "    Batch 1900/3960: loss=2.5921, acc=0.4409\n",
      "    Batch 2000/3960: loss=2.5943, acc=0.4400\n",
      "    Batch 2100/3960: loss=2.5950, acc=0.4412\n",
      "    Batch 2200/3960: loss=2.5948, acc=0.4402\n",
      "    Batch 2300/3960: loss=2.5965, acc=0.4398\n",
      "    Batch 2400/3960: loss=2.5939, acc=0.4420\n",
      "    Batch 2500/3960: loss=2.5963, acc=0.4425\n",
      "    Batch 2600/3960: loss=2.5953, acc=0.4424\n",
      "    Batch 2700/3960: loss=2.6008, acc=0.4414\n",
      "    Batch 2800/3960: loss=2.6023, acc=0.4407\n",
      "    Batch 2900/3960: loss=2.6045, acc=0.4408\n",
      "    Batch 3000/3960: loss=2.6068, acc=0.4410\n",
      "    Batch 3100/3960: loss=2.6060, acc=0.4417\n",
      "    Batch 3200/3960: loss=2.6030, acc=0.4432\n",
      "    Batch 3300/3960: loss=2.6005, acc=0.4427\n",
      "    Batch 3400/3960: loss=2.6021, acc=0.4428\n",
      "    Batch 3500/3960: loss=2.6034, acc=0.4412\n",
      "    Batch 3600/3960: loss=2.6047, acc=0.4424\n",
      "    Batch 3700/3960: loss=2.6073, acc=0.4427\n",
      "    Batch 3800/3960: loss=2.6112, acc=0.4420\n",
      "    Batch 3900/3960: loss=2.6100, acc=0.4425\n",
      "Epoch 58 Train Loss: 2.6076 Acc: 0.4430 LR: 0.001123\n",
      ">>> Training epoch 58 completed <<<\n",
      "  Starting validation...\n"
     ]
    },
    {
     "data": {
      "application/vnd.jupyter.widget-view+json": {
       "model_id": "2f5ebae8777a4fa9a799882597b3bef2",
       "version_major": 2,
       "version_minor": 0
      },
      "text/plain": [
       "Validation (raw):   0%|          | 0/157 [00:00<?, ?it/s]"
      ]
     },
     "metadata": {},
     "output_type": "display_data"
    },
    {
     "name": "stdout",
     "output_type": "stream",
     "text": [
      "Validation Acc (raw): 0.7972\n"
     ]
    },
    {
     "data": {
      "application/vnd.jupyter.widget-view+json": {
       "model_id": "2d50df3d498e4628b030ce82d80aec21",
       "version_major": 2,
       "version_minor": 0
      },
      "text/plain": [
       "Validation (ema):   0%|          | 0/157 [00:00<?, ?it/s]"
      ]
     },
     "metadata": {},
     "output_type": "display_data"
    },
    {
     "name": "stdout",
     "output_type": "stream",
     "text": [
      "Validation Acc (ema): 0.4738\n",
      ">>> Validation completed <<<\n",
      "Epoch time: 22.19 mins\n",
      "\n",
      ">>> Starting Epoch 59/120 <<<\n",
      "  [DEBUG] Entered train_one_epoch function\n",
      "  [DEBUG] Set model to train mode\n",
      "  [DEBUG] Imported tqdm\n",
      "  Training epoch 59...\n",
      "  Loading first batch (this may take 10-30 seconds)...\n",
      "  [DEBUG] About to create iterator from train_loader...\n",
      "  [DEBUG] Calling iter(train_loader)...\n",
      "  [DEBUG] Iterator created successfully!\n",
      "  [DEBUG] Calling next(train_iter)...\n",
      "  ✓ First batch loaded! Shape: torch.Size([32, 3, 224, 224]), Labels: torch.Size([32])\n",
      "  Batch size actual: 32, Expected: 32\n"
     ]
    },
    {
     "data": {
      "application/vnd.jupyter.widget-view+json": {
       "model_id": "7c11a4d350f449d59dd08713441de95f",
       "version_major": 2,
       "version_minor": 0
      },
      "text/plain": [
       "Epoch 59/120:   0%|                                                        | 0/3960 [00:00<?, ?it/s]"
      ]
     },
     "metadata": {},
     "output_type": "display_data"
    },
    {
     "name": "stdout",
     "output_type": "stream",
     "text": [
      "    Batch 100/3960: loss=2.6371, acc=0.4564\n",
      "    Batch 200/3960: loss=2.6111, acc=0.4576\n",
      "    Batch 300/3960: loss=2.5823, acc=0.4512\n",
      "    Batch 400/3960: loss=2.5925, acc=0.4427\n",
      "    Batch 500/3960: loss=2.5988, acc=0.4416\n",
      "    Batch 600/3960: loss=2.5894, acc=0.4438\n",
      "    Batch 700/3960: loss=2.5987, acc=0.4416\n",
      "    Batch 800/3960: loss=2.6091, acc=0.4384\n",
      "    Batch 900/3960: loss=2.6211, acc=0.4373\n",
      "    Batch 1000/3960: loss=2.6129, acc=0.4387\n",
      "    Batch 1100/3960: loss=2.6133, acc=0.4410\n",
      "    Batch 1200/3960: loss=2.6184, acc=0.4389\n",
      "    Batch 1300/3960: loss=2.6114, acc=0.4420\n",
      "    Batch 1400/3960: loss=2.5999, acc=0.4439\n",
      "    Batch 1500/3960: loss=2.6010, acc=0.4443\n",
      "    Batch 1600/3960: loss=2.5934, acc=0.4462\n",
      "    Batch 1700/3960: loss=2.5970, acc=0.4460\n",
      "    Batch 1800/3960: loss=2.5939, acc=0.4450\n",
      "    Batch 1900/3960: loss=2.5927, acc=0.4445\n",
      "    Batch 2000/3960: loss=2.5929, acc=0.4455\n",
      "    Batch 2100/3960: loss=2.5932, acc=0.4443\n",
      "    Batch 2200/3960: loss=2.5900, acc=0.4459\n",
      "    Batch 2300/3960: loss=2.5919, acc=0.4460\n",
      "    Batch 2400/3960: loss=2.5947, acc=0.4455\n",
      "    Batch 2500/3960: loss=2.5956, acc=0.4454\n",
      "    Batch 2600/3960: loss=2.5942, acc=0.4448\n",
      "    Batch 2700/3960: loss=2.5952, acc=0.4466\n",
      "    Batch 2800/3960: loss=2.5920, acc=0.4469\n",
      "    Batch 2900/3960: loss=2.5932, acc=0.4475\n",
      "    Batch 3000/3960: loss=2.5919, acc=0.4495\n",
      "    Batch 3100/3960: loss=2.5912, acc=0.4504\n",
      "    Batch 3200/3960: loss=2.5913, acc=0.4506\n",
      "    Batch 3300/3960: loss=2.5935, acc=0.4502\n",
      "    Batch 3400/3960: loss=2.5925, acc=0.4506\n",
      "    Batch 3500/3960: loss=2.5920, acc=0.4508\n",
      "    Batch 3600/3960: loss=2.5917, acc=0.4504\n",
      "    Batch 3700/3960: loss=2.5930, acc=0.4497\n",
      "    Batch 3800/3960: loss=2.5887, acc=0.4502\n",
      "    Batch 3900/3960: loss=2.5897, acc=0.4492\n",
      "Epoch 59 Train Loss: 2.5910 Acc: 0.4489 LR: 0.001095\n",
      ">>> Training epoch 59 completed <<<\n",
      "  Starting validation...\n"
     ]
    },
    {
     "data": {
      "application/vnd.jupyter.widget-view+json": {
       "model_id": "27abf763c3704b139dd882da4941be39",
       "version_major": 2,
       "version_minor": 0
      },
      "text/plain": [
       "Validation (raw):   0%|          | 0/157 [00:00<?, ?it/s]"
      ]
     },
     "metadata": {},
     "output_type": "display_data"
    },
    {
     "name": "stdout",
     "output_type": "stream",
     "text": [
      "Validation Acc (raw): 0.7968\n"
     ]
    },
    {
     "data": {
      "application/vnd.jupyter.widget-view+json": {
       "model_id": "1917348f589d4338aecec7c16b188597",
       "version_major": 2,
       "version_minor": 0
      },
      "text/plain": [
       "Validation (ema):   0%|          | 0/157 [00:00<?, ?it/s]"
      ]
     },
     "metadata": {},
     "output_type": "display_data"
    },
    {
     "name": "stdout",
     "output_type": "stream",
     "text": [
      "Validation Acc (ema): 0.4642\n",
      ">>> Validation completed <<<\n",
      "Epoch time: 27.57 mins\n",
      "\n",
      ">>> Starting Epoch 60/120 <<<\n",
      "  [DEBUG] Entered train_one_epoch function\n",
      "  [DEBUG] Set model to train mode\n",
      "  [DEBUG] Imported tqdm\n",
      "  Training epoch 60...\n",
      "  Loading first batch (this may take 10-30 seconds)...\n",
      "  [DEBUG] About to create iterator from train_loader...\n",
      "  [DEBUG] Calling iter(train_loader)...\n",
      "  [DEBUG] Iterator created successfully!\n",
      "  [DEBUG] Calling next(train_iter)...\n",
      "  ✓ First batch loaded! Shape: torch.Size([32, 3, 224, 224]), Labels: torch.Size([32])\n",
      "  Batch size actual: 32, Expected: 32\n"
     ]
    },
    {
     "data": {
      "application/vnd.jupyter.widget-view+json": {
       "model_id": "5a0897b86b0b460db1003ab3f0428948",
       "version_major": 2,
       "version_minor": 0
      },
      "text/plain": [
       "Epoch 60/120:   0%|                                                        | 0/3960 [00:00<?, ?it/s]"
      ]
     },
     "metadata": {},
     "output_type": "display_data"
    },
    {
     "name": "stdout",
     "output_type": "stream",
     "text": [
      "    Batch 100/3960: loss=2.6207, acc=0.4341\n",
      "    Batch 200/3960: loss=2.6290, acc=0.4437\n",
      "    Batch 300/3960: loss=2.6021, acc=0.4441\n",
      "    Batch 400/3960: loss=2.5953, acc=0.4451\n",
      "    Batch 500/3960: loss=2.6034, acc=0.4451\n",
      "    Batch 600/3960: loss=2.6076, acc=0.4481\n",
      "    Batch 700/3960: loss=2.5899, acc=0.4557\n",
      "    Batch 800/3960: loss=2.5866, acc=0.4583\n",
      "    Batch 900/3960: loss=2.5881, acc=0.4578\n",
      "    Batch 1000/3960: loss=2.5821, acc=0.4575\n",
      "    Batch 1100/3960: loss=2.5872, acc=0.4547\n",
      "    Batch 1200/3960: loss=2.5943, acc=0.4535\n",
      "    Batch 1300/3960: loss=2.5996, acc=0.4527\n",
      "    Batch 1400/3960: loss=2.5904, acc=0.4532\n",
      "    Batch 1500/3960: loss=2.5873, acc=0.4534\n",
      "    Batch 1600/3960: loss=2.5879, acc=0.4534\n",
      "    Batch 1700/3960: loss=2.5960, acc=0.4534\n",
      "    Batch 1800/3960: loss=2.5934, acc=0.4542\n",
      "    Batch 1900/3960: loss=2.5955, acc=0.4558\n",
      "    Batch 2000/3960: loss=2.5922, acc=0.4570\n",
      "    Batch 2100/3960: loss=2.5879, acc=0.4580\n",
      "    Batch 2200/3960: loss=2.5858, acc=0.4579\n",
      "    Batch 2300/3960: loss=2.5900, acc=0.4571\n",
      "    Batch 2400/3960: loss=2.5926, acc=0.4542\n",
      "    Batch 2500/3960: loss=2.5966, acc=0.4536\n",
      "    Batch 2600/3960: loss=2.6006, acc=0.4532\n",
      "    Batch 2700/3960: loss=2.6029, acc=0.4527\n",
      "    Batch 2800/3960: loss=2.5973, acc=0.4532\n",
      "    Batch 2900/3960: loss=2.5953, acc=0.4538\n",
      "    Batch 3000/3960: loss=2.5976, acc=0.4534\n",
      "    Batch 3100/3960: loss=2.5991, acc=0.4527\n",
      "    Batch 3200/3960: loss=2.5973, acc=0.4536\n",
      "    Batch 3300/3960: loss=2.5967, acc=0.4552\n",
      "    Batch 3400/3960: loss=2.5998, acc=0.4547\n",
      "    Batch 3500/3960: loss=2.5988, acc=0.4546\n",
      "    Batch 3600/3960: loss=2.5993, acc=0.4539\n",
      "    Batch 3700/3960: loss=2.5970, acc=0.4551\n",
      "    Batch 3800/3960: loss=2.5939, acc=0.4546\n",
      "    Batch 3900/3960: loss=2.5934, acc=0.4551\n",
      "Epoch 60 Train Loss: 2.5957 Acc: 0.4544 LR: 0.001068\n",
      ">>> Training epoch 60 completed <<<\n",
      "  Starting validation...\n"
     ]
    },
    {
     "data": {
      "application/vnd.jupyter.widget-view+json": {
       "model_id": "192a6d62bd474db1ab2ebbca774e392c",
       "version_major": 2,
       "version_minor": 0
      },
      "text/plain": [
       "Validation (raw):   0%|          | 0/157 [00:00<?, ?it/s]"
      ]
     },
     "metadata": {},
     "output_type": "display_data"
    },
    {
     "name": "stdout",
     "output_type": "stream",
     "text": [
      "Validation Acc (raw): 0.7904\n"
     ]
    },
    {
     "data": {
      "application/vnd.jupyter.widget-view+json": {
       "model_id": "7431b07437b84a0aab916ce4b925b9f3",
       "version_major": 2,
       "version_minor": 0
      },
      "text/plain": [
       "Validation (ema):   0%|          | 0/157 [00:00<?, ?it/s]"
      ]
     },
     "metadata": {},
     "output_type": "display_data"
    },
    {
     "name": "stdout",
     "output_type": "stream",
     "text": [
      "Validation Acc (ema): 0.4522\n",
      ">>> Validation completed <<<\n",
      "Epoch time: 31.79 mins\n",
      "Saved checkpoint\n",
      "\n",
      ">>> Starting Epoch 61/120 <<<\n",
      "  [DEBUG] Entered train_one_epoch function\n",
      "  [DEBUG] Set model to train mode\n",
      "  [DEBUG] Imported tqdm\n",
      "  Training epoch 61...\n",
      "  Loading first batch (this may take 10-30 seconds)...\n",
      "  [DEBUG] About to create iterator from train_loader...\n",
      "  [DEBUG] Calling iter(train_loader)...\n",
      "  [DEBUG] Iterator created successfully!\n",
      "  [DEBUG] Calling next(train_iter)...\n",
      "  ✓ First batch loaded! Shape: torch.Size([32, 3, 224, 224]), Labels: torch.Size([32])\n",
      "  Batch size actual: 32, Expected: 32\n"
     ]
    },
    {
     "data": {
      "application/vnd.jupyter.widget-view+json": {
       "model_id": "4556c9b4e76043cd9dd797448f801164",
       "version_major": 2,
       "version_minor": 0
      },
      "text/plain": [
       "Epoch 61/120:   0%|                                                        | 0/3960 [00:00<?, ?it/s]"
      ]
     },
     "metadata": {},
     "output_type": "display_data"
    },
    {
     "name": "stdout",
     "output_type": "stream",
     "text": [
      "    Batch 100/3960: loss=2.5589, acc=0.4629\n",
      "    Batch 200/3960: loss=2.5489, acc=0.4636\n",
      "    Batch 300/3960: loss=2.5244, acc=0.4665\n",
      "    Batch 400/3960: loss=2.5439, acc=0.4645\n",
      "    Batch 500/3960: loss=2.5622, acc=0.4629\n",
      "    Batch 600/3960: loss=2.5614, acc=0.4632\n",
      "    Batch 700/3960: loss=2.5682, acc=0.4642\n",
      "    Batch 800/3960: loss=2.5713, acc=0.4597\n",
      "    Batch 900/3960: loss=2.5719, acc=0.4600\n",
      "    Batch 1000/3960: loss=2.5689, acc=0.4593\n",
      "    Batch 1100/3960: loss=2.5685, acc=0.4591\n",
      "    Batch 1200/3960: loss=2.5713, acc=0.4583\n",
      "    Batch 1300/3960: loss=2.5648, acc=0.4596\n",
      "    Batch 1400/3960: loss=2.5655, acc=0.4581\n",
      "    Batch 1500/3960: loss=2.5622, acc=0.4612\n",
      "    Batch 1600/3960: loss=2.5589, acc=0.4622\n",
      "    Batch 1700/3960: loss=2.5631, acc=0.4620\n",
      "    Batch 1800/3960: loss=2.5624, acc=0.4616\n",
      "    Batch 1900/3960: loss=2.5696, acc=0.4614\n",
      "    Batch 2000/3960: loss=2.5736, acc=0.4630\n",
      "    Batch 2100/3960: loss=2.5731, acc=0.4624\n",
      "    Batch 2200/3960: loss=2.5794, acc=0.4608\n",
      "    Batch 2300/3960: loss=2.5774, acc=0.4597\n",
      "    Batch 2400/3960: loss=2.5768, acc=0.4604\n",
      "    Batch 2500/3960: loss=2.5745, acc=0.4595\n",
      "    Batch 2600/3960: loss=2.5797, acc=0.4577\n",
      "    Batch 2700/3960: loss=2.5788, acc=0.4583\n",
      "    Batch 2800/3960: loss=2.5779, acc=0.4585\n",
      "    Batch 2900/3960: loss=2.5781, acc=0.4588\n",
      "    Batch 3000/3960: loss=2.5825, acc=0.4579\n",
      "    Batch 3100/3960: loss=2.5847, acc=0.4575\n",
      "    Batch 3200/3960: loss=2.5828, acc=0.4583\n",
      "    Batch 3300/3960: loss=2.5834, acc=0.4570\n",
      "    Batch 3400/3960: loss=2.5847, acc=0.4573\n",
      "    Batch 3500/3960: loss=2.5852, acc=0.4569\n",
      "    Batch 3600/3960: loss=2.5851, acc=0.4567\n",
      "    Batch 3700/3960: loss=2.5846, acc=0.4559\n",
      "    Batch 3800/3960: loss=2.5834, acc=0.4557\n",
      "    Batch 3900/3960: loss=2.5818, acc=0.4563\n",
      "Epoch 61 Train Loss: 2.5819 Acc: 0.4557 LR: 0.001041\n",
      ">>> Training epoch 61 completed <<<\n",
      "  Starting validation...\n"
     ]
    },
    {
     "data": {
      "application/vnd.jupyter.widget-view+json": {
       "model_id": "f653d33c87284ebf90dc7f3065f1f1ce",
       "version_major": 2,
       "version_minor": 0
      },
      "text/plain": [
       "Validation (raw):   0%|          | 0/157 [00:00<?, ?it/s]"
      ]
     },
     "metadata": {},
     "output_type": "display_data"
    },
    {
     "name": "stdout",
     "output_type": "stream",
     "text": [
      "Validation Acc (raw): 0.8006\n"
     ]
    },
    {
     "data": {
      "application/vnd.jupyter.widget-view+json": {
       "model_id": "fff887e7f44d48e5b97cef1f9a40b52e",
       "version_major": 2,
       "version_minor": 0
      },
      "text/plain": [
       "Validation (ema):   0%|          | 0/157 [00:00<?, ?it/s]"
      ]
     },
     "metadata": {},
     "output_type": "display_data"
    },
    {
     "name": "stdout",
     "output_type": "stream",
     "text": [
      "Validation Acc (ema): 0.4422\n",
      ">>> Validation completed <<<\n",
      "Epoch time: 25.72 mins\n",
      "\n",
      ">>> Starting Epoch 62/120 <<<\n",
      "  [DEBUG] Entered train_one_epoch function\n",
      "  [DEBUG] Set model to train mode\n",
      "  [DEBUG] Imported tqdm\n",
      "  Training epoch 62...\n",
      "  Loading first batch (this may take 10-30 seconds)...\n",
      "  [DEBUG] About to create iterator from train_loader...\n",
      "  [DEBUG] Calling iter(train_loader)...\n",
      "  [DEBUG] Iterator created successfully!\n",
      "  [DEBUG] Calling next(train_iter)...\n",
      "  ✓ First batch loaded! Shape: torch.Size([32, 3, 224, 224]), Labels: torch.Size([32])\n",
      "  Batch size actual: 32, Expected: 32\n"
     ]
    },
    {
     "data": {
      "application/vnd.jupyter.widget-view+json": {
       "model_id": "ab85aa94e6d04c7f8bf1c2e93d696178",
       "version_major": 2,
       "version_minor": 0
      },
      "text/plain": [
       "Epoch 62/120:   0%|                                                        | 0/3960 [00:00<?, ?it/s]"
      ]
     },
     "metadata": {},
     "output_type": "display_data"
    },
    {
     "name": "stdout",
     "output_type": "stream",
     "text": [
      "    Batch 100/3960: loss=2.5807, acc=0.4790\n",
      "    Batch 200/3960: loss=2.6240, acc=0.4311\n",
      "    Batch 300/3960: loss=2.5958, acc=0.4406\n",
      "    Batch 400/3960: loss=2.6077, acc=0.4433\n",
      "    Batch 500/3960: loss=2.6117, acc=0.4407\n",
      "    Batch 600/3960: loss=2.6075, acc=0.4385\n",
      "    Batch 700/3960: loss=2.5908, acc=0.4420\n",
      "    Batch 800/3960: loss=2.5976, acc=0.4364\n",
      "    Batch 900/3960: loss=2.5999, acc=0.4423\n",
      "    Batch 1000/3960: loss=2.6021, acc=0.4435\n",
      "    Batch 1100/3960: loss=2.5968, acc=0.4428\n",
      "    Batch 1200/3960: loss=2.5950, acc=0.4446\n",
      "    Batch 1300/3960: loss=2.5919, acc=0.4455\n",
      "    Batch 1400/3960: loss=2.5864, acc=0.4472\n",
      "    Batch 1500/3960: loss=2.5884, acc=0.4465\n",
      "    Batch 1600/3960: loss=2.5831, acc=0.4482\n",
      "    Batch 1700/3960: loss=2.5816, acc=0.4493\n",
      "    Batch 1800/3960: loss=2.5877, acc=0.4478\n",
      "    Batch 1900/3960: loss=2.5904, acc=0.4476\n",
      "    Batch 2000/3960: loss=2.5876, acc=0.4487\n",
      "    Batch 2100/3960: loss=2.5858, acc=0.4499\n",
      "    Batch 2200/3960: loss=2.5870, acc=0.4479\n",
      "    Batch 2300/3960: loss=2.5894, acc=0.4472\n",
      "    Batch 2400/3960: loss=2.5846, acc=0.4496\n",
      "    Batch 2500/3960: loss=2.5813, acc=0.4497\n",
      "    Batch 2600/3960: loss=2.5792, acc=0.4506\n",
      "    Batch 2700/3960: loss=2.5774, acc=0.4512\n",
      "    Batch 2800/3960: loss=2.5777, acc=0.4515\n",
      "    Batch 2900/3960: loss=2.5785, acc=0.4515\n",
      "    Batch 3000/3960: loss=2.5788, acc=0.4518\n",
      "    Batch 3100/3960: loss=2.5785, acc=0.4524\n",
      "    Batch 3200/3960: loss=2.5747, acc=0.4534\n",
      "    Batch 3300/3960: loss=2.5749, acc=0.4542\n",
      "    Batch 3400/3960: loss=2.5743, acc=0.4535\n",
      "    Batch 3500/3960: loss=2.5726, acc=0.4539\n",
      "    Batch 3600/3960: loss=2.5730, acc=0.4542\n",
      "    Batch 3700/3960: loss=2.5705, acc=0.4554\n",
      "    Batch 3800/3960: loss=2.5711, acc=0.4559\n",
      "    Batch 3900/3960: loss=2.5711, acc=0.4551\n",
      "Epoch 62 Train Loss: 2.5695 Acc: 0.4551 LR: 0.001014\n",
      ">>> Training epoch 62 completed <<<\n",
      "  Starting validation...\n"
     ]
    },
    {
     "data": {
      "application/vnd.jupyter.widget-view+json": {
       "model_id": "00e824c281cd49b296f7b1ffc308ff53",
       "version_major": 2,
       "version_minor": 0
      },
      "text/plain": [
       "Validation (raw):   0%|          | 0/157 [00:00<?, ?it/s]"
      ]
     },
     "metadata": {},
     "output_type": "display_data"
    },
    {
     "name": "stdout",
     "output_type": "stream",
     "text": [
      "Validation Acc (raw): 0.7912\n"
     ]
    },
    {
     "data": {
      "application/vnd.jupyter.widget-view+json": {
       "model_id": "ec2edc2ac86244588b7ccd7e3a0bffda",
       "version_major": 2,
       "version_minor": 0
      },
      "text/plain": [
       "Validation (ema):   0%|          | 0/157 [00:00<?, ?it/s]"
      ]
     },
     "metadata": {},
     "output_type": "display_data"
    },
    {
     "name": "stdout",
     "output_type": "stream",
     "text": [
      "Validation Acc (ema): 0.4330\n",
      ">>> Validation completed <<<\n",
      "Epoch time: 23.61 mins\n",
      "\n",
      ">>> Starting Epoch 63/120 <<<\n",
      "  [DEBUG] Entered train_one_epoch function\n",
      "  [DEBUG] Set model to train mode\n",
      "  [DEBUG] Imported tqdm\n",
      "  Training epoch 63...\n",
      "  Loading first batch (this may take 10-30 seconds)...\n",
      "  [DEBUG] About to create iterator from train_loader...\n",
      "  [DEBUG] Calling iter(train_loader)...\n",
      "  [DEBUG] Iterator created successfully!\n",
      "  [DEBUG] Calling next(train_iter)...\n",
      "  ✓ First batch loaded! Shape: torch.Size([32, 3, 224, 224]), Labels: torch.Size([32])\n",
      "  Batch size actual: 32, Expected: 32\n"
     ]
    },
    {
     "data": {
      "application/vnd.jupyter.widget-view+json": {
       "model_id": "7c658abc19c44d3d830bc0d2a67cfeba",
       "version_major": 2,
       "version_minor": 0
      },
      "text/plain": [
       "Epoch 63/120:   0%|                                                        | 0/3960 [00:00<?, ?it/s]"
      ]
     },
     "metadata": {},
     "output_type": "display_data"
    },
    {
     "name": "stdout",
     "output_type": "stream",
     "text": [
      "    Batch 100/3960: loss=2.4969, acc=0.4796\n",
      "    Batch 200/3960: loss=2.5820, acc=0.4621\n",
      "    Batch 300/3960: loss=2.5726, acc=0.4539\n",
      "    Batch 400/3960: loss=2.5813, acc=0.4601\n",
      "    Batch 500/3960: loss=2.5743, acc=0.4590\n",
      "    Batch 600/3960: loss=2.5806, acc=0.4617\n",
      "    Batch 700/3960: loss=2.5725, acc=0.4608\n",
      "    Batch 800/3960: loss=2.5802, acc=0.4599\n",
      "    Batch 900/3960: loss=2.5753, acc=0.4613\n",
      "    Batch 1000/3960: loss=2.5778, acc=0.4604\n",
      "    Batch 1100/3960: loss=2.5819, acc=0.4564\n",
      "    Batch 1200/3960: loss=2.5793, acc=0.4583\n",
      "    Batch 1300/3960: loss=2.5845, acc=0.4558\n",
      "    Batch 1400/3960: loss=2.5883, acc=0.4552\n",
      "    Batch 1500/3960: loss=2.5856, acc=0.4552\n",
      "    Batch 1600/3960: loss=2.5788, acc=0.4561\n",
      "    Batch 1700/3960: loss=2.5791, acc=0.4553\n",
      "    Batch 1800/3960: loss=2.5844, acc=0.4526\n",
      "    Batch 1900/3960: loss=2.5826, acc=0.4518\n",
      "    Batch 2000/3960: loss=2.5777, acc=0.4536\n",
      "    Batch 2100/3960: loss=2.5796, acc=0.4511\n",
      "    Batch 2200/3960: loss=2.5794, acc=0.4522\n",
      "    Batch 2300/3960: loss=2.5799, acc=0.4506\n",
      "    Batch 2400/3960: loss=2.5763, acc=0.4524\n",
      "    Batch 2500/3960: loss=2.5785, acc=0.4523\n",
      "    Batch 2600/3960: loss=2.5798, acc=0.4516\n",
      "    Batch 2700/3960: loss=2.5801, acc=0.4528\n",
      "    Batch 2800/3960: loss=2.5814, acc=0.4528\n",
      "    Batch 2900/3960: loss=2.5801, acc=0.4530\n",
      "    Batch 3000/3960: loss=2.5780, acc=0.4531\n",
      "    Batch 3100/3960: loss=2.5777, acc=0.4529\n",
      "    Batch 3200/3960: loss=2.5759, acc=0.4537\n",
      "    Batch 3300/3960: loss=2.5767, acc=0.4541\n",
      "    Batch 3400/3960: loss=2.5771, acc=0.4532\n",
      "    Batch 3500/3960: loss=2.5804, acc=0.4522\n",
      "    Batch 3600/3960: loss=2.5825, acc=0.4520\n",
      "    Batch 3700/3960: loss=2.5822, acc=0.4513\n",
      "    Batch 3800/3960: loss=2.5813, acc=0.4512\n",
      "    Batch 3900/3960: loss=2.5830, acc=0.4515\n",
      "Epoch 63 Train Loss: 2.5852 Acc: 0.4511 LR: 0.000986\n",
      ">>> Training epoch 63 completed <<<\n",
      "  Starting validation...\n"
     ]
    },
    {
     "data": {
      "application/vnd.jupyter.widget-view+json": {
       "model_id": "b0341719be4348dfb96dade5b9909723",
       "version_major": 2,
       "version_minor": 0
      },
      "text/plain": [
       "Validation (raw):   0%|          | 0/157 [00:00<?, ?it/s]"
      ]
     },
     "metadata": {},
     "output_type": "display_data"
    },
    {
     "name": "stdout",
     "output_type": "stream",
     "text": [
      "Validation Acc (raw): 0.7942\n"
     ]
    },
    {
     "data": {
      "application/vnd.jupyter.widget-view+json": {
       "model_id": "4ed7e5728e9149f9bd7a64f29d278e8b",
       "version_major": 2,
       "version_minor": 0
      },
      "text/plain": [
       "Validation (ema):   0%|          | 0/157 [00:00<?, ?it/s]"
      ]
     },
     "metadata": {},
     "output_type": "display_data"
    },
    {
     "name": "stdout",
     "output_type": "stream",
     "text": [
      "Validation Acc (ema): 0.4220\n",
      ">>> Validation completed <<<\n",
      "Epoch time: 30.94 mins\n",
      "\n",
      ">>> Starting Epoch 64/120 <<<\n",
      "  [DEBUG] Entered train_one_epoch function\n",
      "  [DEBUG] Set model to train mode\n",
      "  [DEBUG] Imported tqdm\n",
      "  Training epoch 64...\n",
      "  Loading first batch (this may take 10-30 seconds)...\n",
      "  [DEBUG] About to create iterator from train_loader...\n",
      "  [DEBUG] Calling iter(train_loader)...\n",
      "  [DEBUG] Iterator created successfully!\n",
      "  [DEBUG] Calling next(train_iter)...\n",
      "  ✓ First batch loaded! Shape: torch.Size([32, 3, 224, 224]), Labels: torch.Size([32])\n",
      "  Batch size actual: 32, Expected: 32\n"
     ]
    },
    {
     "data": {
      "application/vnd.jupyter.widget-view+json": {
       "model_id": "01dcc9c9fc2944e98167f3c702602bba",
       "version_major": 2,
       "version_minor": 0
      },
      "text/plain": [
       "Epoch 64/120:   0%|                                                        | 0/3960 [00:00<?, ?it/s]"
      ]
     },
     "metadata": {},
     "output_type": "display_data"
    },
    {
     "name": "stdout",
     "output_type": "stream",
     "text": [
      "    Batch 100/3960: loss=2.5493, acc=0.4638\n",
      "    Batch 200/3960: loss=2.5680, acc=0.4557\n",
      "    Batch 300/3960: loss=2.5602, acc=0.4535\n",
      "    Batch 400/3960: loss=2.5719, acc=0.4527\n",
      "    Batch 500/3960: loss=2.5771, acc=0.4510\n",
      "    Batch 600/3960: loss=2.5844, acc=0.4502\n",
      "    Batch 700/3960: loss=2.5786, acc=0.4485\n",
      "    Batch 800/3960: loss=2.5731, acc=0.4486\n",
      "    Batch 900/3960: loss=2.5687, acc=0.4502\n",
      "    Batch 1000/3960: loss=2.5691, acc=0.4498\n",
      "    Batch 1100/3960: loss=2.5738, acc=0.4504\n",
      "    Batch 1200/3960: loss=2.5858, acc=0.4489\n",
      "    Batch 1300/3960: loss=2.5859, acc=0.4491\n",
      "    Batch 1400/3960: loss=2.5825, acc=0.4506\n",
      "    Batch 1500/3960: loss=2.5842, acc=0.4504\n",
      "    Batch 1600/3960: loss=2.5842, acc=0.4501\n",
      "    Batch 1700/3960: loss=2.5835, acc=0.4509\n",
      "    Batch 1800/3960: loss=2.5800, acc=0.4533\n",
      "    Batch 1900/3960: loss=2.5816, acc=0.4514\n",
      "    Batch 2000/3960: loss=2.5832, acc=0.4492\n",
      "    Batch 2100/3960: loss=2.5800, acc=0.4523\n",
      "    Batch 2200/3960: loss=2.5803, acc=0.4497\n",
      "    Batch 2300/3960: loss=2.5767, acc=0.4522\n",
      "    Batch 2400/3960: loss=2.5742, acc=0.4521\n",
      "    Batch 2500/3960: loss=2.5700, acc=0.4545\n",
      "    Batch 2600/3960: loss=2.5653, acc=0.4562\n",
      "    Batch 2700/3960: loss=2.5669, acc=0.4560\n",
      "    Batch 2800/3960: loss=2.5656, acc=0.4558\n",
      "    Batch 2900/3960: loss=2.5626, acc=0.4557\n",
      "    Batch 3000/3960: loss=2.5615, acc=0.4560\n",
      "    Batch 3100/3960: loss=2.5625, acc=0.4567\n",
      "    Batch 3200/3960: loss=2.5665, acc=0.4566\n",
      "    Batch 3300/3960: loss=2.5624, acc=0.4567\n",
      "    Batch 3400/3960: loss=2.5624, acc=0.4569\n",
      "    Batch 3500/3960: loss=2.5617, acc=0.4568\n",
      "    Batch 3600/3960: loss=2.5623, acc=0.4553\n",
      "    Batch 3700/3960: loss=2.5613, acc=0.4555\n",
      "    Batch 3800/3960: loss=2.5593, acc=0.4565\n",
      "    Batch 3900/3960: loss=2.5576, acc=0.4575\n",
      "Epoch 64 Train Loss: 2.5568 Acc: 0.4580 LR: 0.000959\n",
      ">>> Training epoch 64 completed <<<\n",
      "  Starting validation...\n"
     ]
    },
    {
     "data": {
      "application/vnd.jupyter.widget-view+json": {
       "model_id": "2a2318e230d54b2a80d326cb1e889fd4",
       "version_major": 2,
       "version_minor": 0
      },
      "text/plain": [
       "Validation (raw):   0%|          | 0/157 [00:00<?, ?it/s]"
      ]
     },
     "metadata": {},
     "output_type": "display_data"
    },
    {
     "name": "stdout",
     "output_type": "stream",
     "text": [
      "Validation Acc (raw): 0.8044\n"
     ]
    },
    {
     "data": {
      "application/vnd.jupyter.widget-view+json": {
       "model_id": "a0746325c5d042f2a5a2ead5cda80a2d",
       "version_major": 2,
       "version_minor": 0
      },
      "text/plain": [
       "Validation (ema):   0%|          | 0/157 [00:00<?, ?it/s]"
      ]
     },
     "metadata": {},
     "output_type": "display_data"
    },
    {
     "name": "stdout",
     "output_type": "stream",
     "text": [
      "Validation Acc (ema): 0.4106\n",
      ">>> Validation completed <<<\n",
      "Epoch time: 23.82 mins\n",
      "\n",
      ">>> Starting Epoch 65/120 <<<\n",
      "  [DEBUG] Entered train_one_epoch function\n",
      "  [DEBUG] Set model to train mode\n",
      "  [DEBUG] Imported tqdm\n",
      "  Training epoch 65...\n",
      "  Loading first batch (this may take 10-30 seconds)...\n",
      "  [DEBUG] About to create iterator from train_loader...\n",
      "  [DEBUG] Calling iter(train_loader)...\n",
      "  [DEBUG] Iterator created successfully!\n",
      "  [DEBUG] Calling next(train_iter)...\n",
      "  ✓ First batch loaded! Shape: torch.Size([32, 3, 224, 224]), Labels: torch.Size([32])\n",
      "  Batch size actual: 32, Expected: 32\n"
     ]
    },
    {
     "data": {
      "application/vnd.jupyter.widget-view+json": {
       "model_id": "a1ad4f9fcf6746aab1ec6107c18ecbcd",
       "version_major": 2,
       "version_minor": 0
      },
      "text/plain": [
       "Epoch 65/120:   0%|                                                        | 0/3960 [00:00<?, ?it/s]"
      ]
     },
     "metadata": {},
     "output_type": "display_data"
    },
    {
     "name": "stdout",
     "output_type": "stream",
     "text": [
      "    Batch 100/3960: loss=2.4808, acc=0.4814\n",
      "    Batch 200/3960: loss=2.4990, acc=0.4683\n",
      "    Batch 300/3960: loss=2.5455, acc=0.4708\n",
      "    Batch 400/3960: loss=2.5743, acc=0.4635\n",
      "    Batch 500/3960: loss=2.5874, acc=0.4598\n",
      "    Batch 600/3960: loss=2.6015, acc=0.4567\n",
      "    Batch 700/3960: loss=2.5791, acc=0.4599\n",
      "    Batch 800/3960: loss=2.5710, acc=0.4580\n",
      "    Batch 900/3960: loss=2.5715, acc=0.4569\n",
      "    Batch 1000/3960: loss=2.5707, acc=0.4562\n",
      "    Batch 1100/3960: loss=2.5720, acc=0.4603\n",
      "    Batch 1200/3960: loss=2.5687, acc=0.4600\n",
      "    Batch 1300/3960: loss=2.5695, acc=0.4568\n",
      "    Batch 1400/3960: loss=2.5683, acc=0.4590\n",
      "    Batch 1500/3960: loss=2.5688, acc=0.4609\n",
      "    Batch 1600/3960: loss=2.5657, acc=0.4599\n",
      "    Batch 1700/3960: loss=2.5653, acc=0.4600\n",
      "    Batch 1800/3960: loss=2.5645, acc=0.4581\n",
      "    Batch 1900/3960: loss=2.5616, acc=0.4591\n",
      "    Batch 2000/3960: loss=2.5552, acc=0.4621\n",
      "    Batch 2100/3960: loss=2.5558, acc=0.4597\n",
      "    Batch 2200/3960: loss=2.5589, acc=0.4593\n",
      "    Batch 2300/3960: loss=2.5545, acc=0.4594\n",
      "    Batch 2400/3960: loss=2.5549, acc=0.4596\n",
      "    Batch 2500/3960: loss=2.5517, acc=0.4594\n",
      "    Batch 2600/3960: loss=2.5512, acc=0.4611\n",
      "    Batch 2700/3960: loss=2.5525, acc=0.4604\n",
      "    Batch 2800/3960: loss=2.5474, acc=0.4620\n",
      "    Batch 2900/3960: loss=2.5479, acc=0.4614\n",
      "    Batch 3000/3960: loss=2.5502, acc=0.4607\n",
      "    Batch 3100/3960: loss=2.5489, acc=0.4612\n",
      "    Batch 3200/3960: loss=2.5477, acc=0.4626\n",
      "    Batch 3300/3960: loss=2.5475, acc=0.4625\n",
      "    Batch 3400/3960: loss=2.5471, acc=0.4644\n",
      "    Batch 3500/3960: loss=2.5470, acc=0.4636\n",
      "    Batch 3600/3960: loss=2.5457, acc=0.4643\n",
      "    Batch 3700/3960: loss=2.5453, acc=0.4638\n",
      "    Batch 3800/3960: loss=2.5473, acc=0.4625\n",
      "    Batch 3900/3960: loss=2.5489, acc=0.4616\n",
      "Epoch 65 Train Loss: 2.5480 Acc: 0.4618 LR: 0.000932\n",
      ">>> Training epoch 65 completed <<<\n",
      "  Starting validation...\n"
     ]
    },
    {
     "data": {
      "application/vnd.jupyter.widget-view+json": {
       "model_id": "a9d573abc4914da7821465aae60805e6",
       "version_major": 2,
       "version_minor": 0
      },
      "text/plain": [
       "Validation (raw):   0%|          | 0/157 [00:00<?, ?it/s]"
      ]
     },
     "metadata": {},
     "output_type": "display_data"
    },
    {
     "name": "stdout",
     "output_type": "stream",
     "text": [
      "Validation Acc (raw): 0.8056\n"
     ]
    },
    {
     "data": {
      "application/vnd.jupyter.widget-view+json": {
       "model_id": "daab23c535a34704bc53efba7bfcb992",
       "version_major": 2,
       "version_minor": 0
      },
      "text/plain": [
       "Validation (ema):   0%|          | 0/157 [00:00<?, ?it/s]"
      ]
     },
     "metadata": {},
     "output_type": "display_data"
    },
    {
     "name": "stdout",
     "output_type": "stream",
     "text": [
      "Validation Acc (ema): 0.3990\n",
      ">>> Validation completed <<<\n",
      "Epoch time: 23.90 mins\n",
      "Saved checkpoint\n",
      "\n",
      ">>> Starting Epoch 66/120 <<<\n",
      "  [DEBUG] Entered train_one_epoch function\n",
      "  [DEBUG] Set model to train mode\n",
      "  [DEBUG] Imported tqdm\n",
      "  Training epoch 66...\n",
      "  Loading first batch (this may take 10-30 seconds)...\n",
      "  [DEBUG] About to create iterator from train_loader...\n",
      "  [DEBUG] Calling iter(train_loader)...\n",
      "  [DEBUG] Iterator created successfully!\n",
      "  [DEBUG] Calling next(train_iter)...\n",
      "  ✓ First batch loaded! Shape: torch.Size([32, 3, 224, 224]), Labels: torch.Size([32])\n",
      "  Batch size actual: 32, Expected: 32\n"
     ]
    },
    {
     "data": {
      "application/vnd.jupyter.widget-view+json": {
       "model_id": "3282efe9dd1f4253a0a210e60570d175",
       "version_major": 2,
       "version_minor": 0
      },
      "text/plain": [
       "Epoch 66/120:   0%|                                                        | 0/3960 [00:00<?, ?it/s]"
      ]
     },
     "metadata": {},
     "output_type": "display_data"
    },
    {
     "name": "stdout",
     "output_type": "stream",
     "text": [
      "    Batch 100/3960: loss=2.5146, acc=0.4623\n",
      "    Batch 200/3960: loss=2.5443, acc=0.4434\n",
      "    Batch 300/3960: loss=2.5663, acc=0.4472\n",
      "    Batch 400/3960: loss=2.5623, acc=0.4556\n",
      "    Batch 500/3960: loss=2.5734, acc=0.4479\n",
      "    Batch 600/3960: loss=2.5387, acc=0.4571\n",
      "    Batch 700/3960: loss=2.5458, acc=0.4500\n",
      "    Batch 800/3960: loss=2.5412, acc=0.4585\n",
      "    Batch 900/3960: loss=2.5375, acc=0.4632\n",
      "    Batch 1000/3960: loss=2.5315, acc=0.4659\n",
      "    Batch 1100/3960: loss=2.5345, acc=0.4621\n",
      "    Batch 1200/3960: loss=2.5364, acc=0.4616\n",
      "    Batch 1300/3960: loss=2.5295, acc=0.4632\n",
      "    Batch 1400/3960: loss=2.5327, acc=0.4626\n",
      "    Batch 1500/3960: loss=2.5267, acc=0.4639\n",
      "    Batch 1600/3960: loss=2.5297, acc=0.4629\n",
      "    Batch 1700/3960: loss=2.5327, acc=0.4620\n",
      "    Batch 1800/3960: loss=2.5317, acc=0.4614\n",
      "    Batch 1900/3960: loss=2.5295, acc=0.4617\n",
      "    Batch 2000/3960: loss=2.5288, acc=0.4611\n",
      "    Batch 2100/3960: loss=2.5297, acc=0.4610\n",
      "    Batch 2200/3960: loss=2.5317, acc=0.4604\n",
      "    Batch 2300/3960: loss=2.5331, acc=0.4596\n",
      "    Batch 2400/3960: loss=2.5315, acc=0.4617\n",
      "    Batch 2500/3960: loss=2.5302, acc=0.4632\n",
      "    Batch 2600/3960: loss=2.5291, acc=0.4641\n",
      "    Batch 2700/3960: loss=2.5312, acc=0.4637\n",
      "    Batch 2800/3960: loss=2.5338, acc=0.4621\n",
      "    Batch 2900/3960: loss=2.5340, acc=0.4616\n",
      "    Batch 3000/3960: loss=2.5369, acc=0.4623\n",
      "    Batch 3100/3960: loss=2.5377, acc=0.4621\n",
      "    Batch 3200/3960: loss=2.5383, acc=0.4620\n",
      "    Batch 3300/3960: loss=2.5396, acc=0.4608\n",
      "    Batch 3400/3960: loss=2.5390, acc=0.4601\n",
      "    Batch 3500/3960: loss=2.5368, acc=0.4594\n",
      "    Batch 3600/3960: loss=2.5374, acc=0.4572\n",
      "    Batch 3700/3960: loss=2.5374, acc=0.4574\n",
      "    Batch 3800/3960: loss=2.5377, acc=0.4576\n",
      "    Batch 3900/3960: loss=2.5386, acc=0.4576\n",
      "Epoch 66 Train Loss: 2.5393 Acc: 0.4578 LR: 0.000905\n",
      ">>> Training epoch 66 completed <<<\n",
      "  Starting validation...\n"
     ]
    },
    {
     "data": {
      "application/vnd.jupyter.widget-view+json": {
       "model_id": "d6eb486531f84aa4857280569a569e17",
       "version_major": 2,
       "version_minor": 0
      },
      "text/plain": [
       "Validation (raw):   0%|          | 0/157 [00:00<?, ?it/s]"
      ]
     },
     "metadata": {},
     "output_type": "display_data"
    },
    {
     "name": "stdout",
     "output_type": "stream",
     "text": [
      "Validation Acc (raw): 0.8038\n"
     ]
    },
    {
     "data": {
      "application/vnd.jupyter.widget-view+json": {
       "model_id": "574e183f1792420680cc0f7b66502ed8",
       "version_major": 2,
       "version_minor": 0
      },
      "text/plain": [
       "Validation (ema):   0%|          | 0/157 [00:00<?, ?it/s]"
      ]
     },
     "metadata": {},
     "output_type": "display_data"
    },
    {
     "name": "stdout",
     "output_type": "stream",
     "text": [
      "Validation Acc (ema): 0.3882\n",
      ">>> Validation completed <<<\n",
      "Epoch time: 24.11 mins\n",
      "\n",
      ">>> Starting Epoch 67/120 <<<\n",
      "  [DEBUG] Entered train_one_epoch function\n",
      "  [DEBUG] Set model to train mode\n",
      "  [DEBUG] Imported tqdm\n",
      "  Training epoch 67...\n",
      "  Loading first batch (this may take 10-30 seconds)...\n",
      "  [DEBUG] About to create iterator from train_loader...\n",
      "  [DEBUG] Calling iter(train_loader)...\n",
      "  [DEBUG] Iterator created successfully!\n",
      "  [DEBUG] Calling next(train_iter)...\n",
      "  ✓ First batch loaded! Shape: torch.Size([32, 3, 224, 224]), Labels: torch.Size([32])\n",
      "  Batch size actual: 32, Expected: 32\n"
     ]
    },
    {
     "data": {
      "application/vnd.jupyter.widget-view+json": {
       "model_id": "525619ade81e4f5287112879331f8aa2",
       "version_major": 2,
       "version_minor": 0
      },
      "text/plain": [
       "Epoch 67/120:   0%|                                                        | 0/3960 [00:00<?, ?it/s]"
      ]
     },
     "metadata": {},
     "output_type": "display_data"
    },
    {
     "name": "stdout",
     "output_type": "stream",
     "text": [
      "    Batch 100/3960: loss=2.5884, acc=0.4493\n",
      "    Batch 200/3960: loss=2.6012, acc=0.4504\n",
      "    Batch 300/3960: loss=2.5902, acc=0.4545\n",
      "    Batch 400/3960: loss=2.5736, acc=0.4603\n",
      "    Batch 500/3960: loss=2.5596, acc=0.4623\n",
      "    Batch 600/3960: loss=2.5491, acc=0.4700\n",
      "    Batch 700/3960: loss=2.5429, acc=0.4713\n",
      "    Batch 800/3960: loss=2.5465, acc=0.4693\n",
      "    Batch 900/3960: loss=2.5404, acc=0.4668\n",
      "    Batch 1000/3960: loss=2.5374, acc=0.4653\n",
      "    Batch 1100/3960: loss=2.5220, acc=0.4690\n",
      "    Batch 1200/3960: loss=2.5199, acc=0.4693\n",
      "    Batch 1300/3960: loss=2.5105, acc=0.4693\n",
      "    Batch 1400/3960: loss=2.5121, acc=0.4659\n",
      "    Batch 1500/3960: loss=2.5116, acc=0.4657\n",
      "    Batch 1600/3960: loss=2.5081, acc=0.4654\n",
      "    Batch 1700/3960: loss=2.5153, acc=0.4650\n",
      "    Batch 1800/3960: loss=2.5195, acc=0.4668\n",
      "    Batch 1900/3960: loss=2.5252, acc=0.4658\n",
      "    Batch 2000/3960: loss=2.5295, acc=0.4642\n",
      "    Batch 2100/3960: loss=2.5329, acc=0.4607\n",
      "    Batch 2200/3960: loss=2.5342, acc=0.4572\n",
      "    Batch 2300/3960: loss=2.5326, acc=0.4576\n",
      "    Batch 2400/3960: loss=2.5309, acc=0.4588\n",
      "    Batch 2500/3960: loss=2.5320, acc=0.4589\n",
      "    Batch 2600/3960: loss=2.5291, acc=0.4598\n",
      "    Batch 2700/3960: loss=2.5303, acc=0.4586\n",
      "    Batch 2800/3960: loss=2.5317, acc=0.4603\n",
      "    Batch 2900/3960: loss=2.5324, acc=0.4603\n",
      "    Batch 3000/3960: loss=2.5325, acc=0.4602\n",
      "    Batch 3100/3960: loss=2.5335, acc=0.4610\n",
      "    Batch 3200/3960: loss=2.5354, acc=0.4600\n",
      "    Batch 3300/3960: loss=2.5351, acc=0.4585\n",
      "    Batch 3400/3960: loss=2.5388, acc=0.4580\n",
      "    Batch 3500/3960: loss=2.5384, acc=0.4582\n",
      "    Batch 3600/3960: loss=2.5400, acc=0.4580\n",
      "    Batch 3700/3960: loss=2.5434, acc=0.4557\n",
      "    Batch 3800/3960: loss=2.5397, acc=0.4567\n",
      "    Batch 3900/3960: loss=2.5385, acc=0.4559\n",
      "Epoch 67 Train Loss: 2.5385 Acc: 0.4553 LR: 0.000877\n",
      ">>> Training epoch 67 completed <<<\n",
      "  Starting validation...\n"
     ]
    },
    {
     "data": {
      "application/vnd.jupyter.widget-view+json": {
       "model_id": "31a84e727a9e4f1c8c0b7054ec631032",
       "version_major": 2,
       "version_minor": 0
      },
      "text/plain": [
       "Validation (raw):   0%|          | 0/157 [00:00<?, ?it/s]"
      ]
     },
     "metadata": {},
     "output_type": "display_data"
    },
    {
     "name": "stdout",
     "output_type": "stream",
     "text": [
      "Validation Acc (raw): 0.8062\n"
     ]
    },
    {
     "data": {
      "application/vnd.jupyter.widget-view+json": {
       "model_id": "d70a4ad6746f426882a1bef0c90f76d1",
       "version_major": 2,
       "version_minor": 0
      },
      "text/plain": [
       "Validation (ema):   0%|          | 0/157 [00:00<?, ?it/s]"
      ]
     },
     "metadata": {},
     "output_type": "display_data"
    },
    {
     "name": "stdout",
     "output_type": "stream",
     "text": [
      "Validation Acc (ema): 0.3752\n",
      ">>> Validation completed <<<\n",
      "Epoch time: 24.05 mins\n",
      "\n",
      ">>> Starting Epoch 68/120 <<<\n",
      "  [DEBUG] Entered train_one_epoch function\n",
      "  [DEBUG] Set model to train mode\n",
      "  [DEBUG] Imported tqdm\n",
      "  Training epoch 68...\n",
      "  Loading first batch (this may take 10-30 seconds)...\n",
      "  [DEBUG] About to create iterator from train_loader...\n",
      "  [DEBUG] Calling iter(train_loader)...\n",
      "  [DEBUG] Iterator created successfully!\n",
      "  [DEBUG] Calling next(train_iter)...\n",
      "  ✓ First batch loaded! Shape: torch.Size([32, 3, 224, 224]), Labels: torch.Size([32])\n",
      "  Batch size actual: 32, Expected: 32\n"
     ]
    },
    {
     "data": {
      "application/vnd.jupyter.widget-view+json": {
       "model_id": "775726dcb9104e56ab885ea4068ebcb9",
       "version_major": 2,
       "version_minor": 0
      },
      "text/plain": [
       "Epoch 68/120:   0%|                                                        | 0/3960 [00:00<?, ?it/s]"
      ]
     },
     "metadata": {},
     "output_type": "display_data"
    },
    {
     "name": "stdout",
     "output_type": "stream",
     "text": [
      "    Batch 100/3960: loss=2.4830, acc=0.4638\n",
      "    Batch 200/3960: loss=2.4874, acc=0.4781\n",
      "    Batch 300/3960: loss=2.4855, acc=0.4814\n",
      "    Batch 400/3960: loss=2.4989, acc=0.4794\n",
      "    Batch 500/3960: loss=2.4933, acc=0.4781\n",
      "    Batch 600/3960: loss=2.4966, acc=0.4760\n",
      "    Batch 700/3960: loss=2.5029, acc=0.4744\n",
      "    Batch 800/3960: loss=2.5114, acc=0.4719\n",
      "    Batch 900/3960: loss=2.5164, acc=0.4721\n",
      "    Batch 1000/3960: loss=2.5227, acc=0.4732\n",
      "    Batch 1100/3960: loss=2.5271, acc=0.4771\n",
      "    Batch 1200/3960: loss=2.5271, acc=0.4746\n",
      "    Batch 1300/3960: loss=2.5299, acc=0.4727\n",
      "    Batch 1400/3960: loss=2.5269, acc=0.4728\n",
      "    Batch 1500/3960: loss=2.5270, acc=0.4734\n",
      "    Batch 1600/3960: loss=2.5295, acc=0.4712\n",
      "    Batch 1700/3960: loss=2.5286, acc=0.4710\n",
      "    Batch 1800/3960: loss=2.5300, acc=0.4725\n",
      "    Batch 1900/3960: loss=2.5270, acc=0.4733\n",
      "    Batch 2000/3960: loss=2.5267, acc=0.4733\n",
      "    Batch 2100/3960: loss=2.5267, acc=0.4719\n",
      "    Batch 2200/3960: loss=2.5275, acc=0.4707\n",
      "    Batch 2300/3960: loss=2.5274, acc=0.4694\n",
      "    Batch 2400/3960: loss=2.5279, acc=0.4687\n",
      "    Batch 2500/3960: loss=2.5320, acc=0.4684\n",
      "    Batch 2600/3960: loss=2.5286, acc=0.4689\n",
      "    Batch 2700/3960: loss=2.5272, acc=0.4691\n",
      "    Batch 2800/3960: loss=2.5270, acc=0.4694\n",
      "    Batch 2900/3960: loss=2.5256, acc=0.4687\n",
      "    Batch 3000/3960: loss=2.5261, acc=0.4683\n",
      "    Batch 3100/3960: loss=2.5257, acc=0.4665\n",
      "    Batch 3200/3960: loss=2.5272, acc=0.4662\n",
      "    Batch 3300/3960: loss=2.5269, acc=0.4661\n",
      "    Batch 3400/3960: loss=2.5287, acc=0.4646\n",
      "    Batch 3500/3960: loss=2.5312, acc=0.4636\n",
      "    Batch 3600/3960: loss=2.5302, acc=0.4639\n",
      "    Batch 3700/3960: loss=2.5301, acc=0.4645\n",
      "    Batch 3800/3960: loss=2.5273, acc=0.4655\n",
      "    Batch 3900/3960: loss=2.5273, acc=0.4648\n",
      "Epoch 68 Train Loss: 2.5273 Acc: 0.4645 LR: 0.000850\n",
      ">>> Training epoch 68 completed <<<\n",
      "  Starting validation...\n"
     ]
    },
    {
     "data": {
      "application/vnd.jupyter.widget-view+json": {
       "model_id": "6ad164822b13414ab84d2217635974af",
       "version_major": 2,
       "version_minor": 0
      },
      "text/plain": [
       "Validation (raw):   0%|          | 0/157 [00:00<?, ?it/s]"
      ]
     },
     "metadata": {},
     "output_type": "display_data"
    },
    {
     "name": "stdout",
     "output_type": "stream",
     "text": [
      "Validation Acc (raw): 0.8120\n"
     ]
    },
    {
     "data": {
      "application/vnd.jupyter.widget-view+json": {
       "model_id": "96987845ee5e49019710b9a579233f7b",
       "version_major": 2,
       "version_minor": 0
      },
      "text/plain": [
       "Validation (ema):   0%|          | 0/157 [00:00<?, ?it/s]"
      ]
     },
     "metadata": {},
     "output_type": "display_data"
    },
    {
     "name": "stdout",
     "output_type": "stream",
     "text": [
      "Validation Acc (ema): 0.3588\n",
      ">>> Validation completed <<<\n",
      "Epoch time: 24.11 mins\n",
      "\n",
      ">>> Starting Epoch 69/120 <<<\n",
      "  [DEBUG] Entered train_one_epoch function\n",
      "  [DEBUG] Set model to train mode\n",
      "  [DEBUG] Imported tqdm\n",
      "  Training epoch 69...\n",
      "  Loading first batch (this may take 10-30 seconds)...\n",
      "  [DEBUG] About to create iterator from train_loader...\n",
      "  [DEBUG] Calling iter(train_loader)...\n",
      "  [DEBUG] Iterator created successfully!\n",
      "  [DEBUG] Calling next(train_iter)...\n",
      "  ✓ First batch loaded! Shape: torch.Size([32, 3, 224, 224]), Labels: torch.Size([32])\n",
      "  Batch size actual: 32, Expected: 32\n"
     ]
    },
    {
     "data": {
      "application/vnd.jupyter.widget-view+json": {
       "model_id": "48b57254e33f49458307e962a419f1e5",
       "version_major": 2,
       "version_minor": 0
      },
      "text/plain": [
       "Epoch 69/120:   0%|                                                        | 0/3960 [00:00<?, ?it/s]"
      ]
     },
     "metadata": {},
     "output_type": "display_data"
    },
    {
     "name": "stdout",
     "output_type": "stream",
     "text": [
      "    Batch 100/3960: loss=2.4786, acc=0.4322\n",
      "    Batch 200/3960: loss=2.4722, acc=0.4325\n",
      "    Batch 300/3960: loss=2.4911, acc=0.4492\n",
      "    Batch 400/3960: loss=2.5103, acc=0.4556\n",
      "    Batch 500/3960: loss=2.5326, acc=0.4557\n",
      "    Batch 600/3960: loss=2.5192, acc=0.4567\n",
      "    Batch 700/3960: loss=2.5196, acc=0.4575\n",
      "    Batch 800/3960: loss=2.5197, acc=0.4554\n",
      "    Batch 900/3960: loss=2.5240, acc=0.4523\n",
      "    Batch 1000/3960: loss=2.5139, acc=0.4579\n",
      "    Batch 1100/3960: loss=2.5181, acc=0.4569\n",
      "    Batch 1200/3960: loss=2.5235, acc=0.4570\n",
      "    Batch 1300/3960: loss=2.5250, acc=0.4567\n",
      "    Batch 1400/3960: loss=2.5209, acc=0.4585\n",
      "    Batch 1500/3960: loss=2.5207, acc=0.4615\n",
      "    Batch 1600/3960: loss=2.5288, acc=0.4581\n",
      "    Batch 1700/3960: loss=2.5248, acc=0.4598\n",
      "    Batch 1800/3960: loss=2.5250, acc=0.4610\n",
      "    Batch 1900/3960: loss=2.5271, acc=0.4617\n",
      "    Batch 2000/3960: loss=2.5276, acc=0.4610\n",
      "    Batch 2100/3960: loss=2.5320, acc=0.4597\n",
      "    Batch 2200/3960: loss=2.5307, acc=0.4601\n",
      "    Batch 2300/3960: loss=2.5342, acc=0.4585\n",
      "    Batch 2400/3960: loss=2.5338, acc=0.4590\n",
      "    Batch 2500/3960: loss=2.5339, acc=0.4598\n",
      "    Batch 2600/3960: loss=2.5357, acc=0.4600\n",
      "    Batch 2700/3960: loss=2.5336, acc=0.4602\n",
      "    Batch 2800/3960: loss=2.5346, acc=0.4591\n",
      "    Batch 2900/3960: loss=2.5396, acc=0.4606\n",
      "    Batch 3000/3960: loss=2.5379, acc=0.4611\n",
      "    Batch 3100/3960: loss=2.5348, acc=0.4620\n",
      "    Batch 3200/3960: loss=2.5330, acc=0.4623\n",
      "    Batch 3300/3960: loss=2.5296, acc=0.4624\n",
      "    Batch 3400/3960: loss=2.5297, acc=0.4624\n",
      "    Batch 3500/3960: loss=2.5303, acc=0.4631\n",
      "    Batch 3600/3960: loss=2.5282, acc=0.4643\n",
      "    Batch 3700/3960: loss=2.5261, acc=0.4654\n",
      "    Batch 3800/3960: loss=2.5237, acc=0.4665\n",
      "    Batch 3900/3960: loss=2.5228, acc=0.4666\n",
      "Epoch 69 Train Loss: 2.5211 Acc: 0.4675 LR: 0.000823\n",
      ">>> Training epoch 69 completed <<<\n",
      "  Starting validation...\n"
     ]
    },
    {
     "data": {
      "application/vnd.jupyter.widget-view+json": {
       "model_id": "3c34f36c3f0f4b3aac56645edbd0f5ca",
       "version_major": 2,
       "version_minor": 0
      },
      "text/plain": [
       "Validation (raw):   0%|          | 0/157 [00:00<?, ?it/s]"
      ]
     },
     "metadata": {},
     "output_type": "display_data"
    },
    {
     "name": "stdout",
     "output_type": "stream",
     "text": [
      "Validation Acc (raw): 0.8064\n"
     ]
    },
    {
     "data": {
      "application/vnd.jupyter.widget-view+json": {
       "model_id": "623f5b36073d485aa78024479aba3b1d",
       "version_major": 2,
       "version_minor": 0
      },
      "text/plain": [
       "Validation (ema):   0%|          | 0/157 [00:00<?, ?it/s]"
      ]
     },
     "metadata": {},
     "output_type": "display_data"
    },
    {
     "name": "stdout",
     "output_type": "stream",
     "text": [
      "Validation Acc (ema): 0.3406\n",
      ">>> Validation completed <<<\n",
      "Epoch time: 24.11 mins\n",
      "\n",
      ">>> Starting Epoch 70/120 <<<\n",
      "  [DEBUG] Entered train_one_epoch function\n",
      "  [DEBUG] Set model to train mode\n",
      "  [DEBUG] Imported tqdm\n",
      "  Training epoch 70...\n",
      "  Loading first batch (this may take 10-30 seconds)...\n",
      "  [DEBUG] About to create iterator from train_loader...\n",
      "  [DEBUG] Calling iter(train_loader)...\n",
      "  [DEBUG] Iterator created successfully!\n",
      "  [DEBUG] Calling next(train_iter)...\n",
      "  ✓ First batch loaded! Shape: torch.Size([32, 3, 224, 224]), Labels: torch.Size([32])\n",
      "  Batch size actual: 32, Expected: 32\n"
     ]
    },
    {
     "data": {
      "application/vnd.jupyter.widget-view+json": {
       "model_id": "13262d1b974544709a573680fb5f09d4",
       "version_major": 2,
       "version_minor": 0
      },
      "text/plain": [
       "Epoch 70/120:   0%|                                                        | 0/3960 [00:00<?, ?it/s]"
      ]
     },
     "metadata": {},
     "output_type": "display_data"
    },
    {
     "name": "stdout",
     "output_type": "stream",
     "text": [
      "    Batch 100/3960: loss=2.5884, acc=0.4564\n",
      "    Batch 200/3960: loss=2.5132, acc=0.4639\n",
      "    Batch 300/3960: loss=2.4891, acc=0.4827\n",
      "    Batch 400/3960: loss=2.5078, acc=0.4901\n",
      "    Batch 500/3960: loss=2.5140, acc=0.4916\n",
      "    Batch 600/3960: loss=2.5147, acc=0.4880\n",
      "    Batch 700/3960: loss=2.5102, acc=0.4854\n",
      "    Batch 800/3960: loss=2.4921, acc=0.4884\n",
      "    Batch 900/3960: loss=2.5018, acc=0.4857\n",
      "    Batch 1000/3960: loss=2.5097, acc=0.4839\n",
      "    Batch 1100/3960: loss=2.5060, acc=0.4825\n",
      "    Batch 1200/3960: loss=2.5156, acc=0.4807\n",
      "    Batch 1300/3960: loss=2.5088, acc=0.4778\n",
      "    Batch 1400/3960: loss=2.5080, acc=0.4778\n",
      "    Batch 1500/3960: loss=2.5081, acc=0.4770\n",
      "    Batch 1600/3960: loss=2.5024, acc=0.4791\n",
      "    Batch 1700/3960: loss=2.5026, acc=0.4783\n",
      "    Batch 1800/3960: loss=2.5040, acc=0.4760\n",
      "    Batch 1900/3960: loss=2.5055, acc=0.4757\n",
      "    Batch 2000/3960: loss=2.5039, acc=0.4760\n",
      "    Batch 2100/3960: loss=2.5031, acc=0.4763\n",
      "    Batch 2200/3960: loss=2.4981, acc=0.4756\n",
      "    Batch 2300/3960: loss=2.5010, acc=0.4743\n",
      "    Batch 2400/3960: loss=2.5048, acc=0.4732\n",
      "    Batch 2500/3960: loss=2.5027, acc=0.4723\n",
      "    Batch 2600/3960: loss=2.5026, acc=0.4720\n",
      "    Batch 2700/3960: loss=2.5047, acc=0.4712\n",
      "    Batch 2800/3960: loss=2.5026, acc=0.4717\n",
      "    Batch 2900/3960: loss=2.5063, acc=0.4709\n",
      "    Batch 3000/3960: loss=2.5077, acc=0.4708\n",
      "    Batch 3100/3960: loss=2.5083, acc=0.4698\n",
      "    Batch 3200/3960: loss=2.5073, acc=0.4703\n",
      "    Batch 3300/3960: loss=2.5123, acc=0.4702\n",
      "    Batch 3400/3960: loss=2.5107, acc=0.4712\n",
      "    Batch 3500/3960: loss=2.5101, acc=0.4702\n",
      "    Batch 3600/3960: loss=2.5083, acc=0.4707\n",
      "    Batch 3700/3960: loss=2.5094, acc=0.4708\n",
      "    Batch 3800/3960: loss=2.5079, acc=0.4709\n",
      "    Batch 3900/3960: loss=2.5088, acc=0.4712\n",
      "Epoch 70 Train Loss: 2.5093 Acc: 0.4706 LR: 0.000797\n",
      ">>> Training epoch 70 completed <<<\n",
      "  Starting validation...\n"
     ]
    },
    {
     "data": {
      "application/vnd.jupyter.widget-view+json": {
       "model_id": "ad2b377c4c1545ada9edcacb8188b9ec",
       "version_major": 2,
       "version_minor": 0
      },
      "text/plain": [
       "Validation (raw):   0%|          | 0/157 [00:00<?, ?it/s]"
      ]
     },
     "metadata": {},
     "output_type": "display_data"
    },
    {
     "name": "stdout",
     "output_type": "stream",
     "text": [
      "Validation Acc (raw): 0.8104\n"
     ]
    },
    {
     "data": {
      "application/vnd.jupyter.widget-view+json": {
       "model_id": "564836db2c8442fb9a9ad1c43de2a8a3",
       "version_major": 2,
       "version_minor": 0
      },
      "text/plain": [
       "Validation (ema):   0%|          | 0/157 [00:00<?, ?it/s]"
      ]
     },
     "metadata": {},
     "output_type": "display_data"
    },
    {
     "name": "stdout",
     "output_type": "stream",
     "text": [
      "Validation Acc (ema): 0.3220\n",
      ">>> Validation completed <<<\n",
      "Epoch time: 24.04 mins\n",
      "Saved checkpoint\n",
      "\n",
      ">>> Starting Epoch 71/120 <<<\n",
      "  [DEBUG] Entered train_one_epoch function\n",
      "  [DEBUG] Set model to train mode\n",
      "  [DEBUG] Imported tqdm\n",
      "  Training epoch 71...\n",
      "  Loading first batch (this may take 10-30 seconds)...\n",
      "  [DEBUG] About to create iterator from train_loader...\n",
      "  [DEBUG] Calling iter(train_loader)...\n",
      "  [DEBUG] Iterator created successfully!\n",
      "  [DEBUG] Calling next(train_iter)...\n",
      "  ✓ First batch loaded! Shape: torch.Size([32, 3, 224, 224]), Labels: torch.Size([32])\n",
      "  Batch size actual: 32, Expected: 32\n"
     ]
    },
    {
     "data": {
      "application/vnd.jupyter.widget-view+json": {
       "model_id": "102f8ff39cb344538e18adaae82ed628",
       "version_major": 2,
       "version_minor": 0
      },
      "text/plain": [
       "Epoch 71/120:   0%|                                                        | 0/3960 [00:00<?, ?it/s]"
      ]
     },
     "metadata": {},
     "output_type": "display_data"
    },
    {
     "name": "stdout",
     "output_type": "stream",
     "text": [
      "    Batch 100/3960: loss=2.4257, acc=0.4867\n",
      "    Batch 200/3960: loss=2.4498, acc=0.4997\n",
      "    Batch 300/3960: loss=2.5129, acc=0.4783\n",
      "    Batch 400/3960: loss=2.5112, acc=0.4752\n",
      "    Batch 500/3960: loss=2.5155, acc=0.4737\n",
      "    Batch 600/3960: loss=2.5138, acc=0.4716\n",
      "    Batch 700/3960: loss=2.5091, acc=0.4695\n",
      "    Batch 800/3960: loss=2.4916, acc=0.4774\n",
      "    Batch 900/3960: loss=2.5032, acc=0.4772\n",
      "    Batch 1000/3960: loss=2.5062, acc=0.4772\n",
      "    Batch 1100/3960: loss=2.4983, acc=0.4751\n",
      "    Batch 1200/3960: loss=2.5003, acc=0.4744\n",
      "    Batch 1300/3960: loss=2.5004, acc=0.4748\n",
      "    Batch 1400/3960: loss=2.4948, acc=0.4743\n",
      "    Batch 1500/3960: loss=2.4935, acc=0.4750\n",
      "    Batch 1600/3960: loss=2.4963, acc=0.4755\n",
      "    Batch 1700/3960: loss=2.4939, acc=0.4756\n",
      "    Batch 1800/3960: loss=2.4898, acc=0.4775\n",
      "    Batch 1900/3960: loss=2.4917, acc=0.4770\n",
      "    Batch 2000/3960: loss=2.4930, acc=0.4779\n",
      "    Batch 2100/3960: loss=2.4896, acc=0.4783\n",
      "    Batch 2200/3960: loss=2.4874, acc=0.4793\n",
      "    Batch 2300/3960: loss=2.4866, acc=0.4781\n",
      "    Batch 2400/3960: loss=2.4856, acc=0.4783\n",
      "    Batch 2500/3960: loss=2.4848, acc=0.4780\n",
      "    Batch 2600/3960: loss=2.4860, acc=0.4777\n",
      "    Batch 2700/3960: loss=2.4891, acc=0.4761\n",
      "    Batch 2800/3960: loss=2.4898, acc=0.4748\n",
      "    Batch 2900/3960: loss=2.4891, acc=0.4758\n",
      "    Batch 3000/3960: loss=2.4926, acc=0.4750\n",
      "    Batch 3100/3960: loss=2.4903, acc=0.4759\n",
      "    Batch 3200/3960: loss=2.4909, acc=0.4760\n",
      "    Batch 3300/3960: loss=2.4901, acc=0.4762\n",
      "    Batch 3400/3960: loss=2.4897, acc=0.4768\n",
      "    Batch 3500/3960: loss=2.4913, acc=0.4772\n",
      "    Batch 3600/3960: loss=2.4920, acc=0.4770\n",
      "    Batch 3700/3960: loss=2.4912, acc=0.4781\n",
      "    Batch 3800/3960: loss=2.4934, acc=0.4781\n",
      "    Batch 3900/3960: loss=2.4945, acc=0.4778\n",
      "Epoch 71 Train Loss: 2.4932 Acc: 0.4779 LR: 0.000770\n",
      ">>> Training epoch 71 completed <<<\n",
      "  Starting validation...\n"
     ]
    },
    {
     "data": {
      "application/vnd.jupyter.widget-view+json": {
       "model_id": "87f0258f7bf44e85af4becaf30ec706c",
       "version_major": 2,
       "version_minor": 0
      },
      "text/plain": [
       "Validation (raw):   0%|          | 0/157 [00:00<?, ?it/s]"
      ]
     },
     "metadata": {},
     "output_type": "display_data"
    },
    {
     "name": "stdout",
     "output_type": "stream",
     "text": [
      "Validation Acc (raw): 0.8210\n"
     ]
    },
    {
     "data": {
      "application/vnd.jupyter.widget-view+json": {
       "model_id": "4b4d6c2193c44496bf424f81ccd8b257",
       "version_major": 2,
       "version_minor": 0
      },
      "text/plain": [
       "Validation (ema):   0%|          | 0/157 [00:00<?, ?it/s]"
      ]
     },
     "metadata": {},
     "output_type": "display_data"
    },
    {
     "name": "stdout",
     "output_type": "stream",
     "text": [
      "Validation Acc (ema): 0.3064\n",
      ">>> Validation completed <<<\n",
      "Epoch time: 25.81 mins\n",
      "\n",
      ">>> Starting Epoch 72/120 <<<\n",
      "  [DEBUG] Entered train_one_epoch function\n",
      "  [DEBUG] Set model to train mode\n",
      "  [DEBUG] Imported tqdm\n",
      "  Training epoch 72...\n",
      "  Loading first batch (this may take 10-30 seconds)...\n",
      "  [DEBUG] About to create iterator from train_loader...\n",
      "  [DEBUG] Calling iter(train_loader)...\n",
      "  [DEBUG] Iterator created successfully!\n",
      "  [DEBUG] Calling next(train_iter)...\n",
      "  ✓ First batch loaded! Shape: torch.Size([32, 3, 224, 224]), Labels: torch.Size([32])\n",
      "  Batch size actual: 32, Expected: 32\n"
     ]
    },
    {
     "data": {
      "application/vnd.jupyter.widget-view+json": {
       "model_id": "c031bcc2c15443a1aef920a785d3c191",
       "version_major": 2,
       "version_minor": 0
      },
      "text/plain": [
       "Epoch 72/120:   0%|                                                        | 0/3960 [00:00<?, ?it/s]"
      ]
     },
     "metadata": {},
     "output_type": "display_data"
    },
    {
     "name": "stdout",
     "output_type": "stream",
     "text": [
      "    Batch 100/3960: loss=2.4358, acc=0.4836\n",
      "    Batch 200/3960: loss=2.4331, acc=0.5002\n",
      "    Batch 300/3960: loss=2.4639, acc=0.4971\n",
      "    Batch 400/3960: loss=2.4560, acc=0.4984\n",
      "    Batch 500/3960: loss=2.4429, acc=0.5057\n",
      "    Batch 600/3960: loss=2.4652, acc=0.4979\n",
      "    Batch 700/3960: loss=2.4630, acc=0.4981\n",
      "    Batch 800/3960: loss=2.4574, acc=0.4966\n",
      "    Batch 900/3960: loss=2.4756, acc=0.4908\n",
      "    Batch 1000/3960: loss=2.4697, acc=0.4921\n",
      "    Batch 1100/3960: loss=2.4713, acc=0.4918\n",
      "    Batch 1200/3960: loss=2.4783, acc=0.4888\n",
      "    Batch 1300/3960: loss=2.4790, acc=0.4890\n",
      "    Batch 1400/3960: loss=2.4672, acc=0.4909\n",
      "    Batch 1500/3960: loss=2.4701, acc=0.4897\n",
      "    Batch 1600/3960: loss=2.4699, acc=0.4908\n",
      "    Batch 1700/3960: loss=2.4740, acc=0.4886\n",
      "    Batch 1800/3960: loss=2.4698, acc=0.4888\n",
      "    Batch 1900/3960: loss=2.4703, acc=0.4887\n",
      "    Batch 2000/3960: loss=2.4709, acc=0.4858\n",
      "    Batch 2100/3960: loss=2.4768, acc=0.4844\n",
      "    Batch 2200/3960: loss=2.4805, acc=0.4840\n",
      "    Batch 2300/3960: loss=2.4784, acc=0.4822\n",
      "    Batch 2400/3960: loss=2.4768, acc=0.4838\n",
      "    Batch 2500/3960: loss=2.4772, acc=0.4848\n",
      "    Batch 2600/3960: loss=2.4848, acc=0.4842\n",
      "    Batch 2700/3960: loss=2.4849, acc=0.4838\n",
      "    Batch 2800/3960: loss=2.4862, acc=0.4826\n",
      "    Batch 2900/3960: loss=2.4880, acc=0.4817\n",
      "    Batch 3000/3960: loss=2.4895, acc=0.4811\n",
      "    Batch 3100/3960: loss=2.4884, acc=0.4810\n",
      "    Batch 3200/3960: loss=2.4889, acc=0.4819\n",
      "    Batch 3300/3960: loss=2.4881, acc=0.4815\n",
      "    Batch 3400/3960: loss=2.4897, acc=0.4809\n",
      "    Batch 3500/3960: loss=2.4898, acc=0.4813\n",
      "    Batch 3600/3960: loss=2.4892, acc=0.4819\n",
      "    Batch 3700/3960: loss=2.4884, acc=0.4816\n",
      "    Batch 3800/3960: loss=2.4870, acc=0.4798\n",
      "    Batch 3900/3960: loss=2.4907, acc=0.4786\n",
      "Epoch 72 Train Loss: 2.4904 Acc: 0.4791 LR: 0.000743\n",
      ">>> Training epoch 72 completed <<<\n",
      "  Starting validation...\n"
     ]
    },
    {
     "data": {
      "application/vnd.jupyter.widget-view+json": {
       "model_id": "e12c1b7707874b32ab75969f9863e88e",
       "version_major": 2,
       "version_minor": 0
      },
      "text/plain": [
       "Validation (raw):   0%|          | 0/157 [00:00<?, ?it/s]"
      ]
     },
     "metadata": {},
     "output_type": "display_data"
    },
    {
     "name": "stdout",
     "output_type": "stream",
     "text": [
      "Validation Acc (raw): 0.8234\n"
     ]
    },
    {
     "data": {
      "application/vnd.jupyter.widget-view+json": {
       "model_id": "711cd3738f34474698209818a9de5392",
       "version_major": 2,
       "version_minor": 0
      },
      "text/plain": [
       "Validation (ema):   0%|          | 0/157 [00:00<?, ?it/s]"
      ]
     },
     "metadata": {},
     "output_type": "display_data"
    },
    {
     "name": "stdout",
     "output_type": "stream",
     "text": [
      "Validation Acc (ema): 0.2908\n",
      ">>> Validation completed <<<\n",
      "Epoch time: 24.04 mins\n",
      "\n",
      ">>> Starting Epoch 73/120 <<<\n",
      "  [DEBUG] Entered train_one_epoch function\n",
      "  [DEBUG] Set model to train mode\n",
      "  [DEBUG] Imported tqdm\n",
      "  Training epoch 73...\n",
      "  Loading first batch (this may take 10-30 seconds)...\n",
      "  [DEBUG] About to create iterator from train_loader...\n",
      "  [DEBUG] Calling iter(train_loader)...\n",
      "  [DEBUG] Iterator created successfully!\n",
      "  [DEBUG] Calling next(train_iter)...\n",
      "  ✓ First batch loaded! Shape: torch.Size([32, 3, 224, 224]), Labels: torch.Size([32])\n",
      "  Batch size actual: 32, Expected: 32\n"
     ]
    },
    {
     "data": {
      "application/vnd.jupyter.widget-view+json": {
       "model_id": "e213e0d23d1b440f9926e89af6ea0e0d",
       "version_major": 2,
       "version_minor": 0
      },
      "text/plain": [
       "Epoch 73/120:   0%|                                                        | 0/3960 [00:00<?, ?it/s]"
      ]
     },
     "metadata": {},
     "output_type": "display_data"
    },
    {
     "name": "stdout",
     "output_type": "stream",
     "text": [
      "    Batch 100/3960: loss=2.4399, acc=0.4882\n",
      "    Batch 200/3960: loss=2.4608, acc=0.4695\n",
      "    Batch 300/3960: loss=2.4602, acc=0.4746\n",
      "    Batch 400/3960: loss=2.4478, acc=0.4814\n",
      "    Batch 500/3960: loss=2.4556, acc=0.4797\n",
      "    Batch 600/3960: loss=2.4608, acc=0.4804\n",
      "    Batch 700/3960: loss=2.4802, acc=0.4749\n",
      "    Batch 800/3960: loss=2.4817, acc=0.4749\n",
      "    Batch 900/3960: loss=2.4829, acc=0.4739\n",
      "    Batch 1000/3960: loss=2.4833, acc=0.4771\n",
      "    Batch 1100/3960: loss=2.4807, acc=0.4758\n",
      "    Batch 1200/3960: loss=2.4828, acc=0.4735\n",
      "    Batch 1300/3960: loss=2.4828, acc=0.4769\n",
      "    Batch 1400/3960: loss=2.4783, acc=0.4760\n",
      "    Batch 1500/3960: loss=2.4806, acc=0.4775\n",
      "    Batch 1600/3960: loss=2.4835, acc=0.4775\n",
      "    Batch 1700/3960: loss=2.4811, acc=0.4748\n",
      "    Batch 1800/3960: loss=2.4839, acc=0.4740\n",
      "    Batch 1900/3960: loss=2.4863, acc=0.4749\n",
      "    Batch 2000/3960: loss=2.4867, acc=0.4739\n",
      "    Batch 2100/3960: loss=2.4856, acc=0.4735\n",
      "    Batch 2200/3960: loss=2.4804, acc=0.4754\n",
      "    Batch 2300/3960: loss=2.4825, acc=0.4761\n",
      "    Batch 2400/3960: loss=2.4821, acc=0.4758\n",
      "    Batch 2500/3960: loss=2.4826, acc=0.4757\n",
      "    Batch 2600/3960: loss=2.4795, acc=0.4766\n",
      "    Batch 2700/3960: loss=2.4780, acc=0.4779\n",
      "    Batch 2800/3960: loss=2.4778, acc=0.4775\n",
      "    Batch 2900/3960: loss=2.4754, acc=0.4774\n",
      "    Batch 3000/3960: loss=2.4770, acc=0.4763\n",
      "    Batch 3100/3960: loss=2.4756, acc=0.4765\n",
      "    Batch 3200/3960: loss=2.4741, acc=0.4773\n",
      "    Batch 3300/3960: loss=2.4754, acc=0.4773\n",
      "    Batch 3400/3960: loss=2.4737, acc=0.4778\n",
      "    Batch 3500/3960: loss=2.4754, acc=0.4773\n",
      "    Batch 3600/3960: loss=2.4800, acc=0.4771\n",
      "    Batch 3700/3960: loss=2.4818, acc=0.4769\n",
      "    Batch 3800/3960: loss=2.4812, acc=0.4767\n",
      "    Batch 3900/3960: loss=2.4812, acc=0.4760\n",
      "Epoch 73 Train Loss: 2.4795 Acc: 0.4753 LR: 0.000717\n",
      ">>> Training epoch 73 completed <<<\n",
      "  Starting validation...\n"
     ]
    },
    {
     "data": {
      "application/vnd.jupyter.widget-view+json": {
       "model_id": "2c1cac7d18e449c8a570896e090d35e7",
       "version_major": 2,
       "version_minor": 0
      },
      "text/plain": [
       "Validation (raw):   0%|          | 0/157 [00:00<?, ?it/s]"
      ]
     },
     "metadata": {},
     "output_type": "display_data"
    },
    {
     "name": "stdout",
     "output_type": "stream",
     "text": [
      "Validation Acc (raw): 0.8190\n"
     ]
    },
    {
     "data": {
      "application/vnd.jupyter.widget-view+json": {
       "model_id": "395f9afe8b1e475ba77479cf506e9da9",
       "version_major": 2,
       "version_minor": 0
      },
      "text/plain": [
       "Validation (ema):   0%|          | 0/157 [00:00<?, ?it/s]"
      ]
     },
     "metadata": {},
     "output_type": "display_data"
    },
    {
     "name": "stdout",
     "output_type": "stream",
     "text": [
      "Validation Acc (ema): 0.2716\n",
      ">>> Validation completed <<<\n",
      "Epoch time: 24.05 mins\n",
      "\n",
      ">>> Starting Epoch 74/120 <<<\n",
      "  [DEBUG] Entered train_one_epoch function\n",
      "  [DEBUG] Set model to train mode\n",
      "  [DEBUG] Imported tqdm\n",
      "  Training epoch 74...\n",
      "  Loading first batch (this may take 10-30 seconds)...\n",
      "  [DEBUG] About to create iterator from train_loader...\n",
      "  [DEBUG] Calling iter(train_loader)...\n",
      "  [DEBUG] Iterator created successfully!\n",
      "  [DEBUG] Calling next(train_iter)...\n",
      "  ✓ First batch loaded! Shape: torch.Size([32, 3, 224, 224]), Labels: torch.Size([32])\n",
      "  Batch size actual: 32, Expected: 32\n"
     ]
    },
    {
     "data": {
      "application/vnd.jupyter.widget-view+json": {
       "model_id": "4cc8a36ad24d4da8b72b453cd477e581",
       "version_major": 2,
       "version_minor": 0
      },
      "text/plain": [
       "Epoch 74/120:   0%|                                                        | 0/3960 [00:00<?, ?it/s]"
      ]
     },
     "metadata": {},
     "output_type": "display_data"
    },
    {
     "name": "stdout",
     "output_type": "stream",
     "text": [
      "    Batch 100/3960: loss=2.4056, acc=0.4839\n",
      "    Batch 200/3960: loss=2.4053, acc=0.5093\n",
      "    Batch 300/3960: loss=2.4087, acc=0.4930\n",
      "    Batch 400/3960: loss=2.4416, acc=0.4881\n",
      "    Batch 500/3960: loss=2.4606, acc=0.4836\n",
      "    Batch 600/3960: loss=2.4631, acc=0.4864\n",
      "    Batch 700/3960: loss=2.4543, acc=0.4930\n",
      "    Batch 800/3960: loss=2.4643, acc=0.4882\n",
      "    Batch 900/3960: loss=2.4608, acc=0.4920\n",
      "    Batch 1000/3960: loss=2.4590, acc=0.4966\n",
      "    Batch 1100/3960: loss=2.4588, acc=0.4936\n",
      "    Batch 1200/3960: loss=2.4539, acc=0.4957\n",
      "    Batch 1300/3960: loss=2.4616, acc=0.4948\n",
      "    Batch 1400/3960: loss=2.4596, acc=0.4934\n",
      "    Batch 1500/3960: loss=2.4655, acc=0.4927\n",
      "    Batch 1600/3960: loss=2.4695, acc=0.4920\n",
      "    Batch 1700/3960: loss=2.4658, acc=0.4912\n",
      "    Batch 1800/3960: loss=2.4647, acc=0.4893\n",
      "    Batch 1900/3960: loss=2.4671, acc=0.4899\n",
      "    Batch 2000/3960: loss=2.4700, acc=0.4872\n",
      "    Batch 2100/3960: loss=2.4688, acc=0.4867\n",
      "    Batch 2200/3960: loss=2.4669, acc=0.4872\n",
      "    Batch 2300/3960: loss=2.4666, acc=0.4881\n",
      "    Batch 2400/3960: loss=2.4655, acc=0.4872\n",
      "    Batch 2500/3960: loss=2.4685, acc=0.4852\n",
      "    Batch 2600/3960: loss=2.4681, acc=0.4848\n",
      "    Batch 2700/3960: loss=2.4650, acc=0.4861\n",
      "    Batch 2800/3960: loss=2.4662, acc=0.4847\n",
      "    Batch 2900/3960: loss=2.4657, acc=0.4841\n",
      "    Batch 3000/3960: loss=2.4640, acc=0.4842\n",
      "    Batch 3100/3960: loss=2.4639, acc=0.4841\n",
      "    Batch 3200/3960: loss=2.4622, acc=0.4850\n",
      "    Batch 3300/3960: loss=2.4640, acc=0.4846\n",
      "    Batch 3400/3960: loss=2.4638, acc=0.4846\n",
      "    Batch 3500/3960: loss=2.4649, acc=0.4837\n",
      "    Batch 3600/3960: loss=2.4644, acc=0.4844\n",
      "    Batch 3700/3960: loss=2.4665, acc=0.4833\n",
      "    Batch 3800/3960: loss=2.4658, acc=0.4843\n",
      "    Batch 3900/3960: loss=2.4631, acc=0.4857\n",
      "Epoch 74 Train Loss: 2.4621 Acc: 0.4859 LR: 0.000691\n",
      ">>> Training epoch 74 completed <<<\n",
      "  Starting validation...\n"
     ]
    },
    {
     "data": {
      "application/vnd.jupyter.widget-view+json": {
       "model_id": "712b69a3fa2c4dd9aa6cbaccdba7b6fa",
       "version_major": 2,
       "version_minor": 0
      },
      "text/plain": [
       "Validation (raw):   0%|          | 0/157 [00:00<?, ?it/s]"
      ]
     },
     "metadata": {},
     "output_type": "display_data"
    },
    {
     "name": "stdout",
     "output_type": "stream",
     "text": [
      "Validation Acc (raw): 0.8170\n"
     ]
    },
    {
     "data": {
      "application/vnd.jupyter.widget-view+json": {
       "model_id": "721254b68ac8441e8d5a742639ff2b6f",
       "version_major": 2,
       "version_minor": 0
      },
      "text/plain": [
       "Validation (ema):   0%|          | 0/157 [00:00<?, ?it/s]"
      ]
     },
     "metadata": {},
     "output_type": "display_data"
    },
    {
     "name": "stdout",
     "output_type": "stream",
     "text": [
      "Validation Acc (ema): 0.2532\n",
      ">>> Validation completed <<<\n",
      "Epoch time: 35.59 mins\n",
      "\n",
      ">>> Starting Epoch 75/120 <<<\n",
      "  [DEBUG] Entered train_one_epoch function\n",
      "  [DEBUG] Set model to train mode\n",
      "  [DEBUG] Imported tqdm\n",
      "  Training epoch 75...\n",
      "  Loading first batch (this may take 10-30 seconds)...\n",
      "  [DEBUG] About to create iterator from train_loader...\n",
      "  [DEBUG] Calling iter(train_loader)...\n",
      "  [DEBUG] Iterator created successfully!\n",
      "  [DEBUG] Calling next(train_iter)...\n",
      "  ✓ First batch loaded! Shape: torch.Size([32, 3, 224, 224]), Labels: torch.Size([32])\n",
      "  Batch size actual: 32, Expected: 32\n"
     ]
    },
    {
     "data": {
      "application/vnd.jupyter.widget-view+json": {
       "model_id": "cd017be67fab42b59f5308133b3a315b",
       "version_major": 2,
       "version_minor": 0
      },
      "text/plain": [
       "Epoch 75/120:   0%|                                                        | 0/3960 [00:00<?, ?it/s]"
      ]
     },
     "metadata": {},
     "output_type": "display_data"
    },
    {
     "name": "stdout",
     "output_type": "stream",
     "text": [
      "    Batch 100/3960: loss=2.4547, acc=0.4830\n",
      "    Batch 200/3960: loss=2.5037, acc=0.4862\n",
      "    Batch 300/3960: loss=2.5198, acc=0.4716\n",
      "    Batch 400/3960: loss=2.5005, acc=0.4676\n",
      "    Batch 500/3960: loss=2.5006, acc=0.4622\n",
      "    Batch 600/3960: loss=2.5059, acc=0.4572\n",
      "    Batch 700/3960: loss=2.4887, acc=0.4663\n",
      "    Batch 800/3960: loss=2.4725, acc=0.4753\n",
      "    Batch 900/3960: loss=2.4737, acc=0.4737\n",
      "    Batch 1000/3960: loss=2.4769, acc=0.4712\n",
      "    Batch 1100/3960: loss=2.4892, acc=0.4703\n",
      "    Batch 1200/3960: loss=2.4809, acc=0.4686\n",
      "    Batch 1300/3960: loss=2.4788, acc=0.4696\n",
      "    Batch 1400/3960: loss=2.4691, acc=0.4736\n",
      "    Batch 1500/3960: loss=2.4734, acc=0.4735\n",
      "    Batch 1600/3960: loss=2.4749, acc=0.4739\n",
      "    Batch 1700/3960: loss=2.4782, acc=0.4742\n",
      "    Batch 1800/3960: loss=2.4754, acc=0.4759\n",
      "    Batch 1900/3960: loss=2.4753, acc=0.4747\n",
      "    Batch 2000/3960: loss=2.4759, acc=0.4752\n",
      "    Batch 2100/3960: loss=2.4753, acc=0.4767\n",
      "    Batch 2200/3960: loss=2.4767, acc=0.4765\n",
      "    Batch 2300/3960: loss=2.4761, acc=0.4777\n",
      "    Batch 2400/3960: loss=2.4751, acc=0.4771\n",
      "    Batch 2500/3960: loss=2.4672, acc=0.4775\n",
      "    Batch 2600/3960: loss=2.4653, acc=0.4786\n",
      "    Batch 2700/3960: loss=2.4685, acc=0.4795\n",
      "    Batch 2800/3960: loss=2.4669, acc=0.4801\n",
      "    Batch 2900/3960: loss=2.4668, acc=0.4798\n",
      "    Batch 3000/3960: loss=2.4672, acc=0.4807\n",
      "    Batch 3100/3960: loss=2.4668, acc=0.4823\n",
      "    Batch 3200/3960: loss=2.4658, acc=0.4809\n",
      "    Batch 3300/3960: loss=2.4674, acc=0.4812\n",
      "    Batch 3400/3960: loss=2.4666, acc=0.4823\n",
      "    Batch 3500/3960: loss=2.4673, acc=0.4815\n",
      "    Batch 3600/3960: loss=2.4677, acc=0.4818\n",
      "    Batch 3700/3960: loss=2.4658, acc=0.4817\n",
      "    Batch 3800/3960: loss=2.4670, acc=0.4800\n",
      "    Batch 3900/3960: loss=2.4694, acc=0.4796\n",
      "Epoch 75 Train Loss: 2.4694 Acc: 0.4800 LR: 0.000665\n",
      ">>> Training epoch 75 completed <<<\n",
      "  Starting validation...\n"
     ]
    },
    {
     "data": {
      "application/vnd.jupyter.widget-view+json": {
       "model_id": "2ad48ae158fb47b5a9a461ced47e8e3e",
       "version_major": 2,
       "version_minor": 0
      },
      "text/plain": [
       "Validation (raw):   0%|          | 0/157 [00:00<?, ?it/s]"
      ]
     },
     "metadata": {},
     "output_type": "display_data"
    },
    {
     "name": "stdout",
     "output_type": "stream",
     "text": [
      "Validation Acc (raw): 0.8208\n"
     ]
    },
    {
     "data": {
      "application/vnd.jupyter.widget-view+json": {
       "model_id": "f33eed9f4ff648569cb6fa108739fcd4",
       "version_major": 2,
       "version_minor": 0
      },
      "text/plain": [
       "Validation (ema):   0%|          | 0/157 [00:00<?, ?it/s]"
      ]
     },
     "metadata": {},
     "output_type": "display_data"
    },
    {
     "name": "stdout",
     "output_type": "stream",
     "text": [
      "Validation Acc (ema): 0.2358\n",
      ">>> Validation completed <<<\n",
      "Epoch time: 40.73 mins\n",
      "Saved checkpoint\n",
      "\n",
      ">>> Starting Epoch 76/120 <<<\n",
      "  [DEBUG] Entered train_one_epoch function\n",
      "  [DEBUG] Set model to train mode\n",
      "  [DEBUG] Imported tqdm\n",
      "  Training epoch 76...\n",
      "  Loading first batch (this may take 10-30 seconds)...\n",
      "  [DEBUG] About to create iterator from train_loader...\n",
      "  [DEBUG] Calling iter(train_loader)...\n",
      "  [DEBUG] Iterator created successfully!\n",
      "  [DEBUG] Calling next(train_iter)...\n",
      "  ✓ First batch loaded! Shape: torch.Size([32, 3, 224, 224]), Labels: torch.Size([32])\n",
      "  Batch size actual: 32, Expected: 32\n"
     ]
    },
    {
     "data": {
      "application/vnd.jupyter.widget-view+json": {
       "model_id": "6077ebfc43cb4671a194e603bd24d4a0",
       "version_major": 2,
       "version_minor": 0
      },
      "text/plain": [
       "Epoch 76/120:   0%|                                                        | 0/3960 [00:00<?, ?it/s]"
      ]
     },
     "metadata": {},
     "output_type": "display_data"
    },
    {
     "name": "stdout",
     "output_type": "stream",
     "text": [
      "    Batch 100/3960: loss=2.5051, acc=0.4530\n",
      "    Batch 200/3960: loss=2.5019, acc=0.4790\n",
      "    Batch 300/3960: loss=2.4623, acc=0.4849\n",
      "    Batch 400/3960: loss=2.4796, acc=0.4876\n",
      "    Batch 500/3960: loss=2.4905, acc=0.4813\n",
      "    Batch 600/3960: loss=2.4690, acc=0.4889\n",
      "    Batch 700/3960: loss=2.4710, acc=0.4864\n",
      "    Batch 800/3960: loss=2.4758, acc=0.4885\n",
      "    Batch 900/3960: loss=2.4700, acc=0.4879\n",
      "    Batch 1000/3960: loss=2.4693, acc=0.4858\n",
      "    Batch 1100/3960: loss=2.4576, acc=0.4920\n",
      "    Batch 1200/3960: loss=2.4596, acc=0.4904\n",
      "    Batch 1300/3960: loss=2.4630, acc=0.4898\n",
      "    Batch 1400/3960: loss=2.4625, acc=0.4890\n",
      "    Batch 1500/3960: loss=2.4678, acc=0.4884\n",
      "    Batch 1600/3960: loss=2.4663, acc=0.4874\n",
      "    Batch 1700/3960: loss=2.4599, acc=0.4903\n",
      "    Batch 1800/3960: loss=2.4603, acc=0.4892\n",
      "    Batch 1900/3960: loss=2.4610, acc=0.4915\n",
      "    Batch 2000/3960: loss=2.4595, acc=0.4939\n",
      "    Batch 2100/3960: loss=2.4574, acc=0.4960\n",
      "    Batch 2200/3960: loss=2.4565, acc=0.4954\n",
      "    Batch 2300/3960: loss=2.4576, acc=0.4951\n",
      "    Batch 2400/3960: loss=2.4564, acc=0.4957\n",
      "    Batch 2500/3960: loss=2.4533, acc=0.4974\n",
      "    Batch 2600/3960: loss=2.4531, acc=0.4959\n",
      "    Batch 2700/3960: loss=2.4567, acc=0.4955\n",
      "    Batch 2800/3960: loss=2.4560, acc=0.4946\n",
      "    Batch 2900/3960: loss=2.4582, acc=0.4936\n",
      "    Batch 3000/3960: loss=2.4577, acc=0.4938\n",
      "    Batch 3100/3960: loss=2.4557, acc=0.4924\n",
      "    Batch 3200/3960: loss=2.4564, acc=0.4923\n",
      "    Batch 3300/3960: loss=2.4564, acc=0.4912\n",
      "    Batch 3400/3960: loss=2.4578, acc=0.4910\n",
      "    Batch 3500/3960: loss=2.4597, acc=0.4915\n",
      "    Batch 3600/3960: loss=2.4610, acc=0.4907\n",
      "    Batch 3700/3960: loss=2.4588, acc=0.4907\n",
      "    Batch 3800/3960: loss=2.4573, acc=0.4897\n",
      "    Batch 3900/3960: loss=2.4577, acc=0.4890\n",
      "Epoch 76 Train Loss: 2.4577 Acc: 0.4890 LR: 0.000640\n",
      ">>> Training epoch 76 completed <<<\n",
      "  Starting validation...\n"
     ]
    },
    {
     "data": {
      "application/vnd.jupyter.widget-view+json": {
       "model_id": "e4872c321dc242c898ec119bf5c572e7",
       "version_major": 2,
       "version_minor": 0
      },
      "text/plain": [
       "Validation (raw):   0%|          | 0/157 [00:00<?, ?it/s]"
      ]
     },
     "metadata": {},
     "output_type": "display_data"
    },
    {
     "name": "stdout",
     "output_type": "stream",
     "text": [
      "Validation Acc (raw): 0.8182\n"
     ]
    },
    {
     "data": {
      "application/vnd.jupyter.widget-view+json": {
       "model_id": "a9baf0f7bb3e476384422862b9e5a53c",
       "version_major": 2,
       "version_minor": 0
      },
      "text/plain": [
       "Validation (ema):   0%|          | 0/157 [00:00<?, ?it/s]"
      ]
     },
     "metadata": {},
     "output_type": "display_data"
    },
    {
     "name": "stdout",
     "output_type": "stream",
     "text": [
      "Validation Acc (ema): 0.2216\n",
      ">>> Validation completed <<<\n",
      "Epoch time: 28.58 mins\n",
      "\n",
      ">>> Starting Epoch 77/120 <<<\n",
      "  [DEBUG] Entered train_one_epoch function\n",
      "  [DEBUG] Set model to train mode\n",
      "  [DEBUG] Imported tqdm\n",
      "  Training epoch 77...\n",
      "  Loading first batch (this may take 10-30 seconds)...\n",
      "  [DEBUG] About to create iterator from train_loader...\n",
      "  [DEBUG] Calling iter(train_loader)...\n",
      "  [DEBUG] Iterator created successfully!\n",
      "  [DEBUG] Calling next(train_iter)...\n",
      "  ✓ First batch loaded! Shape: torch.Size([32, 3, 224, 224]), Labels: torch.Size([32])\n",
      "  Batch size actual: 32, Expected: 32\n"
     ]
    },
    {
     "data": {
      "application/vnd.jupyter.widget-view+json": {
       "model_id": "f792408e696d48339f7dae7e3abda247",
       "version_major": 2,
       "version_minor": 0
      },
      "text/plain": [
       "Epoch 77/120:   0%|                                                        | 0/3960 [00:00<?, ?it/s]"
      ]
     },
     "metadata": {},
     "output_type": "display_data"
    },
    {
     "name": "stdout",
     "output_type": "stream",
     "text": [
      "    Batch 100/3960: loss=2.6070, acc=0.4886\n",
      "    Batch 200/3960: loss=2.4919, acc=0.5236\n",
      "    Batch 300/3960: loss=2.4510, acc=0.5183\n",
      "    Batch 400/3960: loss=2.4536, acc=0.5125\n",
      "    Batch 500/3960: loss=2.4534, acc=0.5037\n",
      "    Batch 600/3960: loss=2.4777, acc=0.4959\n",
      "    Batch 700/3960: loss=2.4776, acc=0.4983\n",
      "    Batch 800/3960: loss=2.4922, acc=0.4945\n",
      "    Batch 900/3960: loss=2.4903, acc=0.4976\n",
      "    Batch 1000/3960: loss=2.4767, acc=0.4995\n",
      "    Batch 1100/3960: loss=2.4808, acc=0.4982\n",
      "    Batch 1200/3960: loss=2.4926, acc=0.4917\n",
      "    Batch 1300/3960: loss=2.4988, acc=0.4889\n",
      "    Batch 1400/3960: loss=2.4901, acc=0.4889\n",
      "    Batch 1500/3960: loss=2.4778, acc=0.4936\n",
      "    Batch 1600/3960: loss=2.4791, acc=0.4922\n",
      "    Batch 1700/3960: loss=2.4784, acc=0.4930\n",
      "    Batch 1800/3960: loss=2.4718, acc=0.4921\n",
      "    Batch 1900/3960: loss=2.4762, acc=0.4878\n",
      "    Batch 2000/3960: loss=2.4749, acc=0.4888\n",
      "    Batch 2100/3960: loss=2.4771, acc=0.4885\n",
      "    Batch 2200/3960: loss=2.4735, acc=0.4880\n",
      "    Batch 2300/3960: loss=2.4644, acc=0.4904\n",
      "    Batch 2400/3960: loss=2.4635, acc=0.4911\n",
      "    Batch 2500/3960: loss=2.4612, acc=0.4929\n",
      "    Batch 2600/3960: loss=2.4600, acc=0.4938\n",
      "    Batch 2700/3960: loss=2.4556, acc=0.4955\n",
      "    Batch 2800/3960: loss=2.4546, acc=0.4968\n",
      "    Batch 2900/3960: loss=2.4494, acc=0.4975\n",
      "    Batch 3000/3960: loss=2.4500, acc=0.4967\n",
      "    Batch 3100/3960: loss=2.4520, acc=0.4960\n",
      "    Batch 3200/3960: loss=2.4506, acc=0.4958\n",
      "    Batch 3300/3960: loss=2.4466, acc=0.4954\n",
      "    Batch 3400/3960: loss=2.4447, acc=0.4969\n",
      "    Batch 3500/3960: loss=2.4425, acc=0.4971\n",
      "    Batch 3600/3960: loss=2.4431, acc=0.4977\n",
      "    Batch 3700/3960: loss=2.4460, acc=0.4972\n",
      "    Batch 3800/3960: loss=2.4465, acc=0.4968\n",
      "    Batch 3900/3960: loss=2.4507, acc=0.4959\n",
      "Epoch 77 Train Loss: 2.4524 Acc: 0.4956 LR: 0.000614\n",
      ">>> Training epoch 77 completed <<<\n",
      "  Starting validation...\n"
     ]
    },
    {
     "data": {
      "application/vnd.jupyter.widget-view+json": {
       "model_id": "3196ee98094648849ef4052c14e08f0d",
       "version_major": 2,
       "version_minor": 0
      },
      "text/plain": [
       "Validation (raw):   0%|          | 0/157 [00:00<?, ?it/s]"
      ]
     },
     "metadata": {},
     "output_type": "display_data"
    },
    {
     "name": "stdout",
     "output_type": "stream",
     "text": [
      "Validation Acc (raw): 0.8248\n"
     ]
    },
    {
     "data": {
      "application/vnd.jupyter.widget-view+json": {
       "model_id": "33316e398acc4fb9b95c87ad8a231e76",
       "version_major": 2,
       "version_minor": 0
      },
      "text/plain": [
       "Validation (ema):   0%|          | 0/157 [00:00<?, ?it/s]"
      ]
     },
     "metadata": {},
     "output_type": "display_data"
    },
    {
     "name": "stdout",
     "output_type": "stream",
     "text": [
      "Validation Acc (ema): 0.2072\n",
      ">>> Validation completed <<<\n",
      "Epoch time: 22.75 mins\n",
      "\n",
      ">>> Starting Epoch 78/120 <<<\n",
      "  [DEBUG] Entered train_one_epoch function\n",
      "  [DEBUG] Set model to train mode\n",
      "  [DEBUG] Imported tqdm\n",
      "  Training epoch 78...\n",
      "  Loading first batch (this may take 10-30 seconds)...\n",
      "  [DEBUG] About to create iterator from train_loader...\n",
      "  [DEBUG] Calling iter(train_loader)...\n",
      "  [DEBUG] Iterator created successfully!\n",
      "  [DEBUG] Calling next(train_iter)...\n",
      "  ✓ First batch loaded! Shape: torch.Size([32, 3, 224, 224]), Labels: torch.Size([32])\n",
      "  Batch size actual: 32, Expected: 32\n"
     ]
    },
    {
     "data": {
      "application/vnd.jupyter.widget-view+json": {
       "model_id": "bde3ff364f1746318992b81547643018",
       "version_major": 2,
       "version_minor": 0
      },
      "text/plain": [
       "Epoch 78/120:   0%|                                                        | 0/3960 [00:00<?, ?it/s]"
      ]
     },
     "metadata": {},
     "output_type": "display_data"
    },
    {
     "name": "stdout",
     "output_type": "stream",
     "text": [
      "    Batch 100/3960: loss=2.4647, acc=0.5266\n",
      "    Batch 200/3960: loss=2.4480, acc=0.4980\n",
      "    Batch 300/3960: loss=2.4473, acc=0.4981\n",
      "    Batch 400/3960: loss=2.4344, acc=0.4958\n",
      "    Batch 500/3960: loss=2.4262, acc=0.5014\n",
      "    Batch 600/3960: loss=2.4209, acc=0.5046\n",
      "    Batch 700/3960: loss=2.4150, acc=0.4962\n",
      "    Batch 800/3960: loss=2.4210, acc=0.4882\n",
      "    Batch 900/3960: loss=2.4166, acc=0.4893\n",
      "    Batch 1000/3960: loss=2.4141, acc=0.4928\n",
      "    Batch 1100/3960: loss=2.4082, acc=0.4967\n",
      "    Batch 1200/3960: loss=2.4179, acc=0.4944\n",
      "    Batch 1300/3960: loss=2.4238, acc=0.4928\n",
      "    Batch 1400/3960: loss=2.4253, acc=0.4915\n",
      "    Batch 1500/3960: loss=2.4286, acc=0.4917\n",
      "    Batch 1600/3960: loss=2.4256, acc=0.4918\n",
      "    Batch 1700/3960: loss=2.4286, acc=0.4921\n",
      "    Batch 1800/3960: loss=2.4318, acc=0.4912\n",
      "    Batch 1900/3960: loss=2.4366, acc=0.4917\n",
      "    Batch 2000/3960: loss=2.4377, acc=0.4912\n",
      "    Batch 2100/3960: loss=2.4353, acc=0.4909\n",
      "    Batch 2200/3960: loss=2.4328, acc=0.4944\n",
      "    Batch 2300/3960: loss=2.4361, acc=0.4916\n",
      "    Batch 2400/3960: loss=2.4335, acc=0.4905\n",
      "    Batch 2500/3960: loss=2.4314, acc=0.4920\n",
      "    Batch 2600/3960: loss=2.4283, acc=0.4914\n",
      "    Batch 2700/3960: loss=2.4241, acc=0.4916\n",
      "    Batch 2800/3960: loss=2.4217, acc=0.4920\n",
      "    Batch 2900/3960: loss=2.4223, acc=0.4915\n",
      "    Batch 3000/3960: loss=2.4254, acc=0.4899\n",
      "    Batch 3100/3960: loss=2.4260, acc=0.4909\n",
      "    Batch 3200/3960: loss=2.4288, acc=0.4915\n",
      "    Batch 3300/3960: loss=2.4287, acc=0.4918\n",
      "    Batch 3400/3960: loss=2.4261, acc=0.4924\n",
      "    Batch 3500/3960: loss=2.4258, acc=0.4936\n",
      "    Batch 3600/3960: loss=2.4256, acc=0.4938\n",
      "    Batch 3700/3960: loss=2.4239, acc=0.4950\n",
      "    Batch 3800/3960: loss=2.4240, acc=0.4939\n",
      "    Batch 3900/3960: loss=2.4265, acc=0.4927\n",
      "Epoch 78 Train Loss: 2.4265 Acc: 0.4926 LR: 0.000589\n",
      ">>> Training epoch 78 completed <<<\n",
      "  Starting validation...\n"
     ]
    },
    {
     "data": {
      "application/vnd.jupyter.widget-view+json": {
       "model_id": "ae63daaf602f45b588f11550cef90a25",
       "version_major": 2,
       "version_minor": 0
      },
      "text/plain": [
       "Validation (raw):   0%|          | 0/157 [00:00<?, ?it/s]"
      ]
     },
     "metadata": {},
     "output_type": "display_data"
    },
    {
     "name": "stdout",
     "output_type": "stream",
     "text": [
      "Validation Acc (raw): 0.8230\n"
     ]
    },
    {
     "data": {
      "application/vnd.jupyter.widget-view+json": {
       "model_id": "274ae4e8c04940e7a0566cc62d0d8c4b",
       "version_major": 2,
       "version_minor": 0
      },
      "text/plain": [
       "Validation (ema):   0%|          | 0/157 [00:00<?, ?it/s]"
      ]
     },
     "metadata": {},
     "output_type": "display_data"
    },
    {
     "name": "stdout",
     "output_type": "stream",
     "text": [
      "Validation Acc (ema): 0.1940\n",
      ">>> Validation completed <<<\n",
      "Epoch time: 22.79 mins\n",
      "\n",
      ">>> Starting Epoch 79/120 <<<\n",
      "  [DEBUG] Entered train_one_epoch function\n",
      "  [DEBUG] Set model to train mode\n",
      "  [DEBUG] Imported tqdm\n",
      "  Training epoch 79...\n",
      "  Loading first batch (this may take 10-30 seconds)...\n",
      "  [DEBUG] About to create iterator from train_loader...\n",
      "  [DEBUG] Calling iter(train_loader)...\n",
      "  [DEBUG] Iterator created successfully!\n",
      "  [DEBUG] Calling next(train_iter)...\n",
      "  ✓ First batch loaded! Shape: torch.Size([32, 3, 224, 224]), Labels: torch.Size([32])\n",
      "  Batch size actual: 32, Expected: 32\n"
     ]
    },
    {
     "data": {
      "application/vnd.jupyter.widget-view+json": {
       "model_id": "c7f6ae19070d44c888a3ac306797ba9f",
       "version_major": 2,
       "version_minor": 0
      },
      "text/plain": [
       "Epoch 79/120:   0%|                                                        | 0/3960 [00:00<?, ?it/s]"
      ]
     },
     "metadata": {},
     "output_type": "display_data"
    },
    {
     "name": "stdout",
     "output_type": "stream",
     "text": [
      "    Batch 100/3960: loss=2.3779, acc=0.4855\n",
      "    Batch 200/3960: loss=2.4249, acc=0.4725\n",
      "    Batch 300/3960: loss=2.4440, acc=0.4739\n",
      "    Batch 400/3960: loss=2.4539, acc=0.4778\n",
      "    Batch 500/3960: loss=2.4361, acc=0.4813\n",
      "    Batch 600/3960: loss=2.4269, acc=0.4830\n",
      "    Batch 700/3960: loss=2.4182, acc=0.4885\n",
      "    Batch 800/3960: loss=2.4284, acc=0.4877\n",
      "    Batch 900/3960: loss=2.4343, acc=0.4851\n",
      "    Batch 1000/3960: loss=2.4352, acc=0.4913\n",
      "    Batch 1100/3960: loss=2.4450, acc=0.4896\n",
      "    Batch 1200/3960: loss=2.4439, acc=0.4873\n",
      "    Batch 1300/3960: loss=2.4451, acc=0.4880\n",
      "    Batch 1400/3960: loss=2.4398, acc=0.4917\n",
      "    Batch 1500/3960: loss=2.4392, acc=0.4934\n",
      "    Batch 1600/3960: loss=2.4420, acc=0.4920\n",
      "    Batch 1700/3960: loss=2.4467, acc=0.4927\n",
      "    Batch 1800/3960: loss=2.4459, acc=0.4930\n",
      "    Batch 1900/3960: loss=2.4457, acc=0.4927\n",
      "    Batch 2000/3960: loss=2.4429, acc=0.4932\n",
      "    Batch 2100/3960: loss=2.4389, acc=0.4956\n",
      "    Batch 2200/3960: loss=2.4336, acc=0.4965\n",
      "    Batch 2300/3960: loss=2.4326, acc=0.4943\n",
      "    Batch 2400/3960: loss=2.4276, acc=0.4941\n",
      "    Batch 2500/3960: loss=2.4291, acc=0.4933\n",
      "    Batch 2600/3960: loss=2.4291, acc=0.4926\n",
      "    Batch 2700/3960: loss=2.4299, acc=0.4929\n",
      "    Batch 2800/3960: loss=2.4301, acc=0.4931\n",
      "    Batch 2900/3960: loss=2.4287, acc=0.4938\n",
      "    Batch 3000/3960: loss=2.4330, acc=0.4924\n",
      "    Batch 3100/3960: loss=2.4325, acc=0.4921\n",
      "    Batch 3200/3960: loss=2.4318, acc=0.4935\n",
      "    Batch 3300/3960: loss=2.4284, acc=0.4938\n",
      "    Batch 3400/3960: loss=2.4254, acc=0.4941\n",
      "    Batch 3500/3960: loss=2.4270, acc=0.4938\n",
      "    Batch 3600/3960: loss=2.4270, acc=0.4928\n",
      "    Batch 3700/3960: loss=2.4263, acc=0.4938\n",
      "    Batch 3800/3960: loss=2.4266, acc=0.4942\n",
      "    Batch 3900/3960: loss=2.4259, acc=0.4936\n",
      "Epoch 79 Train Loss: 2.4306 Acc: 0.4919 LR: 0.000564\n",
      ">>> Training epoch 79 completed <<<\n",
      "  Starting validation...\n"
     ]
    },
    {
     "data": {
      "application/vnd.jupyter.widget-view+json": {
       "model_id": "6cfd44a761454306986a81b77ff37f5b",
       "version_major": 2,
       "version_minor": 0
      },
      "text/plain": [
       "Validation (raw):   0%|          | 0/157 [00:00<?, ?it/s]"
      ]
     },
     "metadata": {},
     "output_type": "display_data"
    },
    {
     "name": "stdout",
     "output_type": "stream",
     "text": [
      "Validation Acc (raw): 0.8164\n"
     ]
    },
    {
     "data": {
      "application/vnd.jupyter.widget-view+json": {
       "model_id": "ce6d3b64cc11477a8cefe9baf3061b57",
       "version_major": 2,
       "version_minor": 0
      },
      "text/plain": [
       "Validation (ema):   0%|          | 0/157 [00:00<?, ?it/s]"
      ]
     },
     "metadata": {},
     "output_type": "display_data"
    },
    {
     "name": "stdout",
     "output_type": "stream",
     "text": [
      "Validation Acc (ema): 0.1826\n",
      ">>> Validation completed <<<\n",
      "Epoch time: 22.79 mins\n",
      "\n",
      ">>> Starting Epoch 80/120 <<<\n",
      "  [DEBUG] Entered train_one_epoch function\n",
      "  [DEBUG] Set model to train mode\n",
      "  [DEBUG] Imported tqdm\n",
      "  Training epoch 80...\n",
      "  Loading first batch (this may take 10-30 seconds)...\n",
      "  [DEBUG] About to create iterator from train_loader...\n",
      "  [DEBUG] Calling iter(train_loader)...\n",
      "  [DEBUG] Iterator created successfully!\n",
      "  [DEBUG] Calling next(train_iter)...\n",
      "  ✓ First batch loaded! Shape: torch.Size([32, 3, 224, 224]), Labels: torch.Size([32])\n",
      "  Batch size actual: 32, Expected: 32\n"
     ]
    },
    {
     "data": {
      "application/vnd.jupyter.widget-view+json": {
       "model_id": "be4b370c7e99417bb063a08e97602a0a",
       "version_major": 2,
       "version_minor": 0
      },
      "text/plain": [
       "Epoch 80/120:   0%|                                                        | 0/3960 [00:00<?, ?it/s]"
      ]
     },
     "metadata": {},
     "output_type": "display_data"
    },
    {
     "name": "stdout",
     "output_type": "stream",
     "text": [
      "    Batch 100/3960: loss=2.4081, acc=0.4725\n",
      "    Batch 200/3960: loss=2.4500, acc=0.4605\n",
      "    Batch 300/3960: loss=2.4560, acc=0.4676\n",
      "    Batch 400/3960: loss=2.4450, acc=0.4786\n",
      "    Batch 500/3960: loss=2.4550, acc=0.4792\n",
      "    Batch 600/3960: loss=2.4686, acc=0.4735\n",
      "    Batch 700/3960: loss=2.4584, acc=0.4765\n",
      "    Batch 800/3960: loss=2.4501, acc=0.4775\n",
      "    Batch 900/3960: loss=2.4500, acc=0.4800\n",
      "    Batch 1000/3960: loss=2.4410, acc=0.4830\n",
      "    Batch 1100/3960: loss=2.4411, acc=0.4844\n",
      "    Batch 1200/3960: loss=2.4468, acc=0.4843\n",
      "    Batch 1300/3960: loss=2.4572, acc=0.4825\n",
      "    Batch 1400/3960: loss=2.4556, acc=0.4843\n",
      "    Batch 1500/3960: loss=2.4564, acc=0.4832\n",
      "    Batch 1600/3960: loss=2.4535, acc=0.4850\n",
      "    Batch 1700/3960: loss=2.4533, acc=0.4835\n",
      "    Batch 1800/3960: loss=2.4459, acc=0.4837\n",
      "    Batch 1900/3960: loss=2.4467, acc=0.4828\n",
      "    Batch 2000/3960: loss=2.4446, acc=0.4867\n",
      "    Batch 2100/3960: loss=2.4397, acc=0.4878\n",
      "    Batch 2200/3960: loss=2.4357, acc=0.4875\n",
      "    Batch 2300/3960: loss=2.4333, acc=0.4894\n",
      "    Batch 2400/3960: loss=2.4351, acc=0.4884\n",
      "    Batch 2500/3960: loss=2.4376, acc=0.4889\n",
      "    Batch 2600/3960: loss=2.4387, acc=0.4901\n",
      "    Batch 2700/3960: loss=2.4365, acc=0.4919\n",
      "    Batch 2800/3960: loss=2.4335, acc=0.4928\n",
      "    Batch 2900/3960: loss=2.4303, acc=0.4935\n",
      "    Batch 3000/3960: loss=2.4267, acc=0.4919\n",
      "    Batch 3100/3960: loss=2.4269, acc=0.4900\n",
      "    Batch 3200/3960: loss=2.4238, acc=0.4901\n",
      "    Batch 3300/3960: loss=2.4249, acc=0.4902\n",
      "    Batch 3400/3960: loss=2.4223, acc=0.4905\n",
      "    Batch 3500/3960: loss=2.4237, acc=0.4905\n",
      "    Batch 3600/3960: loss=2.4257, acc=0.4908\n",
      "    Batch 3700/3960: loss=2.4258, acc=0.4915\n",
      "    Batch 3800/3960: loss=2.4275, acc=0.4923\n",
      "    Batch 3900/3960: loss=2.4284, acc=0.4930\n",
      "Epoch 80 Train Loss: 2.4283 Acc: 0.4928 LR: 0.000540\n",
      ">>> Training epoch 80 completed <<<\n",
      "  Starting validation...\n"
     ]
    },
    {
     "data": {
      "application/vnd.jupyter.widget-view+json": {
       "model_id": "6041351b03514c87ad6c1fc9b523395e",
       "version_major": 2,
       "version_minor": 0
      },
      "text/plain": [
       "Validation (raw):   0%|          | 0/157 [00:00<?, ?it/s]"
      ]
     },
     "metadata": {},
     "output_type": "display_data"
    },
    {
     "name": "stdout",
     "output_type": "stream",
     "text": [
      "Validation Acc (raw): 0.8294\n"
     ]
    },
    {
     "data": {
      "application/vnd.jupyter.widget-view+json": {
       "model_id": "7fb9bc54b9604fc1b214ee74770987f9",
       "version_major": 2,
       "version_minor": 0
      },
      "text/plain": [
       "Validation (ema):   0%|          | 0/157 [00:00<?, ?it/s]"
      ]
     },
     "metadata": {},
     "output_type": "display_data"
    },
    {
     "name": "stdout",
     "output_type": "stream",
     "text": [
      "Validation Acc (ema): 0.1718\n",
      ">>> Validation completed <<<\n",
      "Epoch time: 22.79 mins\n",
      "Saved checkpoint\n",
      "\n",
      ">>> Starting Epoch 81/120 <<<\n",
      "  [DEBUG] Entered train_one_epoch function\n",
      "  [DEBUG] Set model to train mode\n",
      "  [DEBUG] Imported tqdm\n",
      "  Training epoch 81...\n",
      "  Loading first batch (this may take 10-30 seconds)...\n",
      "  [DEBUG] About to create iterator from train_loader...\n",
      "  [DEBUG] Calling iter(train_loader)...\n",
      "  [DEBUG] Iterator created successfully!\n",
      "  [DEBUG] Calling next(train_iter)...\n",
      "  ✓ First batch loaded! Shape: torch.Size([32, 3, 224, 224]), Labels: torch.Size([32])\n",
      "  Batch size actual: 32, Expected: 32\n"
     ]
    },
    {
     "data": {
      "application/vnd.jupyter.widget-view+json": {
       "model_id": "707839d1ab3b47479954d1c23d5904ad",
       "version_major": 2,
       "version_minor": 0
      },
      "text/plain": [
       "Epoch 81/120:   0%|                                                        | 0/3960 [00:00<?, ?it/s]"
      ]
     },
     "metadata": {},
     "output_type": "display_data"
    },
    {
     "name": "stdout",
     "output_type": "stream",
     "text": [
      "    Batch 100/3960: loss=2.4364, acc=0.4650\n",
      "    Batch 200/3960: loss=2.4281, acc=0.4667\n",
      "    Batch 300/3960: loss=2.4290, acc=0.4705\n",
      "    Batch 400/3960: loss=2.4224, acc=0.4766\n",
      "    Batch 500/3960: loss=2.4235, acc=0.4789\n",
      "    Batch 600/3960: loss=2.4088, acc=0.4765\n",
      "    Batch 700/3960: loss=2.4096, acc=0.4831\n",
      "    Batch 800/3960: loss=2.4080, acc=0.4918\n",
      "    Batch 900/3960: loss=2.4042, acc=0.4895\n",
      "    Batch 1000/3960: loss=2.3945, acc=0.4898\n",
      "    Batch 1100/3960: loss=2.4018, acc=0.4871\n",
      "    Batch 1200/3960: loss=2.4073, acc=0.4874\n",
      "    Batch 1300/3960: loss=2.4029, acc=0.4907\n",
      "    Batch 1400/3960: loss=2.4033, acc=0.4911\n",
      "    Batch 1500/3960: loss=2.4067, acc=0.4940\n",
      "    Batch 1600/3960: loss=2.4035, acc=0.4959\n",
      "    Batch 1700/3960: loss=2.4052, acc=0.4963\n",
      "    Batch 1800/3960: loss=2.4048, acc=0.4984\n",
      "    Batch 1900/3960: loss=2.4016, acc=0.4974\n",
      "    Batch 2000/3960: loss=2.4068, acc=0.4974\n",
      "    Batch 2100/3960: loss=2.4054, acc=0.4979\n",
      "    Batch 2200/3960: loss=2.4101, acc=0.4975\n",
      "    Batch 2300/3960: loss=2.4136, acc=0.4962\n",
      "    Batch 2400/3960: loss=2.4158, acc=0.4952\n",
      "    Batch 2500/3960: loss=2.4126, acc=0.4956\n",
      "    Batch 2600/3960: loss=2.4129, acc=0.4952\n",
      "    Batch 2700/3960: loss=2.4105, acc=0.4965\n",
      "    Batch 2800/3960: loss=2.4107, acc=0.4957\n",
      "    Batch 2900/3960: loss=2.4108, acc=0.4960\n",
      "    Batch 3000/3960: loss=2.4103, acc=0.4972\n",
      "    Batch 3100/3960: loss=2.4082, acc=0.4967\n",
      "    Batch 3200/3960: loss=2.4063, acc=0.4984\n",
      "    Batch 3300/3960: loss=2.4040, acc=0.4991\n",
      "    Batch 3400/3960: loss=2.4040, acc=0.4997\n",
      "    Batch 3500/3960: loss=2.4029, acc=0.4998\n",
      "    Batch 3600/3960: loss=2.4072, acc=0.4989\n",
      "    Batch 3700/3960: loss=2.4074, acc=0.4996\n",
      "    Batch 3800/3960: loss=2.4088, acc=0.4992\n",
      "    Batch 3900/3960: loss=2.4115, acc=0.4988\n",
      "Epoch 81 Train Loss: 2.4144 Acc: 0.4984 LR: 0.000516\n",
      ">>> Training epoch 81 completed <<<\n",
      "  Starting validation...\n"
     ]
    },
    {
     "data": {
      "application/vnd.jupyter.widget-view+json": {
       "model_id": "2d7f484a34904a498379a6de68614181",
       "version_major": 2,
       "version_minor": 0
      },
      "text/plain": [
       "Validation (raw):   0%|          | 0/157 [00:00<?, ?it/s]"
      ]
     },
     "metadata": {},
     "output_type": "display_data"
    },
    {
     "name": "stdout",
     "output_type": "stream",
     "text": [
      "Validation Acc (raw): 0.8304\n"
     ]
    },
    {
     "data": {
      "application/vnd.jupyter.widget-view+json": {
       "model_id": "a6682bd794b24e818e56e29a65dc956f",
       "version_major": 2,
       "version_minor": 0
      },
      "text/plain": [
       "Validation (ema):   0%|          | 0/157 [00:00<?, ?it/s]"
      ]
     },
     "metadata": {},
     "output_type": "display_data"
    },
    {
     "name": "stdout",
     "output_type": "stream",
     "text": [
      "Validation Acc (ema): 0.1618\n",
      ">>> Validation completed <<<\n",
      "Epoch time: 34.81 mins\n",
      "\n",
      ">>> Starting Epoch 82/120 <<<\n",
      "  [DEBUG] Entered train_one_epoch function\n",
      "  [DEBUG] Set model to train mode\n",
      "  [DEBUG] Imported tqdm\n",
      "  Training epoch 82...\n",
      "  Loading first batch (this may take 10-30 seconds)...\n",
      "  [DEBUG] About to create iterator from train_loader...\n",
      "  [DEBUG] Calling iter(train_loader)...\n",
      "  [DEBUG] Iterator created successfully!\n",
      "  [DEBUG] Calling next(train_iter)...\n",
      "  ✓ First batch loaded! Shape: torch.Size([32, 3, 224, 224]), Labels: torch.Size([32])\n",
      "  Batch size actual: 32, Expected: 32\n"
     ]
    },
    {
     "data": {
      "application/vnd.jupyter.widget-view+json": {
       "model_id": "09145efb2ff84942bf6074d39b4abe23",
       "version_major": 2,
       "version_minor": 0
      },
      "text/plain": [
       "Epoch 82/120:   0%|                                                        | 0/3960 [00:00<?, ?it/s]"
      ]
     },
     "metadata": {},
     "output_type": "display_data"
    },
    {
     "name": "stdout",
     "output_type": "stream",
     "text": [
      "    Batch 100/3960: loss=2.3177, acc=0.4700\n",
      "    Batch 200/3960: loss=2.3246, acc=0.5098\n",
      "    Batch 300/3960: loss=2.3344, acc=0.5090\n",
      "    Batch 400/3960: loss=2.3294, acc=0.5039\n",
      "    Batch 500/3960: loss=2.3345, acc=0.5102\n",
      "    Batch 600/3960: loss=2.3468, acc=0.5014\n",
      "    Batch 700/3960: loss=2.3512, acc=0.4975\n",
      "    Batch 800/3960: loss=2.3511, acc=0.4987\n",
      "    Batch 900/3960: loss=2.3515, acc=0.5024\n",
      "    Batch 1000/3960: loss=2.3470, acc=0.5044\n",
      "    Batch 1100/3960: loss=2.3611, acc=0.5027\n",
      "    Batch 1200/3960: loss=2.3666, acc=0.5051\n",
      "    Batch 1300/3960: loss=2.3719, acc=0.5049\n",
      "    Batch 1400/3960: loss=2.3732, acc=0.5088\n",
      "    Batch 1500/3960: loss=2.3809, acc=0.5068\n",
      "    Batch 1600/3960: loss=2.3871, acc=0.5057\n",
      "    Batch 1700/3960: loss=2.3956, acc=0.5018\n",
      "    Batch 1800/3960: loss=2.4018, acc=0.5014\n",
      "    Batch 1900/3960: loss=2.4017, acc=0.5010\n",
      "    Batch 2000/3960: loss=2.4035, acc=0.5000\n",
      "    Batch 2100/3960: loss=2.4016, acc=0.4995\n",
      "    Batch 2200/3960: loss=2.4024, acc=0.4978\n",
      "    Batch 2300/3960: loss=2.4054, acc=0.4963\n",
      "    Batch 2400/3960: loss=2.4076, acc=0.4968\n",
      "    Batch 2500/3960: loss=2.4109, acc=0.4942\n",
      "    Batch 2600/3960: loss=2.4051, acc=0.4955\n",
      "    Batch 2700/3960: loss=2.4050, acc=0.4954\n",
      "    Batch 2800/3960: loss=2.4026, acc=0.4963\n",
      "    Batch 2900/3960: loss=2.3998, acc=0.4960\n",
      "    Batch 3000/3960: loss=2.4001, acc=0.4944\n",
      "    Batch 3100/3960: loss=2.4022, acc=0.4958\n",
      "    Batch 3200/3960: loss=2.4031, acc=0.4952\n",
      "    Batch 3300/3960: loss=2.4026, acc=0.4955\n",
      "    Batch 3400/3960: loss=2.4053, acc=0.4939\n",
      "    Batch 3500/3960: loss=2.4016, acc=0.4955\n",
      "    Batch 3600/3960: loss=2.4007, acc=0.4940\n",
      "    Batch 3700/3960: loss=2.4007, acc=0.4936\n",
      "    Batch 3800/3960: loss=2.4025, acc=0.4925\n",
      "    Batch 3900/3960: loss=2.4031, acc=0.4925\n",
      "Epoch 82 Train Loss: 2.4031 Acc: 0.4926 LR: 0.000492\n",
      ">>> Training epoch 82 completed <<<\n",
      "  Starting validation...\n"
     ]
    },
    {
     "data": {
      "application/vnd.jupyter.widget-view+json": {
       "model_id": "dec1c07b8de54f028bed89f051ae4018",
       "version_major": 2,
       "version_minor": 0
      },
      "text/plain": [
       "Validation (raw):   0%|          | 0/157 [00:00<?, ?it/s]"
      ]
     },
     "metadata": {},
     "output_type": "display_data"
    },
    {
     "name": "stdout",
     "output_type": "stream",
     "text": [
      "Validation Acc (raw): 0.8308\n"
     ]
    },
    {
     "data": {
      "application/vnd.jupyter.widget-view+json": {
       "model_id": "52c84b8ac5e34b0dae071ba5390cd67f",
       "version_major": 2,
       "version_minor": 0
      },
      "text/plain": [
       "Validation (ema):   0%|          | 0/157 [00:00<?, ?it/s]"
      ]
     },
     "metadata": {},
     "output_type": "display_data"
    },
    {
     "name": "stdout",
     "output_type": "stream",
     "text": [
      "Validation Acc (ema): 0.1542\n",
      ">>> Validation completed <<<\n",
      "Epoch time: 39.14 mins\n",
      "\n",
      ">>> Starting Epoch 83/120 <<<\n",
      "  [DEBUG] Entered train_one_epoch function\n",
      "  [DEBUG] Set model to train mode\n",
      "  [DEBUG] Imported tqdm\n",
      "  Training epoch 83...\n",
      "  Loading first batch (this may take 10-30 seconds)...\n",
      "  [DEBUG] About to create iterator from train_loader...\n",
      "  [DEBUG] Calling iter(train_loader)...\n",
      "  [DEBUG] Iterator created successfully!\n",
      "  [DEBUG] Calling next(train_iter)...\n",
      "  ✓ First batch loaded! Shape: torch.Size([32, 3, 224, 224]), Labels: torch.Size([32])\n",
      "  Batch size actual: 32, Expected: 32\n"
     ]
    },
    {
     "data": {
      "application/vnd.jupyter.widget-view+json": {
       "model_id": "9985380892f94bb3a7513e5c80f9d4b5",
       "version_major": 2,
       "version_minor": 0
      },
      "text/plain": [
       "Epoch 83/120:   0%|                                                        | 0/3960 [00:00<?, ?it/s]"
      ]
     },
     "metadata": {},
     "output_type": "display_data"
    },
    {
     "name": "stdout",
     "output_type": "stream",
     "text": [
      "    Batch 100/3960: loss=2.4191, acc=0.5019\n",
      "    Batch 200/3960: loss=2.3896, acc=0.5034\n",
      "    Batch 300/3960: loss=2.3761, acc=0.5086\n",
      "    Batch 400/3960: loss=2.3886, acc=0.5027\n",
      "    Batch 500/3960: loss=2.3848, acc=0.5011\n",
      "    Batch 600/3960: loss=2.3880, acc=0.4975\n",
      "    Batch 700/3960: loss=2.3801, acc=0.5058\n",
      "    Batch 800/3960: loss=2.3731, acc=0.5085\n",
      "    Batch 900/3960: loss=2.3808, acc=0.5073\n",
      "    Batch 1000/3960: loss=2.3792, acc=0.5037\n",
      "    Batch 1100/3960: loss=2.3774, acc=0.5030\n",
      "    Batch 1200/3960: loss=2.3866, acc=0.5021\n",
      "    Batch 1300/3960: loss=2.3813, acc=0.5055\n",
      "    Batch 1400/3960: loss=2.3851, acc=0.5031\n",
      "    Batch 1500/3960: loss=2.3841, acc=0.5044\n",
      "    Batch 1600/3960: loss=2.3795, acc=0.5041\n",
      "    Batch 1700/3960: loss=2.3781, acc=0.5046\n",
      "    Batch 1800/3960: loss=2.3798, acc=0.5052\n",
      "    Batch 1900/3960: loss=2.3833, acc=0.5051\n",
      "    Batch 2000/3960: loss=2.3836, acc=0.5034\n",
      "    Batch 2100/3960: loss=2.3869, acc=0.5022\n",
      "    Batch 2200/3960: loss=2.3889, acc=0.4998\n",
      "    Batch 2300/3960: loss=2.3918, acc=0.4989\n",
      "    Batch 2400/3960: loss=2.3926, acc=0.4972\n",
      "    Batch 2500/3960: loss=2.3921, acc=0.4982\n",
      "    Batch 2600/3960: loss=2.3900, acc=0.4987\n",
      "    Batch 2700/3960: loss=2.3934, acc=0.4992\n",
      "    Batch 2800/3960: loss=2.3953, acc=0.4981\n",
      "    Batch 2900/3960: loss=2.3959, acc=0.4975\n",
      "    Batch 3000/3960: loss=2.3946, acc=0.4992\n",
      "    Batch 3100/3960: loss=2.3939, acc=0.5007\n",
      "    Batch 3200/3960: loss=2.3931, acc=0.5005\n",
      "    Batch 3300/3960: loss=2.3886, acc=0.5005\n",
      "    Batch 3400/3960: loss=2.3931, acc=0.5001\n",
      "    Batch 3500/3960: loss=2.3928, acc=0.4983\n",
      "    Batch 3600/3960: loss=2.3937, acc=0.4980\n",
      "    Batch 3700/3960: loss=2.3899, acc=0.4988\n",
      "    Batch 3800/3960: loss=2.3902, acc=0.4989\n",
      "    Batch 3900/3960: loss=2.3904, acc=0.4991\n",
      "Epoch 83 Train Loss: 2.3891 Acc: 0.4995 LR: 0.000469\n",
      ">>> Training epoch 83 completed <<<\n",
      "  Starting validation...\n"
     ]
    },
    {
     "data": {
      "application/vnd.jupyter.widget-view+json": {
       "model_id": "ba83f9f7ba2d480798203fa459912a4e",
       "version_major": 2,
       "version_minor": 0
      },
      "text/plain": [
       "Validation (raw):   0%|          | 0/157 [00:00<?, ?it/s]"
      ]
     },
     "metadata": {},
     "output_type": "display_data"
    },
    {
     "name": "stdout",
     "output_type": "stream",
     "text": [
      "Validation Acc (raw): 0.8356\n"
     ]
    },
    {
     "data": {
      "application/vnd.jupyter.widget-view+json": {
       "model_id": "55e5ae48c0e4438ab3ad3cdd87cdafa3",
       "version_major": 2,
       "version_minor": 0
      },
      "text/plain": [
       "Validation (ema):   0%|          | 0/157 [00:00<?, ?it/s]"
      ]
     },
     "metadata": {},
     "output_type": "display_data"
    },
    {
     "name": "stdout",
     "output_type": "stream",
     "text": [
      "Validation Acc (ema): 0.1468\n",
      ">>> Validation completed <<<\n",
      "Epoch time: 22.65 mins\n",
      "\n",
      ">>> Starting Epoch 84/120 <<<\n",
      "  [DEBUG] Entered train_one_epoch function\n",
      "  [DEBUG] Set model to train mode\n",
      "  [DEBUG] Imported tqdm\n",
      "  Training epoch 84...\n",
      "  Loading first batch (this may take 10-30 seconds)...\n",
      "  [DEBUG] About to create iterator from train_loader...\n",
      "  [DEBUG] Calling iter(train_loader)...\n",
      "  [DEBUG] Iterator created successfully!\n",
      "  [DEBUG] Calling next(train_iter)...\n",
      "  ✓ First batch loaded! Shape: torch.Size([32, 3, 224, 224]), Labels: torch.Size([32])\n",
      "  Batch size actual: 32, Expected: 32\n"
     ]
    },
    {
     "data": {
      "application/vnd.jupyter.widget-view+json": {
       "model_id": "33eb478ebf3549c4b9a62a59356d4260",
       "version_major": 2,
       "version_minor": 0
      },
      "text/plain": [
       "Epoch 84/120:   0%|                                                        | 0/3960 [00:00<?, ?it/s]"
      ]
     },
     "metadata": {},
     "output_type": "display_data"
    },
    {
     "name": "stdout",
     "output_type": "stream",
     "text": [
      "    Batch 100/3960: loss=2.4487, acc=0.4691\n",
      "    Batch 200/3960: loss=2.4198, acc=0.4810\n",
      "    Batch 300/3960: loss=2.4047, acc=0.4863\n",
      "    Batch 400/3960: loss=2.4070, acc=0.4828\n",
      "    Batch 500/3960: loss=2.4299, acc=0.4767\n",
      "    Batch 600/3960: loss=2.4334, acc=0.4790\n",
      "    Batch 700/3960: loss=2.4192, acc=0.4807\n",
      "    Batch 800/3960: loss=2.4166, acc=0.4841\n",
      "    Batch 900/3960: loss=2.4202, acc=0.4890\n",
      "    Batch 1000/3960: loss=2.4133, acc=0.4868\n",
      "    Batch 1100/3960: loss=2.4071, acc=0.4888\n",
      "    Batch 1200/3960: loss=2.4096, acc=0.4881\n",
      "    Batch 1300/3960: loss=2.4060, acc=0.4870\n",
      "    Batch 1400/3960: loss=2.3992, acc=0.4893\n",
      "    Batch 1500/3960: loss=2.3957, acc=0.4912\n",
      "    Batch 1600/3960: loss=2.3925, acc=0.4937\n",
      "    Batch 1700/3960: loss=2.3942, acc=0.4956\n",
      "    Batch 1800/3960: loss=2.3949, acc=0.4954\n",
      "    Batch 1900/3960: loss=2.3973, acc=0.4954\n",
      "    Batch 2000/3960: loss=2.3944, acc=0.4965\n",
      "    Batch 2100/3960: loss=2.3933, acc=0.4957\n",
      "    Batch 2200/3960: loss=2.3876, acc=0.4959\n",
      "    Batch 2300/3960: loss=2.3849, acc=0.4949\n",
      "    Batch 2400/3960: loss=2.3827, acc=0.4951\n",
      "    Batch 2500/3960: loss=2.3828, acc=0.4972\n",
      "    Batch 2600/3960: loss=2.3805, acc=0.4968\n",
      "    Batch 2700/3960: loss=2.3805, acc=0.4966\n",
      "    Batch 2800/3960: loss=2.3817, acc=0.4973\n",
      "    Batch 2900/3960: loss=2.3806, acc=0.4975\n",
      "    Batch 3000/3960: loss=2.3777, acc=0.4987\n",
      "    Batch 3100/3960: loss=2.3777, acc=0.4980\n",
      "    Batch 3200/3960: loss=2.3778, acc=0.4981\n",
      "    Batch 3300/3960: loss=2.3774, acc=0.4996\n",
      "    Batch 3400/3960: loss=2.3760, acc=0.4990\n",
      "    Batch 3500/3960: loss=2.3747, acc=0.4989\n",
      "    Batch 3600/3960: loss=2.3731, acc=0.5000\n",
      "    Batch 3700/3960: loss=2.3752, acc=0.4994\n",
      "    Batch 3800/3960: loss=2.3764, acc=0.4989\n",
      "    Batch 3900/3960: loss=2.3756, acc=0.4975\n",
      "Epoch 84 Train Loss: 2.3747 Acc: 0.4984 LR: 0.000446\n",
      ">>> Training epoch 84 completed <<<\n",
      "  Starting validation...\n"
     ]
    },
    {
     "data": {
      "application/vnd.jupyter.widget-view+json": {
       "model_id": "bc6a8fd6302e4e1ab8a28ada61aa67b3",
       "version_major": 2,
       "version_minor": 0
      },
      "text/plain": [
       "Validation (raw):   0%|          | 0/157 [00:00<?, ?it/s]"
      ]
     },
     "metadata": {},
     "output_type": "display_data"
    },
    {
     "name": "stdout",
     "output_type": "stream",
     "text": [
      "Validation Acc (raw): 0.8356\n"
     ]
    },
    {
     "data": {
      "application/vnd.jupyter.widget-view+json": {
       "model_id": "dc4e4e58007f4c47874cc091810b9b0d",
       "version_major": 2,
       "version_minor": 0
      },
      "text/plain": [
       "Validation (ema):   0%|          | 0/157 [00:00<?, ?it/s]"
      ]
     },
     "metadata": {},
     "output_type": "display_data"
    },
    {
     "name": "stdout",
     "output_type": "stream",
     "text": [
      "Validation Acc (ema): 0.1386\n",
      ">>> Validation completed <<<\n",
      "Epoch time: 36.01 mins\n",
      "\n",
      ">>> Starting Epoch 85/120 <<<\n",
      "  [DEBUG] Entered train_one_epoch function\n",
      "  [DEBUG] Set model to train mode\n",
      "  [DEBUG] Imported tqdm\n",
      "  Training epoch 85...\n",
      "  Loading first batch (this may take 10-30 seconds)...\n",
      "  [DEBUG] About to create iterator from train_loader...\n",
      "  [DEBUG] Calling iter(train_loader)...\n",
      "  [DEBUG] Iterator created successfully!\n",
      "  [DEBUG] Calling next(train_iter)...\n",
      "  ✓ First batch loaded! Shape: torch.Size([32, 3, 224, 224]), Labels: torch.Size([32])\n",
      "  Batch size actual: 32, Expected: 32\n"
     ]
    },
    {
     "data": {
      "application/vnd.jupyter.widget-view+json": {
       "model_id": "a7609c8cbff54961b8c5c0a68c805442",
       "version_major": 2,
       "version_minor": 0
      },
      "text/plain": [
       "Epoch 85/120:   0%|                                                        | 0/3960 [00:00<?, ?it/s]"
      ]
     },
     "metadata": {},
     "output_type": "display_data"
    },
    {
     "name": "stdout",
     "output_type": "stream",
     "text": [
      "    Batch 100/3960: loss=2.3732, acc=0.5139\n",
      "    Batch 200/3960: loss=2.3866, acc=0.5036\n",
      "    Batch 300/3960: loss=2.3898, acc=0.4877\n",
      "    Batch 400/3960: loss=2.4072, acc=0.4868\n",
      "    Batch 500/3960: loss=2.4107, acc=0.4890\n",
      "    Batch 600/3960: loss=2.4058, acc=0.4936\n",
      "    Batch 700/3960: loss=2.3985, acc=0.4963\n",
      "    Batch 800/3960: loss=2.3907, acc=0.5017\n",
      "    Batch 900/3960: loss=2.3863, acc=0.5036\n",
      "    Batch 1000/3960: loss=2.3793, acc=0.5046\n",
      "    Batch 1100/3960: loss=2.3790, acc=0.5007\n",
      "    Batch 1200/3960: loss=2.3825, acc=0.4966\n",
      "    Batch 1300/3960: loss=2.3752, acc=0.5008\n",
      "    Batch 1400/3960: loss=2.3751, acc=0.5018\n",
      "    Batch 1500/3960: loss=2.3818, acc=0.4991\n",
      "    Batch 1600/3960: loss=2.3719, acc=0.5029\n",
      "    Batch 1700/3960: loss=2.3758, acc=0.5034\n",
      "    Batch 1800/3960: loss=2.3741, acc=0.5035\n",
      "    Batch 1900/3960: loss=2.3718, acc=0.5048\n",
      "    Batch 2000/3960: loss=2.3740, acc=0.5034\n",
      "    Batch 2100/3960: loss=2.3753, acc=0.5030\n",
      "    Batch 2200/3960: loss=2.3776, acc=0.5010\n",
      "    Batch 2300/3960: loss=2.3860, acc=0.4991\n",
      "    Batch 2400/3960: loss=2.3885, acc=0.4979\n",
      "    Batch 2500/3960: loss=2.3890, acc=0.4977\n",
      "    Batch 2600/3960: loss=2.3904, acc=0.4982\n",
      "    Batch 2700/3960: loss=2.3855, acc=0.4970\n",
      "    Batch 2800/3960: loss=2.3819, acc=0.4995\n",
      "    Batch 2900/3960: loss=2.3870, acc=0.5001\n",
      "    Batch 3000/3960: loss=2.3893, acc=0.4985\n",
      "    Batch 3100/3960: loss=2.3905, acc=0.4991\n",
      "    Batch 3200/3960: loss=2.3874, acc=0.5002\n",
      "    Batch 3300/3960: loss=2.3872, acc=0.4997\n",
      "    Batch 3400/3960: loss=2.3850, acc=0.4997\n",
      "    Batch 3500/3960: loss=2.3830, acc=0.5000\n",
      "    Batch 3600/3960: loss=2.3823, acc=0.5012\n",
      "    Batch 3700/3960: loss=2.3837, acc=0.5018\n",
      "    Batch 3800/3960: loss=2.3830, acc=0.5018\n",
      "    Batch 3900/3960: loss=2.3822, acc=0.5018\n",
      "Epoch 85 Train Loss: 2.3831 Acc: 0.5017 LR: 0.000423\n",
      ">>> Training epoch 85 completed <<<\n",
      "  Starting validation...\n"
     ]
    },
    {
     "data": {
      "application/vnd.jupyter.widget-view+json": {
       "model_id": "5d2fab9e9c42492c9095c31fd6782c43",
       "version_major": 2,
       "version_minor": 0
      },
      "text/plain": [
       "Validation (raw):   0%|          | 0/157 [00:00<?, ?it/s]"
      ]
     },
     "metadata": {},
     "output_type": "display_data"
    },
    {
     "name": "stdout",
     "output_type": "stream",
     "text": [
      "Validation Acc (raw): 0.8356\n"
     ]
    },
    {
     "data": {
      "application/vnd.jupyter.widget-view+json": {
       "model_id": "58f8633b5851438fbe9e0a383fe58af4",
       "version_major": 2,
       "version_minor": 0
      },
      "text/plain": [
       "Validation (ema):   0%|          | 0/157 [00:00<?, ?it/s]"
      ]
     },
     "metadata": {},
     "output_type": "display_data"
    },
    {
     "name": "stdout",
     "output_type": "stream",
     "text": [
      "Validation Acc (ema): 0.1338\n",
      ">>> Validation completed <<<\n",
      "Epoch time: 36.96 mins\n",
      "Saved checkpoint\n",
      "\n",
      ">>> Starting Epoch 86/120 <<<\n",
      "  [DEBUG] Entered train_one_epoch function\n",
      "  [DEBUG] Set model to train mode\n",
      "  [DEBUG] Imported tqdm\n",
      "  Training epoch 86...\n",
      "  Loading first batch (this may take 10-30 seconds)...\n",
      "  [DEBUG] About to create iterator from train_loader...\n",
      "  [DEBUG] Calling iter(train_loader)...\n",
      "  [DEBUG] Iterator created successfully!\n",
      "  [DEBUG] Calling next(train_iter)...\n",
      "  ✓ First batch loaded! Shape: torch.Size([32, 3, 224, 224]), Labels: torch.Size([32])\n",
      "  Batch size actual: 32, Expected: 32\n"
     ]
    },
    {
     "data": {
      "application/vnd.jupyter.widget-view+json": {
       "model_id": "faec162b58f043baa661b175cef51521",
       "version_major": 2,
       "version_minor": 0
      },
      "text/plain": [
       "Epoch 86/120:   0%|                                                        | 0/3960 [00:00<?, ?it/s]"
      ]
     },
     "metadata": {},
     "output_type": "display_data"
    },
    {
     "name": "stdout",
     "output_type": "stream",
     "text": [
      "    Batch 100/3960: loss=2.3163, acc=0.5483\n",
      "    Batch 200/3960: loss=2.4494, acc=0.4998\n",
      "    Batch 300/3960: loss=2.4588, acc=0.5035\n",
      "    Batch 400/3960: loss=2.4375, acc=0.5044\n",
      "    Batch 500/3960: loss=2.4164, acc=0.5082\n",
      "    Batch 600/3960: loss=2.3943, acc=0.5067\n",
      "    Batch 700/3960: loss=2.3790, acc=0.5070\n",
      "    Batch 800/3960: loss=2.3770, acc=0.5100\n",
      "    Batch 900/3960: loss=2.3723, acc=0.5110\n",
      "    Batch 1000/3960: loss=2.3743, acc=0.5123\n",
      "    Batch 1100/3960: loss=2.3709, acc=0.5088\n",
      "    Batch 1200/3960: loss=2.3705, acc=0.5125\n",
      "    Batch 1300/3960: loss=2.3685, acc=0.5144\n",
      "    Batch 1400/3960: loss=2.3617, acc=0.5145\n",
      "    Batch 1500/3960: loss=2.3631, acc=0.5135\n",
      "    Batch 1600/3960: loss=2.3660, acc=0.5129\n",
      "    Batch 1700/3960: loss=2.3635, acc=0.5136\n",
      "    Batch 1800/3960: loss=2.3662, acc=0.5138\n",
      "    Batch 1900/3960: loss=2.3640, acc=0.5135\n",
      "    Batch 2000/3960: loss=2.3658, acc=0.5134\n",
      "    Batch 2100/3960: loss=2.3644, acc=0.5135\n",
      "    Batch 2200/3960: loss=2.3675, acc=0.5131\n",
      "    Batch 2300/3960: loss=2.3688, acc=0.5125\n",
      "    Batch 2400/3960: loss=2.3638, acc=0.5133\n",
      "    Batch 2500/3960: loss=2.3628, acc=0.5123\n",
      "    Batch 2600/3960: loss=2.3600, acc=0.5125\n",
      "    Batch 2700/3960: loss=2.3584, acc=0.5122\n",
      "    Batch 2800/3960: loss=2.3578, acc=0.5133\n",
      "    Batch 2900/3960: loss=2.3547, acc=0.5120\n",
      "    Batch 3000/3960: loss=2.3550, acc=0.5112\n",
      "    Batch 3100/3960: loss=2.3529, acc=0.5115\n",
      "    Batch 3200/3960: loss=2.3543, acc=0.5121\n",
      "    Batch 3300/3960: loss=2.3565, acc=0.5108\n",
      "    Batch 3400/3960: loss=2.3558, acc=0.5111\n",
      "    Batch 3500/3960: loss=2.3565, acc=0.5104\n",
      "    Batch 3600/3960: loss=2.3551, acc=0.5122\n",
      "    Batch 3700/3960: loss=2.3539, acc=0.5130\n",
      "    Batch 3800/3960: loss=2.3544, acc=0.5125\n",
      "    Batch 3900/3960: loss=2.3549, acc=0.5125\n",
      "Epoch 86 Train Loss: 2.3539 Acc: 0.5123 LR: 0.000401\n",
      ">>> Training epoch 86 completed <<<\n",
      "  Starting validation...\n"
     ]
    },
    {
     "data": {
      "application/vnd.jupyter.widget-view+json": {
       "model_id": "551dd0933ecc42758cdb2e18604a1f32",
       "version_major": 2,
       "version_minor": 0
      },
      "text/plain": [
       "Validation (raw):   0%|          | 0/157 [00:00<?, ?it/s]"
      ]
     },
     "metadata": {},
     "output_type": "display_data"
    },
    {
     "name": "stdout",
     "output_type": "stream",
     "text": [
      "Validation Acc (raw): 0.8324\n"
     ]
    },
    {
     "data": {
      "application/vnd.jupyter.widget-view+json": {
       "model_id": "dfc3ea78043647bdbc0ca4259d423557",
       "version_major": 2,
       "version_minor": 0
      },
      "text/plain": [
       "Validation (ema):   0%|          | 0/157 [00:00<?, ?it/s]"
      ]
     },
     "metadata": {},
     "output_type": "display_data"
    },
    {
     "name": "stdout",
     "output_type": "stream",
     "text": [
      "Validation Acc (ema): 0.1284\n",
      ">>> Validation completed <<<\n",
      "Epoch time: 39.37 mins\n",
      "\n",
      ">>> Starting Epoch 87/120 <<<\n",
      "  [DEBUG] Entered train_one_epoch function\n",
      "  [DEBUG] Set model to train mode\n",
      "  [DEBUG] Imported tqdm\n",
      "  Training epoch 87...\n",
      "  Loading first batch (this may take 10-30 seconds)...\n",
      "  [DEBUG] About to create iterator from train_loader...\n",
      "  [DEBUG] Calling iter(train_loader)...\n",
      "  [DEBUG] Iterator created successfully!\n",
      "  [DEBUG] Calling next(train_iter)...\n",
      "  ✓ First batch loaded! Shape: torch.Size([32, 3, 224, 224]), Labels: torch.Size([32])\n",
      "  Batch size actual: 32, Expected: 32\n"
     ]
    },
    {
     "data": {
      "application/vnd.jupyter.widget-view+json": {
       "model_id": "6f3873f0151f49bd83ceae4474ff0bc9",
       "version_major": 2,
       "version_minor": 0
      },
      "text/plain": [
       "Epoch 87/120:   0%|                                                        | 0/3960 [00:00<?, ?it/s]"
      ]
     },
     "metadata": {},
     "output_type": "display_data"
    },
    {
     "name": "stdout",
     "output_type": "stream",
     "text": [
      "    Batch 100/3960: loss=2.3873, acc=0.5291\n",
      "    Batch 200/3960: loss=2.3211, acc=0.5494\n",
      "    Batch 300/3960: loss=2.3418, acc=0.5411\n",
      "    Batch 400/3960: loss=2.3481, acc=0.5333\n",
      "    Batch 500/3960: loss=2.3402, acc=0.5221\n",
      "    Batch 600/3960: loss=2.3403, acc=0.5161\n",
      "    Batch 700/3960: loss=2.3344, acc=0.5151\n",
      "    Batch 800/3960: loss=2.3411, acc=0.5064\n",
      "    Batch 900/3960: loss=2.3426, acc=0.5092\n",
      "    Batch 1000/3960: loss=2.3549, acc=0.5118\n",
      "    Batch 1100/3960: loss=2.3445, acc=0.5089\n",
      "    Batch 1200/3960: loss=2.3466, acc=0.5085\n",
      "    Batch 1300/3960: loss=2.3498, acc=0.5104\n",
      "    Batch 1400/3960: loss=2.3469, acc=0.5097\n",
      "    Batch 1500/3960: loss=2.3458, acc=0.5100\n",
      "    Batch 1600/3960: loss=2.3467, acc=0.5094\n",
      "    Batch 1700/3960: loss=2.3475, acc=0.5085\n",
      "    Batch 1800/3960: loss=2.3552, acc=0.5065\n",
      "    Batch 1900/3960: loss=2.3570, acc=0.5049\n",
      "    Batch 2000/3960: loss=2.3656, acc=0.5048\n",
      "    Batch 2100/3960: loss=2.3622, acc=0.5060\n",
      "    Batch 2200/3960: loss=2.3621, acc=0.5060\n",
      "    Batch 2300/3960: loss=2.3667, acc=0.5056\n",
      "    Batch 2400/3960: loss=2.3680, acc=0.5049\n",
      "    Batch 2500/3960: loss=2.3726, acc=0.5030\n",
      "    Batch 2600/3960: loss=2.3702, acc=0.5044\n",
      "    Batch 2700/3960: loss=2.3697, acc=0.5058\n",
      "    Batch 2800/3960: loss=2.3675, acc=0.5062\n",
      "    Batch 2900/3960: loss=2.3647, acc=0.5059\n",
      "    Batch 3000/3960: loss=2.3647, acc=0.5057\n",
      "    Batch 3100/3960: loss=2.3660, acc=0.5053\n",
      "    Batch 3200/3960: loss=2.3654, acc=0.5045\n",
      "    Batch 3300/3960: loss=2.3654, acc=0.5043\n",
      "    Batch 3400/3960: loss=2.3624, acc=0.5042\n",
      "    Batch 3500/3960: loss=2.3627, acc=0.5043\n",
      "    Batch 3600/3960: loss=2.3658, acc=0.5036\n",
      "    Batch 3700/3960: loss=2.3652, acc=0.5039\n",
      "    Batch 3800/3960: loss=2.3625, acc=0.5046\n",
      "    Batch 3900/3960: loss=2.3606, acc=0.5052\n",
      "Epoch 87 Train Loss: 2.3587 Acc: 0.5054 LR: 0.000380\n",
      ">>> Training epoch 87 completed <<<\n",
      "  Starting validation...\n"
     ]
    },
    {
     "data": {
      "application/vnd.jupyter.widget-view+json": {
       "model_id": "5fe411ca4c7842a8864e1df5b542220a",
       "version_major": 2,
       "version_minor": 0
      },
      "text/plain": [
       "Validation (raw):   0%|          | 0/157 [00:00<?, ?it/s]"
      ]
     },
     "metadata": {},
     "output_type": "display_data"
    },
    {
     "name": "stdout",
     "output_type": "stream",
     "text": [
      "Validation Acc (raw): 0.8410\n"
     ]
    },
    {
     "data": {
      "application/vnd.jupyter.widget-view+json": {
       "model_id": "dcc28217e65c44af8359dfc1af64550d",
       "version_major": 2,
       "version_minor": 0
      },
      "text/plain": [
       "Validation (ema):   0%|          | 0/157 [00:00<?, ?it/s]"
      ]
     },
     "metadata": {},
     "output_type": "display_data"
    },
    {
     "name": "stdout",
     "output_type": "stream",
     "text": [
      "Validation Acc (ema): 0.1254\n",
      ">>> Validation completed <<<\n",
      "Epoch time: 24.58 mins\n",
      "\n",
      ">>> Starting Epoch 88/120 <<<\n",
      "  [DEBUG] Entered train_one_epoch function\n",
      "  [DEBUG] Set model to train mode\n",
      "  [DEBUG] Imported tqdm\n",
      "  Training epoch 88...\n",
      "  Loading first batch (this may take 10-30 seconds)...\n",
      "  [DEBUG] About to create iterator from train_loader...\n",
      "  [DEBUG] Calling iter(train_loader)...\n",
      "  [DEBUG] Iterator created successfully!\n",
      "  [DEBUG] Calling next(train_iter)...\n",
      "  ✓ First batch loaded! Shape: torch.Size([32, 3, 224, 224]), Labels: torch.Size([32])\n",
      "  Batch size actual: 32, Expected: 32\n"
     ]
    },
    {
     "data": {
      "application/vnd.jupyter.widget-view+json": {
       "model_id": "8a0b0b5195ca4aac9cc94324c0a4761b",
       "version_major": 2,
       "version_minor": 0
      },
      "text/plain": [
       "Epoch 88/120:   0%|                                                        | 0/3960 [00:00<?, ?it/s]"
      ]
     },
     "metadata": {},
     "output_type": "display_data"
    },
    {
     "name": "stdout",
     "output_type": "stream",
     "text": [
      "    Batch 100/3960: loss=2.3333, acc=0.5179\n",
      "    Batch 200/3960: loss=2.3630, acc=0.5118\n",
      "    Batch 300/3960: loss=2.3567, acc=0.5054\n",
      "    Batch 400/3960: loss=2.3523, acc=0.5082\n",
      "    Batch 500/3960: loss=2.3445, acc=0.5152\n",
      "    Batch 600/3960: loss=2.3455, acc=0.5077\n",
      "    Batch 700/3960: loss=2.3506, acc=0.5045\n",
      "    Batch 800/3960: loss=2.3564, acc=0.5057\n",
      "    Batch 900/3960: loss=2.3465, acc=0.5095\n",
      "    Batch 1000/3960: loss=2.3498, acc=0.5149\n",
      "    Batch 1100/3960: loss=2.3437, acc=0.5194\n",
      "    Batch 1200/3960: loss=2.3421, acc=0.5220\n",
      "    Batch 1300/3960: loss=2.3399, acc=0.5209\n",
      "    Batch 1400/3960: loss=2.3414, acc=0.5183\n",
      "    Batch 1500/3960: loss=2.3450, acc=0.5179\n",
      "    Batch 1600/3960: loss=2.3415, acc=0.5197\n",
      "    Batch 1700/3960: loss=2.3475, acc=0.5184\n",
      "    Batch 1800/3960: loss=2.3497, acc=0.5165\n",
      "    Batch 1900/3960: loss=2.3506, acc=0.5165\n",
      "    Batch 2000/3960: loss=2.3511, acc=0.5154\n",
      "    Batch 2100/3960: loss=2.3510, acc=0.5176\n",
      "    Batch 2200/3960: loss=2.3549, acc=0.5149\n",
      "    Batch 2300/3960: loss=2.3548, acc=0.5171\n",
      "    Batch 2400/3960: loss=2.3532, acc=0.5178\n",
      "    Batch 2500/3960: loss=2.3517, acc=0.5177\n",
      "    Batch 2600/3960: loss=2.3524, acc=0.5176\n",
      "    Batch 2700/3960: loss=2.3523, acc=0.5162\n",
      "    Batch 2800/3960: loss=2.3488, acc=0.5161\n",
      "    Batch 2900/3960: loss=2.3480, acc=0.5158\n",
      "    Batch 3000/3960: loss=2.3505, acc=0.5151\n",
      "    Batch 3100/3960: loss=2.3494, acc=0.5162\n",
      "    Batch 3200/3960: loss=2.3509, acc=0.5150\n",
      "    Batch 3300/3960: loss=2.3553, acc=0.5131\n",
      "    Batch 3400/3960: loss=2.3567, acc=0.5135\n",
      "    Batch 3500/3960: loss=2.3562, acc=0.5133\n",
      "    Batch 3600/3960: loss=2.3569, acc=0.5132\n",
      "    Batch 3700/3960: loss=2.3626, acc=0.5114\n",
      "    Batch 3800/3960: loss=2.3604, acc=0.5121\n",
      "    Batch 3900/3960: loss=2.3570, acc=0.5127\n",
      "Epoch 88 Train Loss: 2.3567 Acc: 0.5132 LR: 0.000358\n",
      ">>> Training epoch 88 completed <<<\n",
      "  Starting validation...\n"
     ]
    },
    {
     "data": {
      "application/vnd.jupyter.widget-view+json": {
       "model_id": "30a9899012df45959bebd9b63da3f982",
       "version_major": 2,
       "version_minor": 0
      },
      "text/plain": [
       "Validation (raw):   0%|          | 0/157 [00:00<?, ?it/s]"
      ]
     },
     "metadata": {},
     "output_type": "display_data"
    },
    {
     "name": "stdout",
     "output_type": "stream",
     "text": [
      "Validation Acc (raw): 0.8358\n"
     ]
    },
    {
     "data": {
      "application/vnd.jupyter.widget-view+json": {
       "model_id": "1fad14fbdc2843d69d033a24f810d7f9",
       "version_major": 2,
       "version_minor": 0
      },
      "text/plain": [
       "Validation (ema):   0%|          | 0/157 [00:00<?, ?it/s]"
      ]
     },
     "metadata": {},
     "output_type": "display_data"
    },
    {
     "name": "stdout",
     "output_type": "stream",
     "text": [
      "Validation Acc (ema): 0.1226\n",
      ">>> Validation completed <<<\n",
      "Epoch time: 32.36 mins\n",
      "\n",
      ">>> Starting Epoch 89/120 <<<\n",
      "  [DEBUG] Entered train_one_epoch function\n",
      "  [DEBUG] Set model to train mode\n",
      "  [DEBUG] Imported tqdm\n",
      "  Training epoch 89...\n",
      "  Loading first batch (this may take 10-30 seconds)...\n",
      "  [DEBUG] About to create iterator from train_loader...\n",
      "  [DEBUG] Calling iter(train_loader)...\n",
      "  [DEBUG] Iterator created successfully!\n",
      "  [DEBUG] Calling next(train_iter)...\n",
      "  ✓ First batch loaded! Shape: torch.Size([32, 3, 224, 224]), Labels: torch.Size([32])\n",
      "  Batch size actual: 32, Expected: 32\n"
     ]
    },
    {
     "data": {
      "application/vnd.jupyter.widget-view+json": {
       "model_id": "853c2c20616b4990aab538a03f1fa922",
       "version_major": 2,
       "version_minor": 0
      },
      "text/plain": [
       "Epoch 89/120:   0%|                                                        | 0/3960 [00:00<?, ?it/s]"
      ]
     },
     "metadata": {},
     "output_type": "display_data"
    },
    {
     "name": "stdout",
     "output_type": "stream",
     "text": [
      "    Batch 100/3960: loss=2.2963, acc=0.5353\n",
      "    Batch 200/3960: loss=2.3534, acc=0.5165\n",
      "    Batch 300/3960: loss=2.3868, acc=0.5129\n",
      "    Batch 400/3960: loss=2.3909, acc=0.5164\n",
      "    Batch 500/3960: loss=2.3992, acc=0.5148\n",
      "    Batch 600/3960: loss=2.3911, acc=0.5116\n",
      "    Batch 700/3960: loss=2.3765, acc=0.5149\n",
      "    Batch 800/3960: loss=2.3610, acc=0.5168\n",
      "    Batch 900/3960: loss=2.3567, acc=0.5160\n",
      "    Batch 1000/3960: loss=2.3639, acc=0.5162\n",
      "    Batch 1100/3960: loss=2.3584, acc=0.5168\n",
      "    Batch 1200/3960: loss=2.3582, acc=0.5169\n",
      "    Batch 1300/3960: loss=2.3556, acc=0.5150\n",
      "    Batch 1400/3960: loss=2.3550, acc=0.5132\n",
      "    Batch 1500/3960: loss=2.3503, acc=0.5137\n",
      "    Batch 1600/3960: loss=2.3608, acc=0.5119\n",
      "    Batch 1700/3960: loss=2.3635, acc=0.5109\n",
      "    Batch 1800/3960: loss=2.3633, acc=0.5100\n",
      "    Batch 1900/3960: loss=2.3577, acc=0.5113\n",
      "    Batch 2000/3960: loss=2.3595, acc=0.5113\n",
      "    Batch 2100/3960: loss=2.3605, acc=0.5129\n",
      "    Batch 2200/3960: loss=2.3565, acc=0.5125\n",
      "    Batch 2300/3960: loss=2.3582, acc=0.5130\n",
      "    Batch 2400/3960: loss=2.3548, acc=0.5143\n",
      "    Batch 2500/3960: loss=2.3564, acc=0.5133\n",
      "    Batch 2600/3960: loss=2.3547, acc=0.5133\n",
      "    Batch 2700/3960: loss=2.3545, acc=0.5115\n",
      "    Batch 2800/3960: loss=2.3558, acc=0.5114\n",
      "    Batch 2900/3960: loss=2.3568, acc=0.5102\n",
      "    Batch 3000/3960: loss=2.3567, acc=0.5097\n",
      "    Batch 3100/3960: loss=2.3548, acc=0.5097\n",
      "    Batch 3200/3960: loss=2.3534, acc=0.5108\n",
      "    Batch 3300/3960: loss=2.3527, acc=0.5101\n",
      "    Batch 3400/3960: loss=2.3538, acc=0.5100\n",
      "    Batch 3500/3960: loss=2.3543, acc=0.5097\n",
      "    Batch 3600/3960: loss=2.3498, acc=0.5107\n",
      "    Batch 3700/3960: loss=2.3527, acc=0.5104\n",
      "    Batch 3800/3960: loss=2.3504, acc=0.5112\n",
      "    Batch 3900/3960: loss=2.3506, acc=0.5118\n",
      "Epoch 89 Train Loss: 2.3488 Acc: 0.5128 LR: 0.000338\n",
      ">>> Training epoch 89 completed <<<\n",
      "  Starting validation...\n"
     ]
    },
    {
     "data": {
      "application/vnd.jupyter.widget-view+json": {
       "model_id": "b048241ce0374a1b8d128542a1aa265d",
       "version_major": 2,
       "version_minor": 0
      },
      "text/plain": [
       "Validation (raw):   0%|          | 0/157 [00:00<?, ?it/s]"
      ]
     },
     "metadata": {},
     "output_type": "display_data"
    },
    {
     "name": "stdout",
     "output_type": "stream",
     "text": [
      "Validation Acc (raw): 0.8408\n"
     ]
    },
    {
     "data": {
      "application/vnd.jupyter.widget-view+json": {
       "model_id": "45cb5c0cccc74a63ae30bbc436298b9a",
       "version_major": 2,
       "version_minor": 0
      },
      "text/plain": [
       "Validation (ema):   0%|          | 0/157 [00:00<?, ?it/s]"
      ]
     },
     "metadata": {},
     "output_type": "display_data"
    },
    {
     "name": "stdout",
     "output_type": "stream",
     "text": [
      "Validation Acc (ema): 0.1192\n",
      ">>> Validation completed <<<\n",
      "Epoch time: 41.72 mins\n",
      "\n",
      ">>> Starting Epoch 90/120 <<<\n",
      "  [DEBUG] Entered train_one_epoch function\n",
      "  [DEBUG] Set model to train mode\n",
      "  [DEBUG] Imported tqdm\n",
      "  Training epoch 90...\n",
      "  Loading first batch (this may take 10-30 seconds)...\n",
      "  [DEBUG] About to create iterator from train_loader...\n",
      "  [DEBUG] Calling iter(train_loader)...\n",
      "  [DEBUG] Iterator created successfully!\n",
      "  [DEBUG] Calling next(train_iter)...\n",
      "  ✓ First batch loaded! Shape: torch.Size([32, 3, 224, 224]), Labels: torch.Size([32])\n",
      "  Batch size actual: 32, Expected: 32\n"
     ]
    },
    {
     "data": {
      "application/vnd.jupyter.widget-view+json": {
       "model_id": "d9eab44bec114acd9a0bd689ee4aadc1",
       "version_major": 2,
       "version_minor": 0
      },
      "text/plain": [
       "Epoch 90/120:   0%|                                                        | 0/3960 [00:00<?, ?it/s]"
      ]
     },
     "metadata": {},
     "output_type": "display_data"
    },
    {
     "name": "stdout",
     "output_type": "stream",
     "text": [
      "    Batch 100/3960: loss=2.3728, acc=0.4892\n",
      "    Batch 200/3960: loss=2.3487, acc=0.4874\n",
      "    Batch 300/3960: loss=2.3322, acc=0.4984\n",
      "    Batch 400/3960: loss=2.3224, acc=0.5067\n",
      "    Batch 500/3960: loss=2.3098, acc=0.5094\n",
      "    Batch 600/3960: loss=2.3163, acc=0.5128\n",
      "    Batch 700/3960: loss=2.3068, acc=0.5155\n",
      "    Batch 800/3960: loss=2.2985, acc=0.5217\n",
      "    Batch 900/3960: loss=2.3037, acc=0.5208\n",
      "    Batch 1000/3960: loss=2.3119, acc=0.5177\n",
      "    Batch 1100/3960: loss=2.3034, acc=0.5204\n",
      "    Batch 1200/3960: loss=2.3053, acc=0.5223\n",
      "    Batch 1300/3960: loss=2.3010, acc=0.5229\n",
      "    Batch 1400/3960: loss=2.3035, acc=0.5201\n",
      "    Batch 1500/3960: loss=2.3038, acc=0.5189\n",
      "    Batch 1600/3960: loss=2.3081, acc=0.5186\n",
      "    Batch 1700/3960: loss=2.3202, acc=0.5133\n",
      "    Batch 1800/3960: loss=2.3212, acc=0.5126\n",
      "    Batch 1900/3960: loss=2.3225, acc=0.5119\n",
      "    Batch 2000/3960: loss=2.3232, acc=0.5134\n",
      "    Batch 2100/3960: loss=2.3227, acc=0.5143\n",
      "    Batch 2200/3960: loss=2.3230, acc=0.5126\n",
      "    Batch 2300/3960: loss=2.3242, acc=0.5114\n",
      "    Batch 2400/3960: loss=2.3252, acc=0.5105\n",
      "    Batch 2500/3960: loss=2.3255, acc=0.5084\n",
      "    Batch 2600/3960: loss=2.3282, acc=0.5078\n",
      "    Batch 2700/3960: loss=2.3242, acc=0.5108\n",
      "    Batch 2800/3960: loss=2.3227, acc=0.5139\n",
      "    Batch 2900/3960: loss=2.3209, acc=0.5128\n",
      "    Batch 3000/3960: loss=2.3206, acc=0.5123\n",
      "    Batch 3100/3960: loss=2.3215, acc=0.5122\n",
      "    Batch 3200/3960: loss=2.3260, acc=0.5097\n",
      "    Batch 3300/3960: loss=2.3288, acc=0.5096\n",
      "    Batch 3400/3960: loss=2.3283, acc=0.5095\n",
      "    Batch 3500/3960: loss=2.3258, acc=0.5112\n",
      "    Batch 3600/3960: loss=2.3281, acc=0.5103\n",
      "    Batch 3700/3960: loss=2.3288, acc=0.5112\n",
      "    Batch 3800/3960: loss=2.3299, acc=0.5118\n",
      "    Batch 3900/3960: loss=2.3305, acc=0.5111\n",
      "Epoch 90 Train Loss: 2.3314 Acc: 0.5108 LR: 0.000317\n",
      ">>> Training epoch 90 completed <<<\n",
      "  Starting validation...\n"
     ]
    },
    {
     "data": {
      "application/vnd.jupyter.widget-view+json": {
       "model_id": "3f39cd4a60404b84b926c8a4e29e57be",
       "version_major": 2,
       "version_minor": 0
      },
      "text/plain": [
       "Validation (raw):   0%|          | 0/157 [00:00<?, ?it/s]"
      ]
     },
     "metadata": {},
     "output_type": "display_data"
    },
    {
     "name": "stdout",
     "output_type": "stream",
     "text": [
      "Validation Acc (raw): 0.8416\n"
     ]
    },
    {
     "data": {
      "application/vnd.jupyter.widget-view+json": {
       "model_id": "3db93516b0c24b20916c743204e86a80",
       "version_major": 2,
       "version_minor": 0
      },
      "text/plain": [
       "Validation (ema):   0%|          | 0/157 [00:00<?, ?it/s]"
      ]
     },
     "metadata": {},
     "output_type": "display_data"
    },
    {
     "name": "stdout",
     "output_type": "stream",
     "text": [
      "Validation Acc (ema): 0.1182\n",
      ">>> Validation completed <<<\n",
      "Epoch time: 41.07 mins\n",
      "Saved checkpoint\n",
      "\n",
      ">>> Starting Epoch 91/120 <<<\n",
      "  [DEBUG] Entered train_one_epoch function\n",
      "  [DEBUG] Set model to train mode\n",
      "  [DEBUG] Imported tqdm\n",
      "  Training epoch 91...\n",
      "  Loading first batch (this may take 10-30 seconds)...\n",
      "  [DEBUG] About to create iterator from train_loader...\n",
      "  [DEBUG] Calling iter(train_loader)...\n",
      "  [DEBUG] Iterator created successfully!\n",
      "  [DEBUG] Calling next(train_iter)...\n",
      "  ✓ First batch loaded! Shape: torch.Size([32, 3, 224, 224]), Labels: torch.Size([32])\n",
      "  Batch size actual: 32, Expected: 32\n"
     ]
    },
    {
     "data": {
      "application/vnd.jupyter.widget-view+json": {
       "model_id": "6cc4a6b44e984994be678de179f9c732",
       "version_major": 2,
       "version_minor": 0
      },
      "text/plain": [
       "Epoch 91/120:   0%|                                                        | 0/3960 [00:00<?, ?it/s]"
      ]
     },
     "metadata": {},
     "output_type": "display_data"
    },
    {
     "name": "stdout",
     "output_type": "stream",
     "text": [
      "    Batch 100/3960: loss=2.2405, acc=0.5480\n",
      "    Batch 200/3960: loss=2.3604, acc=0.5160\n",
      "    Batch 300/3960: loss=2.3351, acc=0.5256\n",
      "    Batch 400/3960: loss=2.3166, acc=0.5195\n",
      "    Batch 500/3960: loss=2.3082, acc=0.5157\n",
      "    Batch 600/3960: loss=2.3094, acc=0.5102\n",
      "    Batch 700/3960: loss=2.3094, acc=0.5062\n",
      "    Batch 800/3960: loss=2.3012, acc=0.5066\n",
      "    Batch 900/3960: loss=2.3074, acc=0.5091\n",
      "    Batch 1000/3960: loss=2.3109, acc=0.5096\n",
      "    Batch 1100/3960: loss=2.3166, acc=0.5077\n",
      "    Batch 1200/3960: loss=2.2997, acc=0.5118\n",
      "    Batch 1300/3960: loss=2.3018, acc=0.5125\n",
      "    Batch 1400/3960: loss=2.2989, acc=0.5134\n",
      "    Batch 1500/3960: loss=2.3050, acc=0.5115\n",
      "    Batch 1600/3960: loss=2.3036, acc=0.5138\n",
      "    Batch 1700/3960: loss=2.2987, acc=0.5170\n",
      "    Batch 1800/3960: loss=2.2963, acc=0.5181\n",
      "    Batch 1900/3960: loss=2.2988, acc=0.5164\n",
      "    Batch 2000/3960: loss=2.3000, acc=0.5169\n",
      "    Batch 2100/3960: loss=2.3053, acc=0.5166\n",
      "    Batch 2200/3960: loss=2.3077, acc=0.5150\n",
      "    Batch 2300/3960: loss=2.3060, acc=0.5163\n",
      "    Batch 2400/3960: loss=2.3072, acc=0.5157\n",
      "    Batch 2500/3960: loss=2.3071, acc=0.5155\n",
      "    Batch 2600/3960: loss=2.3085, acc=0.5169\n",
      "    Batch 2700/3960: loss=2.3046, acc=0.5158\n",
      "    Batch 2800/3960: loss=2.3015, acc=0.5173\n",
      "    Batch 2900/3960: loss=2.2987, acc=0.5184\n",
      "    Batch 3000/3960: loss=2.3016, acc=0.5168\n",
      "    Batch 3100/3960: loss=2.3020, acc=0.5169\n",
      "    Batch 3200/3960: loss=2.3042, acc=0.5176\n",
      "    Batch 3300/3960: loss=2.3059, acc=0.5166\n",
      "    Batch 3400/3960: loss=2.3078, acc=0.5162\n",
      "    Batch 3500/3960: loss=2.3081, acc=0.5162\n",
      "    Batch 3600/3960: loss=2.3061, acc=0.5156\n",
      "    Batch 3700/3960: loss=2.3064, acc=0.5164\n",
      "    Batch 3800/3960: loss=2.3070, acc=0.5161\n",
      "    Batch 3900/3960: loss=2.3075, acc=0.5159\n",
      "Epoch 91 Train Loss: 2.3075 Acc: 0.5170 LR: 0.000298\n",
      ">>> Training epoch 91 completed <<<\n",
      "  Starting validation...\n"
     ]
    },
    {
     "data": {
      "application/vnd.jupyter.widget-view+json": {
       "model_id": "8e626d2c79ef4ef783425fdd81ae2b13",
       "version_major": 2,
       "version_minor": 0
      },
      "text/plain": [
       "Validation (raw):   0%|          | 0/157 [00:00<?, ?it/s]"
      ]
     },
     "metadata": {},
     "output_type": "display_data"
    },
    {
     "name": "stdout",
     "output_type": "stream",
     "text": [
      "Validation Acc (raw): 0.8486\n"
     ]
    },
    {
     "data": {
      "application/vnd.jupyter.widget-view+json": {
       "model_id": "2c48345f29474550b65bd2fd7def266e",
       "version_major": 2,
       "version_minor": 0
      },
      "text/plain": [
       "Validation (ema):   0%|          | 0/157 [00:00<?, ?it/s]"
      ]
     },
     "metadata": {},
     "output_type": "display_data"
    },
    {
     "name": "stdout",
     "output_type": "stream",
     "text": [
      "Validation Acc (ema): 0.1154\n",
      ">>> Validation completed <<<\n",
      "Epoch time: 23.75 mins\n",
      "\n",
      ">>> Starting Epoch 92/120 <<<\n",
      "  [DEBUG] Entered train_one_epoch function\n",
      "  [DEBUG] Set model to train mode\n",
      "  [DEBUG] Imported tqdm\n",
      "  Training epoch 92...\n",
      "  Loading first batch (this may take 10-30 seconds)...\n",
      "  [DEBUG] About to create iterator from train_loader...\n",
      "  [DEBUG] Calling iter(train_loader)...\n",
      "  [DEBUG] Iterator created successfully!\n",
      "  [DEBUG] Calling next(train_iter)...\n",
      "  ✓ First batch loaded! Shape: torch.Size([32, 3, 224, 224]), Labels: torch.Size([32])\n",
      "  Batch size actual: 32, Expected: 32\n"
     ]
    },
    {
     "data": {
      "application/vnd.jupyter.widget-view+json": {
       "model_id": "64af528848504667b7fa639fa2ebef9e",
       "version_major": 2,
       "version_minor": 0
      },
      "text/plain": [
       "Epoch 92/120:   0%|                                                        | 0/3960 [00:00<?, ?it/s]"
      ]
     },
     "metadata": {},
     "output_type": "display_data"
    },
    {
     "name": "stdout",
     "output_type": "stream",
     "text": [
      "    Batch 100/3960: loss=2.2074, acc=0.5733\n",
      "    Batch 200/3960: loss=2.2763, acc=0.5491\n",
      "    Batch 300/3960: loss=2.3115, acc=0.5295\n",
      "    Batch 400/3960: loss=2.3022, acc=0.5297\n",
      "    Batch 500/3960: loss=2.3308, acc=0.5185\n",
      "    Batch 600/3960: loss=2.3255, acc=0.5193\n",
      "    Batch 700/3960: loss=2.3184, acc=0.5207\n",
      "    Batch 800/3960: loss=2.3169, acc=0.5237\n",
      "    Batch 900/3960: loss=2.3227, acc=0.5243\n",
      "    Batch 1000/3960: loss=2.3207, acc=0.5229\n",
      "    Batch 1100/3960: loss=2.3237, acc=0.5190\n",
      "    Batch 1200/3960: loss=2.3284, acc=0.5162\n",
      "    Batch 1300/3960: loss=2.3195, acc=0.5159\n",
      "    Batch 1400/3960: loss=2.3232, acc=0.5153\n",
      "    Batch 1500/3960: loss=2.3244, acc=0.5158\n",
      "    Batch 1600/3960: loss=2.3281, acc=0.5122\n",
      "    Batch 1700/3960: loss=2.3237, acc=0.5151\n",
      "    Batch 1800/3960: loss=2.3240, acc=0.5148\n",
      "    Batch 1900/3960: loss=2.3265, acc=0.5135\n",
      "    Batch 2000/3960: loss=2.3246, acc=0.5154\n",
      "    Batch 2100/3960: loss=2.3240, acc=0.5161\n",
      "    Batch 2200/3960: loss=2.3198, acc=0.5169\n",
      "    Batch 2300/3960: loss=2.3185, acc=0.5185\n",
      "    Batch 2400/3960: loss=2.3212, acc=0.5175\n",
      "    Batch 2500/3960: loss=2.3175, acc=0.5197\n",
      "    Batch 2600/3960: loss=2.3167, acc=0.5206\n",
      "    Batch 2700/3960: loss=2.3157, acc=0.5217\n",
      "    Batch 2800/3960: loss=2.3197, acc=0.5207\n",
      "    Batch 2900/3960: loss=2.3173, acc=0.5220\n",
      "    Batch 3000/3960: loss=2.3200, acc=0.5214\n",
      "    Batch 3100/3960: loss=2.3202, acc=0.5214\n",
      "    Batch 3200/3960: loss=2.3222, acc=0.5193\n",
      "    Batch 3300/3960: loss=2.3218, acc=0.5186\n",
      "    Batch 3400/3960: loss=2.3234, acc=0.5190\n",
      "    Batch 3500/3960: loss=2.3204, acc=0.5194\n",
      "    Batch 3600/3960: loss=2.3205, acc=0.5201\n",
      "    Batch 3700/3960: loss=2.3193, acc=0.5192\n",
      "    Batch 3800/3960: loss=2.3221, acc=0.5187\n",
      "    Batch 3900/3960: loss=2.3219, acc=0.5182\n",
      "Epoch 92 Train Loss: 2.3237 Acc: 0.5182 LR: 0.000279\n",
      ">>> Training epoch 92 completed <<<\n",
      "  Starting validation...\n"
     ]
    },
    {
     "data": {
      "application/vnd.jupyter.widget-view+json": {
       "model_id": "77e9e72d5cfd4743867d74d8215e411e",
       "version_major": 2,
       "version_minor": 0
      },
      "text/plain": [
       "Validation (raw):   0%|          | 0/157 [00:00<?, ?it/s]"
      ]
     },
     "metadata": {},
     "output_type": "display_data"
    },
    {
     "name": "stdout",
     "output_type": "stream",
     "text": [
      "Validation Acc (raw): 0.8392\n"
     ]
    },
    {
     "data": {
      "application/vnd.jupyter.widget-view+json": {
       "model_id": "e5bf9e8f36434f568a54a061ac1dae66",
       "version_major": 2,
       "version_minor": 0
      },
      "text/plain": [
       "Validation (ema):   0%|          | 0/157 [00:00<?, ?it/s]"
      ]
     },
     "metadata": {},
     "output_type": "display_data"
    },
    {
     "name": "stdout",
     "output_type": "stream",
     "text": [
      "Validation Acc (ema): 0.1138\n",
      ">>> Validation completed <<<\n",
      "Epoch time: 23.70 mins\n",
      "\n",
      ">>> Starting Epoch 93/120 <<<\n",
      "  [DEBUG] Entered train_one_epoch function\n",
      "  [DEBUG] Set model to train mode\n",
      "  [DEBUG] Imported tqdm\n",
      "  Training epoch 93...\n",
      "  Loading first batch (this may take 10-30 seconds)...\n",
      "  [DEBUG] About to create iterator from train_loader...\n",
      "  [DEBUG] Calling iter(train_loader)...\n",
      "  [DEBUG] Iterator created successfully!\n",
      "  [DEBUG] Calling next(train_iter)...\n",
      "  ✓ First batch loaded! Shape: torch.Size([32, 3, 224, 224]), Labels: torch.Size([32])\n",
      "  Batch size actual: 32, Expected: 32\n"
     ]
    },
    {
     "data": {
      "application/vnd.jupyter.widget-view+json": {
       "model_id": "57e6a37f3b4d47578a65768d23573078",
       "version_major": 2,
       "version_minor": 0
      },
      "text/plain": [
       "Epoch 93/120:   0%|                                                        | 0/3960 [00:00<?, ?it/s]"
      ]
     },
     "metadata": {},
     "output_type": "display_data"
    },
    {
     "name": "stdout",
     "output_type": "stream",
     "text": [
      "    Batch 100/3960: loss=2.2920, acc=0.5294\n",
      "    Batch 200/3960: loss=2.3123, acc=0.5224\n",
      "    Batch 300/3960: loss=2.3391, acc=0.5196\n",
      "    Batch 400/3960: loss=2.3507, acc=0.5243\n",
      "    Batch 500/3960: loss=2.3309, acc=0.5323\n",
      "    Batch 600/3960: loss=2.3039, acc=0.5427\n",
      "    Batch 700/3960: loss=2.3122, acc=0.5386\n",
      "    Batch 800/3960: loss=2.3110, acc=0.5314\n",
      "    Batch 900/3960: loss=2.3199, acc=0.5307\n",
      "    Batch 1000/3960: loss=2.3259, acc=0.5255\n",
      "    Batch 1100/3960: loss=2.3292, acc=0.5252\n",
      "    Batch 1200/3960: loss=2.3243, acc=0.5244\n",
      "    Batch 1300/3960: loss=2.3248, acc=0.5241\n",
      "    Batch 1400/3960: loss=2.3195, acc=0.5276\n",
      "    Batch 1500/3960: loss=2.3199, acc=0.5267\n",
      "    Batch 1600/3960: loss=2.3182, acc=0.5255\n",
      "    Batch 1700/3960: loss=2.3201, acc=0.5231\n",
      "    Batch 1800/3960: loss=2.3235, acc=0.5237\n",
      "    Batch 1900/3960: loss=2.3203, acc=0.5233\n",
      "    Batch 2000/3960: loss=2.3185, acc=0.5216\n",
      "    Batch 2100/3960: loss=2.3224, acc=0.5216\n",
      "    Batch 2200/3960: loss=2.3225, acc=0.5222\n",
      "    Batch 2300/3960: loss=2.3250, acc=0.5212\n",
      "    Batch 2400/3960: loss=2.3286, acc=0.5187\n",
      "    Batch 2500/3960: loss=2.3274, acc=0.5182\n",
      "    Batch 2600/3960: loss=2.3279, acc=0.5177\n",
      "    Batch 2700/3960: loss=2.3283, acc=0.5176\n",
      "    Batch 2800/3960: loss=2.3279, acc=0.5172\n",
      "    Batch 2900/3960: loss=2.3268, acc=0.5178\n",
      "    Batch 3000/3960: loss=2.3222, acc=0.5178\n",
      "    Batch 3100/3960: loss=2.3215, acc=0.5190\n",
      "    Batch 3200/3960: loss=2.3232, acc=0.5181\n",
      "    Batch 3300/3960: loss=2.3225, acc=0.5184\n",
      "    Batch 3400/3960: loss=2.3198, acc=0.5190\n",
      "    Batch 3500/3960: loss=2.3178, acc=0.5204\n",
      "    Batch 3600/3960: loss=2.3176, acc=0.5209\n",
      "    Batch 3700/3960: loss=2.3196, acc=0.5197\n",
      "    Batch 3800/3960: loss=2.3197, acc=0.5205\n",
      "    Batch 3900/3960: loss=2.3195, acc=0.5195\n",
      "Epoch 93 Train Loss: 2.3193 Acc: 0.5195 LR: 0.000260\n",
      ">>> Training epoch 93 completed <<<\n",
      "  Starting validation...\n"
     ]
    },
    {
     "data": {
      "application/vnd.jupyter.widget-view+json": {
       "model_id": "57fd5a2033b143b18a12f367a4f85a44",
       "version_major": 2,
       "version_minor": 0
      },
      "text/plain": [
       "Validation (raw):   0%|          | 0/157 [00:00<?, ?it/s]"
      ]
     },
     "metadata": {},
     "output_type": "display_data"
    },
    {
     "name": "stdout",
     "output_type": "stream",
     "text": [
      "Validation Acc (raw): 0.8414\n"
     ]
    },
    {
     "data": {
      "application/vnd.jupyter.widget-view+json": {
       "model_id": "1074dc3670e74e708dac9dd41e0c9e55",
       "version_major": 2,
       "version_minor": 0
      },
      "text/plain": [
       "Validation (ema):   0%|          | 0/157 [00:00<?, ?it/s]"
      ]
     },
     "metadata": {},
     "output_type": "display_data"
    },
    {
     "name": "stdout",
     "output_type": "stream",
     "text": [
      "Validation Acc (ema): 0.1120\n",
      ">>> Validation completed <<<\n",
      "Epoch time: 23.73 mins\n",
      "\n",
      ">>> Starting Epoch 94/120 <<<\n",
      "  [DEBUG] Entered train_one_epoch function\n",
      "  [DEBUG] Set model to train mode\n",
      "  [DEBUG] Imported tqdm\n",
      "  Training epoch 94...\n",
      "  Loading first batch (this may take 10-30 seconds)...\n",
      "  [DEBUG] About to create iterator from train_loader...\n",
      "  [DEBUG] Calling iter(train_loader)...\n",
      "  [DEBUG] Iterator created successfully!\n",
      "  [DEBUG] Calling next(train_iter)...\n",
      "  ✓ First batch loaded! Shape: torch.Size([32, 3, 224, 224]), Labels: torch.Size([32])\n",
      "  Batch size actual: 32, Expected: 32\n"
     ]
    },
    {
     "data": {
      "application/vnd.jupyter.widget-view+json": {
       "model_id": "7e0d06f3e30d40e39bf1ea6db3d26118",
       "version_major": 2,
       "version_minor": 0
      },
      "text/plain": [
       "Epoch 94/120:   0%|                                                        | 0/3960 [00:00<?, ?it/s]"
      ]
     },
     "metadata": {},
     "output_type": "display_data"
    },
    {
     "name": "stdout",
     "output_type": "stream",
     "text": [
      "    Batch 100/3960: loss=2.1731, acc=0.5622\n",
      "    Batch 200/3960: loss=2.2436, acc=0.5359\n",
      "    Batch 300/3960: loss=2.2613, acc=0.5380\n",
      "    Batch 400/3960: loss=2.2697, acc=0.5358\n",
      "    Batch 500/3960: loss=2.2707, acc=0.5322\n",
      "    Batch 600/3960: loss=2.3051, acc=0.5307\n",
      "    Batch 700/3960: loss=2.3135, acc=0.5320\n",
      "    Batch 800/3960: loss=2.3134, acc=0.5323\n",
      "    Batch 900/3960: loss=2.3117, acc=0.5313\n",
      "    Batch 1000/3960: loss=2.3041, acc=0.5314\n",
      "    Batch 1100/3960: loss=2.2917, acc=0.5332\n",
      "    Batch 1200/3960: loss=2.2993, acc=0.5337\n",
      "    Batch 1300/3960: loss=2.3091, acc=0.5312\n",
      "    Batch 1400/3960: loss=2.3122, acc=0.5292\n",
      "    Batch 1500/3960: loss=2.3130, acc=0.5308\n",
      "    Batch 1600/3960: loss=2.3162, acc=0.5297\n",
      "    Batch 1700/3960: loss=2.3151, acc=0.5307\n",
      "    Batch 1800/3960: loss=2.3144, acc=0.5287\n",
      "    Batch 1900/3960: loss=2.3086, acc=0.5307\n",
      "    Batch 2000/3960: loss=2.3132, acc=0.5271\n",
      "    Batch 2100/3960: loss=2.3128, acc=0.5266\n",
      "    Batch 2200/3960: loss=2.3199, acc=0.5239\n",
      "    Batch 2300/3960: loss=2.3225, acc=0.5243\n",
      "    Batch 2400/3960: loss=2.3273, acc=0.5224\n",
      "    Batch 2500/3960: loss=2.3214, acc=0.5224\n",
      "    Batch 2600/3960: loss=2.3230, acc=0.5213\n",
      "    Batch 2700/3960: loss=2.3229, acc=0.5204\n",
      "    Batch 2800/3960: loss=2.3219, acc=0.5190\n",
      "    Batch 2900/3960: loss=2.3230, acc=0.5183\n",
      "    Batch 3000/3960: loss=2.3229, acc=0.5192\n",
      "    Batch 3100/3960: loss=2.3206, acc=0.5185\n",
      "    Batch 3200/3960: loss=2.3197, acc=0.5189\n",
      "    Batch 3300/3960: loss=2.3196, acc=0.5172\n",
      "    Batch 3400/3960: loss=2.3186, acc=0.5175\n",
      "    Batch 3500/3960: loss=2.3194, acc=0.5170\n",
      "    Batch 3600/3960: loss=2.3146, acc=0.5183\n",
      "    Batch 3700/3960: loss=2.3146, acc=0.5192\n",
      "    Batch 3800/3960: loss=2.3130, acc=0.5185\n",
      "    Batch 3900/3960: loss=2.3151, acc=0.5181\n",
      "Epoch 94 Train Loss: 2.3137 Acc: 0.5185 LR: 0.000242\n",
      ">>> Training epoch 94 completed <<<\n",
      "  Starting validation...\n"
     ]
    },
    {
     "data": {
      "application/vnd.jupyter.widget-view+json": {
       "model_id": "9f8a159d8ab44923b2a1bfc749945415",
       "version_major": 2,
       "version_minor": 0
      },
      "text/plain": [
       "Validation (raw):   0%|          | 0/157 [00:00<?, ?it/s]"
      ]
     },
     "metadata": {},
     "output_type": "display_data"
    },
    {
     "name": "stdout",
     "output_type": "stream",
     "text": [
      "Validation Acc (raw): 0.8490\n"
     ]
    },
    {
     "data": {
      "application/vnd.jupyter.widget-view+json": {
       "model_id": "b567b2519bc4496291f33dc1457df15c",
       "version_major": 2,
       "version_minor": 0
      },
      "text/plain": [
       "Validation (ema):   0%|          | 0/157 [00:00<?, ?it/s]"
      ]
     },
     "metadata": {},
     "output_type": "display_data"
    },
    {
     "name": "stdout",
     "output_type": "stream",
     "text": [
      "Validation Acc (ema): 0.1110\n",
      ">>> Validation completed <<<\n",
      "Epoch time: 23.67 mins\n",
      "\n",
      ">>> Starting Epoch 95/120 <<<\n",
      "  [DEBUG] Entered train_one_epoch function\n",
      "  [DEBUG] Set model to train mode\n",
      "  [DEBUG] Imported tqdm\n",
      "  Training epoch 95...\n",
      "  Loading first batch (this may take 10-30 seconds)...\n",
      "  [DEBUG] About to create iterator from train_loader...\n",
      "  [DEBUG] Calling iter(train_loader)...\n",
      "  [DEBUG] Iterator created successfully!\n",
      "  [DEBUG] Calling next(train_iter)...\n",
      "  ✓ First batch loaded! Shape: torch.Size([32, 3, 224, 224]), Labels: torch.Size([32])\n",
      "  Batch size actual: 32, Expected: 32\n"
     ]
    },
    {
     "data": {
      "application/vnd.jupyter.widget-view+json": {
       "model_id": "ca5e4c896a744ac8b05a1571bfd0aa22",
       "version_major": 2,
       "version_minor": 0
      },
      "text/plain": [
       "Epoch 95/120:   0%|                                                        | 0/3960 [00:00<?, ?it/s]"
      ]
     },
     "metadata": {},
     "output_type": "display_data"
    },
    {
     "name": "stdout",
     "output_type": "stream",
     "text": [
      "    Batch 100/3960: loss=2.1870, acc=0.5919\n",
      "    Batch 200/3960: loss=2.2138, acc=0.5558\n",
      "    Batch 300/3960: loss=2.2470, acc=0.5364\n",
      "    Batch 400/3960: loss=2.2420, acc=0.5394\n",
      "    Batch 500/3960: loss=2.2380, acc=0.5487\n",
      "    Batch 600/3960: loss=2.2447, acc=0.5470\n",
      "    Batch 700/3960: loss=2.2506, acc=0.5518\n",
      "    Batch 800/3960: loss=2.2409, acc=0.5510\n",
      "    Batch 900/3960: loss=2.2514, acc=0.5474\n",
      "    Batch 1000/3960: loss=2.2521, acc=0.5482\n",
      "    Batch 1100/3960: loss=2.2566, acc=0.5448\n",
      "    Batch 1200/3960: loss=2.2727, acc=0.5366\n",
      "    Batch 1300/3960: loss=2.2819, acc=0.5350\n",
      "    Batch 1400/3960: loss=2.2792, acc=0.5356\n",
      "    Batch 1500/3960: loss=2.2783, acc=0.5343\n",
      "    Batch 1600/3960: loss=2.2761, acc=0.5355\n",
      "    Batch 1700/3960: loss=2.2720, acc=0.5364\n",
      "    Batch 1800/3960: loss=2.2757, acc=0.5361\n",
      "    Batch 1900/3960: loss=2.2719, acc=0.5346\n",
      "    Batch 2000/3960: loss=2.2741, acc=0.5337\n",
      "    Batch 2100/3960: loss=2.2736, acc=0.5333\n",
      "    Batch 2200/3960: loss=2.2753, acc=0.5314\n",
      "    Batch 2300/3960: loss=2.2787, acc=0.5313\n",
      "    Batch 2400/3960: loss=2.2821, acc=0.5316\n",
      "    Batch 2500/3960: loss=2.2817, acc=0.5306\n",
      "    Batch 2600/3960: loss=2.2838, acc=0.5294\n",
      "    Batch 2700/3960: loss=2.2785, acc=0.5294\n",
      "    Batch 2800/3960: loss=2.2738, acc=0.5299\n",
      "    Batch 2900/3960: loss=2.2748, acc=0.5299\n",
      "    Batch 3000/3960: loss=2.2786, acc=0.5301\n",
      "    Batch 3100/3960: loss=2.2781, acc=0.5295\n",
      "    Batch 3200/3960: loss=2.2777, acc=0.5282\n",
      "    Batch 3300/3960: loss=2.2789, acc=0.5289\n",
      "    Batch 3400/3960: loss=2.2810, acc=0.5285\n",
      "    Batch 3500/3960: loss=2.2809, acc=0.5288\n",
      "    Batch 3600/3960: loss=2.2771, acc=0.5286\n",
      "    Batch 3700/3960: loss=2.2793, acc=0.5297\n",
      "    Batch 3800/3960: loss=2.2774, acc=0.5305\n",
      "    Batch 3900/3960: loss=2.2786, acc=0.5307\n",
      "Epoch 95 Train Loss: 2.2789 Acc: 0.5295 LR: 0.000224\n",
      ">>> Training epoch 95 completed <<<\n",
      "  Starting validation...\n"
     ]
    },
    {
     "data": {
      "application/vnd.jupyter.widget-view+json": {
       "model_id": "81065ac124e241e1913a9dba72ce920d",
       "version_major": 2,
       "version_minor": 0
      },
      "text/plain": [
       "Validation (raw):   0%|          | 0/157 [00:00<?, ?it/s]"
      ]
     },
     "metadata": {},
     "output_type": "display_data"
    },
    {
     "name": "stdout",
     "output_type": "stream",
     "text": [
      "Validation Acc (raw): 0.8454\n"
     ]
    },
    {
     "data": {
      "application/vnd.jupyter.widget-view+json": {
       "model_id": "2424a55cde2842818976893d8069d8e8",
       "version_major": 2,
       "version_minor": 0
      },
      "text/plain": [
       "Validation (ema):   0%|          | 0/157 [00:00<?, ?it/s]"
      ]
     },
     "metadata": {},
     "output_type": "display_data"
    },
    {
     "name": "stdout",
     "output_type": "stream",
     "text": [
      "Validation Acc (ema): 0.1106\n",
      ">>> Validation completed <<<\n",
      "Epoch time: 23.69 mins\n",
      "Saved checkpoint\n",
      "\n",
      ">>> Starting Epoch 96/120 <<<\n",
      "  [DEBUG] Entered train_one_epoch function\n",
      "  [DEBUG] Set model to train mode\n",
      "  [DEBUG] Imported tqdm\n",
      "  Training epoch 96...\n",
      "  Loading first batch (this may take 10-30 seconds)...\n",
      "  [DEBUG] About to create iterator from train_loader...\n",
      "  [DEBUG] Calling iter(train_loader)...\n",
      "  [DEBUG] Iterator created successfully!\n",
      "  [DEBUG] Calling next(train_iter)...\n",
      "  ✓ First batch loaded! Shape: torch.Size([32, 3, 224, 224]), Labels: torch.Size([32])\n",
      "  Batch size actual: 32, Expected: 32\n"
     ]
    },
    {
     "data": {
      "application/vnd.jupyter.widget-view+json": {
       "model_id": "5d09c936e8b2451aaf7f78f622d8b914",
       "version_major": 2,
       "version_minor": 0
      },
      "text/plain": [
       "Epoch 96/120:   0%|                                                        | 0/3960 [00:00<?, ?it/s]"
      ]
     },
     "metadata": {},
     "output_type": "display_data"
    },
    {
     "name": "stdout",
     "output_type": "stream",
     "text": [
      "    Batch 100/3960: loss=2.2067, acc=0.5164\n",
      "    Batch 200/3960: loss=2.2468, acc=0.5224\n",
      "    Batch 300/3960: loss=2.2598, acc=0.4939\n",
      "    Batch 400/3960: loss=2.2433, acc=0.5092\n",
      "    Batch 500/3960: loss=2.2444, acc=0.5014\n",
      "    Batch 600/3960: loss=2.2549, acc=0.5112\n",
      "    Batch 700/3960: loss=2.2774, acc=0.5084\n",
      "    Batch 800/3960: loss=2.2816, acc=0.5118\n",
      "    Batch 900/3960: loss=2.2867, acc=0.5135\n",
      "    Batch 1000/3960: loss=2.3129, acc=0.5097\n",
      "    Batch 1100/3960: loss=2.3078, acc=0.5095\n",
      "    Batch 1200/3960: loss=2.3126, acc=0.5111\n",
      "    Batch 1300/3960: loss=2.3102, acc=0.5102\n",
      "    Batch 1400/3960: loss=2.3058, acc=0.5113\n",
      "    Batch 1500/3960: loss=2.3019, acc=0.5126\n",
      "    Batch 1600/3960: loss=2.2980, acc=0.5112\n",
      "    Batch 1700/3960: loss=2.2942, acc=0.5152\n",
      "    Batch 1800/3960: loss=2.2914, acc=0.5180\n",
      "    Batch 1900/3960: loss=2.2915, acc=0.5176\n",
      "    Batch 2000/3960: loss=2.2918, acc=0.5185\n",
      "    Batch 2100/3960: loss=2.2919, acc=0.5178\n",
      "    Batch 2200/3960: loss=2.2931, acc=0.5174\n",
      "    Batch 2300/3960: loss=2.2947, acc=0.5178\n",
      "    Batch 2400/3960: loss=2.2957, acc=0.5201\n",
      "    Batch 2500/3960: loss=2.2970, acc=0.5208\n",
      "    Batch 2600/3960: loss=2.2998, acc=0.5197\n",
      "    Batch 2700/3960: loss=2.2999, acc=0.5176\n",
      "    Batch 2800/3960: loss=2.2985, acc=0.5195\n",
      "    Batch 2900/3960: loss=2.2999, acc=0.5189\n",
      "    Batch 3000/3960: loss=2.3020, acc=0.5179\n",
      "    Batch 3100/3960: loss=2.3016, acc=0.5170\n",
      "    Batch 3200/3960: loss=2.3019, acc=0.5169\n",
      "    Batch 3300/3960: loss=2.3001, acc=0.5170\n",
      "    Batch 3400/3960: loss=2.3014, acc=0.5163\n",
      "    Batch 3500/3960: loss=2.3004, acc=0.5156\n",
      "    Batch 3600/3960: loss=2.2984, acc=0.5162\n",
      "    Batch 3700/3960: loss=2.2964, acc=0.5175\n",
      "    Batch 3800/3960: loss=2.2966, acc=0.5171\n",
      "    Batch 3900/3960: loss=2.2985, acc=0.5172\n",
      "Epoch 96 Train Loss: 2.2987 Acc: 0.5178 LR: 0.000207\n",
      ">>> Training epoch 96 completed <<<\n",
      "  Starting validation...\n"
     ]
    },
    {
     "data": {
      "application/vnd.jupyter.widget-view+json": {
       "model_id": "2a6160ffe4c34fffba4a00c8397be357",
       "version_major": 2,
       "version_minor": 0
      },
      "text/plain": [
       "Validation (raw):   0%|          | 0/157 [00:00<?, ?it/s]"
      ]
     },
     "metadata": {},
     "output_type": "display_data"
    },
    {
     "name": "stdout",
     "output_type": "stream",
     "text": [
      "Validation Acc (raw): 0.8488\n"
     ]
    },
    {
     "data": {
      "application/vnd.jupyter.widget-view+json": {
       "model_id": "1e967b5e547f4eea95d31d8dce756f00",
       "version_major": 2,
       "version_minor": 0
      },
      "text/plain": [
       "Validation (ema):   0%|          | 0/157 [00:00<?, ?it/s]"
      ]
     },
     "metadata": {},
     "output_type": "display_data"
    },
    {
     "name": "stdout",
     "output_type": "stream",
     "text": [
      "Validation Acc (ema): 0.1104\n",
      ">>> Validation completed <<<\n",
      "Epoch time: 23.81 mins\n",
      "\n",
      ">>> Starting Epoch 97/120 <<<\n",
      "  [DEBUG] Entered train_one_epoch function\n",
      "  [DEBUG] Set model to train mode\n",
      "  [DEBUG] Imported tqdm\n",
      "  Training epoch 97...\n",
      "  Loading first batch (this may take 10-30 seconds)...\n",
      "  [DEBUG] About to create iterator from train_loader...\n",
      "  [DEBUG] Calling iter(train_loader)...\n",
      "  [DEBUG] Iterator created successfully!\n",
      "  [DEBUG] Calling next(train_iter)...\n",
      "  ✓ First batch loaded! Shape: torch.Size([32, 3, 224, 224]), Labels: torch.Size([32])\n",
      "  Batch size actual: 32, Expected: 32\n"
     ]
    },
    {
     "data": {
      "application/vnd.jupyter.widget-view+json": {
       "model_id": "f5e1b28e9f0e482e9b2533712763e956",
       "version_major": 2,
       "version_minor": 0
      },
      "text/plain": [
       "Epoch 97/120:   0%|                                                        | 0/3960 [00:00<?, ?it/s]"
      ]
     },
     "metadata": {},
     "output_type": "display_data"
    },
    {
     "name": "stdout",
     "output_type": "stream",
     "text": [
      "    Batch 100/3960: loss=2.3184, acc=0.5179\n",
      "    Batch 200/3960: loss=2.2586, acc=0.5353\n",
      "    Batch 300/3960: loss=2.3131, acc=0.5350\n",
      "    Batch 400/3960: loss=2.2873, acc=0.5323\n",
      "    Batch 500/3960: loss=2.3086, acc=0.5316\n",
      "    Batch 600/3960: loss=2.3183, acc=0.5347\n",
      "    Batch 700/3960: loss=2.3150, acc=0.5323\n",
      "    Batch 800/3960: loss=2.3178, acc=0.5317\n",
      "    Batch 900/3960: loss=2.3236, acc=0.5277\n",
      "    Batch 1000/3960: loss=2.3147, acc=0.5333\n",
      "    Batch 1100/3960: loss=2.3135, acc=0.5325\n",
      "    Batch 1200/3960: loss=2.3073, acc=0.5313\n",
      "    Batch 1300/3960: loss=2.3119, acc=0.5283\n",
      "    Batch 1400/3960: loss=2.3045, acc=0.5281\n",
      "    Batch 1500/3960: loss=2.3041, acc=0.5257\n",
      "    Batch 1600/3960: loss=2.2977, acc=0.5243\n",
      "    Batch 1700/3960: loss=2.2946, acc=0.5250\n",
      "    Batch 1800/3960: loss=2.2958, acc=0.5231\n",
      "    Batch 1900/3960: loss=2.2966, acc=0.5217\n",
      "    Batch 2000/3960: loss=2.2920, acc=0.5215\n",
      "    Batch 2100/3960: loss=2.2931, acc=0.5219\n",
      "    Batch 2200/3960: loss=2.2877, acc=0.5226\n",
      "    Batch 2300/3960: loss=2.2850, acc=0.5246\n",
      "    Batch 2400/3960: loss=2.2862, acc=0.5240\n",
      "    Batch 2500/3960: loss=2.2882, acc=0.5225\n",
      "    Batch 2600/3960: loss=2.2894, acc=0.5223\n",
      "    Batch 2700/3960: loss=2.2894, acc=0.5199\n",
      "    Batch 2800/3960: loss=2.2899, acc=0.5199\n",
      "    Batch 2900/3960: loss=2.2858, acc=0.5199\n",
      "    Batch 3000/3960: loss=2.2896, acc=0.5189\n",
      "    Batch 3100/3960: loss=2.2888, acc=0.5191\n",
      "    Batch 3200/3960: loss=2.2886, acc=0.5182\n",
      "    Batch 3300/3960: loss=2.2882, acc=0.5190\n",
      "    Batch 3400/3960: loss=2.2895, acc=0.5181\n",
      "    Batch 3500/3960: loss=2.2879, acc=0.5188\n",
      "    Batch 3600/3960: loss=2.2857, acc=0.5200\n",
      "    Batch 3700/3960: loss=2.2873, acc=0.5203\n",
      "    Batch 3800/3960: loss=2.2845, acc=0.5214\n",
      "    Batch 3900/3960: loss=2.2847, acc=0.5222\n",
      "Epoch 97 Train Loss: 2.2846 Acc: 0.5213 LR: 0.000191\n",
      ">>> Training epoch 97 completed <<<\n",
      "  Starting validation...\n"
     ]
    },
    {
     "data": {
      "application/vnd.jupyter.widget-view+json": {
       "model_id": "55ced06e47164f6b80bc0f46166126d3",
       "version_major": 2,
       "version_minor": 0
      },
      "text/plain": [
       "Validation (raw):   0%|          | 0/157 [00:00<?, ?it/s]"
      ]
     },
     "metadata": {},
     "output_type": "display_data"
    },
    {
     "name": "stdout",
     "output_type": "stream",
     "text": [
      "Validation Acc (raw): 0.8486\n"
     ]
    },
    {
     "data": {
      "application/vnd.jupyter.widget-view+json": {
       "model_id": "5149bba94336404fac358753c2e85203",
       "version_major": 2,
       "version_minor": 0
      },
      "text/plain": [
       "Validation (ema):   0%|          | 0/157 [00:00<?, ?it/s]"
      ]
     },
     "metadata": {},
     "output_type": "display_data"
    },
    {
     "name": "stdout",
     "output_type": "stream",
     "text": [
      "Validation Acc (ema): 0.1106\n",
      ">>> Validation completed <<<\n",
      "Epoch time: 31.97 mins\n",
      "\n",
      ">>> Starting Epoch 98/120 <<<\n",
      "  [DEBUG] Entered train_one_epoch function\n",
      "  [DEBUG] Set model to train mode\n",
      "  [DEBUG] Imported tqdm\n",
      "  Training epoch 98...\n",
      "  Loading first batch (this may take 10-30 seconds)...\n",
      "  [DEBUG] About to create iterator from train_loader...\n",
      "  [DEBUG] Calling iter(train_loader)...\n",
      "  [DEBUG] Iterator created successfully!\n",
      "  [DEBUG] Calling next(train_iter)...\n",
      "  ✓ First batch loaded! Shape: torch.Size([32, 3, 224, 224]), Labels: torch.Size([32])\n",
      "  Batch size actual: 32, Expected: 32\n"
     ]
    },
    {
     "data": {
      "application/vnd.jupyter.widget-view+json": {
       "model_id": "e53b3fb1fb91487e9a5cd3c0ac9908bf",
       "version_major": 2,
       "version_minor": 0
      },
      "text/plain": [
       "Epoch 98/120:   0%|                                                        | 0/3960 [00:00<?, ?it/s]"
      ]
     },
     "metadata": {},
     "output_type": "display_data"
    },
    {
     "name": "stdout",
     "output_type": "stream",
     "text": [
      "    Batch 100/3960: loss=2.2621, acc=0.5269\n",
      "    Batch 200/3960: loss=2.2660, acc=0.5368\n",
      "    Batch 300/3960: loss=2.2560, acc=0.5480\n",
      "    Batch 400/3960: loss=2.2770, acc=0.5341\n",
      "    Batch 500/3960: loss=2.2615, acc=0.5332\n",
      "    Batch 600/3960: loss=2.2557, acc=0.5334\n",
      "    Batch 700/3960: loss=2.2591, acc=0.5370\n",
      "    Batch 800/3960: loss=2.2639, acc=0.5363\n",
      "    Batch 900/3960: loss=2.2732, acc=0.5363\n",
      "    Batch 1000/3960: loss=2.2697, acc=0.5332\n",
      "    Batch 1100/3960: loss=2.2617, acc=0.5385\n",
      "    Batch 1200/3960: loss=2.2711, acc=0.5354\n",
      "    Batch 1300/3960: loss=2.2719, acc=0.5350\n",
      "    Batch 1400/3960: loss=2.2690, acc=0.5350\n",
      "    Batch 1500/3960: loss=2.2692, acc=0.5349\n",
      "    Batch 1600/3960: loss=2.2692, acc=0.5338\n",
      "    Batch 1700/3960: loss=2.2676, acc=0.5322\n",
      "    Batch 1800/3960: loss=2.2718, acc=0.5308\n",
      "    Batch 1900/3960: loss=2.2726, acc=0.5304\n",
      "    Batch 2000/3960: loss=2.2707, acc=0.5304\n",
      "    Batch 2100/3960: loss=2.2755, acc=0.5309\n",
      "    Batch 2200/3960: loss=2.2733, acc=0.5302\n",
      "    Batch 2300/3960: loss=2.2768, acc=0.5291\n",
      "    Batch 2400/3960: loss=2.2779, acc=0.5289\n",
      "    Batch 2500/3960: loss=2.2755, acc=0.5289\n",
      "    Batch 2600/3960: loss=2.2714, acc=0.5291\n",
      "    Batch 2700/3960: loss=2.2748, acc=0.5276\n",
      "    Batch 2800/3960: loss=2.2770, acc=0.5280\n",
      "    Batch 2900/3960: loss=2.2791, acc=0.5277\n",
      "    Batch 3000/3960: loss=2.2766, acc=0.5284\n",
      "    Batch 3100/3960: loss=2.2748, acc=0.5297\n",
      "    Batch 3200/3960: loss=2.2725, acc=0.5298\n",
      "    Batch 3300/3960: loss=2.2718, acc=0.5290\n",
      "    Batch 3400/3960: loss=2.2739, acc=0.5302\n",
      "    Batch 3500/3960: loss=2.2738, acc=0.5307\n",
      "    Batch 3600/3960: loss=2.2739, acc=0.5309\n",
      "    Batch 3700/3960: loss=2.2752, acc=0.5308\n",
      "    Batch 3800/3960: loss=2.2771, acc=0.5296\n",
      "    Batch 3900/3960: loss=2.2763, acc=0.5298\n",
      "Epoch 98 Train Loss: 2.2756 Acc: 0.5302 LR: 0.000175\n",
      ">>> Training epoch 98 completed <<<\n",
      "  Starting validation...\n"
     ]
    },
    {
     "data": {
      "application/vnd.jupyter.widget-view+json": {
       "model_id": "0c100d250b6c4e6f8fe18640c71861a2",
       "version_major": 2,
       "version_minor": 0
      },
      "text/plain": [
       "Validation (raw):   0%|          | 0/157 [00:00<?, ?it/s]"
      ]
     },
     "metadata": {},
     "output_type": "display_data"
    },
    {
     "name": "stdout",
     "output_type": "stream",
     "text": [
      "Validation Acc (raw): 0.8480\n"
     ]
    },
    {
     "data": {
      "application/vnd.jupyter.widget-view+json": {
       "model_id": "1c84451a4e9d423aa9e841908fd5a4b0",
       "version_major": 2,
       "version_minor": 0
      },
      "text/plain": [
       "Validation (ema):   0%|          | 0/157 [00:00<?, ?it/s]"
      ]
     },
     "metadata": {},
     "output_type": "display_data"
    },
    {
     "name": "stdout",
     "output_type": "stream",
     "text": [
      "Validation Acc (ema): 0.1116\n",
      ">>> Validation completed <<<\n",
      "Epoch time: 36.25 mins\n",
      "\n",
      ">>> Starting Epoch 99/120 <<<\n",
      "  [DEBUG] Entered train_one_epoch function\n",
      "  [DEBUG] Set model to train mode\n",
      "  [DEBUG] Imported tqdm\n",
      "  Training epoch 99...\n",
      "  Loading first batch (this may take 10-30 seconds)...\n",
      "  [DEBUG] About to create iterator from train_loader...\n",
      "  [DEBUG] Calling iter(train_loader)...\n",
      "  [DEBUG] Iterator created successfully!\n",
      "  [DEBUG] Calling next(train_iter)...\n",
      "  ✓ First batch loaded! Shape: torch.Size([32, 3, 224, 224]), Labels: torch.Size([32])\n",
      "  Batch size actual: 32, Expected: 32\n"
     ]
    },
    {
     "data": {
      "application/vnd.jupyter.widget-view+json": {
       "model_id": "3ecb7de7b0604b3c8c082ccafa86af2f",
       "version_major": 2,
       "version_minor": 0
      },
      "text/plain": [
       "Epoch 99/120:   0%|                                                        | 0/3960 [00:00<?, ?it/s]"
      ]
     },
     "metadata": {},
     "output_type": "display_data"
    },
    {
     "name": "stdout",
     "output_type": "stream",
     "text": [
      "    Batch 100/3960: loss=2.1747, acc=0.5845\n",
      "    Batch 200/3960: loss=2.1776, acc=0.5726\n",
      "    Batch 300/3960: loss=2.1979, acc=0.5808\n",
      "    Batch 400/3960: loss=2.2189, acc=0.5666\n",
      "    Batch 500/3960: loss=2.2151, acc=0.5587\n",
      "    Batch 600/3960: loss=2.2476, acc=0.5530\n",
      "    Batch 700/3960: loss=2.2600, acc=0.5500\n",
      "    Batch 800/3960: loss=2.2603, acc=0.5516\n",
      "    Batch 900/3960: loss=2.2671, acc=0.5494\n",
      "    Batch 1000/3960: loss=2.2686, acc=0.5470\n",
      "    Batch 1100/3960: loss=2.2722, acc=0.5466\n",
      "    Batch 1200/3960: loss=2.2812, acc=0.5423\n",
      "    Batch 1300/3960: loss=2.2769, acc=0.5416\n",
      "    Batch 1400/3960: loss=2.2792, acc=0.5431\n",
      "    Batch 1500/3960: loss=2.2832, acc=0.5419\n",
      "    Batch 1600/3960: loss=2.2790, acc=0.5395\n",
      "    Batch 1700/3960: loss=2.2878, acc=0.5346\n",
      "    Batch 1800/3960: loss=2.2824, acc=0.5328\n",
      "    Batch 1900/3960: loss=2.2818, acc=0.5341\n",
      "    Batch 2000/3960: loss=2.2887, acc=0.5327\n",
      "    Batch 2100/3960: loss=2.2841, acc=0.5332\n",
      "    Batch 2200/3960: loss=2.2872, acc=0.5309\n",
      "    Batch 2300/3960: loss=2.2854, acc=0.5307\n",
      "    Batch 2400/3960: loss=2.2856, acc=0.5309\n",
      "    Batch 2500/3960: loss=2.2836, acc=0.5306\n",
      "    Batch 2600/3960: loss=2.2826, acc=0.5320\n",
      "    Batch 2700/3960: loss=2.2862, acc=0.5312\n",
      "    Batch 2800/3960: loss=2.2874, acc=0.5317\n",
      "    Batch 2900/3960: loss=2.2890, acc=0.5303\n",
      "    Batch 3000/3960: loss=2.2913, acc=0.5304\n",
      "    Batch 3100/3960: loss=2.2897, acc=0.5301\n",
      "    Batch 3200/3960: loss=2.2892, acc=0.5300\n",
      "    Batch 3300/3960: loss=2.2883, acc=0.5305\n",
      "    Batch 3400/3960: loss=2.2873, acc=0.5295\n",
      "    Batch 3500/3960: loss=2.2882, acc=0.5299\n",
      "    Batch 3600/3960: loss=2.2873, acc=0.5299\n",
      "    Batch 3700/3960: loss=2.2871, acc=0.5280\n",
      "    Batch 3800/3960: loss=2.2891, acc=0.5271\n",
      "    Batch 3900/3960: loss=2.2896, acc=0.5269\n",
      "Epoch 99 Train Loss: 2.2866 Acc: 0.5285 LR: 0.000160\n",
      ">>> Training epoch 99 completed <<<\n",
      "  Starting validation...\n"
     ]
    },
    {
     "data": {
      "application/vnd.jupyter.widget-view+json": {
       "model_id": "fd3ce1a90bd54c9dadb48f562c09584f",
       "version_major": 2,
       "version_minor": 0
      },
      "text/plain": [
       "Validation (raw):   0%|          | 0/157 [00:00<?, ?it/s]"
      ]
     },
     "metadata": {},
     "output_type": "display_data"
    },
    {
     "name": "stdout",
     "output_type": "stream",
     "text": [
      "Validation Acc (raw): 0.8498\n"
     ]
    },
    {
     "data": {
      "application/vnd.jupyter.widget-view+json": {
       "model_id": "981f5de7154b4394ac0ad9a8e945c0a1",
       "version_major": 2,
       "version_minor": 0
      },
      "text/plain": [
       "Validation (ema):   0%|          | 0/157 [00:00<?, ?it/s]"
      ]
     },
     "metadata": {},
     "output_type": "display_data"
    },
    {
     "name": "stdout",
     "output_type": "stream",
     "text": [
      "Validation Acc (ema): 0.1128\n",
      ">>> Validation completed <<<\n",
      "Epoch time: 23.64 mins\n",
      "\n",
      ">>> Starting Epoch 100/120 <<<\n",
      "  [DEBUG] Entered train_one_epoch function\n",
      "  [DEBUG] Set model to train mode\n",
      "  [DEBUG] Imported tqdm\n",
      "  Training epoch 100...\n",
      "  Loading first batch (this may take 10-30 seconds)...\n",
      "  [DEBUG] About to create iterator from train_loader...\n",
      "  [DEBUG] Calling iter(train_loader)...\n",
      "  [DEBUG] Iterator created successfully!\n",
      "  [DEBUG] Calling next(train_iter)...\n",
      "  ✓ First batch loaded! Shape: torch.Size([32, 3, 224, 224]), Labels: torch.Size([32])\n",
      "  Batch size actual: 32, Expected: 32\n"
     ]
    },
    {
     "data": {
      "application/vnd.jupyter.widget-view+json": {
       "model_id": "4b79e0da91854d0b8af662cf67f73592",
       "version_major": 2,
       "version_minor": 0
      },
      "text/plain": [
       "Epoch 100/120:   0%|                                                       | 0/3960 [00:00<?, ?it/s]"
      ]
     },
     "metadata": {},
     "output_type": "display_data"
    },
    {
     "name": "stdout",
     "output_type": "stream",
     "text": [
      "    Batch 100/3960: loss=2.2922, acc=0.5671\n",
      "    Batch 200/3960: loss=2.2871, acc=0.5575\n",
      "    Batch 300/3960: loss=2.2829, acc=0.5601\n",
      "    Batch 400/3960: loss=2.2736, acc=0.5567\n",
      "    Batch 500/3960: loss=2.2704, acc=0.5537\n",
      "    Batch 600/3960: loss=2.2519, acc=0.5552\n",
      "    Batch 700/3960: loss=2.2641, acc=0.5491\n",
      "    Batch 800/3960: loss=2.2636, acc=0.5459\n",
      "    Batch 900/3960: loss=2.2610, acc=0.5463\n",
      "    Batch 1000/3960: loss=2.2599, acc=0.5463\n",
      "    Batch 1100/3960: loss=2.2543, acc=0.5460\n",
      "    Batch 1200/3960: loss=2.2452, acc=0.5427\n",
      "    Batch 1300/3960: loss=2.2519, acc=0.5395\n",
      "    Batch 1400/3960: loss=2.2613, acc=0.5370\n",
      "    Batch 1500/3960: loss=2.2619, acc=0.5344\n",
      "    Batch 1600/3960: loss=2.2584, acc=0.5345\n",
      "    Batch 1700/3960: loss=2.2490, acc=0.5368\n",
      "    Batch 1800/3960: loss=2.2521, acc=0.5359\n",
      "    Batch 1900/3960: loss=2.2553, acc=0.5376\n",
      "    Batch 2000/3960: loss=2.2595, acc=0.5367\n",
      "    Batch 2100/3960: loss=2.2548, acc=0.5367\n",
      "    Batch 2200/3960: loss=2.2524, acc=0.5375\n",
      "    Batch 2300/3960: loss=2.2518, acc=0.5375\n",
      "    Batch 2400/3960: loss=2.2527, acc=0.5368\n",
      "    Batch 2500/3960: loss=2.2530, acc=0.5375\n",
      "    Batch 2600/3960: loss=2.2561, acc=0.5350\n",
      "    Batch 2700/3960: loss=2.2551, acc=0.5360\n",
      "    Batch 2800/3960: loss=2.2573, acc=0.5359\n",
      "    Batch 2900/3960: loss=2.2571, acc=0.5359\n",
      "    Batch 3000/3960: loss=2.2557, acc=0.5361\n",
      "    Batch 3100/3960: loss=2.2551, acc=0.5356\n",
      "    Batch 3200/3960: loss=2.2537, acc=0.5369\n",
      "    Batch 3300/3960: loss=2.2515, acc=0.5373\n",
      "    Batch 3400/3960: loss=2.2523, acc=0.5374\n",
      "    Batch 3500/3960: loss=2.2537, acc=0.5370\n",
      "    Batch 3600/3960: loss=2.2513, acc=0.5369\n",
      "    Batch 3700/3960: loss=2.2516, acc=0.5369\n",
      "    Batch 3800/3960: loss=2.2536, acc=0.5359\n",
      "    Batch 3900/3960: loss=2.2547, acc=0.5350\n",
      "Epoch 100 Train Loss: 2.2563 Acc: 0.5337 LR: 0.000146\n",
      ">>> Training epoch 100 completed <<<\n",
      "  Starting validation...\n"
     ]
    },
    {
     "data": {
      "application/vnd.jupyter.widget-view+json": {
       "model_id": "035138f7a93e4a2a8cabf7e376903534",
       "version_major": 2,
       "version_minor": 0
      },
      "text/plain": [
       "Validation (raw):   0%|          | 0/157 [00:00<?, ?it/s]"
      ]
     },
     "metadata": {},
     "output_type": "display_data"
    },
    {
     "name": "stdout",
     "output_type": "stream",
     "text": [
      "Validation Acc (raw): 0.8530\n"
     ]
    },
    {
     "data": {
      "application/vnd.jupyter.widget-view+json": {
       "model_id": "9e9e79367e6845568b2368181914c659",
       "version_major": 2,
       "version_minor": 0
      },
      "text/plain": [
       "Validation (ema):   0%|          | 0/157 [00:00<?, ?it/s]"
      ]
     },
     "metadata": {},
     "output_type": "display_data"
    },
    {
     "name": "stdout",
     "output_type": "stream",
     "text": [
      "Validation Acc (ema): 0.1142\n",
      ">>> Validation completed <<<\n",
      "Epoch time: 29.11 mins\n",
      "Saved checkpoint\n",
      "\n",
      ">>> Starting Epoch 101/120 <<<\n",
      "  [DEBUG] Entered train_one_epoch function\n",
      "  [DEBUG] Set model to train mode\n",
      "  [DEBUG] Imported tqdm\n",
      "  Training epoch 101...\n",
      "  Loading first batch (this may take 10-30 seconds)...\n",
      "  [DEBUG] About to create iterator from train_loader...\n",
      "  [DEBUG] Calling iter(train_loader)...\n",
      "  [DEBUG] Iterator created successfully!\n",
      "  [DEBUG] Calling next(train_iter)...\n",
      "  ✓ First batch loaded! Shape: torch.Size([32, 3, 224, 224]), Labels: torch.Size([32])\n",
      "  Batch size actual: 32, Expected: 32\n"
     ]
    },
    {
     "data": {
      "application/vnd.jupyter.widget-view+json": {
       "model_id": "12a0a7bc128c42ce940c73cee863ec89",
       "version_major": 2,
       "version_minor": 0
      },
      "text/plain": [
       "Epoch 101/120:   0%|                                                       | 0/3960 [00:00<?, ?it/s]"
      ]
     },
     "metadata": {},
     "output_type": "display_data"
    },
    {
     "name": "stdout",
     "output_type": "stream",
     "text": [
      "    Batch 100/3960: loss=2.2207, acc=0.5251\n",
      "    Batch 200/3960: loss=2.1692, acc=0.5583\n",
      "    Batch 300/3960: loss=2.2044, acc=0.5558\n",
      "    Batch 400/3960: loss=2.2125, acc=0.5464\n",
      "    Batch 500/3960: loss=2.2292, acc=0.5487\n",
      "    Batch 600/3960: loss=2.2387, acc=0.5427\n",
      "    Batch 700/3960: loss=2.2593, acc=0.5336\n",
      "    Batch 800/3960: loss=2.2523, acc=0.5351\n",
      "    Batch 900/3960: loss=2.2605, acc=0.5369\n",
      "    Batch 1000/3960: loss=2.2509, acc=0.5377\n",
      "    Batch 1100/3960: loss=2.2462, acc=0.5391\n",
      "    Batch 1200/3960: loss=2.2429, acc=0.5370\n",
      "    Batch 1300/3960: loss=2.2428, acc=0.5333\n",
      "    Batch 1400/3960: loss=2.2474, acc=0.5310\n",
      "    Batch 1500/3960: loss=2.2454, acc=0.5285\n",
      "    Batch 1600/3960: loss=2.2488, acc=0.5257\n",
      "    Batch 1700/3960: loss=2.2474, acc=0.5276\n",
      "    Batch 1800/3960: loss=2.2559, acc=0.5238\n",
      "    Batch 1900/3960: loss=2.2543, acc=0.5237\n",
      "    Batch 2000/3960: loss=2.2477, acc=0.5252\n",
      "    Batch 2100/3960: loss=2.2533, acc=0.5257\n",
      "    Batch 2200/3960: loss=2.2542, acc=0.5253\n",
      "    Batch 2300/3960: loss=2.2606, acc=0.5228\n",
      "    Batch 2400/3960: loss=2.2594, acc=0.5227\n",
      "    Batch 2500/3960: loss=2.2532, acc=0.5247\n",
      "    Batch 2600/3960: loss=2.2517, acc=0.5247\n",
      "    Batch 2700/3960: loss=2.2543, acc=0.5258\n",
      "    Batch 2800/3960: loss=2.2549, acc=0.5262\n",
      "    Batch 2900/3960: loss=2.2528, acc=0.5266\n",
      "    Batch 3000/3960: loss=2.2544, acc=0.5261\n",
      "    Batch 3100/3960: loss=2.2542, acc=0.5259\n",
      "    Batch 3200/3960: loss=2.2547, acc=0.5248\n",
      "    Batch 3300/3960: loss=2.2525, acc=0.5249\n",
      "    Batch 3400/3960: loss=2.2497, acc=0.5273\n",
      "    Batch 3500/3960: loss=2.2518, acc=0.5267\n",
      "    Batch 3600/3960: loss=2.2529, acc=0.5262\n",
      "    Batch 3700/3960: loss=2.2534, acc=0.5253\n",
      "    Batch 3800/3960: loss=2.2546, acc=0.5253\n",
      "    Batch 3900/3960: loss=2.2562, acc=0.5257\n",
      "Epoch 101 Train Loss: 2.2585 Acc: 0.5253 LR: 0.000132\n",
      ">>> Training epoch 101 completed <<<\n",
      "  Starting validation...\n"
     ]
    },
    {
     "data": {
      "application/vnd.jupyter.widget-view+json": {
       "model_id": "fdc5e851dcbc4896b96323fc5cb7e2f0",
       "version_major": 2,
       "version_minor": 0
      },
      "text/plain": [
       "Validation (raw):   0%|          | 0/157 [00:00<?, ?it/s]"
      ]
     },
     "metadata": {},
     "output_type": "display_data"
    },
    {
     "name": "stdout",
     "output_type": "stream",
     "text": [
      "Validation Acc (raw): 0.8496\n"
     ]
    },
    {
     "data": {
      "application/vnd.jupyter.widget-view+json": {
       "model_id": "e0c825fff8f1438494b741465ca16d5e",
       "version_major": 2,
       "version_minor": 0
      },
      "text/plain": [
       "Validation (ema):   0%|          | 0/157 [00:00<?, ?it/s]"
      ]
     },
     "metadata": {},
     "output_type": "display_data"
    },
    {
     "name": "stdout",
     "output_type": "stream",
     "text": [
      "Validation Acc (ema): 0.1156\n",
      ">>> Validation completed <<<\n",
      "Epoch time: 38.54 mins\n",
      "\n",
      ">>> Starting Epoch 102/120 <<<\n",
      "  [DEBUG] Entered train_one_epoch function\n",
      "  [DEBUG] Set model to train mode\n",
      "  [DEBUG] Imported tqdm\n",
      "  Training epoch 102...\n",
      "  Loading first batch (this may take 10-30 seconds)...\n",
      "  [DEBUG] About to create iterator from train_loader...\n",
      "  [DEBUG] Calling iter(train_loader)...\n",
      "  [DEBUG] Iterator created successfully!\n",
      "  [DEBUG] Calling next(train_iter)...\n",
      "  ✓ First batch loaded! Shape: torch.Size([32, 3, 224, 224]), Labels: torch.Size([32])\n",
      "  Batch size actual: 32, Expected: 32\n"
     ]
    },
    {
     "data": {
      "application/vnd.jupyter.widget-view+json": {
       "model_id": "ed4bfb500545460586a10682ec106a27",
       "version_major": 2,
       "version_minor": 0
      },
      "text/plain": [
       "Epoch 102/120:   0%|                                                       | 0/3960 [00:00<?, ?it/s]"
      ]
     },
     "metadata": {},
     "output_type": "display_data"
    },
    {
     "name": "stdout",
     "output_type": "stream",
     "text": [
      "    Batch 100/3960: loss=2.2604, acc=0.5603\n",
      "    Batch 200/3960: loss=2.2982, acc=0.5283\n",
      "    Batch 300/3960: loss=2.3004, acc=0.5168\n",
      "    Batch 400/3960: loss=2.2539, acc=0.5404\n",
      "    Batch 500/3960: loss=2.2526, acc=0.5394\n",
      "    Batch 600/3960: loss=2.2548, acc=0.5419\n",
      "    Batch 700/3960: loss=2.2575, acc=0.5442\n",
      "    Batch 800/3960: loss=2.2535, acc=0.5420\n",
      "    Batch 900/3960: loss=2.2563, acc=0.5447\n",
      "    Batch 1000/3960: loss=2.2595, acc=0.5416\n",
      "    Batch 1100/3960: loss=2.2546, acc=0.5389\n",
      "    Batch 1200/3960: loss=2.2579, acc=0.5396\n",
      "    Batch 1300/3960: loss=2.2548, acc=0.5409\n",
      "    Batch 1400/3960: loss=2.2523, acc=0.5400\n",
      "    Batch 1500/3960: loss=2.2465, acc=0.5395\n",
      "    Batch 1600/3960: loss=2.2541, acc=0.5355\n",
      "    Batch 1700/3960: loss=2.2527, acc=0.5361\n",
      "    Batch 1800/3960: loss=2.2465, acc=0.5396\n",
      "    Batch 1900/3960: loss=2.2468, acc=0.5400\n",
      "    Batch 2000/3960: loss=2.2457, acc=0.5374\n",
      "    Batch 2100/3960: loss=2.2439, acc=0.5366\n",
      "    Batch 2200/3960: loss=2.2437, acc=0.5360\n",
      "    Batch 2300/3960: loss=2.2467, acc=0.5350\n",
      "    Batch 2400/3960: loss=2.2436, acc=0.5344\n",
      "    Batch 2500/3960: loss=2.2424, acc=0.5352\n",
      "    Batch 2600/3960: loss=2.2437, acc=0.5355\n",
      "    Batch 2700/3960: loss=2.2427, acc=0.5359\n",
      "    Batch 2800/3960: loss=2.2423, acc=0.5364\n",
      "    Batch 2900/3960: loss=2.2406, acc=0.5362\n",
      "    Batch 3000/3960: loss=2.2391, acc=0.5372\n",
      "    Batch 3100/3960: loss=2.2405, acc=0.5382\n",
      "    Batch 3200/3960: loss=2.2401, acc=0.5380\n",
      "    Batch 3300/3960: loss=2.2400, acc=0.5386\n",
      "    Batch 3400/3960: loss=2.2418, acc=0.5381\n",
      "    Batch 3500/3960: loss=2.2449, acc=0.5384\n",
      "    Batch 3600/3960: loss=2.2439, acc=0.5395\n",
      "    Batch 3700/3960: loss=2.2458, acc=0.5396\n",
      "    Batch 3800/3960: loss=2.2480, acc=0.5395\n",
      "    Batch 3900/3960: loss=2.2465, acc=0.5395\n",
      "Epoch 102 Train Loss: 2.2463 Acc: 0.5397 LR: 0.000118\n",
      ">>> Training epoch 102 completed <<<\n",
      "  Starting validation...\n"
     ]
    },
    {
     "data": {
      "application/vnd.jupyter.widget-view+json": {
       "model_id": "0054fbbd66df4a29b6fec28393649da2",
       "version_major": 2,
       "version_minor": 0
      },
      "text/plain": [
       "Validation (raw):   0%|          | 0/157 [00:00<?, ?it/s]"
      ]
     },
     "metadata": {},
     "output_type": "display_data"
    },
    {
     "name": "stdout",
     "output_type": "stream",
     "text": [
      "Validation Acc (raw): 0.8526\n"
     ]
    },
    {
     "data": {
      "application/vnd.jupyter.widget-view+json": {
       "model_id": "1702d01babcf46fabfb74e3e25cd2fc3",
       "version_major": 2,
       "version_minor": 0
      },
      "text/plain": [
       "Validation (ema):   0%|          | 0/157 [00:00<?, ?it/s]"
      ]
     },
     "metadata": {},
     "output_type": "display_data"
    },
    {
     "name": "stdout",
     "output_type": "stream",
     "text": [
      "Validation Acc (ema): 0.1198\n",
      ">>> Validation completed <<<\n",
      "Epoch time: 23.47 mins\n",
      "\n",
      ">>> Starting Epoch 103/120 <<<\n",
      "  [DEBUG] Entered train_one_epoch function\n",
      "  [DEBUG] Set model to train mode\n",
      "  [DEBUG] Imported tqdm\n",
      "  Training epoch 103...\n",
      "  Loading first batch (this may take 10-30 seconds)...\n",
      "  [DEBUG] About to create iterator from train_loader...\n",
      "  [DEBUG] Calling iter(train_loader)...\n",
      "  [DEBUG] Iterator created successfully!\n",
      "  [DEBUG] Calling next(train_iter)...\n",
      "  ✓ First batch loaded! Shape: torch.Size([32, 3, 224, 224]), Labels: torch.Size([32])\n",
      "  Batch size actual: 32, Expected: 32\n"
     ]
    },
    {
     "data": {
      "application/vnd.jupyter.widget-view+json": {
       "model_id": "31560566c8ba4ec8a8a15d36b3a0029a",
       "version_major": 2,
       "version_minor": 0
      },
      "text/plain": [
       "Epoch 103/120:   0%|                                                       | 0/3960 [00:00<?, ?it/s]"
      ]
     },
     "metadata": {},
     "output_type": "display_data"
    },
    {
     "name": "stdout",
     "output_type": "stream",
     "text": [
      "    Batch 100/3960: loss=2.3028, acc=0.5371\n",
      "    Batch 200/3960: loss=2.2839, acc=0.5395\n",
      "    Batch 300/3960: loss=2.2901, acc=0.5375\n",
      "    Batch 400/3960: loss=2.2828, acc=0.5444\n",
      "    Batch 500/3960: loss=2.2796, acc=0.5437\n",
      "    Batch 600/3960: loss=2.2574, acc=0.5424\n",
      "    Batch 700/3960: loss=2.2471, acc=0.5465\n",
      "    Batch 800/3960: loss=2.2513, acc=0.5450\n",
      "    Batch 900/3960: loss=2.2432, acc=0.5439\n",
      "    Batch 1000/3960: loss=2.2396, acc=0.5410\n",
      "    Batch 1100/3960: loss=2.2410, acc=0.5403\n",
      "    Batch 1200/3960: loss=2.2447, acc=0.5420\n",
      "    Batch 1300/3960: loss=2.2435, acc=0.5429\n",
      "    Batch 1400/3960: loss=2.2442, acc=0.5436\n",
      "    Batch 1500/3960: loss=2.2499, acc=0.5424\n",
      "    Batch 1600/3960: loss=2.2528, acc=0.5422\n",
      "    Batch 1700/3960: loss=2.2510, acc=0.5425\n",
      "    Batch 1800/3960: loss=2.2499, acc=0.5405\n",
      "    Batch 1900/3960: loss=2.2454, acc=0.5404\n",
      "    Batch 2000/3960: loss=2.2499, acc=0.5394\n",
      "    Batch 2100/3960: loss=2.2493, acc=0.5367\n",
      "    Batch 2200/3960: loss=2.2502, acc=0.5366\n",
      "    Batch 2300/3960: loss=2.2530, acc=0.5365\n",
      "    Batch 2400/3960: loss=2.2514, acc=0.5348\n",
      "    Batch 2500/3960: loss=2.2477, acc=0.5347\n",
      "    Batch 2600/3960: loss=2.2465, acc=0.5349\n",
      "    Batch 2700/3960: loss=2.2488, acc=0.5359\n",
      "    Batch 2800/3960: loss=2.2517, acc=0.5342\n",
      "    Batch 2900/3960: loss=2.2541, acc=0.5331\n",
      "    Batch 3000/3960: loss=2.2551, acc=0.5315\n",
      "    Batch 3100/3960: loss=2.2545, acc=0.5312\n",
      "    Batch 3200/3960: loss=2.2535, acc=0.5311\n",
      "    Batch 3300/3960: loss=2.2478, acc=0.5316\n",
      "    Batch 3400/3960: loss=2.2480, acc=0.5318\n",
      "    Batch 3500/3960: loss=2.2454, acc=0.5323\n",
      "    Batch 3600/3960: loss=2.2439, acc=0.5331\n",
      "    Batch 3700/3960: loss=2.2436, acc=0.5327\n",
      "    Batch 3800/3960: loss=2.2437, acc=0.5318\n",
      "    Batch 3900/3960: loss=2.2441, acc=0.5312\n",
      "Epoch 103 Train Loss: 2.2437 Acc: 0.5304 LR: 0.000106\n",
      ">>> Training epoch 103 completed <<<\n",
      "  Starting validation...\n"
     ]
    },
    {
     "data": {
      "application/vnd.jupyter.widget-view+json": {
       "model_id": "384ad455647643c0a49ff7f82d7e8a93",
       "version_major": 2,
       "version_minor": 0
      },
      "text/plain": [
       "Validation (raw):   0%|          | 0/157 [00:00<?, ?it/s]"
      ]
     },
     "metadata": {},
     "output_type": "display_data"
    },
    {
     "name": "stdout",
     "output_type": "stream",
     "text": [
      "Validation Acc (raw): 0.8494\n"
     ]
    },
    {
     "data": {
      "application/vnd.jupyter.widget-view+json": {
       "model_id": "3427c17acba340f4ba3433767950082d",
       "version_major": 2,
       "version_minor": 0
      },
      "text/plain": [
       "Validation (ema):   0%|          | 0/157 [00:00<?, ?it/s]"
      ]
     },
     "metadata": {},
     "output_type": "display_data"
    },
    {
     "name": "stdout",
     "output_type": "stream",
     "text": [
      "Validation Acc (ema): 0.1238\n",
      ">>> Validation completed <<<\n",
      "Epoch time: 23.44 mins\n",
      "\n",
      ">>> Starting Epoch 104/120 <<<\n",
      "  [DEBUG] Entered train_one_epoch function\n",
      "  [DEBUG] Set model to train mode\n",
      "  [DEBUG] Imported tqdm\n",
      "  Training epoch 104...\n",
      "  Loading first batch (this may take 10-30 seconds)...\n",
      "  [DEBUG] About to create iterator from train_loader...\n",
      "  [DEBUG] Calling iter(train_loader)...\n",
      "  [DEBUG] Iterator created successfully!\n",
      "  [DEBUG] Calling next(train_iter)...\n",
      "  ✓ First batch loaded! Shape: torch.Size([32, 3, 224, 224]), Labels: torch.Size([32])\n",
      "  Batch size actual: 32, Expected: 32\n"
     ]
    },
    {
     "data": {
      "application/vnd.jupyter.widget-view+json": {
       "model_id": "d55d3947aa5d4eef8d5b1eb9c67e95a5",
       "version_major": 2,
       "version_minor": 0
      },
      "text/plain": [
       "Epoch 104/120:   0%|                                                       | 0/3960 [00:00<?, ?it/s]"
      ]
     },
     "metadata": {},
     "output_type": "display_data"
    },
    {
     "name": "stdout",
     "output_type": "stream",
     "text": [
      "    Batch 100/3960: loss=2.2485, acc=0.4994\n",
      "    Batch 200/3960: loss=2.1610, acc=0.5208\n",
      "    Batch 300/3960: loss=2.1882, acc=0.5395\n",
      "    Batch 400/3960: loss=2.1897, acc=0.5411\n",
      "    Batch 500/3960: loss=2.1995, acc=0.5449\n",
      "    Batch 600/3960: loss=2.1986, acc=0.5487\n",
      "    Batch 700/3960: loss=2.2050, acc=0.5407\n",
      "    Batch 800/3960: loss=2.2022, acc=0.5382\n",
      "    Batch 900/3960: loss=2.1930, acc=0.5424\n",
      "    Batch 1000/3960: loss=2.1893, acc=0.5452\n",
      "    Batch 1100/3960: loss=2.1845, acc=0.5439\n",
      "    Batch 1200/3960: loss=2.1888, acc=0.5424\n",
      "    Batch 1300/3960: loss=2.1827, acc=0.5465\n",
      "    Batch 1400/3960: loss=2.1862, acc=0.5470\n",
      "    Batch 1500/3960: loss=2.1844, acc=0.5472\n",
      "    Batch 1600/3960: loss=2.1917, acc=0.5444\n",
      "    Batch 1700/3960: loss=2.2004, acc=0.5417\n",
      "    Batch 1800/3960: loss=2.2096, acc=0.5401\n",
      "    Batch 1900/3960: loss=2.2082, acc=0.5409\n",
      "    Batch 2000/3960: loss=2.2130, acc=0.5401\n",
      "    Batch 2100/3960: loss=2.2128, acc=0.5408\n",
      "    Batch 2200/3960: loss=2.2182, acc=0.5396\n",
      "    Batch 2300/3960: loss=2.2165, acc=0.5426\n",
      "    Batch 2400/3960: loss=2.2243, acc=0.5409\n",
      "    Batch 2500/3960: loss=2.2241, acc=0.5410\n",
      "    Batch 2600/3960: loss=2.2290, acc=0.5401\n",
      "    Batch 2700/3960: loss=2.2266, acc=0.5406\n",
      "    Batch 2800/3960: loss=2.2270, acc=0.5409\n",
      "    Batch 2900/3960: loss=2.2274, acc=0.5410\n",
      "    Batch 3000/3960: loss=2.2261, acc=0.5408\n",
      "    Batch 3100/3960: loss=2.2276, acc=0.5423\n",
      "    Batch 3200/3960: loss=2.2267, acc=0.5433\n",
      "    Batch 3300/3960: loss=2.2263, acc=0.5457\n",
      "    Batch 3400/3960: loss=2.2258, acc=0.5454\n",
      "    Batch 3500/3960: loss=2.2279, acc=0.5457\n",
      "    Batch 3600/3960: loss=2.2287, acc=0.5456\n",
      "    Batch 3700/3960: loss=2.2291, acc=0.5457\n",
      "    Batch 3800/3960: loss=2.2307, acc=0.5447\n",
      "    Batch 3900/3960: loss=2.2329, acc=0.5447\n",
      "Epoch 104 Train Loss: 2.2339 Acc: 0.5441 LR: 0.000094\n",
      ">>> Training epoch 104 completed <<<\n",
      "  Starting validation...\n"
     ]
    },
    {
     "data": {
      "application/vnd.jupyter.widget-view+json": {
       "model_id": "28863a7bd921497aa44d84ed47698cab",
       "version_major": 2,
       "version_minor": 0
      },
      "text/plain": [
       "Validation (raw):   0%|          | 0/157 [00:00<?, ?it/s]"
      ]
     },
     "metadata": {},
     "output_type": "display_data"
    },
    {
     "name": "stdout",
     "output_type": "stream",
     "text": [
      "Validation Acc (raw): 0.8556\n"
     ]
    },
    {
     "data": {
      "application/vnd.jupyter.widget-view+json": {
       "model_id": "701904b436d54538be1cef7e8d0e2010",
       "version_major": 2,
       "version_minor": 0
      },
      "text/plain": [
       "Validation (ema):   0%|          | 0/157 [00:00<?, ?it/s]"
      ]
     },
     "metadata": {},
     "output_type": "display_data"
    },
    {
     "name": "stdout",
     "output_type": "stream",
     "text": [
      "Validation Acc (ema): 0.1294\n",
      ">>> Validation completed <<<\n",
      "Epoch time: 23.45 mins\n",
      "\n",
      ">>> Starting Epoch 105/120 <<<\n",
      "  [DEBUG] Entered train_one_epoch function\n",
      "  [DEBUG] Set model to train mode\n",
      "  [DEBUG] Imported tqdm\n",
      "  Training epoch 105...\n",
      "  Loading first batch (this may take 10-30 seconds)...\n",
      "  [DEBUG] About to create iterator from train_loader...\n",
      "  [DEBUG] Calling iter(train_loader)...\n",
      "  [DEBUG] Iterator created successfully!\n",
      "  [DEBUG] Calling next(train_iter)...\n",
      "  ✓ First batch loaded! Shape: torch.Size([32, 3, 224, 224]), Labels: torch.Size([32])\n",
      "  Batch size actual: 32, Expected: 32\n"
     ]
    },
    {
     "data": {
      "application/vnd.jupyter.widget-view+json": {
       "model_id": "d29096bc36304649b1d42765f278547d",
       "version_major": 2,
       "version_minor": 0
      },
      "text/plain": [
       "Epoch 105/120:   0%|                                                       | 0/3960 [00:00<?, ?it/s]"
      ]
     },
     "metadata": {},
     "output_type": "display_data"
    },
    {
     "name": "stdout",
     "output_type": "stream",
     "text": [
      "    Batch 100/3960: loss=2.2047, acc=0.5235\n",
      "    Batch 200/3960: loss=2.2167, acc=0.5225\n",
      "    Batch 300/3960: loss=2.2016, acc=0.5419\n",
      "    Batch 400/3960: loss=2.2136, acc=0.5305\n",
      "    Batch 500/3960: loss=2.2050, acc=0.5334\n",
      "    Batch 600/3960: loss=2.2114, acc=0.5254\n",
      "    Batch 700/3960: loss=2.2232, acc=0.5232\n",
      "    Batch 800/3960: loss=2.2113, acc=0.5252\n",
      "    Batch 900/3960: loss=2.2106, acc=0.5236\n",
      "    Batch 1000/3960: loss=2.2189, acc=0.5223\n",
      "    Batch 1100/3960: loss=2.2224, acc=0.5184\n",
      "    Batch 1200/3960: loss=2.2237, acc=0.5175\n",
      "    Batch 1300/3960: loss=2.2227, acc=0.5183\n",
      "    Batch 1400/3960: loss=2.2132, acc=0.5217\n",
      "    Batch 1500/3960: loss=2.2149, acc=0.5262\n",
      "    Batch 1600/3960: loss=2.2125, acc=0.5274\n",
      "    Batch 1700/3960: loss=2.2054, acc=0.5305\n",
      "    Batch 1800/3960: loss=2.2071, acc=0.5291\n",
      "    Batch 1900/3960: loss=2.2038, acc=0.5300\n",
      "    Batch 2000/3960: loss=2.2017, acc=0.5306\n",
      "    Batch 2100/3960: loss=2.2025, acc=0.5320\n",
      "    Batch 2200/3960: loss=2.2074, acc=0.5320\n",
      "    Batch 2300/3960: loss=2.2136, acc=0.5320\n",
      "    Batch 2400/3960: loss=2.2156, acc=0.5319\n",
      "    Batch 2500/3960: loss=2.2166, acc=0.5333\n",
      "    Batch 2600/3960: loss=2.2183, acc=0.5316\n",
      "    Batch 2700/3960: loss=2.2152, acc=0.5331\n",
      "    Batch 2800/3960: loss=2.2134, acc=0.5336\n",
      "    Batch 2900/3960: loss=2.2119, acc=0.5336\n",
      "    Batch 3000/3960: loss=2.2110, acc=0.5351\n",
      "    Batch 3100/3960: loss=2.2139, acc=0.5336\n",
      "    Batch 3200/3960: loss=2.2150, acc=0.5329\n",
      "    Batch 3300/3960: loss=2.2153, acc=0.5330\n",
      "    Batch 3400/3960: loss=2.2170, acc=0.5335\n",
      "    Batch 3500/3960: loss=2.2196, acc=0.5329\n",
      "    Batch 3600/3960: loss=2.2210, acc=0.5346\n",
      "    Batch 3700/3960: loss=2.2212, acc=0.5350\n",
      "    Batch 3800/3960: loss=2.2243, acc=0.5336\n",
      "    Batch 3900/3960: loss=2.2229, acc=0.5338\n",
      "Epoch 105 Train Loss: 2.2252 Acc: 0.5340 LR: 0.000083\n",
      ">>> Training epoch 105 completed <<<\n",
      "  Starting validation...\n"
     ]
    },
    {
     "data": {
      "application/vnd.jupyter.widget-view+json": {
       "model_id": "27b51f789d6743db8a1d96398f4bb74c",
       "version_major": 2,
       "version_minor": 0
      },
      "text/plain": [
       "Validation (raw):   0%|          | 0/157 [00:00<?, ?it/s]"
      ]
     },
     "metadata": {},
     "output_type": "display_data"
    },
    {
     "name": "stdout",
     "output_type": "stream",
     "text": [
      "Validation Acc (raw): 0.8528\n"
     ]
    },
    {
     "data": {
      "application/vnd.jupyter.widget-view+json": {
       "model_id": "4cdae392505e4c379b662cb5b9979346",
       "version_major": 2,
       "version_minor": 0
      },
      "text/plain": [
       "Validation (ema):   0%|          | 0/157 [00:00<?, ?it/s]"
      ]
     },
     "metadata": {},
     "output_type": "display_data"
    },
    {
     "name": "stdout",
     "output_type": "stream",
     "text": [
      "Validation Acc (ema): 0.1368\n",
      ">>> Validation completed <<<\n",
      "Epoch time: 23.46 mins\n",
      "Saved checkpoint\n",
      "\n",
      ">>> Starting Epoch 106/120 <<<\n",
      "  [DEBUG] Entered train_one_epoch function\n",
      "  [DEBUG] Set model to train mode\n",
      "  [DEBUG] Imported tqdm\n",
      "  Training epoch 106...\n",
      "  Loading first batch (this may take 10-30 seconds)...\n",
      "  [DEBUG] About to create iterator from train_loader...\n",
      "  [DEBUG] Calling iter(train_loader)...\n",
      "  [DEBUG] Iterator created successfully!\n",
      "  [DEBUG] Calling next(train_iter)...\n",
      "  ✓ First batch loaded! Shape: torch.Size([32, 3, 224, 224]), Labels: torch.Size([32])\n",
      "  Batch size actual: 32, Expected: 32\n"
     ]
    },
    {
     "data": {
      "application/vnd.jupyter.widget-view+json": {
       "model_id": "ef68e9d6f0764f109a8b013e52cf6cb5",
       "version_major": 2,
       "version_minor": 0
      },
      "text/plain": [
       "Epoch 106/120:   0%|                                                       | 0/3960 [00:00<?, ?it/s]"
      ]
     },
     "metadata": {},
     "output_type": "display_data"
    },
    {
     "name": "stdout",
     "output_type": "stream",
     "text": [
      "    Batch 100/3960: loss=2.1320, acc=0.5114\n",
      "    Batch 200/3960: loss=2.1969, acc=0.5292\n",
      "    Batch 300/3960: loss=2.1898, acc=0.5298\n",
      "    Batch 400/3960: loss=2.1992, acc=0.5338\n",
      "    Batch 500/3960: loss=2.1841, acc=0.5373\n",
      "    Batch 600/3960: loss=2.1952, acc=0.5387\n",
      "    Batch 700/3960: loss=2.2144, acc=0.5399\n",
      "    Batch 800/3960: loss=2.2059, acc=0.5437\n",
      "    Batch 900/3960: loss=2.2167, acc=0.5428\n",
      "    Batch 1000/3960: loss=2.2141, acc=0.5426\n",
      "    Batch 1100/3960: loss=2.2074, acc=0.5449\n",
      "    Batch 1200/3960: loss=2.2032, acc=0.5484\n",
      "    Batch 1300/3960: loss=2.1992, acc=0.5495\n",
      "    Batch 1400/3960: loss=2.2044, acc=0.5497\n",
      "    Batch 1500/3960: loss=2.2024, acc=0.5489\n",
      "    Batch 1600/3960: loss=2.2078, acc=0.5454\n",
      "    Batch 1700/3960: loss=2.2141, acc=0.5436\n",
      "    Batch 1800/3960: loss=2.2097, acc=0.5463\n",
      "    Batch 1900/3960: loss=2.2140, acc=0.5443\n",
      "    Batch 2000/3960: loss=2.2182, acc=0.5428\n",
      "    Batch 2100/3960: loss=2.2212, acc=0.5425\n",
      "    Batch 2200/3960: loss=2.2207, acc=0.5428\n",
      "    Batch 2300/3960: loss=2.2228, acc=0.5416\n",
      "    Batch 2400/3960: loss=2.2224, acc=0.5419\n",
      "    Batch 2500/3960: loss=2.2241, acc=0.5429\n",
      "    Batch 2600/3960: loss=2.2253, acc=0.5437\n",
      "    Batch 2700/3960: loss=2.2286, acc=0.5434\n",
      "    Batch 2800/3960: loss=2.2276, acc=0.5441\n",
      "    Batch 2900/3960: loss=2.2296, acc=0.5441\n",
      "    Batch 3000/3960: loss=2.2285, acc=0.5455\n",
      "    Batch 3100/3960: loss=2.2268, acc=0.5452\n",
      "    Batch 3200/3960: loss=2.2250, acc=0.5454\n",
      "    Batch 3300/3960: loss=2.2251, acc=0.5463\n",
      "    Batch 3400/3960: loss=2.2262, acc=0.5454\n",
      "    Batch 3500/3960: loss=2.2262, acc=0.5454\n",
      "    Batch 3600/3960: loss=2.2279, acc=0.5459\n",
      "    Batch 3700/3960: loss=2.2278, acc=0.5452\n",
      "    Batch 3800/3960: loss=2.2307, acc=0.5445\n",
      "    Batch 3900/3960: loss=2.2317, acc=0.5436\n",
      "Epoch 106 Train Loss: 2.2330 Acc: 0.5436 LR: 0.000072\n",
      ">>> Training epoch 106 completed <<<\n",
      "  Starting validation...\n"
     ]
    },
    {
     "data": {
      "application/vnd.jupyter.widget-view+json": {
       "model_id": "2c4e72d6006b495bb873c6a9b5349c80",
       "version_major": 2,
       "version_minor": 0
      },
      "text/plain": [
       "Validation (raw):   0%|          | 0/157 [00:00<?, ?it/s]"
      ]
     },
     "metadata": {},
     "output_type": "display_data"
    },
    {
     "name": "stdout",
     "output_type": "stream",
     "text": [
      "Validation Acc (raw): 0.8554\n"
     ]
    },
    {
     "data": {
      "application/vnd.jupyter.widget-view+json": {
       "model_id": "85deb3b7bfff45a3a93aa276c1bdf8af",
       "version_major": 2,
       "version_minor": 0
      },
      "text/plain": [
       "Validation (ema):   0%|          | 0/157 [00:00<?, ?it/s]"
      ]
     },
     "metadata": {},
     "output_type": "display_data"
    },
    {
     "name": "stdout",
     "output_type": "stream",
     "text": [
      "Validation Acc (ema): 0.1438\n",
      ">>> Validation completed <<<\n",
      "Epoch time: 23.57 mins\n",
      "\n",
      ">>> Starting Epoch 107/120 <<<\n",
      "  [DEBUG] Entered train_one_epoch function\n",
      "  [DEBUG] Set model to train mode\n",
      "  [DEBUG] Imported tqdm\n",
      "  Training epoch 107...\n",
      "  Loading first batch (this may take 10-30 seconds)...\n",
      "  [DEBUG] About to create iterator from train_loader...\n",
      "  [DEBUG] Calling iter(train_loader)...\n",
      "  [DEBUG] Iterator created successfully!\n",
      "  [DEBUG] Calling next(train_iter)...\n",
      "  ✓ First batch loaded! Shape: torch.Size([32, 3, 224, 224]), Labels: torch.Size([32])\n",
      "  Batch size actual: 32, Expected: 32\n"
     ]
    },
    {
     "data": {
      "application/vnd.jupyter.widget-view+json": {
       "model_id": "aecbc9725d0b41489a89ee582aed2166",
       "version_major": 2,
       "version_minor": 0
      },
      "text/plain": [
       "Epoch 107/120:   0%|                                                       | 0/3960 [00:00<?, ?it/s]"
      ]
     },
     "metadata": {},
     "output_type": "display_data"
    },
    {
     "name": "stdout",
     "output_type": "stream",
     "text": [
      "    Batch 100/3960: loss=2.2750, acc=0.5145\n",
      "    Batch 200/3960: loss=2.2701, acc=0.5211\n",
      "    Batch 300/3960: loss=2.2807, acc=0.5277\n",
      "    Batch 400/3960: loss=2.2813, acc=0.5337\n",
      "    Batch 500/3960: loss=2.2644, acc=0.5293\n",
      "    Batch 600/3960: loss=2.2501, acc=0.5313\n",
      "    Batch 700/3960: loss=2.2461, acc=0.5341\n",
      "    Batch 800/3960: loss=2.2359, acc=0.5374\n",
      "    Batch 900/3960: loss=2.2303, acc=0.5308\n",
      "    Batch 1000/3960: loss=2.2302, acc=0.5376\n",
      "    Batch 1100/3960: loss=2.2268, acc=0.5407\n",
      "    Batch 1200/3960: loss=2.2181, acc=0.5424\n",
      "    Batch 1300/3960: loss=2.2229, acc=0.5405\n",
      "    Batch 1400/3960: loss=2.2162, acc=0.5415\n",
      "    Batch 1500/3960: loss=2.2153, acc=0.5421\n",
      "    Batch 1600/3960: loss=2.2201, acc=0.5416\n",
      "    Batch 1700/3960: loss=2.2204, acc=0.5426\n",
      "    Batch 1800/3960: loss=2.2205, acc=0.5439\n",
      "    Batch 1900/3960: loss=2.2264, acc=0.5425\n",
      "    Batch 2000/3960: loss=2.2275, acc=0.5435\n",
      "    Batch 2100/3960: loss=2.2312, acc=0.5436\n",
      "    Batch 2200/3960: loss=2.2324, acc=0.5430\n",
      "    Batch 2300/3960: loss=2.2266, acc=0.5443\n",
      "    Batch 2400/3960: loss=2.2274, acc=0.5438\n",
      "    Batch 2500/3960: loss=2.2244, acc=0.5454\n",
      "    Batch 2600/3960: loss=2.2265, acc=0.5447\n",
      "    Batch 2700/3960: loss=2.2248, acc=0.5445\n",
      "    Batch 2800/3960: loss=2.2256, acc=0.5443\n",
      "    Batch 2900/3960: loss=2.2253, acc=0.5433\n",
      "    Batch 3000/3960: loss=2.2253, acc=0.5445\n",
      "    Batch 3100/3960: loss=2.2276, acc=0.5448\n",
      "    Batch 3200/3960: loss=2.2281, acc=0.5442\n",
      "    Batch 3300/3960: loss=2.2279, acc=0.5451\n",
      "    Batch 3400/3960: loss=2.2241, acc=0.5462\n",
      "    Batch 3500/3960: loss=2.2273, acc=0.5458\n",
      "    Batch 3600/3960: loss=2.2284, acc=0.5445\n",
      "    Batch 3700/3960: loss=2.2291, acc=0.5444\n",
      "    Batch 3800/3960: loss=2.2313, acc=0.5454\n",
      "    Batch 3900/3960: loss=2.2319, acc=0.5445\n",
      "Epoch 107 Train Loss: 2.2300 Acc: 0.5447 LR: 0.000062\n",
      ">>> Training epoch 107 completed <<<\n",
      "  Starting validation...\n"
     ]
    },
    {
     "data": {
      "application/vnd.jupyter.widget-view+json": {
       "model_id": "657290cbce84475bb257ac13d7a75d64",
       "version_major": 2,
       "version_minor": 0
      },
      "text/plain": [
       "Validation (raw):   0%|          | 0/157 [00:00<?, ?it/s]"
      ]
     },
     "metadata": {},
     "output_type": "display_data"
    },
    {
     "name": "stdout",
     "output_type": "stream",
     "text": [
      "Validation Acc (raw): 0.8602\n"
     ]
    },
    {
     "data": {
      "application/vnd.jupyter.widget-view+json": {
       "model_id": "3dc9059699b742d49dc9fa5fba6cf612",
       "version_major": 2,
       "version_minor": 0
      },
      "text/plain": [
       "Validation (ema):   0%|          | 0/157 [00:00<?, ?it/s]"
      ]
     },
     "metadata": {},
     "output_type": "display_data"
    },
    {
     "name": "stdout",
     "output_type": "stream",
     "text": [
      "Validation Acc (ema): 0.1514\n",
      ">>> Validation completed <<<\n",
      "Epoch time: 23.75 mins\n",
      "\n",
      ">>> Starting Epoch 108/120 <<<\n",
      "  [DEBUG] Entered train_one_epoch function\n",
      "  [DEBUG] Set model to train mode\n",
      "  [DEBUG] Imported tqdm\n",
      "  Training epoch 108...\n",
      "  Loading first batch (this may take 10-30 seconds)...\n",
      "  [DEBUG] About to create iterator from train_loader...\n",
      "  [DEBUG] Calling iter(train_loader)...\n",
      "  [DEBUG] Iterator created successfully!\n",
      "  [DEBUG] Calling next(train_iter)...\n",
      "  ✓ First batch loaded! Shape: torch.Size([32, 3, 224, 224]), Labels: torch.Size([32])\n",
      "  Batch size actual: 32, Expected: 32\n"
     ]
    },
    {
     "data": {
      "application/vnd.jupyter.widget-view+json": {
       "model_id": "982c207d03c24060962ad4b541a6497b",
       "version_major": 2,
       "version_minor": 0
      },
      "text/plain": [
       "Epoch 108/120:   0%|                                                       | 0/3960 [00:00<?, ?it/s]"
      ]
     },
     "metadata": {},
     "output_type": "display_data"
    },
    {
     "name": "stdout",
     "output_type": "stream",
     "text": [
      "    Batch 100/3960: loss=2.3394, acc=0.5059\n",
      "    Batch 200/3960: loss=2.3078, acc=0.5300\n",
      "    Batch 300/3960: loss=2.3244, acc=0.5307\n",
      "    Batch 400/3960: loss=2.3043, acc=0.5254\n",
      "    Batch 500/3960: loss=2.2684, acc=0.5334\n",
      "    Batch 600/3960: loss=2.2556, acc=0.5357\n",
      "    Batch 700/3960: loss=2.2430, acc=0.5308\n",
      "    Batch 800/3960: loss=2.2325, acc=0.5344\n",
      "    Batch 900/3960: loss=2.2380, acc=0.5325\n",
      "    Batch 1000/3960: loss=2.2409, acc=0.5300\n",
      "    Batch 1100/3960: loss=2.2399, acc=0.5329\n",
      "    Batch 1200/3960: loss=2.2337, acc=0.5357\n",
      "    Batch 1300/3960: loss=2.2311, acc=0.5392\n",
      "    Batch 1400/3960: loss=2.2260, acc=0.5446\n",
      "    Batch 1500/3960: loss=2.2262, acc=0.5443\n",
      "    Batch 1600/3960: loss=2.2278, acc=0.5418\n",
      "    Batch 1700/3960: loss=2.2305, acc=0.5414\n",
      "    Batch 1800/3960: loss=2.2278, acc=0.5387\n",
      "    Batch 1900/3960: loss=2.2233, acc=0.5395\n",
      "    Batch 2000/3960: loss=2.2229, acc=0.5388\n",
      "    Batch 2100/3960: loss=2.2207, acc=0.5399\n",
      "    Batch 2200/3960: loss=2.2194, acc=0.5397\n",
      "    Batch 2300/3960: loss=2.2191, acc=0.5396\n",
      "    Batch 2400/3960: loss=2.2171, acc=0.5402\n",
      "    Batch 2500/3960: loss=2.2170, acc=0.5395\n",
      "    Batch 2600/3960: loss=2.2187, acc=0.5388\n",
      "    Batch 2700/3960: loss=2.2204, acc=0.5377\n",
      "    Batch 2800/3960: loss=2.2205, acc=0.5390\n",
      "    Batch 2900/3960: loss=2.2232, acc=0.5379\n",
      "    Batch 3000/3960: loss=2.2206, acc=0.5390\n",
      "    Batch 3100/3960: loss=2.2207, acc=0.5393\n",
      "    Batch 3200/3960: loss=2.2218, acc=0.5394\n",
      "    Batch 3300/3960: loss=2.2211, acc=0.5379\n",
      "    Batch 3400/3960: loss=2.2227, acc=0.5376\n",
      "    Batch 3500/3960: loss=2.2223, acc=0.5371\n",
      "    Batch 3600/3960: loss=2.2191, acc=0.5375\n",
      "    Batch 3700/3960: loss=2.2198, acc=0.5382\n",
      "    Batch 3800/3960: loss=2.2216, acc=0.5387\n",
      "    Batch 3900/3960: loss=2.2218, acc=0.5387\n",
      "Epoch 108 Train Loss: 2.2207 Acc: 0.5385 LR: 0.000053\n",
      ">>> Training epoch 108 completed <<<\n",
      "  Starting validation...\n"
     ]
    },
    {
     "data": {
      "application/vnd.jupyter.widget-view+json": {
       "model_id": "1ce20b19cf66439a8c9faf3188bcb602",
       "version_major": 2,
       "version_minor": 0
      },
      "text/plain": [
       "Validation (raw):   0%|          | 0/157 [00:00<?, ?it/s]"
      ]
     },
     "metadata": {},
     "output_type": "display_data"
    },
    {
     "name": "stdout",
     "output_type": "stream",
     "text": [
      "Validation Acc (raw): 0.8558\n"
     ]
    },
    {
     "data": {
      "application/vnd.jupyter.widget-view+json": {
       "model_id": "ce85ef4d70fe4874a06f162a3a17a884",
       "version_major": 2,
       "version_minor": 0
      },
      "text/plain": [
       "Validation (ema):   0%|          | 0/157 [00:00<?, ?it/s]"
      ]
     },
     "metadata": {},
     "output_type": "display_data"
    },
    {
     "name": "stdout",
     "output_type": "stream",
     "text": [
      "Validation Acc (ema): 0.1628\n",
      ">>> Validation completed <<<\n",
      "Epoch time: 23.60 mins\n",
      "\n",
      ">>> Starting Epoch 109/120 <<<\n",
      "  [DEBUG] Entered train_one_epoch function\n",
      "  [DEBUG] Set model to train mode\n",
      "  [DEBUG] Imported tqdm\n",
      "  Training epoch 109...\n",
      "  Loading first batch (this may take 10-30 seconds)...\n",
      "  [DEBUG] About to create iterator from train_loader...\n",
      "  [DEBUG] Calling iter(train_loader)...\n",
      "  [DEBUG] Iterator created successfully!\n",
      "  [DEBUG] Calling next(train_iter)...\n",
      "  ✓ First batch loaded! Shape: torch.Size([32, 3, 224, 224]), Labels: torch.Size([32])\n",
      "  Batch size actual: 32, Expected: 32\n"
     ]
    },
    {
     "data": {
      "application/vnd.jupyter.widget-view+json": {
       "model_id": "885512bda4c44dd0a8e06c579e6c3397",
       "version_major": 2,
       "version_minor": 0
      },
      "text/plain": [
       "Epoch 109/120:   0%|                                                       | 0/3960 [00:00<?, ?it/s]"
      ]
     },
     "metadata": {},
     "output_type": "display_data"
    },
    {
     "name": "stdout",
     "output_type": "stream",
     "text": [
      "    Batch 100/3960: loss=2.2812, acc=0.5257\n",
      "    Batch 200/3960: loss=2.2365, acc=0.5462\n",
      "    Batch 300/3960: loss=2.2696, acc=0.5466\n",
      "    Batch 400/3960: loss=2.2390, acc=0.5439\n",
      "    Batch 500/3960: loss=2.2299, acc=0.5360\n",
      "    Batch 600/3960: loss=2.2240, acc=0.5449\n",
      "    Batch 700/3960: loss=2.2068, acc=0.5455\n",
      "    Batch 800/3960: loss=2.2061, acc=0.5411\n",
      "    Batch 900/3960: loss=2.2199, acc=0.5364\n",
      "    Batch 1000/3960: loss=2.2132, acc=0.5404\n",
      "    Batch 1100/3960: loss=2.2119, acc=0.5433\n",
      "    Batch 1200/3960: loss=2.2154, acc=0.5436\n",
      "    Batch 1300/3960: loss=2.2043, acc=0.5467\n",
      "    Batch 1400/3960: loss=2.2141, acc=0.5411\n",
      "    Batch 1500/3960: loss=2.2142, acc=0.5386\n",
      "    Batch 1600/3960: loss=2.2148, acc=0.5342\n",
      "    Batch 1700/3960: loss=2.2168, acc=0.5351\n",
      "    Batch 1800/3960: loss=2.2136, acc=0.5364\n",
      "    Batch 1900/3960: loss=2.2108, acc=0.5345\n",
      "    Batch 2000/3960: loss=2.2084, acc=0.5343\n",
      "    Batch 2100/3960: loss=2.2034, acc=0.5370\n",
      "    Batch 2200/3960: loss=2.2039, acc=0.5379\n",
      "    Batch 2300/3960: loss=2.2017, acc=0.5390\n",
      "    Batch 2400/3960: loss=2.2012, acc=0.5392\n",
      "    Batch 2500/3960: loss=2.1982, acc=0.5384\n",
      "    Batch 2600/3960: loss=2.1978, acc=0.5403\n",
      "    Batch 2700/3960: loss=2.1966, acc=0.5409\n",
      "    Batch 2800/3960: loss=2.1961, acc=0.5416\n",
      "    Batch 2900/3960: loss=2.1947, acc=0.5420\n",
      "    Batch 3000/3960: loss=2.1967, acc=0.5402\n",
      "    Batch 3100/3960: loss=2.1981, acc=0.5398\n",
      "    Batch 3200/3960: loss=2.1982, acc=0.5405\n",
      "    Batch 3300/3960: loss=2.1990, acc=0.5391\n",
      "    Batch 3400/3960: loss=2.2024, acc=0.5386\n",
      "    Batch 3500/3960: loss=2.2028, acc=0.5395\n",
      "    Batch 3600/3960: loss=2.2037, acc=0.5396\n",
      "    Batch 3700/3960: loss=2.2024, acc=0.5400\n",
      "    Batch 3800/3960: loss=2.2031, acc=0.5396\n",
      "    Batch 3900/3960: loss=2.2059, acc=0.5395\n",
      "Epoch 109 Train Loss: 2.2070 Acc: 0.5398 LR: 0.000045\n",
      ">>> Training epoch 109 completed <<<\n",
      "  Starting validation...\n"
     ]
    },
    {
     "data": {
      "application/vnd.jupyter.widget-view+json": {
       "model_id": "01f246d50f0b41f98554172e1caf8569",
       "version_major": 2,
       "version_minor": 0
      },
      "text/plain": [
       "Validation (raw):   0%|          | 0/157 [00:00<?, ?it/s]"
      ]
     },
     "metadata": {},
     "output_type": "display_data"
    },
    {
     "name": "stdout",
     "output_type": "stream",
     "text": [
      "Validation Acc (raw): 0.8564\n"
     ]
    },
    {
     "data": {
      "application/vnd.jupyter.widget-view+json": {
       "model_id": "ffcde5e56eb948399e797461e316acea",
       "version_major": 2,
       "version_minor": 0
      },
      "text/plain": [
       "Validation (ema):   0%|          | 0/157 [00:00<?, ?it/s]"
      ]
     },
     "metadata": {},
     "output_type": "display_data"
    },
    {
     "name": "stdout",
     "output_type": "stream",
     "text": [
      "Validation Acc (ema): 0.1724\n",
      ">>> Validation completed <<<\n",
      "Epoch time: 23.56 mins\n",
      "\n",
      ">>> Starting Epoch 110/120 <<<\n",
      "  [DEBUG] Entered train_one_epoch function\n",
      "  [DEBUG] Set model to train mode\n",
      "  [DEBUG] Imported tqdm\n",
      "  Training epoch 110...\n",
      "  Loading first batch (this may take 10-30 seconds)...\n",
      "  [DEBUG] About to create iterator from train_loader...\n",
      "  [DEBUG] Calling iter(train_loader)...\n",
      "  [DEBUG] Iterator created successfully!\n",
      "  [DEBUG] Calling next(train_iter)...\n",
      "  ✓ First batch loaded! Shape: torch.Size([32, 3, 224, 224]), Labels: torch.Size([32])\n",
      "  Batch size actual: 32, Expected: 32\n"
     ]
    },
    {
     "data": {
      "application/vnd.jupyter.widget-view+json": {
       "model_id": "f25807805112405b882193705ec3ccc3",
       "version_major": 2,
       "version_minor": 0
      },
      "text/plain": [
       "Epoch 110/120:   0%|                                                       | 0/3960 [00:00<?, ?it/s]"
      ]
     },
     "metadata": {},
     "output_type": "display_data"
    },
    {
     "name": "stdout",
     "output_type": "stream",
     "text": [
      "    Batch 100/3960: loss=2.3462, acc=0.5721\n",
      "    Batch 200/3960: loss=2.2672, acc=0.5555\n",
      "    Batch 300/3960: loss=2.2740, acc=0.5443\n",
      "    Batch 400/3960: loss=2.2287, acc=0.5510\n",
      "    Batch 500/3960: loss=2.2095, acc=0.5514\n",
      "    Batch 600/3960: loss=2.2300, acc=0.5450\n",
      "    Batch 700/3960: loss=2.2492, acc=0.5378\n",
      "    Batch 800/3960: loss=2.2448, acc=0.5387\n",
      "    Batch 900/3960: loss=2.2331, acc=0.5426\n",
      "    Batch 1000/3960: loss=2.2372, acc=0.5406\n",
      "    Batch 1100/3960: loss=2.2322, acc=0.5435\n",
      "    Batch 1200/3960: loss=2.2404, acc=0.5398\n",
      "    Batch 1300/3960: loss=2.2349, acc=0.5423\n",
      "    Batch 1400/3960: loss=2.2267, acc=0.5393\n",
      "    Batch 1500/3960: loss=2.2262, acc=0.5381\n",
      "    Batch 1600/3960: loss=2.2262, acc=0.5361\n",
      "    Batch 1700/3960: loss=2.2281, acc=0.5367\n",
      "    Batch 1800/3960: loss=2.2268, acc=0.5382\n",
      "    Batch 1900/3960: loss=2.2252, acc=0.5383\n",
      "    Batch 2000/3960: loss=2.2293, acc=0.5364\n",
      "    Batch 2100/3960: loss=2.2324, acc=0.5348\n",
      "    Batch 2200/3960: loss=2.2319, acc=0.5337\n",
      "    Batch 2300/3960: loss=2.2291, acc=0.5333\n",
      "    Batch 2400/3960: loss=2.2274, acc=0.5317\n",
      "    Batch 2500/3960: loss=2.2258, acc=0.5318\n",
      "    Batch 2600/3960: loss=2.2263, acc=0.5320\n",
      "    Batch 2700/3960: loss=2.2243, acc=0.5322\n",
      "    Batch 2800/3960: loss=2.2257, acc=0.5304\n",
      "    Batch 2900/3960: loss=2.2274, acc=0.5296\n",
      "    Batch 3000/3960: loss=2.2291, acc=0.5302\n",
      "    Batch 3100/3960: loss=2.2325, acc=0.5298\n",
      "    Batch 3200/3960: loss=2.2328, acc=0.5293\n",
      "    Batch 3300/3960: loss=2.2291, acc=0.5296\n",
      "    Batch 3400/3960: loss=2.2318, acc=0.5282\n",
      "    Batch 3500/3960: loss=2.2306, acc=0.5297\n",
      "    Batch 3600/3960: loss=2.2309, acc=0.5301\n",
      "    Batch 3700/3960: loss=2.2323, acc=0.5311\n",
      "    Batch 3800/3960: loss=2.2298, acc=0.5323\n",
      "    Batch 3900/3960: loss=2.2319, acc=0.5326\n",
      "Epoch 110 Train Loss: 2.2311 Acc: 0.5329 LR: 0.000037\n",
      ">>> Training epoch 110 completed <<<\n",
      "  Starting validation...\n"
     ]
    },
    {
     "data": {
      "application/vnd.jupyter.widget-view+json": {
       "model_id": "4ebbfd9ed8d94a269d5fab8a7967fae1",
       "version_major": 2,
       "version_minor": 0
      },
      "text/plain": [
       "Validation (raw):   0%|          | 0/157 [00:00<?, ?it/s]"
      ]
     },
     "metadata": {},
     "output_type": "display_data"
    },
    {
     "name": "stdout",
     "output_type": "stream",
     "text": [
      "Validation Acc (raw): 0.8610\n"
     ]
    },
    {
     "data": {
      "application/vnd.jupyter.widget-view+json": {
       "model_id": "e3e3354275514f8caa5139b69036a46c",
       "version_major": 2,
       "version_minor": 0
      },
      "text/plain": [
       "Validation (ema):   0%|          | 0/157 [00:00<?, ?it/s]"
      ]
     },
     "metadata": {},
     "output_type": "display_data"
    },
    {
     "name": "stdout",
     "output_type": "stream",
     "text": [
      "Validation Acc (ema): 0.1872\n",
      ">>> Validation completed <<<\n",
      "Epoch time: 23.56 mins\n",
      "Saved checkpoint\n",
      "\n",
      ">>> Starting Epoch 111/120 <<<\n",
      "  [DEBUG] Entered train_one_epoch function\n",
      "  [DEBUG] Set model to train mode\n",
      "  [DEBUG] Imported tqdm\n",
      "  Training epoch 111...\n",
      "  Loading first batch (this may take 10-30 seconds)...\n",
      "  [DEBUG] About to create iterator from train_loader...\n",
      "  [DEBUG] Calling iter(train_loader)...\n",
      "  [DEBUG] Iterator created successfully!\n",
      "  [DEBUG] Calling next(train_iter)...\n",
      "  ✓ First batch loaded! Shape: torch.Size([32, 3, 224, 224]), Labels: torch.Size([32])\n",
      "  Batch size actual: 32, Expected: 32\n"
     ]
    },
    {
     "data": {
      "application/vnd.jupyter.widget-view+json": {
       "model_id": "9f0e5891630d46e1be587a3ec7083136",
       "version_major": 2,
       "version_minor": 0
      },
      "text/plain": [
       "Epoch 111/120:   0%|                                                       | 0/3960 [00:00<?, ?it/s]"
      ]
     },
     "metadata": {},
     "output_type": "display_data"
    },
    {
     "name": "stdout",
     "output_type": "stream",
     "text": [
      "    Batch 100/3960: loss=2.1714, acc=0.5381\n",
      "    Batch 200/3960: loss=2.1900, acc=0.5028\n",
      "    Batch 300/3960: loss=2.2196, acc=0.5131\n",
      "    Batch 400/3960: loss=2.2087, acc=0.5187\n",
      "    Batch 500/3960: loss=2.2074, acc=0.5322\n",
      "    Batch 600/3960: loss=2.1873, acc=0.5354\n",
      "    Batch 700/3960: loss=2.1969, acc=0.5367\n",
      "    Batch 800/3960: loss=2.2030, acc=0.5355\n",
      "    Batch 900/3960: loss=2.1995, acc=0.5370\n",
      "    Batch 1000/3960: loss=2.2115, acc=0.5416\n",
      "    Batch 1100/3960: loss=2.2056, acc=0.5455\n",
      "    Batch 1200/3960: loss=2.2099, acc=0.5446\n",
      "    Batch 1300/3960: loss=2.2068, acc=0.5455\n",
      "    Batch 1400/3960: loss=2.2123, acc=0.5472\n",
      "    Batch 1500/3960: loss=2.2089, acc=0.5483\n",
      "    Batch 1600/3960: loss=2.2052, acc=0.5482\n",
      "    Batch 1700/3960: loss=2.2046, acc=0.5472\n",
      "    Batch 1800/3960: loss=2.2015, acc=0.5484\n",
      "    Batch 1900/3960: loss=2.2016, acc=0.5507\n",
      "    Batch 2000/3960: loss=2.2005, acc=0.5520\n",
      "    Batch 2100/3960: loss=2.1958, acc=0.5527\n",
      "    Batch 2200/3960: loss=2.1942, acc=0.5507\n",
      "    Batch 2300/3960: loss=2.1957, acc=0.5498\n",
      "    Batch 2400/3960: loss=2.1949, acc=0.5502\n",
      "    Batch 2500/3960: loss=2.1970, acc=0.5503\n",
      "    Batch 2600/3960: loss=2.1981, acc=0.5490\n",
      "    Batch 2700/3960: loss=2.2032, acc=0.5478\n",
      "    Batch 2800/3960: loss=2.2029, acc=0.5476\n",
      "    Batch 2900/3960: loss=2.2072, acc=0.5466\n",
      "    Batch 3000/3960: loss=2.2093, acc=0.5452\n",
      "    Batch 3100/3960: loss=2.2096, acc=0.5456\n",
      "    Batch 3200/3960: loss=2.2091, acc=0.5456\n",
      "    Batch 3300/3960: loss=2.2096, acc=0.5455\n",
      "    Batch 3400/3960: loss=2.2103, acc=0.5473\n",
      "    Batch 3500/3960: loss=2.2111, acc=0.5482\n",
      "    Batch 3600/3960: loss=2.2140, acc=0.5468\n",
      "    Batch 3700/3960: loss=2.2138, acc=0.5468\n",
      "    Batch 3800/3960: loss=2.2154, acc=0.5463\n",
      "    Batch 3900/3960: loss=2.2157, acc=0.5457\n",
      "Epoch 111 Train Loss: 2.2168 Acc: 0.5452 LR: 0.000030\n",
      ">>> Training epoch 111 completed <<<\n",
      "  Starting validation...\n"
     ]
    },
    {
     "data": {
      "application/vnd.jupyter.widget-view+json": {
       "model_id": "7bbe4131341f44cbb880d8add9c864b3",
       "version_major": 2,
       "version_minor": 0
      },
      "text/plain": [
       "Validation (raw):   0%|          | 0/157 [00:00<?, ?it/s]"
      ]
     },
     "metadata": {},
     "output_type": "display_data"
    },
    {
     "name": "stdout",
     "output_type": "stream",
     "text": [
      "Validation Acc (raw): 0.8566\n"
     ]
    },
    {
     "data": {
      "application/vnd.jupyter.widget-view+json": {
       "model_id": "b7d124a957954faaa4d463cb2423096e",
       "version_major": 2,
       "version_minor": 0
      },
      "text/plain": [
       "Validation (ema):   0%|          | 0/157 [00:00<?, ?it/s]"
      ]
     },
     "metadata": {},
     "output_type": "display_data"
    },
    {
     "name": "stdout",
     "output_type": "stream",
     "text": [
      "Validation Acc (ema): 0.2008\n",
      ">>> Validation completed <<<\n",
      "Epoch time: 22.72 mins\n",
      "\n",
      ">>> Starting Epoch 112/120 <<<\n",
      "  [DEBUG] Entered train_one_epoch function\n",
      "  [DEBUG] Set model to train mode\n",
      "  [DEBUG] Imported tqdm\n",
      "  Training epoch 112...\n",
      "  Loading first batch (this may take 10-30 seconds)...\n",
      "  [DEBUG] About to create iterator from train_loader...\n",
      "  [DEBUG] Calling iter(train_loader)...\n",
      "  [DEBUG] Iterator created successfully!\n",
      "  [DEBUG] Calling next(train_iter)...\n",
      "  ✓ First batch loaded! Shape: torch.Size([32, 3, 224, 224]), Labels: torch.Size([32])\n",
      "  Batch size actual: 32, Expected: 32\n"
     ]
    },
    {
     "data": {
      "application/vnd.jupyter.widget-view+json": {
       "model_id": "ca46a6e2ac984e29894d1bf67b44097d",
       "version_major": 2,
       "version_minor": 0
      },
      "text/plain": [
       "Epoch 112/120:   0%|                                                       | 0/3960 [00:00<?, ?it/s]"
      ]
     },
     "metadata": {},
     "output_type": "display_data"
    },
    {
     "name": "stdout",
     "output_type": "stream",
     "text": [
      "    Batch 100/3960: loss=2.2204, acc=0.4991\n",
      "    Batch 200/3960: loss=2.1970, acc=0.5283\n",
      "    Batch 300/3960: loss=2.2024, acc=0.5209\n",
      "    Batch 400/3960: loss=2.1848, acc=0.5254\n",
      "    Batch 500/3960: loss=2.1833, acc=0.5240\n",
      "    Batch 600/3960: loss=2.2095, acc=0.5258\n",
      "    Batch 700/3960: loss=2.1993, acc=0.5325\n",
      "    Batch 800/3960: loss=2.2032, acc=0.5332\n",
      "    Batch 900/3960: loss=2.2051, acc=0.5357\n",
      "    Batch 1000/3960: loss=2.2114, acc=0.5370\n",
      "    Batch 1100/3960: loss=2.2138, acc=0.5414\n",
      "    Batch 1200/3960: loss=2.2147, acc=0.5395\n",
      "    Batch 1300/3960: loss=2.2148, acc=0.5413\n",
      "    Batch 1400/3960: loss=2.2156, acc=0.5409\n",
      "    Batch 1500/3960: loss=2.2154, acc=0.5383\n",
      "    Batch 1600/3960: loss=2.2130, acc=0.5385\n",
      "    Batch 1700/3960: loss=2.2133, acc=0.5379\n",
      "    Batch 1800/3960: loss=2.2222, acc=0.5369\n",
      "    Batch 1900/3960: loss=2.2232, acc=0.5373\n",
      "    Batch 2000/3960: loss=2.2234, acc=0.5360\n",
      "    Batch 2100/3960: loss=2.2224, acc=0.5372\n",
      "    Batch 2200/3960: loss=2.2186, acc=0.5389\n",
      "    Batch 2300/3960: loss=2.2162, acc=0.5413\n",
      "    Batch 2400/3960: loss=2.2149, acc=0.5415\n",
      "    Batch 2500/3960: loss=2.2119, acc=0.5430\n",
      "    Batch 2600/3960: loss=2.2082, acc=0.5445\n",
      "    Batch 2700/3960: loss=2.2099, acc=0.5418\n",
      "    Batch 2800/3960: loss=2.2112, acc=0.5414\n",
      "    Batch 2900/3960: loss=2.2094, acc=0.5408\n",
      "    Batch 3000/3960: loss=2.2080, acc=0.5408\n",
      "    Batch 3100/3960: loss=2.2065, acc=0.5411\n",
      "    Batch 3200/3960: loss=2.2063, acc=0.5421\n",
      "    Batch 3300/3960: loss=2.2054, acc=0.5426\n",
      "    Batch 3400/3960: loss=2.2087, acc=0.5412\n",
      "    Batch 3500/3960: loss=2.2086, acc=0.5409\n",
      "    Batch 3600/3960: loss=2.2097, acc=0.5399\n",
      "    Batch 3700/3960: loss=2.2100, acc=0.5412\n",
      "    Batch 3800/3960: loss=2.2104, acc=0.5408\n",
      "    Batch 3900/3960: loss=2.2101, acc=0.5412\n",
      "Epoch 112 Train Loss: 2.2099 Acc: 0.5411 LR: 0.000024\n",
      ">>> Training epoch 112 completed <<<\n",
      "  Starting validation...\n"
     ]
    },
    {
     "data": {
      "application/vnd.jupyter.widget-view+json": {
       "model_id": "7327207b814a468bbb8e1c069354d6cb",
       "version_major": 2,
       "version_minor": 0
      },
      "text/plain": [
       "Validation (raw):   0%|          | 0/157 [00:00<?, ?it/s]"
      ]
     },
     "metadata": {},
     "output_type": "display_data"
    },
    {
     "name": "stdout",
     "output_type": "stream",
     "text": [
      "Validation Acc (raw): 0.8582\n"
     ]
    },
    {
     "data": {
      "application/vnd.jupyter.widget-view+json": {
       "model_id": "38d03f8b4ba8492d821598ac846cdd35",
       "version_major": 2,
       "version_minor": 0
      },
      "text/plain": [
       "Validation (ema):   0%|          | 0/157 [00:00<?, ?it/s]"
      ]
     },
     "metadata": {},
     "output_type": "display_data"
    },
    {
     "name": "stdout",
     "output_type": "stream",
     "text": [
      "Validation Acc (ema): 0.2180\n",
      ">>> Validation completed <<<\n",
      "Epoch time: 22.26 mins\n",
      "\n",
      ">>> Starting Epoch 113/120 <<<\n",
      "  [DEBUG] Entered train_one_epoch function\n",
      "  [DEBUG] Set model to train mode\n",
      "  [DEBUG] Imported tqdm\n",
      "  Training epoch 113...\n",
      "  Loading first batch (this may take 10-30 seconds)...\n",
      "  [DEBUG] About to create iterator from train_loader...\n",
      "  [DEBUG] Calling iter(train_loader)...\n",
      "  [DEBUG] Iterator created successfully!\n",
      "  [DEBUG] Calling next(train_iter)...\n",
      "  ✓ First batch loaded! Shape: torch.Size([32, 3, 224, 224]), Labels: torch.Size([32])\n",
      "  Batch size actual: 32, Expected: 32\n"
     ]
    },
    {
     "data": {
      "application/vnd.jupyter.widget-view+json": {
       "model_id": "1cd8ca2a1ae444619525cd4a72661fb5",
       "version_major": 2,
       "version_minor": 0
      },
      "text/plain": [
       "Epoch 113/120:   0%|                                                       | 0/3960 [00:00<?, ?it/s]"
      ]
     },
     "metadata": {},
     "output_type": "display_data"
    },
    {
     "name": "stdout",
     "output_type": "stream",
     "text": [
      "    Batch 100/3960: loss=2.2443, acc=0.5105\n",
      "    Batch 200/3960: loss=2.2734, acc=0.5146\n",
      "    Batch 300/3960: loss=2.2610, acc=0.5309\n",
      "    Batch 400/3960: loss=2.2372, acc=0.5320\n",
      "    Batch 500/3960: loss=2.2325, acc=0.5379\n",
      "    Batch 600/3960: loss=2.2137, acc=0.5430\n",
      "    Batch 700/3960: loss=2.2112, acc=0.5443\n",
      "    Batch 800/3960: loss=2.1925, acc=0.5504\n",
      "    Batch 900/3960: loss=2.1998, acc=0.5417\n",
      "    Batch 1000/3960: loss=2.2084, acc=0.5412\n",
      "    Batch 1100/3960: loss=2.2082, acc=0.5415\n",
      "    Batch 1200/3960: loss=2.2067, acc=0.5435\n",
      "    Batch 1300/3960: loss=2.1986, acc=0.5474\n",
      "    Batch 1400/3960: loss=2.2023, acc=0.5479\n",
      "    Batch 1500/3960: loss=2.2018, acc=0.5481\n",
      "    Batch 1600/3960: loss=2.2033, acc=0.5462\n",
      "    Batch 1700/3960: loss=2.2007, acc=0.5479\n",
      "    Batch 1800/3960: loss=2.1983, acc=0.5474\n",
      "    Batch 1900/3960: loss=2.2012, acc=0.5450\n",
      "    Batch 2000/3960: loss=2.2017, acc=0.5408\n",
      "    Batch 2100/3960: loss=2.1973, acc=0.5425\n",
      "    Batch 2200/3960: loss=2.1981, acc=0.5401\n",
      "    Batch 2300/3960: loss=2.1994, acc=0.5400\n",
      "    Batch 2400/3960: loss=2.1956, acc=0.5405\n",
      "    Batch 2500/3960: loss=2.1949, acc=0.5404\n",
      "    Batch 2600/3960: loss=2.1928, acc=0.5405\n",
      "    Batch 2700/3960: loss=2.1942, acc=0.5402\n",
      "    Batch 2800/3960: loss=2.1930, acc=0.5406\n",
      "    Batch 2900/3960: loss=2.1927, acc=0.5404\n",
      "    Batch 3000/3960: loss=2.1909, acc=0.5413\n",
      "    Batch 3100/3960: loss=2.1931, acc=0.5409\n",
      "    Batch 3200/3960: loss=2.1893, acc=0.5422\n",
      "    Batch 3300/3960: loss=2.1879, acc=0.5414\n",
      "    Batch 3400/3960: loss=2.1854, acc=0.5431\n",
      "    Batch 3500/3960: loss=2.1858, acc=0.5428\n",
      "    Batch 3600/3960: loss=2.1862, acc=0.5425\n",
      "    Batch 3700/3960: loss=2.1878, acc=0.5425\n",
      "    Batch 3800/3960: loss=2.1911, acc=0.5407\n",
      "    Batch 3900/3960: loss=2.1905, acc=0.5393\n",
      "Epoch 113 Train Loss: 2.1920 Acc: 0.5398 LR: 0.000018\n",
      ">>> Training epoch 113 completed <<<\n",
      "  Starting validation...\n"
     ]
    },
    {
     "data": {
      "application/vnd.jupyter.widget-view+json": {
       "model_id": "b68e70c06f22459f8ed4e2961635177a",
       "version_major": 2,
       "version_minor": 0
      },
      "text/plain": [
       "Validation (raw):   0%|          | 0/157 [00:00<?, ?it/s]"
      ]
     },
     "metadata": {},
     "output_type": "display_data"
    },
    {
     "name": "stdout",
     "output_type": "stream",
     "text": [
      "Validation Acc (raw): 0.8592\n"
     ]
    },
    {
     "data": {
      "application/vnd.jupyter.widget-view+json": {
       "model_id": "afe96d0674b144f7bdf28b62f5d40269",
       "version_major": 2,
       "version_minor": 0
      },
      "text/plain": [
       "Validation (ema):   0%|          | 0/157 [00:00<?, ?it/s]"
      ]
     },
     "metadata": {},
     "output_type": "display_data"
    },
    {
     "name": "stdout",
     "output_type": "stream",
     "text": [
      "Validation Acc (ema): 0.2366\n",
      ">>> Validation completed <<<\n",
      "Epoch time: 22.70 mins\n",
      "\n",
      ">>> Starting Epoch 114/120 <<<\n",
      "  [DEBUG] Entered train_one_epoch function\n",
      "  [DEBUG] Set model to train mode\n",
      "  [DEBUG] Imported tqdm\n",
      "  Training epoch 114...\n",
      "  Loading first batch (this may take 10-30 seconds)...\n",
      "  [DEBUG] About to create iterator from train_loader...\n",
      "  [DEBUG] Calling iter(train_loader)...\n",
      "  [DEBUG] Iterator created successfully!\n",
      "  [DEBUG] Calling next(train_iter)...\n",
      "  ✓ First batch loaded! Shape: torch.Size([32, 3, 224, 224]), Labels: torch.Size([32])\n",
      "  Batch size actual: 32, Expected: 32\n"
     ]
    },
    {
     "data": {
      "application/vnd.jupyter.widget-view+json": {
       "model_id": "e5d9ea7f44f345a88396c63d2f63acbe",
       "version_major": 2,
       "version_minor": 0
      },
      "text/plain": [
       "Epoch 114/120:   0%|                                                       | 0/3960 [00:00<?, ?it/s]"
      ]
     },
     "metadata": {},
     "output_type": "display_data"
    },
    {
     "name": "stdout",
     "output_type": "stream",
     "text": [
      "    Batch 100/3960: loss=2.2322, acc=0.5486\n",
      "    Batch 200/3960: loss=2.2251, acc=0.5700\n",
      "    Batch 300/3960: loss=2.2305, acc=0.5542\n",
      "    Batch 400/3960: loss=2.2259, acc=0.5560\n",
      "    Batch 500/3960: loss=2.2250, acc=0.5529\n",
      "    Batch 600/3960: loss=2.2394, acc=0.5448\n",
      "    Batch 700/3960: loss=2.2412, acc=0.5421\n",
      "    Batch 800/3960: loss=2.2383, acc=0.5384\n",
      "    Batch 900/3960: loss=2.2424, acc=0.5361\n",
      "    Batch 1000/3960: loss=2.2436, acc=0.5354\n",
      "    Batch 1100/3960: loss=2.2443, acc=0.5340\n",
      "    Batch 1200/3960: loss=2.2413, acc=0.5361\n",
      "    Batch 1300/3960: loss=2.2320, acc=0.5377\n",
      "    Batch 1400/3960: loss=2.2262, acc=0.5402\n",
      "    Batch 1500/3960: loss=2.2189, acc=0.5445\n",
      "    Batch 1600/3960: loss=2.2146, acc=0.5458\n",
      "    Batch 1700/3960: loss=2.2155, acc=0.5467\n",
      "    Batch 1800/3960: loss=2.2172, acc=0.5453\n",
      "    Batch 1900/3960: loss=2.2122, acc=0.5471\n",
      "    Batch 2000/3960: loss=2.2110, acc=0.5456\n",
      "    Batch 2100/3960: loss=2.2108, acc=0.5451\n",
      "    Batch 2200/3960: loss=2.2089, acc=0.5476\n",
      "    Batch 2300/3960: loss=2.2131, acc=0.5478\n",
      "    Batch 2400/3960: loss=2.2125, acc=0.5472\n",
      "    Batch 2500/3960: loss=2.2136, acc=0.5481\n",
      "    Batch 2600/3960: loss=2.2134, acc=0.5475\n",
      "    Batch 2700/3960: loss=2.2122, acc=0.5482\n",
      "    Batch 2800/3960: loss=2.2125, acc=0.5474\n",
      "    Batch 2900/3960: loss=2.2115, acc=0.5486\n",
      "    Batch 3000/3960: loss=2.2093, acc=0.5501\n",
      "    Batch 3100/3960: loss=2.2104, acc=0.5505\n",
      "    Batch 3200/3960: loss=2.2092, acc=0.5501\n",
      "    Batch 3300/3960: loss=2.2072, acc=0.5493\n",
      "    Batch 3400/3960: loss=2.2065, acc=0.5483\n",
      "    Batch 3500/3960: loss=2.2077, acc=0.5472\n",
      "    Batch 3600/3960: loss=2.2082, acc=0.5469\n",
      "    Batch 3700/3960: loss=2.2064, acc=0.5477\n",
      "    Batch 3800/3960: loss=2.2037, acc=0.5490\n",
      "    Batch 3900/3960: loss=2.2045, acc=0.5495\n",
      "Epoch 114 Train Loss: 2.2043 Acc: 0.5500 LR: 0.000013\n",
      ">>> Training epoch 114 completed <<<\n",
      "  Starting validation...\n"
     ]
    },
    {
     "data": {
      "application/vnd.jupyter.widget-view+json": {
       "model_id": "3538bee4bb424152a4d057f34e7f87e7",
       "version_major": 2,
       "version_minor": 0
      },
      "text/plain": [
       "Validation (raw):   0%|          | 0/157 [00:00<?, ?it/s]"
      ]
     },
     "metadata": {},
     "output_type": "display_data"
    },
    {
     "name": "stdout",
     "output_type": "stream",
     "text": [
      "Validation Acc (raw): 0.8612\n"
     ]
    },
    {
     "data": {
      "application/vnd.jupyter.widget-view+json": {
       "model_id": "5bd4bff4dc0047afb36369d3e3d43bbc",
       "version_major": 2,
       "version_minor": 0
      },
      "text/plain": [
       "Validation (ema):   0%|          | 0/157 [00:00<?, ?it/s]"
      ]
     },
     "metadata": {},
     "output_type": "display_data"
    },
    {
     "name": "stdout",
     "output_type": "stream",
     "text": [
      "Validation Acc (ema): 0.2602\n",
      ">>> Validation completed <<<\n",
      "Epoch time: 23.81 mins\n",
      "\n",
      ">>> Starting Epoch 115/120 <<<\n",
      "  [DEBUG] Entered train_one_epoch function\n",
      "  [DEBUG] Set model to train mode\n",
      "  [DEBUG] Imported tqdm\n",
      "  Training epoch 115...\n",
      "  Loading first batch (this may take 10-30 seconds)...\n",
      "  [DEBUG] About to create iterator from train_loader...\n",
      "  [DEBUG] Calling iter(train_loader)...\n",
      "  [DEBUG] Iterator created successfully!\n",
      "  [DEBUG] Calling next(train_iter)...\n",
      "  ✓ First batch loaded! Shape: torch.Size([32, 3, 224, 224]), Labels: torch.Size([32])\n",
      "  Batch size actual: 32, Expected: 32\n"
     ]
    },
    {
     "data": {
      "application/vnd.jupyter.widget-view+json": {
       "model_id": "2f8ebfb96c7646d49e7b6a433bdff8eb",
       "version_major": 2,
       "version_minor": 0
      },
      "text/plain": [
       "Epoch 115/120:   0%|                                                       | 0/3960 [00:00<?, ?it/s]"
      ]
     },
     "metadata": {},
     "output_type": "display_data"
    },
    {
     "name": "stdout",
     "output_type": "stream",
     "text": [
      "    Batch 100/3960: loss=2.1461, acc=0.5545\n",
      "    Batch 200/3960: loss=2.1756, acc=0.5389\n",
      "    Batch 300/3960: loss=2.2212, acc=0.5417\n",
      "    Batch 400/3960: loss=2.1932, acc=0.5513\n",
      "    Batch 500/3960: loss=2.1696, acc=0.5529\n",
      "    Batch 600/3960: loss=2.1935, acc=0.5445\n",
      "    Batch 700/3960: loss=2.1967, acc=0.5466\n",
      "    Batch 800/3960: loss=2.2004, acc=0.5476\n",
      "    Batch 900/3960: loss=2.1931, acc=0.5476\n",
      "    Batch 1000/3960: loss=2.2064, acc=0.5478\n",
      "    Batch 1100/3960: loss=2.2104, acc=0.5448\n",
      "    Batch 1200/3960: loss=2.2147, acc=0.5452\n",
      "    Batch 1300/3960: loss=2.2095, acc=0.5469\n",
      "    Batch 1400/3960: loss=2.2039, acc=0.5463\n",
      "    Batch 1500/3960: loss=2.2017, acc=0.5466\n",
      "    Batch 1600/3960: loss=2.2019, acc=0.5470\n",
      "    Batch 1700/3960: loss=2.2005, acc=0.5475\n",
      "    Batch 1800/3960: loss=2.2063, acc=0.5486\n",
      "    Batch 1900/3960: loss=2.2009, acc=0.5492\n",
      "    Batch 2000/3960: loss=2.2014, acc=0.5494\n",
      "    Batch 2100/3960: loss=2.2018, acc=0.5476\n",
      "    Batch 2200/3960: loss=2.2049, acc=0.5472\n",
      "    Batch 2300/3960: loss=2.2052, acc=0.5485\n",
      "    Batch 2400/3960: loss=2.2050, acc=0.5483\n",
      "    Batch 2500/3960: loss=2.2047, acc=0.5505\n",
      "    Batch 2600/3960: loss=2.2055, acc=0.5499\n",
      "    Batch 2700/3960: loss=2.2075, acc=0.5505\n",
      "    Batch 2800/3960: loss=2.2038, acc=0.5506\n",
      "    Batch 2900/3960: loss=2.2075, acc=0.5499\n",
      "    Batch 3000/3960: loss=2.2098, acc=0.5500\n",
      "    Batch 3100/3960: loss=2.2118, acc=0.5496\n",
      "    Batch 3200/3960: loss=2.2102, acc=0.5506\n",
      "    Batch 3300/3960: loss=2.2098, acc=0.5508\n",
      "    Batch 3400/3960: loss=2.2087, acc=0.5513\n",
      "    Batch 3500/3960: loss=2.2111, acc=0.5501\n",
      "    Batch 3600/3960: loss=2.2104, acc=0.5496\n",
      "    Batch 3700/3960: loss=2.2110, acc=0.5495\n",
      "    Batch 3800/3960: loss=2.2098, acc=0.5504\n",
      "    Batch 3900/3960: loss=2.2103, acc=0.5501\n",
      "Epoch 115 Train Loss: 2.2113 Acc: 0.5493 LR: 0.000009\n",
      ">>> Training epoch 115 completed <<<\n",
      "  Starting validation...\n"
     ]
    },
    {
     "data": {
      "application/vnd.jupyter.widget-view+json": {
       "model_id": "c6b75e06d57e4a7f95d65f22b4be7c9a",
       "version_major": 2,
       "version_minor": 0
      },
      "text/plain": [
       "Validation (raw):   0%|          | 0/157 [00:00<?, ?it/s]"
      ]
     },
     "metadata": {},
     "output_type": "display_data"
    },
    {
     "name": "stdout",
     "output_type": "stream",
     "text": [
      "Validation Acc (raw): 0.8580\n"
     ]
    },
    {
     "data": {
      "application/vnd.jupyter.widget-view+json": {
       "model_id": "e0c7a4c09f0d4422bfb670f03705212e",
       "version_major": 2,
       "version_minor": 0
      },
      "text/plain": [
       "Validation (ema):   0%|          | 0/157 [00:00<?, ?it/s]"
      ]
     },
     "metadata": {},
     "output_type": "display_data"
    },
    {
     "name": "stdout",
     "output_type": "stream",
     "text": [
      "Validation Acc (ema): 0.2812\n",
      ">>> Validation completed <<<\n",
      "Epoch time: 330.09 mins\n",
      "Saved checkpoint\n",
      "\n",
      ">>> Starting Epoch 116/120 <<<\n",
      "  [DEBUG] Entered train_one_epoch function\n",
      "  [DEBUG] Set model to train mode\n",
      "  [DEBUG] Imported tqdm\n",
      "  Training epoch 116...\n",
      "  Loading first batch (this may take 10-30 seconds)...\n",
      "  [DEBUG] About to create iterator from train_loader...\n",
      "  [DEBUG] Calling iter(train_loader)...\n",
      "  [DEBUG] Iterator created successfully!\n",
      "  [DEBUG] Calling next(train_iter)...\n",
      "  ✓ First batch loaded! Shape: torch.Size([32, 3, 224, 224]), Labels: torch.Size([32])\n",
      "  Batch size actual: 32, Expected: 32\n"
     ]
    },
    {
     "data": {
      "application/vnd.jupyter.widget-view+json": {
       "model_id": "bcb8f555603e4097a70832f70485d266",
       "version_major": 2,
       "version_minor": 0
      },
      "text/plain": [
       "Epoch 116/120:   0%|                                                       | 0/3960 [00:00<?, ?it/s]"
      ]
     },
     "metadata": {},
     "output_type": "display_data"
    },
    {
     "name": "stdout",
     "output_type": "stream",
     "text": [
      "    Batch 100/3960: loss=2.1790, acc=0.5866\n",
      "    Batch 200/3960: loss=2.2059, acc=0.5599\n",
      "    Batch 300/3960: loss=2.2307, acc=0.5477\n",
      "    Batch 400/3960: loss=2.2252, acc=0.5531\n",
      "    Batch 500/3960: loss=2.2522, acc=0.5423\n",
      "    Batch 600/3960: loss=2.2280, acc=0.5374\n",
      "    Batch 700/3960: loss=2.2287, acc=0.5431\n",
      "    Batch 800/3960: loss=2.2112, acc=0.5478\n",
      "    Batch 900/3960: loss=2.2202, acc=0.5417\n",
      "    Batch 1000/3960: loss=2.2208, acc=0.5410\n",
      "    Batch 1100/3960: loss=2.2170, acc=0.5396\n",
      "    Batch 1200/3960: loss=2.2224, acc=0.5364\n",
      "    Batch 1300/3960: loss=2.2279, acc=0.5356\n",
      "    Batch 1400/3960: loss=2.2374, acc=0.5331\n",
      "    Batch 1500/3960: loss=2.2331, acc=0.5344\n",
      "    Batch 1600/3960: loss=2.2354, acc=0.5349\n",
      "    Batch 1700/3960: loss=2.2346, acc=0.5340\n",
      "    Batch 1800/3960: loss=2.2344, acc=0.5347\n",
      "    Batch 1900/3960: loss=2.2286, acc=0.5368\n",
      "    Batch 2000/3960: loss=2.2276, acc=0.5351\n",
      "    Batch 2100/3960: loss=2.2274, acc=0.5337\n",
      "    Batch 2200/3960: loss=2.2281, acc=0.5329\n",
      "    Batch 2300/3960: loss=2.2241, acc=0.5336\n",
      "    Batch 2400/3960: loss=2.2214, acc=0.5358\n",
      "    Batch 2500/3960: loss=2.2181, acc=0.5373\n",
      "    Batch 2600/3960: loss=2.2186, acc=0.5392\n",
      "    Batch 2700/3960: loss=2.2206, acc=0.5387\n",
      "    Batch 2800/3960: loss=2.2196, acc=0.5391\n",
      "    Batch 2900/3960: loss=2.2195, acc=0.5406\n",
      "    Batch 3000/3960: loss=2.2194, acc=0.5411\n",
      "    Batch 3100/3960: loss=2.2163, acc=0.5427\n",
      "    Batch 3200/3960: loss=2.2162, acc=0.5419\n",
      "    Batch 3300/3960: loss=2.2154, acc=0.5414\n",
      "    Batch 3400/3960: loss=2.2152, acc=0.5413\n",
      "    Batch 3500/3960: loss=2.2140, acc=0.5412\n",
      "    Batch 3600/3960: loss=2.2119, acc=0.5430\n",
      "    Batch 3700/3960: loss=2.2108, acc=0.5434\n",
      "    Batch 3800/3960: loss=2.2081, acc=0.5446\n",
      "    Batch 3900/3960: loss=2.2076, acc=0.5435\n",
      "Epoch 116 Train Loss: 2.2072 Acc: 0.5436 LR: 0.000006\n",
      ">>> Training epoch 116 completed <<<\n",
      "  Starting validation...\n"
     ]
    },
    {
     "data": {
      "application/vnd.jupyter.widget-view+json": {
       "model_id": "0e4e2968c22b49cfba8616857ed4dbfe",
       "version_major": 2,
       "version_minor": 0
      },
      "text/plain": [
       "Validation (raw):   0%|          | 0/157 [00:00<?, ?it/s]"
      ]
     },
     "metadata": {},
     "output_type": "display_data"
    },
    {
     "name": "stdout",
     "output_type": "stream",
     "text": [
      "Validation Acc (raw): 0.8582\n"
     ]
    },
    {
     "data": {
      "application/vnd.jupyter.widget-view+json": {
       "model_id": "99e0f85ebdc3448c8d30a58d0114b1b2",
       "version_major": 2,
       "version_minor": 0
      },
      "text/plain": [
       "Validation (ema):   0%|          | 0/157 [00:00<?, ?it/s]"
      ]
     },
     "metadata": {},
     "output_type": "display_data"
    },
    {
     "name": "stdout",
     "output_type": "stream",
     "text": [
      "Validation Acc (ema): 0.3038\n",
      ">>> Validation completed <<<\n",
      "Epoch time: 51.98 mins\n",
      "\n",
      ">>> Starting Epoch 117/120 <<<\n",
      "  [DEBUG] Entered train_one_epoch function\n",
      "  [DEBUG] Set model to train mode\n",
      "  [DEBUG] Imported tqdm\n",
      "  Training epoch 117...\n",
      "  Loading first batch (this may take 10-30 seconds)...\n",
      "  [DEBUG] About to create iterator from train_loader...\n",
      "  [DEBUG] Calling iter(train_loader)...\n",
      "  [DEBUG] Iterator created successfully!\n",
      "  [DEBUG] Calling next(train_iter)...\n",
      "  ✓ First batch loaded! Shape: torch.Size([32, 3, 224, 224]), Labels: torch.Size([32])\n",
      "  Batch size actual: 32, Expected: 32\n"
     ]
    },
    {
     "data": {
      "application/vnd.jupyter.widget-view+json": {
       "model_id": "3e25824b132a497aa5dadbafc4a4aef2",
       "version_major": 2,
       "version_minor": 0
      },
      "text/plain": [
       "Epoch 117/120:   0%|                                                       | 0/3960 [00:00<?, ?it/s]"
      ]
     },
     "metadata": {},
     "output_type": "display_data"
    }
   ],
   "source": [
    "\n",
    "# 10) Run training with new debug guards\n",
    "import sys\n",
    "sys.stdout.flush()  # Clear any buffered output\n",
    "print(\"=\"*60, flush=True)\n",
    "print(\"Training Started - Outputs will appear in real-time\", flush=True)\n",
    "print(\"=\"*60, flush=True)\n",
    "\n",
    "# Diagnostic checks\n",
    "print(f\"Device: {device}\", flush=True)\n",
    "print(f\"Model on device: {next(model.parameters()).device}\", flush=True)\n",
    "print(f\"Total epochs to run: {CFG['epochs']}\", flush=True)\n",
    "print(f\"Start epoch: {start_epoch}\", flush=True)\n",
    "print(f\"Train loader batches: {len(train_loader)}\", flush=True)\n",
    "print(f\"Train loader num_workers: {train_loader.num_workers}\", flush=True)\n",
    "print(f\"Train dataset length: {len(train_loader.dataset)}\", flush=True)\n",
    "\n",
    "# Quick test: Can we access the dataset directly?\n",
    "print(\"\\n[DEBUG] Testing dataset access...\", flush=True)\n",
    "try:\n",
    "    test_sample = train_loader.dataset[0]\n",
    "    print(f\"  ✓ Dataset[0] accessible, type: {type(test_sample)}\", flush=True)\n",
    "except Exception as e:\n",
    "    print(f\"  ✗ ERROR accessing dataset[0]: {e}\", flush=True)\n",
    "\n",
    "print(\"Starting training loop...\", flush=True)\n",
    "sys.stdout.flush()\n",
    "\n",
    "best_val = 0.0\n",
    "for epoch in range(start_epoch, CFG['epochs']):\n",
    "    print(f\"\\n>>> Starting Epoch {epoch+1}/{CFG['epochs']} <<<\", flush=True)\n",
    "    sys.stdout.flush()\n",
    "    \n",
    "    tic = time.time()\n",
    "    \n",
    "    try:\n",
    "        train_one_epoch(epoch)\n",
    "        print(f\">>> Training epoch {epoch+1} completed <<<\", flush=True)\n",
    "    except Exception as e:\n",
    "        print(f\"ERROR in train_one_epoch: {e}\", flush=True)\n",
    "        import traceback\n",
    "        traceback.print_exc()\n",
    "        break\n",
    "    \n",
    "    try:\n",
    "        val_results = validate(epoch, use_ema=True)\n",
    "        print(f\">>> Validation completed <<<\", flush=True)\n",
    "    except Exception as e:\n",
    "        print(f\"ERROR in validate: {e}\", flush=True)\n",
    "        import traceback\n",
    "        traceback.print_exc()\n",
    "        val_results = {'ema': 0.0}\n",
    "    toc = time.time()\n",
    "    print(f'Epoch time: {(toc-tic)/60:.2f} mins', flush=True)\n",
    "\n",
    "    # checkpoint\n",
    "    val_acc = val_results.get('ema', 0.0)\n",
    "    if (epoch + 1) % CFG['save_every'] == 0 or val_acc > best_val:\n",
    "        ckpt = {\n",
    "            'epoch': epoch,\n",
    "            'model_state': model.state_dict(),\n",
    "            'opt_state': optimizer.state_dict(),\n",
    "            'ema_state': ema.state_dict(),\n",
    "            'cfg': CFG,\n",
    "        }\n",
    "        torch.save(ckpt, os.path.join(CFG['save_dir'], f'checkpoint_epoch{epoch+1}.pth'))\n",
    "        torch.save(ckpt, os.path.join(CFG['save_dir'], 'last_checkpoint.pth'))\n",
    "        print('Saved checkpoint', flush=True)\n",
    "    if val_acc > best_val:\n",
    "        best_val = val_acc\n",
    "\n",
    "print('Training finished. Best Val Acc (ema):', best_val, flush=True)\n",
    "\n",
    "# End of Phase 2 updates: debug guards applied (EMA ramp, disabled mixup in warmup, raw+ema eval).\n"
   ]
  },
  {
   "cell_type": "code",
   "execution_count": null,
   "metadata": {
    "id": "YXBkD_wtimJt"
   },
   "outputs": [],
   "source": []
  },
  {
   "cell_type": "code",
   "execution_count": null,
   "metadata": {},
   "outputs": [],
   "source": []
  },
  {
   "cell_type": "code",
   "execution_count": null,
   "metadata": {},
   "outputs": [],
   "source": []
  }
 ],
 "metadata": {
  "accelerator": "GPU",
  "colab": {
   "gpuType": "T4",
   "provenance": []
  },
  "kernelspec": {
   "display_name": "venv_RESNET",
   "language": "python",
   "name": "python3"
  },
  "language_info": {
   "codemirror_mode": {
    "name": "ipython",
    "version": 3
   },
   "file_extension": ".py",
   "mimetype": "text/x-python",
   "name": "python",
   "nbconvert_exporter": "python",
   "pygments_lexer": "ipython3",
   "version": "3.13.5"
  },
  "widgets": {
   "application/vnd.jupyter.widget-state+json": {
    "state": {
     "007747358f5248c99d8c4e291523014e": {
      "model_module": "@jupyter-widgets/controls",
      "model_module_version": "1.5.0",
      "model_name": "HTMLModel",
      "state": {
       "_dom_classes": [],
       "_model_module": "@jupyter-widgets/controls",
       "_model_module_version": "1.5.0",
       "_model_name": "HTMLModel",
       "_view_count": null,
       "_view_module": "@jupyter-widgets/controls",
       "_view_module_version": "1.5.0",
       "_view_name": "HTMLView",
       "description": "",
       "description_tooltip": null,
       "layout": "IPY_MODEL_0d615e7c272442a288177a69edb2c75d",
       "placeholder": "​",
       "style": "IPY_MODEL_b38039551f9a4379bfd26aed649884cd",
       "value": "README.md: "
      }
     },
     "01524afa60394a9891c48a76fd27e40b": {
      "model_module": "@jupyter-widgets/controls",
      "model_module_version": "1.5.0",
      "model_name": "DescriptionStyleModel",
      "state": {
       "_model_module": "@jupyter-widgets/controls",
       "_model_module_version": "1.5.0",
       "_model_name": "DescriptionStyleModel",
       "_view_count": null,
       "_view_module": "@jupyter-widgets/base",
       "_view_module_version": "1.2.0",
       "_view_name": "StyleView",
       "description_width": ""
      }
     },
     "032f722e47f64a76ada10d22f49be6c9": {
      "model_module": "@jupyter-widgets/base",
      "model_module_version": "1.2.0",
      "model_name": "LayoutModel",
      "state": {
       "_model_module": "@jupyter-widgets/base",
       "_model_module_version": "1.2.0",
       "_model_name": "LayoutModel",
       "_view_count": null,
       "_view_module": "@jupyter-widgets/base",
       "_view_module_version": "1.2.0",
       "_view_name": "LayoutView",
       "align_content": null,
       "align_items": null,
       "align_self": null,
       "border": null,
       "bottom": null,
       "display": null,
       "flex": null,
       "flex_flow": null,
       "grid_area": null,
       "grid_auto_columns": null,
       "grid_auto_flow": null,
       "grid_auto_rows": null,
       "grid_column": null,
       "grid_gap": null,
       "grid_row": null,
       "grid_template_areas": null,
       "grid_template_columns": null,
       "grid_template_rows": null,
       "height": null,
       "justify_content": null,
       "justify_items": null,
       "left": null,
       "margin": null,
       "max_height": null,
       "max_width": null,
       "min_height": null,
       "min_width": null,
       "object_fit": null,
       "object_position": null,
       "order": null,
       "overflow": null,
       "overflow_x": null,
       "overflow_y": null,
       "padding": null,
       "right": null,
       "top": null,
       "visibility": null,
       "width": null
      }
     },
     "03c5225c5cc449379ebefbfcfd533784": {
      "model_module": "@jupyter-widgets/base",
      "model_module_version": "1.2.0",
      "model_name": "LayoutModel",
      "state": {
       "_model_module": "@jupyter-widgets/base",
       "_model_module_version": "1.2.0",
       "_model_name": "LayoutModel",
       "_view_count": null,
       "_view_module": "@jupyter-widgets/base",
       "_view_module_version": "1.2.0",
       "_view_name": "LayoutView",
       "align_content": null,
       "align_items": null,
       "align_self": null,
       "border": null,
       "bottom": null,
       "display": null,
       "flex": null,
       "flex_flow": null,
       "grid_area": null,
       "grid_auto_columns": null,
       "grid_auto_flow": null,
       "grid_auto_rows": null,
       "grid_column": null,
       "grid_gap": null,
       "grid_row": null,
       "grid_template_areas": null,
       "grid_template_columns": null,
       "grid_template_rows": null,
       "height": null,
       "justify_content": null,
       "justify_items": null,
       "left": null,
       "margin": null,
       "max_height": null,
       "max_width": null,
       "min_height": null,
       "min_width": null,
       "object_fit": null,
       "object_position": null,
       "order": null,
       "overflow": null,
       "overflow_x": null,
       "overflow_y": null,
       "padding": null,
       "right": null,
       "top": null,
       "visibility": null,
       "width": null
      }
     },
     "0645604006774363883cba7a0857736b": {
      "model_module": "@jupyter-widgets/base",
      "model_module_version": "1.2.0",
      "model_name": "LayoutModel",
      "state": {
       "_model_module": "@jupyter-widgets/base",
       "_model_module_version": "1.2.0",
       "_model_name": "LayoutModel",
       "_view_count": null,
       "_view_module": "@jupyter-widgets/base",
       "_view_module_version": "1.2.0",
       "_view_name": "LayoutView",
       "align_content": null,
       "align_items": null,
       "align_self": null,
       "border": null,
       "bottom": null,
       "display": null,
       "flex": null,
       "flex_flow": null,
       "grid_area": null,
       "grid_auto_columns": null,
       "grid_auto_flow": null,
       "grid_auto_rows": null,
       "grid_column": null,
       "grid_gap": null,
       "grid_row": null,
       "grid_template_areas": null,
       "grid_template_columns": null,
       "grid_template_rows": null,
       "height": null,
       "justify_content": null,
       "justify_items": null,
       "left": null,
       "margin": null,
       "max_height": null,
       "max_width": null,
       "min_height": null,
       "min_width": null,
       "object_fit": null,
       "object_position": null,
       "order": null,
       "overflow": null,
       "overflow_x": null,
       "overflow_y": null,
       "padding": null,
       "right": null,
       "top": null,
       "visibility": null,
       "width": null
      }
     },
     "0714b91711d744df95c4565917284514": {
      "model_module": "@jupyter-widgets/controls",
      "model_module_version": "1.5.0",
      "model_name": "HBoxModel",
      "state": {
       "_dom_classes": [],
       "_model_module": "@jupyter-widgets/controls",
       "_model_module_version": "1.5.0",
       "_model_name": "HBoxModel",
       "_view_count": null,
       "_view_module": "@jupyter-widgets/controls",
       "_view_module_version": "1.5.0",
       "_view_name": "HBoxView",
       "box_style": "",
       "children": [
        "IPY_MODEL_81ce1b27e0c5444a95a4587ec9db2ded",
        "IPY_MODEL_43ef784942634e1095200141fa6b8a87",
        "IPY_MODEL_847781e1a006475a81ba041fd4ffd390"
       ],
       "layout": "IPY_MODEL_affacb55fbe1463ab5c2235239a4dfd5"
      }
     },
     "07bf4c70596f47a28fd18952e772023e": {
      "model_module": "@jupyter-widgets/controls",
      "model_module_version": "1.5.0",
      "model_name": "HBoxModel",
      "state": {
       "_dom_classes": [],
       "_model_module": "@jupyter-widgets/controls",
       "_model_module_version": "1.5.0",
       "_model_name": "HBoxModel",
       "_view_count": null,
       "_view_module": "@jupyter-widgets/controls",
       "_view_module_version": "1.5.0",
       "_view_name": "HBoxView",
       "box_style": "",
       "children": [
        "IPY_MODEL_2c2fb9a504184e3a849dfa5685026686",
        "IPY_MODEL_4953bcdb7bca4d4f9b689411eaef825e",
        "IPY_MODEL_a175cfe4c5a3443f84c70775ac31afbd"
       ],
       "layout": "IPY_MODEL_693765c17a2047fe8279bad3e1eaeb01"
      }
     },
     "08e3ec8cfee848e9b4781bc938528856": {
      "model_module": "@jupyter-widgets/base",
      "model_module_version": "1.2.0",
      "model_name": "LayoutModel",
      "state": {
       "_model_module": "@jupyter-widgets/base",
       "_model_module_version": "1.2.0",
       "_model_name": "LayoutModel",
       "_view_count": null,
       "_view_module": "@jupyter-widgets/base",
       "_view_module_version": "1.2.0",
       "_view_name": "LayoutView",
       "align_content": null,
       "align_items": null,
       "align_self": null,
       "border": null,
       "bottom": null,
       "display": null,
       "flex": null,
       "flex_flow": null,
       "grid_area": null,
       "grid_auto_columns": null,
       "grid_auto_flow": null,
       "grid_auto_rows": null,
       "grid_column": null,
       "grid_gap": null,
       "grid_row": null,
       "grid_template_areas": null,
       "grid_template_columns": null,
       "grid_template_rows": null,
       "height": null,
       "justify_content": null,
       "justify_items": null,
       "left": null,
       "margin": null,
       "max_height": null,
       "max_width": null,
       "min_height": null,
       "min_width": null,
       "object_fit": null,
       "object_position": null,
       "order": null,
       "overflow": null,
       "overflow_x": null,
       "overflow_y": null,
       "padding": null,
       "right": null,
       "top": null,
       "visibility": null,
       "width": null
      }
     },
     "098e19abda46458e81a1f0cc4abc42c1": {
      "model_module": "@jupyter-widgets/base",
      "model_module_version": "1.2.0",
      "model_name": "LayoutModel",
      "state": {
       "_model_module": "@jupyter-widgets/base",
       "_model_module_version": "1.2.0",
       "_model_name": "LayoutModel",
       "_view_count": null,
       "_view_module": "@jupyter-widgets/base",
       "_view_module_version": "1.2.0",
       "_view_name": "LayoutView",
       "align_content": null,
       "align_items": null,
       "align_self": null,
       "border": null,
       "bottom": null,
       "display": null,
       "flex": null,
       "flex_flow": null,
       "grid_area": null,
       "grid_auto_columns": null,
       "grid_auto_flow": null,
       "grid_auto_rows": null,
       "grid_column": null,
       "grid_gap": null,
       "grid_row": null,
       "grid_template_areas": null,
       "grid_template_columns": null,
       "grid_template_rows": null,
       "height": null,
       "justify_content": null,
       "justify_items": null,
       "left": null,
       "margin": null,
       "max_height": null,
       "max_width": null,
       "min_height": null,
       "min_width": null,
       "object_fit": null,
       "object_position": null,
       "order": null,
       "overflow": null,
       "overflow_x": null,
       "overflow_y": null,
       "padding": null,
       "right": null,
       "top": null,
       "visibility": null,
       "width": null
      }
     },
     "0add886fcc084e618a6cd154f01feca2": {
      "model_module": "@jupyter-widgets/controls",
      "model_module_version": "1.5.0",
      "model_name": "HBoxModel",
      "state": {
       "_dom_classes": [],
       "_model_module": "@jupyter-widgets/controls",
       "_model_module_version": "1.5.0",
       "_model_name": "HBoxModel",
       "_view_count": null,
       "_view_module": "@jupyter-widgets/controls",
       "_view_module_version": "1.5.0",
       "_view_name": "HBoxView",
       "box_style": "",
       "children": [
        "IPY_MODEL_64aed29e12bc41e48804a0308f174b67",
        "IPY_MODEL_83a33967af494715a32c133cdb8056c3",
        "IPY_MODEL_d1f102dc933745e1bf6f3935ff982851"
       ],
       "layout": "IPY_MODEL_1238f31806704576a8a73f0c0e03b1d4"
      }
     },
     "0c3347133dec4ce5955059a7dd00a7b2": {
      "model_module": "@jupyter-widgets/controls",
      "model_module_version": "1.5.0",
      "model_name": "FloatProgressModel",
      "state": {
       "_dom_classes": [],
       "_model_module": "@jupyter-widgets/controls",
       "_model_module_version": "1.5.0",
       "_model_name": "FloatProgressModel",
       "_view_count": null,
       "_view_module": "@jupyter-widgets/controls",
       "_view_module_version": "1.5.0",
       "_view_name": "ProgressView",
       "bar_style": "success",
       "description": "",
       "description_tooltip": null,
       "layout": "IPY_MODEL_4ea9097ae8274237b463c8cca1962cd7",
       "max": 474006098,
       "min": 0,
       "orientation": "horizontal",
       "style": "IPY_MODEL_93772741af814828bddfe4d370078a04",
       "value": 474006098
      }
     },
     "0c6a5f9ae7444ae6bcbe0615082270c2": {
      "model_module": "@jupyter-widgets/controls",
      "model_module_version": "1.5.0",
      "model_name": "FloatProgressModel",
      "state": {
       "_dom_classes": [],
       "_model_module": "@jupyter-widgets/controls",
       "_model_module_version": "1.5.0",
       "_model_name": "FloatProgressModel",
       "_view_count": null,
       "_view_module": "@jupyter-widgets/controls",
       "_view_module_version": "1.5.0",
       "_view_name": "ProgressView",
       "bar_style": "success",
       "description": "",
       "description_tooltip": null,
       "layout": "IPY_MODEL_b5c2d7a962ca48b3bdf87178bd6c933c",
       "max": 504815050,
       "min": 0,
       "orientation": "horizontal",
       "style": "IPY_MODEL_a9eb0e92261243fe84160a259e4d8e63",
       "value": 504815050
      }
     },
     "0d615e7c272442a288177a69edb2c75d": {
      "model_module": "@jupyter-widgets/base",
      "model_module_version": "1.2.0",
      "model_name": "LayoutModel",
      "state": {
       "_model_module": "@jupyter-widgets/base",
       "_model_module_version": "1.2.0",
       "_model_name": "LayoutModel",
       "_view_count": null,
       "_view_module": "@jupyter-widgets/base",
       "_view_module_version": "1.2.0",
       "_view_name": "LayoutView",
       "align_content": null,
       "align_items": null,
       "align_self": null,
       "border": null,
       "bottom": null,
       "display": null,
       "flex": null,
       "flex_flow": null,
       "grid_area": null,
       "grid_auto_columns": null,
       "grid_auto_flow": null,
       "grid_auto_rows": null,
       "grid_column": null,
       "grid_gap": null,
       "grid_row": null,
       "grid_template_areas": null,
       "grid_template_columns": null,
       "grid_template_rows": null,
       "height": null,
       "justify_content": null,
       "justify_items": null,
       "left": null,
       "margin": null,
       "max_height": null,
       "max_width": null,
       "min_height": null,
       "min_width": null,
       "object_fit": null,
       "object_position": null,
       "order": null,
       "overflow": null,
       "overflow_x": null,
       "overflow_y": null,
       "padding": null,
       "right": null,
       "top": null,
       "visibility": null,
       "width": null
      }
     },
     "0ed08e4bd39145d39595df22ba3dc930": {
      "model_module": "@jupyter-widgets/controls",
      "model_module_version": "1.5.0",
      "model_name": "HTMLModel",
      "state": {
       "_dom_classes": [],
       "_model_module": "@jupyter-widgets/controls",
       "_model_module_version": "1.5.0",
       "_model_name": "HTMLModel",
       "_view_count": null,
       "_view_module": "@jupyter-widgets/controls",
       "_view_module_version": "1.5.0",
       "_view_name": "HTMLView",
       "description": "",
       "description_tooltip": null,
       "layout": "IPY_MODEL_f3e6235648db458683f934dc59ca8bde",
       "placeholder": "​",
       "style": "IPY_MODEL_54183c738e77416c9b31dbc4ef3f2396",
       "value": "Generating train split: 100%"
      }
     },
     "0f1a86f06e9f4095a7d59549fcc3b69b": {
      "model_module": "@jupyter-widgets/controls",
      "model_module_version": "1.5.0",
      "model_name": "HTMLModel",
      "state": {
       "_dom_classes": [],
       "_model_module": "@jupyter-widgets/controls",
       "_model_module_version": "1.5.0",
       "_model_name": "HTMLModel",
       "_view_count": null,
       "_view_module": "@jupyter-widgets/controls",
       "_view_module_version": "1.5.0",
       "_view_name": "HTMLView",
       "description": "",
       "description_tooltip": null,
       "layout": "IPY_MODEL_18a8c6167ac944f1964554de28493890",
       "placeholder": "​",
       "style": "IPY_MODEL_d27857e75ae9474a857b8142509ed489",
       "value": "data/train-00007-of-00017.parquet: 100%"
      }
     },
     "1000874b185b47aeab08113009a9d459": {
      "model_module": "@jupyter-widgets/controls",
      "model_module_version": "1.5.0",
      "model_name": "DescriptionStyleModel",
      "state": {
       "_model_module": "@jupyter-widgets/controls",
       "_model_module_version": "1.5.0",
       "_model_name": "DescriptionStyleModel",
       "_view_count": null,
       "_view_module": "@jupyter-widgets/base",
       "_view_module_version": "1.2.0",
       "_view_name": "StyleView",
       "description_width": ""
      }
     },
     "1134bd2dc8f04ff89f8b2e25ad43cf56": {
      "model_module": "@jupyter-widgets/controls",
      "model_module_version": "1.5.0",
      "model_name": "DescriptionStyleModel",
      "state": {
       "_model_module": "@jupyter-widgets/controls",
       "_model_module_version": "1.5.0",
       "_model_name": "DescriptionStyleModel",
       "_view_count": null,
       "_view_module": "@jupyter-widgets/base",
       "_view_module_version": "1.2.0",
       "_view_name": "StyleView",
       "description_width": ""
      }
     },
     "1215a7b5352c4ffea6af93939a99b00d": {
      "model_module": "@jupyter-widgets/controls",
      "model_module_version": "1.5.0",
      "model_name": "HBoxModel",
      "state": {
       "_dom_classes": [],
       "_model_module": "@jupyter-widgets/controls",
       "_model_module_version": "1.5.0",
       "_model_name": "HBoxModel",
       "_view_count": null,
       "_view_module": "@jupyter-widgets/controls",
       "_view_module_version": "1.5.0",
       "_view_name": "HBoxView",
       "box_style": "",
       "children": [
        "IPY_MODEL_3a382e3f85434aef9069c050bb99c5cf",
        "IPY_MODEL_b17e84e52cad4ab2b55ebaceb8fd1893",
        "IPY_MODEL_af0f92ae19f24951ad266c1ce04d6422"
       ],
       "layout": "IPY_MODEL_eb97de4a7eee47e88ad6b27a7d97371d"
      }
     },
     "12191fbdefdd47e9a386e6414beb8643": {
      "model_module": "@jupyter-widgets/controls",
      "model_module_version": "1.5.0",
      "model_name": "DescriptionStyleModel",
      "state": {
       "_model_module": "@jupyter-widgets/controls",
       "_model_module_version": "1.5.0",
       "_model_name": "DescriptionStyleModel",
       "_view_count": null,
       "_view_module": "@jupyter-widgets/base",
       "_view_module_version": "1.2.0",
       "_view_name": "StyleView",
       "description_width": ""
      }
     },
     "1238f31806704576a8a73f0c0e03b1d4": {
      "model_module": "@jupyter-widgets/base",
      "model_module_version": "1.2.0",
      "model_name": "LayoutModel",
      "state": {
       "_model_module": "@jupyter-widgets/base",
       "_model_module_version": "1.2.0",
       "_model_name": "LayoutModel",
       "_view_count": null,
       "_view_module": "@jupyter-widgets/base",
       "_view_module_version": "1.2.0",
       "_view_name": "LayoutView",
       "align_content": null,
       "align_items": null,
       "align_self": null,
       "border": null,
       "bottom": null,
       "display": null,
       "flex": null,
       "flex_flow": null,
       "grid_area": null,
       "grid_auto_columns": null,
       "grid_auto_flow": null,
       "grid_auto_rows": null,
       "grid_column": null,
       "grid_gap": null,
       "grid_row": null,
       "grid_template_areas": null,
       "grid_template_columns": null,
       "grid_template_rows": null,
       "height": null,
       "justify_content": null,
       "justify_items": null,
       "left": null,
       "margin": null,
       "max_height": null,
       "max_width": null,
       "min_height": null,
       "min_width": null,
       "object_fit": null,
       "object_position": null,
       "order": null,
       "overflow": null,
       "overflow_x": null,
       "overflow_y": null,
       "padding": null,
       "right": null,
       "top": null,
       "visibility": null,
       "width": null
      }
     },
     "1262a2a300cd4d8fafbb0516ad74b3d6": {
      "model_module": "@jupyter-widgets/base",
      "model_module_version": "1.2.0",
      "model_name": "LayoutModel",
      "state": {
       "_model_module": "@jupyter-widgets/base",
       "_model_module_version": "1.2.0",
       "_model_name": "LayoutModel",
       "_view_count": null,
       "_view_module": "@jupyter-widgets/base",
       "_view_module_version": "1.2.0",
       "_view_name": "LayoutView",
       "align_content": null,
       "align_items": null,
       "align_self": null,
       "border": null,
       "bottom": null,
       "display": null,
       "flex": null,
       "flex_flow": null,
       "grid_area": null,
       "grid_auto_columns": null,
       "grid_auto_flow": null,
       "grid_auto_rows": null,
       "grid_column": null,
       "grid_gap": null,
       "grid_row": null,
       "grid_template_areas": null,
       "grid_template_columns": null,
       "grid_template_rows": null,
       "height": null,
       "justify_content": null,
       "justify_items": null,
       "left": null,
       "margin": null,
       "max_height": null,
       "max_width": null,
       "min_height": null,
       "min_width": null,
       "object_fit": null,
       "object_position": null,
       "order": null,
       "overflow": null,
       "overflow_x": null,
       "overflow_y": null,
       "padding": null,
       "right": null,
       "top": null,
       "visibility": null,
       "width": null
      }
     },
     "137c8358465943e591aa0aa32abc12df": {
      "model_module": "@jupyter-widgets/controls",
      "model_module_version": "1.5.0",
      "model_name": "HBoxModel",
      "state": {
       "_dom_classes": [],
       "_model_module": "@jupyter-widgets/controls",
       "_model_module_version": "1.5.0",
       "_model_name": "HBoxModel",
       "_view_count": null,
       "_view_module": "@jupyter-widgets/controls",
       "_view_module_version": "1.5.0",
       "_view_name": "HBoxView",
       "box_style": "",
       "children": [
        "IPY_MODEL_b33a0637dcf943a99121ae91e7fd027f",
        "IPY_MODEL_8c6c099d6ead4baaa1b0548e8384827c",
        "IPY_MODEL_58748d49bf284800b2ff6ba3d6ecd274"
       ],
       "layout": "IPY_MODEL_c92914e95f1b46908709540d40826083"
      }
     },
     "137e6c6fb4014498b7d1d0bb519c6e3d": {
      "model_module": "@jupyter-widgets/controls",
      "model_module_version": "1.5.0",
      "model_name": "FloatProgressModel",
      "state": {
       "_dom_classes": [],
       "_model_module": "@jupyter-widgets/controls",
       "_model_module_version": "1.5.0",
       "_model_name": "FloatProgressModel",
       "_view_count": null,
       "_view_module": "@jupyter-widgets/controls",
       "_view_module_version": "1.5.0",
       "_view_name": "ProgressView",
       "bar_style": "success",
       "description": "",
       "description_tooltip": null,
       "layout": "IPY_MODEL_9fed3eb42ade417687210ffec6c3bc2e",
       "max": 17,
       "min": 0,
       "orientation": "horizontal",
       "style": "IPY_MODEL_4d41a2c7df6843ebaa814ae9c4ab91bf",
       "value": 17
      }
     },
     "13daa8190cad4affbad5bf65f5f22827": {
      "model_module": "@jupyter-widgets/base",
      "model_module_version": "1.2.0",
      "model_name": "LayoutModel",
      "state": {
       "_model_module": "@jupyter-widgets/base",
       "_model_module_version": "1.2.0",
       "_model_name": "LayoutModel",
       "_view_count": null,
       "_view_module": "@jupyter-widgets/base",
       "_view_module_version": "1.2.0",
       "_view_name": "LayoutView",
       "align_content": null,
       "align_items": null,
       "align_self": null,
       "border": null,
       "bottom": null,
       "display": null,
       "flex": null,
       "flex_flow": null,
       "grid_area": null,
       "grid_auto_columns": null,
       "grid_auto_flow": null,
       "grid_auto_rows": null,
       "grid_column": null,
       "grid_gap": null,
       "grid_row": null,
       "grid_template_areas": null,
       "grid_template_columns": null,
       "grid_template_rows": null,
       "height": null,
       "justify_content": null,
       "justify_items": null,
       "left": null,
       "margin": null,
       "max_height": null,
       "max_width": null,
       "min_height": null,
       "min_width": null,
       "object_fit": null,
       "object_position": null,
       "order": null,
       "overflow": null,
       "overflow_x": null,
       "overflow_y": null,
       "padding": null,
       "right": null,
       "top": null,
       "visibility": null,
       "width": null
      }
     },
     "14cc184f528f460c9c38faca119737c1": {
      "model_module": "@jupyter-widgets/controls",
      "model_module_version": "1.5.0",
      "model_name": "HTMLModel",
      "state": {
       "_dom_classes": [],
       "_model_module": "@jupyter-widgets/controls",
       "_model_module_version": "1.5.0",
       "_model_name": "HTMLModel",
       "_view_count": null,
       "_view_module": "@jupyter-widgets/controls",
       "_view_module_version": "1.5.0",
       "_view_name": "HTMLView",
       "description": "",
       "description_tooltip": null,
       "layout": "IPY_MODEL_f7ea24deadb54f6d902ef741ef546d15",
       "placeholder": "​",
       "style": "IPY_MODEL_739d83b12de84f70a29b5902b0a33f92",
       "value": "data/train-00008-of-00017.parquet: 100%"
      }
     },
     "14ea410848704a8a92776b432ac503de": {
      "model_module": "@jupyter-widgets/controls",
      "model_module_version": "1.5.0",
      "model_name": "DescriptionStyleModel",
      "state": {
       "_model_module": "@jupyter-widgets/controls",
       "_model_module_version": "1.5.0",
       "_model_name": "DescriptionStyleModel",
       "_view_count": null,
       "_view_module": "@jupyter-widgets/base",
       "_view_module_version": "1.2.0",
       "_view_name": "StyleView",
       "description_width": ""
      }
     },
     "15019c2b5a7b4cdfaf8be44a819c8df3": {
      "model_module": "@jupyter-widgets/controls",
      "model_module_version": "1.5.0",
      "model_name": "HTMLModel",
      "state": {
       "_dom_classes": [],
       "_model_module": "@jupyter-widgets/controls",
       "_model_module_version": "1.5.0",
       "_model_name": "HTMLModel",
       "_view_count": null,
       "_view_module": "@jupyter-widgets/controls",
       "_view_module_version": "1.5.0",
       "_view_name": "HTMLView",
       "description": "",
       "description_tooltip": null,
       "layout": "IPY_MODEL_ac5fecfcfdd845df8f23bb301e7380b2",
       "placeholder": "​",
       "style": "IPY_MODEL_9f0e42ed517f4bfd8c4dffa3cf64fd21",
       "value": "data/train-00001-of-00017.parquet: 100%"
      }
     },
     "1552dbd2ba5d4f8ea7e2fdcaa25a771a": {
      "model_module": "@jupyter-widgets/base",
      "model_module_version": "1.2.0",
      "model_name": "LayoutModel",
      "state": {
       "_model_module": "@jupyter-widgets/base",
       "_model_module_version": "1.2.0",
       "_model_name": "LayoutModel",
       "_view_count": null,
       "_view_module": "@jupyter-widgets/base",
       "_view_module_version": "1.2.0",
       "_view_name": "LayoutView",
       "align_content": null,
       "align_items": null,
       "align_self": null,
       "border": null,
       "bottom": null,
       "display": null,
       "flex": null,
       "flex_flow": null,
       "grid_area": null,
       "grid_auto_columns": null,
       "grid_auto_flow": null,
       "grid_auto_rows": null,
       "grid_column": null,
       "grid_gap": null,
       "grid_row": null,
       "grid_template_areas": null,
       "grid_template_columns": null,
       "grid_template_rows": null,
       "height": null,
       "justify_content": null,
       "justify_items": null,
       "left": null,
       "margin": null,
       "max_height": null,
       "max_width": null,
       "min_height": null,
       "min_width": null,
       "object_fit": null,
       "object_position": null,
       "order": null,
       "overflow": null,
       "overflow_x": null,
       "overflow_y": null,
       "padding": null,
       "right": null,
       "top": null,
       "visibility": null,
       "width": null
      }
     },
     "1618717cc722441f82ff76522cf85bcc": {
      "model_module": "@jupyter-widgets/controls",
      "model_module_version": "1.5.0",
      "model_name": "HTMLModel",
      "state": {
       "_dom_classes": [],
       "_model_module": "@jupyter-widgets/controls",
       "_model_module_version": "1.5.0",
       "_model_name": "HTMLModel",
       "_view_count": null,
       "_view_module": "@jupyter-widgets/controls",
       "_view_module_version": "1.5.0",
       "_view_name": "HTMLView",
       "description": "",
       "description_tooltip": null,
       "layout": "IPY_MODEL_8b079f5a51634e60acb30aa2f80f8c84",
       "placeholder": "​",
       "style": "IPY_MODEL_ce9fc5be27b444f18f2d9be23fbd604e",
       "value": " 17/17 [00:00&lt;00:00, 1692.94it/s]"
      }
     },
     "178ef7f9ea7a49f7b32e79b85912a316": {
      "model_module": "@jupyter-widgets/controls",
      "model_module_version": "1.5.0",
      "model_name": "DescriptionStyleModel",
      "state": {
       "_model_module": "@jupyter-widgets/controls",
       "_model_module_version": "1.5.0",
       "_model_name": "DescriptionStyleModel",
       "_view_count": null,
       "_view_module": "@jupyter-widgets/base",
       "_view_module_version": "1.2.0",
       "_view_name": "StyleView",
       "description_width": ""
      }
     },
     "17aa1c58a83b49bfafe5e0b5abd75073": {
      "model_module": "@jupyter-widgets/base",
      "model_module_version": "1.2.0",
      "model_name": "LayoutModel",
      "state": {
       "_model_module": "@jupyter-widgets/base",
       "_model_module_version": "1.2.0",
       "_model_name": "LayoutModel",
       "_view_count": null,
       "_view_module": "@jupyter-widgets/base",
       "_view_module_version": "1.2.0",
       "_view_name": "LayoutView",
       "align_content": null,
       "align_items": null,
       "align_self": null,
       "border": null,
       "bottom": null,
       "display": null,
       "flex": null,
       "flex_flow": null,
       "grid_area": null,
       "grid_auto_columns": null,
       "grid_auto_flow": null,
       "grid_auto_rows": null,
       "grid_column": null,
       "grid_gap": null,
       "grid_row": null,
       "grid_template_areas": null,
       "grid_template_columns": null,
       "grid_template_rows": null,
       "height": null,
       "justify_content": null,
       "justify_items": null,
       "left": null,
       "margin": null,
       "max_height": null,
       "max_width": null,
       "min_height": null,
       "min_width": null,
       "object_fit": null,
       "object_position": null,
       "order": null,
       "overflow": null,
       "overflow_x": null,
       "overflow_y": null,
       "padding": null,
       "right": null,
       "top": null,
       "visibility": null,
       "width": null
      }
     },
     "1837bcc84c8c454aa8be4e1b5f3c4caa": {
      "model_module": "@jupyter-widgets/controls",
      "model_module_version": "1.5.0",
      "model_name": "HTMLModel",
      "state": {
       "_dom_classes": [],
       "_model_module": "@jupyter-widgets/controls",
       "_model_module_version": "1.5.0",
       "_model_name": "HTMLModel",
       "_view_count": null,
       "_view_module": "@jupyter-widgets/controls",
       "_view_module_version": "1.5.0",
       "_view_name": "HTMLView",
       "description": "",
       "description_tooltip": null,
       "layout": "IPY_MODEL_872c8748d91a458aa14ee11cc0e58bc8",
       "placeholder": "​",
       "style": "IPY_MODEL_89e010b8a4264ceeaddd42d680c4b52c",
       "value": "data/train-00014-of-00017.parquet: 100%"
      }
     },
     "18621c5f284c47d4a5a208c6194705b1": {
      "model_module": "@jupyter-widgets/base",
      "model_module_version": "1.2.0",
      "model_name": "LayoutModel",
      "state": {
       "_model_module": "@jupyter-widgets/base",
       "_model_module_version": "1.2.0",
       "_model_name": "LayoutModel",
       "_view_count": null,
       "_view_module": "@jupyter-widgets/base",
       "_view_module_version": "1.2.0",
       "_view_name": "LayoutView",
       "align_content": null,
       "align_items": null,
       "align_self": null,
       "border": null,
       "bottom": null,
       "display": null,
       "flex": null,
       "flex_flow": null,
       "grid_area": null,
       "grid_auto_columns": null,
       "grid_auto_flow": null,
       "grid_auto_rows": null,
       "grid_column": null,
       "grid_gap": null,
       "grid_row": null,
       "grid_template_areas": null,
       "grid_template_columns": null,
       "grid_template_rows": null,
       "height": null,
       "justify_content": null,
       "justify_items": null,
       "left": null,
       "margin": null,
       "max_height": null,
       "max_width": null,
       "min_height": null,
       "min_width": null,
       "object_fit": null,
       "object_position": null,
       "order": null,
       "overflow": null,
       "overflow_x": null,
       "overflow_y": null,
       "padding": null,
       "right": null,
       "top": null,
       "visibility": null,
       "width": null
      }
     },
     "18a8c6167ac944f1964554de28493890": {
      "model_module": "@jupyter-widgets/base",
      "model_module_version": "1.2.0",
      "model_name": "LayoutModel",
      "state": {
       "_model_module": "@jupyter-widgets/base",
       "_model_module_version": "1.2.0",
       "_model_name": "LayoutModel",
       "_view_count": null,
       "_view_module": "@jupyter-widgets/base",
       "_view_module_version": "1.2.0",
       "_view_name": "LayoutView",
       "align_content": null,
       "align_items": null,
       "align_self": null,
       "border": null,
       "bottom": null,
       "display": null,
       "flex": null,
       "flex_flow": null,
       "grid_area": null,
       "grid_auto_columns": null,
       "grid_auto_flow": null,
       "grid_auto_rows": null,
       "grid_column": null,
       "grid_gap": null,
       "grid_row": null,
       "grid_template_areas": null,
       "grid_template_columns": null,
       "grid_template_rows": null,
       "height": null,
       "justify_content": null,
       "justify_items": null,
       "left": null,
       "margin": null,
       "max_height": null,
       "max_width": null,
       "min_height": null,
       "min_width": null,
       "object_fit": null,
       "object_position": null,
       "order": null,
       "overflow": null,
       "overflow_x": null,
       "overflow_y": null,
       "padding": null,
       "right": null,
       "top": null,
       "visibility": null,
       "width": null
      }
     },
     "19c6424dc22644d8a74013ce23acba51": {
      "model_module": "@jupyter-widgets/controls",
      "model_module_version": "1.5.0",
      "model_name": "HBoxModel",
      "state": {
       "_dom_classes": [],
       "_model_module": "@jupyter-widgets/controls",
       "_model_module_version": "1.5.0",
       "_model_name": "HBoxModel",
       "_view_count": null,
       "_view_module": "@jupyter-widgets/controls",
       "_view_module_version": "1.5.0",
       "_view_name": "HBoxView",
       "box_style": "",
       "children": [
        "IPY_MODEL_1c6102e50071419583828d5700ab2b2e",
        "IPY_MODEL_137e6c6fb4014498b7d1d0bb519c6e3d",
        "IPY_MODEL_1618717cc722441f82ff76522cf85bcc"
       ],
       "layout": "IPY_MODEL_1c9e1580c64e429395bf7df0c7bc8ebe"
      }
     },
     "19eea7bafd68491e9b1fc6021a9d1c6e": {
      "model_module": "@jupyter-widgets/controls",
      "model_module_version": "1.5.0",
      "model_name": "HTMLModel",
      "state": {
       "_dom_classes": [],
       "_model_module": "@jupyter-widgets/controls",
       "_model_module_version": "1.5.0",
       "_model_name": "HTMLModel",
       "_view_count": null,
       "_view_module": "@jupyter-widgets/controls",
       "_view_module_version": "1.5.0",
       "_view_name": "HTMLView",
       "description": "",
       "description_tooltip": null,
       "layout": "IPY_MODEL_5ab4ed87804f4c70bfd98b9bac26f718",
       "placeholder": "​",
       "style": "IPY_MODEL_2323e4841ac64b71a01e52679913922b",
       "value": "Resolving data files: 100%"
      }
     },
     "1a21259ba40f4c20baf7d112300ebad2": {
      "model_module": "@jupyter-widgets/base",
      "model_module_version": "1.2.0",
      "model_name": "LayoutModel",
      "state": {
       "_model_module": "@jupyter-widgets/base",
       "_model_module_version": "1.2.0",
       "_model_name": "LayoutModel",
       "_view_count": null,
       "_view_module": "@jupyter-widgets/base",
       "_view_module_version": "1.2.0",
       "_view_name": "LayoutView",
       "align_content": null,
       "align_items": null,
       "align_self": null,
       "border": null,
       "bottom": null,
       "display": null,
       "flex": null,
       "flex_flow": null,
       "grid_area": null,
       "grid_auto_columns": null,
       "grid_auto_flow": null,
       "grid_auto_rows": null,
       "grid_column": null,
       "grid_gap": null,
       "grid_row": null,
       "grid_template_areas": null,
       "grid_template_columns": null,
       "grid_template_rows": null,
       "height": null,
       "justify_content": null,
       "justify_items": null,
       "left": null,
       "margin": null,
       "max_height": null,
       "max_width": null,
       "min_height": null,
       "min_width": null,
       "object_fit": null,
       "object_position": null,
       "order": null,
       "overflow": null,
       "overflow_x": null,
       "overflow_y": null,
       "padding": null,
       "right": null,
       "top": null,
       "visibility": null,
       "width": null
      }
     },
     "1bd9d554c29a4eba9eefd816f42d993e": {
      "model_module": "@jupyter-widgets/controls",
      "model_module_version": "1.5.0",
      "model_name": "HTMLModel",
      "state": {
       "_dom_classes": [],
       "_model_module": "@jupyter-widgets/controls",
       "_model_module_version": "1.5.0",
       "_model_name": "HTMLModel",
       "_view_count": null,
       "_view_module": "@jupyter-widgets/controls",
       "_view_module_version": "1.5.0",
       "_view_name": "HTMLView",
       "description": "",
       "description_tooltip": null,
       "layout": "IPY_MODEL_cc9c694b8952455ca72e681fb524e9fd",
       "placeholder": "​",
       "style": "IPY_MODEL_59531bd7fcb04ab282b6adcbecb8b53f",
       "value": "data/train-00010-of-00017.parquet: 100%"
      }
     },
     "1c6102e50071419583828d5700ab2b2e": {
      "model_module": "@jupyter-widgets/controls",
      "model_module_version": "1.5.0",
      "model_name": "HTMLModel",
      "state": {
       "_dom_classes": [],
       "_model_module": "@jupyter-widgets/controls",
       "_model_module_version": "1.5.0",
       "_model_name": "HTMLModel",
       "_view_count": null,
       "_view_module": "@jupyter-widgets/controls",
       "_view_module_version": "1.5.0",
       "_view_name": "HTMLView",
       "description": "",
       "description_tooltip": null,
       "layout": "IPY_MODEL_0645604006774363883cba7a0857736b",
       "placeholder": "​",
       "style": "IPY_MODEL_14ea410848704a8a92776b432ac503de",
       "value": "Resolving data files: 100%"
      }
     },
     "1c9e1580c64e429395bf7df0c7bc8ebe": {
      "model_module": "@jupyter-widgets/base",
      "model_module_version": "1.2.0",
      "model_name": "LayoutModel",
      "state": {
       "_model_module": "@jupyter-widgets/base",
       "_model_module_version": "1.2.0",
       "_model_name": "LayoutModel",
       "_view_count": null,
       "_view_module": "@jupyter-widgets/base",
       "_view_module_version": "1.2.0",
       "_view_name": "LayoutView",
       "align_content": null,
       "align_items": null,
       "align_self": null,
       "border": null,
       "bottom": null,
       "display": null,
       "flex": null,
       "flex_flow": null,
       "grid_area": null,
       "grid_auto_columns": null,
       "grid_auto_flow": null,
       "grid_auto_rows": null,
       "grid_column": null,
       "grid_gap": null,
       "grid_row": null,
       "grid_template_areas": null,
       "grid_template_columns": null,
       "grid_template_rows": null,
       "height": null,
       "justify_content": null,
       "justify_items": null,
       "left": null,
       "margin": null,
       "max_height": null,
       "max_width": null,
       "min_height": null,
       "min_width": null,
       "object_fit": null,
       "object_position": null,
       "order": null,
       "overflow": null,
       "overflow_x": null,
       "overflow_y": null,
       "padding": null,
       "right": null,
       "top": null,
       "visibility": null,
       "width": null
      }
     },
     "1d568819a8224615963544b8f5c9a000": {
      "model_module": "@jupyter-widgets/base",
      "model_module_version": "1.2.0",
      "model_name": "LayoutModel",
      "state": {
       "_model_module": "@jupyter-widgets/base",
       "_model_module_version": "1.2.0",
       "_model_name": "LayoutModel",
       "_view_count": null,
       "_view_module": "@jupyter-widgets/base",
       "_view_module_version": "1.2.0",
       "_view_name": "LayoutView",
       "align_content": null,
       "align_items": null,
       "align_self": null,
       "border": null,
       "bottom": null,
       "display": null,
       "flex": null,
       "flex_flow": null,
       "grid_area": null,
       "grid_auto_columns": null,
       "grid_auto_flow": null,
       "grid_auto_rows": null,
       "grid_column": null,
       "grid_gap": null,
       "grid_row": null,
       "grid_template_areas": null,
       "grid_template_columns": null,
       "grid_template_rows": null,
       "height": null,
       "justify_content": null,
       "justify_items": null,
       "left": null,
       "margin": null,
       "max_height": null,
       "max_width": null,
       "min_height": null,
       "min_width": null,
       "object_fit": null,
       "object_position": null,
       "order": null,
       "overflow": null,
       "overflow_x": null,
       "overflow_y": null,
       "padding": null,
       "right": null,
       "top": null,
       "visibility": null,
       "width": null
      }
     },
     "1e83ef2393ad44bb80e046281b9ecfcb": {
      "model_module": "@jupyter-widgets/base",
      "model_module_version": "1.2.0",
      "model_name": "LayoutModel",
      "state": {
       "_model_module": "@jupyter-widgets/base",
       "_model_module_version": "1.2.0",
       "_model_name": "LayoutModel",
       "_view_count": null,
       "_view_module": "@jupyter-widgets/base",
       "_view_module_version": "1.2.0",
       "_view_name": "LayoutView",
       "align_content": null,
       "align_items": null,
       "align_self": null,
       "border": null,
       "bottom": null,
       "display": null,
       "flex": null,
       "flex_flow": null,
       "grid_area": null,
       "grid_auto_columns": null,
       "grid_auto_flow": null,
       "grid_auto_rows": null,
       "grid_column": null,
       "grid_gap": null,
       "grid_row": null,
       "grid_template_areas": null,
       "grid_template_columns": null,
       "grid_template_rows": null,
       "height": null,
       "justify_content": null,
       "justify_items": null,
       "left": null,
       "margin": null,
       "max_height": null,
       "max_width": null,
       "min_height": null,
       "min_width": null,
       "object_fit": null,
       "object_position": null,
       "order": null,
       "overflow": null,
       "overflow_x": null,
       "overflow_y": null,
       "padding": null,
       "right": null,
       "top": null,
       "visibility": null,
       "width": null
      }
     },
     "2323e4841ac64b71a01e52679913922b": {
      "model_module": "@jupyter-widgets/controls",
      "model_module_version": "1.5.0",
      "model_name": "DescriptionStyleModel",
      "state": {
       "_model_module": "@jupyter-widgets/controls",
       "_model_module_version": "1.5.0",
       "_model_name": "DescriptionStyleModel",
       "_view_count": null,
       "_view_module": "@jupyter-widgets/base",
       "_view_module_version": "1.2.0",
       "_view_name": "StyleView",
       "description_width": ""
      }
     },
     "251e3657ba154fc2820300f92bd183ba": {
      "model_module": "@jupyter-widgets/controls",
      "model_module_version": "1.5.0",
      "model_name": "ProgressStyleModel",
      "state": {
       "_model_module": "@jupyter-widgets/controls",
       "_model_module_version": "1.5.0",
       "_model_name": "ProgressStyleModel",
       "_view_count": null,
       "_view_module": "@jupyter-widgets/base",
       "_view_module_version": "1.2.0",
       "_view_name": "StyleView",
       "bar_color": null,
       "description_width": ""
      }
     },
     "27495688084e460da24a1c4fbc2480bc": {
      "model_module": "@jupyter-widgets/base",
      "model_module_version": "1.2.0",
      "model_name": "LayoutModel",
      "state": {
       "_model_module": "@jupyter-widgets/base",
       "_model_module_version": "1.2.0",
       "_model_name": "LayoutModel",
       "_view_count": null,
       "_view_module": "@jupyter-widgets/base",
       "_view_module_version": "1.2.0",
       "_view_name": "LayoutView",
       "align_content": null,
       "align_items": null,
       "align_self": null,
       "border": null,
       "bottom": null,
       "display": null,
       "flex": null,
       "flex_flow": null,
       "grid_area": null,
       "grid_auto_columns": null,
       "grid_auto_flow": null,
       "grid_auto_rows": null,
       "grid_column": null,
       "grid_gap": null,
       "grid_row": null,
       "grid_template_areas": null,
       "grid_template_columns": null,
       "grid_template_rows": null,
       "height": null,
       "justify_content": null,
       "justify_items": null,
       "left": null,
       "margin": null,
       "max_height": null,
       "max_width": null,
       "min_height": null,
       "min_width": null,
       "object_fit": null,
       "object_position": null,
       "order": null,
       "overflow": null,
       "overflow_x": null,
       "overflow_y": null,
       "padding": null,
       "right": null,
       "top": null,
       "visibility": null,
       "width": null
      }
     },
     "2a9086d8d1bc403b9d612ecf582f9c8f": {
      "model_module": "@jupyter-widgets/controls",
      "model_module_version": "1.5.0",
      "model_name": "DescriptionStyleModel",
      "state": {
       "_model_module": "@jupyter-widgets/controls",
       "_model_module_version": "1.5.0",
       "_model_name": "DescriptionStyleModel",
       "_view_count": null,
       "_view_module": "@jupyter-widgets/base",
       "_view_module_version": "1.2.0",
       "_view_name": "StyleView",
       "description_width": ""
      }
     },
     "2b263b209caa432fbd61735df777783f": {
      "model_module": "@jupyter-widgets/controls",
      "model_module_version": "1.5.0",
      "model_name": "FloatProgressModel",
      "state": {
       "_dom_classes": [],
       "_model_module": "@jupyter-widgets/controls",
       "_model_module_version": "1.5.0",
       "_model_name": "FloatProgressModel",
       "_view_count": null,
       "_view_module": "@jupyter-widgets/controls",
       "_view_module_version": "1.5.0",
       "_view_name": "ProgressView",
       "bar_style": "success",
       "description": "",
       "description_tooltip": null,
       "layout": "IPY_MODEL_fcbe0ba492124535892d5ae35c752127",
       "max": 5000,
       "min": 0,
       "orientation": "horizontal",
       "style": "IPY_MODEL_fbe2e7a7fe2d43b6af2b05e1882007b5",
       "value": 5000
      }
     },
     "2bbb63c69536438dba09e9c62293fd0e": {
      "model_module": "@jupyter-widgets/base",
      "model_module_version": "1.2.0",
      "model_name": "LayoutModel",
      "state": {
       "_model_module": "@jupyter-widgets/base",
       "_model_module_version": "1.2.0",
       "_model_name": "LayoutModel",
       "_view_count": null,
       "_view_module": "@jupyter-widgets/base",
       "_view_module_version": "1.2.0",
       "_view_name": "LayoutView",
       "align_content": null,
       "align_items": null,
       "align_self": null,
       "border": null,
       "bottom": null,
       "display": null,
       "flex": null,
       "flex_flow": null,
       "grid_area": null,
       "grid_auto_columns": null,
       "grid_auto_flow": null,
       "grid_auto_rows": null,
       "grid_column": null,
       "grid_gap": null,
       "grid_row": null,
       "grid_template_areas": null,
       "grid_template_columns": null,
       "grid_template_rows": null,
       "height": null,
       "justify_content": null,
       "justify_items": null,
       "left": null,
       "margin": null,
       "max_height": null,
       "max_width": null,
       "min_height": null,
       "min_width": null,
       "object_fit": null,
       "object_position": null,
       "order": null,
       "overflow": null,
       "overflow_x": null,
       "overflow_y": null,
       "padding": null,
       "right": null,
       "top": null,
       "visibility": null,
       "width": null
      }
     },
     "2bfae66fc43e4cd1a94b892c8356183a": {
      "model_module": "@jupyter-widgets/base",
      "model_module_version": "1.2.0",
      "model_name": "LayoutModel",
      "state": {
       "_model_module": "@jupyter-widgets/base",
       "_model_module_version": "1.2.0",
       "_model_name": "LayoutModel",
       "_view_count": null,
       "_view_module": "@jupyter-widgets/base",
       "_view_module_version": "1.2.0",
       "_view_name": "LayoutView",
       "align_content": null,
       "align_items": null,
       "align_self": null,
       "border": null,
       "bottom": null,
       "display": null,
       "flex": null,
       "flex_flow": null,
       "grid_area": null,
       "grid_auto_columns": null,
       "grid_auto_flow": null,
       "grid_auto_rows": null,
       "grid_column": null,
       "grid_gap": null,
       "grid_row": null,
       "grid_template_areas": null,
       "grid_template_columns": null,
       "grid_template_rows": null,
       "height": null,
       "justify_content": null,
       "justify_items": null,
       "left": null,
       "margin": null,
       "max_height": null,
       "max_width": null,
       "min_height": null,
       "min_width": null,
       "object_fit": null,
       "object_position": null,
       "order": null,
       "overflow": null,
       "overflow_x": null,
       "overflow_y": null,
       "padding": null,
       "right": null,
       "top": null,
       "visibility": null,
       "width": null
      }
     },
     "2c2d282efe8d4a24b25a09a48a8949bf": {
      "model_module": "@jupyter-widgets/base",
      "model_module_version": "1.2.0",
      "model_name": "LayoutModel",
      "state": {
       "_model_module": "@jupyter-widgets/base",
       "_model_module_version": "1.2.0",
       "_model_name": "LayoutModel",
       "_view_count": null,
       "_view_module": "@jupyter-widgets/base",
       "_view_module_version": "1.2.0",
       "_view_name": "LayoutView",
       "align_content": null,
       "align_items": null,
       "align_self": null,
       "border": null,
       "bottom": null,
       "display": null,
       "flex": null,
       "flex_flow": null,
       "grid_area": null,
       "grid_auto_columns": null,
       "grid_auto_flow": null,
       "grid_auto_rows": null,
       "grid_column": null,
       "grid_gap": null,
       "grid_row": null,
       "grid_template_areas": null,
       "grid_template_columns": null,
       "grid_template_rows": null,
       "height": null,
       "justify_content": null,
       "justify_items": null,
       "left": null,
       "margin": null,
       "max_height": null,
       "max_width": null,
       "min_height": null,
       "min_width": null,
       "object_fit": null,
       "object_position": null,
       "order": null,
       "overflow": null,
       "overflow_x": null,
       "overflow_y": null,
       "padding": null,
       "right": null,
       "top": null,
       "visibility": null,
       "width": null
      }
     },
     "2c2fb9a504184e3a849dfa5685026686": {
      "model_module": "@jupyter-widgets/controls",
      "model_module_version": "1.5.0",
      "model_name": "HTMLModel",
      "state": {
       "_dom_classes": [],
       "_model_module": "@jupyter-widgets/controls",
       "_model_module_version": "1.5.0",
       "_model_name": "HTMLModel",
       "_view_count": null,
       "_view_module": "@jupyter-widgets/controls",
       "_view_module_version": "1.5.0",
       "_view_name": "HTMLView",
       "description": "",
       "description_tooltip": null,
       "layout": "IPY_MODEL_ae83079a6483486bb6e187a2d56d2de7",
       "placeholder": "​",
       "style": "IPY_MODEL_850e4a676532465d9b9a6948f782fbbf",
       "value": "data/train-00009-of-00017.parquet: 100%"
      }
     },
     "2c9b2288143749a4aef81484ca5fc4ac": {
      "model_module": "@jupyter-widgets/base",
      "model_module_version": "1.2.0",
      "model_name": "LayoutModel",
      "state": {
       "_model_module": "@jupyter-widgets/base",
       "_model_module_version": "1.2.0",
       "_model_name": "LayoutModel",
       "_view_count": null,
       "_view_module": "@jupyter-widgets/base",
       "_view_module_version": "1.2.0",
       "_view_name": "LayoutView",
       "align_content": null,
       "align_items": null,
       "align_self": null,
       "border": null,
       "bottom": null,
       "display": null,
       "flex": null,
       "flex_flow": null,
       "grid_area": null,
       "grid_auto_columns": null,
       "grid_auto_flow": null,
       "grid_auto_rows": null,
       "grid_column": null,
       "grid_gap": null,
       "grid_row": null,
       "grid_template_areas": null,
       "grid_template_columns": null,
       "grid_template_rows": null,
       "height": null,
       "justify_content": null,
       "justify_items": null,
       "left": null,
       "margin": null,
       "max_height": null,
       "max_width": null,
       "min_height": null,
       "min_width": null,
       "object_fit": null,
       "object_position": null,
       "order": null,
       "overflow": null,
       "overflow_x": null,
       "overflow_y": null,
       "padding": null,
       "right": null,
       "top": null,
       "visibility": null,
       "width": null
      }
     },
     "2db811dd54544f40b838693053e4d239": {
      "model_module": "@jupyter-widgets/base",
      "model_module_version": "1.2.0",
      "model_name": "LayoutModel",
      "state": {
       "_model_module": "@jupyter-widgets/base",
       "_model_module_version": "1.2.0",
       "_model_name": "LayoutModel",
       "_view_count": null,
       "_view_module": "@jupyter-widgets/base",
       "_view_module_version": "1.2.0",
       "_view_name": "LayoutView",
       "align_content": null,
       "align_items": null,
       "align_self": null,
       "border": null,
       "bottom": null,
       "display": null,
       "flex": null,
       "flex_flow": null,
       "grid_area": null,
       "grid_auto_columns": null,
       "grid_auto_flow": null,
       "grid_auto_rows": null,
       "grid_column": null,
       "grid_gap": null,
       "grid_row": null,
       "grid_template_areas": null,
       "grid_template_columns": null,
       "grid_template_rows": null,
       "height": null,
       "justify_content": null,
       "justify_items": null,
       "left": null,
       "margin": null,
       "max_height": null,
       "max_width": null,
       "min_height": null,
       "min_width": null,
       "object_fit": null,
       "object_position": null,
       "order": null,
       "overflow": null,
       "overflow_x": null,
       "overflow_y": null,
       "padding": null,
       "right": null,
       "top": null,
       "visibility": null,
       "width": null
      }
     },
     "2e4a4348993a49d1b48a4b3fc8f5eb65": {
      "model_module": "@jupyter-widgets/controls",
      "model_module_version": "1.5.0",
      "model_name": "HTMLModel",
      "state": {
       "_dom_classes": [],
       "_model_module": "@jupyter-widgets/controls",
       "_model_module_version": "1.5.0",
       "_model_name": "HTMLModel",
       "_view_count": null,
       "_view_module": "@jupyter-widgets/controls",
       "_view_module_version": "1.5.0",
       "_view_name": "HTMLView",
       "description": "",
       "description_tooltip": null,
       "layout": "IPY_MODEL_d4f57b72b44d4d9dbc068ef3cbd31b9d",
       "placeholder": "​",
       "style": "IPY_MODEL_f02ffe8d0070467eb1ff19561e6754cd",
       "value": " 17/17 [00:00&lt;00:00,  3.89it/s]"
      }
     },
     "2e61ff6ae47846a98696274a06207187": {
      "model_module": "@jupyter-widgets/controls",
      "model_module_version": "1.5.0",
      "model_name": "FloatProgressModel",
      "state": {
       "_dom_classes": [],
       "_model_module": "@jupyter-widgets/controls",
       "_model_module_version": "1.5.0",
       "_model_name": "FloatProgressModel",
       "_view_count": null,
       "_view_module": "@jupyter-widgets/controls",
       "_view_module_version": "1.5.0",
       "_view_name": "ProgressView",
       "bar_style": "success",
       "description": "",
       "description_tooltip": null,
       "layout": "IPY_MODEL_731329b2eba442b9ad780d0f3fbacc9e",
       "max": 428892999,
       "min": 0,
       "orientation": "horizontal",
       "style": "IPY_MODEL_2f41238be3934d059875fbec6d59adb9",
       "value": 428892999
      }
     },
     "2edc6698168040daa6814c1c379ce287": {
      "model_module": "@jupyter-widgets/controls",
      "model_module_version": "1.5.0",
      "model_name": "HTMLModel",
      "state": {
       "_dom_classes": [],
       "_model_module": "@jupyter-widgets/controls",
       "_model_module_version": "1.5.0",
       "_model_name": "HTMLModel",
       "_view_count": null,
       "_view_module": "@jupyter-widgets/controls",
       "_view_module_version": "1.5.0",
       "_view_name": "HTMLView",
       "description": "",
       "description_tooltip": null,
       "layout": "IPY_MODEL_1e83ef2393ad44bb80e046281b9ecfcb",
       "placeholder": "​",
       "style": "IPY_MODEL_78159a49255d436e9292369509580634",
       "value": " 444M/444M [00:07&lt;00:00, 61.5MB/s]"
      }
     },
     "2f41238be3934d059875fbec6d59adb9": {
      "model_module": "@jupyter-widgets/controls",
      "model_module_version": "1.5.0",
      "model_name": "ProgressStyleModel",
      "state": {
       "_model_module": "@jupyter-widgets/controls",
       "_model_module_version": "1.5.0",
       "_model_name": "ProgressStyleModel",
       "_view_count": null,
       "_view_module": "@jupyter-widgets/base",
       "_view_module_version": "1.2.0",
       "_view_name": "StyleView",
       "bar_color": null,
       "description_width": ""
      }
     },
     "30220c22ec9f488b809e7282e9c12ba6": {
      "model_module": "@jupyter-widgets/controls",
      "model_module_version": "1.5.0",
      "model_name": "ProgressStyleModel",
      "state": {
       "_model_module": "@jupyter-widgets/controls",
       "_model_module_version": "1.5.0",
       "_model_name": "ProgressStyleModel",
       "_view_count": null,
       "_view_module": "@jupyter-widgets/base",
       "_view_module_version": "1.2.0",
       "_view_name": "StyleView",
       "bar_color": null,
       "description_width": ""
      }
     },
     "322b6ba39d9644a2bc56a310a893d616": {
      "model_module": "@jupyter-widgets/base",
      "model_module_version": "1.2.0",
      "model_name": "LayoutModel",
      "state": {
       "_model_module": "@jupyter-widgets/base",
       "_model_module_version": "1.2.0",
       "_model_name": "LayoutModel",
       "_view_count": null,
       "_view_module": "@jupyter-widgets/base",
       "_view_module_version": "1.2.0",
       "_view_name": "LayoutView",
       "align_content": null,
       "align_items": null,
       "align_self": null,
       "border": null,
       "bottom": null,
       "display": null,
       "flex": null,
       "flex_flow": null,
       "grid_area": null,
       "grid_auto_columns": null,
       "grid_auto_flow": null,
       "grid_auto_rows": null,
       "grid_column": null,
       "grid_gap": null,
       "grid_row": null,
       "grid_template_areas": null,
       "grid_template_columns": null,
       "grid_template_rows": null,
       "height": null,
       "justify_content": null,
       "justify_items": null,
       "left": null,
       "margin": null,
       "max_height": null,
       "max_width": null,
       "min_height": null,
       "min_width": null,
       "object_fit": null,
       "object_position": null,
       "order": null,
       "overflow": null,
       "overflow_x": null,
       "overflow_y": null,
       "padding": null,
       "right": null,
       "top": null,
       "visibility": null,
       "width": null
      }
     },
     "32cc380e8ffa4882945e7d8a71ae78c2": {
      "model_module": "@jupyter-widgets/base",
      "model_module_version": "1.2.0",
      "model_name": "LayoutModel",
      "state": {
       "_model_module": "@jupyter-widgets/base",
       "_model_module_version": "1.2.0",
       "_model_name": "LayoutModel",
       "_view_count": null,
       "_view_module": "@jupyter-widgets/base",
       "_view_module_version": "1.2.0",
       "_view_name": "LayoutView",
       "align_content": null,
       "align_items": null,
       "align_self": null,
       "border": null,
       "bottom": null,
       "display": null,
       "flex": null,
       "flex_flow": null,
       "grid_area": null,
       "grid_auto_columns": null,
       "grid_auto_flow": null,
       "grid_auto_rows": null,
       "grid_column": null,
       "grid_gap": null,
       "grid_row": null,
       "grid_template_areas": null,
       "grid_template_columns": null,
       "grid_template_rows": null,
       "height": null,
       "justify_content": null,
       "justify_items": null,
       "left": null,
       "margin": null,
       "max_height": null,
       "max_width": null,
       "min_height": null,
       "min_width": null,
       "object_fit": null,
       "object_position": null,
       "order": null,
       "overflow": null,
       "overflow_x": null,
       "overflow_y": null,
       "padding": null,
       "right": null,
       "top": null,
       "visibility": null,
       "width": null
      }
     },
     "33164dd7b8cd4bda8542014e4a6b7de7": {
      "model_module": "@jupyter-widgets/base",
      "model_module_version": "1.2.0",
      "model_name": "LayoutModel",
      "state": {
       "_model_module": "@jupyter-widgets/base",
       "_model_module_version": "1.2.0",
       "_model_name": "LayoutModel",
       "_view_count": null,
       "_view_module": "@jupyter-widgets/base",
       "_view_module_version": "1.2.0",
       "_view_name": "LayoutView",
       "align_content": null,
       "align_items": null,
       "align_self": null,
       "border": null,
       "bottom": null,
       "display": null,
       "flex": null,
       "flex_flow": null,
       "grid_area": null,
       "grid_auto_columns": null,
       "grid_auto_flow": null,
       "grid_auto_rows": null,
       "grid_column": null,
       "grid_gap": null,
       "grid_row": null,
       "grid_template_areas": null,
       "grid_template_columns": null,
       "grid_template_rows": null,
       "height": null,
       "justify_content": null,
       "justify_items": null,
       "left": null,
       "margin": null,
       "max_height": null,
       "max_width": null,
       "min_height": null,
       "min_width": null,
       "object_fit": null,
       "object_position": null,
       "order": null,
       "overflow": null,
       "overflow_x": null,
       "overflow_y": null,
       "padding": null,
       "right": null,
       "top": null,
       "visibility": null,
       "width": null
      }
     },
     "33e2aaf19cc6470c8de24a999c092d3d": {
      "model_module": "@jupyter-widgets/controls",
      "model_module_version": "1.5.0",
      "model_name": "HBoxModel",
      "state": {
       "_dom_classes": [],
       "_model_module": "@jupyter-widgets/controls",
       "_model_module_version": "1.5.0",
       "_model_name": "HBoxModel",
       "_view_count": null,
       "_view_module": "@jupyter-widgets/controls",
       "_view_module_version": "1.5.0",
       "_view_name": "HBoxView",
       "box_style": "",
       "children": [
        "IPY_MODEL_7b3e0f26826a48619cfa8f56f3dac0b2",
        "IPY_MODEL_78597307e09b490687255c83241ce2a2",
        "IPY_MODEL_df40e293ff6141bdaac289f2c2b0636f"
       ],
       "layout": "IPY_MODEL_2bfae66fc43e4cd1a94b892c8356183a"
      }
     },
     "3564d83f87de46319d3a448d75b08c94": {
      "model_module": "@jupyter-widgets/controls",
      "model_module_version": "1.5.0",
      "model_name": "DescriptionStyleModel",
      "state": {
       "_model_module": "@jupyter-widgets/controls",
       "_model_module_version": "1.5.0",
       "_model_name": "DescriptionStyleModel",
       "_view_count": null,
       "_view_module": "@jupyter-widgets/base",
       "_view_module_version": "1.2.0",
       "_view_name": "StyleView",
       "description_width": ""
      }
     },
     "3591a44abaae4d4bbc68e1ea504ca2dd": {
      "model_module": "@jupyter-widgets/controls",
      "model_module_version": "1.5.0",
      "model_name": "HTMLModel",
      "state": {
       "_dom_classes": [],
       "_model_module": "@jupyter-widgets/controls",
       "_model_module_version": "1.5.0",
       "_model_name": "HTMLModel",
       "_view_count": null,
       "_view_module": "@jupyter-widgets/controls",
       "_view_module_version": "1.5.0",
       "_view_name": "HTMLView",
       "description": "",
       "description_tooltip": null,
       "layout": "IPY_MODEL_2c9b2288143749a4aef81484ca5fc4ac",
       "placeholder": "​",
       "style": "IPY_MODEL_eae5188429534a8dab4b3ed6b81c3caf",
       "value": " 429M/429M [00:07&lt;00:00, 91.2MB/s]"
      }
     },
     "38b46fb7b0c94270bfe20083d400fb1b": {
      "model_module": "@jupyter-widgets/base",
      "model_module_version": "1.2.0",
      "model_name": "LayoutModel",
      "state": {
       "_model_module": "@jupyter-widgets/base",
       "_model_module_version": "1.2.0",
       "_model_name": "LayoutModel",
       "_view_count": null,
       "_view_module": "@jupyter-widgets/base",
       "_view_module_version": "1.2.0",
       "_view_name": "LayoutView",
       "align_content": null,
       "align_items": null,
       "align_self": null,
       "border": null,
       "bottom": null,
       "display": null,
       "flex": null,
       "flex_flow": null,
       "grid_area": null,
       "grid_auto_columns": null,
       "grid_auto_flow": null,
       "grid_auto_rows": null,
       "grid_column": null,
       "grid_gap": null,
       "grid_row": null,
       "grid_template_areas": null,
       "grid_template_columns": null,
       "grid_template_rows": null,
       "height": null,
       "justify_content": null,
       "justify_items": null,
       "left": null,
       "margin": null,
       "max_height": null,
       "max_width": null,
       "min_height": null,
       "min_width": null,
       "object_fit": null,
       "object_position": null,
       "order": null,
       "overflow": null,
       "overflow_x": null,
       "overflow_y": null,
       "padding": null,
       "right": null,
       "top": null,
       "visibility": null,
       "width": null
      }
     },
     "399e840b96ed40dd8cb456a8448a825d": {
      "model_module": "@jupyter-widgets/controls",
      "model_module_version": "1.5.0",
      "model_name": "HBoxModel",
      "state": {
       "_dom_classes": [],
       "_model_module": "@jupyter-widgets/controls",
       "_model_module_version": "1.5.0",
       "_model_name": "HBoxModel",
       "_view_count": null,
       "_view_module": "@jupyter-widgets/controls",
       "_view_module_version": "1.5.0",
       "_view_name": "HBoxView",
       "box_style": "",
       "children": [
        "IPY_MODEL_15019c2b5a7b4cdfaf8be44a819c8df3",
        "IPY_MODEL_42ff8f38cfa740e1b38fac9e415bc96f",
        "IPY_MODEL_a86eb39772de4d8a936cde5b14589453"
       ],
       "layout": "IPY_MODEL_38b46fb7b0c94270bfe20083d400fb1b"
      }
     },
     "3a382e3f85434aef9069c050bb99c5cf": {
      "model_module": "@jupyter-widgets/controls",
      "model_module_version": "1.5.0",
      "model_name": "HTMLModel",
      "state": {
       "_dom_classes": [],
       "_model_module": "@jupyter-widgets/controls",
       "_model_module_version": "1.5.0",
       "_model_name": "HTMLModel",
       "_view_count": null,
       "_view_module": "@jupyter-widgets/controls",
       "_view_module_version": "1.5.0",
       "_view_name": "HTMLView",
       "description": "",
       "description_tooltip": null,
       "layout": "IPY_MODEL_2bbb63c69536438dba09e9c62293fd0e",
       "placeholder": "​",
       "style": "IPY_MODEL_7de66f7c9d194e9fa60402ac8c12f8a5",
       "value": "data/train-00011-of-00017.parquet: 100%"
      }
     },
     "3b91cb9c07e64afba40586b65ec85209": {
      "model_module": "@jupyter-widgets/controls",
      "model_module_version": "1.5.0",
      "model_name": "ProgressStyleModel",
      "state": {
       "_model_module": "@jupyter-widgets/controls",
       "_model_module_version": "1.5.0",
       "_model_name": "ProgressStyleModel",
       "_view_count": null,
       "_view_module": "@jupyter-widgets/base",
       "_view_module_version": "1.2.0",
       "_view_name": "StyleView",
       "bar_color": null,
       "description_width": ""
      }
     },
     "402bce810f074a0aa84778a030b662fa": {
      "model_module": "@jupyter-widgets/controls",
      "model_module_version": "1.5.0",
      "model_name": "ProgressStyleModel",
      "state": {
       "_model_module": "@jupyter-widgets/controls",
       "_model_module_version": "1.5.0",
       "_model_name": "ProgressStyleModel",
       "_view_count": null,
       "_view_module": "@jupyter-widgets/base",
       "_view_module_version": "1.2.0",
       "_view_name": "StyleView",
       "bar_color": null,
       "description_width": ""
      }
     },
     "41cf74ae16d54736a50c0a5a77fc16eb": {
      "model_module": "@jupyter-widgets/base",
      "model_module_version": "1.2.0",
      "model_name": "LayoutModel",
      "state": {
       "_model_module": "@jupyter-widgets/base",
       "_model_module_version": "1.2.0",
       "_model_name": "LayoutModel",
       "_view_count": null,
       "_view_module": "@jupyter-widgets/base",
       "_view_module_version": "1.2.0",
       "_view_name": "LayoutView",
       "align_content": null,
       "align_items": null,
       "align_self": null,
       "border": null,
       "bottom": null,
       "display": null,
       "flex": null,
       "flex_flow": null,
       "grid_area": null,
       "grid_auto_columns": null,
       "grid_auto_flow": null,
       "grid_auto_rows": null,
       "grid_column": null,
       "grid_gap": null,
       "grid_row": null,
       "grid_template_areas": null,
       "grid_template_columns": null,
       "grid_template_rows": null,
       "height": null,
       "justify_content": null,
       "justify_items": null,
       "left": null,
       "margin": null,
       "max_height": null,
       "max_width": null,
       "min_height": null,
       "min_width": null,
       "object_fit": null,
       "object_position": null,
       "order": null,
       "overflow": null,
       "overflow_x": null,
       "overflow_y": null,
       "padding": null,
       "right": null,
       "top": null,
       "visibility": null,
       "width": null
      }
     },
     "42ff8f38cfa740e1b38fac9e415bc96f": {
      "model_module": "@jupyter-widgets/controls",
      "model_module_version": "1.5.0",
      "model_name": "FloatProgressModel",
      "state": {
       "_dom_classes": [],
       "_model_module": "@jupyter-widgets/controls",
       "_model_module_version": "1.5.0",
       "_model_name": "FloatProgressModel",
       "_view_count": null,
       "_view_module": "@jupyter-widgets/controls",
       "_view_module_version": "1.5.0",
       "_view_name": "ProgressView",
       "bar_style": "success",
       "description": "",
       "description_tooltip": null,
       "layout": "IPY_MODEL_93b5487de03d44d59b62cca537fe853f",
       "max": 468946744,
       "min": 0,
       "orientation": "horizontal",
       "style": "IPY_MODEL_af96e34092b5480c872cd11064e22f7a",
       "value": 468946744
      }
     },
     "43d5fd2ad5274af3923bfe2139fc01f3": {
      "model_module": "@jupyter-widgets/base",
      "model_module_version": "1.2.0",
      "model_name": "LayoutModel",
      "state": {
       "_model_module": "@jupyter-widgets/base",
       "_model_module_version": "1.2.0",
       "_model_name": "LayoutModel",
       "_view_count": null,
       "_view_module": "@jupyter-widgets/base",
       "_view_module_version": "1.2.0",
       "_view_name": "LayoutView",
       "align_content": null,
       "align_items": null,
       "align_self": null,
       "border": null,
       "bottom": null,
       "display": null,
       "flex": null,
       "flex_flow": null,
       "grid_area": null,
       "grid_auto_columns": null,
       "grid_auto_flow": null,
       "grid_auto_rows": null,
       "grid_column": null,
       "grid_gap": null,
       "grid_row": null,
       "grid_template_areas": null,
       "grid_template_columns": null,
       "grid_template_rows": null,
       "height": null,
       "justify_content": null,
       "justify_items": null,
       "left": null,
       "margin": null,
       "max_height": null,
       "max_width": null,
       "min_height": null,
       "min_width": null,
       "object_fit": null,
       "object_position": null,
       "order": null,
       "overflow": null,
       "overflow_x": null,
       "overflow_y": null,
       "padding": null,
       "right": null,
       "top": null,
       "visibility": null,
       "width": null
      }
     },
     "43ef784942634e1095200141fa6b8a87": {
      "model_module": "@jupyter-widgets/controls",
      "model_module_version": "1.5.0",
      "model_name": "FloatProgressModel",
      "state": {
       "_dom_classes": [],
       "_model_module": "@jupyter-widgets/controls",
       "_model_module_version": "1.5.0",
       "_model_name": "FloatProgressModel",
       "_view_count": null,
       "_view_module": "@jupyter-widgets/controls",
       "_view_module_version": "1.5.0",
       "_view_name": "ProgressView",
       "bar_style": "success",
       "description": "",
       "description_tooltip": null,
       "layout": "IPY_MODEL_6593152c57c4447e97d4699336e05370",
       "max": 456787294,
       "min": 0,
       "orientation": "horizontal",
       "style": "IPY_MODEL_3b91cb9c07e64afba40586b65ec85209",
       "value": 456787294
      }
     },
     "43ff80c003cf4617b452faead481fb7e": {
      "model_module": "@jupyter-widgets/controls",
      "model_module_version": "1.5.0",
      "model_name": "DescriptionStyleModel",
      "state": {
       "_model_module": "@jupyter-widgets/controls",
       "_model_module_version": "1.5.0",
       "_model_name": "DescriptionStyleModel",
       "_view_count": null,
       "_view_module": "@jupyter-widgets/base",
       "_view_module_version": "1.2.0",
       "_view_name": "StyleView",
       "description_width": ""
      }
     },
     "4548f9b583e0407fb9a20ba109a341eb": {
      "model_module": "@jupyter-widgets/controls",
      "model_module_version": "1.5.0",
      "model_name": "DescriptionStyleModel",
      "state": {
       "_model_module": "@jupyter-widgets/controls",
       "_model_module_version": "1.5.0",
       "_model_name": "DescriptionStyleModel",
       "_view_count": null,
       "_view_module": "@jupyter-widgets/base",
       "_view_module_version": "1.2.0",
       "_view_name": "StyleView",
       "description_width": ""
      }
     },
     "4823106a32bc4feaa5333bf22c5d5924": {
      "model_module": "@jupyter-widgets/controls",
      "model_module_version": "1.5.0",
      "model_name": "HTMLModel",
      "state": {
       "_dom_classes": [],
       "_model_module": "@jupyter-widgets/controls",
       "_model_module_version": "1.5.0",
       "_model_name": "HTMLModel",
       "_view_count": null,
       "_view_module": "@jupyter-widgets/controls",
       "_view_module_version": "1.5.0",
       "_view_name": "HTMLView",
       "description": "",
       "description_tooltip": null,
       "layout": "IPY_MODEL_5a70c1ce559e43bead3070b16b545b59",
       "placeholder": "​",
       "style": "IPY_MODEL_5999bc0212eb4825824890288306012d",
       "value": " 314M/314M [00:05&lt;00:00, 76.1MB/s]"
      }
     },
     "4953bcdb7bca4d4f9b689411eaef825e": {
      "model_module": "@jupyter-widgets/controls",
      "model_module_version": "1.5.0",
      "model_name": "FloatProgressModel",
      "state": {
       "_dom_classes": [],
       "_model_module": "@jupyter-widgets/controls",
       "_model_module_version": "1.5.0",
       "_model_name": "FloatProgressModel",
       "_view_count": null,
       "_view_module": "@jupyter-widgets/controls",
       "_view_module_version": "1.5.0",
       "_view_name": "ProgressView",
       "bar_style": "success",
       "description": "",
       "description_tooltip": null,
       "layout": "IPY_MODEL_bff5f600a3ac49869316beb26cead3d0",
       "max": 473219287,
       "min": 0,
       "orientation": "horizontal",
       "style": "IPY_MODEL_402bce810f074a0aa84778a030b662fa",
       "value": 473219287
      }
     },
     "49eab3d122004137a8393056d6213a2b": {
      "model_module": "@jupyter-widgets/controls",
      "model_module_version": "1.5.0",
      "model_name": "FloatProgressModel",
      "state": {
       "_dom_classes": [],
       "_model_module": "@jupyter-widgets/controls",
       "_model_module_version": "1.5.0",
       "_model_name": "FloatProgressModel",
       "_view_count": null,
       "_view_module": "@jupyter-widgets/controls",
       "_view_module_version": "1.5.0",
       "_view_name": "ProgressView",
       "bar_style": "success",
       "description": "",
       "description_tooltip": null,
       "layout": "IPY_MODEL_1552dbd2ba5d4f8ea7e2fdcaa25a771a",
       "max": 468367888,
       "min": 0,
       "orientation": "horizontal",
       "style": "IPY_MODEL_63bbf3a6bee94a998648c5eb33a0278b",
       "value": 468367888
      }
     },
     "4a6bd2e8da7a4e05a6bb5ec4f16b7861": {
      "model_module": "@jupyter-widgets/controls",
      "model_module_version": "1.5.0",
      "model_name": "FloatProgressModel",
      "state": {
       "_dom_classes": [],
       "_model_module": "@jupyter-widgets/controls",
       "_model_module_version": "1.5.0",
       "_model_name": "FloatProgressModel",
       "_view_count": null,
       "_view_module": "@jupyter-widgets/controls",
       "_view_module_version": "1.5.0",
       "_view_name": "ProgressView",
       "bar_style": "success",
       "description": "",
       "description_tooltip": null,
       "layout": "IPY_MODEL_8139e2ea57264637a2682a164b05c275",
       "max": 470538861,
       "min": 0,
       "orientation": "horizontal",
       "style": "IPY_MODEL_73caf0579760479d883d3b2a1556815e",
       "value": 470538861
      }
     },
     "4ba583bbdfc948668f7e7764b5ffaa45": {
      "model_module": "@jupyter-widgets/controls",
      "model_module_version": "1.5.0",
      "model_name": "ProgressStyleModel",
      "state": {
       "_model_module": "@jupyter-widgets/controls",
       "_model_module_version": "1.5.0",
       "_model_name": "ProgressStyleModel",
       "_view_count": null,
       "_view_module": "@jupyter-widgets/base",
       "_view_module_version": "1.2.0",
       "_view_name": "StyleView",
       "bar_color": null,
       "description_width": ""
      }
     },
     "4be387b8feab483fb78dc8a582641560": {
      "model_module": "@jupyter-widgets/controls",
      "model_module_version": "1.5.0",
      "model_name": "FloatProgressModel",
      "state": {
       "_dom_classes": [],
       "_model_module": "@jupyter-widgets/controls",
       "_model_module_version": "1.5.0",
       "_model_name": "FloatProgressModel",
       "_view_count": null,
       "_view_module": "@jupyter-widgets/controls",
       "_view_module_version": "1.5.0",
       "_view_name": "ProgressView",
       "bar_style": "success",
       "description": "",
       "description_tooltip": null,
       "layout": "IPY_MODEL_032f722e47f64a76ada10d22f49be6c9",
       "max": 17,
       "min": 0,
       "orientation": "horizontal",
       "style": "IPY_MODEL_76ea677b988c4b0f942b1d5e3e4b694d",
       "value": 17
      }
     },
     "4c017640c0ec41709ad2a88b6e519231": {
      "model_module": "@jupyter-widgets/controls",
      "model_module_version": "1.5.0",
      "model_name": "HTMLModel",
      "state": {
       "_dom_classes": [],
       "_model_module": "@jupyter-widgets/controls",
       "_model_module_version": "1.5.0",
       "_model_name": "HTMLModel",
       "_view_count": null,
       "_view_module": "@jupyter-widgets/controls",
       "_view_module_version": "1.5.0",
       "_view_name": "HTMLView",
       "description": "",
       "description_tooltip": null,
       "layout": "IPY_MODEL_fad7e8ee48884175a49b2583d8073cfe",
       "placeholder": "​",
       "style": "IPY_MODEL_beb4f40043464ecfaecf198945ad61a1",
       "value": " 488M/488M [00:06&lt;00:00, 94.0MB/s]"
      }
     },
     "4c2077c85a8e449eb7876274732d9f4c": {
      "model_module": "@jupyter-widgets/base",
      "model_module_version": "1.2.0",
      "model_name": "LayoutModel",
      "state": {
       "_model_module": "@jupyter-widgets/base",
       "_model_module_version": "1.2.0",
       "_model_name": "LayoutModel",
       "_view_count": null,
       "_view_module": "@jupyter-widgets/base",
       "_view_module_version": "1.2.0",
       "_view_name": "LayoutView",
       "align_content": null,
       "align_items": null,
       "align_self": null,
       "border": null,
       "bottom": null,
       "display": null,
       "flex": null,
       "flex_flow": null,
       "grid_area": null,
       "grid_auto_columns": null,
       "grid_auto_flow": null,
       "grid_auto_rows": null,
       "grid_column": null,
       "grid_gap": null,
       "grid_row": null,
       "grid_template_areas": null,
       "grid_template_columns": null,
       "grid_template_rows": null,
       "height": null,
       "justify_content": null,
       "justify_items": null,
       "left": null,
       "margin": null,
       "max_height": null,
       "max_width": null,
       "min_height": null,
       "min_width": null,
       "object_fit": null,
       "object_position": null,
       "order": null,
       "overflow": null,
       "overflow_x": null,
       "overflow_y": null,
       "padding": null,
       "right": null,
       "top": null,
       "visibility": null,
       "width": null
      }
     },
     "4d41a2c7df6843ebaa814ae9c4ab91bf": {
      "model_module": "@jupyter-widgets/controls",
      "model_module_version": "1.5.0",
      "model_name": "ProgressStyleModel",
      "state": {
       "_model_module": "@jupyter-widgets/controls",
       "_model_module_version": "1.5.0",
       "_model_name": "ProgressStyleModel",
       "_view_count": null,
       "_view_module": "@jupyter-widgets/base",
       "_view_module_version": "1.2.0",
       "_view_name": "StyleView",
       "bar_color": null,
       "description_width": ""
      }
     },
     "4dba99875c934cbb95e8691fd72430c4": {
      "model_module": "@jupyter-widgets/base",
      "model_module_version": "1.2.0",
      "model_name": "LayoutModel",
      "state": {
       "_model_module": "@jupyter-widgets/base",
       "_model_module_version": "1.2.0",
       "_model_name": "LayoutModel",
       "_view_count": null,
       "_view_module": "@jupyter-widgets/base",
       "_view_module_version": "1.2.0",
       "_view_name": "LayoutView",
       "align_content": null,
       "align_items": null,
       "align_self": null,
       "border": null,
       "bottom": null,
       "display": null,
       "flex": null,
       "flex_flow": null,
       "grid_area": null,
       "grid_auto_columns": null,
       "grid_auto_flow": null,
       "grid_auto_rows": null,
       "grid_column": null,
       "grid_gap": null,
       "grid_row": null,
       "grid_template_areas": null,
       "grid_template_columns": null,
       "grid_template_rows": null,
       "height": null,
       "justify_content": null,
       "justify_items": null,
       "left": null,
       "margin": null,
       "max_height": null,
       "max_width": null,
       "min_height": null,
       "min_width": null,
       "object_fit": null,
       "object_position": null,
       "order": null,
       "overflow": null,
       "overflow_x": null,
       "overflow_y": null,
       "padding": null,
       "right": null,
       "top": null,
       "visibility": null,
       "width": null
      }
     },
     "4ea9097ae8274237b463c8cca1962cd7": {
      "model_module": "@jupyter-widgets/base",
      "model_module_version": "1.2.0",
      "model_name": "LayoutModel",
      "state": {
       "_model_module": "@jupyter-widgets/base",
       "_model_module_version": "1.2.0",
       "_model_name": "LayoutModel",
       "_view_count": null,
       "_view_module": "@jupyter-widgets/base",
       "_view_module_version": "1.2.0",
       "_view_name": "LayoutView",
       "align_content": null,
       "align_items": null,
       "align_self": null,
       "border": null,
       "bottom": null,
       "display": null,
       "flex": null,
       "flex_flow": null,
       "grid_area": null,
       "grid_auto_columns": null,
       "grid_auto_flow": null,
       "grid_auto_rows": null,
       "grid_column": null,
       "grid_gap": null,
       "grid_row": null,
       "grid_template_areas": null,
       "grid_template_columns": null,
       "grid_template_rows": null,
       "height": null,
       "justify_content": null,
       "justify_items": null,
       "left": null,
       "margin": null,
       "max_height": null,
       "max_width": null,
       "min_height": null,
       "min_width": null,
       "object_fit": null,
       "object_position": null,
       "order": null,
       "overflow": null,
       "overflow_x": null,
       "overflow_y": null,
       "padding": null,
       "right": null,
       "top": null,
       "visibility": null,
       "width": null
      }
     },
     "50c501a7afc74b3e889632371c40c76a": {
      "model_module": "@jupyter-widgets/base",
      "model_module_version": "1.2.0",
      "model_name": "LayoutModel",
      "state": {
       "_model_module": "@jupyter-widgets/base",
       "_model_module_version": "1.2.0",
       "_model_name": "LayoutModel",
       "_view_count": null,
       "_view_module": "@jupyter-widgets/base",
       "_view_module_version": "1.2.0",
       "_view_name": "LayoutView",
       "align_content": null,
       "align_items": null,
       "align_self": null,
       "border": null,
       "bottom": null,
       "display": null,
       "flex": null,
       "flex_flow": null,
       "grid_area": null,
       "grid_auto_columns": null,
       "grid_auto_flow": null,
       "grid_auto_rows": null,
       "grid_column": null,
       "grid_gap": null,
       "grid_row": null,
       "grid_template_areas": null,
       "grid_template_columns": null,
       "grid_template_rows": null,
       "height": null,
       "justify_content": null,
       "justify_items": null,
       "left": null,
       "margin": null,
       "max_height": null,
       "max_width": null,
       "min_height": null,
       "min_width": null,
       "object_fit": null,
       "object_position": null,
       "order": null,
       "overflow": null,
       "overflow_x": null,
       "overflow_y": null,
       "padding": null,
       "right": null,
       "top": null,
       "visibility": null,
       "width": null
      }
     },
     "50f9e457d9ea4b2c8dd3c637bb5adf7d": {
      "model_module": "@jupyter-widgets/controls",
      "model_module_version": "1.5.0",
      "model_name": "HBoxModel",
      "state": {
       "_dom_classes": [],
       "_model_module": "@jupyter-widgets/controls",
       "_model_module_version": "1.5.0",
       "_model_name": "HBoxModel",
       "_view_count": null,
       "_view_module": "@jupyter-widgets/controls",
       "_view_module_version": "1.5.0",
       "_view_name": "HBoxView",
       "box_style": "",
       "children": [
        "IPY_MODEL_5d8dd04893a448cdbb0951de3282d02f",
        "IPY_MODEL_49eab3d122004137a8393056d6213a2b",
        "IPY_MODEL_6a714cb0839e49e59672a589dc0069cc"
       ],
       "layout": "IPY_MODEL_a3e527c904554505b899bb06698f917a"
      }
     },
     "5127d75b1940498bbd0b5ca8d4436bec": {
      "model_module": "@jupyter-widgets/controls",
      "model_module_version": "1.5.0",
      "model_name": "HBoxModel",
      "state": {
       "_dom_classes": [],
       "_model_module": "@jupyter-widgets/controls",
       "_model_module_version": "1.5.0",
       "_model_name": "HBoxModel",
       "_view_count": null,
       "_view_module": "@jupyter-widgets/controls",
       "_view_module_version": "1.5.0",
       "_view_name": "HBoxView",
       "box_style": "",
       "children": [
        "IPY_MODEL_14cc184f528f460c9c38faca119737c1",
        "IPY_MODEL_0c3347133dec4ce5955059a7dd00a7b2",
        "IPY_MODEL_71f0adae3e66447fa76b006213d98562"
       ],
       "layout": "IPY_MODEL_e0c32379f64a4af38e5a1ba656366e52"
      }
     },
     "54183c738e77416c9b31dbc4ef3f2396": {
      "model_module": "@jupyter-widgets/controls",
      "model_module_version": "1.5.0",
      "model_name": "DescriptionStyleModel",
      "state": {
       "_model_module": "@jupyter-widgets/controls",
       "_model_module_version": "1.5.0",
       "_model_name": "DescriptionStyleModel",
       "_view_count": null,
       "_view_module": "@jupyter-widgets/base",
       "_view_module_version": "1.2.0",
       "_view_name": "StyleView",
       "description_width": ""
      }
     },
     "54eed88ec22d4173991c90d9050b471c": {
      "model_module": "@jupyter-widgets/base",
      "model_module_version": "1.2.0",
      "model_name": "LayoutModel",
      "state": {
       "_model_module": "@jupyter-widgets/base",
       "_model_module_version": "1.2.0",
       "_model_name": "LayoutModel",
       "_view_count": null,
       "_view_module": "@jupyter-widgets/base",
       "_view_module_version": "1.2.0",
       "_view_name": "LayoutView",
       "align_content": null,
       "align_items": null,
       "align_self": null,
       "border": null,
       "bottom": null,
       "display": null,
       "flex": null,
       "flex_flow": null,
       "grid_area": null,
       "grid_auto_columns": null,
       "grid_auto_flow": null,
       "grid_auto_rows": null,
       "grid_column": null,
       "grid_gap": null,
       "grid_row": null,
       "grid_template_areas": null,
       "grid_template_columns": null,
       "grid_template_rows": null,
       "height": null,
       "justify_content": null,
       "justify_items": null,
       "left": null,
       "margin": null,
       "max_height": null,
       "max_width": null,
       "min_height": null,
       "min_width": null,
       "object_fit": null,
       "object_position": null,
       "order": null,
       "overflow": null,
       "overflow_x": null,
       "overflow_y": null,
       "padding": null,
       "right": null,
       "top": null,
       "visibility": null,
       "width": null
      }
     },
     "55b7a7656cf84ab5bf0dddcca07861d7": {
      "model_module": "@jupyter-widgets/controls",
      "model_module_version": "1.5.0",
      "model_name": "ProgressStyleModel",
      "state": {
       "_model_module": "@jupyter-widgets/controls",
       "_model_module_version": "1.5.0",
       "_model_name": "ProgressStyleModel",
       "_view_count": null,
       "_view_module": "@jupyter-widgets/base",
       "_view_module_version": "1.2.0",
       "_view_name": "StyleView",
       "bar_color": null,
       "description_width": ""
      }
     },
     "55d3b2c1dc9148dc8d50f63b866bb2a6": {
      "model_module": "@jupyter-widgets/controls",
      "model_module_version": "1.5.0",
      "model_name": "DescriptionStyleModel",
      "state": {
       "_model_module": "@jupyter-widgets/controls",
       "_model_module_version": "1.5.0",
       "_model_name": "DescriptionStyleModel",
       "_view_count": null,
       "_view_module": "@jupyter-widgets/base",
       "_view_module_version": "1.2.0",
       "_view_name": "StyleView",
       "description_width": ""
      }
     },
     "5679d03cf4494bb782aa4f22d8152600": {
      "model_module": "@jupyter-widgets/controls",
      "model_module_version": "1.5.0",
      "model_name": "DescriptionStyleModel",
      "state": {
       "_model_module": "@jupyter-widgets/controls",
       "_model_module_version": "1.5.0",
       "_model_name": "DescriptionStyleModel",
       "_view_count": null,
       "_view_module": "@jupyter-widgets/base",
       "_view_module_version": "1.2.0",
       "_view_name": "StyleView",
       "description_width": ""
      }
     },
     "58748d49bf284800b2ff6ba3d6ecd274": {
      "model_module": "@jupyter-widgets/controls",
      "model_module_version": "1.5.0",
      "model_name": "HTMLModel",
      "state": {
       "_dom_classes": [],
       "_model_module": "@jupyter-widgets/controls",
       "_model_module_version": "1.5.0",
       "_model_name": "HTMLModel",
       "_view_count": null,
       "_view_module": "@jupyter-widgets/controls",
       "_view_module_version": "1.5.0",
       "_view_name": "HTMLView",
       "description": "",
       "description_tooltip": null,
       "layout": "IPY_MODEL_d38ed0aac71a4a5786daace189351fe6",
       "placeholder": "​",
       "style": "IPY_MODEL_1000874b185b47aeab08113009a9d459",
       "value": " 17/17 [02:22&lt;00:00,  9.22s/files]"
      }
     },
     "58c0d9d1354543ba86ca8f70f320bdd3": {
      "model_module": "@jupyter-widgets/controls",
      "model_module_version": "1.5.0",
      "model_name": "DescriptionStyleModel",
      "state": {
       "_model_module": "@jupyter-widgets/controls",
       "_model_module_version": "1.5.0",
       "_model_name": "DescriptionStyleModel",
       "_view_count": null,
       "_view_module": "@jupyter-widgets/base",
       "_view_module_version": "1.2.0",
       "_view_name": "StyleView",
       "description_width": ""
      }
     },
     "59531bd7fcb04ab282b6adcbecb8b53f": {
      "model_module": "@jupyter-widgets/controls",
      "model_module_version": "1.5.0",
      "model_name": "DescriptionStyleModel",
      "state": {
       "_model_module": "@jupyter-widgets/controls",
       "_model_module_version": "1.5.0",
       "_model_name": "DescriptionStyleModel",
       "_view_count": null,
       "_view_module": "@jupyter-widgets/base",
       "_view_module_version": "1.2.0",
       "_view_name": "StyleView",
       "description_width": ""
      }
     },
     "5999bc0212eb4825824890288306012d": {
      "model_module": "@jupyter-widgets/controls",
      "model_module_version": "1.5.0",
      "model_name": "DescriptionStyleModel",
      "state": {
       "_model_module": "@jupyter-widgets/controls",
       "_model_module_version": "1.5.0",
       "_model_name": "DescriptionStyleModel",
       "_view_count": null,
       "_view_module": "@jupyter-widgets/base",
       "_view_module_version": "1.2.0",
       "_view_name": "StyleView",
       "description_width": ""
      }
     },
     "5a70c1ce559e43bead3070b16b545b59": {
      "model_module": "@jupyter-widgets/base",
      "model_module_version": "1.2.0",
      "model_name": "LayoutModel",
      "state": {
       "_model_module": "@jupyter-widgets/base",
       "_model_module_version": "1.2.0",
       "_model_name": "LayoutModel",
       "_view_count": null,
       "_view_module": "@jupyter-widgets/base",
       "_view_module_version": "1.2.0",
       "_view_name": "LayoutView",
       "align_content": null,
       "align_items": null,
       "align_self": null,
       "border": null,
       "bottom": null,
       "display": null,
       "flex": null,
       "flex_flow": null,
       "grid_area": null,
       "grid_auto_columns": null,
       "grid_auto_flow": null,
       "grid_auto_rows": null,
       "grid_column": null,
       "grid_gap": null,
       "grid_row": null,
       "grid_template_areas": null,
       "grid_template_columns": null,
       "grid_template_rows": null,
       "height": null,
       "justify_content": null,
       "justify_items": null,
       "left": null,
       "margin": null,
       "max_height": null,
       "max_width": null,
       "min_height": null,
       "min_width": null,
       "object_fit": null,
       "object_position": null,
       "order": null,
       "overflow": null,
       "overflow_x": null,
       "overflow_y": null,
       "padding": null,
       "right": null,
       "top": null,
       "visibility": null,
       "width": null
      }
     },
     "5ab4ed87804f4c70bfd98b9bac26f718": {
      "model_module": "@jupyter-widgets/base",
      "model_module_version": "1.2.0",
      "model_name": "LayoutModel",
      "state": {
       "_model_module": "@jupyter-widgets/base",
       "_model_module_version": "1.2.0",
       "_model_name": "LayoutModel",
       "_view_count": null,
       "_view_module": "@jupyter-widgets/base",
       "_view_module_version": "1.2.0",
       "_view_name": "LayoutView",
       "align_content": null,
       "align_items": null,
       "align_self": null,
       "border": null,
       "bottom": null,
       "display": null,
       "flex": null,
       "flex_flow": null,
       "grid_area": null,
       "grid_auto_columns": null,
       "grid_auto_flow": null,
       "grid_auto_rows": null,
       "grid_column": null,
       "grid_gap": null,
       "grid_row": null,
       "grid_template_areas": null,
       "grid_template_columns": null,
       "grid_template_rows": null,
       "height": null,
       "justify_content": null,
       "justify_items": null,
       "left": null,
       "margin": null,
       "max_height": null,
       "max_width": null,
       "min_height": null,
       "min_width": null,
       "object_fit": null,
       "object_position": null,
       "order": null,
       "overflow": null,
       "overflow_x": null,
       "overflow_y": null,
       "padding": null,
       "right": null,
       "top": null,
       "visibility": null,
       "width": null
      }
     },
     "5c7bb9b79f3e46bba5f625e4b042cf5d": {
      "model_module": "@jupyter-widgets/base",
      "model_module_version": "1.2.0",
      "model_name": "LayoutModel",
      "state": {
       "_model_module": "@jupyter-widgets/base",
       "_model_module_version": "1.2.0",
       "_model_name": "LayoutModel",
       "_view_count": null,
       "_view_module": "@jupyter-widgets/base",
       "_view_module_version": "1.2.0",
       "_view_name": "LayoutView",
       "align_content": null,
       "align_items": null,
       "align_self": null,
       "border": null,
       "bottom": null,
       "display": null,
       "flex": null,
       "flex_flow": null,
       "grid_area": null,
       "grid_auto_columns": null,
       "grid_auto_flow": null,
       "grid_auto_rows": null,
       "grid_column": null,
       "grid_gap": null,
       "grid_row": null,
       "grid_template_areas": null,
       "grid_template_columns": null,
       "grid_template_rows": null,
       "height": null,
       "justify_content": null,
       "justify_items": null,
       "left": null,
       "margin": null,
       "max_height": null,
       "max_width": null,
       "min_height": null,
       "min_width": null,
       "object_fit": null,
       "object_position": null,
       "order": null,
       "overflow": null,
       "overflow_x": null,
       "overflow_y": null,
       "padding": null,
       "right": null,
       "top": null,
       "visibility": null,
       "width": null
      }
     },
     "5cc71d51f9f140f1b9829c593a133bbc": {
      "model_module": "@jupyter-widgets/controls",
      "model_module_version": "1.5.0",
      "model_name": "HBoxModel",
      "state": {
       "_dom_classes": [],
       "_model_module": "@jupyter-widgets/controls",
       "_model_module_version": "1.5.0",
       "_model_name": "HBoxModel",
       "_view_count": null,
       "_view_module": "@jupyter-widgets/controls",
       "_view_module_version": "1.5.0",
       "_view_name": "HBoxView",
       "box_style": "",
       "children": [
        "IPY_MODEL_0ed08e4bd39145d39595df22ba3dc930",
        "IPY_MODEL_d2cdc9262e194808b5cedf444081994d",
        "IPY_MODEL_aee77e71113d4b9392d21605a21cdcdb"
       ],
       "layout": "IPY_MODEL_322b6ba39d9644a2bc56a310a893d616"
      }
     },
     "5d12ea3f347f439f85b2fa809f04258f": {
      "model_module": "@jupyter-widgets/base",
      "model_module_version": "1.2.0",
      "model_name": "LayoutModel",
      "state": {
       "_model_module": "@jupyter-widgets/base",
       "_model_module_version": "1.2.0",
       "_model_name": "LayoutModel",
       "_view_count": null,
       "_view_module": "@jupyter-widgets/base",
       "_view_module_version": "1.2.0",
       "_view_name": "LayoutView",
       "align_content": null,
       "align_items": null,
       "align_self": null,
       "border": null,
       "bottom": null,
       "display": null,
       "flex": null,
       "flex_flow": null,
       "grid_area": null,
       "grid_auto_columns": null,
       "grid_auto_flow": null,
       "grid_auto_rows": null,
       "grid_column": null,
       "grid_gap": null,
       "grid_row": null,
       "grid_template_areas": null,
       "grid_template_columns": null,
       "grid_template_rows": null,
       "height": null,
       "justify_content": null,
       "justify_items": null,
       "left": null,
       "margin": null,
       "max_height": null,
       "max_width": null,
       "min_height": null,
       "min_width": null,
       "object_fit": null,
       "object_position": null,
       "order": null,
       "overflow": null,
       "overflow_x": null,
       "overflow_y": null,
       "padding": null,
       "right": null,
       "top": null,
       "visibility": null,
       "width": null
      }
     },
     "5d8dd04893a448cdbb0951de3282d02f": {
      "model_module": "@jupyter-widgets/controls",
      "model_module_version": "1.5.0",
      "model_name": "HTMLModel",
      "state": {
       "_dom_classes": [],
       "_model_module": "@jupyter-widgets/controls",
       "_model_module_version": "1.5.0",
       "_model_name": "HTMLModel",
       "_view_count": null,
       "_view_module": "@jupyter-widgets/controls",
       "_view_module_version": "1.5.0",
       "_view_name": "HTMLView",
       "description": "",
       "description_tooltip": null,
       "layout": "IPY_MODEL_7da5c6e7bde943718c45124aea170254",
       "placeholder": "​",
       "style": "IPY_MODEL_01524afa60394a9891c48a76fd27e40b",
       "value": "data/train-00012-of-00017.parquet: 100%"
      }
     },
     "5e9ddbdcebea425d9b9a6295777a7522": {
      "model_module": "@jupyter-widgets/controls",
      "model_module_version": "1.5.0",
      "model_name": "FloatProgressModel",
      "state": {
       "_dom_classes": [],
       "_model_module": "@jupyter-widgets/controls",
       "_model_module_version": "1.5.0",
       "_model_name": "FloatProgressModel",
       "_view_count": null,
       "_view_module": "@jupyter-widgets/controls",
       "_view_module_version": "1.5.0",
       "_view_name": "ProgressView",
       "bar_style": "success",
       "description": "",
       "description_tooltip": null,
       "layout": "IPY_MODEL_7ca7e40141e54c73b8534213ef6c509a",
       "max": 467990427,
       "min": 0,
       "orientation": "horizontal",
       "style": "IPY_MODEL_30220c22ec9f488b809e7282e9c12ba6",
       "value": 467990427
      }
     },
     "5ff866dbcd9b4f05bb184e4fd96bc77d": {
      "model_module": "@jupyter-widgets/controls",
      "model_module_version": "1.5.0",
      "model_name": "HTMLModel",
      "state": {
       "_dom_classes": [],
       "_model_module": "@jupyter-widgets/controls",
       "_model_module_version": "1.5.0",
       "_model_name": "HTMLModel",
       "_view_count": null,
       "_view_module": "@jupyter-widgets/controls",
       "_view_module_version": "1.5.0",
       "_view_name": "HTMLView",
       "description": "",
       "description_tooltip": null,
       "layout": "IPY_MODEL_1a21259ba40f4c20baf7d112300ebad2",
       "placeholder": "​",
       "style": "IPY_MODEL_55d3b2c1dc9148dc8d50f63b866bb2a6",
       "value": "Loading dataset shards: 100%"
      }
     },
     "63155f3fb8f74b28839b5a7f55297445": {
      "model_module": "@jupyter-widgets/controls",
      "model_module_version": "1.5.0",
      "model_name": "HTMLModel",
      "state": {
       "_dom_classes": [],
       "_model_module": "@jupyter-widgets/controls",
       "_model_module_version": "1.5.0",
       "_model_name": "HTMLModel",
       "_view_count": null,
       "_view_module": "@jupyter-widgets/controls",
       "_view_module_version": "1.5.0",
       "_view_name": "HTMLView",
       "description": "",
       "description_tooltip": null,
       "layout": "IPY_MODEL_7f8dd43561354302a65e36bffbe80850",
       "placeholder": "​",
       "style": "IPY_MODEL_68a703e917914284be30e5640b306639",
       "value": "data/train-00002-of-00017.parquet: 100%"
      }
     },
     "63414eafd41f4e2d906706a1d113234a": {
      "model_module": "@jupyter-widgets/base",
      "model_module_version": "1.2.0",
      "model_name": "LayoutModel",
      "state": {
       "_model_module": "@jupyter-widgets/base",
       "_model_module_version": "1.2.0",
       "_model_name": "LayoutModel",
       "_view_count": null,
       "_view_module": "@jupyter-widgets/base",
       "_view_module_version": "1.2.0",
       "_view_name": "LayoutView",
       "align_content": null,
       "align_items": null,
       "align_self": null,
       "border": null,
       "bottom": null,
       "display": null,
       "flex": null,
       "flex_flow": null,
       "grid_area": null,
       "grid_auto_columns": null,
       "grid_auto_flow": null,
       "grid_auto_rows": null,
       "grid_column": null,
       "grid_gap": null,
       "grid_row": null,
       "grid_template_areas": null,
       "grid_template_columns": null,
       "grid_template_rows": null,
       "height": null,
       "justify_content": null,
       "justify_items": null,
       "left": null,
       "margin": null,
       "max_height": null,
       "max_width": null,
       "min_height": null,
       "min_width": null,
       "object_fit": null,
       "object_position": null,
       "order": null,
       "overflow": null,
       "overflow_x": null,
       "overflow_y": null,
       "padding": null,
       "right": null,
       "top": null,
       "visibility": null,
       "width": null
      }
     },
     "63bbf3a6bee94a998648c5eb33a0278b": {
      "model_module": "@jupyter-widgets/controls",
      "model_module_version": "1.5.0",
      "model_name": "ProgressStyleModel",
      "state": {
       "_model_module": "@jupyter-widgets/controls",
       "_model_module_version": "1.5.0",
       "_model_name": "ProgressStyleModel",
       "_view_count": null,
       "_view_module": "@jupyter-widgets/base",
       "_view_module_version": "1.2.0",
       "_view_name": "StyleView",
       "bar_color": null,
       "description_width": ""
      }
     },
     "648c6d8dffbb429db219feaa0f03cd21": {
      "model_module": "@jupyter-widgets/controls",
      "model_module_version": "1.5.0",
      "model_name": "ProgressStyleModel",
      "state": {
       "_model_module": "@jupyter-widgets/controls",
       "_model_module_version": "1.5.0",
       "_model_name": "ProgressStyleModel",
       "_view_count": null,
       "_view_module": "@jupyter-widgets/base",
       "_view_module_version": "1.2.0",
       "_view_name": "StyleView",
       "bar_color": null,
       "description_width": ""
      }
     },
     "64aed29e12bc41e48804a0308f174b67": {
      "model_module": "@jupyter-widgets/controls",
      "model_module_version": "1.5.0",
      "model_name": "HTMLModel",
      "state": {
       "_dom_classes": [],
       "_model_module": "@jupyter-widgets/controls",
       "_model_module_version": "1.5.0",
       "_model_name": "HTMLModel",
       "_view_count": null,
       "_view_module": "@jupyter-widgets/controls",
       "_view_module_version": "1.5.0",
       "_view_name": "HTMLView",
       "description": "",
       "description_tooltip": null,
       "layout": "IPY_MODEL_098e19abda46458e81a1f0cc4abc42c1",
       "placeholder": "​",
       "style": "IPY_MODEL_778dc90f88774085b2872dcd93d6159b",
       "value": "data/train-00015-of-00017.parquet: 100%"
      }
     },
     "6575660270c943d39b85823743e1570f": {
      "model_module": "@jupyter-widgets/controls",
      "model_module_version": "1.5.0",
      "model_name": "FloatProgressModel",
      "state": {
       "_dom_classes": [],
       "_model_module": "@jupyter-widgets/controls",
       "_model_module_version": "1.5.0",
       "_model_name": "FloatProgressModel",
       "_view_count": null,
       "_view_module": "@jupyter-widgets/controls",
       "_view_module_version": "1.5.0",
       "_view_name": "ProgressView",
       "bar_style": "success",
       "description": "",
       "description_tooltip": null,
       "layout": "IPY_MODEL_672b8a37c90c4b15957094d518e8f439",
       "max": 314468362,
       "min": 0,
       "orientation": "horizontal",
       "style": "IPY_MODEL_bc14bd1a13ce419d9dadccc23eaed0a4",
       "value": 314468362
      }
     },
     "6593152c57c4447e97d4699336e05370": {
      "model_module": "@jupyter-widgets/base",
      "model_module_version": "1.2.0",
      "model_name": "LayoutModel",
      "state": {
       "_model_module": "@jupyter-widgets/base",
       "_model_module_version": "1.2.0",
       "_model_name": "LayoutModel",
       "_view_count": null,
       "_view_module": "@jupyter-widgets/base",
       "_view_module_version": "1.2.0",
       "_view_name": "LayoutView",
       "align_content": null,
       "align_items": null,
       "align_self": null,
       "border": null,
       "bottom": null,
       "display": null,
       "flex": null,
       "flex_flow": null,
       "grid_area": null,
       "grid_auto_columns": null,
       "grid_auto_flow": null,
       "grid_auto_rows": null,
       "grid_column": null,
       "grid_gap": null,
       "grid_row": null,
       "grid_template_areas": null,
       "grid_template_columns": null,
       "grid_template_rows": null,
       "height": null,
       "justify_content": null,
       "justify_items": null,
       "left": null,
       "margin": null,
       "max_height": null,
       "max_width": null,
       "min_height": null,
       "min_width": null,
       "object_fit": null,
       "object_position": null,
       "order": null,
       "overflow": null,
       "overflow_x": null,
       "overflow_y": null,
       "padding": null,
       "right": null,
       "top": null,
       "visibility": null,
       "width": null
      }
     },
     "65d8294526b94b798cf7e19cd703090c": {
      "model_module": "@jupyter-widgets/controls",
      "model_module_version": "1.5.0",
      "model_name": "HTMLModel",
      "state": {
       "_dom_classes": [],
       "_model_module": "@jupyter-widgets/controls",
       "_model_module_version": "1.5.0",
       "_model_name": "HTMLModel",
       "_view_count": null,
       "_view_module": "@jupyter-widgets/controls",
       "_view_module_version": "1.5.0",
       "_view_name": "HTMLView",
       "description": "",
       "description_tooltip": null,
       "layout": "IPY_MODEL_7abb22fd7d2b4acbb32170db4f09db77",
       "placeholder": "​",
       "style": "IPY_MODEL_58c0d9d1354543ba86ca8f70f320bdd3",
       "value": "data/train-00000-of-00017.parquet: 100%"
      }
     },
     "672b8a37c90c4b15957094d518e8f439": {
      "model_module": "@jupyter-widgets/base",
      "model_module_version": "1.2.0",
      "model_name": "LayoutModel",
      "state": {
       "_model_module": "@jupyter-widgets/base",
       "_model_module_version": "1.2.0",
       "_model_name": "LayoutModel",
       "_view_count": null,
       "_view_module": "@jupyter-widgets/base",
       "_view_module_version": "1.2.0",
       "_view_name": "LayoutView",
       "align_content": null,
       "align_items": null,
       "align_self": null,
       "border": null,
       "bottom": null,
       "display": null,
       "flex": null,
       "flex_flow": null,
       "grid_area": null,
       "grid_auto_columns": null,
       "grid_auto_flow": null,
       "grid_auto_rows": null,
       "grid_column": null,
       "grid_gap": null,
       "grid_row": null,
       "grid_template_areas": null,
       "grid_template_columns": null,
       "grid_template_rows": null,
       "height": null,
       "justify_content": null,
       "justify_items": null,
       "left": null,
       "margin": null,
       "max_height": null,
       "max_width": null,
       "min_height": null,
       "min_width": null,
       "object_fit": null,
       "object_position": null,
       "order": null,
       "overflow": null,
       "overflow_x": null,
       "overflow_y": null,
       "padding": null,
       "right": null,
       "top": null,
       "visibility": null,
       "width": null
      }
     },
     "675bfb271bd9469f9265959801554e63": {
      "model_module": "@jupyter-widgets/controls",
      "model_module_version": "1.5.0",
      "model_name": "ProgressStyleModel",
      "state": {
       "_model_module": "@jupyter-widgets/controls",
       "_model_module_version": "1.5.0",
       "_model_name": "ProgressStyleModel",
       "_view_count": null,
       "_view_module": "@jupyter-widgets/base",
       "_view_module_version": "1.2.0",
       "_view_name": "StyleView",
       "bar_color": null,
       "description_width": ""
      }
     },
     "67b8beb7d2a94158b8180311cc656c79": {
      "model_module": "@jupyter-widgets/base",
      "model_module_version": "1.2.0",
      "model_name": "LayoutModel",
      "state": {
       "_model_module": "@jupyter-widgets/base",
       "_model_module_version": "1.2.0",
       "_model_name": "LayoutModel",
       "_view_count": null,
       "_view_module": "@jupyter-widgets/base",
       "_view_module_version": "1.2.0",
       "_view_name": "LayoutView",
       "align_content": null,
       "align_items": null,
       "align_self": null,
       "border": null,
       "bottom": null,
       "display": null,
       "flex": null,
       "flex_flow": null,
       "grid_area": null,
       "grid_auto_columns": null,
       "grid_auto_flow": null,
       "grid_auto_rows": null,
       "grid_column": null,
       "grid_gap": null,
       "grid_row": null,
       "grid_template_areas": null,
       "grid_template_columns": null,
       "grid_template_rows": null,
       "height": null,
       "justify_content": null,
       "justify_items": null,
       "left": null,
       "margin": null,
       "max_height": null,
       "max_width": null,
       "min_height": null,
       "min_width": null,
       "object_fit": null,
       "object_position": null,
       "order": null,
       "overflow": null,
       "overflow_x": null,
       "overflow_y": null,
       "padding": null,
       "right": null,
       "top": null,
       "visibility": null,
       "width": null
      }
     },
     "67ea6070ce9c4890977612b4ba1b9c9a": {
      "model_module": "@jupyter-widgets/controls",
      "model_module_version": "1.5.0",
      "model_name": "ProgressStyleModel",
      "state": {
       "_model_module": "@jupyter-widgets/controls",
       "_model_module_version": "1.5.0",
       "_model_name": "ProgressStyleModel",
       "_view_count": null,
       "_view_module": "@jupyter-widgets/base",
       "_view_module_version": "1.2.0",
       "_view_name": "StyleView",
       "bar_color": null,
       "description_width": ""
      }
     },
     "68a703e917914284be30e5640b306639": {
      "model_module": "@jupyter-widgets/controls",
      "model_module_version": "1.5.0",
      "model_name": "DescriptionStyleModel",
      "state": {
       "_model_module": "@jupyter-widgets/controls",
       "_model_module_version": "1.5.0",
       "_model_name": "DescriptionStyleModel",
       "_view_count": null,
       "_view_module": "@jupyter-widgets/base",
       "_view_module_version": "1.2.0",
       "_view_name": "StyleView",
       "description_width": ""
      }
     },
     "693765c17a2047fe8279bad3e1eaeb01": {
      "model_module": "@jupyter-widgets/base",
      "model_module_version": "1.2.0",
      "model_name": "LayoutModel",
      "state": {
       "_model_module": "@jupyter-widgets/base",
       "_model_module_version": "1.2.0",
       "_model_name": "LayoutModel",
       "_view_count": null,
       "_view_module": "@jupyter-widgets/base",
       "_view_module_version": "1.2.0",
       "_view_name": "LayoutView",
       "align_content": null,
       "align_items": null,
       "align_self": null,
       "border": null,
       "bottom": null,
       "display": null,
       "flex": null,
       "flex_flow": null,
       "grid_area": null,
       "grid_auto_columns": null,
       "grid_auto_flow": null,
       "grid_auto_rows": null,
       "grid_column": null,
       "grid_gap": null,
       "grid_row": null,
       "grid_template_areas": null,
       "grid_template_columns": null,
       "grid_template_rows": null,
       "height": null,
       "justify_content": null,
       "justify_items": null,
       "left": null,
       "margin": null,
       "max_height": null,
       "max_width": null,
       "min_height": null,
       "min_width": null,
       "object_fit": null,
       "object_position": null,
       "order": null,
       "overflow": null,
       "overflow_x": null,
       "overflow_y": null,
       "padding": null,
       "right": null,
       "top": null,
       "visibility": null,
       "width": null
      }
     },
     "69e42ba23d2d471ea3869a2b138f14fe": {
      "model_module": "@jupyter-widgets/controls",
      "model_module_version": "1.5.0",
      "model_name": "DescriptionStyleModel",
      "state": {
       "_model_module": "@jupyter-widgets/controls",
       "_model_module_version": "1.5.0",
       "_model_name": "DescriptionStyleModel",
       "_view_count": null,
       "_view_module": "@jupyter-widgets/base",
       "_view_module_version": "1.2.0",
       "_view_name": "StyleView",
       "description_width": ""
      }
     },
     "69f12bdc4e7d49fc99e5e3e395643fad": {
      "model_module": "@jupyter-widgets/controls",
      "model_module_version": "1.5.0",
      "model_name": "HBoxModel",
      "state": {
       "_dom_classes": [],
       "_model_module": "@jupyter-widgets/controls",
       "_model_module_version": "1.5.0",
       "_model_name": "HBoxModel",
       "_view_count": null,
       "_view_module": "@jupyter-widgets/controls",
       "_view_module_version": "1.5.0",
       "_view_name": "HBoxView",
       "box_style": "",
       "children": [
        "IPY_MODEL_0f1a86f06e9f4095a7d59549fcc3b69b",
        "IPY_MODEL_2e61ff6ae47846a98696274a06207187",
        "IPY_MODEL_3591a44abaae4d4bbc68e1ea504ca2dd"
       ],
       "layout": "IPY_MODEL_1262a2a300cd4d8fafbb0516ad74b3d6"
      }
     },
     "6a714cb0839e49e59672a589dc0069cc": {
      "model_module": "@jupyter-widgets/controls",
      "model_module_version": "1.5.0",
      "model_name": "HTMLModel",
      "state": {
       "_dom_classes": [],
       "_model_module": "@jupyter-widgets/controls",
       "_model_module_version": "1.5.0",
       "_model_name": "HTMLModel",
       "_view_count": null,
       "_view_module": "@jupyter-widgets/controls",
       "_view_module_version": "1.5.0",
       "_view_name": "HTMLView",
       "description": "",
       "description_tooltip": null,
       "layout": "IPY_MODEL_63414eafd41f4e2d906706a1d113234a",
       "placeholder": "​",
       "style": "IPY_MODEL_69e42ba23d2d471ea3869a2b138f14fe",
       "value": " 468M/468M [00:05&lt;00:00, 109MB/s]"
      }
     },
     "6c812a0bb5944691b55abd6e16aa85cb": {
      "model_module": "@jupyter-widgets/controls",
      "model_module_version": "1.5.0",
      "model_name": "ProgressStyleModel",
      "state": {
       "_model_module": "@jupyter-widgets/controls",
       "_model_module_version": "1.5.0",
       "_model_name": "ProgressStyleModel",
       "_view_count": null,
       "_view_module": "@jupyter-widgets/base",
       "_view_module_version": "1.2.0",
       "_view_name": "StyleView",
       "bar_color": null,
       "description_width": ""
      }
     },
     "6dacd81f571b4e8c89fdc8962f443e52": {
      "model_module": "@jupyter-widgets/base",
      "model_module_version": "1.2.0",
      "model_name": "LayoutModel",
      "state": {
       "_model_module": "@jupyter-widgets/base",
       "_model_module_version": "1.2.0",
       "_model_name": "LayoutModel",
       "_view_count": null,
       "_view_module": "@jupyter-widgets/base",
       "_view_module_version": "1.2.0",
       "_view_name": "LayoutView",
       "align_content": null,
       "align_items": null,
       "align_self": null,
       "border": null,
       "bottom": null,
       "display": null,
       "flex": null,
       "flex_flow": null,
       "grid_area": null,
       "grid_auto_columns": null,
       "grid_auto_flow": null,
       "grid_auto_rows": null,
       "grid_column": null,
       "grid_gap": null,
       "grid_row": null,
       "grid_template_areas": null,
       "grid_template_columns": null,
       "grid_template_rows": null,
       "height": null,
       "justify_content": null,
       "justify_items": null,
       "left": null,
       "margin": null,
       "max_height": null,
       "max_width": null,
       "min_height": null,
       "min_width": null,
       "object_fit": null,
       "object_position": null,
       "order": null,
       "overflow": null,
       "overflow_x": null,
       "overflow_y": null,
       "padding": null,
       "right": null,
       "top": null,
       "visibility": null,
       "width": null
      }
     },
     "70006e241f6d4e3782c3233fbf31df3b": {
      "model_module": "@jupyter-widgets/controls",
      "model_module_version": "1.5.0",
      "model_name": "DescriptionStyleModel",
      "state": {
       "_model_module": "@jupyter-widgets/controls",
       "_model_module_version": "1.5.0",
       "_model_name": "DescriptionStyleModel",
       "_view_count": null,
       "_view_module": "@jupyter-widgets/base",
       "_view_module_version": "1.2.0",
       "_view_name": "StyleView",
       "description_width": ""
      }
     },
     "7160cf393ff34c49ba62da0c75335f0e": {
      "model_module": "@jupyter-widgets/controls",
      "model_module_version": "1.5.0",
      "model_name": "HBoxModel",
      "state": {
       "_dom_classes": [],
       "_model_module": "@jupyter-widgets/controls",
       "_model_module_version": "1.5.0",
       "_model_name": "HBoxModel",
       "_view_count": null,
       "_view_module": "@jupyter-widgets/controls",
       "_view_module_version": "1.5.0",
       "_view_name": "HBoxView",
       "box_style": "",
       "children": [
        "IPY_MODEL_007747358f5248c99d8c4e291523014e",
        "IPY_MODEL_d7e33dbdca5545e6a11b60af8a4096b8",
        "IPY_MODEL_d4353b7c69644cb4b3252e37b5b0ad7e"
       ],
       "layout": "IPY_MODEL_1d568819a8224615963544b8f5c9a000"
      }
     },
     "71f0adae3e66447fa76b006213d98562": {
      "model_module": "@jupyter-widgets/controls",
      "model_module_version": "1.5.0",
      "model_name": "HTMLModel",
      "state": {
       "_dom_classes": [],
       "_model_module": "@jupyter-widgets/controls",
       "_model_module_version": "1.5.0",
       "_model_name": "HTMLModel",
       "_view_count": null,
       "_view_module": "@jupyter-widgets/controls",
       "_view_module_version": "1.5.0",
       "_view_name": "HTMLView",
       "description": "",
       "description_tooltip": null,
       "layout": "IPY_MODEL_d6a5f55372bc4e559f63d8060c538885",
       "placeholder": "​",
       "style": "IPY_MODEL_9da35fc0f36042ce87ce9ac843292ed0",
       "value": " 474M/474M [00:06&lt;00:00, 63.2MB/s]"
      }
     },
     "72a740510aa84dbf894b06476ea5d7cf": {
      "model_module": "@jupyter-widgets/controls",
      "model_module_version": "1.5.0",
      "model_name": "HBoxModel",
      "state": {
       "_dom_classes": [],
       "_model_module": "@jupyter-widgets/controls",
       "_model_module_version": "1.5.0",
       "_model_name": "HBoxModel",
       "_view_count": null,
       "_view_module": "@jupyter-widgets/controls",
       "_view_module_version": "1.5.0",
       "_view_name": "HBoxView",
       "box_style": "",
       "children": [
        "IPY_MODEL_809ce72bfcea4050aac31cf420466f70",
        "IPY_MODEL_5e9ddbdcebea425d9b9a6295777a7522",
        "IPY_MODEL_9371f4a41c9041d8924206d7e843e005"
       ],
       "layout": "IPY_MODEL_32cc380e8ffa4882945e7d8a71ae78c2"
      }
     },
     "731329b2eba442b9ad780d0f3fbacc9e": {
      "model_module": "@jupyter-widgets/base",
      "model_module_version": "1.2.0",
      "model_name": "LayoutModel",
      "state": {
       "_model_module": "@jupyter-widgets/base",
       "_model_module_version": "1.2.0",
       "_model_name": "LayoutModel",
       "_view_count": null,
       "_view_module": "@jupyter-widgets/base",
       "_view_module_version": "1.2.0",
       "_view_name": "LayoutView",
       "align_content": null,
       "align_items": null,
       "align_self": null,
       "border": null,
       "bottom": null,
       "display": null,
       "flex": null,
       "flex_flow": null,
       "grid_area": null,
       "grid_auto_columns": null,
       "grid_auto_flow": null,
       "grid_auto_rows": null,
       "grid_column": null,
       "grid_gap": null,
       "grid_row": null,
       "grid_template_areas": null,
       "grid_template_columns": null,
       "grid_template_rows": null,
       "height": null,
       "justify_content": null,
       "justify_items": null,
       "left": null,
       "margin": null,
       "max_height": null,
       "max_width": null,
       "min_height": null,
       "min_width": null,
       "object_fit": null,
       "object_position": null,
       "order": null,
       "overflow": null,
       "overflow_x": null,
       "overflow_y": null,
       "padding": null,
       "right": null,
       "top": null,
       "visibility": null,
       "width": null
      }
     },
     "739d83b12de84f70a29b5902b0a33f92": {
      "model_module": "@jupyter-widgets/controls",
      "model_module_version": "1.5.0",
      "model_name": "DescriptionStyleModel",
      "state": {
       "_model_module": "@jupyter-widgets/controls",
       "_model_module_version": "1.5.0",
       "_model_name": "DescriptionStyleModel",
       "_view_count": null,
       "_view_module": "@jupyter-widgets/base",
       "_view_module_version": "1.2.0",
       "_view_name": "StyleView",
       "description_width": ""
      }
     },
     "73caf0579760479d883d3b2a1556815e": {
      "model_module": "@jupyter-widgets/controls",
      "model_module_version": "1.5.0",
      "model_name": "ProgressStyleModel",
      "state": {
       "_model_module": "@jupyter-widgets/controls",
       "_model_module_version": "1.5.0",
       "_model_name": "ProgressStyleModel",
       "_view_count": null,
       "_view_module": "@jupyter-widgets/base",
       "_view_module_version": "1.2.0",
       "_view_name": "StyleView",
       "bar_color": null,
       "description_width": ""
      }
     },
     "76c33e9007e8403499d177c8ddbc04d4": {
      "model_module": "@jupyter-widgets/controls",
      "model_module_version": "1.5.0",
      "model_name": "HTMLModel",
      "state": {
       "_dom_classes": [],
       "_model_module": "@jupyter-widgets/controls",
       "_model_module_version": "1.5.0",
       "_model_name": "HTMLModel",
       "_view_count": null,
       "_view_module": "@jupyter-widgets/controls",
       "_view_module_version": "1.5.0",
       "_view_name": "HTMLView",
       "description": "",
       "description_tooltip": null,
       "layout": "IPY_MODEL_77a9a459be0e49ae86935ed180b91a76",
       "placeholder": "​",
       "style": "IPY_MODEL_f00dc28994204f69b5107d004daf9959",
       "value": " 451M/451M [00:10&lt;00:00, 58.3MB/s]"
      }
     },
     "76ea677b988c4b0f942b1d5e3e4b694d": {
      "model_module": "@jupyter-widgets/controls",
      "model_module_version": "1.5.0",
      "model_name": "ProgressStyleModel",
      "state": {
       "_model_module": "@jupyter-widgets/controls",
       "_model_module_version": "1.5.0",
       "_model_name": "ProgressStyleModel",
       "_view_count": null,
       "_view_module": "@jupyter-widgets/base",
       "_view_module_version": "1.2.0",
       "_view_name": "StyleView",
       "bar_color": null,
       "description_width": ""
      }
     },
     "7726c58f54c1455a8993d2ffad51b129": {
      "model_module": "@jupyter-widgets/base",
      "model_module_version": "1.2.0",
      "model_name": "LayoutModel",
      "state": {
       "_model_module": "@jupyter-widgets/base",
       "_model_module_version": "1.2.0",
       "_model_name": "LayoutModel",
       "_view_count": null,
       "_view_module": "@jupyter-widgets/base",
       "_view_module_version": "1.2.0",
       "_view_name": "LayoutView",
       "align_content": null,
       "align_items": null,
       "align_self": null,
       "border": null,
       "bottom": null,
       "display": null,
       "flex": null,
       "flex_flow": null,
       "grid_area": null,
       "grid_auto_columns": null,
       "grid_auto_flow": null,
       "grid_auto_rows": null,
       "grid_column": null,
       "grid_gap": null,
       "grid_row": null,
       "grid_template_areas": null,
       "grid_template_columns": null,
       "grid_template_rows": null,
       "height": null,
       "justify_content": null,
       "justify_items": null,
       "left": null,
       "margin": null,
       "max_height": null,
       "max_width": null,
       "min_height": null,
       "min_width": null,
       "object_fit": null,
       "object_position": null,
       "order": null,
       "overflow": null,
       "overflow_x": null,
       "overflow_y": null,
       "padding": null,
       "right": null,
       "top": null,
       "visibility": null,
       "width": null
      }
     },
     "778dc90f88774085b2872dcd93d6159b": {
      "model_module": "@jupyter-widgets/controls",
      "model_module_version": "1.5.0",
      "model_name": "DescriptionStyleModel",
      "state": {
       "_model_module": "@jupyter-widgets/controls",
       "_model_module_version": "1.5.0",
       "_model_name": "DescriptionStyleModel",
       "_view_count": null,
       "_view_module": "@jupyter-widgets/base",
       "_view_module_version": "1.2.0",
       "_view_name": "StyleView",
       "description_width": ""
      }
     },
     "77a9a459be0e49ae86935ed180b91a76": {
      "model_module": "@jupyter-widgets/base",
      "model_module_version": "1.2.0",
      "model_name": "LayoutModel",
      "state": {
       "_model_module": "@jupyter-widgets/base",
       "_model_module_version": "1.2.0",
       "_model_name": "LayoutModel",
       "_view_count": null,
       "_view_module": "@jupyter-widgets/base",
       "_view_module_version": "1.2.0",
       "_view_name": "LayoutView",
       "align_content": null,
       "align_items": null,
       "align_self": null,
       "border": null,
       "bottom": null,
       "display": null,
       "flex": null,
       "flex_flow": null,
       "grid_area": null,
       "grid_auto_columns": null,
       "grid_auto_flow": null,
       "grid_auto_rows": null,
       "grid_column": null,
       "grid_gap": null,
       "grid_row": null,
       "grid_template_areas": null,
       "grid_template_columns": null,
       "grid_template_rows": null,
       "height": null,
       "justify_content": null,
       "justify_items": null,
       "left": null,
       "margin": null,
       "max_height": null,
       "max_width": null,
       "min_height": null,
       "min_width": null,
       "object_fit": null,
       "object_position": null,
       "order": null,
       "overflow": null,
       "overflow_x": null,
       "overflow_y": null,
       "padding": null,
       "right": null,
       "top": null,
       "visibility": null,
       "width": null
      }
     },
     "77f5d1a012e749f8b8ed780895fc3cd2": {
      "model_module": "@jupyter-widgets/controls",
      "model_module_version": "1.5.0",
      "model_name": "HTMLModel",
      "state": {
       "_dom_classes": [],
       "_model_module": "@jupyter-widgets/controls",
       "_model_module_version": "1.5.0",
       "_model_name": "HTMLModel",
       "_view_count": null,
       "_view_module": "@jupyter-widgets/controls",
       "_view_module_version": "1.5.0",
       "_view_name": "HTMLView",
       "description": "",
       "description_tooltip": null,
       "layout": "IPY_MODEL_a3f95e7510f8481bb2e3fc5bea9e0f01",
       "placeholder": "​",
       "style": "IPY_MODEL_da3695794a0747a28fcc89465aabda18",
       "value": "data/validation-00000-of-00001.parquet: 100%"
      }
     },
     "78159a49255d436e9292369509580634": {
      "model_module": "@jupyter-widgets/controls",
      "model_module_version": "1.5.0",
      "model_name": "DescriptionStyleModel",
      "state": {
       "_model_module": "@jupyter-widgets/controls",
       "_model_module_version": "1.5.0",
       "_model_name": "DescriptionStyleModel",
       "_view_count": null,
       "_view_module": "@jupyter-widgets/base",
       "_view_module_version": "1.2.0",
       "_view_name": "StyleView",
       "description_width": ""
      }
     },
     "78341cff7f0c4235988cdda8388a47b5": {
      "model_module": "@jupyter-widgets/base",
      "model_module_version": "1.2.0",
      "model_name": "LayoutModel",
      "state": {
       "_model_module": "@jupyter-widgets/base",
       "_model_module_version": "1.2.0",
       "_model_name": "LayoutModel",
       "_view_count": null,
       "_view_module": "@jupyter-widgets/base",
       "_view_module_version": "1.2.0",
       "_view_name": "LayoutView",
       "align_content": null,
       "align_items": null,
       "align_self": null,
       "border": null,
       "bottom": null,
       "display": null,
       "flex": null,
       "flex_flow": null,
       "grid_area": null,
       "grid_auto_columns": null,
       "grid_auto_flow": null,
       "grid_auto_rows": null,
       "grid_column": null,
       "grid_gap": null,
       "grid_row": null,
       "grid_template_areas": null,
       "grid_template_columns": null,
       "grid_template_rows": null,
       "height": null,
       "justify_content": null,
       "justify_items": null,
       "left": null,
       "margin": null,
       "max_height": null,
       "max_width": null,
       "min_height": null,
       "min_width": null,
       "object_fit": null,
       "object_position": null,
       "order": null,
       "overflow": null,
       "overflow_x": null,
       "overflow_y": null,
       "padding": null,
       "right": null,
       "top": null,
       "visibility": null,
       "width": null
      }
     },
     "78597307e09b490687255c83241ce2a2": {
      "model_module": "@jupyter-widgets/controls",
      "model_module_version": "1.5.0",
      "model_name": "FloatProgressModel",
      "state": {
       "_dom_classes": [],
       "_model_module": "@jupyter-widgets/controls",
       "_model_module_version": "1.5.0",
       "_model_name": "FloatProgressModel",
       "_view_count": null,
       "_view_module": "@jupyter-widgets/controls",
       "_view_module_version": "1.5.0",
       "_view_name": "ProgressView",
       "bar_style": "success",
       "description": "",
       "description_tooltip": null,
       "layout": "IPY_MODEL_845ac19c480f4a728e6e69255a96ddfd",
       "max": 497985890,
       "min": 0,
       "orientation": "horizontal",
       "style": "IPY_MODEL_6c812a0bb5944691b55abd6e16aa85cb",
       "value": 497985890
      }
     },
     "7abb22fd7d2b4acbb32170db4f09db77": {
      "model_module": "@jupyter-widgets/base",
      "model_module_version": "1.2.0",
      "model_name": "LayoutModel",
      "state": {
       "_model_module": "@jupyter-widgets/base",
       "_model_module_version": "1.2.0",
       "_model_name": "LayoutModel",
       "_view_count": null,
       "_view_module": "@jupyter-widgets/base",
       "_view_module_version": "1.2.0",
       "_view_name": "LayoutView",
       "align_content": null,
       "align_items": null,
       "align_self": null,
       "border": null,
       "bottom": null,
       "display": null,
       "flex": null,
       "flex_flow": null,
       "grid_area": null,
       "grid_auto_columns": null,
       "grid_auto_flow": null,
       "grid_auto_rows": null,
       "grid_column": null,
       "grid_gap": null,
       "grid_row": null,
       "grid_template_areas": null,
       "grid_template_columns": null,
       "grid_template_rows": null,
       "height": null,
       "justify_content": null,
       "justify_items": null,
       "left": null,
       "margin": null,
       "max_height": null,
       "max_width": null,
       "min_height": null,
       "min_width": null,
       "object_fit": null,
       "object_position": null,
       "order": null,
       "overflow": null,
       "overflow_x": null,
       "overflow_y": null,
       "padding": null,
       "right": null,
       "top": null,
       "visibility": null,
       "width": null
      }
     },
     "7b3e0f26826a48619cfa8f56f3dac0b2": {
      "model_module": "@jupyter-widgets/controls",
      "model_module_version": "1.5.0",
      "model_name": "HTMLModel",
      "state": {
       "_dom_classes": [],
       "_model_module": "@jupyter-widgets/controls",
       "_model_module_version": "1.5.0",
       "_model_name": "HTMLModel",
       "_view_count": null,
       "_view_module": "@jupyter-widgets/controls",
       "_view_module_version": "1.5.0",
       "_view_name": "HTMLView",
       "description": "",
       "description_tooltip": null,
       "layout": "IPY_MODEL_13daa8190cad4affbad5bf65f5f22827",
       "placeholder": "​",
       "style": "IPY_MODEL_f052135abbda4bb79b99c66a0460723b",
       "value": "data/train-00005-of-00017.parquet: 100%"
      }
     },
     "7b579b2d6fc54bd48b0c3aec83c83587": {
      "model_module": "@jupyter-widgets/controls",
      "model_module_version": "1.5.0",
      "model_name": "HTMLModel",
      "state": {
       "_dom_classes": [],
       "_model_module": "@jupyter-widgets/controls",
       "_model_module_version": "1.5.0",
       "_model_name": "HTMLModel",
       "_view_count": null,
       "_view_module": "@jupyter-widgets/controls",
       "_view_module_version": "1.5.0",
       "_view_name": "HTMLView",
       "description": "",
       "description_tooltip": null,
       "layout": "IPY_MODEL_c117ebd22dec4287b63ea4ee16e8a91d",
       "placeholder": "​",
       "style": "IPY_MODEL_c65aa1a9838d4e648ca5531ea9346a25",
       "value": " 522M/522M [00:09&lt;00:00, 54.3MB/s]"
      }
     },
     "7b7d78dbd0f24a63bf8c479f893eb149": {
      "model_module": "@jupyter-widgets/controls",
      "model_module_version": "1.5.0",
      "model_name": "FloatProgressModel",
      "state": {
       "_dom_classes": [],
       "_model_module": "@jupyter-widgets/controls",
       "_model_module_version": "1.5.0",
       "_model_name": "FloatProgressModel",
       "_view_count": null,
       "_view_module": "@jupyter-widgets/controls",
       "_view_module_version": "1.5.0",
       "_view_name": "ProgressView",
       "bar_style": "success",
       "description": "",
       "description_tooltip": null,
       "layout": "IPY_MODEL_99246b84e2e442b6bd4a4b4e1e5f1d60",
       "max": 513299630,
       "min": 0,
       "orientation": "horizontal",
       "style": "IPY_MODEL_4ba583bbdfc948668f7e7764b5ffaa45",
       "value": 513299630
      }
     },
     "7ca7e40141e54c73b8534213ef6c509a": {
      "model_module": "@jupyter-widgets/base",
      "model_module_version": "1.2.0",
      "model_name": "LayoutModel",
      "state": {
       "_model_module": "@jupyter-widgets/base",
       "_model_module_version": "1.2.0",
       "_model_name": "LayoutModel",
       "_view_count": null,
       "_view_module": "@jupyter-widgets/base",
       "_view_module_version": "1.2.0",
       "_view_name": "LayoutView",
       "align_content": null,
       "align_items": null,
       "align_self": null,
       "border": null,
       "bottom": null,
       "display": null,
       "flex": null,
       "flex_flow": null,
       "grid_area": null,
       "grid_auto_columns": null,
       "grid_auto_flow": null,
       "grid_auto_rows": null,
       "grid_column": null,
       "grid_gap": null,
       "grid_row": null,
       "grid_template_areas": null,
       "grid_template_columns": null,
       "grid_template_rows": null,
       "height": null,
       "justify_content": null,
       "justify_items": null,
       "left": null,
       "margin": null,
       "max_height": null,
       "max_width": null,
       "min_height": null,
       "min_width": null,
       "object_fit": null,
       "object_position": null,
       "order": null,
       "overflow": null,
       "overflow_x": null,
       "overflow_y": null,
       "padding": null,
       "right": null,
       "top": null,
       "visibility": null,
       "width": null
      }
     },
     "7da5c6e7bde943718c45124aea170254": {
      "model_module": "@jupyter-widgets/base",
      "model_module_version": "1.2.0",
      "model_name": "LayoutModel",
      "state": {
       "_model_module": "@jupyter-widgets/base",
       "_model_module_version": "1.2.0",
       "_model_name": "LayoutModel",
       "_view_count": null,
       "_view_module": "@jupyter-widgets/base",
       "_view_module_version": "1.2.0",
       "_view_name": "LayoutView",
       "align_content": null,
       "align_items": null,
       "align_self": null,
       "border": null,
       "bottom": null,
       "display": null,
       "flex": null,
       "flex_flow": null,
       "grid_area": null,
       "grid_auto_columns": null,
       "grid_auto_flow": null,
       "grid_auto_rows": null,
       "grid_column": null,
       "grid_gap": null,
       "grid_row": null,
       "grid_template_areas": null,
       "grid_template_columns": null,
       "grid_template_rows": null,
       "height": null,
       "justify_content": null,
       "justify_items": null,
       "left": null,
       "margin": null,
       "max_height": null,
       "max_width": null,
       "min_height": null,
       "min_width": null,
       "object_fit": null,
       "object_position": null,
       "order": null,
       "overflow": null,
       "overflow_x": null,
       "overflow_y": null,
       "padding": null,
       "right": null,
       "top": null,
       "visibility": null,
       "width": null
      }
     },
     "7de66f7c9d194e9fa60402ac8c12f8a5": {
      "model_module": "@jupyter-widgets/controls",
      "model_module_version": "1.5.0",
      "model_name": "DescriptionStyleModel",
      "state": {
       "_model_module": "@jupyter-widgets/controls",
       "_model_module_version": "1.5.0",
       "_model_name": "DescriptionStyleModel",
       "_view_count": null,
       "_view_module": "@jupyter-widgets/base",
       "_view_module_version": "1.2.0",
       "_view_name": "StyleView",
       "description_width": ""
      }
     },
     "7f8dd43561354302a65e36bffbe80850": {
      "model_module": "@jupyter-widgets/base",
      "model_module_version": "1.2.0",
      "model_name": "LayoutModel",
      "state": {
       "_model_module": "@jupyter-widgets/base",
       "_model_module_version": "1.2.0",
       "_model_name": "LayoutModel",
       "_view_count": null,
       "_view_module": "@jupyter-widgets/base",
       "_view_module_version": "1.2.0",
       "_view_name": "LayoutView",
       "align_content": null,
       "align_items": null,
       "align_self": null,
       "border": null,
       "bottom": null,
       "display": null,
       "flex": null,
       "flex_flow": null,
       "grid_area": null,
       "grid_auto_columns": null,
       "grid_auto_flow": null,
       "grid_auto_rows": null,
       "grid_column": null,
       "grid_gap": null,
       "grid_row": null,
       "grid_template_areas": null,
       "grid_template_columns": null,
       "grid_template_rows": null,
       "height": null,
       "justify_content": null,
       "justify_items": null,
       "left": null,
       "margin": null,
       "max_height": null,
       "max_width": null,
       "min_height": null,
       "min_width": null,
       "object_fit": null,
       "object_position": null,
       "order": null,
       "overflow": null,
       "overflow_x": null,
       "overflow_y": null,
       "padding": null,
       "right": null,
       "top": null,
       "visibility": null,
       "width": null
      }
     },
     "809ce72bfcea4050aac31cf420466f70": {
      "model_module": "@jupyter-widgets/controls",
      "model_module_version": "1.5.0",
      "model_name": "HTMLModel",
      "state": {
       "_dom_classes": [],
       "_model_module": "@jupyter-widgets/controls",
       "_model_module_version": "1.5.0",
       "_model_name": "HTMLModel",
       "_view_count": null,
       "_view_module": "@jupyter-widgets/controls",
       "_view_module_version": "1.5.0",
       "_view_name": "HTMLView",
       "description": "",
       "description_tooltip": null,
       "layout": "IPY_MODEL_ef0cf08351914d019646299b66570ba1",
       "placeholder": "​",
       "style": "IPY_MODEL_4548f9b583e0407fb9a20ba109a341eb",
       "value": "data/train-00004-of-00017.parquet: 100%"
      }
     },
     "80a356d66fda48b882137a6ad73e7f0d": {
      "model_module": "@jupyter-widgets/controls",
      "model_module_version": "1.5.0",
      "model_name": "HBoxModel",
      "state": {
       "_dom_classes": [],
       "_model_module": "@jupyter-widgets/controls",
       "_model_module_version": "1.5.0",
       "_model_name": "HBoxModel",
       "_view_count": null,
       "_view_module": "@jupyter-widgets/controls",
       "_view_module_version": "1.5.0",
       "_view_name": "HBoxView",
       "box_style": "",
       "children": [
        "IPY_MODEL_5ff866dbcd9b4f05bb184e4fd96bc77d",
        "IPY_MODEL_9c758a0fd74c4ef8a6aea37e61fed0ca",
        "IPY_MODEL_c78511508fdc4efeaee9fd76861474e5"
       ],
       "layout": "IPY_MODEL_8b982e96932d43499cdb7cbad202260c"
      }
     },
     "8139e2ea57264637a2682a164b05c275": {
      "model_module": "@jupyter-widgets/base",
      "model_module_version": "1.2.0",
      "model_name": "LayoutModel",
      "state": {
       "_model_module": "@jupyter-widgets/base",
       "_model_module_version": "1.2.0",
       "_model_name": "LayoutModel",
       "_view_count": null,
       "_view_module": "@jupyter-widgets/base",
       "_view_module_version": "1.2.0",
       "_view_name": "LayoutView",
       "align_content": null,
       "align_items": null,
       "align_self": null,
       "border": null,
       "bottom": null,
       "display": null,
       "flex": null,
       "flex_flow": null,
       "grid_area": null,
       "grid_auto_columns": null,
       "grid_auto_flow": null,
       "grid_auto_rows": null,
       "grid_column": null,
       "grid_gap": null,
       "grid_row": null,
       "grid_template_areas": null,
       "grid_template_columns": null,
       "grid_template_rows": null,
       "height": null,
       "justify_content": null,
       "justify_items": null,
       "left": null,
       "margin": null,
       "max_height": null,
       "max_width": null,
       "min_height": null,
       "min_width": null,
       "object_fit": null,
       "object_position": null,
       "order": null,
       "overflow": null,
       "overflow_x": null,
       "overflow_y": null,
       "padding": null,
       "right": null,
       "top": null,
       "visibility": null,
       "width": null
      }
     },
     "81ce1b27e0c5444a95a4587ec9db2ded": {
      "model_module": "@jupyter-widgets/controls",
      "model_module_version": "1.5.0",
      "model_name": "HTMLModel",
      "state": {
       "_dom_classes": [],
       "_model_module": "@jupyter-widgets/controls",
       "_model_module_version": "1.5.0",
       "_model_name": "HTMLModel",
       "_view_count": null,
       "_view_module": "@jupyter-widgets/controls",
       "_view_module_version": "1.5.0",
       "_view_name": "HTMLView",
       "description": "",
       "description_tooltip": null,
       "layout": "IPY_MODEL_c712545c1f32466f978d2668eceb6873",
       "placeholder": "​",
       "style": "IPY_MODEL_12191fbdefdd47e9a386e6414beb8643",
       "value": "data/train-00013-of-00017.parquet: 100%"
      }
     },
     "83a33967af494715a32c133cdb8056c3": {
      "model_module": "@jupyter-widgets/controls",
      "model_module_version": "1.5.0",
      "model_name": "FloatProgressModel",
      "state": {
       "_dom_classes": [],
       "_model_module": "@jupyter-widgets/controls",
       "_model_module_version": "1.5.0",
       "_model_name": "FloatProgressModel",
       "_view_count": null,
       "_view_module": "@jupyter-widgets/controls",
       "_view_module_version": "1.5.0",
       "_view_name": "ProgressView",
       "bar_style": "success",
       "description": "",
       "description_tooltip": null,
       "layout": "IPY_MODEL_43d5fd2ad5274af3923bfe2139fc01f3",
       "max": 454241231,
       "min": 0,
       "orientation": "horizontal",
       "style": "IPY_MODEL_648c6d8dffbb429db219feaa0f03cd21",
       "value": 454241231
      }
     },
     "83d94f813265493fa23ce48a3e759d92": {
      "model_module": "@jupyter-widgets/base",
      "model_module_version": "1.2.0",
      "model_name": "LayoutModel",
      "state": {
       "_model_module": "@jupyter-widgets/base",
       "_model_module_version": "1.2.0",
       "_model_name": "LayoutModel",
       "_view_count": null,
       "_view_module": "@jupyter-widgets/base",
       "_view_module_version": "1.2.0",
       "_view_name": "LayoutView",
       "align_content": null,
       "align_items": null,
       "align_self": null,
       "border": null,
       "bottom": null,
       "display": null,
       "flex": null,
       "flex_flow": null,
       "grid_area": null,
       "grid_auto_columns": null,
       "grid_auto_flow": null,
       "grid_auto_rows": null,
       "grid_column": null,
       "grid_gap": null,
       "grid_row": null,
       "grid_template_areas": null,
       "grid_template_columns": null,
       "grid_template_rows": null,
       "height": null,
       "justify_content": null,
       "justify_items": null,
       "left": null,
       "margin": null,
       "max_height": null,
       "max_width": null,
       "min_height": null,
       "min_width": null,
       "object_fit": null,
       "object_position": null,
       "order": null,
       "overflow": null,
       "overflow_x": null,
       "overflow_y": null,
       "padding": null,
       "right": null,
       "top": null,
       "visibility": null,
       "width": null
      }
     },
     "845ac19c480f4a728e6e69255a96ddfd": {
      "model_module": "@jupyter-widgets/base",
      "model_module_version": "1.2.0",
      "model_name": "LayoutModel",
      "state": {
       "_model_module": "@jupyter-widgets/base",
       "_model_module_version": "1.2.0",
       "_model_name": "LayoutModel",
       "_view_count": null,
       "_view_module": "@jupyter-widgets/base",
       "_view_module_version": "1.2.0",
       "_view_name": "LayoutView",
       "align_content": null,
       "align_items": null,
       "align_self": null,
       "border": null,
       "bottom": null,
       "display": null,
       "flex": null,
       "flex_flow": null,
       "grid_area": null,
       "grid_auto_columns": null,
       "grid_auto_flow": null,
       "grid_auto_rows": null,
       "grid_column": null,
       "grid_gap": null,
       "grid_row": null,
       "grid_template_areas": null,
       "grid_template_columns": null,
       "grid_template_rows": null,
       "height": null,
       "justify_content": null,
       "justify_items": null,
       "left": null,
       "margin": null,
       "max_height": null,
       "max_width": null,
       "min_height": null,
       "min_width": null,
       "object_fit": null,
       "object_position": null,
       "order": null,
       "overflow": null,
       "overflow_x": null,
       "overflow_y": null,
       "padding": null,
       "right": null,
       "top": null,
       "visibility": null,
       "width": null
      }
     },
     "847781e1a006475a81ba041fd4ffd390": {
      "model_module": "@jupyter-widgets/controls",
      "model_module_version": "1.5.0",
      "model_name": "HTMLModel",
      "state": {
       "_dom_classes": [],
       "_model_module": "@jupyter-widgets/controls",
       "_model_module_version": "1.5.0",
       "_model_name": "HTMLModel",
       "_view_count": null,
       "_view_module": "@jupyter-widgets/controls",
       "_view_module_version": "1.5.0",
       "_view_name": "HTMLView",
       "description": "",
       "description_tooltip": null,
       "layout": "IPY_MODEL_fa6f3e71e348424a844a21c24cd5b535",
       "placeholder": "​",
       "style": "IPY_MODEL_ccc3d21e641a47dc84012b2bbd7db731",
       "value": " 457M/457M [00:08&lt;00:00, 34.4MB/s]"
      }
     },
     "850e4a676532465d9b9a6948f782fbbf": {
      "model_module": "@jupyter-widgets/controls",
      "model_module_version": "1.5.0",
      "model_name": "DescriptionStyleModel",
      "state": {
       "_model_module": "@jupyter-widgets/controls",
       "_model_module_version": "1.5.0",
       "_model_name": "DescriptionStyleModel",
       "_view_count": null,
       "_view_module": "@jupyter-widgets/base",
       "_view_module_version": "1.2.0",
       "_view_name": "StyleView",
       "description_width": ""
      }
     },
     "8542ce877cd94f20aca83c3bfae45e6f": {
      "model_module": "@jupyter-widgets/controls",
      "model_module_version": "1.5.0",
      "model_name": "DescriptionStyleModel",
      "state": {
       "_model_module": "@jupyter-widgets/controls",
       "_model_module_version": "1.5.0",
       "_model_name": "DescriptionStyleModel",
       "_view_count": null,
       "_view_module": "@jupyter-widgets/base",
       "_view_module_version": "1.2.0",
       "_view_name": "StyleView",
       "description_width": ""
      }
     },
     "872c8748d91a458aa14ee11cc0e58bc8": {
      "model_module": "@jupyter-widgets/base",
      "model_module_version": "1.2.0",
      "model_name": "LayoutModel",
      "state": {
       "_model_module": "@jupyter-widgets/base",
       "_model_module_version": "1.2.0",
       "_model_name": "LayoutModel",
       "_view_count": null,
       "_view_module": "@jupyter-widgets/base",
       "_view_module_version": "1.2.0",
       "_view_name": "LayoutView",
       "align_content": null,
       "align_items": null,
       "align_self": null,
       "border": null,
       "bottom": null,
       "display": null,
       "flex": null,
       "flex_flow": null,
       "grid_area": null,
       "grid_auto_columns": null,
       "grid_auto_flow": null,
       "grid_auto_rows": null,
       "grid_column": null,
       "grid_gap": null,
       "grid_row": null,
       "grid_template_areas": null,
       "grid_template_columns": null,
       "grid_template_rows": null,
       "height": null,
       "justify_content": null,
       "justify_items": null,
       "left": null,
       "margin": null,
       "max_height": null,
       "max_width": null,
       "min_height": null,
       "min_width": null,
       "object_fit": null,
       "object_position": null,
       "order": null,
       "overflow": null,
       "overflow_x": null,
       "overflow_y": null,
       "padding": null,
       "right": null,
       "top": null,
       "visibility": null,
       "width": null
      }
     },
     "8940cbab2b82470983e742fd6dc5d9b5": {
      "model_module": "@jupyter-widgets/base",
      "model_module_version": "1.2.0",
      "model_name": "LayoutModel",
      "state": {
       "_model_module": "@jupyter-widgets/base",
       "_model_module_version": "1.2.0",
       "_model_name": "LayoutModel",
       "_view_count": null,
       "_view_module": "@jupyter-widgets/base",
       "_view_module_version": "1.2.0",
       "_view_name": "LayoutView",
       "align_content": null,
       "align_items": null,
       "align_self": null,
       "border": null,
       "bottom": null,
       "display": null,
       "flex": null,
       "flex_flow": null,
       "grid_area": null,
       "grid_auto_columns": null,
       "grid_auto_flow": null,
       "grid_auto_rows": null,
       "grid_column": null,
       "grid_gap": null,
       "grid_row": null,
       "grid_template_areas": null,
       "grid_template_columns": null,
       "grid_template_rows": null,
       "height": null,
       "justify_content": null,
       "justify_items": null,
       "left": null,
       "margin": null,
       "max_height": null,
       "max_width": null,
       "min_height": null,
       "min_width": null,
       "object_fit": null,
       "object_position": null,
       "order": null,
       "overflow": null,
       "overflow_x": null,
       "overflow_y": null,
       "padding": null,
       "right": null,
       "top": null,
       "visibility": null,
       "width": null
      }
     },
     "89e010b8a4264ceeaddd42d680c4b52c": {
      "model_module": "@jupyter-widgets/controls",
      "model_module_version": "1.5.0",
      "model_name": "DescriptionStyleModel",
      "state": {
       "_model_module": "@jupyter-widgets/controls",
       "_model_module_version": "1.5.0",
       "_model_name": "DescriptionStyleModel",
       "_view_count": null,
       "_view_module": "@jupyter-widgets/base",
       "_view_module_version": "1.2.0",
       "_view_name": "StyleView",
       "description_width": ""
      }
     },
     "8a36842e8e1741c896bfc4700d4824e1": {
      "model_module": "@jupyter-widgets/controls",
      "model_module_version": "1.5.0",
      "model_name": "HTMLModel",
      "state": {
       "_dom_classes": [],
       "_model_module": "@jupyter-widgets/controls",
       "_model_module_version": "1.5.0",
       "_model_name": "HTMLModel",
       "_view_count": null,
       "_view_module": "@jupyter-widgets/controls",
       "_view_module_version": "1.5.0",
       "_view_name": "HTMLView",
       "description": "",
       "description_tooltip": null,
       "layout": "IPY_MODEL_cd955378ebbe46fa80f2485e85343a42",
       "placeholder": "​",
       "style": "IPY_MODEL_8542ce877cd94f20aca83c3bfae45e6f",
       "value": "data/train-00003-of-00017.parquet: 100%"
      }
     },
     "8ab5bc10835d48edacf99bfa433ffb5e": {
      "model_module": "@jupyter-widgets/controls",
      "model_module_version": "1.5.0",
      "model_name": "HTMLModel",
      "state": {
       "_dom_classes": [],
       "_model_module": "@jupyter-widgets/controls",
       "_model_module_version": "1.5.0",
       "_model_name": "HTMLModel",
       "_view_count": null,
       "_view_module": "@jupyter-widgets/controls",
       "_view_module_version": "1.5.0",
       "_view_name": "HTMLView",
       "description": "",
       "description_tooltip": null,
       "layout": "IPY_MODEL_c8856b045be845cea5328be679cf3766",
       "placeholder": "​",
       "style": "IPY_MODEL_178ef7f9ea7a49f7b32e79b85912a316",
       "value": " 5000/5000 [00:01&lt;00:00, 3510.69 examples/s]"
      }
     },
     "8b079f5a51634e60acb30aa2f80f8c84": {
      "model_module": "@jupyter-widgets/base",
      "model_module_version": "1.2.0",
      "model_name": "LayoutModel",
      "state": {
       "_model_module": "@jupyter-widgets/base",
       "_model_module_version": "1.2.0",
       "_model_name": "LayoutModel",
       "_view_count": null,
       "_view_module": "@jupyter-widgets/base",
       "_view_module_version": "1.2.0",
       "_view_name": "LayoutView",
       "align_content": null,
       "align_items": null,
       "align_self": null,
       "border": null,
       "bottom": null,
       "display": null,
       "flex": null,
       "flex_flow": null,
       "grid_area": null,
       "grid_auto_columns": null,
       "grid_auto_flow": null,
       "grid_auto_rows": null,
       "grid_column": null,
       "grid_gap": null,
       "grid_row": null,
       "grid_template_areas": null,
       "grid_template_columns": null,
       "grid_template_rows": null,
       "height": null,
       "justify_content": null,
       "justify_items": null,
       "left": null,
       "margin": null,
       "max_height": null,
       "max_width": null,
       "min_height": null,
       "min_width": null,
       "object_fit": null,
       "object_position": null,
       "order": null,
       "overflow": null,
       "overflow_x": null,
       "overflow_y": null,
       "padding": null,
       "right": null,
       "top": null,
       "visibility": null,
       "width": null
      }
     },
     "8b28e500df0f46b1b64c364e91b9066e": {
      "model_module": "@jupyter-widgets/controls",
      "model_module_version": "1.5.0",
      "model_name": "FloatProgressModel",
      "state": {
       "_dom_classes": [],
       "_model_module": "@jupyter-widgets/controls",
       "_model_module_version": "1.5.0",
       "_model_name": "FloatProgressModel",
       "_view_count": null,
       "_view_module": "@jupyter-widgets/controls",
       "_view_module_version": "1.5.0",
       "_view_name": "ProgressView",
       "bar_style": "success",
       "description": "",
       "description_tooltip": null,
       "layout": "IPY_MODEL_17aa1c58a83b49bfafe5e0b5abd75073",
       "max": 521602305,
       "min": 0,
       "orientation": "horizontal",
       "style": "IPY_MODEL_55b7a7656cf84ab5bf0dddcca07861d7",
       "value": 521602305
      }
     },
     "8b982e96932d43499cdb7cbad202260c": {
      "model_module": "@jupyter-widgets/base",
      "model_module_version": "1.2.0",
      "model_name": "LayoutModel",
      "state": {
       "_model_module": "@jupyter-widgets/base",
       "_model_module_version": "1.2.0",
       "_model_name": "LayoutModel",
       "_view_count": null,
       "_view_module": "@jupyter-widgets/base",
       "_view_module_version": "1.2.0",
       "_view_name": "LayoutView",
       "align_content": null,
       "align_items": null,
       "align_self": null,
       "border": null,
       "bottom": null,
       "display": null,
       "flex": null,
       "flex_flow": null,
       "grid_area": null,
       "grid_auto_columns": null,
       "grid_auto_flow": null,
       "grid_auto_rows": null,
       "grid_column": null,
       "grid_gap": null,
       "grid_row": null,
       "grid_template_areas": null,
       "grid_template_columns": null,
       "grid_template_rows": null,
       "height": null,
       "justify_content": null,
       "justify_items": null,
       "left": null,
       "margin": null,
       "max_height": null,
       "max_width": null,
       "min_height": null,
       "min_width": null,
       "object_fit": null,
       "object_position": null,
       "order": null,
       "overflow": null,
       "overflow_x": null,
       "overflow_y": null,
       "padding": null,
       "right": null,
       "top": null,
       "visibility": null,
       "width": null
      }
     },
     "8c6c099d6ead4baaa1b0548e8384827c": {
      "model_module": "@jupyter-widgets/controls",
      "model_module_version": "1.5.0",
      "model_name": "FloatProgressModel",
      "state": {
       "_dom_classes": [],
       "_model_module": "@jupyter-widgets/controls",
       "_model_module_version": "1.5.0",
       "_model_name": "FloatProgressModel",
       "_view_count": null,
       "_view_module": "@jupyter-widgets/controls",
       "_view_module_version": "1.5.0",
       "_view_name": "ProgressView",
       "bar_style": "success",
       "description": "",
       "description_tooltip": null,
       "layout": "IPY_MODEL_94c7677607244185bc6b94b0dc844ef6",
       "max": 17,
       "min": 0,
       "orientation": "horizontal",
       "style": "IPY_MODEL_67ea6070ce9c4890977612b4ba1b9c9a",
       "value": 17
      }
     },
     "8d28cadc986546f6ba2a4b9f68516019": {
      "model_module": "@jupyter-widgets/base",
      "model_module_version": "1.2.0",
      "model_name": "LayoutModel",
      "state": {
       "_model_module": "@jupyter-widgets/base",
       "_model_module_version": "1.2.0",
       "_model_name": "LayoutModel",
       "_view_count": null,
       "_view_module": "@jupyter-widgets/base",
       "_view_module_version": "1.2.0",
       "_view_name": "LayoutView",
       "align_content": null,
       "align_items": null,
       "align_self": null,
       "border": null,
       "bottom": null,
       "display": null,
       "flex": null,
       "flex_flow": null,
       "grid_area": null,
       "grid_auto_columns": null,
       "grid_auto_flow": null,
       "grid_auto_rows": null,
       "grid_column": null,
       "grid_gap": null,
       "grid_row": null,
       "grid_template_areas": null,
       "grid_template_columns": null,
       "grid_template_rows": null,
       "height": null,
       "justify_content": null,
       "justify_items": null,
       "left": null,
       "margin": null,
       "max_height": null,
       "max_width": null,
       "min_height": null,
       "min_width": null,
       "object_fit": null,
       "object_position": null,
       "order": null,
       "overflow": null,
       "overflow_x": null,
       "overflow_y": null,
       "padding": null,
       "right": null,
       "top": null,
       "visibility": null,
       "width": null
      }
     },
     "8e226f89800343a78a4692f68807a954": {
      "model_module": "@jupyter-widgets/base",
      "model_module_version": "1.2.0",
      "model_name": "LayoutModel",
      "state": {
       "_model_module": "@jupyter-widgets/base",
       "_model_module_version": "1.2.0",
       "_model_name": "LayoutModel",
       "_view_count": null,
       "_view_module": "@jupyter-widgets/base",
       "_view_module_version": "1.2.0",
       "_view_name": "LayoutView",
       "align_content": null,
       "align_items": null,
       "align_self": null,
       "border": null,
       "bottom": null,
       "display": null,
       "flex": null,
       "flex_flow": null,
       "grid_area": null,
       "grid_auto_columns": null,
       "grid_auto_flow": null,
       "grid_auto_rows": null,
       "grid_column": null,
       "grid_gap": null,
       "grid_row": null,
       "grid_template_areas": null,
       "grid_template_columns": null,
       "grid_template_rows": null,
       "height": null,
       "justify_content": null,
       "justify_items": null,
       "left": null,
       "margin": null,
       "max_height": null,
       "max_width": null,
       "min_height": null,
       "min_width": null,
       "object_fit": null,
       "object_position": null,
       "order": null,
       "overflow": null,
       "overflow_x": null,
       "overflow_y": null,
       "padding": null,
       "right": null,
       "top": null,
       "visibility": null,
       "width": null
      }
     },
     "8f30adc6fd7343a2b8934f6935afca2f": {
      "model_module": "@jupyter-widgets/controls",
      "model_module_version": "1.5.0",
      "model_name": "ProgressStyleModel",
      "state": {
       "_model_module": "@jupyter-widgets/controls",
       "_model_module_version": "1.5.0",
       "_model_name": "ProgressStyleModel",
       "_view_count": null,
       "_view_module": "@jupyter-widgets/base",
       "_view_module_version": "1.2.0",
       "_view_name": "StyleView",
       "bar_color": null,
       "description_width": ""
      }
     },
     "8fd245b9298f404b84ef464cd2f7770a": {
      "model_module": "@jupyter-widgets/controls",
      "model_module_version": "1.5.0",
      "model_name": "ProgressStyleModel",
      "state": {
       "_model_module": "@jupyter-widgets/controls",
       "_model_module_version": "1.5.0",
       "_model_name": "ProgressStyleModel",
       "_view_count": null,
       "_view_module": "@jupyter-widgets/base",
       "_view_module_version": "1.2.0",
       "_view_name": "StyleView",
       "bar_color": null,
       "description_width": ""
      }
     },
     "924fb295b39a437bbffc9d122036d569": {
      "model_module": "@jupyter-widgets/base",
      "model_module_version": "1.2.0",
      "model_name": "LayoutModel",
      "state": {
       "_model_module": "@jupyter-widgets/base",
       "_model_module_version": "1.2.0",
       "_model_name": "LayoutModel",
       "_view_count": null,
       "_view_module": "@jupyter-widgets/base",
       "_view_module_version": "1.2.0",
       "_view_name": "LayoutView",
       "align_content": null,
       "align_items": null,
       "align_self": null,
       "border": null,
       "bottom": null,
       "display": null,
       "flex": null,
       "flex_flow": null,
       "grid_area": null,
       "grid_auto_columns": null,
       "grid_auto_flow": null,
       "grid_auto_rows": null,
       "grid_column": null,
       "grid_gap": null,
       "grid_row": null,
       "grid_template_areas": null,
       "grid_template_columns": null,
       "grid_template_rows": null,
       "height": null,
       "justify_content": null,
       "justify_items": null,
       "left": null,
       "margin": null,
       "max_height": null,
       "max_width": null,
       "min_height": null,
       "min_width": null,
       "object_fit": null,
       "object_position": null,
       "order": null,
       "overflow": null,
       "overflow_x": null,
       "overflow_y": null,
       "padding": null,
       "right": null,
       "top": null,
       "visibility": null,
       "width": null
      }
     },
     "9371f4a41c9041d8924206d7e843e005": {
      "model_module": "@jupyter-widgets/controls",
      "model_module_version": "1.5.0",
      "model_name": "HTMLModel",
      "state": {
       "_dom_classes": [],
       "_model_module": "@jupyter-widgets/controls",
       "_model_module_version": "1.5.0",
       "_model_name": "HTMLModel",
       "_view_count": null,
       "_view_module": "@jupyter-widgets/controls",
       "_view_module_version": "1.5.0",
       "_view_name": "HTMLView",
       "description": "",
       "description_tooltip": null,
       "layout": "IPY_MODEL_924fb295b39a437bbffc9d122036d569",
       "placeholder": "​",
       "style": "IPY_MODEL_dfe6278abe5c4bf9a7c6737c475e9fa4",
       "value": " 468M/468M [00:11&lt;00:00, 71.9MB/s]"
      }
     },
     "93772741af814828bddfe4d370078a04": {
      "model_module": "@jupyter-widgets/controls",
      "model_module_version": "1.5.0",
      "model_name": "ProgressStyleModel",
      "state": {
       "_model_module": "@jupyter-widgets/controls",
       "_model_module_version": "1.5.0",
       "_model_name": "ProgressStyleModel",
       "_view_count": null,
       "_view_module": "@jupyter-widgets/base",
       "_view_module_version": "1.2.0",
       "_view_name": "StyleView",
       "bar_color": null,
       "description_width": ""
      }
     },
     "93b5487de03d44d59b62cca537fe853f": {
      "model_module": "@jupyter-widgets/base",
      "model_module_version": "1.2.0",
      "model_name": "LayoutModel",
      "state": {
       "_model_module": "@jupyter-widgets/base",
       "_model_module_version": "1.2.0",
       "_model_name": "LayoutModel",
       "_view_count": null,
       "_view_module": "@jupyter-widgets/base",
       "_view_module_version": "1.2.0",
       "_view_name": "LayoutView",
       "align_content": null,
       "align_items": null,
       "align_self": null,
       "border": null,
       "bottom": null,
       "display": null,
       "flex": null,
       "flex_flow": null,
       "grid_area": null,
       "grid_auto_columns": null,
       "grid_auto_flow": null,
       "grid_auto_rows": null,
       "grid_column": null,
       "grid_gap": null,
       "grid_row": null,
       "grid_template_areas": null,
       "grid_template_columns": null,
       "grid_template_rows": null,
       "height": null,
       "justify_content": null,
       "justify_items": null,
       "left": null,
       "margin": null,
       "max_height": null,
       "max_width": null,
       "min_height": null,
       "min_width": null,
       "object_fit": null,
       "object_position": null,
       "order": null,
       "overflow": null,
       "overflow_x": null,
       "overflow_y": null,
       "padding": null,
       "right": null,
       "top": null,
       "visibility": null,
       "width": null
      }
     },
     "9471e9b51c1d43d182ce511af802d961": {
      "model_module": "@jupyter-widgets/base",
      "model_module_version": "1.2.0",
      "model_name": "LayoutModel",
      "state": {
       "_model_module": "@jupyter-widgets/base",
       "_model_module_version": "1.2.0",
       "_model_name": "LayoutModel",
       "_view_count": null,
       "_view_module": "@jupyter-widgets/base",
       "_view_module_version": "1.2.0",
       "_view_name": "LayoutView",
       "align_content": null,
       "align_items": null,
       "align_self": null,
       "border": null,
       "bottom": null,
       "display": null,
       "flex": null,
       "flex_flow": null,
       "grid_area": null,
       "grid_auto_columns": null,
       "grid_auto_flow": null,
       "grid_auto_rows": null,
       "grid_column": null,
       "grid_gap": null,
       "grid_row": null,
       "grid_template_areas": null,
       "grid_template_columns": null,
       "grid_template_rows": null,
       "height": null,
       "justify_content": null,
       "justify_items": null,
       "left": null,
       "margin": null,
       "max_height": null,
       "max_width": null,
       "min_height": null,
       "min_width": null,
       "object_fit": null,
       "object_position": null,
       "order": null,
       "overflow": null,
       "overflow_x": null,
       "overflow_y": null,
       "padding": null,
       "right": null,
       "top": null,
       "visibility": null,
       "width": "20px"
      }
     },
     "94c7677607244185bc6b94b0dc844ef6": {
      "model_module": "@jupyter-widgets/base",
      "model_module_version": "1.2.0",
      "model_name": "LayoutModel",
      "state": {
       "_model_module": "@jupyter-widgets/base",
       "_model_module_version": "1.2.0",
       "_model_name": "LayoutModel",
       "_view_count": null,
       "_view_module": "@jupyter-widgets/base",
       "_view_module_version": "1.2.0",
       "_view_name": "LayoutView",
       "align_content": null,
       "align_items": null,
       "align_self": null,
       "border": null,
       "bottom": null,
       "display": null,
       "flex": null,
       "flex_flow": null,
       "grid_area": null,
       "grid_auto_columns": null,
       "grid_auto_flow": null,
       "grid_auto_rows": null,
       "grid_column": null,
       "grid_gap": null,
       "grid_row": null,
       "grid_template_areas": null,
       "grid_template_columns": null,
       "grid_template_rows": null,
       "height": null,
       "justify_content": null,
       "justify_items": null,
       "left": null,
       "margin": null,
       "max_height": null,
       "max_width": null,
       "min_height": null,
       "min_width": null,
       "object_fit": null,
       "object_position": null,
       "order": null,
       "overflow": null,
       "overflow_x": null,
       "overflow_y": null,
       "padding": null,
       "right": null,
       "top": null,
       "visibility": null,
       "width": null
      }
     },
     "98e38fcd22db4ef1992d52faeeb1726a": {
      "model_module": "@jupyter-widgets/controls",
      "model_module_version": "1.5.0",
      "model_name": "DescriptionStyleModel",
      "state": {
       "_model_module": "@jupyter-widgets/controls",
       "_model_module_version": "1.5.0",
       "_model_name": "DescriptionStyleModel",
       "_view_count": null,
       "_view_module": "@jupyter-widgets/base",
       "_view_module_version": "1.2.0",
       "_view_name": "StyleView",
       "description_width": ""
      }
     },
     "99246b84e2e442b6bd4a4b4e1e5f1d60": {
      "model_module": "@jupyter-widgets/base",
      "model_module_version": "1.2.0",
      "model_name": "LayoutModel",
      "state": {
       "_model_module": "@jupyter-widgets/base",
       "_model_module_version": "1.2.0",
       "_model_name": "LayoutModel",
       "_view_count": null,
       "_view_module": "@jupyter-widgets/base",
       "_view_module_version": "1.2.0",
       "_view_name": "LayoutView",
       "align_content": null,
       "align_items": null,
       "align_self": null,
       "border": null,
       "bottom": null,
       "display": null,
       "flex": null,
       "flex_flow": null,
       "grid_area": null,
       "grid_auto_columns": null,
       "grid_auto_flow": null,
       "grid_auto_rows": null,
       "grid_column": null,
       "grid_gap": null,
       "grid_row": null,
       "grid_template_areas": null,
       "grid_template_columns": null,
       "grid_template_rows": null,
       "height": null,
       "justify_content": null,
       "justify_items": null,
       "left": null,
       "margin": null,
       "max_height": null,
       "max_width": null,
       "min_height": null,
       "min_width": null,
       "object_fit": null,
       "object_position": null,
       "order": null,
       "overflow": null,
       "overflow_x": null,
       "overflow_y": null,
       "padding": null,
       "right": null,
       "top": null,
       "visibility": null,
       "width": null
      }
     },
     "9a860bdb248342b6aa66de2a8003a66c": {
      "model_module": "@jupyter-widgets/controls",
      "model_module_version": "1.5.0",
      "model_name": "DescriptionStyleModel",
      "state": {
       "_model_module": "@jupyter-widgets/controls",
       "_model_module_version": "1.5.0",
       "_model_name": "DescriptionStyleModel",
       "_view_count": null,
       "_view_module": "@jupyter-widgets/base",
       "_view_module_version": "1.2.0",
       "_view_name": "StyleView",
       "description_width": ""
      }
     },
     "9c5dfc28eb66421aa89767aa69c87408": {
      "model_module": "@jupyter-widgets/controls",
      "model_module_version": "1.5.0",
      "model_name": "HTMLModel",
      "state": {
       "_dom_classes": [],
       "_model_module": "@jupyter-widgets/controls",
       "_model_module_version": "1.5.0",
       "_model_name": "HTMLModel",
       "_view_count": null,
       "_view_module": "@jupyter-widgets/controls",
       "_view_module_version": "1.5.0",
       "_view_name": "HTMLView",
       "description": "",
       "description_tooltip": null,
       "layout": "IPY_MODEL_4dba99875c934cbb95e8691fd72430c4",
       "placeholder": "​",
       "style": "IPY_MODEL_fea923ed724a46ed8d96ce5bf3ba24b8",
       "value": "data/train-00006-of-00017.parquet: 100%"
      }
     },
     "9c758a0fd74c4ef8a6aea37e61fed0ca": {
      "model_module": "@jupyter-widgets/controls",
      "model_module_version": "1.5.0",
      "model_name": "FloatProgressModel",
      "state": {
       "_dom_classes": [],
       "_model_module": "@jupyter-widgets/controls",
       "_model_module_version": "1.5.0",
       "_model_name": "FloatProgressModel",
       "_view_count": null,
       "_view_module": "@jupyter-widgets/controls",
       "_view_module_version": "1.5.0",
       "_view_name": "ProgressView",
       "bar_style": "success",
       "description": "",
       "description_tooltip": null,
       "layout": "IPY_MODEL_67b8beb7d2a94158b8180311cc656c79",
       "max": 17,
       "min": 0,
       "orientation": "horizontal",
       "style": "IPY_MODEL_675bfb271bd9469f9265959801554e63",
       "value": 17
      }
     },
     "9da35fc0f36042ce87ce9ac843292ed0": {
      "model_module": "@jupyter-widgets/controls",
      "model_module_version": "1.5.0",
      "model_name": "DescriptionStyleModel",
      "state": {
       "_model_module": "@jupyter-widgets/controls",
       "_model_module_version": "1.5.0",
       "_model_name": "DescriptionStyleModel",
       "_view_count": null,
       "_view_module": "@jupyter-widgets/base",
       "_view_module_version": "1.2.0",
       "_view_name": "StyleView",
       "description_width": ""
      }
     },
     "9f0e42ed517f4bfd8c4dffa3cf64fd21": {
      "model_module": "@jupyter-widgets/controls",
      "model_module_version": "1.5.0",
      "model_name": "DescriptionStyleModel",
      "state": {
       "_model_module": "@jupyter-widgets/controls",
       "_model_module_version": "1.5.0",
       "_model_name": "DescriptionStyleModel",
       "_view_count": null,
       "_view_module": "@jupyter-widgets/base",
       "_view_module_version": "1.2.0",
       "_view_name": "StyleView",
       "description_width": ""
      }
     },
     "9fed3eb42ade417687210ffec6c3bc2e": {
      "model_module": "@jupyter-widgets/base",
      "model_module_version": "1.2.0",
      "model_name": "LayoutModel",
      "state": {
       "_model_module": "@jupyter-widgets/base",
       "_model_module_version": "1.2.0",
       "_model_name": "LayoutModel",
       "_view_count": null,
       "_view_module": "@jupyter-widgets/base",
       "_view_module_version": "1.2.0",
       "_view_name": "LayoutView",
       "align_content": null,
       "align_items": null,
       "align_self": null,
       "border": null,
       "bottom": null,
       "display": null,
       "flex": null,
       "flex_flow": null,
       "grid_area": null,
       "grid_auto_columns": null,
       "grid_auto_flow": null,
       "grid_auto_rows": null,
       "grid_column": null,
       "grid_gap": null,
       "grid_row": null,
       "grid_template_areas": null,
       "grid_template_columns": null,
       "grid_template_rows": null,
       "height": null,
       "justify_content": null,
       "justify_items": null,
       "left": null,
       "margin": null,
       "max_height": null,
       "max_width": null,
       "min_height": null,
       "min_width": null,
       "object_fit": null,
       "object_position": null,
       "order": null,
       "overflow": null,
       "overflow_x": null,
       "overflow_y": null,
       "padding": null,
       "right": null,
       "top": null,
       "visibility": null,
       "width": null
      }
     },
     "a0b80cddf2224658a3cafa31b7d8ff30": {
      "model_module": "@jupyter-widgets/controls",
      "model_module_version": "1.5.0",
      "model_name": "DescriptionStyleModel",
      "state": {
       "_model_module": "@jupyter-widgets/controls",
       "_model_module_version": "1.5.0",
       "_model_name": "DescriptionStyleModel",
       "_view_count": null,
       "_view_module": "@jupyter-widgets/base",
       "_view_module_version": "1.2.0",
       "_view_name": "StyleView",
       "description_width": ""
      }
     },
     "a175cfe4c5a3443f84c70775ac31afbd": {
      "model_module": "@jupyter-widgets/controls",
      "model_module_version": "1.5.0",
      "model_name": "HTMLModel",
      "state": {
       "_dom_classes": [],
       "_model_module": "@jupyter-widgets/controls",
       "_model_module_version": "1.5.0",
       "_model_name": "HTMLModel",
       "_view_count": null,
       "_view_module": "@jupyter-widgets/controls",
       "_view_module_version": "1.5.0",
       "_view_name": "HTMLView",
       "description": "",
       "description_tooltip": null,
       "layout": "IPY_MODEL_e6f66bb906944718ae3f4b16276f2fef",
       "placeholder": "​",
       "style": "IPY_MODEL_c34ca5195057439880171c1af4f6d505",
       "value": " 473M/473M [00:06&lt;00:00, 88.9MB/s]"
      }
     },
     "a3933b14cfa74dc6912ebf0ed46e0564": {
      "model_module": "@jupyter-widgets/controls",
      "model_module_version": "1.5.0",
      "model_name": "FloatProgressModel",
      "state": {
       "_dom_classes": [],
       "_model_module": "@jupyter-widgets/controls",
       "_model_module_version": "1.5.0",
       "_model_name": "FloatProgressModel",
       "_view_count": null,
       "_view_module": "@jupyter-widgets/controls",
       "_view_module_version": "1.5.0",
       "_view_name": "ProgressView",
       "bar_style": "success",
       "description": "",
       "description_tooltip": null,
       "layout": "IPY_MODEL_5c7bb9b79f3e46bba5f625e4b042cf5d",
       "max": 451450200,
       "min": 0,
       "orientation": "horizontal",
       "style": "IPY_MODEL_b5851bec3482455f94e6277b8ee806bb",
       "value": 451450200
      }
     },
     "a3e527c904554505b899bb06698f917a": {
      "model_module": "@jupyter-widgets/base",
      "model_module_version": "1.2.0",
      "model_name": "LayoutModel",
      "state": {
       "_model_module": "@jupyter-widgets/base",
       "_model_module_version": "1.2.0",
       "_model_name": "LayoutModel",
       "_view_count": null,
       "_view_module": "@jupyter-widgets/base",
       "_view_module_version": "1.2.0",
       "_view_name": "LayoutView",
       "align_content": null,
       "align_items": null,
       "align_self": null,
       "border": null,
       "bottom": null,
       "display": null,
       "flex": null,
       "flex_flow": null,
       "grid_area": null,
       "grid_auto_columns": null,
       "grid_auto_flow": null,
       "grid_auto_rows": null,
       "grid_column": null,
       "grid_gap": null,
       "grid_row": null,
       "grid_template_areas": null,
       "grid_template_columns": null,
       "grid_template_rows": null,
       "height": null,
       "justify_content": null,
       "justify_items": null,
       "left": null,
       "margin": null,
       "max_height": null,
       "max_width": null,
       "min_height": null,
       "min_width": null,
       "object_fit": null,
       "object_position": null,
       "order": null,
       "overflow": null,
       "overflow_x": null,
       "overflow_y": null,
       "padding": null,
       "right": null,
       "top": null,
       "visibility": null,
       "width": null
      }
     },
     "a3f95e7510f8481bb2e3fc5bea9e0f01": {
      "model_module": "@jupyter-widgets/base",
      "model_module_version": "1.2.0",
      "model_name": "LayoutModel",
      "state": {
       "_model_module": "@jupyter-widgets/base",
       "_model_module_version": "1.2.0",
       "_model_name": "LayoutModel",
       "_view_count": null,
       "_view_module": "@jupyter-widgets/base",
       "_view_module_version": "1.2.0",
       "_view_name": "LayoutView",
       "align_content": null,
       "align_items": null,
       "align_self": null,
       "border": null,
       "bottom": null,
       "display": null,
       "flex": null,
       "flex_flow": null,
       "grid_area": null,
       "grid_auto_columns": null,
       "grid_auto_flow": null,
       "grid_auto_rows": null,
       "grid_column": null,
       "grid_gap": null,
       "grid_row": null,
       "grid_template_areas": null,
       "grid_template_columns": null,
       "grid_template_rows": null,
       "height": null,
       "justify_content": null,
       "justify_items": null,
       "left": null,
       "margin": null,
       "max_height": null,
       "max_width": null,
       "min_height": null,
       "min_width": null,
       "object_fit": null,
       "object_position": null,
       "order": null,
       "overflow": null,
       "overflow_x": null,
       "overflow_y": null,
       "padding": null,
       "right": null,
       "top": null,
       "visibility": null,
       "width": null
      }
     },
     "a446ee8b2ac9426e8f82fe1801787b1e": {
      "model_module": "@jupyter-widgets/base",
      "model_module_version": "1.2.0",
      "model_name": "LayoutModel",
      "state": {
       "_model_module": "@jupyter-widgets/base",
       "_model_module_version": "1.2.0",
       "_model_name": "LayoutModel",
       "_view_count": null,
       "_view_module": "@jupyter-widgets/base",
       "_view_module_version": "1.2.0",
       "_view_name": "LayoutView",
       "align_content": null,
       "align_items": null,
       "align_self": null,
       "border": null,
       "bottom": null,
       "display": null,
       "flex": null,
       "flex_flow": null,
       "grid_area": null,
       "grid_auto_columns": null,
       "grid_auto_flow": null,
       "grid_auto_rows": null,
       "grid_column": null,
       "grid_gap": null,
       "grid_row": null,
       "grid_template_areas": null,
       "grid_template_columns": null,
       "grid_template_rows": null,
       "height": null,
       "justify_content": null,
       "justify_items": null,
       "left": null,
       "margin": null,
       "max_height": null,
       "max_width": null,
       "min_height": null,
       "min_width": null,
       "object_fit": null,
       "object_position": null,
       "order": null,
       "overflow": null,
       "overflow_x": null,
       "overflow_y": null,
       "padding": null,
       "right": null,
       "top": null,
       "visibility": null,
       "width": null
      }
     },
     "a6181fd66ec74a7eaa2be8fa54630c45": {
      "model_module": "@jupyter-widgets/base",
      "model_module_version": "1.2.0",
      "model_name": "LayoutModel",
      "state": {
       "_model_module": "@jupyter-widgets/base",
       "_model_module_version": "1.2.0",
       "_model_name": "LayoutModel",
       "_view_count": null,
       "_view_module": "@jupyter-widgets/base",
       "_view_module_version": "1.2.0",
       "_view_name": "LayoutView",
       "align_content": null,
       "align_items": null,
       "align_self": null,
       "border": null,
       "bottom": null,
       "display": null,
       "flex": null,
       "flex_flow": null,
       "grid_area": null,
       "grid_auto_columns": null,
       "grid_auto_flow": null,
       "grid_auto_rows": null,
       "grid_column": null,
       "grid_gap": null,
       "grid_row": null,
       "grid_template_areas": null,
       "grid_template_columns": null,
       "grid_template_rows": null,
       "height": null,
       "justify_content": null,
       "justify_items": null,
       "left": null,
       "margin": null,
       "max_height": null,
       "max_width": null,
       "min_height": null,
       "min_width": null,
       "object_fit": null,
       "object_position": null,
       "order": null,
       "overflow": null,
       "overflow_x": null,
       "overflow_y": null,
       "padding": null,
       "right": null,
       "top": null,
       "visibility": null,
       "width": null
      }
     },
     "a66d814e1a0b470c98398532b00ee68e": {
      "model_module": "@jupyter-widgets/controls",
      "model_module_version": "1.5.0",
      "model_name": "HBoxModel",
      "state": {
       "_dom_classes": [],
       "_model_module": "@jupyter-widgets/controls",
       "_model_module_version": "1.5.0",
       "_model_name": "HBoxModel",
       "_view_count": null,
       "_view_module": "@jupyter-widgets/controls",
       "_view_module_version": "1.5.0",
       "_view_name": "HBoxView",
       "box_style": "",
       "children": [
        "IPY_MODEL_8a36842e8e1741c896bfc4700d4824e1",
        "IPY_MODEL_7b7d78dbd0f24a63bf8c479f893eb149",
        "IPY_MODEL_ae99f9fd5f124fb6abb8862594e5d8ae"
       ],
       "layout": "IPY_MODEL_41cf74ae16d54736a50c0a5a77fc16eb"
      }
     },
     "a7495d291a7749519738c4b9213a0cba": {
      "model_module": "@jupyter-widgets/controls",
      "model_module_version": "1.5.0",
      "model_name": "HBoxModel",
      "state": {
       "_dom_classes": [],
       "_model_module": "@jupyter-widgets/controls",
       "_model_module_version": "1.5.0",
       "_model_name": "HBoxModel",
       "_view_count": null,
       "_view_module": "@jupyter-widgets/controls",
       "_view_module_version": "1.5.0",
       "_view_name": "HBoxView",
       "box_style": "",
       "children": [
        "IPY_MODEL_e5fb715788674c3097a1733f930a988d",
        "IPY_MODEL_cee8a121f55d4cfb8aa07611fa1d55d6",
        "IPY_MODEL_4c017640c0ec41709ad2a88b6e519231"
       ],
       "layout": "IPY_MODEL_18621c5f284c47d4a5a208c6194705b1"
      }
     },
     "a79f27332f0d49eda38eca418508eb47": {
      "model_module": "@jupyter-widgets/controls",
      "model_module_version": "1.5.0",
      "model_name": "HBoxModel",
      "state": {
       "_dom_classes": [],
       "_model_module": "@jupyter-widgets/controls",
       "_model_module_version": "1.5.0",
       "_model_name": "HBoxModel",
       "_view_count": null,
       "_view_module": "@jupyter-widgets/controls",
       "_view_module_version": "1.5.0",
       "_view_name": "HBoxView",
       "box_style": "",
       "children": [
        "IPY_MODEL_65d8294526b94b798cf7e19cd703090c",
        "IPY_MODEL_0c6a5f9ae7444ae6bcbe0615082270c2",
        "IPY_MODEL_d4beffac939b47eba0ef0eda76d6cda4"
       ],
       "layout": "IPY_MODEL_fd362b6bd4bd4bf88ae1438a301baba6"
      }
     },
     "a86eb39772de4d8a936cde5b14589453": {
      "model_module": "@jupyter-widgets/controls",
      "model_module_version": "1.5.0",
      "model_name": "HTMLModel",
      "state": {
       "_dom_classes": [],
       "_model_module": "@jupyter-widgets/controls",
       "_model_module_version": "1.5.0",
       "_model_name": "HTMLModel",
       "_view_count": null,
       "_view_module": "@jupyter-widgets/controls",
       "_view_module_version": "1.5.0",
       "_view_name": "HTMLView",
       "description": "",
       "description_tooltip": null,
       "layout": "IPY_MODEL_7726c58f54c1455a8993d2ffad51b129",
       "placeholder": "​",
       "style": "IPY_MODEL_d424f0e731e14bf9b7b9b6e6a5e9d2ed",
       "value": " 469M/469M [00:06&lt;00:00, 116MB/s]"
      }
     },
     "a9eb0e92261243fe84160a259e4d8e63": {
      "model_module": "@jupyter-widgets/controls",
      "model_module_version": "1.5.0",
      "model_name": "ProgressStyleModel",
      "state": {
       "_model_module": "@jupyter-widgets/controls",
       "_model_module_version": "1.5.0",
       "_model_name": "ProgressStyleModel",
       "_view_count": null,
       "_view_module": "@jupyter-widgets/base",
       "_view_module_version": "1.2.0",
       "_view_name": "StyleView",
       "bar_color": null,
       "description_width": ""
      }
     },
     "ac5fecfcfdd845df8f23bb301e7380b2": {
      "model_module": "@jupyter-widgets/base",
      "model_module_version": "1.2.0",
      "model_name": "LayoutModel",
      "state": {
       "_model_module": "@jupyter-widgets/base",
       "_model_module_version": "1.2.0",
       "_model_name": "LayoutModel",
       "_view_count": null,
       "_view_module": "@jupyter-widgets/base",
       "_view_module_version": "1.2.0",
       "_view_name": "LayoutView",
       "align_content": null,
       "align_items": null,
       "align_self": null,
       "border": null,
       "bottom": null,
       "display": null,
       "flex": null,
       "flex_flow": null,
       "grid_area": null,
       "grid_auto_columns": null,
       "grid_auto_flow": null,
       "grid_auto_rows": null,
       "grid_column": null,
       "grid_gap": null,
       "grid_row": null,
       "grid_template_areas": null,
       "grid_template_columns": null,
       "grid_template_rows": null,
       "height": null,
       "justify_content": null,
       "justify_items": null,
       "left": null,
       "margin": null,
       "max_height": null,
       "max_width": null,
       "min_height": null,
       "min_width": null,
       "object_fit": null,
       "object_position": null,
       "order": null,
       "overflow": null,
       "overflow_x": null,
       "overflow_y": null,
       "padding": null,
       "right": null,
       "top": null,
       "visibility": null,
       "width": null
      }
     },
     "ae83079a6483486bb6e187a2d56d2de7": {
      "model_module": "@jupyter-widgets/base",
      "model_module_version": "1.2.0",
      "model_name": "LayoutModel",
      "state": {
       "_model_module": "@jupyter-widgets/base",
       "_model_module_version": "1.2.0",
       "_model_name": "LayoutModel",
       "_view_count": null,
       "_view_module": "@jupyter-widgets/base",
       "_view_module_version": "1.2.0",
       "_view_name": "LayoutView",
       "align_content": null,
       "align_items": null,
       "align_self": null,
       "border": null,
       "bottom": null,
       "display": null,
       "flex": null,
       "flex_flow": null,
       "grid_area": null,
       "grid_auto_columns": null,
       "grid_auto_flow": null,
       "grid_auto_rows": null,
       "grid_column": null,
       "grid_gap": null,
       "grid_row": null,
       "grid_template_areas": null,
       "grid_template_columns": null,
       "grid_template_rows": null,
       "height": null,
       "justify_content": null,
       "justify_items": null,
       "left": null,
       "margin": null,
       "max_height": null,
       "max_width": null,
       "min_height": null,
       "min_width": null,
       "object_fit": null,
       "object_position": null,
       "order": null,
       "overflow": null,
       "overflow_x": null,
       "overflow_y": null,
       "padding": null,
       "right": null,
       "top": null,
       "visibility": null,
       "width": null
      }
     },
     "ae99f9fd5f124fb6abb8862594e5d8ae": {
      "model_module": "@jupyter-widgets/controls",
      "model_module_version": "1.5.0",
      "model_name": "HTMLModel",
      "state": {
       "_dom_classes": [],
       "_model_module": "@jupyter-widgets/controls",
       "_model_module_version": "1.5.0",
       "_model_name": "HTMLModel",
       "_view_count": null,
       "_view_module": "@jupyter-widgets/controls",
       "_view_module_version": "1.5.0",
       "_view_name": "HTMLView",
       "description": "",
       "description_tooltip": null,
       "layout": "IPY_MODEL_08e3ec8cfee848e9b4781bc938528856",
       "placeholder": "​",
       "style": "IPY_MODEL_3564d83f87de46319d3a448d75b08c94",
       "value": " 513M/513M [00:06&lt;00:00, 87.5MB/s]"
      }
     },
     "aee77e71113d4b9392d21605a21cdcdb": {
      "model_module": "@jupyter-widgets/controls",
      "model_module_version": "1.5.0",
      "model_name": "HTMLModel",
      "state": {
       "_dom_classes": [],
       "_model_module": "@jupyter-widgets/controls",
       "_model_module_version": "1.5.0",
       "_model_name": "HTMLModel",
       "_view_count": null,
       "_view_module": "@jupyter-widgets/controls",
       "_view_module_version": "1.5.0",
       "_view_name": "HTMLView",
       "description": "",
       "description_tooltip": null,
       "layout": "IPY_MODEL_f4f2773bc37648518e6117195398db34",
       "placeholder": "​",
       "style": "IPY_MODEL_1134bd2dc8f04ff89f8b2e25ad43cf56",
       "value": " 126689/126689 [01:10&lt;00:00, 2426.87 examples/s]"
      }
     },
     "af0f92ae19f24951ad266c1ce04d6422": {
      "model_module": "@jupyter-widgets/controls",
      "model_module_version": "1.5.0",
      "model_name": "HTMLModel",
      "state": {
       "_dom_classes": [],
       "_model_module": "@jupyter-widgets/controls",
       "_model_module_version": "1.5.0",
       "_model_name": "HTMLModel",
       "_view_count": null,
       "_view_module": "@jupyter-widgets/controls",
       "_view_module_version": "1.5.0",
       "_view_name": "HTMLView",
       "description": "",
       "description_tooltip": null,
       "layout": "IPY_MODEL_5d12ea3f347f439f85b2fa809f04258f",
       "placeholder": "​",
       "style": "IPY_MODEL_9a860bdb248342b6aa66de2a8003a66c",
       "value": " 508M/508M [00:12&lt;00:00, 58.5MB/s]"
      }
     },
     "af96e34092b5480c872cd11064e22f7a": {
      "model_module": "@jupyter-widgets/controls",
      "model_module_version": "1.5.0",
      "model_name": "ProgressStyleModel",
      "state": {
       "_model_module": "@jupyter-widgets/controls",
       "_model_module_version": "1.5.0",
       "_model_name": "ProgressStyleModel",
       "_view_count": null,
       "_view_module": "@jupyter-widgets/base",
       "_view_module_version": "1.2.0",
       "_view_name": "StyleView",
       "bar_color": null,
       "description_width": ""
      }
     },
     "affacb55fbe1463ab5c2235239a4dfd5": {
      "model_module": "@jupyter-widgets/base",
      "model_module_version": "1.2.0",
      "model_name": "LayoutModel",
      "state": {
       "_model_module": "@jupyter-widgets/base",
       "_model_module_version": "1.2.0",
       "_model_name": "LayoutModel",
       "_view_count": null,
       "_view_module": "@jupyter-widgets/base",
       "_view_module_version": "1.2.0",
       "_view_name": "LayoutView",
       "align_content": null,
       "align_items": null,
       "align_self": null,
       "border": null,
       "bottom": null,
       "display": null,
       "flex": null,
       "flex_flow": null,
       "grid_area": null,
       "grid_auto_columns": null,
       "grid_auto_flow": null,
       "grid_auto_rows": null,
       "grid_column": null,
       "grid_gap": null,
       "grid_row": null,
       "grid_template_areas": null,
       "grid_template_columns": null,
       "grid_template_rows": null,
       "height": null,
       "justify_content": null,
       "justify_items": null,
       "left": null,
       "margin": null,
       "max_height": null,
       "max_width": null,
       "min_height": null,
       "min_width": null,
       "object_fit": null,
       "object_position": null,
       "order": null,
       "overflow": null,
       "overflow_x": null,
       "overflow_y": null,
       "padding": null,
       "right": null,
       "top": null,
       "visibility": null,
       "width": null
      }
     },
     "b17e84e52cad4ab2b55ebaceb8fd1893": {
      "model_module": "@jupyter-widgets/controls",
      "model_module_version": "1.5.0",
      "model_name": "FloatProgressModel",
      "state": {
       "_dom_classes": [],
       "_model_module": "@jupyter-widgets/controls",
       "_model_module_version": "1.5.0",
       "_model_name": "FloatProgressModel",
       "_view_count": null,
       "_view_module": "@jupyter-widgets/controls",
       "_view_module_version": "1.5.0",
       "_view_name": "ProgressView",
       "bar_style": "success",
       "description": "",
       "description_tooltip": null,
       "layout": "IPY_MODEL_8e226f89800343a78a4692f68807a954",
       "max": 507801845,
       "min": 0,
       "orientation": "horizontal",
       "style": "IPY_MODEL_8fd245b9298f404b84ef464cd2f7770a",
       "value": 507801845
      }
     },
     "b33a0637dcf943a99121ae91e7fd027f": {
      "model_module": "@jupyter-widgets/controls",
      "model_module_version": "1.5.0",
      "model_name": "HTMLModel",
      "state": {
       "_dom_classes": [],
       "_model_module": "@jupyter-widgets/controls",
       "_model_module_version": "1.5.0",
       "_model_name": "HTMLModel",
       "_view_count": null,
       "_view_module": "@jupyter-widgets/controls",
       "_view_module_version": "1.5.0",
       "_view_name": "HTMLView",
       "description": "",
       "description_tooltip": null,
       "layout": "IPY_MODEL_d81d4a20273044f99689951d35f6facb",
       "placeholder": "​",
       "style": "IPY_MODEL_fe13f29250ee42908078e4ccb7b4ac9f",
       "value": "Downloading data: 100%"
      }
     },
     "b38039551f9a4379bfd26aed649884cd": {
      "model_module": "@jupyter-widgets/controls",
      "model_module_version": "1.5.0",
      "model_name": "DescriptionStyleModel",
      "state": {
       "_model_module": "@jupyter-widgets/controls",
       "_model_module_version": "1.5.0",
       "_model_name": "DescriptionStyleModel",
       "_view_count": null,
       "_view_module": "@jupyter-widgets/base",
       "_view_module_version": "1.2.0",
       "_view_name": "StyleView",
       "description_width": ""
      }
     },
     "b510fd631e424ece83d53a729e54d975": {
      "model_module": "@jupyter-widgets/controls",
      "model_module_version": "1.5.0",
      "model_name": "ProgressStyleModel",
      "state": {
       "_model_module": "@jupyter-widgets/controls",
       "_model_module_version": "1.5.0",
       "_model_name": "ProgressStyleModel",
       "_view_count": null,
       "_view_module": "@jupyter-widgets/base",
       "_view_module_version": "1.2.0",
       "_view_name": "StyleView",
       "bar_color": null,
       "description_width": ""
      }
     },
     "b5851bec3482455f94e6277b8ee806bb": {
      "model_module": "@jupyter-widgets/controls",
      "model_module_version": "1.5.0",
      "model_name": "ProgressStyleModel",
      "state": {
       "_model_module": "@jupyter-widgets/controls",
       "_model_module_version": "1.5.0",
       "_model_name": "ProgressStyleModel",
       "_view_count": null,
       "_view_module": "@jupyter-widgets/base",
       "_view_module_version": "1.2.0",
       "_view_name": "StyleView",
       "bar_color": null,
       "description_width": ""
      }
     },
     "b5c2d7a962ca48b3bdf87178bd6c933c": {
      "model_module": "@jupyter-widgets/base",
      "model_module_version": "1.2.0",
      "model_name": "LayoutModel",
      "state": {
       "_model_module": "@jupyter-widgets/base",
       "_model_module_version": "1.2.0",
       "_model_name": "LayoutModel",
       "_view_count": null,
       "_view_module": "@jupyter-widgets/base",
       "_view_module_version": "1.2.0",
       "_view_name": "LayoutView",
       "align_content": null,
       "align_items": null,
       "align_self": null,
       "border": null,
       "bottom": null,
       "display": null,
       "flex": null,
       "flex_flow": null,
       "grid_area": null,
       "grid_auto_columns": null,
       "grid_auto_flow": null,
       "grid_auto_rows": null,
       "grid_column": null,
       "grid_gap": null,
       "grid_row": null,
       "grid_template_areas": null,
       "grid_template_columns": null,
       "grid_template_rows": null,
       "height": null,
       "justify_content": null,
       "justify_items": null,
       "left": null,
       "margin": null,
       "max_height": null,
       "max_width": null,
       "min_height": null,
       "min_width": null,
       "object_fit": null,
       "object_position": null,
       "order": null,
       "overflow": null,
       "overflow_x": null,
       "overflow_y": null,
       "padding": null,
       "right": null,
       "top": null,
       "visibility": null,
       "width": null
      }
     },
     "bc14bd1a13ce419d9dadccc23eaed0a4": {
      "model_module": "@jupyter-widgets/controls",
      "model_module_version": "1.5.0",
      "model_name": "ProgressStyleModel",
      "state": {
       "_model_module": "@jupyter-widgets/controls",
       "_model_module_version": "1.5.0",
       "_model_name": "ProgressStyleModel",
       "_view_count": null,
       "_view_module": "@jupyter-widgets/base",
       "_view_module_version": "1.2.0",
       "_view_name": "StyleView",
       "bar_color": null,
       "description_width": ""
      }
     },
     "bc17d2a1a7b64a0e9e531d532a5f6a08": {
      "model_module": "@jupyter-widgets/base",
      "model_module_version": "1.2.0",
      "model_name": "LayoutModel",
      "state": {
       "_model_module": "@jupyter-widgets/base",
       "_model_module_version": "1.2.0",
       "_model_name": "LayoutModel",
       "_view_count": null,
       "_view_module": "@jupyter-widgets/base",
       "_view_module_version": "1.2.0",
       "_view_name": "LayoutView",
       "align_content": null,
       "align_items": null,
       "align_self": null,
       "border": null,
       "bottom": null,
       "display": null,
       "flex": null,
       "flex_flow": null,
       "grid_area": null,
       "grid_auto_columns": null,
       "grid_auto_flow": null,
       "grid_auto_rows": null,
       "grid_column": null,
       "grid_gap": null,
       "grid_row": null,
       "grid_template_areas": null,
       "grid_template_columns": null,
       "grid_template_rows": null,
       "height": null,
       "justify_content": null,
       "justify_items": null,
       "left": null,
       "margin": null,
       "max_height": null,
       "max_width": null,
       "min_height": null,
       "min_width": null,
       "object_fit": null,
       "object_position": null,
       "order": null,
       "overflow": null,
       "overflow_x": null,
       "overflow_y": null,
       "padding": null,
       "right": null,
       "top": null,
       "visibility": null,
       "width": null
      }
     },
     "beb4f40043464ecfaecf198945ad61a1": {
      "model_module": "@jupyter-widgets/controls",
      "model_module_version": "1.5.0",
      "model_name": "DescriptionStyleModel",
      "state": {
       "_model_module": "@jupyter-widgets/controls",
       "_model_module_version": "1.5.0",
       "_model_name": "DescriptionStyleModel",
       "_view_count": null,
       "_view_module": "@jupyter-widgets/base",
       "_view_module_version": "1.2.0",
       "_view_name": "StyleView",
       "description_width": ""
      }
     },
     "bff5f600a3ac49869316beb26cead3d0": {
      "model_module": "@jupyter-widgets/base",
      "model_module_version": "1.2.0",
      "model_name": "LayoutModel",
      "state": {
       "_model_module": "@jupyter-widgets/base",
       "_model_module_version": "1.2.0",
       "_model_name": "LayoutModel",
       "_view_count": null,
       "_view_module": "@jupyter-widgets/base",
       "_view_module_version": "1.2.0",
       "_view_name": "LayoutView",
       "align_content": null,
       "align_items": null,
       "align_self": null,
       "border": null,
       "bottom": null,
       "display": null,
       "flex": null,
       "flex_flow": null,
       "grid_area": null,
       "grid_auto_columns": null,
       "grid_auto_flow": null,
       "grid_auto_rows": null,
       "grid_column": null,
       "grid_gap": null,
       "grid_row": null,
       "grid_template_areas": null,
       "grid_template_columns": null,
       "grid_template_rows": null,
       "height": null,
       "justify_content": null,
       "justify_items": null,
       "left": null,
       "margin": null,
       "max_height": null,
       "max_width": null,
       "min_height": null,
       "min_width": null,
       "object_fit": null,
       "object_position": null,
       "order": null,
       "overflow": null,
       "overflow_x": null,
       "overflow_y": null,
       "padding": null,
       "right": null,
       "top": null,
       "visibility": null,
       "width": null
      }
     },
     "c069d10bb3a142cd9004e36610dc785a": {
      "model_module": "@jupyter-widgets/controls",
      "model_module_version": "1.5.0",
      "model_name": "HBoxModel",
      "state": {
       "_dom_classes": [],
       "_model_module": "@jupyter-widgets/controls",
       "_model_module_version": "1.5.0",
       "_model_name": "HBoxModel",
       "_view_count": null,
       "_view_module": "@jupyter-widgets/controls",
       "_view_module_version": "1.5.0",
       "_view_name": "HBoxView",
       "box_style": "",
       "children": [
        "IPY_MODEL_f243897ad41443e8be37c3a145e2c9ff",
        "IPY_MODEL_2b263b209caa432fbd61735df777783f",
        "IPY_MODEL_8ab5bc10835d48edacf99bfa433ffb5e"
       ],
       "layout": "IPY_MODEL_83d94f813265493fa23ce48a3e759d92"
      }
     },
     "c117ebd22dec4287b63ea4ee16e8a91d": {
      "model_module": "@jupyter-widgets/base",
      "model_module_version": "1.2.0",
      "model_name": "LayoutModel",
      "state": {
       "_model_module": "@jupyter-widgets/base",
       "_model_module_version": "1.2.0",
       "_model_name": "LayoutModel",
       "_view_count": null,
       "_view_module": "@jupyter-widgets/base",
       "_view_module_version": "1.2.0",
       "_view_name": "LayoutView",
       "align_content": null,
       "align_items": null,
       "align_self": null,
       "border": null,
       "bottom": null,
       "display": null,
       "flex": null,
       "flex_flow": null,
       "grid_area": null,
       "grid_auto_columns": null,
       "grid_auto_flow": null,
       "grid_auto_rows": null,
       "grid_column": null,
       "grid_gap": null,
       "grid_row": null,
       "grid_template_areas": null,
       "grid_template_columns": null,
       "grid_template_rows": null,
       "height": null,
       "justify_content": null,
       "justify_items": null,
       "left": null,
       "margin": null,
       "max_height": null,
       "max_width": null,
       "min_height": null,
       "min_width": null,
       "object_fit": null,
       "object_position": null,
       "order": null,
       "overflow": null,
       "overflow_x": null,
       "overflow_y": null,
       "padding": null,
       "right": null,
       "top": null,
       "visibility": null,
       "width": null
      }
     },
     "c1f3c0346f6d48348cdb05b5562f3032": {
      "model_module": "@jupyter-widgets/controls",
      "model_module_version": "1.5.0",
      "model_name": "HBoxModel",
      "state": {
       "_dom_classes": [],
       "_model_module": "@jupyter-widgets/controls",
       "_model_module_version": "1.5.0",
       "_model_name": "HBoxModel",
       "_view_count": null,
       "_view_module": "@jupyter-widgets/controls",
       "_view_module_version": "1.5.0",
       "_view_name": "HBoxView",
       "box_style": "",
       "children": [
        "IPY_MODEL_9c5dfc28eb66421aa89767aa69c87408",
        "IPY_MODEL_8b28e500df0f46b1b64c364e91b9066e",
        "IPY_MODEL_7b579b2d6fc54bd48b0c3aec83c83587"
       ],
       "layout": "IPY_MODEL_2c2d282efe8d4a24b25a09a48a8949bf"
      }
     },
     "c34ca5195057439880171c1af4f6d505": {
      "model_module": "@jupyter-widgets/controls",
      "model_module_version": "1.5.0",
      "model_name": "DescriptionStyleModel",
      "state": {
       "_model_module": "@jupyter-widgets/controls",
       "_model_module_version": "1.5.0",
       "_model_name": "DescriptionStyleModel",
       "_view_count": null,
       "_view_module": "@jupyter-widgets/base",
       "_view_module_version": "1.2.0",
       "_view_name": "StyleView",
       "description_width": ""
      }
     },
     "c65aa1a9838d4e648ca5531ea9346a25": {
      "model_module": "@jupyter-widgets/controls",
      "model_module_version": "1.5.0",
      "model_name": "DescriptionStyleModel",
      "state": {
       "_model_module": "@jupyter-widgets/controls",
       "_model_module_version": "1.5.0",
       "_model_name": "DescriptionStyleModel",
       "_view_count": null,
       "_view_module": "@jupyter-widgets/base",
       "_view_module_version": "1.2.0",
       "_view_name": "StyleView",
       "description_width": ""
      }
     },
     "c712545c1f32466f978d2668eceb6873": {
      "model_module": "@jupyter-widgets/base",
      "model_module_version": "1.2.0",
      "model_name": "LayoutModel",
      "state": {
       "_model_module": "@jupyter-widgets/base",
       "_model_module_version": "1.2.0",
       "_model_name": "LayoutModel",
       "_view_count": null,
       "_view_module": "@jupyter-widgets/base",
       "_view_module_version": "1.2.0",
       "_view_name": "LayoutView",
       "align_content": null,
       "align_items": null,
       "align_self": null,
       "border": null,
       "bottom": null,
       "display": null,
       "flex": null,
       "flex_flow": null,
       "grid_area": null,
       "grid_auto_columns": null,
       "grid_auto_flow": null,
       "grid_auto_rows": null,
       "grid_column": null,
       "grid_gap": null,
       "grid_row": null,
       "grid_template_areas": null,
       "grid_template_columns": null,
       "grid_template_rows": null,
       "height": null,
       "justify_content": null,
       "justify_items": null,
       "left": null,
       "margin": null,
       "max_height": null,
       "max_width": null,
       "min_height": null,
       "min_width": null,
       "object_fit": null,
       "object_position": null,
       "order": null,
       "overflow": null,
       "overflow_x": null,
       "overflow_y": null,
       "padding": null,
       "right": null,
       "top": null,
       "visibility": null,
       "width": null
      }
     },
     "c78511508fdc4efeaee9fd76861474e5": {
      "model_module": "@jupyter-widgets/controls",
      "model_module_version": "1.5.0",
      "model_name": "HTMLModel",
      "state": {
       "_dom_classes": [],
       "_model_module": "@jupyter-widgets/controls",
       "_model_module_version": "1.5.0",
       "_model_name": "HTMLModel",
       "_view_count": null,
       "_view_module": "@jupyter-widgets/controls",
       "_view_module_version": "1.5.0",
       "_view_name": "HTMLView",
       "description": "",
       "description_tooltip": null,
       "layout": "IPY_MODEL_33164dd7b8cd4bda8542014e4a6b7de7",
       "placeholder": "​",
       "style": "IPY_MODEL_98e38fcd22db4ef1992d52faeeb1726a",
       "value": " 17/17 [00:07&lt;00:00,  2.61it/s]"
      }
     },
     "c8856b045be845cea5328be679cf3766": {
      "model_module": "@jupyter-widgets/base",
      "model_module_version": "1.2.0",
      "model_name": "LayoutModel",
      "state": {
       "_model_module": "@jupyter-widgets/base",
       "_model_module_version": "1.2.0",
       "_model_name": "LayoutModel",
       "_view_count": null,
       "_view_module": "@jupyter-widgets/base",
       "_view_module_version": "1.2.0",
       "_view_name": "LayoutView",
       "align_content": null,
       "align_items": null,
       "align_self": null,
       "border": null,
       "bottom": null,
       "display": null,
       "flex": null,
       "flex_flow": null,
       "grid_area": null,
       "grid_auto_columns": null,
       "grid_auto_flow": null,
       "grid_auto_rows": null,
       "grid_column": null,
       "grid_gap": null,
       "grid_row": null,
       "grid_template_areas": null,
       "grid_template_columns": null,
       "grid_template_rows": null,
       "height": null,
       "justify_content": null,
       "justify_items": null,
       "left": null,
       "margin": null,
       "max_height": null,
       "max_width": null,
       "min_height": null,
       "min_width": null,
       "object_fit": null,
       "object_position": null,
       "order": null,
       "overflow": null,
       "overflow_x": null,
       "overflow_y": null,
       "padding": null,
       "right": null,
       "top": null,
       "visibility": null,
       "width": null
      }
     },
     "c92914e95f1b46908709540d40826083": {
      "model_module": "@jupyter-widgets/base",
      "model_module_version": "1.2.0",
      "model_name": "LayoutModel",
      "state": {
       "_model_module": "@jupyter-widgets/base",
       "_model_module_version": "1.2.0",
       "_model_name": "LayoutModel",
       "_view_count": null,
       "_view_module": "@jupyter-widgets/base",
       "_view_module_version": "1.2.0",
       "_view_name": "LayoutView",
       "align_content": null,
       "align_items": null,
       "align_self": null,
       "border": null,
       "bottom": null,
       "display": null,
       "flex": null,
       "flex_flow": null,
       "grid_area": null,
       "grid_auto_columns": null,
       "grid_auto_flow": null,
       "grid_auto_rows": null,
       "grid_column": null,
       "grid_gap": null,
       "grid_row": null,
       "grid_template_areas": null,
       "grid_template_columns": null,
       "grid_template_rows": null,
       "height": null,
       "justify_content": null,
       "justify_items": null,
       "left": null,
       "margin": null,
       "max_height": null,
       "max_width": null,
       "min_height": null,
       "min_width": null,
       "object_fit": null,
       "object_position": null,
       "order": null,
       "overflow": null,
       "overflow_x": null,
       "overflow_y": null,
       "padding": null,
       "right": null,
       "top": null,
       "visibility": null,
       "width": null
      }
     },
     "cc9c694b8952455ca72e681fb524e9fd": {
      "model_module": "@jupyter-widgets/base",
      "model_module_version": "1.2.0",
      "model_name": "LayoutModel",
      "state": {
       "_model_module": "@jupyter-widgets/base",
       "_model_module_version": "1.2.0",
       "_model_name": "LayoutModel",
       "_view_count": null,
       "_view_module": "@jupyter-widgets/base",
       "_view_module_version": "1.2.0",
       "_view_name": "LayoutView",
       "align_content": null,
       "align_items": null,
       "align_self": null,
       "border": null,
       "bottom": null,
       "display": null,
       "flex": null,
       "flex_flow": null,
       "grid_area": null,
       "grid_auto_columns": null,
       "grid_auto_flow": null,
       "grid_auto_rows": null,
       "grid_column": null,
       "grid_gap": null,
       "grid_row": null,
       "grid_template_areas": null,
       "grid_template_columns": null,
       "grid_template_rows": null,
       "height": null,
       "justify_content": null,
       "justify_items": null,
       "left": null,
       "margin": null,
       "max_height": null,
       "max_width": null,
       "min_height": null,
       "min_width": null,
       "object_fit": null,
       "object_position": null,
       "order": null,
       "overflow": null,
       "overflow_x": null,
       "overflow_y": null,
       "padding": null,
       "right": null,
       "top": null,
       "visibility": null,
       "width": null
      }
     },
     "ccc3d21e641a47dc84012b2bbd7db731": {
      "model_module": "@jupyter-widgets/controls",
      "model_module_version": "1.5.0",
      "model_name": "DescriptionStyleModel",
      "state": {
       "_model_module": "@jupyter-widgets/controls",
       "_model_module_version": "1.5.0",
       "_model_name": "DescriptionStyleModel",
       "_view_count": null,
       "_view_module": "@jupyter-widgets/base",
       "_view_module_version": "1.2.0",
       "_view_name": "StyleView",
       "description_width": ""
      }
     },
     "cd53a5aaebd34cb398059786ec4e90a2": {
      "model_module": "@jupyter-widgets/controls",
      "model_module_version": "1.5.0",
      "model_name": "HBoxModel",
      "state": {
       "_dom_classes": [],
       "_model_module": "@jupyter-widgets/controls",
       "_model_module_version": "1.5.0",
       "_model_name": "HBoxModel",
       "_view_count": null,
       "_view_module": "@jupyter-widgets/controls",
       "_view_module_version": "1.5.0",
       "_view_name": "HBoxView",
       "box_style": "",
       "children": [
        "IPY_MODEL_1bd9d554c29a4eba9eefd816f42d993e",
        "IPY_MODEL_a3933b14cfa74dc6912ebf0ed46e0564",
        "IPY_MODEL_76c33e9007e8403499d177c8ddbc04d4"
       ],
       "layout": "IPY_MODEL_f907629a4bbf476ca668831bbfcbdd66"
      }
     },
     "cd955378ebbe46fa80f2485e85343a42": {
      "model_module": "@jupyter-widgets/base",
      "model_module_version": "1.2.0",
      "model_name": "LayoutModel",
      "state": {
       "_model_module": "@jupyter-widgets/base",
       "_model_module_version": "1.2.0",
       "_model_name": "LayoutModel",
       "_view_count": null,
       "_view_module": "@jupyter-widgets/base",
       "_view_module_version": "1.2.0",
       "_view_name": "LayoutView",
       "align_content": null,
       "align_items": null,
       "align_self": null,
       "border": null,
       "bottom": null,
       "display": null,
       "flex": null,
       "flex_flow": null,
       "grid_area": null,
       "grid_auto_columns": null,
       "grid_auto_flow": null,
       "grid_auto_rows": null,
       "grid_column": null,
       "grid_gap": null,
       "grid_row": null,
       "grid_template_areas": null,
       "grid_template_columns": null,
       "grid_template_rows": null,
       "height": null,
       "justify_content": null,
       "justify_items": null,
       "left": null,
       "margin": null,
       "max_height": null,
       "max_width": null,
       "min_height": null,
       "min_width": null,
       "object_fit": null,
       "object_position": null,
       "order": null,
       "overflow": null,
       "overflow_x": null,
       "overflow_y": null,
       "padding": null,
       "right": null,
       "top": null,
       "visibility": null,
       "width": null
      }
     },
     "ce8ab17b67324cb6b56bbe97cad5cdee": {
      "model_module": "@jupyter-widgets/controls",
      "model_module_version": "1.5.0",
      "model_name": "HBoxModel",
      "state": {
       "_dom_classes": [],
       "_model_module": "@jupyter-widgets/controls",
       "_model_module_version": "1.5.0",
       "_model_name": "HBoxModel",
       "_view_count": null,
       "_view_module": "@jupyter-widgets/controls",
       "_view_module_version": "1.5.0",
       "_view_name": "HBoxView",
       "box_style": "",
       "children": [
        "IPY_MODEL_1837bcc84c8c454aa8be4e1b5f3c4caa",
        "IPY_MODEL_ef3e6731ed654a599fefa128b7c8648e",
        "IPY_MODEL_2edc6698168040daa6814c1c379ce287"
       ],
       "layout": "IPY_MODEL_03c5225c5cc449379ebefbfcfd533784"
      }
     },
     "ce9fc5be27b444f18f2d9be23fbd604e": {
      "model_module": "@jupyter-widgets/controls",
      "model_module_version": "1.5.0",
      "model_name": "DescriptionStyleModel",
      "state": {
       "_model_module": "@jupyter-widgets/controls",
       "_model_module_version": "1.5.0",
       "_model_name": "DescriptionStyleModel",
       "_view_count": null,
       "_view_module": "@jupyter-widgets/base",
       "_view_module_version": "1.2.0",
       "_view_name": "StyleView",
       "description_width": ""
      }
     },
     "cee8a121f55d4cfb8aa07611fa1d55d6": {
      "model_module": "@jupyter-widgets/controls",
      "model_module_version": "1.5.0",
      "model_name": "FloatProgressModel",
      "state": {
       "_dom_classes": [],
       "_model_module": "@jupyter-widgets/controls",
       "_model_module_version": "1.5.0",
       "_model_name": "FloatProgressModel",
       "_view_count": null,
       "_view_module": "@jupyter-widgets/controls",
       "_view_module_version": "1.5.0",
       "_view_name": "ProgressView",
       "bar_style": "success",
       "description": "",
       "description_tooltip": null,
       "layout": "IPY_MODEL_a446ee8b2ac9426e8f82fe1801787b1e",
       "max": 488330946,
       "min": 0,
       "orientation": "horizontal",
       "style": "IPY_MODEL_251e3657ba154fc2820300f92bd183ba",
       "value": 488330946
      }
     },
     "cef1101573cb4a75a8c53e9a61bb40fb": {
      "model_module": "@jupyter-widgets/controls",
      "model_module_version": "1.5.0",
      "model_name": "HBoxModel",
      "state": {
       "_dom_classes": [],
       "_model_module": "@jupyter-widgets/controls",
       "_model_module_version": "1.5.0",
       "_model_name": "HBoxModel",
       "_view_count": null,
       "_view_module": "@jupyter-widgets/controls",
       "_view_module_version": "1.5.0",
       "_view_name": "HBoxView",
       "box_style": "",
       "children": [
        "IPY_MODEL_77f5d1a012e749f8b8ed780895fc3cd2",
        "IPY_MODEL_6575660270c943d39b85823743e1570f",
        "IPY_MODEL_4823106a32bc4feaa5333bf22c5d5924"
       ],
       "layout": "IPY_MODEL_e054465e23d44b0bb35ff2d2abf77f6b"
      }
     },
     "d1f102dc933745e1bf6f3935ff982851": {
      "model_module": "@jupyter-widgets/controls",
      "model_module_version": "1.5.0",
      "model_name": "HTMLModel",
      "state": {
       "_dom_classes": [],
       "_model_module": "@jupyter-widgets/controls",
       "_model_module_version": "1.5.0",
       "_model_name": "HTMLModel",
       "_view_count": null,
       "_view_module": "@jupyter-widgets/controls",
       "_view_module_version": "1.5.0",
       "_view_name": "HTMLView",
       "description": "",
       "description_tooltip": null,
       "layout": "IPY_MODEL_27495688084e460da24a1c4fbc2480bc",
       "placeholder": "​",
       "style": "IPY_MODEL_f04183e17dae4ba0a5b148d45b8d9118",
       "value": " 454M/454M [00:15&lt;00:00, 26.9MB/s]"
      }
     },
     "d27857e75ae9474a857b8142509ed489": {
      "model_module": "@jupyter-widgets/controls",
      "model_module_version": "1.5.0",
      "model_name": "DescriptionStyleModel",
      "state": {
       "_model_module": "@jupyter-widgets/controls",
       "_model_module_version": "1.5.0",
       "_model_name": "DescriptionStyleModel",
       "_view_count": null,
       "_view_module": "@jupyter-widgets/base",
       "_view_module_version": "1.2.0",
       "_view_name": "StyleView",
       "description_width": ""
      }
     },
     "d27c345d046a4db4be7c9127243ee17f": {
      "model_module": "@jupyter-widgets/controls",
      "model_module_version": "1.5.0",
      "model_name": "ProgressStyleModel",
      "state": {
       "_model_module": "@jupyter-widgets/controls",
       "_model_module_version": "1.5.0",
       "_model_name": "ProgressStyleModel",
       "_view_count": null,
       "_view_module": "@jupyter-widgets/base",
       "_view_module_version": "1.2.0",
       "_view_name": "StyleView",
       "bar_color": null,
       "description_width": ""
      }
     },
     "d2cdc9262e194808b5cedf444081994d": {
      "model_module": "@jupyter-widgets/controls",
      "model_module_version": "1.5.0",
      "model_name": "FloatProgressModel",
      "state": {
       "_dom_classes": [],
       "_model_module": "@jupyter-widgets/controls",
       "_model_module_version": "1.5.0",
       "_model_name": "FloatProgressModel",
       "_view_count": null,
       "_view_module": "@jupyter-widgets/controls",
       "_view_module_version": "1.5.0",
       "_view_name": "ProgressView",
       "bar_style": "success",
       "description": "",
       "description_tooltip": null,
       "layout": "IPY_MODEL_8d28cadc986546f6ba2a4b9f68516019",
       "max": 126689,
       "min": 0,
       "orientation": "horizontal",
       "style": "IPY_MODEL_8f30adc6fd7343a2b8934f6935afca2f",
       "value": 126689
      }
     },
     "d38ed0aac71a4a5786daace189351fe6": {
      "model_module": "@jupyter-widgets/base",
      "model_module_version": "1.2.0",
      "model_name": "LayoutModel",
      "state": {
       "_model_module": "@jupyter-widgets/base",
       "_model_module_version": "1.2.0",
       "_model_name": "LayoutModel",
       "_view_count": null,
       "_view_module": "@jupyter-widgets/base",
       "_view_module_version": "1.2.0",
       "_view_name": "LayoutView",
       "align_content": null,
       "align_items": null,
       "align_self": null,
       "border": null,
       "bottom": null,
       "display": null,
       "flex": null,
       "flex_flow": null,
       "grid_area": null,
       "grid_auto_columns": null,
       "grid_auto_flow": null,
       "grid_auto_rows": null,
       "grid_column": null,
       "grid_gap": null,
       "grid_row": null,
       "grid_template_areas": null,
       "grid_template_columns": null,
       "grid_template_rows": null,
       "height": null,
       "justify_content": null,
       "justify_items": null,
       "left": null,
       "margin": null,
       "max_height": null,
       "max_width": null,
       "min_height": null,
       "min_width": null,
       "object_fit": null,
       "object_position": null,
       "order": null,
       "overflow": null,
       "overflow_x": null,
       "overflow_y": null,
       "padding": null,
       "right": null,
       "top": null,
       "visibility": null,
       "width": null
      }
     },
     "d424f0e731e14bf9b7b9b6e6a5e9d2ed": {
      "model_module": "@jupyter-widgets/controls",
      "model_module_version": "1.5.0",
      "model_name": "DescriptionStyleModel",
      "state": {
       "_model_module": "@jupyter-widgets/controls",
       "_model_module_version": "1.5.0",
       "_model_name": "DescriptionStyleModel",
       "_view_count": null,
       "_view_module": "@jupyter-widgets/base",
       "_view_module_version": "1.2.0",
       "_view_name": "StyleView",
       "description_width": ""
      }
     },
     "d4353b7c69644cb4b3252e37b5b0ad7e": {
      "model_module": "@jupyter-widgets/controls",
      "model_module_version": "1.5.0",
      "model_name": "HTMLModel",
      "state": {
       "_dom_classes": [],
       "_model_module": "@jupyter-widgets/controls",
       "_model_module_version": "1.5.0",
       "_model_name": "HTMLModel",
       "_view_count": null,
       "_view_module": "@jupyter-widgets/controls",
       "_view_module_version": "1.5.0",
       "_view_name": "HTMLView",
       "description": "",
       "description_tooltip": null,
       "layout": "IPY_MODEL_50c501a7afc74b3e889632371c40c76a",
       "placeholder": "​",
       "style": "IPY_MODEL_5679d03cf4494bb782aa4f22d8152600",
       "value": " 7.87k/? [00:00&lt;00:00, 574kB/s]"
      }
     },
     "d4beffac939b47eba0ef0eda76d6cda4": {
      "model_module": "@jupyter-widgets/controls",
      "model_module_version": "1.5.0",
      "model_name": "HTMLModel",
      "state": {
       "_dom_classes": [],
       "_model_module": "@jupyter-widgets/controls",
       "_model_module_version": "1.5.0",
       "_model_name": "HTMLModel",
       "_view_count": null,
       "_view_module": "@jupyter-widgets/controls",
       "_view_module_version": "1.5.0",
       "_view_name": "HTMLView",
       "description": "",
       "description_tooltip": null,
       "layout": "IPY_MODEL_8940cbab2b82470983e742fd6dc5d9b5",
       "placeholder": "​",
       "style": "IPY_MODEL_70006e241f6d4e3782c3233fbf31df3b",
       "value": " 505M/505M [00:05&lt;00:00, 127MB/s]"
      }
     },
     "d4f57b72b44d4d9dbc068ef3cbd31b9d": {
      "model_module": "@jupyter-widgets/base",
      "model_module_version": "1.2.0",
      "model_name": "LayoutModel",
      "state": {
       "_model_module": "@jupyter-widgets/base",
       "_model_module_version": "1.2.0",
       "_model_name": "LayoutModel",
       "_view_count": null,
       "_view_module": "@jupyter-widgets/base",
       "_view_module_version": "1.2.0",
       "_view_name": "LayoutView",
       "align_content": null,
       "align_items": null,
       "align_self": null,
       "border": null,
       "bottom": null,
       "display": null,
       "flex": null,
       "flex_flow": null,
       "grid_area": null,
       "grid_auto_columns": null,
       "grid_auto_flow": null,
       "grid_auto_rows": null,
       "grid_column": null,
       "grid_gap": null,
       "grid_row": null,
       "grid_template_areas": null,
       "grid_template_columns": null,
       "grid_template_rows": null,
       "height": null,
       "justify_content": null,
       "justify_items": null,
       "left": null,
       "margin": null,
       "max_height": null,
       "max_width": null,
       "min_height": null,
       "min_width": null,
       "object_fit": null,
       "object_position": null,
       "order": null,
       "overflow": null,
       "overflow_x": null,
       "overflow_y": null,
       "padding": null,
       "right": null,
       "top": null,
       "visibility": null,
       "width": null
      }
     },
     "d6a5f55372bc4e559f63d8060c538885": {
      "model_module": "@jupyter-widgets/base",
      "model_module_version": "1.2.0",
      "model_name": "LayoutModel",
      "state": {
       "_model_module": "@jupyter-widgets/base",
       "_model_module_version": "1.2.0",
       "_model_name": "LayoutModel",
       "_view_count": null,
       "_view_module": "@jupyter-widgets/base",
       "_view_module_version": "1.2.0",
       "_view_name": "LayoutView",
       "align_content": null,
       "align_items": null,
       "align_self": null,
       "border": null,
       "bottom": null,
       "display": null,
       "flex": null,
       "flex_flow": null,
       "grid_area": null,
       "grid_auto_columns": null,
       "grid_auto_flow": null,
       "grid_auto_rows": null,
       "grid_column": null,
       "grid_gap": null,
       "grid_row": null,
       "grid_template_areas": null,
       "grid_template_columns": null,
       "grid_template_rows": null,
       "height": null,
       "justify_content": null,
       "justify_items": null,
       "left": null,
       "margin": null,
       "max_height": null,
       "max_width": null,
       "min_height": null,
       "min_width": null,
       "object_fit": null,
       "object_position": null,
       "order": null,
       "overflow": null,
       "overflow_x": null,
       "overflow_y": null,
       "padding": null,
       "right": null,
       "top": null,
       "visibility": null,
       "width": null
      }
     },
     "d7e33dbdca5545e6a11b60af8a4096b8": {
      "model_module": "@jupyter-widgets/controls",
      "model_module_version": "1.5.0",
      "model_name": "FloatProgressModel",
      "state": {
       "_dom_classes": [],
       "_model_module": "@jupyter-widgets/controls",
       "_model_module_version": "1.5.0",
       "_model_name": "FloatProgressModel",
       "_view_count": null,
       "_view_module": "@jupyter-widgets/controls",
       "_view_module_version": "1.5.0",
       "_view_name": "ProgressView",
       "bar_style": "success",
       "description": "",
       "description_tooltip": null,
       "layout": "IPY_MODEL_9471e9b51c1d43d182ce511af802d961",
       "max": 1,
       "min": 0,
       "orientation": "horizontal",
       "style": "IPY_MODEL_b510fd631e424ece83d53a729e54d975",
       "value": 1
      }
     },
     "d7fdb5f7fc3d4a22b24789ad83473e71": {
      "model_module": "@jupyter-widgets/controls",
      "model_module_version": "1.5.0",
      "model_name": "HBoxModel",
      "state": {
       "_dom_classes": [],
       "_model_module": "@jupyter-widgets/controls",
       "_model_module_version": "1.5.0",
       "_model_name": "HBoxModel",
       "_view_count": null,
       "_view_module": "@jupyter-widgets/controls",
       "_view_module_version": "1.5.0",
       "_view_name": "HBoxView",
       "box_style": "",
       "children": [
        "IPY_MODEL_19eea7bafd68491e9b1fc6021a9d1c6e",
        "IPY_MODEL_4be387b8feab483fb78dc8a582641560",
        "IPY_MODEL_2e4a4348993a49d1b48a4b3fc8f5eb65"
       ],
       "layout": "IPY_MODEL_2db811dd54544f40b838693053e4d239"
      }
     },
     "d81d4a20273044f99689951d35f6facb": {
      "model_module": "@jupyter-widgets/base",
      "model_module_version": "1.2.0",
      "model_name": "LayoutModel",
      "state": {
       "_model_module": "@jupyter-widgets/base",
       "_model_module_version": "1.2.0",
       "_model_name": "LayoutModel",
       "_view_count": null,
       "_view_module": "@jupyter-widgets/base",
       "_view_module_version": "1.2.0",
       "_view_name": "LayoutView",
       "align_content": null,
       "align_items": null,
       "align_self": null,
       "border": null,
       "bottom": null,
       "display": null,
       "flex": null,
       "flex_flow": null,
       "grid_area": null,
       "grid_auto_columns": null,
       "grid_auto_flow": null,
       "grid_auto_rows": null,
       "grid_column": null,
       "grid_gap": null,
       "grid_row": null,
       "grid_template_areas": null,
       "grid_template_columns": null,
       "grid_template_rows": null,
       "height": null,
       "justify_content": null,
       "justify_items": null,
       "left": null,
       "margin": null,
       "max_height": null,
       "max_width": null,
       "min_height": null,
       "min_width": null,
       "object_fit": null,
       "object_position": null,
       "order": null,
       "overflow": null,
       "overflow_x": null,
       "overflow_y": null,
       "padding": null,
       "right": null,
       "top": null,
       "visibility": null,
       "width": null
      }
     },
     "da3695794a0747a28fcc89465aabda18": {
      "model_module": "@jupyter-widgets/controls",
      "model_module_version": "1.5.0",
      "model_name": "DescriptionStyleModel",
      "state": {
       "_model_module": "@jupyter-widgets/controls",
       "_model_module_version": "1.5.0",
       "_model_name": "DescriptionStyleModel",
       "_view_count": null,
       "_view_module": "@jupyter-widgets/base",
       "_view_module_version": "1.2.0",
       "_view_name": "StyleView",
       "description_width": ""
      }
     },
     "ddfb5fca0d3045aa8d4b0e93e15980ee": {
      "model_module": "@jupyter-widgets/controls",
      "model_module_version": "1.5.0",
      "model_name": "HTMLModel",
      "state": {
       "_dom_classes": [],
       "_model_module": "@jupyter-widgets/controls",
       "_model_module_version": "1.5.0",
       "_model_name": "HTMLModel",
       "_view_count": null,
       "_view_module": "@jupyter-widgets/controls",
       "_view_module_version": "1.5.0",
       "_view_name": "HTMLView",
       "description": "",
       "description_tooltip": null,
       "layout": "IPY_MODEL_bc17d2a1a7b64a0e9e531d532a5f6a08",
       "placeholder": "​",
       "style": "IPY_MODEL_f6cc33d9d4ea436699db5eaa8b1f0510",
       "value": " 471M/471M [00:06&lt;00:00, 95.3MB/s]"
      }
     },
     "df40e293ff6141bdaac289f2c2b0636f": {
      "model_module": "@jupyter-widgets/controls",
      "model_module_version": "1.5.0",
      "model_name": "HTMLModel",
      "state": {
       "_dom_classes": [],
       "_model_module": "@jupyter-widgets/controls",
       "_model_module_version": "1.5.0",
       "_model_name": "HTMLModel",
       "_view_count": null,
       "_view_module": "@jupyter-widgets/controls",
       "_view_module_version": "1.5.0",
       "_view_name": "HTMLView",
       "description": "",
       "description_tooltip": null,
       "layout": "IPY_MODEL_54eed88ec22d4173991c90d9050b471c",
       "placeholder": "​",
       "style": "IPY_MODEL_43ff80c003cf4617b452faead481fb7e",
       "value": " 498M/498M [00:06&lt;00:00, 81.0MB/s]"
      }
     },
     "dfe6278abe5c4bf9a7c6737c475e9fa4": {
      "model_module": "@jupyter-widgets/controls",
      "model_module_version": "1.5.0",
      "model_name": "DescriptionStyleModel",
      "state": {
       "_model_module": "@jupyter-widgets/controls",
       "_model_module_version": "1.5.0",
       "_model_name": "DescriptionStyleModel",
       "_view_count": null,
       "_view_module": "@jupyter-widgets/base",
       "_view_module_version": "1.2.0",
       "_view_name": "StyleView",
       "description_width": ""
      }
     },
     "e054465e23d44b0bb35ff2d2abf77f6b": {
      "model_module": "@jupyter-widgets/base",
      "model_module_version": "1.2.0",
      "model_name": "LayoutModel",
      "state": {
       "_model_module": "@jupyter-widgets/base",
       "_model_module_version": "1.2.0",
       "_model_name": "LayoutModel",
       "_view_count": null,
       "_view_module": "@jupyter-widgets/base",
       "_view_module_version": "1.2.0",
       "_view_name": "LayoutView",
       "align_content": null,
       "align_items": null,
       "align_self": null,
       "border": null,
       "bottom": null,
       "display": null,
       "flex": null,
       "flex_flow": null,
       "grid_area": null,
       "grid_auto_columns": null,
       "grid_auto_flow": null,
       "grid_auto_rows": null,
       "grid_column": null,
       "grid_gap": null,
       "grid_row": null,
       "grid_template_areas": null,
       "grid_template_columns": null,
       "grid_template_rows": null,
       "height": null,
       "justify_content": null,
       "justify_items": null,
       "left": null,
       "margin": null,
       "max_height": null,
       "max_width": null,
       "min_height": null,
       "min_width": null,
       "object_fit": null,
       "object_position": null,
       "order": null,
       "overflow": null,
       "overflow_x": null,
       "overflow_y": null,
       "padding": null,
       "right": null,
       "top": null,
       "visibility": null,
       "width": null
      }
     },
     "e0c32379f64a4af38e5a1ba656366e52": {
      "model_module": "@jupyter-widgets/base",
      "model_module_version": "1.2.0",
      "model_name": "LayoutModel",
      "state": {
       "_model_module": "@jupyter-widgets/base",
       "_model_module_version": "1.2.0",
       "_model_name": "LayoutModel",
       "_view_count": null,
       "_view_module": "@jupyter-widgets/base",
       "_view_module_version": "1.2.0",
       "_view_name": "LayoutView",
       "align_content": null,
       "align_items": null,
       "align_self": null,
       "border": null,
       "bottom": null,
       "display": null,
       "flex": null,
       "flex_flow": null,
       "grid_area": null,
       "grid_auto_columns": null,
       "grid_auto_flow": null,
       "grid_auto_rows": null,
       "grid_column": null,
       "grid_gap": null,
       "grid_row": null,
       "grid_template_areas": null,
       "grid_template_columns": null,
       "grid_template_rows": null,
       "height": null,
       "justify_content": null,
       "justify_items": null,
       "left": null,
       "margin": null,
       "max_height": null,
       "max_width": null,
       "min_height": null,
       "min_width": null,
       "object_fit": null,
       "object_position": null,
       "order": null,
       "overflow": null,
       "overflow_x": null,
       "overflow_y": null,
       "padding": null,
       "right": null,
       "top": null,
       "visibility": null,
       "width": null
      }
     },
     "e5fb715788674c3097a1733f930a988d": {
      "model_module": "@jupyter-widgets/controls",
      "model_module_version": "1.5.0",
      "model_name": "HTMLModel",
      "state": {
       "_dom_classes": [],
       "_model_module": "@jupyter-widgets/controls",
       "_model_module_version": "1.5.0",
       "_model_name": "HTMLModel",
       "_view_count": null,
       "_view_module": "@jupyter-widgets/controls",
       "_view_module_version": "1.5.0",
       "_view_name": "HTMLView",
       "description": "",
       "description_tooltip": null,
       "layout": "IPY_MODEL_78341cff7f0c4235988cdda8388a47b5",
       "placeholder": "​",
       "style": "IPY_MODEL_a0b80cddf2224658a3cafa31b7d8ff30",
       "value": "data/train-00016-of-00017.parquet: 100%"
      }
     },
     "e6f66bb906944718ae3f4b16276f2fef": {
      "model_module": "@jupyter-widgets/base",
      "model_module_version": "1.2.0",
      "model_name": "LayoutModel",
      "state": {
       "_model_module": "@jupyter-widgets/base",
       "_model_module_version": "1.2.0",
       "_model_name": "LayoutModel",
       "_view_count": null,
       "_view_module": "@jupyter-widgets/base",
       "_view_module_version": "1.2.0",
       "_view_name": "LayoutView",
       "align_content": null,
       "align_items": null,
       "align_self": null,
       "border": null,
       "bottom": null,
       "display": null,
       "flex": null,
       "flex_flow": null,
       "grid_area": null,
       "grid_auto_columns": null,
       "grid_auto_flow": null,
       "grid_auto_rows": null,
       "grid_column": null,
       "grid_gap": null,
       "grid_row": null,
       "grid_template_areas": null,
       "grid_template_columns": null,
       "grid_template_rows": null,
       "height": null,
       "justify_content": null,
       "justify_items": null,
       "left": null,
       "margin": null,
       "max_height": null,
       "max_width": null,
       "min_height": null,
       "min_width": null,
       "object_fit": null,
       "object_position": null,
       "order": null,
       "overflow": null,
       "overflow_x": null,
       "overflow_y": null,
       "padding": null,
       "right": null,
       "top": null,
       "visibility": null,
       "width": null
      }
     },
     "eae5188429534a8dab4b3ed6b81c3caf": {
      "model_module": "@jupyter-widgets/controls",
      "model_module_version": "1.5.0",
      "model_name": "DescriptionStyleModel",
      "state": {
       "_model_module": "@jupyter-widgets/controls",
       "_model_module_version": "1.5.0",
       "_model_name": "DescriptionStyleModel",
       "_view_count": null,
       "_view_module": "@jupyter-widgets/base",
       "_view_module_version": "1.2.0",
       "_view_name": "StyleView",
       "description_width": ""
      }
     },
     "eb97de4a7eee47e88ad6b27a7d97371d": {
      "model_module": "@jupyter-widgets/base",
      "model_module_version": "1.2.0",
      "model_name": "LayoutModel",
      "state": {
       "_model_module": "@jupyter-widgets/base",
       "_model_module_version": "1.2.0",
       "_model_name": "LayoutModel",
       "_view_count": null,
       "_view_module": "@jupyter-widgets/base",
       "_view_module_version": "1.2.0",
       "_view_name": "LayoutView",
       "align_content": null,
       "align_items": null,
       "align_self": null,
       "border": null,
       "bottom": null,
       "display": null,
       "flex": null,
       "flex_flow": null,
       "grid_area": null,
       "grid_auto_columns": null,
       "grid_auto_flow": null,
       "grid_auto_rows": null,
       "grid_column": null,
       "grid_gap": null,
       "grid_row": null,
       "grid_template_areas": null,
       "grid_template_columns": null,
       "grid_template_rows": null,
       "height": null,
       "justify_content": null,
       "justify_items": null,
       "left": null,
       "margin": null,
       "max_height": null,
       "max_width": null,
       "min_height": null,
       "min_width": null,
       "object_fit": null,
       "object_position": null,
       "order": null,
       "overflow": null,
       "overflow_x": null,
       "overflow_y": null,
       "padding": null,
       "right": null,
       "top": null,
       "visibility": null,
       "width": null
      }
     },
     "ef0cf08351914d019646299b66570ba1": {
      "model_module": "@jupyter-widgets/base",
      "model_module_version": "1.2.0",
      "model_name": "LayoutModel",
      "state": {
       "_model_module": "@jupyter-widgets/base",
       "_model_module_version": "1.2.0",
       "_model_name": "LayoutModel",
       "_view_count": null,
       "_view_module": "@jupyter-widgets/base",
       "_view_module_version": "1.2.0",
       "_view_name": "LayoutView",
       "align_content": null,
       "align_items": null,
       "align_self": null,
       "border": null,
       "bottom": null,
       "display": null,
       "flex": null,
       "flex_flow": null,
       "grid_area": null,
       "grid_auto_columns": null,
       "grid_auto_flow": null,
       "grid_auto_rows": null,
       "grid_column": null,
       "grid_gap": null,
       "grid_row": null,
       "grid_template_areas": null,
       "grid_template_columns": null,
       "grid_template_rows": null,
       "height": null,
       "justify_content": null,
       "justify_items": null,
       "left": null,
       "margin": null,
       "max_height": null,
       "max_width": null,
       "min_height": null,
       "min_width": null,
       "object_fit": null,
       "object_position": null,
       "order": null,
       "overflow": null,
       "overflow_x": null,
       "overflow_y": null,
       "padding": null,
       "right": null,
       "top": null,
       "visibility": null,
       "width": null
      }
     },
     "ef3e6731ed654a599fefa128b7c8648e": {
      "model_module": "@jupyter-widgets/controls",
      "model_module_version": "1.5.0",
      "model_name": "FloatProgressModel",
      "state": {
       "_dom_classes": [],
       "_model_module": "@jupyter-widgets/controls",
       "_model_module_version": "1.5.0",
       "_model_name": "FloatProgressModel",
       "_view_count": null,
       "_view_module": "@jupyter-widgets/controls",
       "_view_module_version": "1.5.0",
       "_view_name": "ProgressView",
       "bar_style": "success",
       "description": "",
       "description_tooltip": null,
       "layout": "IPY_MODEL_a6181fd66ec74a7eaa2be8fa54630c45",
       "max": 444241258,
       "min": 0,
       "orientation": "horizontal",
       "style": "IPY_MODEL_d27c345d046a4db4be7c9127243ee17f",
       "value": 444241258
      }
     },
     "f00dc28994204f69b5107d004daf9959": {
      "model_module": "@jupyter-widgets/controls",
      "model_module_version": "1.5.0",
      "model_name": "DescriptionStyleModel",
      "state": {
       "_model_module": "@jupyter-widgets/controls",
       "_model_module_version": "1.5.0",
       "_model_name": "DescriptionStyleModel",
       "_view_count": null,
       "_view_module": "@jupyter-widgets/base",
       "_view_module_version": "1.2.0",
       "_view_name": "StyleView",
       "description_width": ""
      }
     },
     "f02ffe8d0070467eb1ff19561e6754cd": {
      "model_module": "@jupyter-widgets/controls",
      "model_module_version": "1.5.0",
      "model_name": "DescriptionStyleModel",
      "state": {
       "_model_module": "@jupyter-widgets/controls",
       "_model_module_version": "1.5.0",
       "_model_name": "DescriptionStyleModel",
       "_view_count": null,
       "_view_module": "@jupyter-widgets/base",
       "_view_module_version": "1.2.0",
       "_view_name": "StyleView",
       "description_width": ""
      }
     },
     "f04183e17dae4ba0a5b148d45b8d9118": {
      "model_module": "@jupyter-widgets/controls",
      "model_module_version": "1.5.0",
      "model_name": "DescriptionStyleModel",
      "state": {
       "_model_module": "@jupyter-widgets/controls",
       "_model_module_version": "1.5.0",
       "_model_name": "DescriptionStyleModel",
       "_view_count": null,
       "_view_module": "@jupyter-widgets/base",
       "_view_module_version": "1.2.0",
       "_view_name": "StyleView",
       "description_width": ""
      }
     },
     "f052135abbda4bb79b99c66a0460723b": {
      "model_module": "@jupyter-widgets/controls",
      "model_module_version": "1.5.0",
      "model_name": "DescriptionStyleModel",
      "state": {
       "_model_module": "@jupyter-widgets/controls",
       "_model_module_version": "1.5.0",
       "_model_name": "DescriptionStyleModel",
       "_view_count": null,
       "_view_module": "@jupyter-widgets/base",
       "_view_module_version": "1.2.0",
       "_view_name": "StyleView",
       "description_width": ""
      }
     },
     "f243897ad41443e8be37c3a145e2c9ff": {
      "model_module": "@jupyter-widgets/controls",
      "model_module_version": "1.5.0",
      "model_name": "HTMLModel",
      "state": {
       "_dom_classes": [],
       "_model_module": "@jupyter-widgets/controls",
       "_model_module_version": "1.5.0",
       "_model_name": "HTMLModel",
       "_view_count": null,
       "_view_module": "@jupyter-widgets/controls",
       "_view_module_version": "1.5.0",
       "_view_name": "HTMLView",
       "description": "",
       "description_tooltip": null,
       "layout": "IPY_MODEL_4c2077c85a8e449eb7876274732d9f4c",
       "placeholder": "​",
       "style": "IPY_MODEL_2a9086d8d1bc403b9d612ecf582f9c8f",
       "value": "Generating validation split: 100%"
      }
     },
     "f3e6235648db458683f934dc59ca8bde": {
      "model_module": "@jupyter-widgets/base",
      "model_module_version": "1.2.0",
      "model_name": "LayoutModel",
      "state": {
       "_model_module": "@jupyter-widgets/base",
       "_model_module_version": "1.2.0",
       "_model_name": "LayoutModel",
       "_view_count": null,
       "_view_module": "@jupyter-widgets/base",
       "_view_module_version": "1.2.0",
       "_view_name": "LayoutView",
       "align_content": null,
       "align_items": null,
       "align_self": null,
       "border": null,
       "bottom": null,
       "display": null,
       "flex": null,
       "flex_flow": null,
       "grid_area": null,
       "grid_auto_columns": null,
       "grid_auto_flow": null,
       "grid_auto_rows": null,
       "grid_column": null,
       "grid_gap": null,
       "grid_row": null,
       "grid_template_areas": null,
       "grid_template_columns": null,
       "grid_template_rows": null,
       "height": null,
       "justify_content": null,
       "justify_items": null,
       "left": null,
       "margin": null,
       "max_height": null,
       "max_width": null,
       "min_height": null,
       "min_width": null,
       "object_fit": null,
       "object_position": null,
       "order": null,
       "overflow": null,
       "overflow_x": null,
       "overflow_y": null,
       "padding": null,
       "right": null,
       "top": null,
       "visibility": null,
       "width": null
      }
     },
     "f4f2773bc37648518e6117195398db34": {
      "model_module": "@jupyter-widgets/base",
      "model_module_version": "1.2.0",
      "model_name": "LayoutModel",
      "state": {
       "_model_module": "@jupyter-widgets/base",
       "_model_module_version": "1.2.0",
       "_model_name": "LayoutModel",
       "_view_count": null,
       "_view_module": "@jupyter-widgets/base",
       "_view_module_version": "1.2.0",
       "_view_name": "LayoutView",
       "align_content": null,
       "align_items": null,
       "align_self": null,
       "border": null,
       "bottom": null,
       "display": null,
       "flex": null,
       "flex_flow": null,
       "grid_area": null,
       "grid_auto_columns": null,
       "grid_auto_flow": null,
       "grid_auto_rows": null,
       "grid_column": null,
       "grid_gap": null,
       "grid_row": null,
       "grid_template_areas": null,
       "grid_template_columns": null,
       "grid_template_rows": null,
       "height": null,
       "justify_content": null,
       "justify_items": null,
       "left": null,
       "margin": null,
       "max_height": null,
       "max_width": null,
       "min_height": null,
       "min_width": null,
       "object_fit": null,
       "object_position": null,
       "order": null,
       "overflow": null,
       "overflow_x": null,
       "overflow_y": null,
       "padding": null,
       "right": null,
       "top": null,
       "visibility": null,
       "width": null
      }
     },
     "f6cc33d9d4ea436699db5eaa8b1f0510": {
      "model_module": "@jupyter-widgets/controls",
      "model_module_version": "1.5.0",
      "model_name": "DescriptionStyleModel",
      "state": {
       "_model_module": "@jupyter-widgets/controls",
       "_model_module_version": "1.5.0",
       "_model_name": "DescriptionStyleModel",
       "_view_count": null,
       "_view_module": "@jupyter-widgets/base",
       "_view_module_version": "1.2.0",
       "_view_name": "StyleView",
       "description_width": ""
      }
     },
     "f7ea24deadb54f6d902ef741ef546d15": {
      "model_module": "@jupyter-widgets/base",
      "model_module_version": "1.2.0",
      "model_name": "LayoutModel",
      "state": {
       "_model_module": "@jupyter-widgets/base",
       "_model_module_version": "1.2.0",
       "_model_name": "LayoutModel",
       "_view_count": null,
       "_view_module": "@jupyter-widgets/base",
       "_view_module_version": "1.2.0",
       "_view_name": "LayoutView",
       "align_content": null,
       "align_items": null,
       "align_self": null,
       "border": null,
       "bottom": null,
       "display": null,
       "flex": null,
       "flex_flow": null,
       "grid_area": null,
       "grid_auto_columns": null,
       "grid_auto_flow": null,
       "grid_auto_rows": null,
       "grid_column": null,
       "grid_gap": null,
       "grid_row": null,
       "grid_template_areas": null,
       "grid_template_columns": null,
       "grid_template_rows": null,
       "height": null,
       "justify_content": null,
       "justify_items": null,
       "left": null,
       "margin": null,
       "max_height": null,
       "max_width": null,
       "min_height": null,
       "min_width": null,
       "object_fit": null,
       "object_position": null,
       "order": null,
       "overflow": null,
       "overflow_x": null,
       "overflow_y": null,
       "padding": null,
       "right": null,
       "top": null,
       "visibility": null,
       "width": null
      }
     },
     "f907629a4bbf476ca668831bbfcbdd66": {
      "model_module": "@jupyter-widgets/base",
      "model_module_version": "1.2.0",
      "model_name": "LayoutModel",
      "state": {
       "_model_module": "@jupyter-widgets/base",
       "_model_module_version": "1.2.0",
       "_model_name": "LayoutModel",
       "_view_count": null,
       "_view_module": "@jupyter-widgets/base",
       "_view_module_version": "1.2.0",
       "_view_name": "LayoutView",
       "align_content": null,
       "align_items": null,
       "align_self": null,
       "border": null,
       "bottom": null,
       "display": null,
       "flex": null,
       "flex_flow": null,
       "grid_area": null,
       "grid_auto_columns": null,
       "grid_auto_flow": null,
       "grid_auto_rows": null,
       "grid_column": null,
       "grid_gap": null,
       "grid_row": null,
       "grid_template_areas": null,
       "grid_template_columns": null,
       "grid_template_rows": null,
       "height": null,
       "justify_content": null,
       "justify_items": null,
       "left": null,
       "margin": null,
       "max_height": null,
       "max_width": null,
       "min_height": null,
       "min_width": null,
       "object_fit": null,
       "object_position": null,
       "order": null,
       "overflow": null,
       "overflow_x": null,
       "overflow_y": null,
       "padding": null,
       "right": null,
       "top": null,
       "visibility": null,
       "width": null
      }
     },
     "f9616ee8ed22494fbbcbb2435d93bc3d": {
      "model_module": "@jupyter-widgets/controls",
      "model_module_version": "1.5.0",
      "model_name": "HBoxModel",
      "state": {
       "_dom_classes": [],
       "_model_module": "@jupyter-widgets/controls",
       "_model_module_version": "1.5.0",
       "_model_name": "HBoxModel",
       "_view_count": null,
       "_view_module": "@jupyter-widgets/controls",
       "_view_module_version": "1.5.0",
       "_view_name": "HBoxView",
       "box_style": "",
       "children": [
        "IPY_MODEL_63155f3fb8f74b28839b5a7f55297445",
        "IPY_MODEL_4a6bd2e8da7a4e05a6bb5ec4f16b7861",
        "IPY_MODEL_ddfb5fca0d3045aa8d4b0e93e15980ee"
       ],
       "layout": "IPY_MODEL_6dacd81f571b4e8c89fdc8962f443e52"
      }
     },
     "fa6f3e71e348424a844a21c24cd5b535": {
      "model_module": "@jupyter-widgets/base",
      "model_module_version": "1.2.0",
      "model_name": "LayoutModel",
      "state": {
       "_model_module": "@jupyter-widgets/base",
       "_model_module_version": "1.2.0",
       "_model_name": "LayoutModel",
       "_view_count": null,
       "_view_module": "@jupyter-widgets/base",
       "_view_module_version": "1.2.0",
       "_view_name": "LayoutView",
       "align_content": null,
       "align_items": null,
       "align_self": null,
       "border": null,
       "bottom": null,
       "display": null,
       "flex": null,
       "flex_flow": null,
       "grid_area": null,
       "grid_auto_columns": null,
       "grid_auto_flow": null,
       "grid_auto_rows": null,
       "grid_column": null,
       "grid_gap": null,
       "grid_row": null,
       "grid_template_areas": null,
       "grid_template_columns": null,
       "grid_template_rows": null,
       "height": null,
       "justify_content": null,
       "justify_items": null,
       "left": null,
       "margin": null,
       "max_height": null,
       "max_width": null,
       "min_height": null,
       "min_width": null,
       "object_fit": null,
       "object_position": null,
       "order": null,
       "overflow": null,
       "overflow_x": null,
       "overflow_y": null,
       "padding": null,
       "right": null,
       "top": null,
       "visibility": null,
       "width": null
      }
     },
     "fad7e8ee48884175a49b2583d8073cfe": {
      "model_module": "@jupyter-widgets/base",
      "model_module_version": "1.2.0",
      "model_name": "LayoutModel",
      "state": {
       "_model_module": "@jupyter-widgets/base",
       "_model_module_version": "1.2.0",
       "_model_name": "LayoutModel",
       "_view_count": null,
       "_view_module": "@jupyter-widgets/base",
       "_view_module_version": "1.2.0",
       "_view_name": "LayoutView",
       "align_content": null,
       "align_items": null,
       "align_self": null,
       "border": null,
       "bottom": null,
       "display": null,
       "flex": null,
       "flex_flow": null,
       "grid_area": null,
       "grid_auto_columns": null,
       "grid_auto_flow": null,
       "grid_auto_rows": null,
       "grid_column": null,
       "grid_gap": null,
       "grid_row": null,
       "grid_template_areas": null,
       "grid_template_columns": null,
       "grid_template_rows": null,
       "height": null,
       "justify_content": null,
       "justify_items": null,
       "left": null,
       "margin": null,
       "max_height": null,
       "max_width": null,
       "min_height": null,
       "min_width": null,
       "object_fit": null,
       "object_position": null,
       "order": null,
       "overflow": null,
       "overflow_x": null,
       "overflow_y": null,
       "padding": null,
       "right": null,
       "top": null,
       "visibility": null,
       "width": null
      }
     },
     "fbe2e7a7fe2d43b6af2b05e1882007b5": {
      "model_module": "@jupyter-widgets/controls",
      "model_module_version": "1.5.0",
      "model_name": "ProgressStyleModel",
      "state": {
       "_model_module": "@jupyter-widgets/controls",
       "_model_module_version": "1.5.0",
       "_model_name": "ProgressStyleModel",
       "_view_count": null,
       "_view_module": "@jupyter-widgets/base",
       "_view_module_version": "1.2.0",
       "_view_name": "StyleView",
       "bar_color": null,
       "description_width": ""
      }
     },
     "fcbe0ba492124535892d5ae35c752127": {
      "model_module": "@jupyter-widgets/base",
      "model_module_version": "1.2.0",
      "model_name": "LayoutModel",
      "state": {
       "_model_module": "@jupyter-widgets/base",
       "_model_module_version": "1.2.0",
       "_model_name": "LayoutModel",
       "_view_count": null,
       "_view_module": "@jupyter-widgets/base",
       "_view_module_version": "1.2.0",
       "_view_name": "LayoutView",
       "align_content": null,
       "align_items": null,
       "align_self": null,
       "border": null,
       "bottom": null,
       "display": null,
       "flex": null,
       "flex_flow": null,
       "grid_area": null,
       "grid_auto_columns": null,
       "grid_auto_flow": null,
       "grid_auto_rows": null,
       "grid_column": null,
       "grid_gap": null,
       "grid_row": null,
       "grid_template_areas": null,
       "grid_template_columns": null,
       "grid_template_rows": null,
       "height": null,
       "justify_content": null,
       "justify_items": null,
       "left": null,
       "margin": null,
       "max_height": null,
       "max_width": null,
       "min_height": null,
       "min_width": null,
       "object_fit": null,
       "object_position": null,
       "order": null,
       "overflow": null,
       "overflow_x": null,
       "overflow_y": null,
       "padding": null,
       "right": null,
       "top": null,
       "visibility": null,
       "width": null
      }
     },
     "fd362b6bd4bd4bf88ae1438a301baba6": {
      "model_module": "@jupyter-widgets/base",
      "model_module_version": "1.2.0",
      "model_name": "LayoutModel",
      "state": {
       "_model_module": "@jupyter-widgets/base",
       "_model_module_version": "1.2.0",
       "_model_name": "LayoutModel",
       "_view_count": null,
       "_view_module": "@jupyter-widgets/base",
       "_view_module_version": "1.2.0",
       "_view_name": "LayoutView",
       "align_content": null,
       "align_items": null,
       "align_self": null,
       "border": null,
       "bottom": null,
       "display": null,
       "flex": null,
       "flex_flow": null,
       "grid_area": null,
       "grid_auto_columns": null,
       "grid_auto_flow": null,
       "grid_auto_rows": null,
       "grid_column": null,
       "grid_gap": null,
       "grid_row": null,
       "grid_template_areas": null,
       "grid_template_columns": null,
       "grid_template_rows": null,
       "height": null,
       "justify_content": null,
       "justify_items": null,
       "left": null,
       "margin": null,
       "max_height": null,
       "max_width": null,
       "min_height": null,
       "min_width": null,
       "object_fit": null,
       "object_position": null,
       "order": null,
       "overflow": null,
       "overflow_x": null,
       "overflow_y": null,
       "padding": null,
       "right": null,
       "top": null,
       "visibility": null,
       "width": null
      }
     },
     "fe13f29250ee42908078e4ccb7b4ac9f": {
      "model_module": "@jupyter-widgets/controls",
      "model_module_version": "1.5.0",
      "model_name": "DescriptionStyleModel",
      "state": {
       "_model_module": "@jupyter-widgets/controls",
       "_model_module_version": "1.5.0",
       "_model_name": "DescriptionStyleModel",
       "_view_count": null,
       "_view_module": "@jupyter-widgets/base",
       "_view_module_version": "1.2.0",
       "_view_name": "StyleView",
       "description_width": ""
      }
     },
     "fea923ed724a46ed8d96ce5bf3ba24b8": {
      "model_module": "@jupyter-widgets/controls",
      "model_module_version": "1.5.0",
      "model_name": "DescriptionStyleModel",
      "state": {
       "_model_module": "@jupyter-widgets/controls",
       "_model_module_version": "1.5.0",
       "_model_name": "DescriptionStyleModel",
       "_view_count": null,
       "_view_module": "@jupyter-widgets/base",
       "_view_module_version": "1.2.0",
       "_view_name": "StyleView",
       "description_width": ""
      }
     }
    }
   },
   "state": {}
  }
 },
 "nbformat": 4,
 "nbformat_minor": 4
}
